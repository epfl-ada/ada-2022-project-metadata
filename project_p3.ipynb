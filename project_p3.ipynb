{
 "cells": [
  {
   "cell_type": "code",
   "execution_count": 255,
   "metadata": {},
   "outputs": [],
   "source": [
    "import numpy as np\n",
    "import pandas as pd\n",
    "import matplotlib.pyplot as plt\n",
    "%matplotlib inline\n",
    "import seaborn as sns\n",
    "import statsmodels.formula.api as smf\n",
    "import scipy.stats as stats\n",
    "from matplotlib.offsetbox import AnchoredText"
   ]
  },
  {
   "cell_type": "code",
   "execution_count": 256,
   "metadata": {},
   "outputs": [],
   "source": [
    "DATA_FOLDER = 'data/'\n",
    "WIKISPEEDIA_PATHS = DATA_FOLDER + \"wikispeedia_paths-and-graph/\"\n",
    "\n",
    "ARTICLES = WIKISPEEDIA_PATHS + \"articles.tsv\"\n",
    "CATEGORIES = WIKISPEEDIA_PATHS + \"categories.tsv\"\n",
    "LINKS = WIKISPEEDIA_PATHS + \"links.tsv\"\n",
    "PATHS_FINISHED = WIKISPEEDIA_PATHS + \"paths_finished.tsv\"\n",
    "PATHS_UNFINISHED = WIKISPEEDIA_PATHS + \"paths_unfinished.tsv\"\n",
    "SHORTEST_PATHS = WIKISPEEDIA_PATHS + \"shortest-path-distance-matrix.txt\"\n",
    "FEMALES = DATA_FOLDER + \"listwomen.txt\"\n",
    "ALL_PATHS = DATA_FOLDER + \"all_paths_overview.csv\"\n",
    "PEOPLE_OVERVIEW = DATA_FOLDER + \"people_overview.csv\""
   ]
  },
  {
   "cell_type": "code",
   "execution_count": 257,
   "metadata": {},
   "outputs": [],
   "source": [
    "articles = pd.read_csv(ARTICLES, sep='\\t', names=[\"article\"], skiprows = 12)\n",
    "categories = pd.read_csv(CATEGORIES, sep='\\t', names=[\"article\", \"category\"], skiprows = 13)\n",
    "links = pd.read_csv(LINKS, sep='\\t', names=[\"link_source\", \"link_target\"], skiprows = 12)\n",
    "paths_finished = pd.read_csv(PATHS_FINISHED, sep='\\t', names=[\"hashedIpAddress\", \"timestamp\", \n",
    "                                                              \"durationInSec\", \"path\", \"rating\"], skiprows = 15)\n",
    "paths_unfinished = pd.read_csv(PATHS_UNFINISHED, sep='\\t', names=[\"hashedIpAddress\", \"timestamp\", \n",
    "                                                                  \"durationInSec\", \"path\", \"target\", \"type\"], skiprows = 17)\n",
    "shortest_distance_text = np.loadtxt(SHORTEST_PATHS, dtype=str, comments=\"#\", unpack=False)\n",
    "female = pd.read_csv(FEMALES, sep=',', names=[\"name\", \"women_label\"], skiprows = 1)\n",
    "all_paths_overview = pd.read_csv(ALL_PATHS).drop(columns = ['Unnamed: 0'])\n",
    "people_overview = pd.read_csv(PEOPLE_OVERVIEW).drop(columns = ['Unnamed: 0'])"
   ]
  },
  {
   "cell_type": "markdown",
   "metadata": {},
   "source": [
    "Choose subsets of all_paths_overview as the data points. "
   ]
  },
  {
   "cell_type": "code",
   "execution_count": 258,
   "metadata": {},
   "outputs": [
    {
     "data": {
      "text/html": [
       "<div>\n",
       "<style scoped>\n",
       "    .dataframe tbody tr th:only-of-type {\n",
       "        vertical-align: middle;\n",
       "    }\n",
       "\n",
       "    .dataframe tbody tr th {\n",
       "        vertical-align: top;\n",
       "    }\n",
       "\n",
       "    .dataframe thead th {\n",
       "        text-align: right;\n",
       "    }\n",
       "</style>\n",
       "<table border=\"1\" class=\"dataframe\">\n",
       "  <thead>\n",
       "    <tr style=\"text-align: right;\">\n",
       "      <th></th>\n",
       "      <th>name</th>\n",
       "      <th>category</th>\n",
       "      <th>gender</th>\n",
       "      <th>nr_link_out</th>\n",
       "      <th>nr_link_in</th>\n",
       "      <th>tot_target_count</th>\n",
       "      <th>unf_target_count</th>\n",
       "      <th>fin_target_count</th>\n",
       "      <th>succ_rate</th>\n",
       "    </tr>\n",
       "  </thead>\n",
       "  <tbody>\n",
       "    <tr>\n",
       "      <th>0</th>\n",
       "      <td>Abel_Tasman</td>\n",
       "      <td>Geographers_and_explorers</td>\n",
       "      <td>male</td>\n",
       "      <td>14</td>\n",
       "      <td>5</td>\n",
       "      <td>9.0</td>\n",
       "      <td>2.0</td>\n",
       "      <td>7.0</td>\n",
       "      <td>0.777778</td>\n",
       "    </tr>\n",
       "    <tr>\n",
       "      <th>1</th>\n",
       "      <td>Abraham_Lincoln</td>\n",
       "      <td>USA_Presidents</td>\n",
       "      <td>male</td>\n",
       "      <td>35</td>\n",
       "      <td>62</td>\n",
       "      <td>37.0</td>\n",
       "      <td>2.0</td>\n",
       "      <td>35.0</td>\n",
       "      <td>0.945946</td>\n",
       "    </tr>\n",
       "    <tr>\n",
       "      <th>2</th>\n",
       "      <td>Adam_Smith</td>\n",
       "      <td>Historical_figures</td>\n",
       "      <td>male</td>\n",
       "      <td>27</td>\n",
       "      <td>38</td>\n",
       "      <td>11.0</td>\n",
       "      <td>2.0</td>\n",
       "      <td>9.0</td>\n",
       "      <td>0.818182</td>\n",
       "    </tr>\n",
       "    <tr>\n",
       "      <th>3</th>\n",
       "      <td>Adolf_Hitler</td>\n",
       "      <td>Political_People</td>\n",
       "      <td>male</td>\n",
       "      <td>78</td>\n",
       "      <td>109</td>\n",
       "      <td>697.0</td>\n",
       "      <td>94.0</td>\n",
       "      <td>603.0</td>\n",
       "      <td>0.865136</td>\n",
       "    </tr>\n",
       "    <tr>\n",
       "      <th>4</th>\n",
       "      <td>Agamemnon</td>\n",
       "      <td>Historical_figures</td>\n",
       "      <td>male</td>\n",
       "      <td>11</td>\n",
       "      <td>9</td>\n",
       "      <td>26.0</td>\n",
       "      <td>7.0</td>\n",
       "      <td>19.0</td>\n",
       "      <td>0.730769</td>\n",
       "    </tr>\n",
       "    <tr>\n",
       "      <th>...</th>\n",
       "      <td>...</td>\n",
       "      <td>...</td>\n",
       "      <td>...</td>\n",
       "      <td>...</td>\n",
       "      <td>...</td>\n",
       "      <td>...</td>\n",
       "      <td>...</td>\n",
       "      <td>...</td>\n",
       "      <td>...</td>\n",
       "    </tr>\n",
       "    <tr>\n",
       "      <th>616</th>\n",
       "      <td>Zhang_Qian</td>\n",
       "      <td>Historical_figures</td>\n",
       "      <td>male</td>\n",
       "      <td>19</td>\n",
       "      <td>3</td>\n",
       "      <td>1.0</td>\n",
       "      <td>1.0</td>\n",
       "      <td>NaN</td>\n",
       "      <td>NaN</td>\n",
       "    </tr>\n",
       "    <tr>\n",
       "      <th>617</th>\n",
       "      <td>Zheng_He</td>\n",
       "      <td>Historical_figures</td>\n",
       "      <td>male</td>\n",
       "      <td>39</td>\n",
       "      <td>8</td>\n",
       "      <td>7.0</td>\n",
       "      <td>2.0</td>\n",
       "      <td>5.0</td>\n",
       "      <td>0.714286</td>\n",
       "    </tr>\n",
       "    <tr>\n",
       "      <th>618</th>\n",
       "      <td>Ziad_Jarrah</td>\n",
       "      <td>Historical_figures</td>\n",
       "      <td>male</td>\n",
       "      <td>25</td>\n",
       "      <td>1</td>\n",
       "      <td>15.0</td>\n",
       "      <td>10.0</td>\n",
       "      <td>5.0</td>\n",
       "      <td>0.333333</td>\n",
       "    </tr>\n",
       "    <tr>\n",
       "      <th>619</th>\n",
       "      <td>Zionism</td>\n",
       "      <td>Political_People</td>\n",
       "      <td>male</td>\n",
       "      <td>74</td>\n",
       "      <td>25</td>\n",
       "      <td>12.0</td>\n",
       "      <td>2.0</td>\n",
       "      <td>10.0</td>\n",
       "      <td>0.833333</td>\n",
       "    </tr>\n",
       "    <tr>\n",
       "      <th>620</th>\n",
       "      <td>Zoroaster</td>\n",
       "      <td>Religious_figures_and_leaders</td>\n",
       "      <td>male</td>\n",
       "      <td>28</td>\n",
       "      <td>9</td>\n",
       "      <td>5.0</td>\n",
       "      <td>1.0</td>\n",
       "      <td>4.0</td>\n",
       "      <td>0.800000</td>\n",
       "    </tr>\n",
       "  </tbody>\n",
       "</table>\n",
       "<p>621 rows × 9 columns</p>\n",
       "</div>"
      ],
      "text/plain": [
       "                name                       category gender  nr_link_out  \\\n",
       "0        Abel_Tasman      Geographers_and_explorers   male           14   \n",
       "1    Abraham_Lincoln                 USA_Presidents   male           35   \n",
       "2         Adam_Smith             Historical_figures   male           27   \n",
       "3       Adolf_Hitler               Political_People   male           78   \n",
       "4          Agamemnon             Historical_figures   male           11   \n",
       "..               ...                            ...    ...          ...   \n",
       "616       Zhang_Qian             Historical_figures   male           19   \n",
       "617         Zheng_He             Historical_figures   male           39   \n",
       "618      Ziad_Jarrah             Historical_figures   male           25   \n",
       "619          Zionism               Political_People   male           74   \n",
       "620        Zoroaster  Religious_figures_and_leaders   male           28   \n",
       "\n",
       "     nr_link_in  tot_target_count  unf_target_count  fin_target_count  \\\n",
       "0             5               9.0               2.0               7.0   \n",
       "1            62              37.0               2.0              35.0   \n",
       "2            38              11.0               2.0               9.0   \n",
       "3           109             697.0              94.0             603.0   \n",
       "4             9              26.0               7.0              19.0   \n",
       "..          ...               ...               ...               ...   \n",
       "616           3               1.0               1.0               NaN   \n",
       "617           8               7.0               2.0               5.0   \n",
       "618           1              15.0              10.0               5.0   \n",
       "619          25              12.0               2.0              10.0   \n",
       "620           9               5.0               1.0               4.0   \n",
       "\n",
       "     succ_rate  \n",
       "0     0.777778  \n",
       "1     0.945946  \n",
       "2     0.818182  \n",
       "3     0.865136  \n",
       "4     0.730769  \n",
       "..         ...  \n",
       "616        NaN  \n",
       "617   0.714286  \n",
       "618   0.333333  \n",
       "619   0.833333  \n",
       "620   0.800000  \n",
       "\n",
       "[621 rows x 9 columns]"
      ]
     },
     "execution_count": 258,
     "metadata": {},
     "output_type": "execute_result"
    }
   ],
   "source": [
    "people_overview"
   ]
  },
  {
   "cell_type": "code",
   "execution_count": 259,
   "metadata": {},
   "outputs": [],
   "source": [
    "# all paths with people as targets\n",
    "\n",
    "people_target_paths = all_paths_overview.merge(people_overview[['name', 'category', 'gender']], \n",
    "                                          how = \"inner\", left_on = \"target\", right_on = \"name\")\n",
    "\n",
    "women_target_paths = people_target_paths[people_target_paths['gender'] == \"female\"]\n",
    "men_target_paths = people_target_paths[people_target_paths['gender'] == \"male\"]"
   ]
  },
  {
   "cell_type": "code",
   "execution_count": 260,
   "metadata": {},
   "outputs": [],
   "source": [
    "# minimum requirement of matching: same source article\n",
    "import networkx as nx\n",
    "\n",
    "def matching():\n",
    "    # minimum 1) match on source\n",
    "    # 2) match on source and same shortest path link\n",
    "    # 3) match on category and above\n",
    "    # 4) match on nr_link_in \n",
    "\n",
    "    finished = [nx.Graph(),nx.Graph(),nx.Graph(),nx.Graph()]\n",
    "    all_paths = [nx.Graph(),nx.Graph(),nx.Graph(),nx.Graph()]\n",
    "\n",
    "\n",
    "    for control_id, control_row in men_target_paths.iterrows():\n",
    "        for treatment_id, treatment_row in women_target_paths.iterrows():\n",
    "            if (control_row['finished'] == True and treatment_row['finished']):\n",
    "                # Adds an edge only if the individuals have the same race\n",
    "                if (control_row['source'] == treatment_row['source']):\n",
    "                    # similarity = get_similarity(control_row['Propensity_score'],\n",
    "                                                # treatment_row['Propensity_score'])\n",
    "                    finished[0].add_weighted_edges_from([(control_id, treatment_id, 1)])\n",
    "                    \n",
    "                    if (control_row['shortest_path_length'] == treatment_row['shortest_path_length']):\n",
    "                        finished[1].add_weighted_edges_from([(control_id, treatment_id, 1)])\n",
    "\n",
    "                        if (control_row['category'] == treatment_row['category']):\n",
    "                            finished[2].add_weighted_edges_from([(control_id, treatment_id, 1)])\n",
    "            else:\n",
    "                # Adds an edge only if the individuals have the same race\n",
    "                if (control_row['source'] == treatment_row['source']):\n",
    "                    # similarity = get_similarity(control_row['Propensity_score'],\n",
    "                                                # treatment_row['Propensity_score'])\n",
    "                    all_paths[0].add_weighted_edges_from([(control_id, treatment_id, 1)])\n",
    "                    \n",
    "                    if (control_row['shortest_path_length'] == treatment_row['shortest_path_length']):\n",
    "                        all_paths[1].add_weighted_edges_from([(control_id, treatment_id, 1)])\n",
    "\n",
    "                        if (control_row['category'] == treatment_row['category']):\n",
    "                            all_paths[2].add_weighted_edges_from([(control_id, treatment_id, 1)])\n",
    "\n",
    "    finished_dfs = []\n",
    "    for g in finished:\n",
    "        matching = nx.max_weight_matching(g)\n",
    "        matched = [i[0] for i in list(matching)] + [i[1] for i in list(matching)]\n",
    "        balanced_df_all = people_target_paths.iloc[matched]\n",
    "        finished_dfs.append(balanced_df_all)\n",
    "    \n",
    "\n",
    "    dfs = []\n",
    "    for g in all_paths:\n",
    "        matching = nx.max_weight_matching(g)\n",
    "        matched = [i[0] for i in list(matching)] + [i[1] for i in list(matching)]\n",
    "        balanced_df_all = people_target_paths.iloc[matched]\n",
    "        dfs.append(balanced_df_all)\n",
    "\n",
    "    return finished_dfs, dfs"
   ]
  },
  {
   "cell_type": "code",
   "execution_count": 261,
   "metadata": {},
   "outputs": [],
   "source": [
    "# finished_dfs, dfs = matching()\n",
    "# source_matching = dfs[0]\n",
    "# source_matching.to_csv(\"./data/source_matched.csv\")\n",
    "# fin_source_matching = finished_dfs[0]\n",
    "# fin_source_matching.to_csv(\"./data/fin_source_matched.csv\")\n",
    "# src_shp_match = dfs[1]\n",
    "# src_shp_match.to_csv(\"./data/src_and_shp_matched.csv\")\n",
    "# fin_src_shp_match = finished_dfs[1]\n",
    "# fin_src_shp_match.to_csv(\"./data/fin_src_and_shp_matched.csv\")\n",
    "# cat_and_rest = dfs[2]\n",
    "# cat_and_rest.to_csv(\"./data/cat_and_rest_matched.csv\")\n",
    "# fin_cat_and_rest = finished_dfs[2]\n",
    "# fin_cat_and_rest.to_csv(\"./data/fin_cat_and_rest_matched.csv\")"
   ]
  },
  {
   "attachments": {},
   "cell_type": "markdown",
   "metadata": {},
   "source": [
    "Other matching ideas:\n",
    "- create groups of categories\n",
    "- create groups of links_in"
   ]
  },
  {
   "cell_type": "code",
   "execution_count": 469,
   "metadata": {},
   "outputs": [],
   "source": [
    "src_match = pd.read_csv(DATA_FOLDER+\"source_matched.csv\").drop(columns = ['Unnamed: 0'])\n",
    "shpath_match = pd.read_csv(DATA_FOLDER+\"src_and_shp_matched.csv\").drop(columns = ['Unnamed: 0'])\n",
    "cat_match = pd.read_csv(DATA_FOLDER+\"cat_and_rest_matched.csv\").drop(columns = ['Unnamed: 0'])\n",
    "fin_src_match = pd.read_csv(DATA_FOLDER+\"fin_source_matched.csv\").drop(columns = ['Unnamed: 0'])\n",
    "fin_shpath_match = pd.read_csv(DATA_FOLDER+\"fin_src_and_shp_matched.csv\").drop(columns = ['Unnamed: 0'])\n",
    "fin_cat_match = pd.read_csv(DATA_FOLDER+\"fin_cat_and_rest_matched.csv\").drop(columns = ['Unnamed: 0'])\n"
   ]
  },
  {
   "cell_type": "code",
   "execution_count": 470,
   "metadata": {},
   "outputs": [],
   "source": [
    "def plot_2_dist(column, dataframe,bins = np.array([]), mytitle =\"\", myxlabel = \"\", myylabel=\"\", ylog=False):\n",
    "    female = dataframe[dataframe[\"gender\"]== \"female\"][column]\n",
    "    male = dataframe[dataframe[\"gender\"]== \"male\"][column]\n",
    "    # let's first check the distribution of both the male and the female data available\n",
    "    if bins.size == 0:\n",
    "        bins = np.arange(min(female)-0.5, max(female) + 0.5, 1)\n",
    "    plt.hist(female, \n",
    "            color = 'tab:red', edgecolor = 'black', linewidth = 0.5, alpha=0.8, \n",
    "            bins= bins, label =\"female\")\n",
    "    plt.hist(male, \n",
    "            color = 'tab:blue', edgecolor = 'black', linewidth = 0.5, alpha=0.8,\n",
    "            bins= bins, label =\"male\")\n",
    "\n",
    "    plt.xlabel(myxlabel)\n",
    "    plt.ylabel(myylabel)\n",
    "    if ylog:\n",
    "        plt.yscale('log')\n",
    "    plt.title(mytitle)\n",
    "    plt.axvline(np.median(female), color=\"red\")\n",
    "    plt.axvline(np.median(male),color=\"blue\")\n",
    "    plt.legend()\n",
    "    plt.show()"
   ]
  },
  {
   "cell_type": "code",
   "execution_count": 471,
   "metadata": {},
   "outputs": [],
   "source": [
    "def quantile_regression(column,dataframe, my_title=\"\", my_xlabel = \"\", my_ylabel =\"\"):\n",
    "    mod = smf.quantreg(f'{column} ~ gender', dataframe).fit(q=0.5)\n",
    "    print(mod.summary())\n",
    "    conf = mod.conf_int()\n",
    "    median_female = mod.params[\"Intercept\"]\n",
    "    median_male = median_female + mod.params[\"gender[T.male]\"]\n",
    "    uerr_female = conf.loc[\"Intercept\"][1]-median_female\n",
    "    lerr_female = conf.loc[\"Intercept\"][1]-median_female\n",
    "    uerr_male =  median_male - (median_female + conf.loc[\"gender[T.male]\"][0])\n",
    "    lerr_male =  median_male- (median_female + conf.loc[\"gender[T.male]\"][0])\n",
    "    error = np.array([[lerr_female, lerr_male], [uerr_female, uerr_male]])\n",
    "\n",
    "    # Create lists for the plot\n",
    "    genders = ['female', 'male']\n",
    "    x_pos = np.arange(len(genders))\n",
    "    medians = [median_female, median_male]\n",
    "\n",
    "    fig, ax = plt.subplots()\n",
    "    ax.bar(x_pos, medians, yerr=error, align='center', alpha=0.5, ecolor='black', capsize=10)\n",
    "    ax.set_ylabel(my_ylabel)\n",
    "    ax.set_xticks(x_pos)\n",
    "    ax.set_xticklabels(genders)\n",
    "    ax.set_title(my_title)\n",
    "    ax.yaxis.grid(True)\n",
    "\n",
    "\n",
    "    at = AnchoredText(f\"pairs = {int(dataframe[column].size/2)}\", loc='lower right', prop=dict(size=8), frameon=True,\n",
    "                       bbox_to_anchor=(0., 1.),\n",
    "                       bbox_transform=ax.transAxes)\n",
    "    at.patch.set_boxstyle(\"round,pad=0.,rounding_size=0.2\")\n",
    "    ax.add_artist(at)\n",
    "\n",
    "    # Save the figure and show\n",
    "    # plt.tight_layout()\n",
    "    plt.show()"
   ]
  },
  {
   "cell_type": "code",
   "execution_count": 472,
   "metadata": {},
   "outputs": [
    {
     "data": {
      "text/plain": [
       "male      6\n",
       "female    6\n",
       "Name: gender, dtype: int64"
      ]
     },
     "execution_count": 472,
     "metadata": {},
     "output_type": "execute_result"
    }
   ],
   "source": [
    "fin_cat_match[\"gender\"].value_counts()"
   ]
  },
  {
   "cell_type": "markdown",
   "metadata": {},
   "source": [
    "Results of matching (treatment group: women , control group: men): \n",
    "- Matching only on source (389 per group)\n",
    "- Matching only on source & shortest path length (216 per group)\n",
    "- Matching only on source & shortest path length & category (19 per group)\n",
    "\n",
    "\n"
   ]
  },
  {
   "cell_type": "code",
   "execution_count": 473,
   "metadata": {},
   "outputs": [],
   "source": [
    "shpath_match = shpath_match.sort_values(by = \"source\", ascending=True)"
   ]
  },
  {
   "cell_type": "code",
   "execution_count": 474,
   "metadata": {},
   "outputs": [],
   "source": [
    "# calculate successrate for targets in their matching groups\n",
    "\n",
    "def add_success_rate(df): \n",
    "    df = df.drop(columns = [\"name\", \"hashedIpAddress\", \"timestamp\"])\n",
    "    df[\"path_dev\"] = df[\"human_path_length\"] - df[\"shortest_path_length\"]\n",
    "    fin= df[df['finished'] == True][\"target\"].value_counts().reindex(df.target.unique(), fill_value=0)\n",
    "    tot = df[\"target\"].value_counts()\n",
    "    success_rate = fin/tot\n",
    "    success_rate = success_rate.rename(\"success_rate\")\n",
    "    df = df.merge(success_rate, how=\"left\", left_on=\"target\", right_index=True)\n",
    "    # df[\"log_succ_rate\"] = np.log(df[\"success_rate\"])\n",
    "    df[\"log_playtime\"] = np.log(df[\"durationInSec\"])\n",
    "    return df\n"
   ]
  },
  {
   "cell_type": "code",
   "execution_count": 475,
   "metadata": {},
   "outputs": [],
   "source": [
    "shpath_match = add_success_rate(shpath_match)\n",
    "src_match = add_success_rate(src_match)\n",
    "cat_match = add_success_rate(cat_match)\n",
    "fin_shpath_match = add_success_rate(fin_shpath_match)\n",
    "fin_src_match = add_success_rate(fin_src_match)\n",
    "fin_cat_match = add_success_rate(fin_cat_match)"
   ]
  },
  {
   "cell_type": "code",
   "execution_count": 476,
   "metadata": {},
   "outputs": [
    {
     "data": {
      "image/png": "[encoded data removed]",
      "text/plain": [
       "<Figure size 432x288 with 1 Axes>"
      ]
     },
     "metadata": {
      "needs_background": "light"
     },
     "output_type": "display_data"
    }
   ],
   "source": [
    "# plot the histogram\n",
    "plt.hist(src_match[\"success_rate\"], \n",
    "         color = 'tab:blue', edgecolor = 'black', linewidth = 0.5, alpha=0.8)\n",
    "plt.xlabel(\"\")\n",
    "plt.ylabel(\"\")\n",
    "plt.title(\"Distribution of success_rate\")\n",
    "plt.show()"
   ]
  },
  {
   "cell_type": "code",
   "execution_count": 477,
   "metadata": {},
   "outputs": [
    {
     "data": {
      "image/png": "[encoded data removed]",
      "text/plain": [
       "<Figure size 432x288 with 1 Axes>"
      ]
     },
     "metadata": {
      "needs_background": "light"
     },
     "output_type": "display_data"
    }
   ],
   "source": [
    "plot_2_dist(\"path_dev\", shpath_match,mytitle=\"Path deviation from shortest path\", myxlabel=\"Path deviation\", myylabel=\"Counts\")"
   ]
  },
  {
   "cell_type": "code",
   "execution_count": 478,
   "metadata": {},
   "outputs": [
    {
     "data": {
      "text/plain": [
       "<AxesSubplot:xlabel='gender', ylabel='rating'>"
      ]
     },
     "execution_count": 478,
     "metadata": {},
     "output_type": "execute_result"
    },
    {
     "data": {
      "image/png": "[encoded data removed]",
      "text/plain": [
       "<Figure size 432x288 with 1 Axes>"
      ]
     },
     "metadata": {
      "needs_background": "light"
     },
     "output_type": "display_data"
    }
   ],
   "source": [
    "# plt.scatter(src_match[\"gender\"], src_match[\"rating\"])\n",
    "sns.swarmplot(data= src_match, x=\"gender\", y=\"rating\")"
   ]
  },
  {
   "attachments": {},
   "cell_type": "markdown",
   "metadata": {},
   "source": [
    "Matching only on source and comparing the rating does not give any conclusive results, as the medians are the same. Looking at the data of all finished paths matched on the source, the rating is still inconclusive. "
   ]
  },
  {
   "cell_type": "code",
   "execution_count": 479,
   "metadata": {},
   "outputs": [
    {
     "data": {
      "text/html": [
       "<style type=\"text/css\">\n",
       "#T_7dfef_row0_col0, #T_7dfef_row1_col1, #T_7dfef_row2_col2, #T_7dfef_row3_col3, #T_7dfef_row4_col4, #T_7dfef_row5_col5, #T_7dfef_row6_col6, #T_7dfef_row7_col7, #T_7dfef_row8_col8 {\n",
       "  background-color: #b40426;\n",
       "  color: #f1f1f1;\n",
       "}\n",
       "#T_7dfef_row0_col1 {\n",
       "  background-color: #5e7de7;\n",
       "  color: #f1f1f1;\n",
       "}\n",
       "#T_7dfef_row0_col2, #T_7dfef_row8_col7 {\n",
       "  background-color: #4e68d8;\n",
       "  color: #f1f1f1;\n",
       "}\n",
       "#T_7dfef_row0_col3, #T_7dfef_row2_col6, #T_7dfef_row2_col7, #T_7dfef_row3_col0, #T_7dfef_row7_col1, #T_7dfef_row7_col2, #T_7dfef_row7_col4, #T_7dfef_row7_col5, #T_7dfef_row7_col8 {\n",
       "  background-color: #3b4cc0;\n",
       "  color: #f1f1f1;\n",
       "}\n",
       "#T_7dfef_row0_col4, #T_7dfef_row4_col0 {\n",
       "  background-color: #000000;\n",
       "  color: #f1f1f1;\n",
       "}\n",
       "#T_7dfef_row0_col5 {\n",
       "  background-color: #465ecf;\n",
       "  color: #f1f1f1;\n",
       "}\n",
       "#T_7dfef_row0_col6 {\n",
       "  background-color: #6788ee;\n",
       "  color: #f1f1f1;\n",
       "}\n",
       "#T_7dfef_row0_col7, #T_7dfef_row7_col0 {\n",
       "  background-color: #e7745b;\n",
       "  color: #f1f1f1;\n",
       "}\n",
       "#T_7dfef_row0_col8 {\n",
       "  background-color: #3e51c5;\n",
       "  color: #f1f1f1;\n",
       "}\n",
       "#T_7dfef_row1_col0 {\n",
       "  background-color: #b2ccfb;\n",
       "  color: #000000;\n",
       "}\n",
       "#T_7dfef_row1_col2, #T_7dfef_row6_col0 {\n",
       "  background-color: #bcd2f7;\n",
       "  color: #000000;\n",
       "}\n",
       "#T_7dfef_row1_col3, #T_7dfef_row3_col2 {\n",
       "  background-color: #b5cdfa;\n",
       "  color: #000000;\n",
       "}\n",
       "#T_7dfef_row1_col4 {\n",
       "  background-color: #f3c8b2;\n",
       "  color: #000000;\n",
       "}\n",
       "#T_7dfef_row1_col5, #T_7dfef_row6_col5 {\n",
       "  background-color: #f29072;\n",
       "  color: #f1f1f1;\n",
       "}\n",
       "#T_7dfef_row1_col6, #T_7dfef_row6_col1 {\n",
       "  background-color: #b70d28;\n",
       "  color: #f1f1f1;\n",
       "}\n",
       "#T_7dfef_row1_col7 {\n",
       "  background-color: #93b5fe;\n",
       "  color: #000000;\n",
       "}\n",
       "#T_7dfef_row1_col8 {\n",
       "  background-color: #d4dbe6;\n",
       "  color: #000000;\n",
       "}\n",
       "#T_7dfef_row2_col0 {\n",
       "  background-color: #4f69d9;\n",
       "  color: #f1f1f1;\n",
       "}\n",
       "#T_7dfef_row2_col1 {\n",
       "  background-color: #6e90f2;\n",
       "  color: #f1f1f1;\n",
       "}\n",
       "#T_7dfef_row2_col3, #T_7dfef_row5_col8 {\n",
       "  background-color: #b6cefa;\n",
       "  color: #000000;\n",
       "}\n",
       "#T_7dfef_row2_col4 {\n",
       "  background-color: #d5dbe5;\n",
       "  color: #000000;\n",
       "}\n",
       "#T_7dfef_row2_col5 {\n",
       "  background-color: #5d7ce6;\n",
       "  color: #f1f1f1;\n",
       "}\n",
       "#T_7dfef_row2_col8, #T_7dfef_row4_col5 {\n",
       "  background-color: #bed2f6;\n",
       "  color: #000000;\n",
       "}\n",
       "#T_7dfef_row3_col1 {\n",
       "  background-color: #6282ea;\n",
       "  color: #f1f1f1;\n",
       "}\n",
       "#T_7dfef_row3_col4 {\n",
       "  background-color: #ead4c8;\n",
       "  color: #000000;\n",
       "}\n",
       "#T_7dfef_row3_col5 {\n",
       "  background-color: #7699f6;\n",
       "  color: #f1f1f1;\n",
       "}\n",
       "#T_7dfef_row3_col6 {\n",
       "  background-color: #5875e1;\n",
       "  color: #f1f1f1;\n",
       "}\n",
       "#T_7dfef_row3_col7 {\n",
       "  background-color: #445acc;\n",
       "  color: #f1f1f1;\n",
       "}\n",
       "#T_7dfef_row3_col8 {\n",
       "  background-color: #da5a49;\n",
       "  color: #f1f1f1;\n",
       "}\n",
       "#T_7dfef_row4_col1 {\n",
       "  background-color: #e9d5cb;\n",
       "  color: #000000;\n",
       "}\n",
       "#T_7dfef_row4_col2 {\n",
       "  background-color: #ead5c9;\n",
       "  color: #000000;\n",
       "}\n",
       "#T_7dfef_row4_col3 {\n",
       "  background-color: #f5c4ac;\n",
       "  color: #000000;\n",
       "}\n",
       "#T_7dfef_row4_col6 {\n",
       "  background-color: #dddcdc;\n",
       "  color: #000000;\n",
       "}\n",
       "#T_7dfef_row4_col7 {\n",
       "  background-color: #6b8df0;\n",
       "  color: #f1f1f1;\n",
       "}\n",
       "#T_7dfef_row4_col8 {\n",
       "  background-color: #f7ba9f;\n",
       "  color: #000000;\n",
       "}\n",
       "#T_7dfef_row5_col0 {\n",
       "  background-color: #92b4fe;\n",
       "  color: #000000;\n",
       "}\n",
       "#T_7dfef_row5_col1 {\n",
       "  background-color: #f39577;\n",
       "  color: #000000;\n",
       "}\n",
       "#T_7dfef_row5_col2 {\n",
       "  background-color: #a3c2fe;\n",
       "  color: #000000;\n",
       "}\n",
       "#T_7dfef_row5_col3 {\n",
       "  background-color: #b7cff9;\n",
       "  color: #000000;\n",
       "}\n",
       "#T_7dfef_row5_col4, #T_7dfef_row6_col8 {\n",
       "  background-color: #cdd9ec;\n",
       "  color: #000000;\n",
       "}\n",
       "#T_7dfef_row5_col6 {\n",
       "  background-color: #f39778;\n",
       "  color: #000000;\n",
       "}\n",
       "#T_7dfef_row5_col7 {\n",
       "  background-color: #85a8fc;\n",
       "  color: #f1f1f1;\n",
       "}\n",
       "#T_7dfef_row6_col2 {\n",
       "  background-color: #98b9ff;\n",
       "  color: #000000;\n",
       "}\n",
       "#T_7dfef_row6_col3 {\n",
       "  background-color: #b1cbfc;\n",
       "  color: #000000;\n",
       "}\n",
       "#T_7dfef_row6_col4 {\n",
       "  background-color: #eed0c0;\n",
       "  color: #000000;\n",
       "}\n",
       "#T_7dfef_row6_col7 {\n",
       "  background-color: #a2c1ff;\n",
       "  color: #000000;\n",
       "}\n",
       "#T_7dfef_row7_col3, #T_7dfef_row7_col6 {\n",
       "  background-color: #455cce;\n",
       "  color: #f1f1f1;\n",
       "}\n",
       "#T_7dfef_row8_col0 {\n",
       "  background-color: #536edd;\n",
       "  color: #f1f1f1;\n",
       "}\n",
       "#T_7dfef_row8_col1 {\n",
       "  background-color: #a5c3fe;\n",
       "  color: #000000;\n",
       "}\n",
       "#T_7dfef_row8_col2 {\n",
       "  background-color: #cad8ef;\n",
       "  color: #000000;\n",
       "}\n",
       "#T_7dfef_row8_col3 {\n",
       "  background-color: #d85646;\n",
       "  color: #f1f1f1;\n",
       "}\n",
       "#T_7dfef_row8_col4 {\n",
       "  background-color: #f4c6af;\n",
       "  color: #000000;\n",
       "}\n",
       "#T_7dfef_row8_col5 {\n",
       "  background-color: #86a9fc;\n",
       "  color: #f1f1f1;\n",
       "}\n",
       "#T_7dfef_row8_col6 {\n",
       "  background-color: #96b7ff;\n",
       "  color: #000000;\n",
       "}\n",
       "</style>\n",
       "<table id=\"T_7dfef\">\n",
       "  <thead>\n",
       "    <tr>\n",
       "      <th class=\"blank level0\" >&nbsp;</th>\n",
       "      <th id=\"T_7dfef_level0_col0\" class=\"col_heading level0 col0\" >finished</th>\n",
       "      <th id=\"T_7dfef_level0_col1\" class=\"col_heading level0 col1\" >human_path_length</th>\n",
       "      <th id=\"T_7dfef_level0_col2\" class=\"col_heading level0 col2\" >shortest_path_length</th>\n",
       "      <th id=\"T_7dfef_level0_col3\" class=\"col_heading level0 col3\" >durationInSec</th>\n",
       "      <th id=\"T_7dfef_level0_col4\" class=\"col_heading level0 col4\" >rating</th>\n",
       "      <th id=\"T_7dfef_level0_col5\" class=\"col_heading level0 col5\" >backclicks</th>\n",
       "      <th id=\"T_7dfef_level0_col6\" class=\"col_heading level0 col6\" >path_dev</th>\n",
       "      <th id=\"T_7dfef_level0_col7\" class=\"col_heading level0 col7\" >success_rate</th>\n",
       "      <th id=\"T_7dfef_level0_col8\" class=\"col_heading level0 col8\" >log_playtime</th>\n",
       "    </tr>\n",
       "  </thead>\n",
       "  <tbody>\n",
       "    <tr>\n",
       "      <th id=\"T_7dfef_level0_row0\" class=\"row_heading level0 row0\" >finished</th>\n",
       "      <td id=\"T_7dfef_row0_col0\" class=\"data row0 col0\" >1.000000</td>\n",
       "      <td id=\"T_7dfef_row0_col1\" class=\"data row0 col1\" >0.113634</td>\n",
       "      <td id=\"T_7dfef_row0_col2\" class=\"data row0 col2\" >-0.281031</td>\n",
       "      <td id=\"T_7dfef_row0_col3\" class=\"data row0 col3\" >-0.376563</td>\n",
       "      <td id=\"T_7dfef_row0_col4\" class=\"data row0 col4\" >nan</td>\n",
       "      <td id=\"T_7dfef_row0_col5\" class=\"data row0 col5\" >-0.014519</td>\n",
       "      <td id=\"T_7dfef_row0_col6\" class=\"data row0 col6\" >0.156389</td>\n",
       "      <td id=\"T_7dfef_row0_col7\" class=\"data row0 col7\" >0.770083</td>\n",
       "      <td id=\"T_7dfef_row0_col8\" class=\"data row0 col8\" >-0.264769</td>\n",
       "    </tr>\n",
       "    <tr>\n",
       "      <th id=\"T_7dfef_level0_row1\" class=\"row_heading level0 row1\" >human_path_length</th>\n",
       "      <td id=\"T_7dfef_row1_col0\" class=\"data row1 col0\" >0.113634</td>\n",
       "      <td id=\"T_7dfef_row1_col1\" class=\"data row1 col1\" >1.000000</td>\n",
       "      <td id=\"T_7dfef_row1_col2\" class=\"data row1 col2\" >0.161114</td>\n",
       "      <td id=\"T_7dfef_row1_col3\" class=\"data row1 col3\" >0.126326</td>\n",
       "      <td id=\"T_7dfef_row1_col4\" class=\"data row1 col4\" >0.548946</td>\n",
       "      <td id=\"T_7dfef_row1_col5\" class=\"data row1 col5\" >0.757983</td>\n",
       "      <td id=\"T_7dfef_row1_col6\" class=\"data row1 col6\" >0.989443</td>\n",
       "      <td id=\"T_7dfef_row1_col7\" class=\"data row1 col7\" >-0.001840</td>\n",
       "      <td id=\"T_7dfef_row1_col8\" class=\"data row1 col8\" >0.316232</td>\n",
       "    </tr>\n",
       "    <tr>\n",
       "      <th id=\"T_7dfef_level0_row2\" class=\"row_heading level0 row2\" >shortest_path_length</th>\n",
       "      <td id=\"T_7dfef_row2_col0\" class=\"data row2 col0\" >-0.281031</td>\n",
       "      <td id=\"T_7dfef_row2_col1\" class=\"data row2 col1\" >0.161114</td>\n",
       "      <td id=\"T_7dfef_row2_col2\" class=\"data row2 col2\" >1.000000</td>\n",
       "      <td id=\"T_7dfef_row2_col3\" class=\"data row2 col3\" >0.130340</td>\n",
       "      <td id=\"T_7dfef_row2_col4\" class=\"data row2 col4\" >0.386032</td>\n",
       "      <td id=\"T_7dfef_row2_col5\" class=\"data row2 col5\" >0.060955</td>\n",
       "      <td id=\"T_7dfef_row2_col6\" class=\"data row2 col6\" >0.016386</td>\n",
       "      <td id=\"T_7dfef_row2_col7\" class=\"data row2 col7\" >-0.370851</td>\n",
       "      <td id=\"T_7dfef_row2_col8\" class=\"data row2 col8\" >0.219458</td>\n",
       "    </tr>\n",
       "    <tr>\n",
       "      <th id=\"T_7dfef_level0_row3\" class=\"row_heading level0 row3\" >durationInSec</th>\n",
       "      <td id=\"T_7dfef_row3_col0\" class=\"data row3 col0\" >-0.376563</td>\n",
       "      <td id=\"T_7dfef_row3_col1\" class=\"data row3 col1\" >0.126326</td>\n",
       "      <td id=\"T_7dfef_row3_col2\" class=\"data row3 col2\" >0.130340</td>\n",
       "      <td id=\"T_7dfef_row3_col3\" class=\"data row3 col3\" >1.000000</td>\n",
       "      <td id=\"T_7dfef_row3_col4\" class=\"data row3 col4\" >0.486704</td>\n",
       "      <td id=\"T_7dfef_row3_col5\" class=\"data row3 col5\" >0.138006</td>\n",
       "      <td id=\"T_7dfef_row3_col6\" class=\"data row3 col6\" >0.108842</td>\n",
       "      <td id=\"T_7dfef_row3_col7\" class=\"data row3 col7\" >-0.327671</td>\n",
       "      <td id=\"T_7dfef_row3_col8\" class=\"data row3 col8\" >0.850050</td>\n",
       "    </tr>\n",
       "    <tr>\n",
       "      <th id=\"T_7dfef_level0_row4\" class=\"row_heading level0 row4\" >rating</th>\n",
       "      <td id=\"T_7dfef_row4_col0\" class=\"data row4 col0\" >nan</td>\n",
       "      <td id=\"T_7dfef_row4_col1\" class=\"data row4 col1\" >0.548946</td>\n",
       "      <td id=\"T_7dfef_row4_col2\" class=\"data row4 col2\" >0.386032</td>\n",
       "      <td id=\"T_7dfef_row4_col3\" class=\"data row4 col3\" >0.486704</td>\n",
       "      <td id=\"T_7dfef_row4_col4\" class=\"data row4 col4\" >1.000000</td>\n",
       "      <td id=\"T_7dfef_row4_col5\" class=\"data row4 col5\" >0.357700</td>\n",
       "      <td id=\"T_7dfef_row4_col6\" class=\"data row4 col6\" >0.511154</td>\n",
       "      <td id=\"T_7dfef_row4_col7\" class=\"data row4 col7\" >-0.157634</td>\n",
       "      <td id=\"T_7dfef_row4_col8\" class=\"data row4 col8\" >0.561320</td>\n",
       "    </tr>\n",
       "    <tr>\n",
       "      <th id=\"T_7dfef_level0_row5\" class=\"row_heading level0 row5\" >backclicks</th>\n",
       "      <td id=\"T_7dfef_row5_col0\" class=\"data row5 col0\" >-0.014519</td>\n",
       "      <td id=\"T_7dfef_row5_col1\" class=\"data row5 col1\" >0.757983</td>\n",
       "      <td id=\"T_7dfef_row5_col2\" class=\"data row5 col2\" >0.060955</td>\n",
       "      <td id=\"T_7dfef_row5_col3\" class=\"data row5 col3\" >0.138006</td>\n",
       "      <td id=\"T_7dfef_row5_col4\" class=\"data row5 col4\" >0.357700</td>\n",
       "      <td id=\"T_7dfef_row5_col5\" class=\"data row5 col5\" >1.000000</td>\n",
       "      <td id=\"T_7dfef_row5_col6\" class=\"data row5 col6\" >0.758963</td>\n",
       "      <td id=\"T_7dfef_row5_col7\" class=\"data row5 col7\" >-0.057861</td>\n",
       "      <td id=\"T_7dfef_row5_col8\" class=\"data row5 col8\" >0.189230</td>\n",
       "    </tr>\n",
       "    <tr>\n",
       "      <th id=\"T_7dfef_level0_row6\" class=\"row_heading level0 row6\" >path_dev</th>\n",
       "      <td id=\"T_7dfef_row6_col0\" class=\"data row6 col0\" >0.156389</td>\n",
       "      <td id=\"T_7dfef_row6_col1\" class=\"data row6 col1\" >0.989443</td>\n",
       "      <td id=\"T_7dfef_row6_col2\" class=\"data row6 col2\" >0.016386</td>\n",
       "      <td id=\"T_7dfef_row6_col3\" class=\"data row6 col3\" >0.108842</td>\n",
       "      <td id=\"T_7dfef_row6_col4\" class=\"data row6 col4\" >0.511154</td>\n",
       "      <td id=\"T_7dfef_row6_col5\" class=\"data row6 col5\" >0.758963</td>\n",
       "      <td id=\"T_7dfef_row6_col6\" class=\"data row6 col6\" >1.000000</td>\n",
       "      <td id=\"T_7dfef_row6_col7\" class=\"data row6 col7\" >0.052591</td>\n",
       "      <td id=\"T_7dfef_row6_col8\" class=\"data row6 col8\" >0.288150</td>\n",
       "    </tr>\n",
       "    <tr>\n",
       "      <th id=\"T_7dfef_level0_row7\" class=\"row_heading level0 row7\" >success_rate</th>\n",
       "      <td id=\"T_7dfef_row7_col0\" class=\"data row7 col0\" >0.770083</td>\n",
       "      <td id=\"T_7dfef_row7_col1\" class=\"data row7 col1\" >-0.001840</td>\n",
       "      <td id=\"T_7dfef_row7_col2\" class=\"data row7 col2\" >-0.370851</td>\n",
       "      <td id=\"T_7dfef_row7_col3\" class=\"data row7 col3\" >-0.327671</td>\n",
       "      <td id=\"T_7dfef_row7_col4\" class=\"data row7 col4\" >-0.157634</td>\n",
       "      <td id=\"T_7dfef_row7_col5\" class=\"data row7 col5\" >-0.057861</td>\n",
       "      <td id=\"T_7dfef_row7_col6\" class=\"data row7 col6\" >0.052591</td>\n",
       "      <td id=\"T_7dfef_row7_col7\" class=\"data row7 col7\" >1.000000</td>\n",
       "      <td id=\"T_7dfef_row7_col8\" class=\"data row7 col8\" >-0.282729</td>\n",
       "    </tr>\n",
       "    <tr>\n",
       "      <th id=\"T_7dfef_level0_row8\" class=\"row_heading level0 row8\" >log_playtime</th>\n",
       "      <td id=\"T_7dfef_row8_col0\" class=\"data row8 col0\" >-0.264769</td>\n",
       "      <td id=\"T_7dfef_row8_col1\" class=\"data row8 col1\" >0.316232</td>\n",
       "      <td id=\"T_7dfef_row8_col2\" class=\"data row8 col2\" >0.219458</td>\n",
       "      <td id=\"T_7dfef_row8_col3\" class=\"data row8 col3\" >0.850050</td>\n",
       "      <td id=\"T_7dfef_row8_col4\" class=\"data row8 col4\" >0.561320</td>\n",
       "      <td id=\"T_7dfef_row8_col5\" class=\"data row8 col5\" >0.189230</td>\n",
       "      <td id=\"T_7dfef_row8_col6\" class=\"data row8 col6\" >0.288150</td>\n",
       "      <td id=\"T_7dfef_row8_col7\" class=\"data row8 col7\" >-0.282729</td>\n",
       "      <td id=\"T_7dfef_row8_col8\" class=\"data row8 col8\" >1.000000</td>\n",
       "    </tr>\n",
       "  </tbody>\n",
       "</table>\n"
      ],
      "text/plain": [
       "<pandas.io.formats.style.Styler at 0x7fde07363b80>"
      ]
     },
     "execution_count": 479,
     "metadata": {},
     "output_type": "execute_result"
    }
   ],
   "source": [
    "corr=src_match.corr()\n",
    "corr.style.background_gradient(cmap='coolwarm')"
   ]
  },
  {
   "attachments": {},
   "cell_type": "markdown",
   "metadata": {},
   "source": [
    "Noticed correlations on src_match\n",
    "- success rate ~ finished (0.7)\n",
    "- back clicks ~ path_dev & human_path_length (0.7)\n",
    "- human_path_length ~ path_dev (0.9)\n",
    "- durationInSec ~ rating (0.5)"
   ]
  },
  {
   "attachments": {},
   "cell_type": "markdown",
   "metadata": {},
   "source": [
    "***Are the paths to target articles about women longer than those for men?***"
   ]
  },
  {
   "attachments": {},
   "cell_type": "markdown",
   "metadata": {},
   "source": [
    "This requires the finished shortest path matching. They all have to be finished..."
   ]
  },
  {
   "cell_type": "code",
   "execution_count": 480,
   "metadata": {},
   "outputs": [
    {
     "data": {
      "image/png": "[encoded data removed]",
      "text/plain": [
       "<Figure size 432x288 with 1 Axes>"
      ]
     },
     "metadata": {
      "needs_background": "light"
     },
     "output_type": "display_data"
    }
   ],
   "source": [
    "plot_2_dist(\"path_dev\", fin_shpath_match, mytitle=\"Distribution of Human Path Deviation from shortest path\", myxlabel=\"Path Deviation\",myylabel=\"Count\")\n"
   ]
  },
  {
   "attachments": {},
   "cell_type": "markdown",
   "metadata": {},
   "source": [
    "The plot shows us, that we have a power law so we use the log on the outcome path_dev for our regression. "
   ]
  },
  {
   "cell_type": "code",
   "execution_count": 481,
   "metadata": {},
   "outputs": [
    {
     "name": "stdout",
     "output_type": "stream",
     "text": [
      "                         QuantReg Regression Results                          \n",
      "==============================================================================\n",
      "Dep. Variable:               path_dev   Pseudo R-squared:              0.03526\n",
      "Model:                       QuantReg   Bandwidth:                       1.394\n",
      "Method:                 Least Squares   Sparsity:                        4.247\n",
      "Date:                Thu, 15 Dec 2022   No. Observations:                  158\n",
      "Time:                        17:47:25   Df Residuals:                      156\n",
      "                                        Df Model:                            1\n",
      "==================================================================================\n",
      "                     coef    std err          t      P>|t|      [0.025      0.975]\n",
      "----------------------------------------------------------------------------------\n",
      "Intercept          3.0000      0.239     12.558      0.000       2.528       3.472\n",
      "gender[T.male]    -1.0000      0.338     -2.960      0.004      -1.667      -0.333\n",
      "==================================================================================\n"
     ]
    },
    {
     "data": {
      "image/png": "[encoded data removed]",
      "text/plain": [
       "<Figure size 432x288 with 1 Axes>"
      ]
     },
     "metadata": {
      "needs_background": "light"
     },
     "output_type": "display_data"
    }
   ],
   "source": [
    "quantile_regression(\"path_dev\",fin_shpath_match, \"Path deviation from shortest path\")"
   ]
  },
  {
   "attachments": {},
   "cell_type": "markdown",
   "metadata": {},
   "source": [
    "This data shows that out of finished paths that have the same source article and the same shortest path length, the ones going to the male target article have a median of 2 path_dev while the female target articles have a median of 3. However the confidence intervals overlap, so we cannot say for sure that the difference is significant. "
   ]
  },
  {
   "attachments": {},
   "cell_type": "markdown",
   "metadata": {},
   "source": [
    "Let's take a look at the nr of backclicks. Do people searching for a female target have to go back more often, then to the male target. "
   ]
  },
  {
   "cell_type": "code",
   "execution_count": 482,
   "metadata": {},
   "outputs": [
    {
     "data": {
      "image/png": "[encoded data removed]",
      "text/plain": [
       "<Figure size 432x288 with 1 Axes>"
      ]
     },
     "metadata": {
      "needs_background": "light"
     },
     "output_type": "display_data"
    }
   ],
   "source": [
    "plot_2_dist(\"backclicks\", shpath_match, mytitle=\"Nr of backclicks\", myxlabel=\"Backclicks\", myylabel=\"Occurance\")"
   ]
  },
  {
   "attachments": {},
   "cell_type": "markdown",
   "metadata": {},
   "source": [
    "Since so many of the paths do not have any backclicks, the median and mean are all 0. Therefore there is no difference to be observed."
   ]
  },
  {
   "attachments": {},
   "cell_type": "markdown",
   "metadata": {},
   "source": [
    "Next step is to only look at paths that have a backclick different from 0. "
   ]
  },
  {
   "cell_type": "code",
   "execution_count": 483,
   "metadata": {},
   "outputs": [
    {
     "name": "stdout",
     "output_type": "stream",
     "text": [
      "                         QuantReg Regression Results                          \n",
      "==============================================================================\n",
      "Dep. Variable:             backclicks   Pseudo R-squared:              0.01562\n",
      "Model:                       QuantReg   Bandwidth:                      0.7745\n",
      "Method:                 Least Squares   Sparsity:                        2.487\n",
      "Date:                Thu, 15 Dec 2022   No. Observations:                  118\n",
      "Time:                        17:47:26   Df Residuals:                      116\n",
      "                                        Df Model:                            1\n",
      "==================================================================================\n",
      "                     coef    std err          t      P>|t|      [0.025      0.975]\n",
      "----------------------------------------------------------------------------------\n",
      "Intercept          1.0000      0.152      6.583      0.000       0.699       1.301\n",
      "gender[T.male]     1.0000      0.231      4.328      0.000       0.542       1.458\n",
      "==================================================================================\n"
     ]
    },
    {
     "data": {
      "image/png": "[encoded data removed]",
      "text/plain": [
       "<Figure size 432x288 with 1 Axes>"
      ]
     },
     "metadata": {
      "needs_background": "light"
     },
     "output_type": "display_data"
    },
    {
     "data": {
      "image/png": "[encoded data removed]",
      "text/plain": [
       "<Figure size 432x288 with 1 Axes>"
      ]
     },
     "metadata": {
      "needs_background": "light"
     },
     "output_type": "display_data"
    }
   ],
   "source": [
    "# the backclicks that differ from 0\n",
    "backclicks = src_match[src_match[\"backclicks\"]!= 0]\n",
    "quantile_regression(\"backclicks\", backclicks, \"Backclicks\")\n",
    "plot_2_dist(\"backclicks\", backclicks,mytitle=\"Distribution of backclicks\", myxlabel=\"nr of backclicks\", myylabel=\"counts\")"
   ]
  },
  {
   "attachments": {},
   "cell_type": "markdown",
   "metadata": {},
   "source": [
    "If we only match by source, and look at paths that have a backclick that differs from 0. We see that there is a significant difference between the backclicks on male target articles compared to female articles. \n",
    "\n",
    "However as soon as we also match on the shortest path we do not have enough data. "
   ]
  },
  {
   "attachments": {},
   "cell_type": "markdown",
   "metadata": {},
   "source": [
    "Let's take a look at the time the paths took. Because we know from the correlation analysis that the duration depends heavily on whether the path was finished or not, we will again only take a look at the finished paths."
   ]
  },
  {
   "cell_type": "code",
   "execution_count": 484,
   "metadata": {},
   "outputs": [
    {
     "data": {
      "text/plain": [
       "count     158.000000\n",
       "mean      171.500000\n",
       "std       219.102592\n",
       "min        18.000000\n",
       "25%        73.000000\n",
       "50%       119.000000\n",
       "75%       188.500000\n",
       "max      1860.000000\n",
       "Name: durationInSec, dtype: float64"
      ]
     },
     "execution_count": 484,
     "metadata": {},
     "output_type": "execute_result"
    }
   ],
   "source": [
    "fin_shpath_match.durationInSec.describe()"
   ]
  },
  {
   "cell_type": "code",
   "execution_count": 485,
   "metadata": {},
   "outputs": [],
   "source": [
    "female_playtime = fin_shpath_match[fin_shpath_match[\"gender\"]== \"female\"][\"durationInSec\"]\n",
    "male_playtime = fin_shpath_match[fin_shpath_match[\"gender\"]== \"male\"][\"durationInSec\"]\n"
   ]
  },
  {
   "cell_type": "code",
   "execution_count": 486,
   "metadata": {},
   "outputs": [],
   "source": [
    "female_cummulative=plt.hist(female_playtime,bins=1000,log=True,cumulative=-1,histtype='step')\n",
    "male_cummulative=plt.hist(male_playtime,bins=1000,log=True,cumulative=-1,histtype='step')\n",
    "plt.close()"
   ]
  },
  {
   "cell_type": "code",
   "execution_count": 487,
   "metadata": {},
   "outputs": [
    {
     "data": {
      "image/png": "[encoded data removed]",
      "text/plain": [
       "<Figure size 432x288 with 1 Axes>"
      ]
     },
     "metadata": {
      "needs_background": "light"
     },
     "output_type": "display_data"
    }
   ],
   "source": [
    "plt.loglog(female_cummulative[1][1:],female_cummulative[0], c='r', label= \"female\")\n",
    "plt.loglog(male_cummulative[1][1:],male_cummulative[0], c='b', label= \"male\")\n",
    "plt.title('Histogram of Playduration (cumulative)')\n",
    "plt.ylabel('count(in log scale)')\n",
    "plt.xlabel('duration in seconds (in log scale)')\n",
    "plt.axvline(np.median(female_playtime), color=\"red\")\n",
    "plt.axvline(np.median(male_playtime), color=\"blue\")\n",
    "plt.legend()\n",
    "plt.show()"
   ]
  },
  {
   "cell_type": "code",
   "execution_count": 488,
   "metadata": {},
   "outputs": [
    {
     "name": "stdout",
     "output_type": "stream",
     "text": [
      "                         QuantReg Regression Results                          \n",
      "==============================================================================\n",
      "Dep. Variable:          durationInSec   Pseudo R-squared:              0.01401\n",
      "Model:                       QuantReg   Bandwidth:                       75.78\n",
      "Method:                 Least Squares   Sparsity:                        211.0\n",
      "Date:                Thu, 15 Dec 2022   No. Observations:                  158\n",
      "Time:                        17:47:30   Df Residuals:                      156\n",
      "                                        Df Model:                            1\n",
      "==================================================================================\n",
      "                     coef    std err          t      P>|t|      [0.025      0.975]\n",
      "----------------------------------------------------------------------------------\n",
      "Intercept        136.0000     11.872     11.455      0.000     112.549     159.451\n",
      "gender[T.male]   -34.0000     16.790     -2.025      0.045     -67.165      -0.835\n",
      "==================================================================================\n"
     ]
    },
    {
     "data": {
      "image/png": "[encoded data removed]",
      "text/plain": [
       "<Figure size 432x288 with 1 Axes>"
      ]
     },
     "metadata": {
      "needs_background": "light"
     },
     "output_type": "display_data"
    }
   ],
   "source": [
    "quantile_regression(\"durationInSec\", fin_shpath_match, \"Comparison of Playtime\")"
   ]
  },
  {
   "attachments": {},
   "cell_type": "markdown",
   "metadata": {},
   "source": [
    "Comparing the successrates of the target articles in the matched set."
   ]
  },
  {
   "cell_type": "code",
   "execution_count": 495,
   "metadata": {},
   "outputs": [
    {
     "name": "stdout",
     "output_type": "stream",
     "text": [
      "                         QuantReg Regression Results                          \n",
      "==============================================================================\n",
      "Dep. Variable:           success_rate   Pseudo R-squared:            0.0007763\n",
      "Model:                       QuantReg   Bandwidth:                      0.2115\n",
      "Method:                 Least Squares   Sparsity:                        1.117\n",
      "Date:                Thu, 15 Dec 2022   No. Observations:                  630\n",
      "Time:                        17:50:06   Df Residuals:                      628\n",
      "                                        Df Model:                            1\n",
      "==================================================================================\n",
      "                     coef    std err          t      P>|t|      [0.025      0.975]\n",
      "----------------------------------------------------------------------------------\n",
      "Intercept          0.2000      0.031      6.353      0.000       0.138       0.262\n",
      "gender[T.male]     0.0500      0.045      1.123      0.262      -0.037       0.137\n",
      "==================================================================================\n"
     ]
    },
    {
     "data": {
      "image/png": "[encoded data removed]",
      "text/plain": [
       "<Figure size 432x288 with 1 Axes>"
      ]
     },
     "metadata": {
      "needs_background": "light"
     },
     "output_type": "display_data"
    },
    {
     "data": {
      "image/png": "[encoded data removed]",
      "text/plain": [
       "<Figure size 432x288 with 1 Axes>"
      ]
     },
     "metadata": {
      "needs_background": "light"
     },
     "output_type": "display_data"
    }
   ],
   "source": [
    "quantile_regression(\"success_rate\", src_match,my_title= \"Articles matched on source\",my_ylabel=\"Success Rate\" )\n",
    "plot_2_dist(\"success_rate\", src_match,bins= np.arange(0-0.05,1+0.05,0.1), mytitle= \"Articles matched on source\", myxlabel=\"Success Rate\", myylabel=\"Count\")"
   ]
  },
  {
   "attachments": {},
   "cell_type": "markdown",
   "metadata": {},
   "source": [
    "We can see that here, the median difference is not significant. The confidence intervals of the two groups overlap."
   ]
  },
  {
   "attachments": {},
   "cell_type": "markdown",
   "metadata": {},
   "source": [
    "However if we start to filter out all targets that have a success rate of only 0, because they do not have a comparable counterpart, we can take a closer look."
   ]
  },
  {
   "cell_type": "code",
   "execution_count": 503,
   "metadata": {},
   "outputs": [
    {
     "name": "stderr",
     "output_type": "stream",
     "text": [
      "/var/folders/32/zpjx_mxd2gs4f92mmd7g2ls40000gn/T/ipykernel_33666/2627986456.py:3: SettingWithCopyWarning: \n",
      "A value is trying to be set on a copy of a slice from a DataFrame.\n",
      "Try using .loc[row_indexer,col_indexer] = value instead\n",
      "\n",
      "See the caveats in the documentation: https://pandas.pydata.org/pandas-docs/stable/user_guide/indexing.html#returning-a-view-versus-a-copy\n",
      "  non_zero_success_src[\"log_success_rate\"] = np.log(non_zero_success_src[\"success_rate\"])\n"
     ]
    }
   ],
   "source": [
    "# filter out all success rates == 0, because this means that it is not representable, as we have no positive version\n",
    "non_zero_success_src = src_match[src_match[\"success_rate\"] != 0.0]\n",
    "non_zero_success_src[\"log_success_rate\"] = np.log(non_zero_success_src[\"success_rate\"])\n",
    "\n"
   ]
  },
  {
   "cell_type": "code",
   "execution_count": 498,
   "metadata": {},
   "outputs": [
    {
     "name": "stdout",
     "output_type": "stream",
     "text": [
      "                         QuantReg Regression Results                          \n",
      "==============================================================================\n",
      "Dep. Variable:           success_rate   Pseudo R-squared:               0.3114\n",
      "Model:                       QuantReg   Bandwidth:                      0.1339\n",
      "Method:                 Least Squares   Sparsity:                       0.6439\n",
      "Date:                Thu, 15 Dec 2022   No. Observations:                  452\n",
      "Time:                        17:53:50   Df Residuals:                      450\n",
      "                                        Df Model:                            1\n",
      "==================================================================================\n",
      "                     coef    std err          t      P>|t|      [0.025      0.975]\n",
      "----------------------------------------------------------------------------------\n",
      "Intercept          0.2000      0.019     10.634      0.000       0.163       0.237\n",
      "gender[T.male]     0.6889      0.032     21.724      0.000       0.627       0.751\n",
      "==================================================================================\n"
     ]
    },
    {
     "data": {
      "image/png": "[encoded data removed]",
      "text/plain": [
       "<Figure size 432x288 with 1 Axes>"
      ]
     },
     "metadata": {
      "needs_background": "light"
     },
     "output_type": "display_data"
    },
    {
     "data": {
      "image/png": "[encoded data removed]",
      "text/plain": [
       "<Figure size 432x288 with 1 Axes>"
      ]
     },
     "metadata": {
      "needs_background": "light"
     },
     "output_type": "display_data"
    }
   ],
   "source": [
    "quantile_regression(\"success_rate\", non_zero_success_src)\n",
    "plot_2_dist(\"success_rate\", non_zero_success_src,bins= np.arange(0-0.05,1+0.05,0.1))"
   ]
  },
  {
   "attachments": {},
   "cell_type": "markdown",
   "metadata": {},
   "source": [
    "Next step is comparing the success rate on a matched set with more constraints. The next step is also matching on the shortest path."
   ]
  },
  {
   "cell_type": "code",
   "execution_count": 500,
   "metadata": {},
   "outputs": [
    {
     "name": "stdout",
     "output_type": "stream",
     "text": [
      "                         QuantReg Regression Results                          \n",
      "==============================================================================\n",
      "Dep. Variable:           success_rate   Pseudo R-squared:               0.3947\n",
      "Model:                       QuantReg   Bandwidth:                      0.1092\n",
      "Method:                 Least Squares   Sparsity:                       0.2860\n",
      "Date:                Thu, 15 Dec 2022   No. Observations:                  188\n",
      "Time:                        17:55:20   Df Residuals:                      186\n",
      "                                        Df Model:                            1\n",
      "==================================================================================\n",
      "                     coef    std err          t      P>|t|      [0.025      0.975]\n",
      "----------------------------------------------------------------------------------\n",
      "Intercept          0.2500      0.014     17.657      0.000       0.222       0.278\n",
      "gender[T.male]     0.7500      0.021     35.825      0.000       0.709       0.791\n",
      "==================================================================================\n"
     ]
    },
    {
     "data": {
      "image/png": "[encoded data removed]",
      "text/plain": [
       "<Figure size 432x288 with 1 Axes>"
      ]
     },
     "metadata": {
      "needs_background": "light"
     },
     "output_type": "display_data"
    },
    {
     "data": {
      "image/png": "[encoded data removed]",
      "text/plain": [
       "<Figure size 432x288 with 1 Axes>"
      ]
     },
     "metadata": {
      "needs_background": "light"
     },
     "output_type": "display_data"
    }
   ],
   "source": [
    "non_zero_success_shp = shpath_match[shpath_match[\"success_rate\"] !=0]\n",
    "\n",
    "quantile_regression(\"success_rate\", non_zero_success_shp)\n",
    "plot_2_dist(\"success_rate\", non_zero_success_shp,bins= np.arange(0-0.05,1+0.05,0.1))"
   ]
  },
  {
   "attachments": {},
   "cell_type": "markdown",
   "metadata": {},
   "source": [
    "Matching even further on the factors, would mean to only include those target articles that are in the same subcategory. "
   ]
  },
  {
   "cell_type": "code",
   "execution_count": 502,
   "metadata": {},
   "outputs": [
    {
     "name": "stdout",
     "output_type": "stream",
     "text": [
      "                         QuantReg Regression Results                          \n",
      "==============================================================================\n",
      "Dep. Variable:           success_rate   Pseudo R-squared:           -6.651e-07\n",
      "Model:                       QuantReg   Bandwidth:                      0.3415\n",
      "Method:                 Least Squares   Sparsity:                       0.6071\n",
      "Date:                Thu, 15 Dec 2022   No. Observations:                   28\n",
      "Time:                        17:57:31   Df Residuals:                       26\n",
      "                                        Df Model:                            1\n",
      "==================================================================================\n",
      "                     coef    std err          t      P>|t|      [0.025      0.975]\n",
      "----------------------------------------------------------------------------------\n",
      "Intercept       7.472e-07      0.081   9.21e-06      1.000      -0.167       0.167\n",
      "gender[T.male] -5.806e-07      0.115  -5.06e-06      1.000      -0.236       0.236\n",
      "==================================================================================\n"
     ]
    },
    {
     "data": {
      "image/png": "[encoded data removed]",
      "text/plain": [
       "<Figure size 432x288 with 1 Axes>"
      ]
     },
     "metadata": {
      "needs_background": "light"
     },
     "output_type": "display_data"
    },
    {
     "data": {
      "image/png": "[encoded data removed]",
      "text/plain": [
       "<Figure size 432x288 with 1 Axes>"
      ]
     },
     "metadata": {
      "needs_background": "light"
     },
     "output_type": "display_data"
    }
   ],
   "source": [
    "# non_zero_success_cat = cat_match[cat_match[\"success_rate\"] !=0]\n",
    "\n",
    "quantile_regression(\"success_rate\", cat_match)\n",
    "plot_2_dist(\"success_rate\", cat_match,bins= np.arange(0-0.05,1+0.05,0.1))"
   ]
  },
  {
   "attachments": {},
   "cell_type": "markdown",
   "metadata": {},
   "source": [
    "This does not work, as all of the targets were never reached. "
   ]
  }
 ],
 "metadata": {
  "kernelspec": {
   "display_name": "Python 3.9.12 ('base')",
   "language": "python",
   "name": "python3"
  },
  "language_info": {
   "codemirror_mode": {
    "name": "ipython",
    "version": 3
   },
   "file_extension": ".py",
   "mimetype": "text/x-python",
   "name": "python",
   "nbconvert_exporter": "python",
   "pygments_lexer": "ipython3",
   "version": "3.9.12 (main, Apr  5 2022, 01:53:17) \n[Clang 12.0.0 ]"
  },
  "orig_nbformat": 4,
  "vscode": {
   "interpreter": {
    "hash": "b9307fb2cefd6326959c09d339345e55d5d9c0811814ae72a34b56c197afb6f0"
   }
  }
 },
 "nbformat": 4,
 "nbformat_minor": 2
}
