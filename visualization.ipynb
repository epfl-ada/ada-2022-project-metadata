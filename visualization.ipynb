{
 "cells": [
  {
   "cell_type": "code",
   "execution_count": 237,
   "metadata": {},
   "outputs": [],
   "source": [
    "import numpy as np\n",
    "import pandas as pd\n",
    "import matplotlib.pyplot as plt\n",
    "import scipy.stats as stats\n",
    "import seaborn as sns\n",
    "%matplotlib inline\n",
    "\n",
    "DATA_FOLDER = 'dataset/'\n",
    "WIKISPEEDIA_PATHS = DATA_FOLDER + \"wikispeedia_paths-and-graph/\"\n",
    "WIKIDATA_PATH = DATA_FOLDER + \"wikidata/\"\n",
    "\n",
    "ARTICLES = WIKISPEEDIA_PATHS + \"articles.tsv\"\n",
    "CATEGORIES = WIKISPEEDIA_PATHS + \"categories.tsv\"\n",
    "LINKS = WIKISPEEDIA_PATHS + \"links.tsv\"\n",
    "PATHS_FINISHED = WIKISPEEDIA_PATHS + \"paths_finished.tsv\"\n",
    "PATHS_UNFINISHED = WIKISPEEDIA_PATHS + \"paths_unfinished.tsv\"\n",
    "FEMALES = \"data/listwomen.txt\"\n",
    "\n",
    "articles = pd.read_csv(ARTICLES, sep='\\t', names=[\"article\"], skiprows = 12)\n",
    "categories = pd.read_csv(CATEGORIES, sep='\\t', names=[\"article\", \"category\"], skiprows = 13)\n",
    "links = pd.read_csv(LINKS, sep='\\t', names=[\"link_source\", \"link_target\"], skiprows = 12)\n",
    "paths_finished = pd.read_csv(PATHS_FINISHED, sep='\\t', names=[\"hashedIpAddress\", \"timestamp\", \"durationInSec\", \"path\", \"rating\"], skiprows = 15)\n",
    "paths_unfinished = pd.read_csv(PATHS_UNFINISHED, sep='\\t', names=[\"hashedIpAddress\", \"timestamp\", \"durationInSec\", \"path\", \"target\", \"type\"], skiprows = 17)\n",
    "females = pd.read_csv(FEMALES, sep=',', names=[\"name\", \"women_label\"], skiprows = 1)"
   ]
  },
  {
   "cell_type": "code",
   "execution_count": 238,
   "metadata": {},
   "outputs": [],
   "source": [
    "# female_links =\n",
    "categories[\"category_people\"] = categories[\"category\"].apply(lambda x: x.startswith('subject.People.'))\n",
    "people = categories[categories[\"category_people\"] == True]\n",
    "\n",
    "people = pd.concat([people, people['category'].str.split(\".\", expand=True)], axis=1)\n",
    "people = people.drop(columns=[\"category_people\", \"category\", 0, 1])\n",
    "people = people.rename(columns={2:\"category\", \"article\": \"name\"})\n",
    "# drop duplicates in articles\n",
    "people = people.drop_duplicates(subset=['name'])\n",
    "\n",
    "people[\"gender\"] =  people['name'].isin(females[\"name\"])\n",
    "count_links_src = links.link_source.value_counts()\n",
    "count_links_target = links.link_target.value_counts()\n",
    "# inner join - drop all people that have no in_link \n",
    "people = people.merge(count_links_src, how=\"left\",  left_on=\"name\", right_index=True)\n",
    "people = people.merge(count_links_target,how=\"inner\", left_on=\"name\", right_index=True)\n",
    "people = people.rename(columns={\"link_source\":\"nr_link_out\", \"link_target\": \"nr_link_in\"})\n",
    "# people[people[\"name\"].duplicated() == True]\n",
    "\n",
    "\n",
    "\n",
    "\n",
    "# people"
   ]
  },
  {
   "cell_type": "code",
   "execution_count": 239,
   "metadata": {},
   "outputs": [],
   "source": [
    "def process_path(path):\n",
    "    # assumption: going back, increases the path length by 1\n",
    "    p = path.split(\";\")\n",
    "    source = p[0]\n",
    "    target = p[-1]\n",
    "    length = len(p)\n",
    "    return source, target, length\n",
    "\n",
    "# expand the finished paths \n",
    "path_overview = pd.DataFrame()\n",
    "path_overview[\"source\"], path_overview[\"target\"], path_overview[\"human_length\"] =  zip(*paths_finished['path'].apply(lambda x: process_path(x)))\n",
    "path_overview[\"finished\"] = True\n",
    "\n",
    "# expand the dataset by unfinished paths\n",
    "path_uf = pd.DataFrame()\n",
    "path_uf[\"source\"], path_uf[\"failure\"], path_uf[\"human_length\"] =  zip(*paths_unfinished['path'].apply(lambda x: process_path(x)))\n",
    "path_uf[\"finished\"] = False\n",
    "path_uf['target'] = paths_unfinished[\"target\"]\n",
    "\n",
    "path_overview = pd.concat([path_overview,path_uf])\n",
    "\n"
   ]
  },
  {
   "cell_type": "code",
   "execution_count": 240,
   "metadata": {},
   "outputs": [],
   "source": [
    "# save dataframe to file\n",
    "path_overview.to_csv(\"./data/all_paths_overview.csv\")\n"
   ]
  },
  {
   "cell_type": "code",
   "execution_count": 241,
   "metadata": {},
   "outputs": [
    {
     "data": {
      "text/html": [
       "<div>\n",
       "<style scoped>\n",
       "    .dataframe tbody tr th:only-of-type {\n",
       "        vertical-align: middle;\n",
       "    }\n",
       "\n",
       "    .dataframe tbody tr th {\n",
       "        vertical-align: top;\n",
       "    }\n",
       "\n",
       "    .dataframe thead th {\n",
       "        text-align: right;\n",
       "    }\n",
       "</style>\n",
       "<table border=\"1\" class=\"dataframe\">\n",
       "  <thead>\n",
       "    <tr style=\"text-align: right;\">\n",
       "      <th></th>\n",
       "      <th>source</th>\n",
       "      <th>target</th>\n",
       "      <th>human_length</th>\n",
       "      <th>finished</th>\n",
       "      <th>failure</th>\n",
       "    </tr>\n",
       "  </thead>\n",
       "  <tbody>\n",
       "    <tr>\n",
       "      <th>0</th>\n",
       "      <td>14th_century</td>\n",
       "      <td>African_slave_trade</td>\n",
       "      <td>9</td>\n",
       "      <td>True</td>\n",
       "      <td>NaN</td>\n",
       "    </tr>\n",
       "    <tr>\n",
       "      <th>1</th>\n",
       "      <td>14th_century</td>\n",
       "      <td>African_slave_trade</td>\n",
       "      <td>5</td>\n",
       "      <td>True</td>\n",
       "      <td>NaN</td>\n",
       "    </tr>\n",
       "    <tr>\n",
       "      <th>2</th>\n",
       "      <td>14th_century</td>\n",
       "      <td>African_slave_trade</td>\n",
       "      <td>8</td>\n",
       "      <td>True</td>\n",
       "      <td>NaN</td>\n",
       "    </tr>\n",
       "    <tr>\n",
       "      <th>3</th>\n",
       "      <td>14th_century</td>\n",
       "      <td>Greece</td>\n",
       "      <td>4</td>\n",
       "      <td>True</td>\n",
       "      <td>NaN</td>\n",
       "    </tr>\n",
       "    <tr>\n",
       "      <th>4</th>\n",
       "      <td>14th_century</td>\n",
       "      <td>John_F._Kennedy</td>\n",
       "      <td>7</td>\n",
       "      <td>True</td>\n",
       "      <td>NaN</td>\n",
       "    </tr>\n",
       "    <tr>\n",
       "      <th>...</th>\n",
       "      <td>...</td>\n",
       "      <td>...</td>\n",
       "      <td>...</td>\n",
       "      <td>...</td>\n",
       "      <td>...</td>\n",
       "    </tr>\n",
       "    <tr>\n",
       "      <th>24870</th>\n",
       "      <td>Franz_Kafka</td>\n",
       "      <td>Cholera</td>\n",
       "      <td>8</td>\n",
       "      <td>False</td>\n",
       "      <td>Ghana</td>\n",
       "    </tr>\n",
       "    <tr>\n",
       "      <th>24871</th>\n",
       "      <td>Modern_history</td>\n",
       "      <td>Hollandic</td>\n",
       "      <td>1</td>\n",
       "      <td>False</td>\n",
       "      <td>Modern_history</td>\n",
       "    </tr>\n",
       "    <tr>\n",
       "      <th>24872</th>\n",
       "      <td>Computer_programming</td>\n",
       "      <td>The_Beatles</td>\n",
       "      <td>5</td>\n",
       "      <td>False</td>\n",
       "      <td>&lt;</td>\n",
       "    </tr>\n",
       "    <tr>\n",
       "      <th>24873</th>\n",
       "      <td>Jamaica</td>\n",
       "      <td>Alan_Turing</td>\n",
       "      <td>4</td>\n",
       "      <td>False</td>\n",
       "      <td>Battle_of_Midway</td>\n",
       "    </tr>\n",
       "    <tr>\n",
       "      <th>24874</th>\n",
       "      <td>Mark_Antony</td>\n",
       "      <td>Feather</td>\n",
       "      <td>5</td>\n",
       "      <td>False</td>\n",
       "      <td>Computer</td>\n",
       "    </tr>\n",
       "  </tbody>\n",
       "</table>\n",
       "<p>76193 rows × 5 columns</p>\n",
       "</div>"
      ],
      "text/plain": [
       "                     source               target  human_length  finished  \\\n",
       "0              14th_century  African_slave_trade             9      True   \n",
       "1              14th_century  African_slave_trade             5      True   \n",
       "2              14th_century  African_slave_trade             8      True   \n",
       "3              14th_century               Greece             4      True   \n",
       "4              14th_century      John_F._Kennedy             7      True   \n",
       "...                     ...                  ...           ...       ...   \n",
       "24870           Franz_Kafka              Cholera             8     False   \n",
       "24871        Modern_history            Hollandic             1     False   \n",
       "24872  Computer_programming          The_Beatles             5     False   \n",
       "24873               Jamaica          Alan_Turing             4     False   \n",
       "24874           Mark_Antony              Feather             5     False   \n",
       "\n",
       "                failure  \n",
       "0                   NaN  \n",
       "1                   NaN  \n",
       "2                   NaN  \n",
       "3                   NaN  \n",
       "4                   NaN  \n",
       "...                 ...  \n",
       "24870             Ghana  \n",
       "24871    Modern_history  \n",
       "24872                 <  \n",
       "24873  Battle_of_Midway  \n",
       "24874          Computer  \n",
       "\n",
       "[76193 rows x 5 columns]"
      ]
     },
     "execution_count": 241,
     "metadata": {},
     "output_type": "execute_result"
    }
   ],
   "source": [
    "path_overview"
   ]
  },
  {
   "cell_type": "code",
   "execution_count": 242,
   "metadata": {},
   "outputs": [
    {
     "data": {
      "text/plain": [
       "689"
      ]
     },
     "execution_count": 242,
     "metadata": {},
     "output_type": "execute_result"
    }
   ],
   "source": [
    "people_target_paths = path_overview.merge(people[['name', 'category', 'gender']], how= \"inner\", left_on=\"target\", right_on=\"name\")\n",
    "people_target_paths\n",
    "len(people_target_paths[people_target_paths['gender'] == True])"
   ]
  },
  {
   "cell_type": "code",
   "execution_count": 243,
   "metadata": {},
   "outputs": [
    {
     "name": "stdout",
     "output_type": "stream",
     "text": [
      "Number of paths with a woman as a target 689\n",
      "Number of paths with a man as a target 7940\n",
      "Number of finished paths with a woman as a target 347\n",
      "Number of finished paths with a man as a target 5566\n",
      "Number of unfinished paths with a woman as a target 342\n",
      "Number of unfinished paths with a man as a target 2374\n"
     ]
    }
   ],
   "source": [
    "print(\"Number of paths with a woman as a target\",len(people_target_paths[people_target_paths['gender'] == True]) )\n",
    "print(\"Number of paths with a man as a target\",len(people_target_paths[people_target_paths['gender'] == False]) )\n",
    "print(\"Number of finished paths with a woman as a target\",\n",
    "        len(people_target_paths[(people_target_paths['gender'] == True) & (people_target_paths['finished'] == True)]))\n",
    "print(\"Number of finished paths with a man as a target\",\n",
    "        len(people_target_paths[(people_target_paths['gender'] == False) & (people_target_paths['finished'] == True)]))\n",
    "print(\"Number of unfinished paths with a woman as a target\",\n",
    "        len(people_target_paths[(people_target_paths['gender'] == True) & (people_target_paths['finished'] == False)]))\n",
    "print(\"Number of unfinished paths with a man as a target\",\n",
    "        len(people_target_paths[(people_target_paths['gender'] == False) & (people_target_paths['finished'] == False)]))"
   ]
  },
  {
   "cell_type": "code",
   "execution_count": 244,
   "metadata": {},
   "outputs": [],
   "source": [
    "tot_target = people_target_paths.target.value_counts().rename(\"tot_target_count\")\n",
    "unf_target = people_target_paths[people_target_paths['finished'] == False].target.value_counts().rename(\"unf_target_count\")\n",
    "fin_target = people_target_paths[people_target_paths['finished'] == True].target.value_counts().rename(\"fin_target_count\")\n",
    "people = people.merge(tot_target, how=\"left\",  left_on=\"name\", right_index=True)\n",
    "people = people.merge(unf_target, how=\"left\",  left_on=\"name\", right_index=True)\n",
    "people = people.merge(fin_target, how=\"left\",  left_on=\"name\", right_index=True)\n",
    "\n",
    "\n"
   ]
  },
  {
   "cell_type": "code",
   "execution_count": 245,
   "metadata": {},
   "outputs": [],
   "source": [
    "people.columns\n",
    "# success rate of the finished paths, when this article was the target\n",
    "people['succ_rate'] = people['fin_target_count']/people['tot_target_count']\n"
   ]
  },
  {
   "cell_type": "code",
   "execution_count": 246,
   "metadata": {},
   "outputs": [
    {
     "data": {
      "text/plain": [
       "0.013574660633484163"
      ]
     },
     "execution_count": 246,
     "metadata": {},
     "output_type": "execute_result"
    }
   ],
   "source": [
    "min(people['succ_rate'])"
   ]
  },
  {
   "cell_type": "code",
   "execution_count": 247,
   "metadata": {},
   "outputs": [],
   "source": [
    "people.to_csv(\"./data/people_overview.csv\")"
   ]
  },
  {
   "cell_type": "code",
   "execution_count": 248,
   "metadata": {},
   "outputs": [
    {
     "data": {
      "text/plain": [
       "<seaborn.axisgrid.FacetGrid at 0x7fa8a9c40b80>"
      ]
     },
     "execution_count": 248,
     "metadata": {},
     "output_type": "execute_result"
    },
    {
     "data": {
      "image/png": "[encoded data removed]",
      "text/plain": [
       "<Figure size 421.25x360 with 1 Axes>"
      ]
     },
     "metadata": {
      "needs_background": "light"
     },
     "output_type": "display_data"
    }
   ],
   "source": [
    "sns.catplot(data=people, x=\"category\", y=\"succ_rate\",hue = \"gender\", kind=\"box\")"
   ]
  },
  {
   "cell_type": "code",
   "execution_count": null,
   "metadata": {},
   "outputs": [],
   "source": []
  }
 ],
 "metadata": {
  "kernelspec": {
   "display_name": "Python 3.9.12 ('base')",
   "language": "python",
   "name": "python3"
  },
  "language_info": {
   "codemirror_mode": {
    "name": "ipython",
    "version": 3
   },
   "file_extension": ".py",
   "mimetype": "text/x-python",
   "name": "python",
   "nbconvert_exporter": "python",
   "pygments_lexer": "ipython3",
   "version": "3.9.12"
  },
  "orig_nbformat": 4,
  "vscode": {
   "interpreter": {
    "hash": "b9307fb2cefd6326959c09d339345e55d5d9c0811814ae72a34b56c197afb6f0"
   }
  }
 },
 "nbformat": 4,
 "nbformat_minor": 2
}
