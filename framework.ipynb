{
 "cells": [
  {
   "cell_type": "markdown",
   "id": "a806b86a-5a49-4c62-9a07-6c541dd2115a",
   "metadata": {},
   "source": [
    "## Wikiwomen: An analysis on gender bias\n",
    "### Framework for our naive analysis\n",
    "#### metADAta\n",
    "##### Question: Are the paths with target article about women different from the paths with target article about men?"
   ]
  },
  {
   "cell_type": "markdown",
   "id": "2ada7de0-c41f-46c6-83f2-ae15ee66abe4",
   "metadata": {},
   "source": [
    "**Metrics**\n",
    "- success_rate\n",
    "- in_degree\n",
    "- playtime_duration\n",
    "- path_deviation\n",
    "- number_of_back_clicks\n",
    "- difficulty_rating"
   ]
  },
  {
   "cell_type": "markdown",
   "id": "9ff869f6-3dcf-4ec7-b173-6f3a3aaf4038",
   "metadata": {},
   "source": [
    "**Questions to keep in mind while performing the statistical analysis:**\n",
    "- Are the paths to target articles about women longer than those for men?\n",
    "- Do users find the paths that have a target article related to women more difficult than the average difficulty of path navigation?\n",
    "- Is the play duration for target article about women longer than the average play duration?\n",
    "- Are there more back clicks in the paths that have a target article about women?\n",
    "- Are there more unfinished paths than finished paths related to articles about women?"
   ]
  },
  {
   "cell_type": "markdown",
   "id": "4d002210-8a97-45b5-afa8-953dd3a48f30",
   "metadata": {},
   "source": [
    "### 1. Basic information about the dataset"
   ]
  },
  {
   "cell_type": "markdown",
   "id": "d5d33ceb-ed69-4a9b-9b12-96c1475d091e",
   "metadata": {},
   "source": [
    "- Plots that compare the two groups\n",
    "- Histrograms of some the metrics (to show the underlying distribution of them)\n",
    "- A plot that shows that we are working with a power law\n",
    "- Something else that pops up"
   ]
  },
  {
   "cell_type": "markdown",
   "id": "c1433346-aa00-428f-a092-277aae63781d",
   "metadata": {},
   "source": [
    "### 2. Descriptive statistics "
   ]
  },
  {
   "cell_type": "markdown",
   "id": "c61e58c8-9b5a-4a18-ab03-fc100ccdf50f",
   "metadata": {},
   "source": [
    "- Find the median for the two groups (women vs. men) of each of our defined metrics.\n",
    "    - First: Figure out from which distribution the data comes from.\n",
    "        - Basic information: `df['column_name'].describe()`\n",
    "        - Test the goodness of a fit: \n",
    "            - H0: Data comes from the assumed distribution. We reject if $p < 0.05$.\n",
    "                - Check if normal: `diagnostic.kstest_normal(df['column_name'].values, dist = 'norm')`\n",
    "                - Check if exponential: `diagnostic.kstest_normal(df['column_name'].values, dist = 'exp')`\n",
    "    - Second: Correlation, is that something that we need to take into account?\n",
    "- Quantify uncertainty\n",
    "    - Hypothesis testing (not do for all of the metrics -> confidence intervals are preferred):\n",
    "        - H0: there is no difference in the defined metrics between the two groups\n",
    "        - HA: there is a difference in the defined metrics between the two groups\n",
    "        - Conduct an test\n",
    "            - t-test: a statistical test that is used to compare the means of two groups (not valid here since we have a power law? or do we have to take a closer look at each of the metric's distribution to determine the appropriate test for it). See here: https://en.wikipedia.org/wiki/Student%27s_t-test\n",
    "            - Median test: tests the null hypothesis that the medians of the populations from which two or more samples are drawn are identical but has low power for moderate to large sample sizes. See here: https://en.wikipedia.org/wiki/Median_test\n",
    "    - Confidence intervals: \n",
    "        - Bootstrapping approach: estimate the average difference and 95% confidence intervals for the median ratio of our defined metrics between the two groups\n",
    "            - If the confidence interval for a difference between groups includes zero, that means that if we run our experiment again we have a good chance of finding no difference between groups ([-x; x] contains 0 -> no significant difference between the two groups).\n",
    "            - 95% CI includes all those values of the parameter of interest that you could not reject at a 5% significance level. \n",
    "            - Visualizations comparing the medians and confidence intervals of our metrics (?)\n",
    "    - Multiple hypothesis testing:\n",
    "        - Perform multiple hypothesis testing (Bonferroni correction: and adjust the significance level down).\n",
    "            - Comment: Take a closer look at! Perhaps this is more relevant than doing the one hypothesis testing for every one of the metrics."
   ]
  },
  {
   "cell_type": "markdown",
   "id": "29d7efa7-0d82-485b-aa22-3d886a47a070",
   "metadata": {},
   "source": [
    "### 3. Descriptive data analysis"
   ]
  },
  {
   "cell_type": "markdown",
   "id": "309713fe-8c7f-4fb4-90f7-3e8a7f5cd1e7",
   "metadata": {},
   "source": [
    "- Linear regression: \n",
    "    - Example: Is there a causal effect between having a path that has a high success rate and the target article is about a man?\n",
    "    - Take a look at the distributions of the metrics we want to perform linear regression on (power law or not?)\n",
    "    - Estimate the linear regression `y ~ x + ind`, where `ind = {0, 1}` is our binary predictor variable where 1 corresponds to the women group and 0 to the men group and `x = [success_rate, in_degree, playtime_duration, path_deviation, number_of_back_clicks, difficulty_rating]`.\n",
    "        - Comment: What should y be?\n",
    "    - Estimate a linear regression with multiple continous predictors\n",
    "    - Comment on uncertainty and statistical significance\n",
    "    \n",
    "- Assumptions for regression modeling:\n",
    "    - Outcome measure should accurately reflect the phenomenon of interest\n",
    "    - Model should include all relevant predictors\n",
    "    - Model should generalize to cases to which it will be applied\n",
    "    - We require linearity in inputs \n",
    "\n",
    "- Apply standardization to compare coefficients for predictors with incomparable units of measurements\n",
    "- Use logarithmic outcomes if the outcome y (dependent variable) follows a heavy-tailed distribution"
   ]
  },
  {
   "cell_type": "markdown",
   "id": "231ed1aa-0eb5-436d-b893-cf1eeef88830",
   "metadata": {},
   "source": [
    "### 4. Matched analysis"
   ]
  },
  {
   "cell_type": "markdown",
   "id": "24e8a47b-5274-4b5e-8e55-32ab76b016d3",
   "metadata": {},
   "source": [
    "- Obtain the matched data\n",
    "- Construct a causal diagram\n",
    "- Perform linear regression on the matched data"
   ]
  }
 ],
 "metadata": {
  "kernelspec": {
   "display_name": "Python [conda env:ada] *",
   "language": "python",
   "name": "conda-env-ada-py"
  },
  "language_info": {
   "codemirror_mode": {
    "name": "ipython",
    "version": 3
   },
   "file_extension": ".py",
   "mimetype": "text/x-python",
   "name": "python",
   "nbconvert_exporter": "python",
   "pygments_lexer": "ipython3",
   "version": "3.9.13"
  }
 },
 "nbformat": 4,
 "nbformat_minor": 5
}
