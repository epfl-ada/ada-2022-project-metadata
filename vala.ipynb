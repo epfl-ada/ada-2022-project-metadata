{
 "cells": [
  {
   "cell_type": "markdown",
   "id": "01031411",
   "metadata": {},
   "source": [
    "# **An analysis on gender bias**\n",
    "\n",
    "### Team: metADAta"
   ]
  },
  {
   "cell_type": "markdown",
   "id": "3db8b982-f712-4f2a-9a04-f0486d667e7c",
   "metadata": {},
   "source": [
    "We begin with taking a closer look at the dataset and importing the files from it. "
   ]
  },
  {
   "cell_type": "markdown",
   "id": "df0a8500-5bb9-4700-a910-b84d4e53af6c",
   "metadata": {
    "tags": []
   },
   "source": [
    "### **Data description**"
   ]
  },
  {
   "cell_type": "markdown",
   "id": "39b87131-460b-4592-b915-89e362596e7e",
   "metadata": {},
   "source": [
    "| Name of dataframe | Columns                                                         | Description                                                                   |   |   |\n",
    "|-------------------|-----------------------------------------------------------------|-------------------------------------------------------------------------------|---|---|\n",
    "| articles          | [article]                                                       | Contains the name of a wikispeedia article                                    |   |   |\n",
    "| categories        | [article, category]                                             | Contains the name of a wikispeedia article and its corresponding category     |   |   |\n",
    "| links             | [link_source, link_target]                                      | Contains the source and target article between paths that were tested         |   |   |\n",
    "| paths_finished    | [hashedIpAddress, timestamp, durationInSec, path, rating]       | Contains all finished paths                                                   |   |   |\n",
    "| paths_unfinished  | [hashedIpAddress, timestamp, durationInSec, path, target, type] | Contains all unfinished paths. Type refers to the reason they were unfinished |   |   |\n",
    "| female  | [women, womenLabel] | Contains a list of articles about females and their corresponding subcategory |   |   |"
   ]
  },
  {
   "cell_type": "markdown",
   "id": "b9b449b4-a3d4-48fc-afe8-3c6ac1e22130",
   "metadata": {},
   "source": [
    "### **Importing the data**"
   ]
  },
  {
   "cell_type": "code",
   "execution_count": 7,
   "id": "fa4e0832",
   "metadata": {
    "vscode": {
     "languageId": "plaintext"
    }
   },
   "outputs": [],
   "source": [
    "import numpy as np\n",
    "import pandas as pd\n",
    "import matplotlib.pyplot as plt\n",
    "import scipy.stats as stats\n",
    "%matplotlib inline\n",
    "\n",
    "DATA_FOLDER = 'data/'\n",
    "WIKISPEEDIA_PATHS = DATA_FOLDER + \"wikispeedia_paths-and-graph/\"\n",
    "\n",
    "ARTICLES = WIKISPEEDIA_PATHS + \"articles.tsv\"\n",
    "CATEGORIES = WIKISPEEDIA_PATHS + \"categories.tsv\"\n",
    "LINKS = WIKISPEEDIA_PATHS + \"links.tsv\"\n",
    "PATHS_FINISHED = WIKISPEEDIA_PATHS + \"paths_finished.tsv\"\n",
    "PATHS_UNFINISHED = WIKISPEEDIA_PATHS + \"paths_unfinished.tsv\"\n",
    "\n",
    "SHORTEST_PATH = WIKISPEEDIA_PATHS + \"shortest-path-distance-matrix.txt\"\n",
    "\n",
    "FEMALES = DATA_FOLDER + \"listwomen.txt\""
   ]
  },
  {
   "cell_type": "code",
   "execution_count": 8,
   "id": "1168595d",
   "metadata": {
    "vscode": {
     "languageId": "plaintext"
    }
   },
   "outputs": [],
   "source": [
    "articles = pd.read_csv(ARTICLES, sep='\\t', names=[\"article\"], skiprows = 12)\n",
    "categories = pd.read_csv(CATEGORIES, sep='\\t', names=[\"article\", \"category\"], skiprows = 13)\n",
    "links = pd.read_csv(LINKS, sep='\\t', names=[\"link_source\", \"link_target\"], skiprows = 12)\n",
    "paths_finished = pd.read_csv(PATHS_FINISHED, sep='\\t', names=[\"hashedIpAddress\", \"timestamp\", \n",
    "                                                              \"durationInSec\", \"path\", \"rating\"], skiprows = 15)\n",
    "paths_unfinished = pd.read_csv(PATHS_UNFINISHED, sep='\\t', names=[\"hashedIpAddress\", \"timestamp\", \n",
    "                                                                  \"durationInSec\", \"path\", \"target\", \"type\"], skiprows = 17)\n",
    "\n",
    "female = pd.read_csv(FEMALES, sep=',', names=[\"women\", \"women_label\"], skiprows = 1)"
   ]
  },
  {
   "cell_type": "code",
   "execution_count": 172,
   "id": "4a51bbf5-1caf-4e00-a373-be2cec0f5c25",
   "metadata": {},
   "outputs": [],
   "source": [
    "shortest_path = pd.read_csv(SHORTEST_PATH, names = [\"len\", \"a\"], skiprows = 16)"
   ]
  },
  {
   "cell_type": "code",
   "execution_count": 173,
   "id": "6216d5c5-d2d3-4809-baf2-f12720c09333",
   "metadata": {},
   "outputs": [
    {
     "data": {
      "text/html": [
       "<div>\n",
       "<style scoped>\n",
       "    .dataframe tbody tr th:only-of-type {\n",
       "        vertical-align: middle;\n",
       "    }\n",
       "\n",
       "    .dataframe tbody tr th {\n",
       "        vertical-align: top;\n",
       "    }\n",
       "\n",
       "    .dataframe thead th {\n",
       "        text-align: right;\n",
       "    }\n",
       "</style>\n",
       "<table border=\"1\" class=\"dataframe\">\n",
       "  <thead>\n",
       "    <tr style=\"text-align: right;\">\n",
       "      <th></th>\n",
       "      <th>len</th>\n",
       "      <th>a</th>\n",
       "    </tr>\n",
       "  </thead>\n",
       "  <tbody>\n",
       "    <tr>\n",
       "      <th>0</th>\n",
       "      <td>0_____33333325634333435_2433544334_3_422343544...</td>\n",
       "      <td>NaN</td>\n",
       "    </tr>\n",
       "    <tr>\n",
       "      <th>1</th>\n",
       "      <td>_0____22222325623232424_2422544324_3_312242544...</td>\n",
       "      <td>NaN</td>\n",
       "    </tr>\n",
       "    <tr>\n",
       "      <th>2</th>\n",
       "      <td>__0___33222425623232324_2333444433_3_422343434...</td>\n",
       "      <td>NaN</td>\n",
       "    </tr>\n",
       "    <tr>\n",
       "      <th>3</th>\n",
       "      <td>___0__33333325634233334_2433434333_2_423343433...</td>\n",
       "      <td>NaN</td>\n",
       "    </tr>\n",
       "    <tr>\n",
       "      <th>4</th>\n",
       "      <td>____0_22323335633332435_2433545434_3_423343544...</td>\n",
       "      <td>NaN</td>\n",
       "    </tr>\n",
       "    <tr>\n",
       "      <th>...</th>\n",
       "      <td>...</td>\n",
       "      <td>...</td>\n",
       "    </tr>\n",
       "    <tr>\n",
       "      <th>4599</th>\n",
       "      <td>______22222325622231424_1322544334_3_422232544...</td>\n",
       "      <td>NaN</td>\n",
       "    </tr>\n",
       "    <tr>\n",
       "      <th>4600</th>\n",
       "      <td>______33333434523232434_2332544324_3_323333544...</td>\n",
       "      <td>NaN</td>\n",
       "    </tr>\n",
       "    <tr>\n",
       "      <th>4601</th>\n",
       "      <td>______22222424522231434_2322545434_3_422232544...</td>\n",
       "      <td>NaN</td>\n",
       "    </tr>\n",
       "    <tr>\n",
       "      <th>4602</th>\n",
       "      <td>______33333436733342435_2433545444_3_523353544...</td>\n",
       "      <td>NaN</td>\n",
       "    </tr>\n",
       "    <tr>\n",
       "      <th>4603</th>\n",
       "      <td>______22233325623232434_2423544334_3_423343544...</td>\n",
       "      <td>NaN</td>\n",
       "    </tr>\n",
       "  </tbody>\n",
       "</table>\n",
       "<p>4604 rows × 2 columns</p>\n",
       "</div>"
      ],
      "text/plain": [
       "                                                    len   a\n",
       "0     0_____33333325634333435_2433544334_3_422343544... NaN\n",
       "1     _0____22222325623232424_2422544324_3_312242544... NaN\n",
       "2     __0___33222425623232324_2333444433_3_422343434... NaN\n",
       "3     ___0__33333325634233334_2433434333_2_423343433... NaN\n",
       "4     ____0_22323335633332435_2433545434_3_423343544... NaN\n",
       "...                                                 ...  ..\n",
       "4599  ______22222325622231424_1322544334_3_422232544... NaN\n",
       "4600  ______33333434523232434_2332544324_3_323333544... NaN\n",
       "4601  ______22222424522231434_2322545434_3_422232544... NaN\n",
       "4602  ______33333436733342435_2433545444_3_523353544... NaN\n",
       "4603  ______22233325623232434_2423544334_3_423343544... NaN\n",
       "\n",
       "[4604 rows x 2 columns]"
      ]
     },
     "execution_count": 173,
     "metadata": {},
     "output_type": "execute_result"
    }
   ],
   "source": [
    "shortest_path"
   ]
  },
  {
   "cell_type": "markdown",
   "id": "227a4581-6398-4e22-92f1-53e05b9dae70",
   "metadata": {
    "jp-MarkdownHeadingCollapsed": true,
    "tags": []
   },
   "source": [
    "#### **Dataset statistics**"
   ]
  },
  {
   "cell_type": "markdown",
   "id": "c1500b4a-4015-433c-99ce-7c8d1920f471",
   "metadata": {
    "tags": []
   },
   "source": [
    "##### **Articles**"
   ]
  },
  {
   "cell_type": "code",
   "execution_count": 17,
   "id": "511c4279-a524-4ee9-a353-6bb563d98cba",
   "metadata": {},
   "outputs": [
    {
     "name": "stdout",
     "output_type": "stream",
     "text": [
      "Number of articles in the dataset: 4604\n"
     ]
    },
    {
     "data": {
      "text/html": [
       "<div>\n",
       "<style scoped>\n",
       "    .dataframe tbody tr th:only-of-type {\n",
       "        vertical-align: middle;\n",
       "    }\n",
       "\n",
       "    .dataframe tbody tr th {\n",
       "        vertical-align: top;\n",
       "    }\n",
       "\n",
       "    .dataframe thead th {\n",
       "        text-align: right;\n",
       "    }\n",
       "</style>\n",
       "<table border=\"1\" class=\"dataframe\">\n",
       "  <thead>\n",
       "    <tr style=\"text-align: right;\">\n",
       "      <th></th>\n",
       "      <th>article</th>\n",
       "    </tr>\n",
       "  </thead>\n",
       "  <tbody>\n",
       "    <tr>\n",
       "      <th>0</th>\n",
       "      <td>%C3%81ed%C3%A1n_mac_Gabr%C3%A1in</td>\n",
       "    </tr>\n",
       "    <tr>\n",
       "      <th>1</th>\n",
       "      <td>%C3%85land</td>\n",
       "    </tr>\n",
       "    <tr>\n",
       "      <th>2</th>\n",
       "      <td>%C3%89douard_Manet</td>\n",
       "    </tr>\n",
       "    <tr>\n",
       "      <th>3</th>\n",
       "      <td>%C3%89ire</td>\n",
       "    </tr>\n",
       "    <tr>\n",
       "      <th>4</th>\n",
       "      <td>%C3%93engus_I_of_the_Picts</td>\n",
       "    </tr>\n",
       "    <tr>\n",
       "      <th>5</th>\n",
       "      <td>%E2%82%AC2_commemorative_coins</td>\n",
       "    </tr>\n",
       "    <tr>\n",
       "      <th>6</th>\n",
       "      <td>10th_century</td>\n",
       "    </tr>\n",
       "    <tr>\n",
       "      <th>7</th>\n",
       "      <td>11th_century</td>\n",
       "    </tr>\n",
       "    <tr>\n",
       "      <th>8</th>\n",
       "      <td>12th_century</td>\n",
       "    </tr>\n",
       "    <tr>\n",
       "      <th>9</th>\n",
       "      <td>13th_century</td>\n",
       "    </tr>\n",
       "  </tbody>\n",
       "</table>\n",
       "</div>"
      ],
      "text/plain": [
       "                            article\n",
       "0  %C3%81ed%C3%A1n_mac_Gabr%C3%A1in\n",
       "1                        %C3%85land\n",
       "2                %C3%89douard_Manet\n",
       "3                         %C3%89ire\n",
       "4        %C3%93engus_I_of_the_Picts\n",
       "5    %E2%82%AC2_commemorative_coins\n",
       "6                      10th_century\n",
       "7                      11th_century\n",
       "8                      12th_century\n",
       "9                      13th_century"
      ]
     },
     "execution_count": 17,
     "metadata": {},
     "output_type": "execute_result"
    }
   ],
   "source": [
    "print(f\"Number of articles in the dataset: {len(articles)}\")\n",
    "articles.head(10)"
   ]
  },
  {
   "cell_type": "markdown",
   "id": "fc0b1539-f03a-4bf8-91fc-2d3413cf004a",
   "metadata": {
    "jp-MarkdownHeadingCollapsed": true,
    "tags": []
   },
   "source": [
    "##### **Categories**"
   ]
  },
  {
   "cell_type": "code",
   "execution_count": 19,
   "id": "37f99595-aa28-4ffa-97f9-0f78d4d1a1a4",
   "metadata": {},
   "outputs": [
    {
     "name": "stdout",
     "output_type": "stream",
     "text": [
      "Number of rows in the dataset: 5204\n"
     ]
    },
    {
     "data": {
      "text/html": [
       "<div>\n",
       "<style scoped>\n",
       "    .dataframe tbody tr th:only-of-type {\n",
       "        vertical-align: middle;\n",
       "    }\n",
       "\n",
       "    .dataframe tbody tr th {\n",
       "        vertical-align: top;\n",
       "    }\n",
       "\n",
       "    .dataframe thead th {\n",
       "        text-align: right;\n",
       "    }\n",
       "</style>\n",
       "<table border=\"1\" class=\"dataframe\">\n",
       "  <thead>\n",
       "    <tr style=\"text-align: right;\">\n",
       "      <th></th>\n",
       "      <th>article</th>\n",
       "      <th>category</th>\n",
       "    </tr>\n",
       "  </thead>\n",
       "  <tbody>\n",
       "    <tr>\n",
       "      <th>0</th>\n",
       "      <td>%C3%81ed%C3%A1n_mac_Gabr%C3%A1in</td>\n",
       "      <td>subject.History.British_History.British_Histor...</td>\n",
       "    </tr>\n",
       "    <tr>\n",
       "      <th>1</th>\n",
       "      <td>%C3%81ed%C3%A1n_mac_Gabr%C3%A1in</td>\n",
       "      <td>subject.People.Historical_figures</td>\n",
       "    </tr>\n",
       "    <tr>\n",
       "      <th>2</th>\n",
       "      <td>%C3%85land</td>\n",
       "      <td>subject.Countries</td>\n",
       "    </tr>\n",
       "    <tr>\n",
       "      <th>3</th>\n",
       "      <td>%C3%85land</td>\n",
       "      <td>subject.Geography.European_Geography.European_...</td>\n",
       "    </tr>\n",
       "    <tr>\n",
       "      <th>4</th>\n",
       "      <td>%C3%89douard_Manet</td>\n",
       "      <td>subject.People.Artists</td>\n",
       "    </tr>\n",
       "  </tbody>\n",
       "</table>\n",
       "</div>"
      ],
      "text/plain": [
       "                            article  \\\n",
       "0  %C3%81ed%C3%A1n_mac_Gabr%C3%A1in   \n",
       "1  %C3%81ed%C3%A1n_mac_Gabr%C3%A1in   \n",
       "2                        %C3%85land   \n",
       "3                        %C3%85land   \n",
       "4                %C3%89douard_Manet   \n",
       "\n",
       "                                            category  \n",
       "0  subject.History.British_History.British_Histor...  \n",
       "1                  subject.People.Historical_figures  \n",
       "2                                  subject.Countries  \n",
       "3  subject.Geography.European_Geography.European_...  \n",
       "4                             subject.People.Artists  "
      ]
     },
     "execution_count": 19,
     "metadata": {},
     "output_type": "execute_result"
    }
   ],
   "source": [
    "print(f\"Number of rows in the dataset: {len(categories)}\")\n",
    "categories.head()"
   ]
  },
  {
   "cell_type": "code",
   "execution_count": 18,
   "id": "f819eded-973a-474f-b201-8d84af29e853",
   "metadata": {},
   "outputs": [
    {
     "name": "stdout",
     "output_type": "stream",
     "text": [
      "The number of categories is 129\n"
     ]
    },
    {
     "data": {
      "text/html": [
       "<div>\n",
       "<style scoped>\n",
       "    .dataframe tbody tr th:only-of-type {\n",
       "        vertical-align: middle;\n",
       "    }\n",
       "\n",
       "    .dataframe tbody tr th {\n",
       "        vertical-align: top;\n",
       "    }\n",
       "\n",
       "    .dataframe thead th {\n",
       "        text-align: right;\n",
       "    }\n",
       "</style>\n",
       "<table border=\"1\" class=\"dataframe\">\n",
       "  <thead>\n",
       "    <tr style=\"text-align: right;\">\n",
       "      <th></th>\n",
       "      <th>article</th>\n",
       "    </tr>\n",
       "    <tr>\n",
       "      <th>category</th>\n",
       "      <th></th>\n",
       "    </tr>\n",
       "  </thead>\n",
       "  <tbody>\n",
       "    <tr>\n",
       "      <th>subject.Art.Art</th>\n",
       "      <td>36</td>\n",
       "    </tr>\n",
       "    <tr>\n",
       "      <th>subject.Art.Artists</th>\n",
       "      <td>2</td>\n",
       "    </tr>\n",
       "    <tr>\n",
       "      <th>subject.Business_Studies.Business</th>\n",
       "      <td>28</td>\n",
       "    </tr>\n",
       "    <tr>\n",
       "      <th>subject.Business_Studies.Companies</th>\n",
       "      <td>18</td>\n",
       "    </tr>\n",
       "    <tr>\n",
       "      <th>subject.Business_Studies.Currency</th>\n",
       "      <td>14</td>\n",
       "    </tr>\n",
       "    <tr>\n",
       "      <th>...</th>\n",
       "      <td>...</td>\n",
       "    </tr>\n",
       "    <tr>\n",
       "      <th>subject.Science.Physics.Electricity_and_Electronics</th>\n",
       "      <td>20</td>\n",
       "    </tr>\n",
       "    <tr>\n",
       "      <th>subject.Science.Physics.General_Physics</th>\n",
       "      <td>55</td>\n",
       "    </tr>\n",
       "    <tr>\n",
       "      <th>subject.Science.Physics.Space_Astronomy</th>\n",
       "      <td>105</td>\n",
       "    </tr>\n",
       "    <tr>\n",
       "      <th>subject.Science.Physics.Space_transport</th>\n",
       "      <td>33</td>\n",
       "    </tr>\n",
       "    <tr>\n",
       "      <th>subject.Science.Physics.The_Planets</th>\n",
       "      <td>13</td>\n",
       "    </tr>\n",
       "  </tbody>\n",
       "</table>\n",
       "<p>129 rows × 1 columns</p>\n",
       "</div>"
      ],
      "text/plain": [
       "                                                    article\n",
       "category                                                   \n",
       "subject.Art.Art                                          36\n",
       "subject.Art.Artists                                       2\n",
       "subject.Business_Studies.Business                        28\n",
       "subject.Business_Studies.Companies                       18\n",
       "subject.Business_Studies.Currency                        14\n",
       "...                                                     ...\n",
       "subject.Science.Physics.Electricity_and_Electro...       20\n",
       "subject.Science.Physics.General_Physics                  55\n",
       "subject.Science.Physics.Space_Astronomy                 105\n",
       "subject.Science.Physics.Space_transport                  33\n",
       "subject.Science.Physics.The_Planets                      13\n",
       "\n",
       "[129 rows x 1 columns]"
      ]
     },
     "execution_count": 18,
     "metadata": {},
     "output_type": "execute_result"
    }
   ],
   "source": [
    "# Number of articles in each category\n",
    "n_artcat = categories.groupby(categories[\"category\"]).nunique()\n",
    "\n",
    "print(f\"The number of categories is {len(n_artcat)}\")\n",
    "n_artcat"
   ]
  },
  {
   "cell_type": "markdown",
   "id": "272492b5-864c-4fae-9c03-25a44e03e620",
   "metadata": {
    "jp-MarkdownHeadingCollapsed": true,
    "tags": []
   },
   "source": [
    "##### **Links**"
   ]
  },
  {
   "cell_type": "code",
   "execution_count": 23,
   "id": "e118346a-74b4-4d9c-8d8b-d3560dab5e9c",
   "metadata": {},
   "outputs": [
    {
     "name": "stdout",
     "output_type": "stream",
     "text": [
      "Number of combinations of source and target articles in the dataset: 119882\n"
     ]
    },
    {
     "data": {
      "text/html": [
       "<div>\n",
       "<style scoped>\n",
       "    .dataframe tbody tr th:only-of-type {\n",
       "        vertical-align: middle;\n",
       "    }\n",
       "\n",
       "    .dataframe tbody tr th {\n",
       "        vertical-align: top;\n",
       "    }\n",
       "\n",
       "    .dataframe thead th {\n",
       "        text-align: right;\n",
       "    }\n",
       "</style>\n",
       "<table border=\"1\" class=\"dataframe\">\n",
       "  <thead>\n",
       "    <tr style=\"text-align: right;\">\n",
       "      <th></th>\n",
       "      <th>link_source</th>\n",
       "      <th>link_target</th>\n",
       "    </tr>\n",
       "  </thead>\n",
       "  <tbody>\n",
       "    <tr>\n",
       "      <th>0</th>\n",
       "      <td>%C3%81ed%C3%A1n_mac_Gabr%C3%A1in</td>\n",
       "      <td>Bede</td>\n",
       "    </tr>\n",
       "    <tr>\n",
       "      <th>1</th>\n",
       "      <td>%C3%81ed%C3%A1n_mac_Gabr%C3%A1in</td>\n",
       "      <td>Columba</td>\n",
       "    </tr>\n",
       "    <tr>\n",
       "      <th>2</th>\n",
       "      <td>%C3%81ed%C3%A1n_mac_Gabr%C3%A1in</td>\n",
       "      <td>D%C3%A1l_Riata</td>\n",
       "    </tr>\n",
       "    <tr>\n",
       "      <th>3</th>\n",
       "      <td>%C3%81ed%C3%A1n_mac_Gabr%C3%A1in</td>\n",
       "      <td>Great_Britain</td>\n",
       "    </tr>\n",
       "    <tr>\n",
       "      <th>4</th>\n",
       "      <td>%C3%81ed%C3%A1n_mac_Gabr%C3%A1in</td>\n",
       "      <td>Ireland</td>\n",
       "    </tr>\n",
       "  </tbody>\n",
       "</table>\n",
       "</div>"
      ],
      "text/plain": [
       "                        link_source     link_target\n",
       "0  %C3%81ed%C3%A1n_mac_Gabr%C3%A1in            Bede\n",
       "1  %C3%81ed%C3%A1n_mac_Gabr%C3%A1in         Columba\n",
       "2  %C3%81ed%C3%A1n_mac_Gabr%C3%A1in  D%C3%A1l_Riata\n",
       "3  %C3%81ed%C3%A1n_mac_Gabr%C3%A1in   Great_Britain\n",
       "4  %C3%81ed%C3%A1n_mac_Gabr%C3%A1in         Ireland"
      ]
     },
     "execution_count": 23,
     "metadata": {},
     "output_type": "execute_result"
    }
   ],
   "source": [
    "print(f\"Number of combinations of source and target articles in the dataset: {len(links)}\")\n",
    "links.head(5)"
   ]
  },
  {
   "cell_type": "markdown",
   "id": "fc18aa3b-638f-48e7-a5d0-74cbbb984b61",
   "metadata": {
    "jp-MarkdownHeadingCollapsed": true,
    "tags": []
   },
   "source": [
    "##### **Finished paths**"
   ]
  },
  {
   "cell_type": "code",
   "execution_count": 20,
   "id": "8a8880d3-425f-4c85-93cc-dbf9666b62ba",
   "metadata": {},
   "outputs": [
    {
     "name": "stdout",
     "output_type": "stream",
     "text": [
      "Number of finished paths: 51318\n"
     ]
    },
    {
     "data": {
      "text/html": [
       "<div>\n",
       "<style scoped>\n",
       "    .dataframe tbody tr th:only-of-type {\n",
       "        vertical-align: middle;\n",
       "    }\n",
       "\n",
       "    .dataframe tbody tr th {\n",
       "        vertical-align: top;\n",
       "    }\n",
       "\n",
       "    .dataframe thead th {\n",
       "        text-align: right;\n",
       "    }\n",
       "</style>\n",
       "<table border=\"1\" class=\"dataframe\">\n",
       "  <thead>\n",
       "    <tr style=\"text-align: right;\">\n",
       "      <th></th>\n",
       "      <th>hashedIpAddress</th>\n",
       "      <th>timestamp</th>\n",
       "      <th>durationInSec</th>\n",
       "      <th>path</th>\n",
       "      <th>rating</th>\n",
       "    </tr>\n",
       "  </thead>\n",
       "  <tbody>\n",
       "    <tr>\n",
       "      <th>0</th>\n",
       "      <td>6a3701d319fc3754</td>\n",
       "      <td>1297740409</td>\n",
       "      <td>166</td>\n",
       "      <td>14th_century;15th_century;16th_century;Pacific...</td>\n",
       "      <td>NaN</td>\n",
       "    </tr>\n",
       "    <tr>\n",
       "      <th>1</th>\n",
       "      <td>3824310e536af032</td>\n",
       "      <td>1344753412</td>\n",
       "      <td>88</td>\n",
       "      <td>14th_century;Europe;Africa;Atlantic_slave_trad...</td>\n",
       "      <td>3.0</td>\n",
       "    </tr>\n",
       "    <tr>\n",
       "      <th>2</th>\n",
       "      <td>415612e93584d30e</td>\n",
       "      <td>1349298640</td>\n",
       "      <td>138</td>\n",
       "      <td>14th_century;Niger;Nigeria;British_Empire;Slav...</td>\n",
       "      <td>NaN</td>\n",
       "    </tr>\n",
       "    <tr>\n",
       "      <th>3</th>\n",
       "      <td>64dd5cd342e3780c</td>\n",
       "      <td>1265613925</td>\n",
       "      <td>37</td>\n",
       "      <td>14th_century;Renaissance;Ancient_Greece;Greece</td>\n",
       "      <td>NaN</td>\n",
       "    </tr>\n",
       "    <tr>\n",
       "      <th>4</th>\n",
       "      <td>015245d773376aab</td>\n",
       "      <td>1366730828</td>\n",
       "      <td>175</td>\n",
       "      <td>14th_century;Italy;Roman_Catholic_Church;HIV;R...</td>\n",
       "      <td>3.0</td>\n",
       "    </tr>\n",
       "  </tbody>\n",
       "</table>\n",
       "</div>"
      ],
      "text/plain": [
       "    hashedIpAddress   timestamp  durationInSec  \\\n",
       "0  6a3701d319fc3754  1297740409            166   \n",
       "1  3824310e536af032  1344753412             88   \n",
       "2  415612e93584d30e  1349298640            138   \n",
       "3  64dd5cd342e3780c  1265613925             37   \n",
       "4  015245d773376aab  1366730828            175   \n",
       "\n",
       "                                                path  rating  \n",
       "0  14th_century;15th_century;16th_century;Pacific...     NaN  \n",
       "1  14th_century;Europe;Africa;Atlantic_slave_trad...     3.0  \n",
       "2  14th_century;Niger;Nigeria;British_Empire;Slav...     NaN  \n",
       "3     14th_century;Renaissance;Ancient_Greece;Greece     NaN  \n",
       "4  14th_century;Italy;Roman_Catholic_Church;HIV;R...     3.0  "
      ]
     },
     "execution_count": 20,
     "metadata": {},
     "output_type": "execute_result"
    }
   ],
   "source": [
    "print(f\"Number of finished paths: {len(paths_finished)}\")\n",
    "paths_finished.head(5)"
   ]
  },
  {
   "cell_type": "markdown",
   "id": "33a12745-f6f3-47d6-a76f-9e889411a5f1",
   "metadata": {
    "jp-MarkdownHeadingCollapsed": true,
    "tags": []
   },
   "source": [
    "##### **Unfinished paths**"
   ]
  },
  {
   "cell_type": "code",
   "execution_count": 21,
   "id": "f75146f9-3079-4ed8-8f1f-026505829f41",
   "metadata": {},
   "outputs": [
    {
     "name": "stdout",
     "output_type": "stream",
     "text": [
      "Number of unfinished paths: 24875\n"
     ]
    },
    {
     "data": {
      "text/html": [
       "<div>\n",
       "<style scoped>\n",
       "    .dataframe tbody tr th:only-of-type {\n",
       "        vertical-align: middle;\n",
       "    }\n",
       "\n",
       "    .dataframe tbody tr th {\n",
       "        vertical-align: top;\n",
       "    }\n",
       "\n",
       "    .dataframe thead th {\n",
       "        text-align: right;\n",
       "    }\n",
       "</style>\n",
       "<table border=\"1\" class=\"dataframe\">\n",
       "  <thead>\n",
       "    <tr style=\"text-align: right;\">\n",
       "      <th></th>\n",
       "      <th>hashedIpAddress</th>\n",
       "      <th>timestamp</th>\n",
       "      <th>durationInSec</th>\n",
       "      <th>path</th>\n",
       "      <th>target</th>\n",
       "      <th>type</th>\n",
       "    </tr>\n",
       "  </thead>\n",
       "  <tbody>\n",
       "    <tr>\n",
       "      <th>0</th>\n",
       "      <td>2426091a53125110</td>\n",
       "      <td>1297054935</td>\n",
       "      <td>1804</td>\n",
       "      <td>Obi-Wan_Kenobi</td>\n",
       "      <td>Microsoft</td>\n",
       "      <td>timeout</td>\n",
       "    </tr>\n",
       "    <tr>\n",
       "      <th>1</th>\n",
       "      <td>26141fd878806294</td>\n",
       "      <td>1297055651</td>\n",
       "      <td>1805</td>\n",
       "      <td>Julius_Caesar</td>\n",
       "      <td>Caracas</td>\n",
       "      <td>timeout</td>\n",
       "    </tr>\n",
       "    <tr>\n",
       "      <th>2</th>\n",
       "      <td>2b015fb8181c48f2</td>\n",
       "      <td>1297090819</td>\n",
       "      <td>1818</td>\n",
       "      <td>Malawi;Democracy;Alexander_the_Great</td>\n",
       "      <td>First_Crusade</td>\n",
       "      <td>timeout</td>\n",
       "    </tr>\n",
       "    <tr>\n",
       "      <th>3</th>\n",
       "      <td>53a53bc244e08a6a</td>\n",
       "      <td>1297094761</td>\n",
       "      <td>49</td>\n",
       "      <td>Paraguay</td>\n",
       "      <td>Mount_St._Helens</td>\n",
       "      <td>restart</td>\n",
       "    </tr>\n",
       "    <tr>\n",
       "      <th>4</th>\n",
       "      <td>53a53bc244e08a6a</td>\n",
       "      <td>1297099105</td>\n",
       "      <td>1808</td>\n",
       "      <td>Paraguay;Bolivia</td>\n",
       "      <td>Mount_St._Helens</td>\n",
       "      <td>timeout</td>\n",
       "    </tr>\n",
       "  </tbody>\n",
       "</table>\n",
       "</div>"
      ],
      "text/plain": [
       "    hashedIpAddress   timestamp  durationInSec  \\\n",
       "0  2426091a53125110  1297054935           1804   \n",
       "1  26141fd878806294  1297055651           1805   \n",
       "2  2b015fb8181c48f2  1297090819           1818   \n",
       "3  53a53bc244e08a6a  1297094761             49   \n",
       "4  53a53bc244e08a6a  1297099105           1808   \n",
       "\n",
       "                                   path            target     type  \n",
       "0                        Obi-Wan_Kenobi         Microsoft  timeout  \n",
       "1                         Julius_Caesar           Caracas  timeout  \n",
       "2  Malawi;Democracy;Alexander_the_Great     First_Crusade  timeout  \n",
       "3                              Paraguay  Mount_St._Helens  restart  \n",
       "4                      Paraguay;Bolivia  Mount_St._Helens  timeout  "
      ]
     },
     "execution_count": 21,
     "metadata": {},
     "output_type": "execute_result"
    }
   ],
   "source": [
    "print(f\"Number of unfinished paths: {len(paths_unfinished)}\")\n",
    "paths_unfinished.head(5)"
   ]
  },
  {
   "cell_type": "markdown",
   "id": "938dc3d4-47fb-49a6-87fa-f294f47be5be",
   "metadata": {
    "jp-MarkdownHeadingCollapsed": true,
    "tags": []
   },
   "source": [
    "##### **Females**"
   ]
  },
  {
   "cell_type": "code",
   "execution_count": 26,
   "id": "25cdfc1f-9033-4487-ac2a-70f949072f8f",
   "metadata": {},
   "outputs": [
    {
     "name": "stdout",
     "output_type": "stream",
     "text": [
      "Number of articles about women: 59\n"
     ]
    },
    {
     "data": {
      "text/html": [
       "<div>\n",
       "<style scoped>\n",
       "    .dataframe tbody tr th:only-of-type {\n",
       "        vertical-align: middle;\n",
       "    }\n",
       "\n",
       "    .dataframe tbody tr th {\n",
       "        vertical-align: top;\n",
       "    }\n",
       "\n",
       "    .dataframe thead th {\n",
       "        text-align: right;\n",
       "    }\n",
       "</style>\n",
       "<table border=\"1\" class=\"dataframe\">\n",
       "  <thead>\n",
       "    <tr style=\"text-align: right;\">\n",
       "      <th></th>\n",
       "      <th>women</th>\n",
       "      <th>women_label</th>\n",
       "    </tr>\n",
       "  </thead>\n",
       "  <tbody>\n",
       "    <tr>\n",
       "      <th>0</th>\n",
       "      <td>Bette_Davis</td>\n",
       "      <td>subject.People.Actors_models_and_celebrities</td>\n",
       "    </tr>\n",
       "    <tr>\n",
       "      <th>1</th>\n",
       "      <td>Britney_Spears</td>\n",
       "      <td>subject.People.Actors_models_and_celebrities</td>\n",
       "    </tr>\n",
       "    <tr>\n",
       "      <th>2</th>\n",
       "      <td>Diane_Keaton</td>\n",
       "      <td>subject.People.Actors_models_and_celebrities</td>\n",
       "    </tr>\n",
       "    <tr>\n",
       "      <th>3</th>\n",
       "      <td>Emma_Roberts</td>\n",
       "      <td>subject.People.Actors_models_and_celebrities</td>\n",
       "    </tr>\n",
       "    <tr>\n",
       "      <th>4</th>\n",
       "      <td>Evan_Rachel_Wood</td>\n",
       "      <td>subject.People.Actors_models_and_celebrities</td>\n",
       "    </tr>\n",
       "  </tbody>\n",
       "</table>\n",
       "</div>"
      ],
      "text/plain": [
       "              women                                    women_label\n",
       "0       Bette_Davis   subject.People.Actors_models_and_celebrities\n",
       "1    Britney_Spears   subject.People.Actors_models_and_celebrities\n",
       "2      Diane_Keaton   subject.People.Actors_models_and_celebrities\n",
       "3      Emma_Roberts   subject.People.Actors_models_and_celebrities\n",
       "4  Evan_Rachel_Wood   subject.People.Actors_models_and_celebrities"
      ]
     },
     "execution_count": 26,
     "metadata": {},
     "output_type": "execute_result"
    }
   ],
   "source": [
    "print(f\"Number of articles about women: {len(female)}\")\n",
    "female.head(5)"
   ]
  },
  {
   "cell_type": "markdown",
   "id": "4b06b575-f737-4951-8503-e30ace75c1bf",
   "metadata": {},
   "source": [
    "### **Visulizations**"
   ]
  },
  {
   "cell_type": "markdown",
   "id": "08773fcd-2947-43f6-a909-42c0f35ae82f",
   "metadata": {},
   "source": [
    "#### TASK: Make a visualization about the subcategories of women - compare to men's subcategories"
   ]
  },
  {
   "cell_type": "markdown",
   "id": "3de7ec8b-b5d5-48b9-b1ab-2525bea65bbd",
   "metadata": {},
   "source": [
    "We begin with constructing a new dataframe `people` that contains all articles in the category of People (refers to \"subject.People\") and their corresponding subcategory."
   ]
  },
  {
   "cell_type": "code",
   "execution_count": 9,
   "id": "c0d29c04-99f2-46d1-825d-1ca5c875d701",
   "metadata": {},
   "outputs": [
    {
     "name": "stdout",
     "output_type": "stream",
     "text": [
      "The number of articles about people of all genders are 689\n"
     ]
    }
   ],
   "source": [
    "people = categories.loc[list(map(lambda x: x.startswith('subject.People.'), categories['category']))]\n",
    "people = people[[\"article\",\"category\"]]\n",
    "print(f\"The number of articles about people of all genders are {len(people)}\")"
   ]
  },
  {
   "cell_type": "markdown",
   "id": "5d7ebfba-f7dd-46ed-a0a3-9a83217fb583",
   "metadata": {},
   "source": [
    "We will now create two new dataframes, called `finpaths_women_target` and `finpaths_men_target`, that contain respectively all finished paths that have a women and men as a target article. We begin with constructing a pandas series `womenName` of all articles about women using the handmade `female` dataframe. Using the newly constructed `people` dataframe, we can construct a series of articles about men by filtering out every article about women from `people`. If the target article in a finished path is in any of the two women and men lists, we can construct the desired dataframe."
   ]
  },
  {
   "cell_type": "code",
   "execution_count": 10,
   "id": "b7fe7bc7-aff7-4738-a89a-7669fcb59544",
   "metadata": {},
   "outputs": [],
   "source": [
    "womenName = female['women']                                      # A series of all articles about women\n",
    "menName = people[~people['article'].isin(womenName)]['article']  # A series of all articles about men\n",
    "\n",
    "# Add the columns source and target to paths_finished\n",
    "paths_finished['source'] = paths_finished['path'].str.split(';').str[0]\n",
    "paths_finished['target'] = paths_finished['path'].str.split(';').str[-1]\n",
    "\n",
    "# if target is in womenName, add row to dataframe\n",
    "finpaths_women_target = paths_finished[paths_finished['target'].isin(womenName)]\n",
    "\n",
    "# if target is in menName, add row to dataframe\n",
    "finpaths_men_target = paths_finished[paths_finished['target'].isin(menName)]"
   ]
  },
  {
   "cell_type": "markdown",
   "id": "5fb132e0-0f8d-4722-9c79-cb077ae72685",
   "metadata": {},
   "source": [
    "##### Finished paths with women and men target articles"
   ]
  },
  {
   "cell_type": "code",
   "execution_count": 11,
   "id": "411d2b5f-1cd5-43dd-bb85-42f318bb74c5",
   "metadata": {},
   "outputs": [
    {
     "name": "stdout",
     "output_type": "stream",
     "text": [
      "Number of articles that have women as a target is 347\n",
      "Number of articles that have men as a target is 5566\n"
     ]
    }
   ],
   "source": [
    "print(f\"Number of articles that have women as a target is {len(finpaths_women_target)}\")\n",
    "print(f\"Number of articles that have men as a target is {len(finpaths_men_target)}\")"
   ]
  },
  {
   "cell_type": "code",
   "execution_count": 12,
   "id": "7df782e2-ccc0-4fcb-b24b-0cb122bc9eca",
   "metadata": {},
   "outputs": [
    {
     "data": {
      "image/png": "[encoded data removed]",
      "text/plain": [
       "<Figure size 640x480 with 1 Axes>"
      ]
     },
     "metadata": {},
     "output_type": "display_data"
    }
   ],
   "source": [
    "compare_mv_fin = pd.DataFrame({'label':['women', 'men'], 'val':[len(finpaths_women_target), len(finpaths_men_target)]})\n",
    "ax = compare_mv_fin.plot.bar(x='label', y='val', rot = 0, color = ['hotpink','deepskyblue'], legend = False,\n",
    "                             title = \"Number of finished paths that contain men vs. women as a target article\",\n",
    "                             ylabel = 'Number of paths', ylim = [0, 6000])"
   ]
  },
  {
   "cell_type": "markdown",
   "id": "1b726fa7-814a-43fe-aac2-1d33edafcdb7",
   "metadata": {},
   "source": [
    "##### Unfinished paths with women and men target articles"
   ]
  },
  {
   "cell_type": "code",
   "execution_count": 13,
   "id": "1736ae2c-a83d-443f-9bdd-e0b8c494c535",
   "metadata": {},
   "outputs": [],
   "source": [
    "# Add the column source to paths_unfinished\n",
    "paths_unfinished['source'] = paths_unfinished['path'].str.split(';').str[0]\n",
    "\n",
    "# if target is in womenName, add row to dataframe\n",
    "unfinpaths_women_target = paths_unfinished[paths_unfinished['target'].isin(womenName)]\n",
    "\n",
    "# if target is in menName, add row to dataframe\n",
    "unfinpaths_men_target = paths_unfinished[paths_unfinished['target'].isin(menName)]"
   ]
  },
  {
   "cell_type": "code",
   "execution_count": 14,
   "id": "df6187d0-bbb9-4267-91ff-26190eb61b53",
   "metadata": {},
   "outputs": [
    {
     "name": "stdout",
     "output_type": "stream",
     "text": [
      "Number of unfinished paths that have women as a target 342\n",
      "Number of unfinished paths that have men as a target 2374\n"
     ]
    }
   ],
   "source": [
    "print(f\"Number of unfinished paths that have women as a target {len(unfinpaths_women_target)}\")\n",
    "print(f\"Number of unfinished paths that have men as a target {len(unfinpaths_men_target)}\")"
   ]
  },
  {
   "cell_type": "code",
   "execution_count": 15,
   "id": "5b33a491-09e3-4ec8-a9d1-a5641525217b",
   "metadata": {},
   "outputs": [
    {
     "data": {
      "image/png": "[encoded data removed]",
      "text/plain": [
       "<Figure size 640x480 with 1 Axes>"
      ]
     },
     "metadata": {},
     "output_type": "display_data"
    }
   ],
   "source": [
    "compare_mv_unfin = pd.DataFrame({'label':['women', 'men'], 'val':[len(unfinpaths_women_target), len(unfinpaths_men_target)]})\n",
    "ax = compare_mv_unfin.plot.bar(x = 'label', y = 'val', rot = 0, color = ['hotpink','deepskyblue'], legend = False,\n",
    "                               title = \"Number of unfinished paths that contain men vs. women as a target article\",\n",
    "                               ylabel = 'Number of paths', ylim = [0, 6000])"
   ]
  },
  {
   "cell_type": "code",
   "execution_count": 16,
   "id": "f307af5e-94e0-4455-b0c4-d6d32fe176d8",
   "metadata": {},
   "outputs": [
    {
     "data": {
      "image/png": "[encoded data removed]",
      "text/plain": [
       "<Figure size 640x480 with 1 Axes>"
      ]
     },
     "metadata": {},
     "output_type": "display_data"
    }
   ],
   "source": [
    "women = [len(finpaths_women_target), len(unfinpaths_women_target)]\n",
    "men = [len(finpaths_men_target), len(unfinpaths_men_target)]\n",
    "index = ['Finished paths', 'Unfinished paths']\n",
    "compare_mv = pd.DataFrame({'women': women,'men': men}, index=index)\n",
    "ax = compare_mv.plot.bar(rot=0, color = ['hotpink','deepskyblue'], \n",
    "                         title = \"Number of paths that contain men vs. women as a target article\",\n",
    "                         ylabel = 'Number of paths', width = 0.8)"
   ]
  },
  {
   "cell_type": "code",
   "execution_count": 61,
   "id": "71a4025d-590a-4e0e-b763-8c2ed60d8e60",
   "metadata": {},
   "outputs": [
    {
     "name": "stdout",
     "output_type": "stream",
     "text": [
      "Total number of unique categories for people are:  20\n"
     ]
    },
    {
     "data": {
      "image/png": "[encoded data removed]",
      "text/plain": [
       "<Figure size 640x480 with 1 Axes>"
      ]
     },
     "metadata": {},
     "output_type": "display_data"
    }
   ],
   "source": [
    "categories_dist = people[\"category\"].str.slice_replace(0, 15, '').value_counts()\n",
    "print(\"Total number of unique categories for people are: \", len(categories_dist))\n",
    "categories_dist.plot.bar(title = \"Distribution of subcategories for the people group\",\n",
    "                         ylabel = 'Number of articles', width = 0.7)\n",
    "plt.show()"
   ]
  },
  {
   "cell_type": "code",
   "execution_count": 32,
   "id": "7cbe7310-c2ab-4f54-b4d0-be718c483af3",
   "metadata": {},
   "outputs": [],
   "source": [
    "womenPeople = people[people['article'].isin(womenName)]\n",
    "menPeople = people[people['article'].isin(menName)]"
   ]
  },
  {
   "cell_type": "code",
   "execution_count": 64,
   "id": "260ccee3-f7e0-4a8d-8372-98faf70f5034",
   "metadata": {},
   "outputs": [
    {
     "name": "stdout",
     "output_type": "stream",
     "text": [
      "Total number of unique categories for people are:  12\n"
     ]
    },
    {
     "data": {
      "image/png": "[encoded data removed]",
      "text/plain": [
       "<Figure size 640x480 with 1 Axes>"
      ]
     },
     "metadata": {},
     "output_type": "display_data"
    }
   ],
   "source": [
    "women = womenPeople[\"category\"].str.slice_replace(0, 15, '').value_counts()\n",
    "men = menPeople[\"category\"].str.slice_replace(0, 15, '').value_counts()\n",
    "index = men.keys()\n",
    "print(\"Total number of unique categories for people are: \", len(women))\n",
    "df = pd.DataFrame({'women': women,\n",
    "                   'men': men}, index=index)\n",
    "ax = df.plot.bar(stacked = True, color = ['hotpink', 'deepskyblue'], \n",
    "                         title = \"Distribution of subcategories for women and men\",\n",
    "                         ylabel = 'Number of articles', width = 0.7)\n",
    "\n",
    "plt.show()"
   ]
  },
  {
   "cell_type": "markdown",
   "id": "5f8a4746-e090-4b93-9726-c8486f24789a",
   "metadata": {},
   "source": [
    "#### MERGE "
   ]
  },
  {
   "cell_type": "markdown",
   "id": "5586cdd4-581f-4e68-951e-5092c09e5883",
   "metadata": {},
   "source": [
    "By merging `finpaths_women_target` and `finpaths_men_target` on the source article, we can construct a dataframe `comb` that contains rows of all pairs of two target articles (one about a woman, the other about a man) with the same source article."
   ]
  },
  {
   "cell_type": "markdown",
   "id": "24d0ed8b-8bba-4575-82ef-226da7984825",
   "metadata": {},
   "source": [
    "Example: If five different paths exist from the source article *14th_century* towards the target article *Elizabeth_I_of_England*, and two different paths exist from the same source article towards the target article *John_F._Kennedy*, we would get $5 \\times 2 = 10$ number of pairs to compare."
   ]
  },
  {
   "cell_type": "code",
   "execution_count": 154,
   "id": "3908dc53-3972-42b2-971c-5a5769d3dd88",
   "metadata": {},
   "outputs": [],
   "source": [
    "comb_finpaths = finpaths_women_target[[\"source\", \"path\", \"target\"]].merge(finpaths_men_target[[\"source\", \"path\", \"target\"]], \n",
    "                                                        on=['source'], how = \"inner\",\n",
    "                                                        suffixes=('_women', '_men'))"
   ]
  },
  {
   "cell_type": "code",
   "execution_count": 155,
   "id": "54cb08ee-0bb6-404b-b194-60f927f0cfbf",
   "metadata": {},
   "outputs": [
    {
     "data": {
      "text/html": [
       "<div>\n",
       "<style scoped>\n",
       "    .dataframe tbody tr th:only-of-type {\n",
       "        vertical-align: middle;\n",
       "    }\n",
       "\n",
       "    .dataframe tbody tr th {\n",
       "        vertical-align: top;\n",
       "    }\n",
       "\n",
       "    .dataframe thead th {\n",
       "        text-align: right;\n",
       "    }\n",
       "</style>\n",
       "<table border=\"1\" class=\"dataframe\">\n",
       "  <thead>\n",
       "    <tr style=\"text-align: right;\">\n",
       "      <th></th>\n",
       "      <th>source</th>\n",
       "      <th>path_women</th>\n",
       "      <th>target_women</th>\n",
       "      <th>path_men</th>\n",
       "      <th>target_men</th>\n",
       "    </tr>\n",
       "  </thead>\n",
       "  <tbody>\n",
       "    <tr>\n",
       "      <th>0</th>\n",
       "      <td>14th_century</td>\n",
       "      <td>14th_century;England;London;Spanish_Armada;Eng...</td>\n",
       "      <td>Elizabeth_I_of_England</td>\n",
       "      <td>14th_century;Italy;Roman_Catholic_Church;HIV;R...</td>\n",
       "      <td>John_F._Kennedy</td>\n",
       "    </tr>\n",
       "    <tr>\n",
       "      <th>1</th>\n",
       "      <td>14th_century</td>\n",
       "      <td>14th_century;England;London;Spanish_Armada;Eng...</td>\n",
       "      <td>Elizabeth_I_of_England</td>\n",
       "      <td>14th_century;Europe;North_America;United_State...</td>\n",
       "      <td>John_F._Kennedy</td>\n",
       "    </tr>\n",
       "    <tr>\n",
       "      <th>2</th>\n",
       "      <td>14th_century</td>\n",
       "      <td>14th_century;England;London;Spanish_Armada;Eng...</td>\n",
       "      <td>Elizabeth_I_of_England</td>\n",
       "      <td>14th_century;Europe;&lt;;England;&lt;;Christianity;A...</td>\n",
       "      <td>Henry_David_Thoreau</td>\n",
       "    </tr>\n",
       "    <tr>\n",
       "      <th>3</th>\n",
       "      <td>14th_century</td>\n",
       "      <td>14th_century;England;James_I_of_England;Elizab...</td>\n",
       "      <td>Elizabeth_I_of_England</td>\n",
       "      <td>14th_century;Italy;Roman_Catholic_Church;HIV;R...</td>\n",
       "      <td>John_F._Kennedy</td>\n",
       "    </tr>\n",
       "    <tr>\n",
       "      <th>4</th>\n",
       "      <td>14th_century</td>\n",
       "      <td>14th_century;England;James_I_of_England;Elizab...</td>\n",
       "      <td>Elizabeth_I_of_England</td>\n",
       "      <td>14th_century;Europe;North_America;United_State...</td>\n",
       "      <td>John_F._Kennedy</td>\n",
       "    </tr>\n",
       "    <tr>\n",
       "      <th>...</th>\n",
       "      <td>...</td>\n",
       "      <td>...</td>\n",
       "      <td>...</td>\n",
       "      <td>...</td>\n",
       "      <td>...</td>\n",
       "    </tr>\n",
       "    <tr>\n",
       "      <th>469</th>\n",
       "      <td>Ununoctium</td>\n",
       "      <td>Ununoctium;Uranium;World_War_II;The_Holocaust;...</td>\n",
       "      <td>Anne_Frank</td>\n",
       "      <td>Ununoctium;Russia;United_Kingdom;British_monar...</td>\n",
       "      <td>Henry_IV_of_England</td>\n",
       "    </tr>\n",
       "    <tr>\n",
       "      <th>470</th>\n",
       "      <td>William_Pitt_the_Younger</td>\n",
       "      <td>William_Pitt_the_Younger;Prime_Minister_of_the...</td>\n",
       "      <td>Miranda_Otto</td>\n",
       "      <td>William_Pitt_the_Younger;British_Empire;Ottoma...</td>\n",
       "      <td>Socrates</td>\n",
       "    </tr>\n",
       "    <tr>\n",
       "      <th>471</th>\n",
       "      <td>Windows_2000</td>\n",
       "      <td>Windows_2000;North_America;California;Arnold_S...</td>\n",
       "      <td>Bette_Davis</td>\n",
       "      <td>Windows_2000;Microsoft;United_States;George_Wa...</td>\n",
       "      <td>Ronald_Reagan</td>\n",
       "    </tr>\n",
       "    <tr>\n",
       "      <th>472</th>\n",
       "      <td>Windows_2000</td>\n",
       "      <td>Windows_2000;North_America;United_States;Cinem...</td>\n",
       "      <td>Bette_Davis</td>\n",
       "      <td>Windows_2000;Microsoft;United_States;George_Wa...</td>\n",
       "      <td>Ronald_Reagan</td>\n",
       "    </tr>\n",
       "    <tr>\n",
       "      <th>473</th>\n",
       "      <td>J%C3%B3zef_Pi%C5%82sudski</td>\n",
       "      <td>J%C3%B3zef_Pi%C5%82sudski;Russia;United_Kingdo...</td>\n",
       "      <td>Mary_II_of_England</td>\n",
       "      <td>J%C3%B3zef_Pi%C5%82sudski;World_War_I;World_Wa...</td>\n",
       "      <td>Vincent_van_Gogh</td>\n",
       "    </tr>\n",
       "  </tbody>\n",
       "</table>\n",
       "<p>474 rows × 5 columns</p>\n",
       "</div>"
      ],
      "text/plain": [
       "                        source  \\\n",
       "0                 14th_century   \n",
       "1                 14th_century   \n",
       "2                 14th_century   \n",
       "3                 14th_century   \n",
       "4                 14th_century   \n",
       "..                         ...   \n",
       "469                 Ununoctium   \n",
       "470   William_Pitt_the_Younger   \n",
       "471               Windows_2000   \n",
       "472               Windows_2000   \n",
       "473  J%C3%B3zef_Pi%C5%82sudski   \n",
       "\n",
       "                                            path_women  \\\n",
       "0    14th_century;England;London;Spanish_Armada;Eng...   \n",
       "1    14th_century;England;London;Spanish_Armada;Eng...   \n",
       "2    14th_century;England;London;Spanish_Armada;Eng...   \n",
       "3    14th_century;England;James_I_of_England;Elizab...   \n",
       "4    14th_century;England;James_I_of_England;Elizab...   \n",
       "..                                                 ...   \n",
       "469  Ununoctium;Uranium;World_War_II;The_Holocaust;...   \n",
       "470  William_Pitt_the_Younger;Prime_Minister_of_the...   \n",
       "471  Windows_2000;North_America;California;Arnold_S...   \n",
       "472  Windows_2000;North_America;United_States;Cinem...   \n",
       "473  J%C3%B3zef_Pi%C5%82sudski;Russia;United_Kingdo...   \n",
       "\n",
       "               target_women  \\\n",
       "0    Elizabeth_I_of_England   \n",
       "1    Elizabeth_I_of_England   \n",
       "2    Elizabeth_I_of_England   \n",
       "3    Elizabeth_I_of_England   \n",
       "4    Elizabeth_I_of_England   \n",
       "..                      ...   \n",
       "469              Anne_Frank   \n",
       "470            Miranda_Otto   \n",
       "471             Bette_Davis   \n",
       "472             Bette_Davis   \n",
       "473      Mary_II_of_England   \n",
       "\n",
       "                                              path_men           target_men  \n",
       "0    14th_century;Italy;Roman_Catholic_Church;HIV;R...      John_F._Kennedy  \n",
       "1    14th_century;Europe;North_America;United_State...      John_F._Kennedy  \n",
       "2    14th_century;Europe;<;England;<;Christianity;A...  Henry_David_Thoreau  \n",
       "3    14th_century;Italy;Roman_Catholic_Church;HIV;R...      John_F._Kennedy  \n",
       "4    14th_century;Europe;North_America;United_State...      John_F._Kennedy  \n",
       "..                                                 ...                  ...  \n",
       "469  Ununoctium;Russia;United_Kingdom;British_monar...  Henry_IV_of_England  \n",
       "470  William_Pitt_the_Younger;British_Empire;Ottoma...             Socrates  \n",
       "471  Windows_2000;Microsoft;United_States;George_Wa...        Ronald_Reagan  \n",
       "472  Windows_2000;Microsoft;United_States;George_Wa...        Ronald_Reagan  \n",
       "473  J%C3%B3zef_Pi%C5%82sudski;World_War_I;World_Wa...     Vincent_van_Gogh  \n",
       "\n",
       "[474 rows x 5 columns]"
      ]
     },
     "execution_count": 155,
     "metadata": {},
     "output_type": "execute_result"
    }
   ],
   "source": [
    "comb_finpaths"
   ]
  },
  {
   "cell_type": "markdown",
   "id": "72931adc-8c9b-4ab5-bec3-58de49e4efca",
   "metadata": {},
   "source": [
    "#### Getting familiar with the merged data"
   ]
  },
  {
   "cell_type": "code",
   "execution_count": 157,
   "id": "3eec9911-fbdd-443a-a722-c8981c10147c",
   "metadata": {},
   "outputs": [
    {
     "name": "stdout",
     "output_type": "stream",
     "text": [
      "The number of distinct sources that go both to women and men are 118\n",
      "The number of paths from all of these sources are 474\n"
     ]
    }
   ],
   "source": [
    "sources = comb.groupby(comb[\"source\"]).count()\n",
    "print(\"The number of distinct sources that go both to women and men are {}\".format(len(sources)))\n",
    "print(\"The number of paths from all of these sources are {}\".format(len(comb)))"
   ]
  },
  {
   "cell_type": "code",
   "execution_count": 158,
   "id": "0551464d-7e66-4115-bb58-52ae49e8d680",
   "metadata": {},
   "outputs": [
    {
     "data": {
      "text/html": [
       "<div>\n",
       "<style scoped>\n",
       "    .dataframe tbody tr th:only-of-type {\n",
       "        vertical-align: middle;\n",
       "    }\n",
       "\n",
       "    .dataframe tbody tr th {\n",
       "        vertical-align: top;\n",
       "    }\n",
       "\n",
       "    .dataframe thead th {\n",
       "        text-align: right;\n",
       "    }\n",
       "</style>\n",
       "<table border=\"1\" class=\"dataframe\">\n",
       "  <thead>\n",
       "    <tr style=\"text-align: right;\">\n",
       "      <th></th>\n",
       "      <th>path_women</th>\n",
       "      <th>target_women</th>\n",
       "      <th>path_men</th>\n",
       "      <th>target_men</th>\n",
       "    </tr>\n",
       "    <tr>\n",
       "      <th>source</th>\n",
       "      <th></th>\n",
       "      <th></th>\n",
       "      <th></th>\n",
       "      <th></th>\n",
       "    </tr>\n",
       "  </thead>\n",
       "  <tbody>\n",
       "    <tr>\n",
       "      <th>14th_century</th>\n",
       "      <td>15</td>\n",
       "      <td>15</td>\n",
       "      <td>15</td>\n",
       "      <td>15</td>\n",
       "    </tr>\n",
       "    <tr>\n",
       "      <th>16th_century</th>\n",
       "      <td>2</td>\n",
       "      <td>2</td>\n",
       "      <td>2</td>\n",
       "      <td>2</td>\n",
       "    </tr>\n",
       "    <tr>\n",
       "      <th>Able_Archer_83</th>\n",
       "      <td>2</td>\n",
       "      <td>2</td>\n",
       "      <td>2</td>\n",
       "      <td>2</td>\n",
       "    </tr>\n",
       "    <tr>\n",
       "      <th>Acid_rain</th>\n",
       "      <td>8</td>\n",
       "      <td>8</td>\n",
       "      <td>8</td>\n",
       "      <td>8</td>\n",
       "    </tr>\n",
       "    <tr>\n",
       "      <th>Apollo_11</th>\n",
       "      <td>2</td>\n",
       "      <td>2</td>\n",
       "      <td>2</td>\n",
       "      <td>2</td>\n",
       "    </tr>\n",
       "    <tr>\n",
       "      <th>...</th>\n",
       "      <td>...</td>\n",
       "      <td>...</td>\n",
       "      <td>...</td>\n",
       "      <td>...</td>\n",
       "    </tr>\n",
       "    <tr>\n",
       "      <th>Vitamin_D</th>\n",
       "      <td>10</td>\n",
       "      <td>10</td>\n",
       "      <td>10</td>\n",
       "      <td>10</td>\n",
       "    </tr>\n",
       "    <tr>\n",
       "      <th>Walrus</th>\n",
       "      <td>2</td>\n",
       "      <td>2</td>\n",
       "      <td>2</td>\n",
       "      <td>2</td>\n",
       "    </tr>\n",
       "    <tr>\n",
       "      <th>Western_Sahara</th>\n",
       "      <td>3</td>\n",
       "      <td>3</td>\n",
       "      <td>3</td>\n",
       "      <td>3</td>\n",
       "    </tr>\n",
       "    <tr>\n",
       "      <th>Windows_2000</th>\n",
       "      <td>2</td>\n",
       "      <td>2</td>\n",
       "      <td>2</td>\n",
       "      <td>2</td>\n",
       "    </tr>\n",
       "    <tr>\n",
       "      <th>Zebra_shark</th>\n",
       "      <td>3</td>\n",
       "      <td>3</td>\n",
       "      <td>3</td>\n",
       "      <td>3</td>\n",
       "    </tr>\n",
       "  </tbody>\n",
       "</table>\n",
       "<p>78 rows × 4 columns</p>\n",
       "</div>"
      ],
      "text/plain": [
       "                path_women  target_women  path_men  target_men\n",
       "source                                                        \n",
       "14th_century            15            15        15          15\n",
       "16th_century             2             2         2           2\n",
       "Able_Archer_83           2             2         2           2\n",
       "Acid_rain                8             8         8           8\n",
       "Apollo_11                2             2         2           2\n",
       "...                    ...           ...       ...         ...\n",
       "Vitamin_D               10            10        10          10\n",
       "Walrus                   2             2         2           2\n",
       "Western_Sahara           3             3         3           3\n",
       "Windows_2000             2             2         2           2\n",
       "Zebra_shark              3             3         3           3\n",
       "\n",
       "[78 rows x 4 columns]"
      ]
     },
     "execution_count": 158,
     "metadata": {},
     "output_type": "execute_result"
    }
   ],
   "source": [
    "df = sources.loc[sources['target_women'] != 1]\n",
    "df"
   ]
  },
  {
   "cell_type": "code",
   "execution_count": 16,
   "id": "43350046-f2bf-4627-9834-298914656736",
   "metadata": {},
   "outputs": [],
   "source": [
    "#with pd.option_context('display.max_rows', None,\n",
    "#                       'display.max_columns', None,\n",
    "#                       'display.precision', 3,\n",
    "#                       ):\n",
    "#    print(comb)"
   ]
  },
  {
   "cell_type": "markdown",
   "id": "61c65941-fa29-48b5-a8d0-4d3128fd5621",
   "metadata": {},
   "source": [
    "**Actors_models_and_celebrities**"
   ]
  },
  {
   "cell_type": "code",
   "execution_count": null,
   "id": "9b6fc7ab-994e-4243-bebc-edd5fe54d56c",
   "metadata": {},
   "outputs": [
    {
     "data": {
      "text/html": [
       "<div>\n",
       "<style scoped>\n",
       "    .dataframe tbody tr th:only-of-type {\n",
       "        vertical-align: middle;\n",
       "    }\n",
       "\n",
       "    .dataframe tbody tr th {\n",
       "        vertical-align: top;\n",
       "    }\n",
       "\n",
       "    .dataframe thead th {\n",
       "        text-align: right;\n",
       "    }\n",
       "</style>\n",
       "<table border=\"1\" class=\"dataframe\">\n",
       "  <thead>\n",
       "    <tr style=\"text-align: right;\">\n",
       "      <th></th>\n",
       "      <th>article</th>\n",
       "      <th>category</th>\n",
       "    </tr>\n",
       "  </thead>\n",
       "  <tbody>\n",
       "    <tr>\n",
       "      <th>276</th>\n",
       "      <td>Andrew_Robinson</td>\n",
       "      <td>subject.People.Actors_models_and_celebrities</td>\n",
       "    </tr>\n",
       "    <tr>\n",
       "      <th>638</th>\n",
       "      <td>Bette_Davis</td>\n",
       "      <td>subject.People.Actors_models_and_celebrities</td>\n",
       "    </tr>\n",
       "    <tr>\n",
       "      <th>760</th>\n",
       "      <td>Brandon_Routh</td>\n",
       "      <td>subject.People.Actors_models_and_celebrities</td>\n",
       "    </tr>\n",
       "    <tr>\n",
       "      <th>787</th>\n",
       "      <td>Britney_Spears</td>\n",
       "      <td>subject.People.Actors_models_and_celebrities</td>\n",
       "    </tr>\n",
       "    <tr>\n",
       "      <th>793</th>\n",
       "      <td>Bruce_Lee</td>\n",
       "      <td>subject.People.Actors_models_and_celebrities</td>\n",
       "    </tr>\n",
       "    <tr>\n",
       "      <th>971</th>\n",
       "      <td>Charlie_Chaplin</td>\n",
       "      <td>subject.People.Actors_models_and_celebrities</td>\n",
       "    </tr>\n",
       "    <tr>\n",
       "      <th>1017</th>\n",
       "      <td>Christian_Bale</td>\n",
       "      <td>subject.People.Actors_models_and_celebrities</td>\n",
       "    </tr>\n",
       "    <tr>\n",
       "      <th>1278</th>\n",
       "      <td>Daniel_Day-Lewis</td>\n",
       "      <td>subject.People.Actors_models_and_celebrities</td>\n",
       "    </tr>\n",
       "    <tr>\n",
       "      <th>1344</th>\n",
       "      <td>Diane_Keaton</td>\n",
       "      <td>subject.People.Actors_models_and_celebrities</td>\n",
       "    </tr>\n",
       "    <tr>\n",
       "      <th>1547</th>\n",
       "      <td>Emma_Roberts</td>\n",
       "      <td>subject.People.Actors_models_and_celebrities</td>\n",
       "    </tr>\n",
       "    <tr>\n",
       "      <th>1628</th>\n",
       "      <td>Evan_Rachel_Wood</td>\n",
       "      <td>subject.People.Actors_models_and_celebrities</td>\n",
       "    </tr>\n",
       "    <tr>\n",
       "      <th>2145</th>\n",
       "      <td>Henry_Fonda</td>\n",
       "      <td>subject.People.Actors_models_and_celebrities</td>\n",
       "    </tr>\n",
       "    <tr>\n",
       "      <th>2161</th>\n",
       "      <td>Henry_Rollins</td>\n",
       "      <td>subject.People.Actors_models_and_celebrities</td>\n",
       "    </tr>\n",
       "    <tr>\n",
       "      <th>2493</th>\n",
       "      <td>Jake_Gyllenhaal</td>\n",
       "      <td>subject.People.Actors_models_and_celebrities</td>\n",
       "    </tr>\n",
       "    <tr>\n",
       "      <th>2512</th>\n",
       "      <td>James_Stewart_%28actor%29</td>\n",
       "      <td>subject.People.Actors_models_and_celebrities</td>\n",
       "    </tr>\n",
       "    <tr>\n",
       "      <th>2519</th>\n",
       "      <td>Jane_Fonda</td>\n",
       "      <td>subject.People.Actors_models_and_celebrities</td>\n",
       "    </tr>\n",
       "    <tr>\n",
       "      <th>2631</th>\n",
       "      <td>Keira_Knightley</td>\n",
       "      <td>subject.People.Actors_models_and_celebrities</td>\n",
       "    </tr>\n",
       "    <tr>\n",
       "      <th>2637</th>\n",
       "      <td>Kevin_Spacey</td>\n",
       "      <td>subject.People.Actors_models_and_celebrities</td>\n",
       "    </tr>\n",
       "    <tr>\n",
       "      <th>2736</th>\n",
       "      <td>Laurence_Olivier</td>\n",
       "      <td>subject.People.Actors_models_and_celebrities</td>\n",
       "    </tr>\n",
       "    <tr>\n",
       "      <th>3157</th>\n",
       "      <td>Miranda_Otto</td>\n",
       "      <td>subject.People.Actors_models_and_celebrities</td>\n",
       "    </tr>\n",
       "    <tr>\n",
       "      <th>3295</th>\n",
       "      <td>Natalie_Portman</td>\n",
       "      <td>subject.People.Actors_models_and_celebrities</td>\n",
       "    </tr>\n",
       "    <tr>\n",
       "      <th>4087</th>\n",
       "      <td>Sasha_%28DJ%29</td>\n",
       "      <td>subject.People.Actors_models_and_celebrities</td>\n",
       "    </tr>\n",
       "    <tr>\n",
       "      <th>4133</th>\n",
       "      <td>Sean_Connery</td>\n",
       "      <td>subject.People.Actors_models_and_celebrities</td>\n",
       "    </tr>\n",
       "    <tr>\n",
       "      <th>4178</th>\n",
       "      <td>Sharon_Tate</td>\n",
       "      <td>subject.People.Actors_models_and_celebrities</td>\n",
       "    </tr>\n",
       "    <tr>\n",
       "      <th>4940</th>\n",
       "      <td>Vivien_Leigh</td>\n",
       "      <td>subject.People.Actors_models_and_celebrities</td>\n",
       "    </tr>\n",
       "  </tbody>\n",
       "</table>\n",
       "</div>"
      ],
      "text/plain": [
       "                        article                                      category\n",
       "276             Andrew_Robinson  subject.People.Actors_models_and_celebrities\n",
       "638                 Bette_Davis  subject.People.Actors_models_and_celebrities\n",
       "760               Brandon_Routh  subject.People.Actors_models_and_celebrities\n",
       "787              Britney_Spears  subject.People.Actors_models_and_celebrities\n",
       "793                   Bruce_Lee  subject.People.Actors_models_and_celebrities\n",
       "971             Charlie_Chaplin  subject.People.Actors_models_and_celebrities\n",
       "1017             Christian_Bale  subject.People.Actors_models_and_celebrities\n",
       "1278           Daniel_Day-Lewis  subject.People.Actors_models_and_celebrities\n",
       "1344               Diane_Keaton  subject.People.Actors_models_and_celebrities\n",
       "1547               Emma_Roberts  subject.People.Actors_models_and_celebrities\n",
       "1628           Evan_Rachel_Wood  subject.People.Actors_models_and_celebrities\n",
       "2145                Henry_Fonda  subject.People.Actors_models_and_celebrities\n",
       "2161              Henry_Rollins  subject.People.Actors_models_and_celebrities\n",
       "2493            Jake_Gyllenhaal  subject.People.Actors_models_and_celebrities\n",
       "2512  James_Stewart_%28actor%29  subject.People.Actors_models_and_celebrities\n",
       "2519                 Jane_Fonda  subject.People.Actors_models_and_celebrities\n",
       "2631            Keira_Knightley  subject.People.Actors_models_and_celebrities\n",
       "2637               Kevin_Spacey  subject.People.Actors_models_and_celebrities\n",
       "2736           Laurence_Olivier  subject.People.Actors_models_and_celebrities\n",
       "3157               Miranda_Otto  subject.People.Actors_models_and_celebrities\n",
       "3295            Natalie_Portman  subject.People.Actors_models_and_celebrities\n",
       "4087             Sasha_%28DJ%29  subject.People.Actors_models_and_celebrities\n",
       "4133               Sean_Connery  subject.People.Actors_models_and_celebrities\n",
       "4178                Sharon_Tate  subject.People.Actors_models_and_celebrities\n",
       "4940               Vivien_Leigh  subject.People.Actors_models_and_celebrities"
      ]
     },
     "execution_count": 139,
     "metadata": {},
     "output_type": "execute_result"
    }
   ],
   "source": [
    "# Let's first take a look at the category subject.People.Actors_models_and_celebrities\n",
    "wikispeedia_actors = categories[categories[\"category\"] == \"subject.People.Actors_models_and_celebrities\"]\n",
    "wikispeedia_actors"
   ]
  },
  {
   "cell_type": "markdown",
   "id": "3527b52b-836f-44f9-ab7e-f7f33e660ca7",
   "metadata": {},
   "source": [
    "**TACKLE ALL PEOPLE CATEGORIES**"
   ]
  },
  {
   "cell_type": "code",
   "execution_count": 30,
   "id": "abb4bd29-a8f3-4eae-8a41-a8cfdc926824",
   "metadata": {},
   "outputs": [],
   "source": [
    "df = categories\n",
    "df['categories_people'] = list(\n",
    "    map(lambda x: x.startswith('subject.People.'), df['category'])) "
   ]
  },
  {
   "cell_type": "code",
   "execution_count": 6,
   "id": "b7ce5ddc-afa6-4f1c-ac09-b4e8a88e94d9",
   "metadata": {},
   "outputs": [
    {
     "data": {
      "text/html": [
       "<div>\n",
       "<style scoped>\n",
       "    .dataframe tbody tr th:only-of-type {\n",
       "        vertical-align: middle;\n",
       "    }\n",
       "\n",
       "    .dataframe tbody tr th {\n",
       "        vertical-align: top;\n",
       "    }\n",
       "\n",
       "    .dataframe thead th {\n",
       "        text-align: right;\n",
       "    }\n",
       "</style>\n",
       "<table border=\"1\" class=\"dataframe\">\n",
       "  <thead>\n",
       "    <tr style=\"text-align: right;\">\n",
       "      <th></th>\n",
       "      <th>article</th>\n",
       "      <th>category</th>\n",
       "      <th>categories_people</th>\n",
       "    </tr>\n",
       "  </thead>\n",
       "  <tbody>\n",
       "    <tr>\n",
       "      <th>1</th>\n",
       "      <td>%C3%81ed%C3%A1n_mac_Gabr%C3%A1in</td>\n",
       "      <td>subject.People.Historical_figures</td>\n",
       "      <td>True</td>\n",
       "    </tr>\n",
       "    <tr>\n",
       "      <th>4</th>\n",
       "      <td>%C3%89douard_Manet</td>\n",
       "      <td>subject.People.Artists</td>\n",
       "      <td>True</td>\n",
       "    </tr>\n",
       "    <tr>\n",
       "      <th>8</th>\n",
       "      <td>%C3%93engus_I_of_the_Picts</td>\n",
       "      <td>subject.People.Historical_figures</td>\n",
       "      <td>True</td>\n",
       "    </tr>\n",
       "    <tr>\n",
       "      <th>67</th>\n",
       "      <td>A._E._J._Collins</td>\n",
       "      <td>subject.People.Sports_and_games_people</td>\n",
       "      <td>True</td>\n",
       "    </tr>\n",
       "    <tr>\n",
       "      <th>88</th>\n",
       "      <td>Abbas_I_of_Persia</td>\n",
       "      <td>subject.People.Historical_figures</td>\n",
       "      <td>True</td>\n",
       "    </tr>\n",
       "    <tr>\n",
       "      <th>...</th>\n",
       "      <td>...</td>\n",
       "      <td>...</td>\n",
       "      <td>...</td>\n",
       "    </tr>\n",
       "    <tr>\n",
       "      <th>5188</th>\n",
       "      <td>Zhang_Qian</td>\n",
       "      <td>subject.People.Historical_figures</td>\n",
       "      <td>True</td>\n",
       "    </tr>\n",
       "    <tr>\n",
       "      <th>5190</th>\n",
       "      <td>Zheng_He</td>\n",
       "      <td>subject.People.Historical_figures</td>\n",
       "      <td>True</td>\n",
       "    </tr>\n",
       "    <tr>\n",
       "      <th>5191</th>\n",
       "      <td>Ziad_Jarrah</td>\n",
       "      <td>subject.People.Historical_figures</td>\n",
       "      <td>True</td>\n",
       "    </tr>\n",
       "    <tr>\n",
       "      <th>5197</th>\n",
       "      <td>Zionism</td>\n",
       "      <td>subject.People.Political_People</td>\n",
       "      <td>True</td>\n",
       "    </tr>\n",
       "    <tr>\n",
       "      <th>5200</th>\n",
       "      <td>Zoroaster</td>\n",
       "      <td>subject.People.Religious_figures_and_leaders</td>\n",
       "      <td>True</td>\n",
       "    </tr>\n",
       "  </tbody>\n",
       "</table>\n",
       "<p>689 rows × 3 columns</p>\n",
       "</div>"
      ],
      "text/plain": [
       "                               article  \\\n",
       "1     %C3%81ed%C3%A1n_mac_Gabr%C3%A1in   \n",
       "4                   %C3%89douard_Manet   \n",
       "8           %C3%93engus_I_of_the_Picts   \n",
       "67                    A._E._J._Collins   \n",
       "88                   Abbas_I_of_Persia   \n",
       "...                                ...   \n",
       "5188                        Zhang_Qian   \n",
       "5190                          Zheng_He   \n",
       "5191                       Ziad_Jarrah   \n",
       "5197                           Zionism   \n",
       "5200                         Zoroaster   \n",
       "\n",
       "                                          category  categories_people  \n",
       "1                subject.People.Historical_figures               True  \n",
       "4                           subject.People.Artists               True  \n",
       "8                subject.People.Historical_figures               True  \n",
       "67          subject.People.Sports_and_games_people               True  \n",
       "88               subject.People.Historical_figures               True  \n",
       "...                                            ...                ...  \n",
       "5188             subject.People.Historical_figures               True  \n",
       "5190             subject.People.Historical_figures               True  \n",
       "5191             subject.People.Historical_figures               True  \n",
       "5197               subject.People.Political_People               True  \n",
       "5200  subject.People.Religious_figures_and_leaders               True  \n",
       "\n",
       "[689 rows x 3 columns]"
      ]
     },
     "execution_count": 6,
     "metadata": {},
     "output_type": "execute_result"
    }
   ],
   "source": [
    "people = df[df[\"categories_people\"] == True]\n",
    "people"
   ]
  },
  {
   "cell_type": "markdown",
   "id": "68b63b57-4020-490c-9ccc-c894671af877",
   "metadata": {},
   "source": [
    "#### Check every subgroup "
   ]
  },
  {
   "cell_type": "code",
   "execution_count": 35,
   "id": "f0190825-26c4-4d78-ace4-8d391391d1f3",
   "metadata": {},
   "outputs": [],
   "source": [
    "actors = categories[categories[\"category\"] == \"subject.People.Actors_models_and_celebrities\"]\n",
    "artist = categories[categories[\"category\"] == \"subject.People.Artists\"]\n",
    "astro = categories[categories[\"category\"] == \"subject.People.Astronomers_and_physicists\"]\n",
    "chemist = categories[categories[\"category\"] == \"subject.People.Chemists\"]\n",
    "comp = categories[categories[\"category\"] == \"subject.People.Computing_People\"]\n",
    "eng = categories[categories[\"category\"] == \"subject.People.Engineers_and_inventors\"]\n",
    "geo = categories[categories[\"category\"] == \"subject.People.Geographers_and_explorers\"]\n",
    "hist = categories[categories[\"category\"] == \"subject.People.Historical_figures\"]\n",
    "\n",
    "humsci = categories[categories[\"category\"] == \"subject.People.Human_Scientists\"]\n",
    "math = categories[categories[\"category\"] == \"subject.People.Mathematicians\"]\n",
    "mil = categories[categories[\"category\"] == \"subject.People.Military_People\"]\n",
    "mon = categories[categories[\"category\"] == \"subject.People.Monarchs_of_Great_Britain\"]\n",
    "perf = categories[categories[\"category\"] == \"subject.People.Performers_and_composers\"]\n",
    "phil = categories[categories[\"category\"] == \"subject.People.Philosophers\"]\n",
    "pol = categories[categories[\"category\"] == \"subject.People.Political_People\"]\n",
    "prod = categories[categories[\"category\"] == \"subject.People.Producers_directors_and_media_figures\"] \n",
    "\n",
    "rel = categories[categories[\"category\"] == \"subject.People.Religious_figures_and_leaders\"]\n",
    "sport = categories[categories[\"category\"] == \"subject.People.Sports_and_games_people\"]\n",
    "usa = categories[categories[\"category\"] == \"subject.People.USA_Presidents\"]\n",
    "writ = categories[categories[\"category\"] == \"subject.People.Writers_and_critics\"]"
   ]
  }
 ],
 "metadata": {
  "kernelspec": {
   "display_name": "Python [conda env:ada]",
   "language": "python",
   "name": "conda-env-ada-py"
  },
  "language_info": {
   "codemirror_mode": {
    "name": "ipython",
    "version": 3
   },
   "file_extension": ".py",
   "mimetype": "text/x-python",
   "name": "python",
   "nbconvert_exporter": "python",
   "pygments_lexer": "ipython3",
   "version": "3.9.13"
  },
  "vscode": {
   "interpreter": {
    "hash": "60762f2c9dc1d733e9baa8b0211c4ce87ae4eb5a78219e2c34414973c6c0791c"
   }
  }
 },
 "nbformat": 4,
 "nbformat_minor": 5
}
