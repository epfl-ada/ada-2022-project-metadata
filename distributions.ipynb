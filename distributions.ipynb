{
 "cells": [
  {
   "cell_type": "code",
   "execution_count": 1,
   "id": "37745ad4",
   "metadata": {},
   "outputs": [],
   "source": [
    "import numpy as np\n",
    "import pandas as pd\n",
    "import matplotlib.pyplot as plt\n",
    "%matplotlib inline\n",
    "import seaborn as sns\n",
    "\n",
    "import scipy.stats as stats\n",
    "import statsmodels.api as sm\n",
    "import statsmodels.formula.api as smf\n",
    "\n",
    "from statsmodels.stats import diagnostic"
   ]
  },
  {
   "cell_type": "code",
   "execution_count": 2,
   "id": "4b7cb2f2",
   "metadata": {},
   "outputs": [],
   "source": [
    "DATA_FOLDER = 'data/'\n",
    "WIKISPEEDIA_PATHS = DATA_FOLDER + \"wikispeedia_paths-and-graph/\"\n",
    "\n",
    "ARTICLES = WIKISPEEDIA_PATHS + \"articles.tsv\"\n",
    "CATEGORIES = WIKISPEEDIA_PATHS + \"categories.tsv\"\n",
    "LINKS = WIKISPEEDIA_PATHS + \"links.tsv\"\n",
    "PATHS_FINISHED = WIKISPEEDIA_PATHS + \"paths_finished.tsv\"\n",
    "PATHS_UNFINISHED = WIKISPEEDIA_PATHS + \"paths_unfinished.tsv\"\n",
    "SHORTEST_PATHS = WIKISPEEDIA_PATHS + \"shortest-path-distance-matrix.txt\"\n",
    "FEMALES = DATA_FOLDER + \"listwomen.txt\"\n",
    "ALL_PATHS = DATA_FOLDER + \"all_paths_overview.csv\"\n",
    "PEOPLE_OVERVIEW = DATA_FOLDER + \"people_overview.csv\"\n",
    "\n",
    "TEST2020 = WIKISPEEDIA_PATHS + \"paths_df_task-B.tsv\""
   ]
  },
  {
   "cell_type": "code",
   "execution_count": 3,
   "id": "78c5f0d2",
   "metadata": {},
   "outputs": [],
   "source": [
    "articles = pd.read_csv(ARTICLES, sep='\\t', names=[\"article\"], skiprows = 12)\n",
    "categories = pd.read_csv(CATEGORIES, sep='\\t', names=[\"article\", \"category\"], skiprows = 13)\n",
    "links = pd.read_csv(LINKS, sep='\\t', names=[\"link_source\", \"link_target\"], skiprows = 12)\n",
    "paths_finished = pd.read_csv(PATHS_FINISHED, sep='\\t', names=[\"hashedIpAddress\", \"timestamp\", \n",
    "                                                              \"durationInSec\", \"path\", \"rating\"], skiprows = 15)\n",
    "paths_unfinished = pd.read_csv(PATHS_UNFINISHED, sep='\\t', names=[\"hashedIpAddress\", \"timestamp\", \n",
    "                                                                  \"durationInSec\", \"path\", \"target\", \"type\"], skiprows = 17)\n",
    "shortest_distance_text = np.loadtxt(SHORTEST_PATHS, dtype=str, comments=\"#\", unpack=False)\n",
    "female = pd.read_csv(FEMALES, sep=',', names=[\"name\", \"women_label\"], skiprows = 1)\n",
    "\n",
    "all_paths_overview = pd.read_csv(ALL_PATHS).drop(columns = ['Unnamed: 0'])\n",
    "people_overview = pd.read_csv(PEOPLE_OVERVIEW)"
   ]
  },
  {
   "cell_type": "code",
   "execution_count": 4,
   "id": "f276c56b",
   "metadata": {},
   "outputs": [
    {
     "data": {
      "text/plain": [
       "-5"
      ]
     },
     "execution_count": 4,
     "metadata": {},
     "output_type": "execute_result"
    }
   ],
   "source": [
    "test = pd.read_csv(TEST2020, sep='\\t', names=[\"hashedIpAddress\", \"source\", \"target\", \"finished\", \"human_path_length\", \"shortest_path_length\", \"duration_in_sec\"],\n",
    "                  skiprows=1)\n",
    "test['path_dev'] = test['human_path_length'] - test['shortest_path_length']\n",
    "ave_pathdev = test[\"path_dev\"].mean()\n",
    "min(test[\"path_dev\"])"
   ]
  },
  {
   "cell_type": "code",
   "execution_count": 5,
   "id": "69b1182b",
   "metadata": {},
   "outputs": [],
   "source": [
    "all_paths_overview\n",
    "people_target_paths = all_paths_overview.merge(people_overview[['name', 'category', 'gender']], \n",
    "                                               how = \"inner\", left_on = \"target\", right_on = \"name\")"
   ]
  },
  {
   "cell_type": "markdown",
   "id": "699e7e37",
   "metadata": {},
   "source": [
    "#### 1. Distributions"
   ]
  },
  {
   "cell_type": "markdown",
   "id": "d6168a14",
   "metadata": {},
   "source": [
    "**Success rate**:\n",
    "Plot the empirical cumulative distribution function (CDF) to visualize the distribution of success_rate."
   ]
  },
  {
   "cell_type": "code",
   "execution_count": 6,
   "id": "642b13c0",
   "metadata": {},
   "outputs": [
    {
     "data": {
      "text/plain": [
       "<AxesSubplot:>"
      ]
     },
     "execution_count": 6,
     "metadata": {},
     "output_type": "execute_result"
    },
    {
     "data": {
      "image/png": "[encoded data removed]",
      "text/plain": [
       "<Figure size 432x288 with 1 Axes>"
      ]
     },
     "metadata": {
      "needs_background": "light"
     },
     "output_type": "display_data"
    }
   ],
   "source": [
    "people_overview[\"succ_rate\"].hist(bins = 30)"
   ]
  },
  {
   "cell_type": "code",
   "execution_count": 7,
   "id": "a71eefdd",
   "metadata": {},
   "outputs": [
    {
     "data": {
      "text/plain": [
       "(nan, nan)"
      ]
     },
     "execution_count": 7,
     "metadata": {},
     "output_type": "execute_result"
    }
   ],
   "source": [
    "people_overview[\"succ_rate\"].dropna()\n",
    "diagnostic.kstest_normal(people_overview[\"succ_rate\"].values, dist = 'norm')"
   ]
  },
  {
   "cell_type": "code",
   "execution_count": 8,
   "id": "b1a41fe9",
   "metadata": {},
   "outputs": [
    {
     "data": {
      "image/png": "[encoded data removed]",
      "text/plain": [
       "<Figure size 432x288 with 1 Axes>"
      ]
     },
     "metadata": {
      "needs_background": "light"
     },
     "output_type": "display_data"
    }
   ],
   "source": [
    "# plot the histogram\n",
    "plt.hist(people_overview[\"succ_rate\"], \n",
    "         color = 'tab:blue', edgecolor = 'black', linewidth = 0.5, alpha=0.8)\n",
    "plt.xlabel(\"\")\n",
    "plt.ylabel(\"\")\n",
    "plt.title(\"Distribution of success_rate\")\n",
    "plt.show()"
   ]
  },
  {
   "cell_type": "code",
   "execution_count": 9,
   "id": "5c2b4a0a",
   "metadata": {},
   "outputs": [
    {
     "data": {
      "image/png": "[encoded data removed]",
      "text/plain": [
       "<Figure size 432x288 with 1 Axes>"
      ]
     },
     "metadata": {
      "needs_background": "light"
     },
     "output_type": "display_data"
    }
   ],
   "source": [
    "# CDF of success_rate\n",
    "# CDF(x) = \"number of samples <= x\"/\"number of samples\"\n",
    "x_dist = np.sort(people_overview[\"succ_rate\"])\n",
    "y_prob = np.arange(len(people_overview[\"succ_rate\"]))/float(len(people_overview[\"succ_rate\"]))\n",
    "\n",
    "plt.plot(x_dist, y_prob, color = \"tab:blue\")\n",
    "plt.xlabel(\"Sorted success rate\")\n",
    "plt.ylabel(\"Fraction of data\")\n",
    "plt.title(\"Success rate distribution on linear axes\")\n",
    "plt.show()"
   ]
  },
  {
   "cell_type": "code",
   "execution_count": 10,
   "id": "f9335be8",
   "metadata": {},
   "outputs": [
    {
     "data": {
      "image/png": "[encoded data removed]",
      "text/plain": [
       "<Figure size 432x288 with 1 Axes>"
      ]
     },
     "metadata": {
      "needs_background": "light"
     },
     "output_type": "display_data"
    }
   ],
   "source": [
    "arith_mean = people_overview[\"succ_rate\"].mean()\n",
    "\n",
    "plt.loglog(x_dist, y_prob, color = \"tab:blue\")\n",
    "plt.vlines(arith_mean, ymin= 0, ymax = 1, linestyles=\"--\", colors=\"black\", label=f\"arithmetic mean: {arith_mean:.2f}\" )\n",
    "plt.xlabel(\"Sorted success rate\")\n",
    "plt.ylabel(\"Fraction of data\")\n",
    "plt.title(\"Success rate distribution on log-log axes\")\n",
    "plt.show()"
   ]
  },
  {
   "cell_type": "markdown",
   "id": "e8523a2b",
   "metadata": {},
   "source": [
    "**Playtime duration**: \n",
    "Let's find the average playtime duration for every path (`durationInSec`)."
   ]
  },
  {
   "cell_type": "code",
   "execution_count": 11,
   "id": "ba3c0fee",
   "metadata": {},
   "outputs": [
    {
     "data": {
      "image/png": "[encoded data removed]",
      "text/plain": [
       "<Figure size 432x288 with 1 Axes>"
      ]
     },
     "metadata": {
      "needs_background": "light"
     },
     "output_type": "display_data"
    }
   ],
   "source": [
    "people_target_paths[\"durationInSec\"].hist(bins = 20)\n",
    "plt.show()"
   ]
  },
  {
   "cell_type": "code",
   "execution_count": 12,
   "id": "f6b6ebf2",
   "metadata": {},
   "outputs": [
    {
     "data": {
      "image/png": "[encoded data removed]",
      "text/plain": [
       "<Figure size 432x288 with 1 Axes>"
      ]
     },
     "metadata": {
      "needs_background": "light"
     },
     "output_type": "display_data"
    }
   ],
   "source": [
    "# CDF of playtime_duration\n",
    "# CDF(x) = \"number of samples <= x\"/\"number of samples\"\n",
    "x_dist = np.sort(people_target_paths[\"durationInSec\"])\n",
    "y_prob = np.arange(len(people_target_paths[\"durationInSec\"]))/float(len(people_target_paths[\"durationInSec\"]))\n",
    "ave_playtime = people_target_paths[\"durationInSec\"].mean()\n",
    "\n",
    "plt.loglog(x_dist, y_prob, color = \"tab:blue\")\n",
    "plt.vlines(ave_playtime, ymin= 0, ymax = 1, linestyles=\"--\", colors=\"black\", label=f\"arithmetic mean: {arith_mean:.2f}\" )\n",
    "plt.xlabel(\"Sorted success rate\")\n",
    "plt.ylabel(\"Fraction of data\")\n",
    "plt.title(\"Playtime duration distribution on log-log axes\")\n",
    "plt.show()"
   ]
  },
  {
   "cell_type": "markdown",
   "id": "7b90e2d3",
   "metadata": {},
   "source": [
    "**Path deviation**:\n",
    "We add a column `path_dev` that displays the difference between `human_path_length` and `shortest_path_length`.\n",
    "We find the average value of path_dev and plot a histogram to show the distribution of path_deviation."
   ]
  },
  {
   "cell_type": "code",
   "execution_count": 13,
   "id": "d7b99063",
   "metadata": {},
   "outputs": [],
   "source": [
    "people_target_paths['path_dev'] = people_target_paths['human_path_length'] - people_target_paths['shortest_path_length']\n",
    "\n",
    "a = min(people_target_paths[\"path_dev\"]) # we note that the minimum path deviation is negative\n",
    "# PRE-PROCESSING: filter all rows that have a negative path_dev: not possible\n",
    "people_target_paths = people_target_paths.drop(people_target_paths.index[people_target_paths['path_dev'] < 0])"
   ]
  },
  {
   "cell_type": "code",
   "execution_count": 14,
   "id": "f3de0a07",
   "metadata": {},
   "outputs": [],
   "source": [
    "ave_pathdev = people_target_paths[\"path_dev\"].mean()\n",
    "path_dev_count = people_target_paths[\"path_dev\"].value_counts()"
   ]
  },
  {
   "cell_type": "code",
   "execution_count": 15,
   "id": "715e2ee3",
   "metadata": {},
   "outputs": [
    {
     "data": {
      "image/png": "[encoded data removed]",
      "text/plain": [
       "<Figure size 432x288 with 1 Axes>"
      ]
     },
     "metadata": {
      "needs_background": "light"
     },
     "output_type": "display_data"
    }
   ],
   "source": [
    "# CDF of success_rate\n",
    "# CDF(x) = \"number of samples <= x\"/\"number of samples\"\n",
    "x_dist = np.sort(people_target_paths[\"path_dev\"])\n",
    "y_prob = np.arange(len(people_target_paths[\"path_dev\"]))/float(len(people_target_paths[\"path_dev\"]))\n",
    "\n",
    "plt.loglog(x_dist, y_prob, color = \"tab:blue\")\n",
    "plt.vlines(ave_pathdev, ymin= 0, ymax = 1, linestyles=\"--\", colors=\"black\", label=f\"arithmetic mean: {arith_mean:.2f}\" )\n",
    "plt.xlabel(\"Sorted success rate\")\n",
    "plt.ylabel(\"Fraction of data\")\n",
    "plt.title(\"Playtime duration distribution on log-log axes\")\n",
    "plt.show()"
   ]
  },
  {
   "cell_type": "markdown",
   "id": "6414f570",
   "metadata": {},
   "source": [
    "**Number of back click**"
   ]
  },
  {
   "cell_type": "code",
   "execution_count": 16,
   "id": "542baf04",
   "metadata": {},
   "outputs": [],
   "source": [
    "ave_backclicks = people_target_paths[\"backclicks\"].mean()"
   ]
  },
  {
   "cell_type": "code",
   "execution_count": 17,
   "id": "efaaf96e",
   "metadata": {},
   "outputs": [
    {
     "data": {
      "text/plain": [
       "0.4588873112172454"
      ]
     },
     "execution_count": 17,
     "metadata": {},
     "output_type": "execute_result"
    }
   ],
   "source": [
    "ave_backclicks"
   ]
  },
  {
   "cell_type": "code",
   "execution_count": 18,
   "id": "f68d882c",
   "metadata": {},
   "outputs": [
    {
     "data": {
      "image/png": "[encoded data removed]",
      "text/plain": [
       "<Figure size 432x288 with 1 Axes>"
      ]
     },
     "metadata": {
      "needs_background": "light"
     },
     "output_type": "display_data"
    }
   ],
   "source": [
    "# define parameters for the histogram \n",
    "max_year = max(people_target_paths[\"backclicks\"])\n",
    "min_year = min(people_target_paths[\"backclicks\"])\n",
    "bin_size = 1 # to represent every year, we use binsize = 1\n",
    "# the -0.5 centers the bins, and since the years are ints and not floats it won't change the results of the histogram\n",
    "bin_edges = np.arange(min_year, max_year + 1, 1) - 0.5 \n",
    "\n",
    "# plot the histogram\n",
    "plt.hist(people_target_paths[\"backclicks\"], density = True, bins = bin_edges, align = \"mid\",\n",
    "         color = 'tab:blue', edgecolor = 'black', linewidth = 0.5, alpha=0.8)\n",
    "plt.xlim([0, max_year +1])\n",
    "#plt.ylim([0,0.05])\n",
    "plt.xlabel(\"Back clicks\")\n",
    "plt.ylabel(\"Relative Frequency\")\n",
    "plt.title(\"Distribution of black clicks\")\n",
    "plt.show()"
   ]
  },
  {
   "cell_type": "markdown",
   "id": "3ab0cfd0",
   "metadata": {},
   "source": [
    "**Difficulty rating**"
   ]
  },
  {
   "cell_type": "code",
   "execution_count": 19,
   "id": "cc41f673",
   "metadata": {},
   "outputs": [
    {
     "data": {
      "image/png": "[encoded data removed]",
      "text/plain": [
       "<Figure size 432x288 with 1 Axes>"
      ]
     },
     "metadata": {
      "needs_background": "light"
     },
     "output_type": "display_data"
    }
   ],
   "source": [
    "ave_rating = people_target_paths[\"rating\"].mean()\n",
    "\n",
    "path_rating = people_target_paths.dropna(subset = [\"rating\"])\n",
    "\n",
    "# define parameters for the histogram \n",
    "max_year = max(path_rating[\"rating\"])\n",
    "min_year = min(path_rating[\"rating\"])\n",
    "bin_size = 1 # to represent every year, we use binsize = 1\n",
    "# the -0.5 centers the bins, and since the years are ints and not floats it won't change the results of the histogram\n",
    "bin_edges = np.arange(min_year, max_year + 1, 1) - 0.5 \n",
    "\n",
    "# plot the histogram\n",
    "plt.hist(people_target_paths[\"rating\"], density = True, bins = bin_edges, align = \"mid\",\n",
    "         color = 'tab:blue', edgecolor = 'black', linewidth = 0.5, alpha=0.8)\n",
    "plt.xlim([0, max_year +1])\n",
    "#plt.ylim([0,0.05])\n",
    "plt.xlabel(\"Back clicks\")\n",
    "plt.ylabel(\"Relative Frequency\")\n",
    "plt.title(\"Distribution of black clicks\")\n",
    "plt.show()"
   ]
  },
  {
   "cell_type": "code",
   "execution_count": 20,
   "id": "5b867e55",
   "metadata": {},
   "outputs": [
    {
     "name": "stdout",
     "output_type": "stream",
     "text": [
      "Fraction of players that rate: 44.35%\n"
     ]
    }
   ],
   "source": [
    "rate_perc = len(path_rating)/len(people_target_paths)\n",
    "print(\"Fraction of players that rate: {:.2%}\".format(rate_perc))"
   ]
  },
  {
   "cell_type": "markdown",
   "id": "cd9670f1",
   "metadata": {},
   "source": [
    "#### 2. Linear regression"
   ]
  },
  {
   "cell_type": "code",
   "execution_count": 21,
   "id": "6a7a9a83",
   "metadata": {},
   "outputs": [
    {
     "data": {
      "text/html": [
       "<div>\n",
       "<style scoped>\n",
       "    .dataframe tbody tr th:only-of-type {\n",
       "        vertical-align: middle;\n",
       "    }\n",
       "\n",
       "    .dataframe tbody tr th {\n",
       "        vertical-align: top;\n",
       "    }\n",
       "\n",
       "    .dataframe thead th {\n",
       "        text-align: right;\n",
       "    }\n",
       "</style>\n",
       "<table border=\"1\" class=\"dataframe\">\n",
       "  <thead>\n",
       "    <tr style=\"text-align: right;\">\n",
       "      <th></th>\n",
       "      <th>gender</th>\n",
       "      <th>succ_rate</th>\n",
       "    </tr>\n",
       "  </thead>\n",
       "  <tbody>\n",
       "    <tr>\n",
       "      <th>0</th>\n",
       "      <td>male</td>\n",
       "      <td>0.777778</td>\n",
       "    </tr>\n",
       "    <tr>\n",
       "      <th>1</th>\n",
       "      <td>male</td>\n",
       "      <td>0.945946</td>\n",
       "    </tr>\n",
       "    <tr>\n",
       "      <th>2</th>\n",
       "      <td>male</td>\n",
       "      <td>0.818182</td>\n",
       "    </tr>\n",
       "    <tr>\n",
       "      <th>3</th>\n",
       "      <td>male</td>\n",
       "      <td>0.865136</td>\n",
       "    </tr>\n",
       "    <tr>\n",
       "      <th>4</th>\n",
       "      <td>male</td>\n",
       "      <td>0.730769</td>\n",
       "    </tr>\n",
       "    <tr>\n",
       "      <th>...</th>\n",
       "      <td>...</td>\n",
       "      <td>...</td>\n",
       "    </tr>\n",
       "    <tr>\n",
       "      <th>616</th>\n",
       "      <td>male</td>\n",
       "      <td>NaN</td>\n",
       "    </tr>\n",
       "    <tr>\n",
       "      <th>617</th>\n",
       "      <td>male</td>\n",
       "      <td>0.714286</td>\n",
       "    </tr>\n",
       "    <tr>\n",
       "      <th>618</th>\n",
       "      <td>male</td>\n",
       "      <td>0.333333</td>\n",
       "    </tr>\n",
       "    <tr>\n",
       "      <th>619</th>\n",
       "      <td>male</td>\n",
       "      <td>0.833333</td>\n",
       "    </tr>\n",
       "    <tr>\n",
       "      <th>620</th>\n",
       "      <td>male</td>\n",
       "      <td>0.800000</td>\n",
       "    </tr>\n",
       "  </tbody>\n",
       "</table>\n",
       "<p>621 rows × 2 columns</p>\n",
       "</div>"
      ],
      "text/plain": [
       "    gender  succ_rate\n",
       "0     male   0.777778\n",
       "1     male   0.945946\n",
       "2     male   0.818182\n",
       "3     male   0.865136\n",
       "4     male   0.730769\n",
       "..     ...        ...\n",
       "616   male        NaN\n",
       "617   male   0.714286\n",
       "618   male   0.333333\n",
       "619   male   0.833333\n",
       "620   male   0.800000\n",
       "\n",
       "[621 rows x 2 columns]"
      ]
     },
     "execution_count": 21,
     "metadata": {},
     "output_type": "execute_result"
    }
   ],
   "source": [
    "lr_succ_rate = people_overview[[\"gender\", \"succ_rate\"]]\n",
    "lr_succ_rate"
   ]
  },
  {
   "cell_type": "code",
   "execution_count": 22,
   "id": "c4fd14a3",
   "metadata": {},
   "outputs": [
    {
     "name": "stderr",
     "output_type": "stream",
     "text": [
      "/opt/anaconda3/lib/python3.8/site-packages/pandas/core/indexing.py:1596: SettingWithCopyWarning: \n",
      "A value is trying to be set on a copy of a slice from a DataFrame.\n",
      "Try using .loc[row_indexer,col_indexer] = value instead\n",
      "\n",
      "See the caveats in the documentation: https://pandas.pydata.org/pandas-docs/stable/user_guide/indexing.html#returning-a-view-versus-a-copy\n",
      "  self.obj[key] = _infer_fill_value(value)\n",
      "/opt/anaconda3/lib/python3.8/site-packages/pandas/core/indexing.py:1765: SettingWithCopyWarning: \n",
      "A value is trying to be set on a copy of a slice from a DataFrame.\n",
      "Try using .loc[row_indexer,col_indexer] = value instead\n",
      "\n",
      "See the caveats in the documentation: https://pandas.pydata.org/pandas-docs/stable/user_guide/indexing.html#returning-a-view-versus-a-copy\n",
      "  isetter(loc, value)\n",
      "<ipython-input-22-96659ad35c70>:4: SettingWithCopyWarning: \n",
      "A value is trying to be set on a copy of a slice from a DataFrame.\n",
      "Try using .loc[row_indexer,col_indexer] = value instead\n",
      "\n",
      "See the caveats in the documentation: https://pandas.pydata.org/pandas-docs/stable/user_guide/indexing.html#returning-a-view-versus-a-copy\n",
      "  lr_succ_rate['log_succ_rate'] = np.log(lr_succ_rate['succ_rate'])\n"
     ]
    }
   ],
   "source": [
    "lr_succ_rate.loc[lr_succ_rate['gender'] == 'male', 'gender01'] = 0 \n",
    "lr_succ_rate.loc[lr_succ_rate['gender'] == 'female', 'gender01'] = 1\n",
    "lr_succ_rate = lr_succ_rate.dropna(subset = ['succ_rate'], axis = 'index')\n",
    "lr_succ_rate['log_succ_rate'] = np.log(lr_succ_rate['succ_rate'])"
   ]
  },
  {
   "cell_type": "code",
   "execution_count": 54,
   "id": "2d9e9d6b",
   "metadata": {},
   "outputs": [
    {
     "name": "stdout",
     "output_type": "stream",
     "text": [
      "                            OLS Regression Results                            \n",
      "==============================================================================\n",
      "Dep. Variable:              succ_rate   R-squared:                       0.038\n",
      "Model:                            OLS   Adj. R-squared:                  0.036\n",
      "Method:                 Least Squares   F-statistic:                     18.57\n",
      "Date:                Wed, 14 Dec 2022   Prob (F-statistic):           2.00e-05\n",
      "Time:                        17:57:53   Log-Likelihood:                 69.137\n",
      "No. Observations:                 466   AIC:                            -134.3\n",
      "Df Residuals:                     464   BIC:                            -126.0\n",
      "Df Model:                           1                                         \n",
      "Covariance Type:            nonrobust                                         \n",
      "==============================================================================\n",
      "                 coef    std err          t      P>|t|      [0.025      0.975]\n",
      "------------------------------------------------------------------------------\n",
      "Intercept      0.7322      0.010     72.623      0.000       0.712       0.752\n",
      "gender01      -0.1563      0.036     -4.309      0.000      -0.228      -0.085\n",
      "==============================================================================\n",
      "Omnibus:                       64.730   Durbin-Watson:                   1.905\n",
      "Prob(Omnibus):                  0.000   Jarque-Bera (JB):               88.946\n",
      "Skew:                          -0.992   Prob(JB):                     4.85e-20\n",
      "Kurtosis:                       3.803   Cond. No.                         3.77\n",
      "==============================================================================\n",
      "\n",
      "Notes:\n",
      "[1] Standard Errors assume that the covariance matrix of the errors is correctly specified.\n"
     ]
    }
   ],
   "source": [
    "np.random.seed(2)\n",
    "\n",
    "# declare the model\n",
    "mod = smf.ols(formula='succ_rate ~ gender01', data=lr_succ_rate)\n",
    "\n",
    "# fit the model\n",
    "res = mod.fit()\n",
    "\n",
    "# print the summary output \n",
    "print(res.summary())"
   ]
  },
  {
   "cell_type": "code",
   "execution_count": 51,
   "id": "2a3bfd4b",
   "metadata": {},
   "outputs": [
    {
     "name": "stdout",
     "output_type": "stream",
     "text": [
      "Optimization terminated successfully.\n",
      "         Current function value: 0.255455\n",
      "         Iterations 7\n",
      "                           Logit Regression Results                           \n",
      "==============================================================================\n",
      "Dep. Variable:               gender01   No. Observations:                  466\n",
      "Model:                          Logit   Df Residuals:                      464\n",
      "Method:                           MLE   Df Model:                            1\n",
      "Date:                Wed, 14 Dec 2022   Pseudo R-squ.:                 0.06086\n",
      "Time:                        17:57:20   Log-Likelihood:                -119.04\n",
      "converged:                       True   LL-Null:                       -126.76\n",
      "Covariance Type:            nonrobust   LLR p-value:                 8.570e-05\n",
      "==============================================================================\n",
      "                 coef    std err          z      P>|z|      [0.025      0.975]\n",
      "------------------------------------------------------------------------------\n",
      "Intercept     -0.6117      0.456     -1.343      0.179      -1.505       0.281\n",
      "succ_rate     -2.8289      0.701     -4.035      0.000      -4.203      -1.455\n",
      "==============================================================================\n"
     ]
    }
   ],
   "source": [
    "np.random.seed(2)\n",
    "\n",
    "# declare the model\n",
    "mod = smf.logit(formula='gender01 ~ succ_rate', data=lr_succ_rate)\n",
    "\n",
    "# fit the model\n",
    "res = mod.fit()\n",
    "\n",
    "# print the summary output \n",
    "print(res.summary())"
   ]
  },
  {
   "cell_type": "markdown",
   "id": "ab082fb0",
   "metadata": {},
   "source": [
    "The model summarises the average difference in success rate between target articles that end with women and men articles."
   ]
  },
  {
   "cell_type": "code",
   "execution_count": 55,
   "id": "0ecba591",
   "metadata": {},
   "outputs": [],
   "source": [
    "# we extract the coefficients from the model\n",
    "coefficients = res.params.values\n",
    "beta0 = coefficients[0]     # intercept\n",
    "beta1 = coefficients[1]     # coeff for ind\n",
    "\n",
    "y_est_man = beta0 \n",
    "y_est_woman = beta0 + beta1"
   ]
  },
  {
   "cell_type": "code",
   "execution_count": 56,
   "id": "a31c367a",
   "metadata": {},
   "outputs": [
    {
     "data": {
      "image/png": "[encoded data removed]",
      "text/plain": [
       "<Figure size 432x288 with 1 Axes>"
      ]
     },
     "metadata": {
      "needs_background": "light"
     },
     "output_type": "display_data"
    }
   ],
   "source": [
    "plt.scatter(lr_succ_rate['gender01'], lr_succ_rate['succ_rate'], marker = \"D\", s = 10)\n",
    "plt.plot(lr_succ_rate['gender01'], beta0+beta1*lr_succ_rate['gender01'], color = \"tab:green\")\n",
    "plt.scatter(0, y_est_man, color = \"tab:red\")\n",
    "plt.scatter(1, y_est_woman, color = \"tab:red\")\n",
    "plt.title('Linear regression with success rate as a dependent variable') \n",
    "plt.ylabel('success_rate') \n",
    "plt.xlabel('0: men, 1: women')\n",
    "plt.xticks([0, 1])\n",
    "plt.show()"
   ]
  },
  {
   "cell_type": "code",
   "execution_count": 26,
   "id": "ebcdaa50",
   "metadata": {},
   "outputs": [
    {
     "data": {
      "image/png": "[encoded data removed]",
      "text/plain": [
       "<Figure size 432x288 with 1 Axes>"
      ]
     },
     "metadata": {
      "needs_background": "light"
     },
     "output_type": "display_data"
    }
   ],
   "source": [
    "ax = sns.barplot(x=\"gender\", y=\"succ_rate\", data=people_overview.loc[people_overview['gender'].isin(['male','female'])])"
   ]
  },
  {
   "cell_type": "markdown",
   "id": "0a1e634f",
   "metadata": {},
   "source": [
    "The difference is significant between the two groups since the 95% confidence intervals are not overlapping."
   ]
  },
  {
   "cell_type": "markdown",
   "id": "2e18d734",
   "metadata": {},
   "source": [
    "##### Playtime duration"
   ]
  },
  {
   "cell_type": "code",
   "execution_count": 27,
   "id": "f3224dce",
   "metadata": {},
   "outputs": [],
   "source": [
    "lr_playtime_dur = people_target_paths[[\"durationInSec\", \"gender\", \"finished\"]]"
   ]
  },
  {
   "cell_type": "code",
   "execution_count": 28,
   "id": "4fea734b",
   "metadata": {},
   "outputs": [],
   "source": [
    "lr_playtime_dur = lr_playtime_dur.replace([\"male\", \"female\"], [0,1])\n",
    "lr_playtime_dur = lr_playtime_dur.replace([True, False], [1,0])"
   ]
  },
  {
   "cell_type": "code",
   "execution_count": 29,
   "id": "00480fbb",
   "metadata": {},
   "outputs": [
    {
     "data": {
      "text/html": [
       "<div>\n",
       "<style scoped>\n",
       "    .dataframe tbody tr th:only-of-type {\n",
       "        vertical-align: middle;\n",
       "    }\n",
       "\n",
       "    .dataframe tbody tr th {\n",
       "        vertical-align: top;\n",
       "    }\n",
       "\n",
       "    .dataframe thead th {\n",
       "        text-align: right;\n",
       "    }\n",
       "</style>\n",
       "<table border=\"1\" class=\"dataframe\">\n",
       "  <thead>\n",
       "    <tr style=\"text-align: right;\">\n",
       "      <th></th>\n",
       "      <th>durationInSec</th>\n",
       "      <th>gender</th>\n",
       "      <th>finished</th>\n",
       "    </tr>\n",
       "  </thead>\n",
       "  <tbody>\n",
       "    <tr>\n",
       "      <th>0</th>\n",
       "      <td>175</td>\n",
       "      <td>0</td>\n",
       "      <td>1</td>\n",
       "    </tr>\n",
       "    <tr>\n",
       "      <th>1</th>\n",
       "      <td>110</td>\n",
       "      <td>0</td>\n",
       "      <td>1</td>\n",
       "    </tr>\n",
       "    <tr>\n",
       "      <th>2</th>\n",
       "      <td>160</td>\n",
       "      <td>0</td>\n",
       "      <td>1</td>\n",
       "    </tr>\n",
       "    <tr>\n",
       "      <th>3</th>\n",
       "      <td>74</td>\n",
       "      <td>0</td>\n",
       "      <td>1</td>\n",
       "    </tr>\n",
       "    <tr>\n",
       "      <th>4</th>\n",
       "      <td>125</td>\n",
       "      <td>0</td>\n",
       "      <td>1</td>\n",
       "    </tr>\n",
       "    <tr>\n",
       "      <th>...</th>\n",
       "      <td>...</td>\n",
       "      <td>...</td>\n",
       "      <td>...</td>\n",
       "    </tr>\n",
       "    <tr>\n",
       "      <th>8822</th>\n",
       "      <td>163</td>\n",
       "      <td>0</td>\n",
       "      <td>0</td>\n",
       "    </tr>\n",
       "    <tr>\n",
       "      <th>8824</th>\n",
       "      <td>154</td>\n",
       "      <td>0</td>\n",
       "      <td>0</td>\n",
       "    </tr>\n",
       "    <tr>\n",
       "      <th>8825</th>\n",
       "      <td>127</td>\n",
       "      <td>0</td>\n",
       "      <td>0</td>\n",
       "    </tr>\n",
       "    <tr>\n",
       "      <th>8827</th>\n",
       "      <td>319</td>\n",
       "      <td>0</td>\n",
       "      <td>0</td>\n",
       "    </tr>\n",
       "    <tr>\n",
       "      <th>8828</th>\n",
       "      <td>2547</td>\n",
       "      <td>0</td>\n",
       "      <td>0</td>\n",
       "    </tr>\n",
       "  </tbody>\n",
       "</table>\n",
       "<p>7747 rows × 3 columns</p>\n",
       "</div>"
      ],
      "text/plain": [
       "      durationInSec  gender  finished\n",
       "0               175       0         1\n",
       "1               110       0         1\n",
       "2               160       0         1\n",
       "3                74       0         1\n",
       "4               125       0         1\n",
       "...             ...     ...       ...\n",
       "8822            163       0         0\n",
       "8824            154       0         0\n",
       "8825            127       0         0\n",
       "8827            319       0         0\n",
       "8828           2547       0         0\n",
       "\n",
       "[7747 rows x 3 columns]"
      ]
     },
     "execution_count": 29,
     "metadata": {},
     "output_type": "execute_result"
    }
   ],
   "source": [
    "lr_playtime_dur"
   ]
  },
  {
   "cell_type": "code",
   "execution_count": 30,
   "id": "24577af8",
   "metadata": {},
   "outputs": [
    {
     "name": "stdout",
     "output_type": "stream",
     "text": [
      "                            OLS Regression Results                            \n",
      "==============================================================================\n",
      "Dep. Variable:          durationInSec   R-squared:                       0.313\n",
      "Model:                            OLS   Adj. R-squared:                  0.313\n",
      "Method:                 Least Squares   F-statistic:                     1766.\n",
      "Date:                Wed, 14 Dec 2022   Prob (F-statistic):               0.00\n",
      "Time:                        17:56:41   Log-Likelihood:                -58470.\n",
      "No. Observations:                7747   AIC:                         1.169e+05\n",
      "Df Residuals:                    7744   BIC:                         1.170e+05\n",
      "Df Model:                           2                                         \n",
      "Covariance Type:            nonrobust                                         \n",
      "==============================================================================\n",
      "                 coef    std err          t      P>|t|      [0.025      0.975]\n",
      "------------------------------------------------------------------------------\n",
      "Intercept    904.7982     11.510     78.609      0.000     882.235     927.361\n",
      "gender         3.5476     20.256      0.175      0.861     -36.160      43.255\n",
      "finished    -752.6704     12.748    -59.043      0.000    -777.660    -727.681\n",
      "==============================================================================\n",
      "Omnibus:                     3720.514   Durbin-Watson:                   1.817\n",
      "Prob(Omnibus):                  0.000   Jarque-Bera (JB):            50860.846\n",
      "Skew:                           1.953   Prob(JB):                         0.00\n",
      "Kurtosis:                      14.929   Cond. No.                         5.18\n",
      "==============================================================================\n",
      "\n",
      "Notes:\n",
      "[1] Standard Errors assume that the covariance matrix of the errors is correctly specified.\n"
     ]
    }
   ],
   "source": [
    "np.random.seed(2)\n",
    "\n",
    "# declare the model\n",
    "mod = smf.ols(formula='durationInSec ~ gender + finished', data=lr_playtime_dur)\n",
    "\n",
    "# fit the model\n",
    "res = mod.fit()\n",
    "\n",
    "# print the summary output \n",
    "print(res.summary())"
   ]
  },
  {
   "cell_type": "code",
   "execution_count": 31,
   "id": "7f8809d6",
   "metadata": {},
   "outputs": [],
   "source": [
    "# we extract the coefficients from the model\n",
    "coefficients = res.params.values\n",
    "beta0 = coefficients[0]     # intercept\n",
    "beta1 = coefficients[1]     # coeff for gender\n",
    "beta2 = coefficients[2]     # coeff for finished\n",
    "\n",
    "#y_est_man = beta0 \n",
    "#y_est_woman = beta0 + beta1"
   ]
  },
  {
   "cell_type": "code",
   "execution_count": 32,
   "id": "b07f0f97",
   "metadata": {},
   "outputs": [
    {
     "data": {
      "image/png": "[encoded data removed]",
      "text/plain": [
       "<Figure size 432x288 with 1 Axes>"
      ]
     },
     "metadata": {
      "needs_background": "light"
     },
     "output_type": "display_data"
    }
   ],
   "source": [
    "plt.scatter(lr_playtime_dur['gender'], lr_playtime_dur['durationInSec'], marker = \"D\", s = 10)\n",
    "plt.plot(lr_playtime_dur['gender'], beta0+beta1*lr_playtime_dur['gender'], color = \"tab:green\")\n",
    "#plt.scatter(0, y_est_man, color = \"tab:red\")\n",
    "#plt.scatter(1, y_est_woman, color = \"tab:red\")\n",
    "plt.title('Linear regression with playtime duration') \n",
    "plt.ylabel('durationInSec') \n",
    "plt.xlabel('0: men, 1: women')\n",
    "plt.xticks([0, 1])\n",
    "plt.show()"
   ]
  },
  {
   "cell_type": "markdown",
   "id": "fd270354",
   "metadata": {},
   "source": [
    "##### Path deviation"
   ]
  },
  {
   "cell_type": "code",
   "execution_count": 33,
   "id": "70db9731",
   "metadata": {},
   "outputs": [],
   "source": [
    "lr_path_dev = people_target_paths[[\"path_dev\", \"gender\", \"finished\"]]"
   ]
  },
  {
   "cell_type": "code",
   "execution_count": 34,
   "id": "49e4abed",
   "metadata": {},
   "outputs": [
    {
     "data": {
      "text/html": [
       "<div>\n",
       "<style scoped>\n",
       "    .dataframe tbody tr th:only-of-type {\n",
       "        vertical-align: middle;\n",
       "    }\n",
       "\n",
       "    .dataframe tbody tr th {\n",
       "        vertical-align: top;\n",
       "    }\n",
       "\n",
       "    .dataframe thead th {\n",
       "        text-align: right;\n",
       "    }\n",
       "</style>\n",
       "<table border=\"1\" class=\"dataframe\">\n",
       "  <thead>\n",
       "    <tr style=\"text-align: right;\">\n",
       "      <th></th>\n",
       "      <th>path_dev</th>\n",
       "      <th>gender</th>\n",
       "      <th>finished</th>\n",
       "    </tr>\n",
       "  </thead>\n",
       "  <tbody>\n",
       "    <tr>\n",
       "      <th>0</th>\n",
       "      <td>4</td>\n",
       "      <td>male</td>\n",
       "      <td>True</td>\n",
       "    </tr>\n",
       "    <tr>\n",
       "      <th>1</th>\n",
       "      <td>3</td>\n",
       "      <td>male</td>\n",
       "      <td>True</td>\n",
       "    </tr>\n",
       "    <tr>\n",
       "      <th>2</th>\n",
       "      <td>3</td>\n",
       "      <td>male</td>\n",
       "      <td>True</td>\n",
       "    </tr>\n",
       "    <tr>\n",
       "      <th>3</th>\n",
       "      <td>2</td>\n",
       "      <td>male</td>\n",
       "      <td>True</td>\n",
       "    </tr>\n",
       "    <tr>\n",
       "      <th>4</th>\n",
       "      <td>2</td>\n",
       "      <td>male</td>\n",
       "      <td>True</td>\n",
       "    </tr>\n",
       "    <tr>\n",
       "      <th>...</th>\n",
       "      <td>...</td>\n",
       "      <td>...</td>\n",
       "      <td>...</td>\n",
       "    </tr>\n",
       "    <tr>\n",
       "      <th>8822</th>\n",
       "      <td>7</td>\n",
       "      <td>male</td>\n",
       "      <td>False</td>\n",
       "    </tr>\n",
       "    <tr>\n",
       "      <th>8824</th>\n",
       "      <td>9</td>\n",
       "      <td>male</td>\n",
       "      <td>False</td>\n",
       "    </tr>\n",
       "    <tr>\n",
       "      <th>8825</th>\n",
       "      <td>2</td>\n",
       "      <td>male</td>\n",
       "      <td>False</td>\n",
       "    </tr>\n",
       "    <tr>\n",
       "      <th>8827</th>\n",
       "      <td>0</td>\n",
       "      <td>male</td>\n",
       "      <td>False</td>\n",
       "    </tr>\n",
       "    <tr>\n",
       "      <th>8828</th>\n",
       "      <td>0</td>\n",
       "      <td>male</td>\n",
       "      <td>False</td>\n",
       "    </tr>\n",
       "  </tbody>\n",
       "</table>\n",
       "<p>7747 rows × 3 columns</p>\n",
       "</div>"
      ],
      "text/plain": [
       "      path_dev gender  finished\n",
       "0            4   male      True\n",
       "1            3   male      True\n",
       "2            3   male      True\n",
       "3            2   male      True\n",
       "4            2   male      True\n",
       "...        ...    ...       ...\n",
       "8822         7   male     False\n",
       "8824         9   male     False\n",
       "8825         2   male     False\n",
       "8827         0   male     False\n",
       "8828         0   male     False\n",
       "\n",
       "[7747 rows x 3 columns]"
      ]
     },
     "execution_count": 34,
     "metadata": {},
     "output_type": "execute_result"
    }
   ],
   "source": [
    "lr_path_dev"
   ]
  },
  {
   "cell_type": "code",
   "execution_count": 35,
   "id": "111809df",
   "metadata": {},
   "outputs": [],
   "source": [
    "lr_path_dev = lr_path_dev.replace([\"male\", \"female\"], [0,1])\n",
    "lr_path_dev = lr_path_dev.replace([True, False], [1,0])"
   ]
  },
  {
   "cell_type": "code",
   "execution_count": 36,
   "id": "16dc4db8",
   "metadata": {},
   "outputs": [
    {
     "name": "stdout",
     "output_type": "stream",
     "text": [
      "                            OLS Regression Results                            \n",
      "==============================================================================\n",
      "Dep. Variable:               path_dev   R-squared:                       0.005\n",
      "Model:                            OLS   Adj. R-squared:                  0.005\n",
      "Method:                 Least Squares   F-statistic:                     19.13\n",
      "Date:                Wed, 14 Dec 2022   Prob (F-statistic):           5.16e-09\n",
      "Time:                        17:56:41   Log-Likelihood:                -22409.\n",
      "No. Observations:                7747   AIC:                         4.482e+04\n",
      "Df Residuals:                    7744   BIC:                         4.485e+04\n",
      "Df Model:                           2                                         \n",
      "Covariance Type:            nonrobust                                         \n",
      "==============================================================================\n",
      "                 coef    std err          t      P>|t|      [0.025      0.975]\n",
      "------------------------------------------------------------------------------\n",
      "Intercept      3.9841      0.110     36.375      0.000       3.769       4.199\n",
      "gender         0.8900      0.193      4.617      0.000       0.512       1.268\n",
      "finished      -0.4337      0.121     -3.575      0.000      -0.672      -0.196\n",
      "==============================================================================\n",
      "Omnibus:                     7779.304   Durbin-Watson:                   1.766\n",
      "Prob(Omnibus):                  0.000   Jarque-Bera (JB):           567026.486\n",
      "Skew:                           4.873   Prob(JB):                         0.00\n",
      "Kurtosis:                      43.763   Cond. No.                         5.18\n",
      "==============================================================================\n",
      "\n",
      "Notes:\n",
      "[1] Standard Errors assume that the covariance matrix of the errors is correctly specified.\n"
     ]
    }
   ],
   "source": [
    "np.random.seed(2)\n",
    "\n",
    "# declare the model\n",
    "mod = smf.ols(formula='path_dev ~ gender + finished', data=lr_path_dev)\n",
    "\n",
    "# fit the model\n",
    "res = mod.fit()\n",
    "\n",
    "# print the summary output \n",
    "print(res.summary())"
   ]
  },
  {
   "cell_type": "code",
   "execution_count": 37,
   "id": "39f1f63a",
   "metadata": {},
   "outputs": [],
   "source": [
    "coefficients = res.params.values\n",
    "beta0 = coefficients[0]     # intercept\n",
    "beta1 = coefficients[1]     # coeff for gender\n",
    "beta2 = coefficients[2]     # coeff for finished"
   ]
  },
  {
   "cell_type": "code",
   "execution_count": 38,
   "id": "ccb3f790",
   "metadata": {},
   "outputs": [
    {
     "data": {
      "image/png": "[encoded data removed]",
      "text/plain": [
       "<Figure size 432x288 with 1 Axes>"
      ]
     },
     "metadata": {
      "needs_background": "light"
     },
     "output_type": "display_data"
    }
   ],
   "source": [
    "plt.scatter(lr_path_dev['gender'], lr_path_dev['path_dev'], marker = \"D\", s = 10)\n",
    "plt.plot(lr_path_dev['gender'], beta0+beta1*lr_path_dev['gender'], color = \"tab:green\")\n",
    "#plt.scatter(0, y_est_man, color = \"tab:red\")\n",
    "#plt.scatter(1, y_est_woman, color = \"tab:red\")\n",
    "plt.title('Linear regression with path deviation') \n",
    "plt.ylabel('path deviation') \n",
    "plt.xlabel('0: men, 1: women')\n",
    "plt.xticks([0, 1])\n",
    "plt.show()"
   ]
  },
  {
   "cell_type": "code",
   "execution_count": 39,
   "id": "f908d272",
   "metadata": {},
   "outputs": [
    {
     "data": {
      "image/png": "[encoded data removed]",
      "text/plain": [
       "<Figure size 432x288 with 1 Axes>"
      ]
     },
     "metadata": {
      "needs_background": "light"
     },
     "output_type": "display_data"
    }
   ],
   "source": [
    "ax = sns.barplot(x=\"gender\", y=\"path_dev\", data=people_target_paths.loc[people_target_paths['gender'].isin(['male','female'])])"
   ]
  },
  {
   "cell_type": "markdown",
   "id": "2b6d6735",
   "metadata": {},
   "source": [
    "##### Number of back clicks"
   ]
  },
  {
   "cell_type": "code",
   "execution_count": 40,
   "id": "675c52b8",
   "metadata": {},
   "outputs": [],
   "source": [
    "lr_back_clicks = people_target_paths[[\"backclicks\", \"gender\", \"finished\"]]\n",
    "lr_back_clicks = lr_back_clicks.replace([\"male\", \"female\"], [0,1])\n",
    "lr_back_clicks = lr_back_clicks.replace([True, False], [1,0])"
   ]
  },
  {
   "cell_type": "code",
   "execution_count": 41,
   "id": "0cfa70a3",
   "metadata": {},
   "outputs": [
    {
     "data": {
      "image/png": "[encoded data removed]",
      "text/plain": [
       "<Figure size 432x288 with 1 Axes>"
      ]
     },
     "metadata": {
      "needs_background": "light"
     },
     "output_type": "display_data"
    }
   ],
   "source": [
    "ax = sns.barplot(x=\"gender\", y=\"backclicks\", data=people_target_paths.loc[people_target_paths['gender'].isin(['male','female'])])"
   ]
  },
  {
   "cell_type": "code",
   "execution_count": 42,
   "id": "af072e77",
   "metadata": {},
   "outputs": [
    {
     "name": "stdout",
     "output_type": "stream",
     "text": [
      "                            OLS Regression Results                            \n",
      "==============================================================================\n",
      "Dep. Variable:             backclicks   R-squared:                       0.014\n",
      "Model:                            OLS   Adj. R-squared:                  0.014\n",
      "Method:                 Least Squares   F-statistic:                     56.95\n",
      "Date:                Wed, 14 Dec 2022   Prob (F-statistic):           2.81e-25\n",
      "Time:                        17:56:42   Log-Likelihood:                -14421.\n",
      "No. Observations:                7747   AIC:                         2.885e+04\n",
      "Df Residuals:                    7744   BIC:                         2.887e+04\n",
      "Df Model:                           2                                         \n",
      "Covariance Type:            nonrobust                                         \n",
      "==============================================================================\n",
      "                 coef    std err          t      P>|t|      [0.025      0.975]\n",
      "------------------------------------------------------------------------------\n",
      "Intercept      0.7883      0.039     20.182      0.000       0.712       0.865\n",
      "gender         0.1654      0.069      2.407      0.016       0.031       0.300\n",
      "finished      -0.4353      0.043    -10.064      0.000      -0.520      -0.351\n",
      "==============================================================================\n",
      "Omnibus:                    10330.368   Durbin-Watson:                   1.791\n",
      "Prob(Omnibus):                  0.000   Jarque-Bera (JB):          2505027.594\n",
      "Skew:                           7.559   Prob(JB):                         0.00\n",
      "Kurtosis:                      89.787   Cond. No.                         5.18\n",
      "==============================================================================\n",
      "\n",
      "Notes:\n",
      "[1] Standard Errors assume that the covariance matrix of the errors is correctly specified.\n"
     ]
    }
   ],
   "source": [
    "np.random.seed(2)\n",
    "\n",
    "# declare the model\n",
    "mod = smf.ols(formula='backclicks ~ gender + finished', data=lr_back_clicks)\n",
    "\n",
    "# fit the model\n",
    "res = mod.fit()\n",
    "\n",
    "# print the summary output \n",
    "print(res.summary())"
   ]
  },
  {
   "cell_type": "code",
   "execution_count": 43,
   "id": "771333ff",
   "metadata": {},
   "outputs": [],
   "source": [
    "coefficients = res.params.values\n",
    "beta0 = coefficients[0]     # intercept\n",
    "beta1 = coefficients[1]     # coeff for gender\n",
    "beta2 = coefficients[2]     # coeff for finished"
   ]
  },
  {
   "cell_type": "code",
   "execution_count": 44,
   "id": "2f298d21",
   "metadata": {},
   "outputs": [
    {
     "data": {
      "image/png": "[encoded data removed]",
      "text/plain": [
       "<Figure size 432x288 with 1 Axes>"
      ]
     },
     "metadata": {
      "needs_background": "light"
     },
     "output_type": "display_data"
    }
   ],
   "source": [
    "plt.scatter(lr_back_clicks['gender'], lr_back_clicks['backclicks'], marker = \"D\", s = 10)\n",
    "plt.plot(lr_back_clicks['gender'], beta0+beta1*lr_back_clicks['gender'], color = \"tab:green\")\n",
    "#plt.scatter(0, y_est_man, color = \"tab:red\")\n",
    "#plt.scatter(1, y_est_woman, color = \"tab:red\")\n",
    "plt.title('Linear regression with back clicks') \n",
    "plt.ylabel('path deviation') \n",
    "plt.xlabel('0: men, 1: women')\n",
    "plt.xticks([0, 1])\n",
    "plt.show()"
   ]
  },
  {
   "cell_type": "markdown",
   "id": "964fce1c",
   "metadata": {},
   "source": [
    "##### Difficulty rating"
   ]
  },
  {
   "cell_type": "code",
   "execution_count": 45,
   "id": "5dfcad26",
   "metadata": {},
   "outputs": [],
   "source": [
    "lr_rating = people_target_paths[[\"rating\", \"gender\", \"finished\"]]\n",
    "lr_rating = lr_rating.replace([\"male\", \"female\"], [0,1])\n",
    "lr_rating = lr_rating.replace([True, False], [1,0])"
   ]
  },
  {
   "cell_type": "code",
   "execution_count": 46,
   "id": "53058334",
   "metadata": {},
   "outputs": [],
   "source": [
    "lr_rating = lr_rating.dropna(subset = [\"rating\"])"
   ]
  },
  {
   "cell_type": "code",
   "execution_count": 47,
   "id": "67f7e67c",
   "metadata": {},
   "outputs": [
    {
     "data": {
      "image/png": "[encoded data removed]",
      "text/plain": [
       "<Figure size 432x288 with 1 Axes>"
      ]
     },
     "metadata": {
      "needs_background": "light"
     },
     "output_type": "display_data"
    }
   ],
   "source": [
    "ax = sns.barplot(x=\"gender\", y=\"rating\", data=people_target_paths.loc[people_target_paths['gender'].isin(['male','female'])])"
   ]
  },
  {
   "cell_type": "code",
   "execution_count": 48,
   "id": "93efd3e6",
   "metadata": {},
   "outputs": [
    {
     "name": "stdout",
     "output_type": "stream",
     "text": [
      "                            OLS Regression Results                            \n",
      "==============================================================================\n",
      "Dep. Variable:                 rating   R-squared:                       0.002\n",
      "Model:                            OLS   Adj. R-squared:                  0.002\n",
      "Method:                 Least Squares   F-statistic:                     8.575\n",
      "Date:                Wed, 14 Dec 2022   Prob (F-statistic):            0.00343\n",
      "Time:                        17:56:42   Log-Likelihood:                -5097.9\n",
      "No. Observations:                3436   AIC:                         1.020e+04\n",
      "Df Residuals:                    3434   BIC:                         1.021e+04\n",
      "Df Model:                           1                                         \n",
      "Covariance Type:            nonrobust                                         \n",
      "==============================================================================\n",
      "                 coef    std err          t      P>|t|      [0.025      0.975]\n",
      "------------------------------------------------------------------------------\n",
      "Intercept      1.1094      0.009    118.182      0.000       1.091       1.128\n",
      "gender         0.2251      0.077      2.928      0.003       0.074       0.376\n",
      "finished       1.1094      0.009    118.182      0.000       1.091       1.128\n",
      "==============================================================================\n",
      "Omnibus:                      188.083   Durbin-Watson:                   1.679\n",
      "Prob(Omnibus):                  0.000   Jarque-Bera (JB):              208.711\n",
      "Skew:                           0.584   Prob(JB):                     4.78e-46\n",
      "Kurtosis:                       2.695   Cond. No.                     6.18e+15\n",
      "==============================================================================\n",
      "\n",
      "Notes:\n",
      "[1] Standard Errors assume that the covariance matrix of the errors is correctly specified.\n",
      "[2] The smallest eigenvalue is 1.8e-28. This might indicate that there are\n",
      "strong multicollinearity problems or that the design matrix is singular.\n"
     ]
    }
   ],
   "source": [
    "np.random.seed(2)\n",
    "\n",
    "# declare the model\n",
    "mod = smf.ols(formula='rating ~ gender + finished', data=lr_rating)\n",
    "\n",
    "# fit the model\n",
    "res = mod.fit()\n",
    "\n",
    "# print the summary output \n",
    "print(res.summary())"
   ]
  },
  {
   "cell_type": "code",
   "execution_count": 49,
   "id": "8911bbfc",
   "metadata": {},
   "outputs": [],
   "source": [
    "coefficients = res.params.values\n",
    "beta0 = coefficients[0]     # intercept\n",
    "beta1 = coefficients[1]     # coeff for gender\n",
    "beta2 = coefficients[2]     # coeff for finished"
   ]
  },
  {
   "cell_type": "code",
   "execution_count": 50,
   "id": "b58b0cfa",
   "metadata": {},
   "outputs": [
    {
     "data": {
      "image/png": "[encoded data removed]",
      "text/plain": [
       "<Figure size 432x288 with 1 Axes>"
      ]
     },
     "metadata": {
      "needs_background": "light"
     },
     "output_type": "display_data"
    }
   ],
   "source": [
    "plt.scatter(lr_rating['gender'], lr_rating['rating'], marker = \"D\", s = 10)\n",
    "plt.plot(lr_rating['gender'], beta0+beta1*lr_rating['gender'], color = \"tab:green\")\n",
    "#plt.scatter(0, y_est_man, color = \"tab:red\")\n",
    "#plt.scatter(1, y_est_woman, color = \"tab:red\")\n",
    "plt.title('Linear regression with difficulty rating') \n",
    "plt.ylabel('difficulty rating') \n",
    "plt.xlabel('0: men, 1: women')\n",
    "plt.xticks([0, 1])\n",
    "plt.show()"
   ]
  }
 ],
 "metadata": {
  "kernelspec": {
   "display_name": "Python 3 (ipykernel)",
   "language": "python",
   "name": "python3"
  },
  "language_info": {
   "codemirror_mode": {
    "name": "ipython",
    "version": 3
   },
   "file_extension": ".py",
   "mimetype": "text/x-python",
   "name": "python",
   "nbconvert_exporter": "python",
   "pygments_lexer": "ipython3",
   "version": "3.9.13"
  }
 },
 "nbformat": 4,
 "nbformat_minor": 5
}
