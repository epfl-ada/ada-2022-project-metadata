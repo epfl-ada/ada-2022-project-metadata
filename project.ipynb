{
 "cells": [
  {
   "cell_type": "markdown",
   "metadata": {},
   "source": [
    "# **Wikiwomen: An analysis on gender bias**\n",
    "*metADAta*"
   ]
  },
  {
   "cell_type": "markdown",
   "metadata": {},
   "source": [
    "We begin with taking a look at the Wikispeedia dataset and importing the files from it. The dataframe `female` is an additional dataset that we constructed ourselves."
   ]
  },
  {
   "cell_type": "markdown",
   "metadata": {
    "tags": []
   },
   "source": [
    "### **Dataframes: Columns and descriptions**"
   ]
  },
  {
   "cell_type": "markdown",
   "metadata": {},
   "source": [
    "| Name of dataframe | Columns                                                         | Description                                                                   |   |   |\n",
    "|-------------------|-----------------------------------------------------------------|-------------------------------------------------------------------------------|---|---|\n",
    "| articles          | [article]                                                       | Contains the name of a wikispeedia article                                    |   |   |\n",
    "| categories        | [article, category]                                             | Contains the name of a wikispeedia article and its corresponding category     |   |   |\n",
    "| links             | [link_source, link_target]                                      | Contains the source and target article between paths that were tested         |   |   |\n",
    "| paths_finished    | [hashedIpAddress, timestamp, durationInSec, path, rating]       | Contains all finished paths                                                   |   |   |\n",
    "| paths_unfinished  | [hashedIpAddress, timestamp, durationInSec, path, target, type] | Contains all unfinished paths. Type refers to the reason they were unfinished |   |   |\n",
    "| female  | [women, womenLabel] | Contains a list of articles about females and their corresponding subcategory |   |   |"
   ]
  },
  {
   "cell_type": "markdown",
   "metadata": {
    "tags": []
   },
   "source": [
    "### **Importing the data**"
   ]
  },
  {
   "cell_type": "code",
   "execution_count": 5,
   "metadata": {
    "vscode": {
     "languageId": "plaintext"
    }
   },
   "outputs": [],
   "source": [
    "import numpy as np\n",
    "import pandas as pd\n",
    "import matplotlib.pyplot as plt\n",
    "%matplotlib inline\n",
    "\n",
    "DATA_FOLDER = 'data/'\n",
    "WIKISPEEDIA_PATHS = DATA_FOLDER + \"wikispeedia_paths-and-graph/\"\n",
    "\n",
    "ARTICLES = WIKISPEEDIA_PATHS + \"articles.tsv\"\n",
    "CATEGORIES = WIKISPEEDIA_PATHS + \"categories.tsv\"\n",
    "LINKS = WIKISPEEDIA_PATHS + \"links.tsv\"\n",
    "PATHS_FINISHED = WIKISPEEDIA_PATHS + \"paths_finished.tsv\"\n",
    "PATHS_UNFINISHED = WIKISPEEDIA_PATHS + \"paths_unfinished.tsv\"\n",
    "SHORTEST_PATHS = WIKISPEEDIA_PATHS + \"shortest-path-distance-matrix.txt\"\n",
    "FEMALES = DATA_FOLDER + \"listwomen.txt\""
   ]
  },
  {
   "cell_type": "code",
   "execution_count": 6,
   "metadata": {
    "vscode": {
     "languageId": "plaintext"
    }
   },
   "outputs": [],
   "source": [
    "articles = pd.read_csv(ARTICLES, sep='\\t', names=[\"article\"], skiprows = 12)\n",
    "categories = pd.read_csv(CATEGORIES, sep='\\t', names=[\"article\", \"category\"], skiprows = 13)\n",
    "links = pd.read_csv(LINKS, sep='\\t', names=[\"link_source\", \"link_target\"], skiprows = 12)\n",
    "paths_finished = pd.read_csv(PATHS_FINISHED, sep='\\t', names=[\"hashedIpAddress\", \"timestamp\", \n",
    "                                                              \"durationInSec\", \"path\", \"rating\"], skiprows = 15)\n",
    "paths_unfinished = pd.read_csv(PATHS_UNFINISHED, sep='\\t', names=[\"hashedIpAddress\", \"timestamp\", \n",
    "                                                                  \"durationInSec\", \"path\", \"target\", \"type\"], skiprows = 17)\n",
    "shortest_distance_text = np.loadtxt(SHORTEST_PATHS, dtype=str, comments=\"#\", unpack=False)\n",
    "\n",
    "female = pd.read_csv(FEMALES, sep=',', names=[\"name\", \"women_label\"], skiprows = 1)"
   ]
  },
  {
   "cell_type": "markdown",
   "metadata": {
    "tags": []
   },
   "source": [
    "#### **Dataframes: Basic statistics**"
   ]
  },
  {
   "cell_type": "markdown",
   "metadata": {
    "jp-MarkdownHeadingCollapsed": true,
    "tags": []
   },
   "source": [
    "##### **Articles**"
   ]
  },
  {
   "cell_type": "code",
   "execution_count": 7,
   "metadata": {},
   "outputs": [
    {
     "name": "stdout",
     "output_type": "stream",
     "text": [
      "Number of articles in the dataset: 4604\n"
     ]
    },
    {
     "data": {
      "text/html": [
       "<div>\n",
       "<style scoped>\n",
       "    .dataframe tbody tr th:only-of-type {\n",
       "        vertical-align: middle;\n",
       "    }\n",
       "\n",
       "    .dataframe tbody tr th {\n",
       "        vertical-align: top;\n",
       "    }\n",
       "\n",
       "    .dataframe thead th {\n",
       "        text-align: right;\n",
       "    }\n",
       "</style>\n",
       "<table border=\"1\" class=\"dataframe\">\n",
       "  <thead>\n",
       "    <tr style=\"text-align: right;\">\n",
       "      <th></th>\n",
       "      <th>article</th>\n",
       "    </tr>\n",
       "  </thead>\n",
       "  <tbody>\n",
       "    <tr>\n",
       "      <th>0</th>\n",
       "      <td>%C3%81ed%C3%A1n_mac_Gabr%C3%A1in</td>\n",
       "    </tr>\n",
       "    <tr>\n",
       "      <th>1</th>\n",
       "      <td>%C3%85land</td>\n",
       "    </tr>\n",
       "    <tr>\n",
       "      <th>2</th>\n",
       "      <td>%C3%89douard_Manet</td>\n",
       "    </tr>\n",
       "    <tr>\n",
       "      <th>3</th>\n",
       "      <td>%C3%89ire</td>\n",
       "    </tr>\n",
       "    <tr>\n",
       "      <th>4</th>\n",
       "      <td>%C3%93engus_I_of_the_Picts</td>\n",
       "    </tr>\n",
       "    <tr>\n",
       "      <th>5</th>\n",
       "      <td>%E2%82%AC2_commemorative_coins</td>\n",
       "    </tr>\n",
       "    <tr>\n",
       "      <th>6</th>\n",
       "      <td>10th_century</td>\n",
       "    </tr>\n",
       "    <tr>\n",
       "      <th>7</th>\n",
       "      <td>11th_century</td>\n",
       "    </tr>\n",
       "    <tr>\n",
       "      <th>8</th>\n",
       "      <td>12th_century</td>\n",
       "    </tr>\n",
       "    <tr>\n",
       "      <th>9</th>\n",
       "      <td>13th_century</td>\n",
       "    </tr>\n",
       "  </tbody>\n",
       "</table>\n",
       "</div>"
      ],
      "text/plain": [
       "                            article\n",
       "0  %C3%81ed%C3%A1n_mac_Gabr%C3%A1in\n",
       "1                        %C3%85land\n",
       "2                %C3%89douard_Manet\n",
       "3                         %C3%89ire\n",
       "4        %C3%93engus_I_of_the_Picts\n",
       "5    %E2%82%AC2_commemorative_coins\n",
       "6                      10th_century\n",
       "7                      11th_century\n",
       "8                      12th_century\n",
       "9                      13th_century"
      ]
     },
     "execution_count": 7,
     "metadata": {},
     "output_type": "execute_result"
    }
   ],
   "source": [
    "print(f\"Number of articles in the dataset: {len(articles)}\")\n",
    "articles.head(10)"
   ]
  },
  {
   "cell_type": "markdown",
   "metadata": {
    "jp-MarkdownHeadingCollapsed": true,
    "tags": []
   },
   "source": [
    "##### **Categories**"
   ]
  },
  {
   "cell_type": "code",
   "execution_count": 8,
   "metadata": {},
   "outputs": [
    {
     "name": "stdout",
     "output_type": "stream",
     "text": [
      "Number of rows in the dataset: 5204\n"
     ]
    },
    {
     "data": {
      "text/html": [
       "<div>\n",
       "<style scoped>\n",
       "    .dataframe tbody tr th:only-of-type {\n",
       "        vertical-align: middle;\n",
       "    }\n",
       "\n",
       "    .dataframe tbody tr th {\n",
       "        vertical-align: top;\n",
       "    }\n",
       "\n",
       "    .dataframe thead th {\n",
       "        text-align: right;\n",
       "    }\n",
       "</style>\n",
       "<table border=\"1\" class=\"dataframe\">\n",
       "  <thead>\n",
       "    <tr style=\"text-align: right;\">\n",
       "      <th></th>\n",
       "      <th>article</th>\n",
       "      <th>category</th>\n",
       "    </tr>\n",
       "  </thead>\n",
       "  <tbody>\n",
       "    <tr>\n",
       "      <th>0</th>\n",
       "      <td>%C3%81ed%C3%A1n_mac_Gabr%C3%A1in</td>\n",
       "      <td>subject.History.British_History.British_Histor...</td>\n",
       "    </tr>\n",
       "    <tr>\n",
       "      <th>1</th>\n",
       "      <td>%C3%81ed%C3%A1n_mac_Gabr%C3%A1in</td>\n",
       "      <td>subject.People.Historical_figures</td>\n",
       "    </tr>\n",
       "    <tr>\n",
       "      <th>2</th>\n",
       "      <td>%C3%85land</td>\n",
       "      <td>subject.Countries</td>\n",
       "    </tr>\n",
       "    <tr>\n",
       "      <th>3</th>\n",
       "      <td>%C3%85land</td>\n",
       "      <td>subject.Geography.European_Geography.European_...</td>\n",
       "    </tr>\n",
       "    <tr>\n",
       "      <th>4</th>\n",
       "      <td>%C3%89douard_Manet</td>\n",
       "      <td>subject.People.Artists</td>\n",
       "    </tr>\n",
       "  </tbody>\n",
       "</table>\n",
       "</div>"
      ],
      "text/plain": [
       "                            article  \\\n",
       "0  %C3%81ed%C3%A1n_mac_Gabr%C3%A1in   \n",
       "1  %C3%81ed%C3%A1n_mac_Gabr%C3%A1in   \n",
       "2                        %C3%85land   \n",
       "3                        %C3%85land   \n",
       "4                %C3%89douard_Manet   \n",
       "\n",
       "                                            category  \n",
       "0  subject.History.British_History.British_Histor...  \n",
       "1                  subject.People.Historical_figures  \n",
       "2                                  subject.Countries  \n",
       "3  subject.Geography.European_Geography.European_...  \n",
       "4                             subject.People.Artists  "
      ]
     },
     "execution_count": 8,
     "metadata": {},
     "output_type": "execute_result"
    }
   ],
   "source": [
    "print(f\"Number of rows in the dataset: {len(categories)}\")\n",
    "categories.head()"
   ]
  },
  {
   "cell_type": "code",
   "execution_count": 9,
   "metadata": {},
   "outputs": [
    {
     "name": "stdout",
     "output_type": "stream",
     "text": [
      "The number of categories are 129\n"
     ]
    },
    {
     "data": {
      "text/html": [
       "<div>\n",
       "<style scoped>\n",
       "    .dataframe tbody tr th:only-of-type {\n",
       "        vertical-align: middle;\n",
       "    }\n",
       "\n",
       "    .dataframe tbody tr th {\n",
       "        vertical-align: top;\n",
       "    }\n",
       "\n",
       "    .dataframe thead th {\n",
       "        text-align: right;\n",
       "    }\n",
       "</style>\n",
       "<table border=\"1\" class=\"dataframe\">\n",
       "  <thead>\n",
       "    <tr style=\"text-align: right;\">\n",
       "      <th></th>\n",
       "      <th>article</th>\n",
       "    </tr>\n",
       "    <tr>\n",
       "      <th>category</th>\n",
       "      <th></th>\n",
       "    </tr>\n",
       "  </thead>\n",
       "  <tbody>\n",
       "    <tr>\n",
       "      <th>subject.Art.Art</th>\n",
       "      <td>36</td>\n",
       "    </tr>\n",
       "    <tr>\n",
       "      <th>subject.Art.Artists</th>\n",
       "      <td>2</td>\n",
       "    </tr>\n",
       "    <tr>\n",
       "      <th>subject.Business_Studies.Business</th>\n",
       "      <td>28</td>\n",
       "    </tr>\n",
       "    <tr>\n",
       "      <th>subject.Business_Studies.Companies</th>\n",
       "      <td>18</td>\n",
       "    </tr>\n",
       "    <tr>\n",
       "      <th>subject.Business_Studies.Currency</th>\n",
       "      <td>14</td>\n",
       "    </tr>\n",
       "    <tr>\n",
       "      <th>...</th>\n",
       "      <td>...</td>\n",
       "    </tr>\n",
       "    <tr>\n",
       "      <th>subject.Science.Physics.Electricity_and_Electronics</th>\n",
       "      <td>20</td>\n",
       "    </tr>\n",
       "    <tr>\n",
       "      <th>subject.Science.Physics.General_Physics</th>\n",
       "      <td>55</td>\n",
       "    </tr>\n",
       "    <tr>\n",
       "      <th>subject.Science.Physics.Space_Astronomy</th>\n",
       "      <td>105</td>\n",
       "    </tr>\n",
       "    <tr>\n",
       "      <th>subject.Science.Physics.Space_transport</th>\n",
       "      <td>33</td>\n",
       "    </tr>\n",
       "    <tr>\n",
       "      <th>subject.Science.Physics.The_Planets</th>\n",
       "      <td>13</td>\n",
       "    </tr>\n",
       "  </tbody>\n",
       "</table>\n",
       "<p>129 rows × 1 columns</p>\n",
       "</div>"
      ],
      "text/plain": [
       "                                                    article\n",
       "category                                                   \n",
       "subject.Art.Art                                          36\n",
       "subject.Art.Artists                                       2\n",
       "subject.Business_Studies.Business                        28\n",
       "subject.Business_Studies.Companies                       18\n",
       "subject.Business_Studies.Currency                        14\n",
       "...                                                     ...\n",
       "subject.Science.Physics.Electricity_and_Electro...       20\n",
       "subject.Science.Physics.General_Physics                  55\n",
       "subject.Science.Physics.Space_Astronomy                 105\n",
       "subject.Science.Physics.Space_transport                  33\n",
       "subject.Science.Physics.The_Planets                      13\n",
       "\n",
       "[129 rows x 1 columns]"
      ]
     },
     "execution_count": 9,
     "metadata": {},
     "output_type": "execute_result"
    }
   ],
   "source": [
    "# Number of articles in each category\n",
    "n_artcat = categories.groupby(categories[\"category\"]).nunique()\n",
    "\n",
    "print(f\"The number of categories are {len(n_artcat)}\")\n",
    "n_artcat"
   ]
  },
  {
   "cell_type": "markdown",
   "metadata": {
    "jp-MarkdownHeadingCollapsed": true,
    "tags": []
   },
   "source": [
    "##### **Links**"
   ]
  },
  {
   "cell_type": "code",
   "execution_count": 10,
   "metadata": {},
   "outputs": [
    {
     "name": "stdout",
     "output_type": "stream",
     "text": [
      "Number of combinations of source and target articles in the dataset: 119882\n"
     ]
    },
    {
     "data": {
      "text/html": [
       "<div>\n",
       "<style scoped>\n",
       "    .dataframe tbody tr th:only-of-type {\n",
       "        vertical-align: middle;\n",
       "    }\n",
       "\n",
       "    .dataframe tbody tr th {\n",
       "        vertical-align: top;\n",
       "    }\n",
       "\n",
       "    .dataframe thead th {\n",
       "        text-align: right;\n",
       "    }\n",
       "</style>\n",
       "<table border=\"1\" class=\"dataframe\">\n",
       "  <thead>\n",
       "    <tr style=\"text-align: right;\">\n",
       "      <th></th>\n",
       "      <th>link_source</th>\n",
       "      <th>link_target</th>\n",
       "    </tr>\n",
       "  </thead>\n",
       "  <tbody>\n",
       "    <tr>\n",
       "      <th>0</th>\n",
       "      <td>%C3%81ed%C3%A1n_mac_Gabr%C3%A1in</td>\n",
       "      <td>Bede</td>\n",
       "    </tr>\n",
       "    <tr>\n",
       "      <th>1</th>\n",
       "      <td>%C3%81ed%C3%A1n_mac_Gabr%C3%A1in</td>\n",
       "      <td>Columba</td>\n",
       "    </tr>\n",
       "    <tr>\n",
       "      <th>2</th>\n",
       "      <td>%C3%81ed%C3%A1n_mac_Gabr%C3%A1in</td>\n",
       "      <td>D%C3%A1l_Riata</td>\n",
       "    </tr>\n",
       "    <tr>\n",
       "      <th>3</th>\n",
       "      <td>%C3%81ed%C3%A1n_mac_Gabr%C3%A1in</td>\n",
       "      <td>Great_Britain</td>\n",
       "    </tr>\n",
       "    <tr>\n",
       "      <th>4</th>\n",
       "      <td>%C3%81ed%C3%A1n_mac_Gabr%C3%A1in</td>\n",
       "      <td>Ireland</td>\n",
       "    </tr>\n",
       "  </tbody>\n",
       "</table>\n",
       "</div>"
      ],
      "text/plain": [
       "                        link_source     link_target\n",
       "0  %C3%81ed%C3%A1n_mac_Gabr%C3%A1in            Bede\n",
       "1  %C3%81ed%C3%A1n_mac_Gabr%C3%A1in         Columba\n",
       "2  %C3%81ed%C3%A1n_mac_Gabr%C3%A1in  D%C3%A1l_Riata\n",
       "3  %C3%81ed%C3%A1n_mac_Gabr%C3%A1in   Great_Britain\n",
       "4  %C3%81ed%C3%A1n_mac_Gabr%C3%A1in         Ireland"
      ]
     },
     "execution_count": 10,
     "metadata": {},
     "output_type": "execute_result"
    }
   ],
   "source": [
    "print(f\"Number of combinations of source and target articles in the dataset: {len(links)}\")\n",
    "links.head(5)"
   ]
  },
  {
   "cell_type": "markdown",
   "metadata": {
    "jp-MarkdownHeadingCollapsed": true,
    "tags": []
   },
   "source": [
    "##### **Finished paths**"
   ]
  },
  {
   "cell_type": "code",
   "execution_count": 11,
   "metadata": {},
   "outputs": [
    {
     "name": "stdout",
     "output_type": "stream",
     "text": [
      "Number of finished paths: 51318\n"
     ]
    },
    {
     "data": {
      "text/html": [
       "<div>\n",
       "<style scoped>\n",
       "    .dataframe tbody tr th:only-of-type {\n",
       "        vertical-align: middle;\n",
       "    }\n",
       "\n",
       "    .dataframe tbody tr th {\n",
       "        vertical-align: top;\n",
       "    }\n",
       "\n",
       "    .dataframe thead th {\n",
       "        text-align: right;\n",
       "    }\n",
       "</style>\n",
       "<table border=\"1\" class=\"dataframe\">\n",
       "  <thead>\n",
       "    <tr style=\"text-align: right;\">\n",
       "      <th></th>\n",
       "      <th>hashedIpAddress</th>\n",
       "      <th>timestamp</th>\n",
       "      <th>durationInSec</th>\n",
       "      <th>path</th>\n",
       "      <th>rating</th>\n",
       "    </tr>\n",
       "  </thead>\n",
       "  <tbody>\n",
       "    <tr>\n",
       "      <th>0</th>\n",
       "      <td>6a3701d319fc3754</td>\n",
       "      <td>1297740409</td>\n",
       "      <td>166</td>\n",
       "      <td>14th_century;15th_century;16th_century;Pacific...</td>\n",
       "      <td>NaN</td>\n",
       "    </tr>\n",
       "    <tr>\n",
       "      <th>1</th>\n",
       "      <td>3824310e536af032</td>\n",
       "      <td>1344753412</td>\n",
       "      <td>88</td>\n",
       "      <td>14th_century;Europe;Africa;Atlantic_slave_trad...</td>\n",
       "      <td>3.0</td>\n",
       "    </tr>\n",
       "    <tr>\n",
       "      <th>2</th>\n",
       "      <td>415612e93584d30e</td>\n",
       "      <td>1349298640</td>\n",
       "      <td>138</td>\n",
       "      <td>14th_century;Niger;Nigeria;British_Empire;Slav...</td>\n",
       "      <td>NaN</td>\n",
       "    </tr>\n",
       "    <tr>\n",
       "      <th>3</th>\n",
       "      <td>64dd5cd342e3780c</td>\n",
       "      <td>1265613925</td>\n",
       "      <td>37</td>\n",
       "      <td>14th_century;Renaissance;Ancient_Greece;Greece</td>\n",
       "      <td>NaN</td>\n",
       "    </tr>\n",
       "    <tr>\n",
       "      <th>4</th>\n",
       "      <td>015245d773376aab</td>\n",
       "      <td>1366730828</td>\n",
       "      <td>175</td>\n",
       "      <td>14th_century;Italy;Roman_Catholic_Church;HIV;R...</td>\n",
       "      <td>3.0</td>\n",
       "    </tr>\n",
       "  </tbody>\n",
       "</table>\n",
       "</div>"
      ],
      "text/plain": [
       "    hashedIpAddress   timestamp  durationInSec  \\\n",
       "0  6a3701d319fc3754  1297740409            166   \n",
       "1  3824310e536af032  1344753412             88   \n",
       "2  415612e93584d30e  1349298640            138   \n",
       "3  64dd5cd342e3780c  1265613925             37   \n",
       "4  015245d773376aab  1366730828            175   \n",
       "\n",
       "                                                path  rating  \n",
       "0  14th_century;15th_century;16th_century;Pacific...     NaN  \n",
       "1  14th_century;Europe;Africa;Atlantic_slave_trad...     3.0  \n",
       "2  14th_century;Niger;Nigeria;British_Empire;Slav...     NaN  \n",
       "3     14th_century;Renaissance;Ancient_Greece;Greece     NaN  \n",
       "4  14th_century;Italy;Roman_Catholic_Church;HIV;R...     3.0  "
      ]
     },
     "execution_count": 11,
     "metadata": {},
     "output_type": "execute_result"
    }
   ],
   "source": [
    "print(f\"Number of finished paths: {len(paths_finished)}\")\n",
    "paths_finished.head(5)"
   ]
  },
  {
   "cell_type": "markdown",
   "metadata": {
    "jp-MarkdownHeadingCollapsed": true,
    "tags": []
   },
   "source": [
    "##### **Unfinished paths**"
   ]
  },
  {
   "cell_type": "code",
   "execution_count": 12,
   "metadata": {},
   "outputs": [
    {
     "name": "stdout",
     "output_type": "stream",
     "text": [
      "Number of unfinished paths: 24875\n"
     ]
    },
    {
     "data": {
      "text/html": [
       "<div>\n",
       "<style scoped>\n",
       "    .dataframe tbody tr th:only-of-type {\n",
       "        vertical-align: middle;\n",
       "    }\n",
       "\n",
       "    .dataframe tbody tr th {\n",
       "        vertical-align: top;\n",
       "    }\n",
       "\n",
       "    .dataframe thead th {\n",
       "        text-align: right;\n",
       "    }\n",
       "</style>\n",
       "<table border=\"1\" class=\"dataframe\">\n",
       "  <thead>\n",
       "    <tr style=\"text-align: right;\">\n",
       "      <th></th>\n",
       "      <th>hashedIpAddress</th>\n",
       "      <th>timestamp</th>\n",
       "      <th>durationInSec</th>\n",
       "      <th>path</th>\n",
       "      <th>target</th>\n",
       "      <th>type</th>\n",
       "    </tr>\n",
       "  </thead>\n",
       "  <tbody>\n",
       "    <tr>\n",
       "      <th>0</th>\n",
       "      <td>2426091a53125110</td>\n",
       "      <td>1297054935</td>\n",
       "      <td>1804</td>\n",
       "      <td>Obi-Wan_Kenobi</td>\n",
       "      <td>Microsoft</td>\n",
       "      <td>timeout</td>\n",
       "    </tr>\n",
       "    <tr>\n",
       "      <th>1</th>\n",
       "      <td>26141fd878806294</td>\n",
       "      <td>1297055651</td>\n",
       "      <td>1805</td>\n",
       "      <td>Julius_Caesar</td>\n",
       "      <td>Caracas</td>\n",
       "      <td>timeout</td>\n",
       "    </tr>\n",
       "    <tr>\n",
       "      <th>2</th>\n",
       "      <td>2b015fb8181c48f2</td>\n",
       "      <td>1297090819</td>\n",
       "      <td>1818</td>\n",
       "      <td>Malawi;Democracy;Alexander_the_Great</td>\n",
       "      <td>First_Crusade</td>\n",
       "      <td>timeout</td>\n",
       "    </tr>\n",
       "    <tr>\n",
       "      <th>3</th>\n",
       "      <td>53a53bc244e08a6a</td>\n",
       "      <td>1297094761</td>\n",
       "      <td>49</td>\n",
       "      <td>Paraguay</td>\n",
       "      <td>Mount_St._Helens</td>\n",
       "      <td>restart</td>\n",
       "    </tr>\n",
       "    <tr>\n",
       "      <th>4</th>\n",
       "      <td>53a53bc244e08a6a</td>\n",
       "      <td>1297099105</td>\n",
       "      <td>1808</td>\n",
       "      <td>Paraguay;Bolivia</td>\n",
       "      <td>Mount_St._Helens</td>\n",
       "      <td>timeout</td>\n",
       "    </tr>\n",
       "  </tbody>\n",
       "</table>\n",
       "</div>"
      ],
      "text/plain": [
       "    hashedIpAddress   timestamp  durationInSec  \\\n",
       "0  2426091a53125110  1297054935           1804   \n",
       "1  26141fd878806294  1297055651           1805   \n",
       "2  2b015fb8181c48f2  1297090819           1818   \n",
       "3  53a53bc244e08a6a  1297094761             49   \n",
       "4  53a53bc244e08a6a  1297099105           1808   \n",
       "\n",
       "                                   path            target     type  \n",
       "0                        Obi-Wan_Kenobi         Microsoft  timeout  \n",
       "1                         Julius_Caesar           Caracas  timeout  \n",
       "2  Malawi;Democracy;Alexander_the_Great     First_Crusade  timeout  \n",
       "3                              Paraguay  Mount_St._Helens  restart  \n",
       "4                      Paraguay;Bolivia  Mount_St._Helens  timeout  "
      ]
     },
     "execution_count": 12,
     "metadata": {},
     "output_type": "execute_result"
    }
   ],
   "source": [
    "print(f\"Number of unfinished paths: {len(paths_unfinished)}\")\n",
    "paths_unfinished.head(5)"
   ]
  },
  {
   "cell_type": "markdown",
   "metadata": {
    "jp-MarkdownHeadingCollapsed": true,
    "tags": []
   },
   "source": [
    "##### **Females**"
   ]
  },
  {
   "cell_type": "code",
   "execution_count": 13,
   "metadata": {},
   "outputs": [
    {
     "name": "stdout",
     "output_type": "stream",
     "text": [
      "Number of articles about women: 58\n"
     ]
    },
    {
     "data": {
      "text/html": [
       "<div>\n",
       "<style scoped>\n",
       "    .dataframe tbody tr th:only-of-type {\n",
       "        vertical-align: middle;\n",
       "    }\n",
       "\n",
       "    .dataframe tbody tr th {\n",
       "        vertical-align: top;\n",
       "    }\n",
       "\n",
       "    .dataframe thead th {\n",
       "        text-align: right;\n",
       "    }\n",
       "</style>\n",
       "<table border=\"1\" class=\"dataframe\">\n",
       "  <thead>\n",
       "    <tr style=\"text-align: right;\">\n",
       "      <th></th>\n",
       "      <th>name</th>\n",
       "      <th>women_label</th>\n",
       "    </tr>\n",
       "  </thead>\n",
       "  <tbody>\n",
       "    <tr>\n",
       "      <th>0</th>\n",
       "      <td>Bette_Davis</td>\n",
       "      <td>subject.People.Actors_models_and_celebrities</td>\n",
       "    </tr>\n",
       "    <tr>\n",
       "      <th>1</th>\n",
       "      <td>Britney_Spears</td>\n",
       "      <td>subject.People.Actors_models_and_celebrities</td>\n",
       "    </tr>\n",
       "    <tr>\n",
       "      <th>2</th>\n",
       "      <td>Diane_Keaton</td>\n",
       "      <td>subject.People.Actors_models_and_celebrities</td>\n",
       "    </tr>\n",
       "    <tr>\n",
       "      <th>3</th>\n",
       "      <td>Emma_Roberts</td>\n",
       "      <td>subject.People.Actors_models_and_celebrities</td>\n",
       "    </tr>\n",
       "    <tr>\n",
       "      <th>4</th>\n",
       "      <td>Evan_Rachel_Wood</td>\n",
       "      <td>subject.People.Actors_models_and_celebrities</td>\n",
       "    </tr>\n",
       "  </tbody>\n",
       "</table>\n",
       "</div>"
      ],
      "text/plain": [
       "               name                                    women_label\n",
       "0       Bette_Davis   subject.People.Actors_models_and_celebrities\n",
       "1    Britney_Spears   subject.People.Actors_models_and_celebrities\n",
       "2      Diane_Keaton   subject.People.Actors_models_and_celebrities\n",
       "3      Emma_Roberts   subject.People.Actors_models_and_celebrities\n",
       "4  Evan_Rachel_Wood   subject.People.Actors_models_and_celebrities"
      ]
     },
     "execution_count": 13,
     "metadata": {},
     "output_type": "execute_result"
    }
   ],
   "source": [
    "print(f\"Number of articles about women: {len(female)}\")\n",
    "female.head()"
   ]
  },
  {
   "cell_type": "markdown",
   "metadata": {},
   "source": [
    "### **Pre-proccessing and visualizations**"
   ]
  },
  {
   "cell_type": "markdown",
   "metadata": {},
   "source": [
    "Building the dataframe we are going to use:"
   ]
  },
  {
   "cell_type": "code",
   "execution_count": 14,
   "metadata": {},
   "outputs": [],
   "source": [
    "# finding the articles that are within the People category\n",
    "categories[\"category_people\"] = categories[\"category\"].apply(lambda x: x.startswith('subject.People.'))\n",
    "\n",
    "# constructing a new dataframe called people, only with articles from the people category\n",
    "people = categories[categories[\"category_people\"] == True]\n",
    "\n",
    "# splitting the categories into main- and subcategories\n",
    "people = pd.concat([people, people['category'].str.split(\".\", expand=True)], axis=1)\n",
    "people = people.drop(columns=[\"category_people\", \"category\", 0, 1])\n",
    "people = people.rename(columns={\"article\": \"name\", 2:\"category\",})\n",
    "\n",
    "# drop duplicates \n",
    "people = people.drop_duplicates(subset=['name'])     "
   ]
  },
  {
   "cell_type": "code",
   "execution_count": 15,
   "metadata": {},
   "outputs": [
    {
     "name": "stdout",
     "output_type": "stream",
     "text": [
      "The number of articles about people are 676\n"
     ]
    },
    {
     "data": {
      "image/png": "[encoded data removed]",
      "text/plain": [
       "<Figure size 432x288 with 1 Axes>"
      ]
     },
     "metadata": {
      "needs_background": "light"
     },
     "output_type": "display_data"
    }
   ],
   "source": [
    "print(f\"The number of articles about people are {len(people)}\")\n",
    "\n",
    "# plotting the distribution of subcategories within the People category\n",
    "subcategories_dist = people[\"category\"].value_counts()\n",
    "subcategories_dist.plot.bar(title = \"Distribution of subcategories for the People category\",\n",
    "                            ylabel = 'Number of articles about people', \n",
    "                            color = \"tab:red\", width = 0.7)\n",
    "plt.show()"
   ]
  },
  {
   "cell_type": "code",
   "execution_count": 16,
   "metadata": {},
   "outputs": [],
   "source": [
    "# identify women and men in the dataframe\n",
    "people[\"gender\"] =  people['name'].isin(female[\"name\"])\n",
    "people[\"gender\"] = people[\"gender\"].apply(lambda x: \"female\" if x else \"male\")\n",
    "\n",
    "# counting in- and out-links\n",
    "count_links_src = links.link_source.value_counts()\n",
    "count_links_target = links.link_target.value_counts()\n",
    "\n",
    "# drop all people that have no in_link - impossible to reach the article\n",
    "people = people.merge(count_links_src, how = \"left\", left_on = \"name\", right_index = True)\n",
    "people = people.merge(count_links_target, how = \"inner\", left_on = \"name\", right_index=True)\n",
    "people = people.rename(columns = {\"link_source\": \"nr_link_out\", \"link_target\": \"nr_link_in\"})"
   ]
  },
  {
   "cell_type": "code",
   "execution_count": 17,
   "metadata": {},
   "outputs": [
    {
     "data": {
      "text/html": [
       "<div>\n",
       "<style scoped>\n",
       "    .dataframe tbody tr th:only-of-type {\n",
       "        vertical-align: middle;\n",
       "    }\n",
       "\n",
       "    .dataframe tbody tr th {\n",
       "        vertical-align: top;\n",
       "    }\n",
       "\n",
       "    .dataframe thead th {\n",
       "        text-align: right;\n",
       "    }\n",
       "</style>\n",
       "<table border=\"1\" class=\"dataframe\">\n",
       "  <thead>\n",
       "    <tr style=\"text-align: right;\">\n",
       "      <th></th>\n",
       "      <th>name</th>\n",
       "      <th>category</th>\n",
       "      <th>gender</th>\n",
       "      <th>nr_link_out</th>\n",
       "      <th>nr_link_in</th>\n",
       "    </tr>\n",
       "  </thead>\n",
       "  <tbody>\n",
       "    <tr>\n",
       "      <th>95</th>\n",
       "      <td>Abel_Tasman</td>\n",
       "      <td>Geographers_and_explorers</td>\n",
       "      <td>male</td>\n",
       "      <td>14</td>\n",
       "      <td>5</td>\n",
       "    </tr>\n",
       "    <tr>\n",
       "      <th>105</th>\n",
       "      <td>Abraham_Lincoln</td>\n",
       "      <td>USA_Presidents</td>\n",
       "      <td>male</td>\n",
       "      <td>35</td>\n",
       "      <td>62</td>\n",
       "    </tr>\n",
       "    <tr>\n",
       "      <th>129</th>\n",
       "      <td>Adam_Smith</td>\n",
       "      <td>Historical_figures</td>\n",
       "      <td>male</td>\n",
       "      <td>27</td>\n",
       "      <td>38</td>\n",
       "    </tr>\n",
       "    <tr>\n",
       "      <th>134</th>\n",
       "      <td>Adolf_Hitler</td>\n",
       "      <td>Political_People</td>\n",
       "      <td>male</td>\n",
       "      <td>78</td>\n",
       "      <td>109</td>\n",
       "    </tr>\n",
       "    <tr>\n",
       "      <th>159</th>\n",
       "      <td>Agamemnon</td>\n",
       "      <td>Historical_figures</td>\n",
       "      <td>male</td>\n",
       "      <td>11</td>\n",
       "      <td>9</td>\n",
       "    </tr>\n",
       "  </tbody>\n",
       "</table>\n",
       "</div>"
      ],
      "text/plain": [
       "                name                   category gender  nr_link_out  \\\n",
       "95       Abel_Tasman  Geographers_and_explorers   male           14   \n",
       "105  Abraham_Lincoln             USA_Presidents   male           35   \n",
       "129       Adam_Smith         Historical_figures   male           27   \n",
       "134     Adolf_Hitler           Political_People   male           78   \n",
       "159        Agamemnon         Historical_figures   male           11   \n",
       "\n",
       "     nr_link_in  \n",
       "95            5  \n",
       "105          62  \n",
       "129          38  \n",
       "134         109  \n",
       "159           9  "
      ]
     },
     "execution_count": 17,
     "metadata": {},
     "output_type": "execute_result"
    }
   ],
   "source": [
    "people.head()"
   ]
  },
  {
   "cell_type": "code",
   "execution_count": 18,
   "metadata": {},
   "outputs": [],
   "source": [
    "def process_path(path):\n",
    "    '''\n",
    "    Decompose a path and find its length. \n",
    "    Assumption: When back-clicks are encountered, we increase the path length by 1\n",
    "    :param path: a full-length path\n",
    "    :return: source, target, length\n",
    "    '''\n",
    "    p = path.split(\";\")\n",
    "    source = p[0]\n",
    "    target = p[-1]\n",
    "    length = len(p)\n",
    "    return source, target, length"
   ]
  },
  {
   "cell_type": "code",
   "execution_count": 19,
   "metadata": {},
   "outputs": [],
   "source": [
    "# expand the finished paths \n",
    "path_fin = paths_finished.copy()\n",
    "path_fin[\"source\"], path_fin[\"target\"], path_fin[\"human_length\"] =  zip(*paths_finished['path'].apply(lambda x: process_path(x)))\n",
    "path_fin[\"finished\"] = True\n",
    "path_fin\n",
    "\n",
    "# expand the unfinished paths\n",
    "path_ufin = paths_unfinished.copy()\n",
    "path_ufin[\"source\"], path_ufin[\"failure_article\"], path_ufin[\"human_length\"] =  zip(*paths_unfinished['path'].apply(lambda x: process_path(x)))\n",
    "path_ufin[\"finished\"] = False\n",
    "path_ufin['target'] = paths_unfinished[\"target\"]\n",
    "\n",
    "path_overview = pd.concat([path_fin, path_ufin])\n",
    "path_overview = path_overview[[\"source\", \"target\", \"finished\", \"human_length\", \"finished\", \"durationInSec\", \"type\", \"failure_article\"]]"
   ]
  },
  {
   "cell_type": "code",
   "execution_count": 20,
   "metadata": {},
   "outputs": [
    {
     "data": {
      "text/html": [
       "<div>\n",
       "<style scoped>\n",
       "    .dataframe tbody tr th:only-of-type {\n",
       "        vertical-align: middle;\n",
       "    }\n",
       "\n",
       "    .dataframe tbody tr th {\n",
       "        vertical-align: top;\n",
       "    }\n",
       "\n",
       "    .dataframe thead th {\n",
       "        text-align: right;\n",
       "    }\n",
       "</style>\n",
       "<table border=\"1\" class=\"dataframe\">\n",
       "  <thead>\n",
       "    <tr style=\"text-align: right;\">\n",
       "      <th></th>\n",
       "      <th>source</th>\n",
       "      <th>target</th>\n",
       "      <th>finished</th>\n",
       "      <th>human_length</th>\n",
       "      <th>finished</th>\n",
       "      <th>durationInSec</th>\n",
       "      <th>type</th>\n",
       "      <th>failure_article</th>\n",
       "    </tr>\n",
       "  </thead>\n",
       "  <tbody>\n",
       "    <tr>\n",
       "      <th>0</th>\n",
       "      <td>14th_century</td>\n",
       "      <td>African_slave_trade</td>\n",
       "      <td>True</td>\n",
       "      <td>9</td>\n",
       "      <td>True</td>\n",
       "      <td>166</td>\n",
       "      <td>NaN</td>\n",
       "      <td>NaN</td>\n",
       "    </tr>\n",
       "    <tr>\n",
       "      <th>1</th>\n",
       "      <td>14th_century</td>\n",
       "      <td>African_slave_trade</td>\n",
       "      <td>True</td>\n",
       "      <td>5</td>\n",
       "      <td>True</td>\n",
       "      <td>88</td>\n",
       "      <td>NaN</td>\n",
       "      <td>NaN</td>\n",
       "    </tr>\n",
       "    <tr>\n",
       "      <th>2</th>\n",
       "      <td>14th_century</td>\n",
       "      <td>African_slave_trade</td>\n",
       "      <td>True</td>\n",
       "      <td>8</td>\n",
       "      <td>True</td>\n",
       "      <td>138</td>\n",
       "      <td>NaN</td>\n",
       "      <td>NaN</td>\n",
       "    </tr>\n",
       "    <tr>\n",
       "      <th>3</th>\n",
       "      <td>14th_century</td>\n",
       "      <td>Greece</td>\n",
       "      <td>True</td>\n",
       "      <td>4</td>\n",
       "      <td>True</td>\n",
       "      <td>37</td>\n",
       "      <td>NaN</td>\n",
       "      <td>NaN</td>\n",
       "    </tr>\n",
       "    <tr>\n",
       "      <th>4</th>\n",
       "      <td>14th_century</td>\n",
       "      <td>John_F._Kennedy</td>\n",
       "      <td>True</td>\n",
       "      <td>7</td>\n",
       "      <td>True</td>\n",
       "      <td>175</td>\n",
       "      <td>NaN</td>\n",
       "      <td>NaN</td>\n",
       "    </tr>\n",
       "    <tr>\n",
       "      <th>...</th>\n",
       "      <td>...</td>\n",
       "      <td>...</td>\n",
       "      <td>...</td>\n",
       "      <td>...</td>\n",
       "      <td>...</td>\n",
       "      <td>...</td>\n",
       "      <td>...</td>\n",
       "      <td>...</td>\n",
       "    </tr>\n",
       "    <tr>\n",
       "      <th>24870</th>\n",
       "      <td>Franz_Kafka</td>\n",
       "      <td>Cholera</td>\n",
       "      <td>False</td>\n",
       "      <td>8</td>\n",
       "      <td>False</td>\n",
       "      <td>180</td>\n",
       "      <td>restart</td>\n",
       "      <td>Ghana</td>\n",
       "    </tr>\n",
       "    <tr>\n",
       "      <th>24871</th>\n",
       "      <td>Modern_history</td>\n",
       "      <td>Hollandic</td>\n",
       "      <td>False</td>\n",
       "      <td>1</td>\n",
       "      <td>False</td>\n",
       "      <td>6</td>\n",
       "      <td>restart</td>\n",
       "      <td>Modern_history</td>\n",
       "    </tr>\n",
       "    <tr>\n",
       "      <th>24872</th>\n",
       "      <td>Computer_programming</td>\n",
       "      <td>The_Beatles</td>\n",
       "      <td>False</td>\n",
       "      <td>5</td>\n",
       "      <td>False</td>\n",
       "      <td>1900</td>\n",
       "      <td>timeout</td>\n",
       "      <td>&lt;</td>\n",
       "    </tr>\n",
       "    <tr>\n",
       "      <th>24873</th>\n",
       "      <td>Jamaica</td>\n",
       "      <td>Alan_Turing</td>\n",
       "      <td>False</td>\n",
       "      <td>4</td>\n",
       "      <td>False</td>\n",
       "      <td>1903</td>\n",
       "      <td>timeout</td>\n",
       "      <td>Battle_of_Midway</td>\n",
       "    </tr>\n",
       "    <tr>\n",
       "      <th>24874</th>\n",
       "      <td>Mark_Antony</td>\n",
       "      <td>Feather</td>\n",
       "      <td>False</td>\n",
       "      <td>5</td>\n",
       "      <td>False</td>\n",
       "      <td>352</td>\n",
       "      <td>restart</td>\n",
       "      <td>Computer</td>\n",
       "    </tr>\n",
       "  </tbody>\n",
       "</table>\n",
       "<p>76193 rows × 8 columns</p>\n",
       "</div>"
      ],
      "text/plain": [
       "                     source               target  finished  human_length  \\\n",
       "0              14th_century  African_slave_trade      True             9   \n",
       "1              14th_century  African_slave_trade      True             5   \n",
       "2              14th_century  African_slave_trade      True             8   \n",
       "3              14th_century               Greece      True             4   \n",
       "4              14th_century      John_F._Kennedy      True             7   \n",
       "...                     ...                  ...       ...           ...   \n",
       "24870           Franz_Kafka              Cholera     False             8   \n",
       "24871        Modern_history            Hollandic     False             1   \n",
       "24872  Computer_programming          The_Beatles     False             5   \n",
       "24873               Jamaica          Alan_Turing     False             4   \n",
       "24874           Mark_Antony              Feather     False             5   \n",
       "\n",
       "       finished  durationInSec     type   failure_article  \n",
       "0          True            166      NaN               NaN  \n",
       "1          True             88      NaN               NaN  \n",
       "2          True            138      NaN               NaN  \n",
       "3          True             37      NaN               NaN  \n",
       "4          True            175      NaN               NaN  \n",
       "...         ...            ...      ...               ...  \n",
       "24870     False            180  restart             Ghana  \n",
       "24871     False              6  restart    Modern_history  \n",
       "24872     False           1900  timeout                 <  \n",
       "24873     False           1903  timeout  Battle_of_Midway  \n",
       "24874     False            352  restart          Computer  \n",
       "\n",
       "[76193 rows x 8 columns]"
      ]
     },
     "execution_count": 20,
     "metadata": {},
     "output_type": "execute_result"
    }
   ],
   "source": [
    "path_overview"
   ]
  },
  {
   "cell_type": "code",
   "execution_count": 31,
   "metadata": {},
   "outputs": [],
   "source": [
    "# The Shortest Distance Matrix is created from the imported data\n",
    "shortest_distance_matrix = [] # TODO: Might want to have them as numpy arrays from the beginning\n",
    "for row in shortest_distance_text:\n",
    "    row_formated = [] \n",
    "    for c in row:\n",
    "        if c.isdigit(): #TODO: Might want to do with safe casting instead\n",
    "            row_formated.append(int(c))\n",
    "        else:\n",
    "            row_formated.append(-1) ## If there is no path between two articles it's represented with -1\n",
    "        \n",
    "    shortest_distance_matrix.append(np.array(row_formated))\n",
    "\n",
    "shortest_distance_matrix = np.array(shortest_distance_matrix)\n",
    "\n",
    "#How to access multiple values in the matrix at once shortest_distance_matrix[(row1,row2,row3),(col1,col2,col3)]"
   ]
  },
  {
   "cell_type": "code",
   "execution_count": 32,
   "metadata": {},
   "outputs": [],
   "source": [
    "# Paths with target articles that doesn't exist are deleted. \n",
    "condition = ~(path_overview['target'].isin(articles['article'].array))\n",
    "path_overview = path_overview.drop(path_overview[condition].index)"
   ]
  },
  {
   "cell_type": "code",
   "execution_count": 33,
   "metadata": {},
   "outputs": [],
   "source": [
    "# Shortest path is added to the dataframe\n",
    "\n",
    "def get_articles_indexes(article_names):\n",
    "    indexes = []\n",
    "    for article in article_names.array:\n",
    "        indexes.append(articles.index[articles['article'] == article].tolist()[0])\n",
    "    return tuple(indexes)\n",
    "\n",
    "path_overview['shortest_path'] = shortest_distance_matrix[get_articles_indexes(path_overview['source']), get_articles_indexes(path_overview['target'])]\n"
   ]
  },
  {
   "cell_type": "code",
   "execution_count": 34,
   "metadata": {},
   "outputs": [
    {
     "data": {
      "text/html": [
       "<div>\n",
       "<style scoped>\n",
       "    .dataframe tbody tr th:only-of-type {\n",
       "        vertical-align: middle;\n",
       "    }\n",
       "\n",
       "    .dataframe tbody tr th {\n",
       "        vertical-align: top;\n",
       "    }\n",
       "\n",
       "    .dataframe thead th {\n",
       "        text-align: right;\n",
       "    }\n",
       "</style>\n",
       "<table border=\"1\" class=\"dataframe\">\n",
       "  <thead>\n",
       "    <tr style=\"text-align: right;\">\n",
       "      <th></th>\n",
       "      <th>source</th>\n",
       "      <th>target</th>\n",
       "      <th>finished</th>\n",
       "      <th>human_length</th>\n",
       "      <th>finished</th>\n",
       "      <th>durationInSec</th>\n",
       "      <th>type</th>\n",
       "      <th>failure_article</th>\n",
       "      <th>shortest_path</th>\n",
       "    </tr>\n",
       "  </thead>\n",
       "  <tbody>\n",
       "    <tr>\n",
       "      <th>0</th>\n",
       "      <td>14th_century</td>\n",
       "      <td>African_slave_trade</td>\n",
       "      <td>True</td>\n",
       "      <td>9</td>\n",
       "      <td>True</td>\n",
       "      <td>166</td>\n",
       "      <td>NaN</td>\n",
       "      <td>NaN</td>\n",
       "      <td>3</td>\n",
       "    </tr>\n",
       "    <tr>\n",
       "      <th>1</th>\n",
       "      <td>14th_century</td>\n",
       "      <td>African_slave_trade</td>\n",
       "      <td>True</td>\n",
       "      <td>5</td>\n",
       "      <td>True</td>\n",
       "      <td>88</td>\n",
       "      <td>NaN</td>\n",
       "      <td>NaN</td>\n",
       "      <td>3</td>\n",
       "    </tr>\n",
       "    <tr>\n",
       "      <th>2</th>\n",
       "      <td>14th_century</td>\n",
       "      <td>African_slave_trade</td>\n",
       "      <td>True</td>\n",
       "      <td>8</td>\n",
       "      <td>True</td>\n",
       "      <td>138</td>\n",
       "      <td>NaN</td>\n",
       "      <td>NaN</td>\n",
       "      <td>3</td>\n",
       "    </tr>\n",
       "    <tr>\n",
       "      <th>3</th>\n",
       "      <td>14th_century</td>\n",
       "      <td>Greece</td>\n",
       "      <td>True</td>\n",
       "      <td>4</td>\n",
       "      <td>True</td>\n",
       "      <td>37</td>\n",
       "      <td>NaN</td>\n",
       "      <td>NaN</td>\n",
       "      <td>2</td>\n",
       "    </tr>\n",
       "    <tr>\n",
       "      <th>4</th>\n",
       "      <td>14th_century</td>\n",
       "      <td>John_F._Kennedy</td>\n",
       "      <td>True</td>\n",
       "      <td>7</td>\n",
       "      <td>True</td>\n",
       "      <td>175</td>\n",
       "      <td>NaN</td>\n",
       "      <td>NaN</td>\n",
       "      <td>3</td>\n",
       "    </tr>\n",
       "    <tr>\n",
       "      <th>...</th>\n",
       "      <td>...</td>\n",
       "      <td>...</td>\n",
       "      <td>...</td>\n",
       "      <td>...</td>\n",
       "      <td>...</td>\n",
       "      <td>...</td>\n",
       "      <td>...</td>\n",
       "      <td>...</td>\n",
       "      <td>...</td>\n",
       "    </tr>\n",
       "    <tr>\n",
       "      <th>24870</th>\n",
       "      <td>Franz_Kafka</td>\n",
       "      <td>Cholera</td>\n",
       "      <td>False</td>\n",
       "      <td>8</td>\n",
       "      <td>False</td>\n",
       "      <td>180</td>\n",
       "      <td>restart</td>\n",
       "      <td>Ghana</td>\n",
       "      <td>3</td>\n",
       "    </tr>\n",
       "    <tr>\n",
       "      <th>24871</th>\n",
       "      <td>Modern_history</td>\n",
       "      <td>Hollandic</td>\n",
       "      <td>False</td>\n",
       "      <td>1</td>\n",
       "      <td>False</td>\n",
       "      <td>6</td>\n",
       "      <td>restart</td>\n",
       "      <td>Modern_history</td>\n",
       "      <td>3</td>\n",
       "    </tr>\n",
       "    <tr>\n",
       "      <th>24872</th>\n",
       "      <td>Computer_programming</td>\n",
       "      <td>The_Beatles</td>\n",
       "      <td>False</td>\n",
       "      <td>5</td>\n",
       "      <td>False</td>\n",
       "      <td>1900</td>\n",
       "      <td>timeout</td>\n",
       "      <td>&lt;</td>\n",
       "      <td>3</td>\n",
       "    </tr>\n",
       "    <tr>\n",
       "      <th>24873</th>\n",
       "      <td>Jamaica</td>\n",
       "      <td>Alan_Turing</td>\n",
       "      <td>False</td>\n",
       "      <td>4</td>\n",
       "      <td>False</td>\n",
       "      <td>1903</td>\n",
       "      <td>timeout</td>\n",
       "      <td>Battle_of_Midway</td>\n",
       "      <td>3</td>\n",
       "    </tr>\n",
       "    <tr>\n",
       "      <th>24874</th>\n",
       "      <td>Mark_Antony</td>\n",
       "      <td>Feather</td>\n",
       "      <td>False</td>\n",
       "      <td>5</td>\n",
       "      <td>False</td>\n",
       "      <td>352</td>\n",
       "      <td>restart</td>\n",
       "      <td>Computer</td>\n",
       "      <td>3</td>\n",
       "    </tr>\n",
       "  </tbody>\n",
       "</table>\n",
       "<p>76117 rows × 9 columns</p>\n",
       "</div>"
      ],
      "text/plain": [
       "                     source               target  finished  human_length  \\\n",
       "0              14th_century  African_slave_trade      True             9   \n",
       "1              14th_century  African_slave_trade      True             5   \n",
       "2              14th_century  African_slave_trade      True             8   \n",
       "3              14th_century               Greece      True             4   \n",
       "4              14th_century      John_F._Kennedy      True             7   \n",
       "...                     ...                  ...       ...           ...   \n",
       "24870           Franz_Kafka              Cholera     False             8   \n",
       "24871        Modern_history            Hollandic     False             1   \n",
       "24872  Computer_programming          The_Beatles     False             5   \n",
       "24873               Jamaica          Alan_Turing     False             4   \n",
       "24874           Mark_Antony              Feather     False             5   \n",
       "\n",
       "       finished  durationInSec     type   failure_article  shortest_path  \n",
       "0          True            166      NaN               NaN              3  \n",
       "1          True             88      NaN               NaN              3  \n",
       "2          True            138      NaN               NaN              3  \n",
       "3          True             37      NaN               NaN              2  \n",
       "4          True            175      NaN               NaN              3  \n",
       "...         ...            ...      ...               ...            ...  \n",
       "24870     False            180  restart             Ghana              3  \n",
       "24871     False              6  restart    Modern_history              3  \n",
       "24872     False           1900  timeout                 <              3  \n",
       "24873     False           1903  timeout  Battle_of_Midway              3  \n",
       "24874     False            352  restart          Computer              3  \n",
       "\n",
       "[76117 rows x 9 columns]"
      ]
     },
     "execution_count": 34,
     "metadata": {},
     "output_type": "execute_result"
    }
   ],
   "source": [
    "# Infeasible source -> target paths are removed, where the shortest path is -1\n",
    "path_overview = path_overview.drop(path_overview[path_overview['shortest_path'] < 0].index) \n",
    "path_overview "
   ]
  },
  {
   "cell_type": "markdown",
   "metadata": {},
   "source": [
    "### **Initial visulizations**"
   ]
  },
  {
   "cell_type": "markdown",
   "metadata": {},
   "source": [
    "We begin with constructing a new dataframe `people` that contains all articles in the category of People (refers to \"subject.People\") and their corresponding subcategory."
   ]
  },
  {
   "cell_type": "markdown",
   "metadata": {},
   "source": [
    "We will now create two new dataframes, called `finpaths_women_target` and `finpaths_men_target`, that contain respectively all finished paths that have a women and men as a target article. We begin with constructing a pandas series `womenName` of all articles about women using the handmade `female` dataframe. Using the newly constructed `people` dataframe, we can construct a series of articles about men by filtering out every article about women from `people`. If the target article in a finished path is in any of the two women and men lists, we can construct the desired dataframe."
   ]
  },
  {
   "cell_type": "code",
   "execution_count": 67,
   "metadata": {},
   "outputs": [],
   "source": [
    "womenName = female['women']                                      # A series of all articles about women\n",
    "menName = people[~people['article'].isin(womenName)]['article']  # A series of all articles about men\n",
    "\n",
    "# Add the columns source and target to paths_finished\n",
    "paths_finished['source'] = paths_finished['path'].str.split(';').str[0]\n",
    "paths_finished['target'] = paths_finished['path'].str.split(';').str[-1]\n",
    "\n",
    "# if target is in womenName, add row to dataframe\n",
    "finpaths_women_target = paths_finished[paths_finished['target'].isin(womenName)]\n",
    "\n",
    "# if target is in menName, add row to dataframe\n",
    "finpaths_men_target = paths_finished[paths_finished['target'].isin(menName)]"
   ]
  },
  {
   "cell_type": "markdown",
   "metadata": {},
   "source": [
    "##### Finished paths with women and men target articles"
   ]
  },
  {
   "cell_type": "code",
   "execution_count": 68,
   "metadata": {},
   "outputs": [
    {
     "name": "stdout",
     "output_type": "stream",
     "text": [
      "Number of articles that have women as a target is 347\n",
      "Number of articles that have men as a target is 5566\n"
     ]
    }
   ],
   "source": [
    "print(f\"Number of articles that have women as a target is {len(finpaths_women_target)}\")\n",
    "print(f\"Number of articles that have men as a target is {len(finpaths_men_target)}\")"
   ]
  },
  {
   "cell_type": "markdown",
   "metadata": {},
   "source": [
    "##### Unfinished paths with women and men target articles"
   ]
  },
  {
   "cell_type": "code",
   "execution_count": 69,
   "metadata": {},
   "outputs": [],
   "source": [
    "# Add the column source to paths_unfinished\n",
    "paths_unfinished['source'] = paths_unfinished['path'].str.split(';').str[0]\n",
    "\n",
    "# if target is in womenName, add row to dataframe\n",
    "unfinpaths_women_target = paths_unfinished[paths_unfinished['target'].isin(womenName)]\n",
    "\n",
    "# if target is in menName, add row to dataframe\n",
    "unfinpaths_men_target = paths_unfinished[paths_unfinished['target'].isin(menName)]"
   ]
  },
  {
   "cell_type": "code",
   "execution_count": 70,
   "metadata": {},
   "outputs": [
    {
     "name": "stdout",
     "output_type": "stream",
     "text": [
      "Number of unfinished paths that have women as a target 342\n",
      "Number of unfinished paths that have men as a target 2374\n"
     ]
    }
   ],
   "source": [
    "print(f\"Number of unfinished paths that have women as a target {len(unfinpaths_women_target)}\")\n",
    "print(f\"Number of unfinished paths that have men as a target {len(unfinpaths_men_target)}\")"
   ]
  },
  {
   "cell_type": "code",
   "execution_count": 71,
   "metadata": {},
   "outputs": [
    {
     "data": {
      "image/png": "[encoded data removed]",
      "text/plain": [
       "<Figure size 640x480 with 1 Axes>"
      ]
     },
     "metadata": {},
     "output_type": "display_data"
    }
   ],
   "source": [
    "women = [len(finpaths_women_target), len(unfinpaths_women_target)]\n",
    "men = [len(finpaths_men_target), len(unfinpaths_men_target)]\n",
    "index = ['Finished paths', 'Unfinished paths']\n",
    "compare_mv = pd.DataFrame({'women': women,'men': men}, index=index)\n",
    "ax = compare_mv.plot.bar(rot=0, color = ['hotpink','deepskyblue'], \n",
    "                         title = \"Number of paths that contain men vs. women as a target article\",\n",
    "                         ylabel = 'Number of paths', width = 0.8)"
   ]
  },
  {
   "cell_type": "code",
   "execution_count": 72,
   "metadata": {},
   "outputs": [
    {
     "data": {
      "text/html": [
       "<div>\n",
       "<style scoped>\n",
       "    .dataframe tbody tr th:only-of-type {\n",
       "        vertical-align: middle;\n",
       "    }\n",
       "\n",
       "    .dataframe tbody tr th {\n",
       "        vertical-align: top;\n",
       "    }\n",
       "\n",
       "    .dataframe thead th {\n",
       "        text-align: right;\n",
       "    }\n",
       "</style>\n",
       "<table border=\"1\" class=\"dataframe\">\n",
       "  <thead>\n",
       "    <tr style=\"text-align: right;\">\n",
       "      <th></th>\n",
       "      <th>Name</th>\n",
       "      <th>Subject</th>\n",
       "      <th>SubCat1</th>\n",
       "      <th>SubCat2</th>\n",
       "    </tr>\n",
       "  </thead>\n",
       "  <tbody>\n",
       "    <tr>\n",
       "      <th>0</th>\n",
       "      <td>%C3%81ed%C3%A1n_mac_Gabr%C3%A1in</td>\n",
       "      <td>History</td>\n",
       "      <td>British_History</td>\n",
       "      <td>British_History_1500_and_before_including_Roma...</td>\n",
       "    </tr>\n",
       "    <tr>\n",
       "      <th>1</th>\n",
       "      <td>%C3%81ed%C3%A1n_mac_Gabr%C3%A1in</td>\n",
       "      <td>People</td>\n",
       "      <td>Historical_figures</td>\n",
       "      <td>None</td>\n",
       "    </tr>\n",
       "    <tr>\n",
       "      <th>2</th>\n",
       "      <td>%C3%85land</td>\n",
       "      <td>Countries</td>\n",
       "      <td>None</td>\n",
       "      <td>None</td>\n",
       "    </tr>\n",
       "    <tr>\n",
       "      <th>3</th>\n",
       "      <td>%C3%85land</td>\n",
       "      <td>Geography</td>\n",
       "      <td>European_Geography</td>\n",
       "      <td>European_Countries</td>\n",
       "    </tr>\n",
       "    <tr>\n",
       "      <th>4</th>\n",
       "      <td>%C3%89douard_Manet</td>\n",
       "      <td>People</td>\n",
       "      <td>Artists</td>\n",
       "      <td>None</td>\n",
       "    </tr>\n",
       "  </tbody>\n",
       "</table>\n",
       "</div>"
      ],
      "text/plain": [
       "                               Name    Subject             SubCat1  \\\n",
       "0  %C3%81ed%C3%A1n_mac_Gabr%C3%A1in    History     British_History   \n",
       "1  %C3%81ed%C3%A1n_mac_Gabr%C3%A1in     People  Historical_figures   \n",
       "2                        %C3%85land  Countries                None   \n",
       "3                        %C3%85land  Geography  European_Geography   \n",
       "4                %C3%89douard_Manet     People             Artists   \n",
       "\n",
       "                                             SubCat2  \n",
       "0  British_History_1500_and_before_including_Roma...  \n",
       "1                                               None  \n",
       "2                                               None  \n",
       "3                                 European_Countries  \n",
       "4                                               None  "
      ]
     },
     "execution_count": 72,
     "metadata": {},
     "output_type": "execute_result"
    }
   ],
   "source": [
    "split = categories['category'].str.split(\".\", expand=True)\n",
    "categories = pd.concat([categories[\"article\"], split], axis=1)\n",
    "\n",
    "# Check if all values in 0 are subject, then discard column \n",
    "if (categories[0] == categories[0][0]).all():\n",
    "    categories = categories.drop(columns=0)\n",
    "\n",
    "categories.columns = [\"Name\", \"Subject\", \"SubCat1\", \"SubCat2\"]\n",
    "categories.head(5)"
   ]
  },
  {
   "cell_type": "code",
   "execution_count": 73,
   "metadata": {},
   "outputs": [
    {
     "data": {
      "image/png": "[encoded data removed]",
      "text/plain": [
       "<Figure size 640x480 with 1 Axes>"
      ]
     },
     "metadata": {},
     "output_type": "display_data"
    }
   ],
   "source": [
    "topic_dist = categories['Subject'].value_counts()\n",
    "topic_dist.plot.bar(title = \"Distribution of categories\", \n",
    "                    color=['tab:blue', 'tab:blue', 'tab:red', 'tab:blue', 'tab:blue',\n",
    "                           'tab:blue', 'tab:blue', 'tab:blue', 'tab:blue', 'tab:blue',\n",
    "                          'tab:blue', 'tab:blue', 'tab:blue', 'tab:blue', 'tab:blue'],\n",
    "                    ylabel = 'Number of articles', width = 0.7)\n",
    "plt.show()"
   ]
  },
  {
   "cell_type": "code",
   "execution_count": 75,
   "metadata": {},
   "outputs": [],
   "source": [
    "womenPeople = people[people['article'].isin(womenName)]\n",
    "menPeople = people[people['article'].isin(menName)]"
   ]
  },
  {
   "cell_type": "code",
   "execution_count": 102,
   "metadata": {},
   "outputs": [
    {
     "data": {
      "image/png": "[encoded data removed]",
      "text/plain": [
       "<Figure size 640x480 with 1 Axes>"
      ]
     },
     "metadata": {},
     "output_type": "display_data"
    }
   ],
   "source": [
    "women = womenPeople[\"category\"].str.slice_replace(0, 15, '').value_counts().sort_values(ascending=False)\n",
    "men = menPeople[\"category\"].str.slice_replace(0, 15, '').value_counts().sort_values(ascending=False)\n",
    "index = men.keys()\n",
    "\n",
    "df = pd.DataFrame({'women': women,'men': men}, index=index).sort_values(by = [\"women\"], ascending = False)\n",
    "ax = df.plot.bar(stacked = True, color = ['hotpink', 'deepskyblue'], \n",
    "                 title = \"Distribution of subcategories for women and men\",\n",
    "                         ylabel = 'Number of articles', width = 0.7)\n",
    "\n",
    "plt.show()"
   ]
  },
  {
   "cell_type": "markdown",
   "metadata": {},
   "source": [
    "#### MERGE "
   ]
  },
  {
   "cell_type": "markdown",
   "metadata": {},
   "source": [
    "By merging `finpaths_women_target` and `finpaths_men_target` on the source article, we can construct a dataframe `comb` that contains rows of all pairs of two target articles (one about a woman, the other about a man) with the same source article."
   ]
  },
  {
   "cell_type": "markdown",
   "metadata": {},
   "source": [
    "Example: If five different paths exist from the source article *14th_century* towards the target article *Elizabeth_I_of_England*, and two different paths exist from the same source article towards the target article *John_F._Kennedy*, we would get $5 \\times 2 = 10$ number of pairs to compare."
   ]
  },
  {
   "cell_type": "code",
   "execution_count": 154,
   "metadata": {},
   "outputs": [],
   "source": [
    "comb_finpaths = finpaths_women_target[[\"source\", \"path\", \"target\"]].merge(finpaths_men_target[[\"source\", \"path\", \"target\"]], \n",
    "                                                        on=['source'], how = \"inner\",\n",
    "                                                        suffixes=('_women', '_men'))"
   ]
  },
  {
   "cell_type": "code",
   "execution_count": 155,
   "metadata": {},
   "outputs": [
    {
     "data": {
      "text/html": [
       "<div>\n",
       "<style scoped>\n",
       "    .dataframe tbody tr th:only-of-type {\n",
       "        vertical-align: middle;\n",
       "    }\n",
       "\n",
       "    .dataframe tbody tr th {\n",
       "        vertical-align: top;\n",
       "    }\n",
       "\n",
       "    .dataframe thead th {\n",
       "        text-align: right;\n",
       "    }\n",
       "</style>\n",
       "<table border=\"1\" class=\"dataframe\">\n",
       "  <thead>\n",
       "    <tr style=\"text-align: right;\">\n",
       "      <th></th>\n",
       "      <th>source</th>\n",
       "      <th>path_women</th>\n",
       "      <th>target_women</th>\n",
       "      <th>path_men</th>\n",
       "      <th>target_men</th>\n",
       "    </tr>\n",
       "  </thead>\n",
       "  <tbody>\n",
       "    <tr>\n",
       "      <th>0</th>\n",
       "      <td>14th_century</td>\n",
       "      <td>14th_century;England;London;Spanish_Armada;Eng...</td>\n",
       "      <td>Elizabeth_I_of_England</td>\n",
       "      <td>14th_century;Italy;Roman_Catholic_Church;HIV;R...</td>\n",
       "      <td>John_F._Kennedy</td>\n",
       "    </tr>\n",
       "    <tr>\n",
       "      <th>1</th>\n",
       "      <td>14th_century</td>\n",
       "      <td>14th_century;England;London;Spanish_Armada;Eng...</td>\n",
       "      <td>Elizabeth_I_of_England</td>\n",
       "      <td>14th_century;Europe;North_America;United_State...</td>\n",
       "      <td>John_F._Kennedy</td>\n",
       "    </tr>\n",
       "    <tr>\n",
       "      <th>2</th>\n",
       "      <td>14th_century</td>\n",
       "      <td>14th_century;England;London;Spanish_Armada;Eng...</td>\n",
       "      <td>Elizabeth_I_of_England</td>\n",
       "      <td>14th_century;Europe;&lt;;England;&lt;;Christianity;A...</td>\n",
       "      <td>Henry_David_Thoreau</td>\n",
       "    </tr>\n",
       "    <tr>\n",
       "      <th>3</th>\n",
       "      <td>14th_century</td>\n",
       "      <td>14th_century;England;James_I_of_England;Elizab...</td>\n",
       "      <td>Elizabeth_I_of_England</td>\n",
       "      <td>14th_century;Italy;Roman_Catholic_Church;HIV;R...</td>\n",
       "      <td>John_F._Kennedy</td>\n",
       "    </tr>\n",
       "    <tr>\n",
       "      <th>4</th>\n",
       "      <td>14th_century</td>\n",
       "      <td>14th_century;England;James_I_of_England;Elizab...</td>\n",
       "      <td>Elizabeth_I_of_England</td>\n",
       "      <td>14th_century;Europe;North_America;United_State...</td>\n",
       "      <td>John_F._Kennedy</td>\n",
       "    </tr>\n",
       "    <tr>\n",
       "      <th>...</th>\n",
       "      <td>...</td>\n",
       "      <td>...</td>\n",
       "      <td>...</td>\n",
       "      <td>...</td>\n",
       "      <td>...</td>\n",
       "    </tr>\n",
       "    <tr>\n",
       "      <th>469</th>\n",
       "      <td>Ununoctium</td>\n",
       "      <td>Ununoctium;Uranium;World_War_II;The_Holocaust;...</td>\n",
       "      <td>Anne_Frank</td>\n",
       "      <td>Ununoctium;Russia;United_Kingdom;British_monar...</td>\n",
       "      <td>Henry_IV_of_England</td>\n",
       "    </tr>\n",
       "    <tr>\n",
       "      <th>470</th>\n",
       "      <td>William_Pitt_the_Younger</td>\n",
       "      <td>William_Pitt_the_Younger;Prime_Minister_of_the...</td>\n",
       "      <td>Miranda_Otto</td>\n",
       "      <td>William_Pitt_the_Younger;British_Empire;Ottoma...</td>\n",
       "      <td>Socrates</td>\n",
       "    </tr>\n",
       "    <tr>\n",
       "      <th>471</th>\n",
       "      <td>Windows_2000</td>\n",
       "      <td>Windows_2000;North_America;California;Arnold_S...</td>\n",
       "      <td>Bette_Davis</td>\n",
       "      <td>Windows_2000;Microsoft;United_States;George_Wa...</td>\n",
       "      <td>Ronald_Reagan</td>\n",
       "    </tr>\n",
       "    <tr>\n",
       "      <th>472</th>\n",
       "      <td>Windows_2000</td>\n",
       "      <td>Windows_2000;North_America;United_States;Cinem...</td>\n",
       "      <td>Bette_Davis</td>\n",
       "      <td>Windows_2000;Microsoft;United_States;George_Wa...</td>\n",
       "      <td>Ronald_Reagan</td>\n",
       "    </tr>\n",
       "    <tr>\n",
       "      <th>473</th>\n",
       "      <td>J%C3%B3zef_Pi%C5%82sudski</td>\n",
       "      <td>J%C3%B3zef_Pi%C5%82sudski;Russia;United_Kingdo...</td>\n",
       "      <td>Mary_II_of_England</td>\n",
       "      <td>J%C3%B3zef_Pi%C5%82sudski;World_War_I;World_Wa...</td>\n",
       "      <td>Vincent_van_Gogh</td>\n",
       "    </tr>\n",
       "  </tbody>\n",
       "</table>\n",
       "<p>474 rows × 5 columns</p>\n",
       "</div>"
      ],
      "text/plain": [
       "                        source  \\\n",
       "0                 14th_century   \n",
       "1                 14th_century   \n",
       "2                 14th_century   \n",
       "3                 14th_century   \n",
       "4                 14th_century   \n",
       "..                         ...   \n",
       "469                 Ununoctium   \n",
       "470   William_Pitt_the_Younger   \n",
       "471               Windows_2000   \n",
       "472               Windows_2000   \n",
       "473  J%C3%B3zef_Pi%C5%82sudski   \n",
       "\n",
       "                                            path_women  \\\n",
       "0    14th_century;England;London;Spanish_Armada;Eng...   \n",
       "1    14th_century;England;London;Spanish_Armada;Eng...   \n",
       "2    14th_century;England;London;Spanish_Armada;Eng...   \n",
       "3    14th_century;England;James_I_of_England;Elizab...   \n",
       "4    14th_century;England;James_I_of_England;Elizab...   \n",
       "..                                                 ...   \n",
       "469  Ununoctium;Uranium;World_War_II;The_Holocaust;...   \n",
       "470  William_Pitt_the_Younger;Prime_Minister_of_the...   \n",
       "471  Windows_2000;North_America;California;Arnold_S...   \n",
       "472  Windows_2000;North_America;United_States;Cinem...   \n",
       "473  J%C3%B3zef_Pi%C5%82sudski;Russia;United_Kingdo...   \n",
       "\n",
       "               target_women  \\\n",
       "0    Elizabeth_I_of_England   \n",
       "1    Elizabeth_I_of_England   \n",
       "2    Elizabeth_I_of_England   \n",
       "3    Elizabeth_I_of_England   \n",
       "4    Elizabeth_I_of_England   \n",
       "..                      ...   \n",
       "469              Anne_Frank   \n",
       "470            Miranda_Otto   \n",
       "471             Bette_Davis   \n",
       "472             Bette_Davis   \n",
       "473      Mary_II_of_England   \n",
       "\n",
       "                                              path_men           target_men  \n",
       "0    14th_century;Italy;Roman_Catholic_Church;HIV;R...      John_F._Kennedy  \n",
       "1    14th_century;Europe;North_America;United_State...      John_F._Kennedy  \n",
       "2    14th_century;Europe;<;England;<;Christianity;A...  Henry_David_Thoreau  \n",
       "3    14th_century;Italy;Roman_Catholic_Church;HIV;R...      John_F._Kennedy  \n",
       "4    14th_century;Europe;North_America;United_State...      John_F._Kennedy  \n",
       "..                                                 ...                  ...  \n",
       "469  Ununoctium;Russia;United_Kingdom;British_monar...  Henry_IV_of_England  \n",
       "470  William_Pitt_the_Younger;British_Empire;Ottoma...             Socrates  \n",
       "471  Windows_2000;Microsoft;United_States;George_Wa...        Ronald_Reagan  \n",
       "472  Windows_2000;Microsoft;United_States;George_Wa...        Ronald_Reagan  \n",
       "473  J%C3%B3zef_Pi%C5%82sudski;World_War_I;World_Wa...     Vincent_van_Gogh  \n",
       "\n",
       "[474 rows x 5 columns]"
      ]
     },
     "execution_count": 155,
     "metadata": {},
     "output_type": "execute_result"
    }
   ],
   "source": [
    "comb_finpaths"
   ]
  },
  {
   "cell_type": "markdown",
   "metadata": {},
   "source": [
    "#### Getting familiar with the merged data"
   ]
  },
  {
   "cell_type": "code",
   "execution_count": 157,
   "metadata": {},
   "outputs": [
    {
     "name": "stdout",
     "output_type": "stream",
     "text": [
      "The number of distinct sources that go both to women and men are 118\n",
      "The number of paths from all of these sources are 474\n"
     ]
    }
   ],
   "source": [
    "sources = comb.groupby(comb[\"source\"]).count()\n",
    "print(\"The number of distinct sources that go both to women and men are {}\".format(len(sources)))\n",
    "print(\"The number of paths from all of these sources are {}\".format(len(comb)))"
   ]
  },
  {
   "cell_type": "markdown",
   "metadata": {},
   "source": [
    "#### Brute-force method to construct the female dataframe"
   ]
  },
  {
   "cell_type": "code",
   "execution_count": 35,
   "metadata": {},
   "outputs": [],
   "source": [
    "actors = categories[categories[\"category\"] == \"subject.People.Actors_models_and_celebrities\"]\n",
    "artist = categories[categories[\"category\"] == \"subject.People.Artists\"]\n",
    "astro = categories[categories[\"category\"] == \"subject.People.Astronomers_and_physicists\"]\n",
    "chemist = categories[categories[\"category\"] == \"subject.People.Chemists\"]\n",
    "comp = categories[categories[\"category\"] == \"subject.People.Computing_People\"]\n",
    "eng = categories[categories[\"category\"] == \"subject.People.Engineers_and_inventors\"]\n",
    "geo = categories[categories[\"category\"] == \"subject.People.Geographers_and_explorers\"]\n",
    "hist = categories[categories[\"category\"] == \"subject.People.Historical_figures\"]\n",
    "\n",
    "humsci = categories[categories[\"category\"] == \"subject.People.Human_Scientists\"]\n",
    "math = categories[categories[\"category\"] == \"subject.People.Mathematicians\"]\n",
    "mil = categories[categories[\"category\"] == \"subject.People.Military_People\"]\n",
    "mon = categories[categories[\"category\"] == \"subject.People.Monarchs_of_Great_Britain\"]\n",
    "perf = categories[categories[\"category\"] == \"subject.People.Performers_and_composers\"]\n",
    "phil = categories[categories[\"category\"] == \"subject.People.Philosophers\"]\n",
    "pol = categories[categories[\"category\"] == \"subject.People.Political_People\"]\n",
    "prod = categories[categories[\"category\"] == \"subject.People.Producers_directors_and_media_figures\"] \n",
    "\n",
    "rel = categories[categories[\"category\"] == \"subject.People.Religious_figures_and_leaders\"]\n",
    "sport = categories[categories[\"category\"] == \"subject.People.Sports_and_games_people\"]\n",
    "usa = categories[categories[\"category\"] == \"subject.People.USA_Presidents\"]\n",
    "writ = categories[categories[\"category\"] == \"subject.People.Writers_and_critics\"]"
   ]
  }
 ],
 "metadata": {
  "kernelspec": {
   "display_name": "Python 3",
   "language": "python",
   "name": "python3"
  },
  "language_info": {
   "codemirror_mode": {
    "name": "ipython",
    "version": 3
   },
   "file_extension": ".py",
   "mimetype": "text/x-python",
   "name": "python",
   "nbconvert_exporter": "python",
   "pygments_lexer": "ipython3",
   "version": "3.8.5"
  },
  "vscode": {
   "interpreter": {
    "hash": "60762f2c9dc1d733e9baa8b0211c4ce87ae4eb5a78219e2c34414973c6c0791c"
   }
  }
 },
 "nbformat": 4,
 "nbformat_minor": 5
}
