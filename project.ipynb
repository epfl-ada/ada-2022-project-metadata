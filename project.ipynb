{
 "cells": [
  {
   "cell_type": "markdown",
   "id": "01031411",
   "metadata": {},
   "source": [
    "# **Wikiwomen: An analysis on gender bias**\n",
    "*metADAta*"
   ]
  },
  {
   "cell_type": "markdown",
   "id": "3db8b982-f712-4f2a-9a04-f0486d667e7c",
   "metadata": {},
   "source": [
    "We begin with taking a look at the Wikispeedia dataset and importing the files from it. The dataframe `female` is an additional dataset that we constructed ourselves."
   ]
  },
  {
   "cell_type": "markdown",
   "id": "df0a8500-5bb9-4700-a910-b84d4e53af6c",
   "metadata": {
    "jp-MarkdownHeadingCollapsed": true,
    "tags": []
   },
   "source": [
    "### **Dataframes: Columns and descriptions**"
   ]
  },
  {
   "cell_type": "markdown",
   "id": "39b87131-460b-4592-b915-89e362596e7e",
   "metadata": {},
   "source": [
    "| Name of dataframe | Columns                                                         | Description                                                                   |   |   |\n",
    "|-------------------|-----------------------------------------------------------------|-------------------------------------------------------------------------------|---|---|\n",
    "| articles          | [article]                                                       | Contains the name of a wikispeedia article                                    |   |   |\n",
    "| categories        | [article, category]                                             | Contains the name of a wikispeedia article and its corresponding category     |   |   |\n",
    "| links             | [link_source, link_target]                                      | Contains the source and target article between links         |   |   |\n",
    "| paths_finished    | [hashedIpAddress, timestamp, durationInSec, path, rating]       | Contains all finished paths                                                   |   |   |\n",
    "| paths_unfinished  | [hashedIpAddress, timestamp, durationInSec, path, target, type] | Contains all unfinished paths. Type refers to the reason they were unfinished |   |   |\n",
    "| shortest_distance_text  | array | Every row corresponds to a source article, in the same order as they appear in *articles*, and its value contains the shortest distance from that source article to every other article.  |   |   |\n",
    "| female  | [name, womenLabel] | Contains a list of articles about females and their corresponding subcategory |   |   |"
   ]
  },
  {
   "cell_type": "markdown",
   "id": "b9b449b4-a3d4-48fc-afe8-3c6ac1e22130",
   "metadata": {
    "jp-MarkdownHeadingCollapsed": true,
    "tags": []
   },
   "source": [
    "## **Importing the data**"
   ]
  },
  {
   "cell_type": "code",
   "execution_count": 1243,
   "id": "77350193-de98-4362-a62c-594bf1ba319f",
   "metadata": {},
   "outputs": [],
   "source": [
    "# Loading all the necessary packages\n",
    "import numpy as np\n",
    "import pandas as pd\n",
    "import math\n",
    "import matplotlib.pyplot as plt\n",
    "%matplotlib inline\n",
    "from matplotlib.offsetbox import AnchoredText\n",
    "from urllib.parse import unquote\n",
    "import seaborn as sns\n",
    "import networkx as nx\n",
    "import plotly.express as px\n",
    "import plotly.graph_objects as go\n",
    "import statsmodels.formula.api as smf\n",
    "import scipy.stats as stats\n",
    "from plotly.subplots import make_subplots"
   ]
  },
  {
   "cell_type": "code",
   "execution_count": 1244,
   "id": "fa4e0832",
   "metadata": {},
   "outputs": [],
   "source": [
    "DATA_FOLDER = 'data/'\n",
    "WIKISPEEDIA_PATHS = DATA_FOLDER + \"wikispeedia_paths-and-graph/\"\n",
    "\n",
    "ARTICLES = WIKISPEEDIA_PATHS + \"articles.tsv\"\n",
    "CATEGORIES = WIKISPEEDIA_PATHS + \"categories.tsv\"\n",
    "LINKS = WIKISPEEDIA_PATHS + \"links.tsv\"\n",
    "PATHS_FINISHED = WIKISPEEDIA_PATHS + \"paths_finished.tsv\"\n",
    "PATHS_UNFINISHED = WIKISPEEDIA_PATHS + \"paths_unfinished.tsv\"\n",
    "SHORTEST_PATHS = WIKISPEEDIA_PATHS + \"shortest-path-distance-matrix.txt\"\n",
    "FEMALES = DATA_FOLDER + \"listwomen.txt\""
   ]
  },
  {
   "cell_type": "code",
   "execution_count": 1245,
   "id": "1168595d",
   "metadata": {},
   "outputs": [],
   "source": [
    "articles = pd.read_csv(ARTICLES, sep='\\t', names=[\"article\"], skiprows = 12)\n",
    "categories = pd.read_csv(CATEGORIES, sep='\\t', names=[\"article\", \"category\"], skiprows = 13)\n",
    "links = pd.read_csv(LINKS, sep='\\t', names=[\"link_source\", \"link_target\"], skiprows = 12)\n",
    "paths_finished = pd.read_csv(PATHS_FINISHED, sep='\\t', names=[\"hashedIpAddress\", \"timestamp\", \n",
    "                                                              \"durationInSec\", \"path\", \"rating\"], skiprows = 15)\n",
    "paths_unfinished = pd.read_csv(PATHS_UNFINISHED, sep='\\t', names=[\"hashedIpAddress\", \"timestamp\", \n",
    "                                                                  \"durationInSec\", \"path\", \"target\", \"type\"], skiprows = 17)\n",
    "shortest_distance_text = np.loadtxt(SHORTEST_PATHS, dtype=str, comments=\"#\", unpack=False)\n",
    "female = pd.read_csv(FEMALES, sep=',', names=[\"name\", \"women_label\"], skiprows = 1)"
   ]
  },
  {
   "cell_type": "markdown",
   "id": "35e037f6-1258-4dfd-a894-fa90aa37f040",
   "metadata": {
    "tags": []
   },
   "source": [
    "## **Pre-processing and dataset construction**"
   ]
  },
  {
   "cell_type": "markdown",
   "id": "8f4e4b86-72c6-474d-ae22-8f8e1f6b2240",
   "metadata": {},
   "source": [
    "For our project, we are mainly interested in one category within the Wikispeedia dataset, namely the category of People, the one colored red in the following bar plot. "
   ]
  },
  {
   "cell_type": "code",
   "execution_count": 1246,
   "id": "ff04d846-096e-434c-9b23-f620a3d3beb5",
   "metadata": {},
   "outputs": [],
   "source": [
    "main_categories = pd.concat([categories, categories['category'].str.split(\".\", expand=True)], axis=1)\n",
    "main_categories = main_categories.drop(columns = [\"category\", 0, 2, 3])\n",
    "main_categories = main_categories.rename(columns = {\"article\": \"name\", 1: \"main_category\"})"
   ]
  },
  {
   "cell_type": "code",
   "execution_count": 1247,
   "id": "129baaa1-c1f5-4cc3-becf-2ab527225fca",
   "metadata": {},
   "outputs": [
    {
     "data": {
      "image/png": "[encoded data removed]",
      "text/plain": [
       "<Figure size 432x288 with 1 Axes>"
      ]
     },
     "metadata": {
      "needs_background": "light"
     },
     "output_type": "display_data"
    }
   ],
   "source": [
    "# plotting the distribution of main_categories\n",
    "maincategories_dist = main_categories[\"main_category\"].value_counts()\n",
    "colors = ['tab:red' if (x == \"People\") else 'tab:blue' for x in maincategories_dist.keys()]\n",
    "maincategories_dist.plot.bar(title = \"Distribution of main categories\",\n",
    "                             ylabel = 'Number of articles', \n",
    "                             color = colors,\n",
    "                             width = 0.7)\n",
    "plt.show()"
   ]
  },
  {
   "cell_type": "markdown",
   "id": "84083773-951c-4c34-ba52-024594884e64",
   "metadata": {},
   "source": [
    "We will now take a closer look of the articles and their subcategories within the People category."
   ]
  },
  {
   "cell_type": "code",
   "execution_count": 1248,
   "id": "ba83e10c-012d-43b3-b7ef-bffc72a3638b",
   "metadata": {},
   "outputs": [],
   "source": [
    "# finding the articles that are in the People category\n",
    "categories[\"category_people\"] = categories[\"category\"].apply(lambda x: x.startswith('subject.People.'))\n",
    "\n",
    "# constructing a new dataframe called people, only with articles from the people category\n",
    "people = categories[categories[\"category_people\"] == True]\n",
    "\n",
    "# splitting the categories into main- and subcategories\n",
    "people = pd.concat([people, people['category'].str.split(\".\", expand=True)], axis=1)\n",
    "people = people.drop(columns = [\"category_people\", \"category\", 0, 1])\n",
    "people = people.rename(columns = {\"article\":\"name\", 2:\"category\"})"
   ]
  },
  {
   "cell_type": "code",
   "execution_count": 1249,
   "id": "6493b2fb-445b-4ed1-b9a2-c42c8d3a97d7",
   "metadata": {},
   "outputs": [
    {
     "name": "stdout",
     "output_type": "stream",
     "text": [
      "The number of articles about people are 689\n"
     ]
    },
    {
     "data": {
      "image/png": "[encoded data removed]",
      "text/plain": [
       "<Figure size 432x288 with 1 Axes>"
      ]
     },
     "metadata": {
      "needs_background": "light"
     },
     "output_type": "display_data"
    }
   ],
   "source": [
    "print(f\"The number of articles about people are {len(people)}\")\n",
    "\n",
    "# plotting the distribution of subcategories within the People category\n",
    "subcategories_dist = people[\"category\"].value_counts()\n",
    "subcategories_dist.plot.bar(title = \"Distribution of subcategories for the People category\",\n",
    "                            ylabel = 'Number of articles about people', \n",
    "                            color = \"tab:red\", width = 0.7)\n",
    "plt.show()"
   ]
  },
  {
   "cell_type": "markdown",
   "id": "e93a0120-061e-4f93-8f66-2ed58e746a0d",
   "metadata": {},
   "source": [
    "For our project goals, we need to be able to identify between women and men articles. In the following cells, we will do so by using the `female` dataframe, as well as finding every node degree, i.e., every number of incoming and outcoming links from every article."
   ]
  },
  {
   "cell_type": "code",
   "execution_count": 1250,
   "id": "f15e1441-4555-4abd-94ca-4eded1eb3e85",
   "metadata": {},
   "outputs": [
    {
     "data": {
      "text/html": [
       "<div>\n",
       "<style scoped>\n",
       "    .dataframe tbody tr th:only-of-type {\n",
       "        vertical-align: middle;\n",
       "    }\n",
       "\n",
       "    .dataframe tbody tr th {\n",
       "        vertical-align: top;\n",
       "    }\n",
       "\n",
       "    .dataframe thead th {\n",
       "        text-align: right;\n",
       "    }\n",
       "</style>\n",
       "<table border=\"1\" class=\"dataframe\">\n",
       "  <thead>\n",
       "    <tr style=\"text-align: right;\">\n",
       "      <th></th>\n",
       "      <th>name</th>\n",
       "      <th>category</th>\n",
       "      <th>gender</th>\n",
       "      <th>nr_link_out</th>\n",
       "      <th>nr_link_in</th>\n",
       "    </tr>\n",
       "  </thead>\n",
       "  <tbody>\n",
       "    <tr>\n",
       "      <th>95</th>\n",
       "      <td>Abel_Tasman</td>\n",
       "      <td>Geographers_and_explorers</td>\n",
       "      <td>male</td>\n",
       "      <td>14</td>\n",
       "      <td>5</td>\n",
       "    </tr>\n",
       "    <tr>\n",
       "      <th>105</th>\n",
       "      <td>Abraham_Lincoln</td>\n",
       "      <td>USA_Presidents</td>\n",
       "      <td>male</td>\n",
       "      <td>35</td>\n",
       "      <td>62</td>\n",
       "    </tr>\n",
       "    <tr>\n",
       "      <th>129</th>\n",
       "      <td>Adam_Smith</td>\n",
       "      <td>Historical_figures</td>\n",
       "      <td>male</td>\n",
       "      <td>27</td>\n",
       "      <td>38</td>\n",
       "    </tr>\n",
       "    <tr>\n",
       "      <th>134</th>\n",
       "      <td>Adolf_Hitler</td>\n",
       "      <td>Political_People</td>\n",
       "      <td>male</td>\n",
       "      <td>78</td>\n",
       "      <td>109</td>\n",
       "    </tr>\n",
       "    <tr>\n",
       "      <th>159</th>\n",
       "      <td>Agamemnon</td>\n",
       "      <td>Historical_figures</td>\n",
       "      <td>male</td>\n",
       "      <td>11</td>\n",
       "      <td>9</td>\n",
       "    </tr>\n",
       "  </tbody>\n",
       "</table>\n",
       "</div>"
      ],
      "text/plain": [
       "                name                   category gender  nr_link_out  \\\n",
       "95       Abel_Tasman  Geographers_and_explorers   male           14   \n",
       "105  Abraham_Lincoln             USA_Presidents   male           35   \n",
       "129       Adam_Smith         Historical_figures   male           27   \n",
       "134     Adolf_Hitler           Political_People   male           78   \n",
       "159        Agamemnon         Historical_figures   male           11   \n",
       "\n",
       "     nr_link_in  \n",
       "95            5  \n",
       "105          62  \n",
       "129          38  \n",
       "134         109  \n",
       "159           9  "
      ]
     },
     "execution_count": 1250,
     "metadata": {},
     "output_type": "execute_result"
    }
   ],
   "source": [
    "# identify women and men in people\n",
    "people[\"gender\"] =  people['name'].isin(female[\"name\"])\n",
    "people[\"gender\"] = people[\"gender\"].apply(lambda x: \"female\" if x else \"male\")\n",
    "\n",
    "# counting in- and out-links for every article\n",
    "count_links_src = links.link_source.value_counts()\n",
    "count_links_target = links.link_target.value_counts()\n",
    "\n",
    "# drop all people that have no in_link -> impossible to reach the article\n",
    "people = people.merge(count_links_src, how = \"left\", left_on = \"name\", right_index = True)\n",
    "people = people.merge(count_links_target, how = \"inner\", left_on = \"name\", right_index = True)\n",
    "people = people.rename(columns = {\"link_source\": \"nr_link_out\", \"link_target\": \"nr_link_in\"})\n",
    "people.head()"
   ]
  },
  {
   "attachments": {},
   "cell_type": "markdown",
   "id": "103c8d77",
   "metadata": {},
   "source": [
    "Now that we have cleaned up the people articles, we want to take a closer look at our data. We are interested in the the distribution of female and male articles in the people-subcategories."
   ]
  },
  {
   "cell_type": "code",
   "execution_count": 1251,
   "id": "420631c0-4f37-4189-844f-872b65602421",
   "metadata": {},
   "outputs": [
    {
     "data": {
      "image/png": "[encoded data removed]",
      "text/plain": [
       "<Figure size 432x288 with 1 Axes>"
      ]
     },
     "metadata": {
      "needs_background": "light"
     },
     "output_type": "display_data"
    }
   ],
   "source": [
    "women_people = people[people['gender'] == \"female\"][\"category\"].value_counts()\n",
    "men_people = people[people['gender'] == \"male\"][\"category\"].value_counts()\n",
    "index = men_people.keys()\n",
    "men_women_cat = pd.DataFrame({'women': women_people,'men': men_people}, index=index).sort_values(by = [\"women\"], ascending = True)\n",
    "#men_women_cat = pd.DataFrame({'women': women_people,'men': men_people}, index=index)\n",
    "ax = men_women_cat.plot.barh(stacked = False, color = ['hotpink', 'deepskyblue'], \n",
    "                            title = \"Distribution of subcategories for women and men\",\n",
    "                            ylabel = 'Number of articles', width = 0.7)\n",
    "plt.show()"
   ]
  },
  {
   "cell_type": "markdown",
   "id": "f2a2a1cb-46fa-4fd9-8dfb-92a271ed34b4",
   "metadata": {},
   "source": [
    "Now, we will construct a new dataframe called `path_overview` that contains the following columns:\n",
    "\n",
    "| **Column_name**      | **Description**                                                     |\n",
    "|----------------------|---------------------------------------------------------------------|\n",
    "| source               | Source article of navigated path                                    |\n",
    "| target               | Target article of navigated path                                    |\n",
    "| finished             | True if path was finished, false otherwise                          |\n",
    "| human_path_length    | The length of the path it took the user to go from source to target |\n",
    "| shortest_path_length | Shortest possible path from a source to a target                    |\n",
    "| path_deviation       | The difference between human_path_length and shortest_path_lenght   |\n",
    "| playtime_sec            | Duration of game in seconds                                               |\n",
    "| playtime_min           | Duration of game in minutes                                              |\n",
    "| type                 | Reason for unfinished game                                          |\n",
    "| failure_article      | Title of article where game was failed (unfinished)                 |\n",
    "| difficulty_rating    | Difficulty rating done by players                                   |\n",
    "| number_backclicks    | Number of backclicks in a path                                      |"
   ]
  },
  {
   "cell_type": "code",
   "execution_count": 1252,
   "id": "1dc67897-8135-4673-bd58-ce9520c062c2",
   "metadata": {},
   "outputs": [],
   "source": [
    "def process_path(path):\n",
    "    '''\n",
    "    Decompose a path and find its length. \n",
    "    Assumption: When back-clicks are encountered, we increase the path length by 1.\n",
    "    :param path: a full-length path\n",
    "    :return: source, target, length\n",
    "    '''\n",
    "    p = path.split(\";\")\n",
    "    number_backclicks = p.count('<')\n",
    "    source = p[0]\n",
    "    target = p[-1]\n",
    "    length = len(p)\n",
    "    return source, target, length, number_backclicks"
   ]
  },
  {
   "cell_type": "code",
   "execution_count": 1253,
   "id": "f725f5b3-75f8-4eaa-87c3-1f2a1103c4b8",
   "metadata": {},
   "outputs": [],
   "source": [
    "# expand the finished paths \n",
    "path_fin = paths_finished.copy()\n",
    "path_fin[\"source\"], path_fin[\"target\"],path_fin[\"human_path_length\"], path_fin[\"number_backclicks\"] = zip(*paths_finished['path'].apply(lambda x: process_path(x)))\n",
    "path_fin[\"finished\"] = True\n",
    "\n",
    "# expand the unfinished paths\n",
    "path_ufin = paths_unfinished.copy()\n",
    "path_ufin[\"source\"], path_ufin[\"failure_article\"], path_ufin[\"human_path_length\"], path_ufin[\"number_backclicks\"]= zip(*paths_unfinished['path'].apply(lambda x: process_path(x)))\n",
    "path_ufin[\"finished\"] = False\n",
    "path_ufin['target'] = paths_unfinished[\"target\"]\n",
    "\n",
    "# construct a new dataframe: path_overview\n",
    "path_overview = pd.concat([path_fin, path_ufin], ignore_index=True)  \n",
    "path_overview = path_overview.rename(columns={\"durationInSec\": \"playtime_sec\", \"rating\": \"difficulty_rating\"})\n",
    "path_overview[\"playtime_min\"] = path_overview[\"playtime_sec\"]/60\n",
    "path_overview = path_overview[[\"source\", \"target\", \"finished\", \"human_path_length\", \n",
    "                               \"playtime_sec\", \"playtime_min\", \"type\", \"failure_article\", \"difficulty_rating\",\"number_backclicks\",\n",
    "                               \"hashedIpAddress\", \"timestamp\"]]"
   ]
  },
  {
   "cell_type": "markdown",
   "id": "01ebaaf3-8134-4fb8-96e0-1aa21421e2e8",
   "metadata": {},
   "source": [
    "**Finding the shortest path length and adding it to `path_overview`:**"
   ]
  },
  {
   "cell_type": "markdown",
   "id": "719aa8a0-92a0-4c02-9c11-31b014969691",
   "metadata": {},
   "source": [
    "We begin with creating a matrix with the shortest path length information from the imported file *shortest-path-distance-matrix.txt*:"
   ]
  },
  {
   "cell_type": "code",
   "execution_count": 1254,
   "id": "5caab9c0-7283-43e5-b088-bcce1c207f8d",
   "metadata": {},
   "outputs": [],
   "source": [
    "# The Shortest Distance Matrix is created from the imported data\n",
    "shortest_distance_matrix = [] \n",
    "for row in shortest_distance_text:\n",
    "    row_formated = [] \n",
    "    for c in row:\n",
    "        if c.isdigit(): \n",
    "            row_formated.append(int(c))\n",
    "        else:\n",
    "            row_formated.append(-1) ## If there is no path between two articles it's represented with -1\n",
    "        \n",
    "    shortest_distance_matrix.append(np.array(row_formated))\n",
    "\n",
    "shortest_distance_matrix = np.array(shortest_distance_matrix)"
   ]
  },
  {
   "cell_type": "markdown",
   "id": "f980eb46-acfa-4586-9052-dac47acc0225",
   "metadata": {},
   "source": [
    "We make sure that paths with target articles that don't exist are deleted:"
   ]
  },
  {
   "cell_type": "code",
   "execution_count": 1255,
   "id": "605b9604-26da-45b1-8008-0836df0604ba",
   "metadata": {},
   "outputs": [],
   "source": [
    "condition = ~(path_overview['target'].isin(articles['article'].array))\n",
    "path_overview = path_overview.drop(path_overview[condition].index)"
   ]
  },
  {
   "cell_type": "markdown",
   "id": "17b00318-8e42-4ea3-a9f6-562965c8774f",
   "metadata": {},
   "source": [
    "Now we define a function that accesses the corresponding short distance value of a source and target pair in the matrix `shortest_distance_matrix`:"
   ]
  },
  {
   "cell_type": "code",
   "execution_count": 1256,
   "id": "68363565-bb26-4bc3-9fe3-8e8d30bbc67f",
   "metadata": {},
   "outputs": [],
   "source": [
    "def get_shortest_distance(source, target, help_articles):\n",
    "    '''\n",
    "    Finding the shortest path length between a source and a target\n",
    "    :param source: source article \n",
    "    :param target: target article\n",
    "    :param help_articles: a helper dataframe where article and index are changed\n",
    "    :return: shortest_distance_matrix value for source and target article\n",
    "    '''\n",
    "    source_idx = help_articles.loc[source]\n",
    "    target_idx = help_articles.loc[target]\n",
    "    return shortest_distance_matrix[source_idx,target_idx][0]"
   ]
  },
  {
   "cell_type": "markdown",
   "id": "a9175f53-2060-4126-b854-1ebd1eb408b2",
   "metadata": {},
   "source": [
    "Calling the function, we can add the shortest path length to `path_overview`:"
   ]
  },
  {
   "cell_type": "code",
   "execution_count": 1257,
   "id": "0d042f79-0a1b-498f-8aea-e143aff37dff",
   "metadata": {},
   "outputs": [],
   "source": [
    "articles[\"index\"] = articles.index\n",
    "help_articles = articles.set_index(\"article\")\n",
    "\n",
    "# shortest path length is added to the path_overview\n",
    "path_overview[\"shortest_path_length\"] = path_overview.apply(lambda x: get_shortest_distance(x[\"source\"], x[\"target\"],                                                                                         help_articles), axis = 1)"
   ]
  },
  {
   "cell_type": "markdown",
   "id": "89550225-fcf0-4a2f-a898-96d74b4e729e",
   "metadata": {},
   "source": [
    "Below, we remove all infeasible paths, i.e., all source and target pairs that have a shortest path length value of -1:"
   ]
  },
  {
   "cell_type": "code",
   "execution_count": 1258,
   "id": "ba0664a5-0561-4588-8928-d9c3d3c5555d",
   "metadata": {},
   "outputs": [
    {
     "data": {
      "text/html": [
       "<div>\n",
       "<style scoped>\n",
       "    .dataframe tbody tr th:only-of-type {\n",
       "        vertical-align: middle;\n",
       "    }\n",
       "\n",
       "    .dataframe tbody tr th {\n",
       "        vertical-align: top;\n",
       "    }\n",
       "\n",
       "    .dataframe thead th {\n",
       "        text-align: right;\n",
       "    }\n",
       "</style>\n",
       "<table border=\"1\" class=\"dataframe\">\n",
       "  <thead>\n",
       "    <tr style=\"text-align: right;\">\n",
       "      <th></th>\n",
       "      <th>source</th>\n",
       "      <th>target</th>\n",
       "      <th>finished</th>\n",
       "      <th>human_path_length</th>\n",
       "      <th>shortest_path_length</th>\n",
       "      <th>playtime_sec</th>\n",
       "      <th>playtime_min</th>\n",
       "      <th>type</th>\n",
       "      <th>failure_article</th>\n",
       "      <th>difficulty_rating</th>\n",
       "      <th>number_backclicks</th>\n",
       "      <th>hashedIpAddress</th>\n",
       "      <th>timestamp</th>\n",
       "    </tr>\n",
       "  </thead>\n",
       "  <tbody>\n",
       "    <tr>\n",
       "      <th>0</th>\n",
       "      <td>14th_century</td>\n",
       "      <td>African_slave_trade</td>\n",
       "      <td>True</td>\n",
       "      <td>9</td>\n",
       "      <td>3</td>\n",
       "      <td>166</td>\n",
       "      <td>2.766667</td>\n",
       "      <td>NaN</td>\n",
       "      <td>NaN</td>\n",
       "      <td>NaN</td>\n",
       "      <td>0</td>\n",
       "      <td>6a3701d319fc3754</td>\n",
       "      <td>1297740409</td>\n",
       "    </tr>\n",
       "    <tr>\n",
       "      <th>1</th>\n",
       "      <td>14th_century</td>\n",
       "      <td>African_slave_trade</td>\n",
       "      <td>True</td>\n",
       "      <td>5</td>\n",
       "      <td>3</td>\n",
       "      <td>88</td>\n",
       "      <td>1.466667</td>\n",
       "      <td>NaN</td>\n",
       "      <td>NaN</td>\n",
       "      <td>3.0</td>\n",
       "      <td>0</td>\n",
       "      <td>3824310e536af032</td>\n",
       "      <td>1344753412</td>\n",
       "    </tr>\n",
       "    <tr>\n",
       "      <th>2</th>\n",
       "      <td>14th_century</td>\n",
       "      <td>African_slave_trade</td>\n",
       "      <td>True</td>\n",
       "      <td>8</td>\n",
       "      <td>3</td>\n",
       "      <td>138</td>\n",
       "      <td>2.300000</td>\n",
       "      <td>NaN</td>\n",
       "      <td>NaN</td>\n",
       "      <td>NaN</td>\n",
       "      <td>0</td>\n",
       "      <td>415612e93584d30e</td>\n",
       "      <td>1349298640</td>\n",
       "    </tr>\n",
       "    <tr>\n",
       "      <th>3</th>\n",
       "      <td>14th_century</td>\n",
       "      <td>Greece</td>\n",
       "      <td>True</td>\n",
       "      <td>4</td>\n",
       "      <td>2</td>\n",
       "      <td>37</td>\n",
       "      <td>0.616667</td>\n",
       "      <td>NaN</td>\n",
       "      <td>NaN</td>\n",
       "      <td>NaN</td>\n",
       "      <td>0</td>\n",
       "      <td>64dd5cd342e3780c</td>\n",
       "      <td>1265613925</td>\n",
       "    </tr>\n",
       "    <tr>\n",
       "      <th>4</th>\n",
       "      <td>14th_century</td>\n",
       "      <td>John_F._Kennedy</td>\n",
       "      <td>True</td>\n",
       "      <td>7</td>\n",
       "      <td>3</td>\n",
       "      <td>175</td>\n",
       "      <td>2.916667</td>\n",
       "      <td>NaN</td>\n",
       "      <td>NaN</td>\n",
       "      <td>3.0</td>\n",
       "      <td>0</td>\n",
       "      <td>015245d773376aab</td>\n",
       "      <td>1366730828</td>\n",
       "    </tr>\n",
       "  </tbody>\n",
       "</table>\n",
       "</div>"
      ],
      "text/plain": [
       "         source               target  finished  human_path_length  \\\n",
       "0  14th_century  African_slave_trade      True                  9   \n",
       "1  14th_century  African_slave_trade      True                  5   \n",
       "2  14th_century  African_slave_trade      True                  8   \n",
       "3  14th_century               Greece      True                  4   \n",
       "4  14th_century      John_F._Kennedy      True                  7   \n",
       "\n",
       "   shortest_path_length  playtime_sec  playtime_min type failure_article  \\\n",
       "0                     3           166      2.766667  NaN             NaN   \n",
       "1                     3            88      1.466667  NaN             NaN   \n",
       "2                     3           138      2.300000  NaN             NaN   \n",
       "3                     2            37      0.616667  NaN             NaN   \n",
       "4                     3           175      2.916667  NaN             NaN   \n",
       "\n",
       "   difficulty_rating  number_backclicks   hashedIpAddress   timestamp  \n",
       "0                NaN                  0  6a3701d319fc3754  1297740409  \n",
       "1                3.0                  0  3824310e536af032  1344753412  \n",
       "2                NaN                  0  415612e93584d30e  1349298640  \n",
       "3                NaN                  0  64dd5cd342e3780c  1265613925  \n",
       "4                3.0                  0  015245d773376aab  1366730828  "
      ]
     },
     "execution_count": 1258,
     "metadata": {},
     "output_type": "execute_result"
    }
   ],
   "source": [
    "path_overview = path_overview.drop(path_overview[path_overview['shortest_path_length'] < 0].index) \n",
    "path_overview.insert(4, 'shortest_path_length', path_overview.pop('shortest_path_length'))\n",
    "path_overview.head()"
   ]
  },
  {
   "cell_type": "markdown",
   "id": "c390f55f-92a5-4ff2-aaa6-e0c05f029acd",
   "metadata": {},
   "source": [
    "Now, we can add the column `path_deviation` to our dataframe, which is the difference between the `human_path_length` and the `shortest_path_length`. We also remove all rows that have a negative value of path deviation, since a human path length can not be smaller than the shortest path length."
   ]
  },
  {
   "cell_type": "code",
   "execution_count": 1259,
   "id": "120e06e2-bdb9-41e1-813d-11923ec9e8e3",
   "metadata": {},
   "outputs": [
    {
     "data": {
      "text/html": [
       "<div>\n",
       "<style scoped>\n",
       "    .dataframe tbody tr th:only-of-type {\n",
       "        vertical-align: middle;\n",
       "    }\n",
       "\n",
       "    .dataframe tbody tr th {\n",
       "        vertical-align: top;\n",
       "    }\n",
       "\n",
       "    .dataframe thead th {\n",
       "        text-align: right;\n",
       "    }\n",
       "</style>\n",
       "<table border=\"1\" class=\"dataframe\">\n",
       "  <thead>\n",
       "    <tr style=\"text-align: right;\">\n",
       "      <th></th>\n",
       "      <th>source</th>\n",
       "      <th>target</th>\n",
       "      <th>finished</th>\n",
       "      <th>human_path_length</th>\n",
       "      <th>shortest_path_length</th>\n",
       "      <th>path_deviation</th>\n",
       "      <th>playtime_sec</th>\n",
       "      <th>playtime_min</th>\n",
       "      <th>type</th>\n",
       "      <th>failure_article</th>\n",
       "      <th>difficulty_rating</th>\n",
       "      <th>number_backclicks</th>\n",
       "      <th>hashedIpAddress</th>\n",
       "      <th>timestamp</th>\n",
       "    </tr>\n",
       "  </thead>\n",
       "  <tbody>\n",
       "    <tr>\n",
       "      <th>0</th>\n",
       "      <td>14th_century</td>\n",
       "      <td>African_slave_trade</td>\n",
       "      <td>True</td>\n",
       "      <td>9</td>\n",
       "      <td>3</td>\n",
       "      <td>6</td>\n",
       "      <td>166</td>\n",
       "      <td>2.766667</td>\n",
       "      <td>NaN</td>\n",
       "      <td>NaN</td>\n",
       "      <td>NaN</td>\n",
       "      <td>0</td>\n",
       "      <td>6a3701d319fc3754</td>\n",
       "      <td>1297740409</td>\n",
       "    </tr>\n",
       "    <tr>\n",
       "      <th>1</th>\n",
       "      <td>14th_century</td>\n",
       "      <td>African_slave_trade</td>\n",
       "      <td>True</td>\n",
       "      <td>5</td>\n",
       "      <td>3</td>\n",
       "      <td>2</td>\n",
       "      <td>88</td>\n",
       "      <td>1.466667</td>\n",
       "      <td>NaN</td>\n",
       "      <td>NaN</td>\n",
       "      <td>3.0</td>\n",
       "      <td>0</td>\n",
       "      <td>3824310e536af032</td>\n",
       "      <td>1344753412</td>\n",
       "    </tr>\n",
       "    <tr>\n",
       "      <th>2</th>\n",
       "      <td>14th_century</td>\n",
       "      <td>African_slave_trade</td>\n",
       "      <td>True</td>\n",
       "      <td>8</td>\n",
       "      <td>3</td>\n",
       "      <td>5</td>\n",
       "      <td>138</td>\n",
       "      <td>2.300000</td>\n",
       "      <td>NaN</td>\n",
       "      <td>NaN</td>\n",
       "      <td>NaN</td>\n",
       "      <td>0</td>\n",
       "      <td>415612e93584d30e</td>\n",
       "      <td>1349298640</td>\n",
       "    </tr>\n",
       "    <tr>\n",
       "      <th>3</th>\n",
       "      <td>14th_century</td>\n",
       "      <td>Greece</td>\n",
       "      <td>True</td>\n",
       "      <td>4</td>\n",
       "      <td>2</td>\n",
       "      <td>2</td>\n",
       "      <td>37</td>\n",
       "      <td>0.616667</td>\n",
       "      <td>NaN</td>\n",
       "      <td>NaN</td>\n",
       "      <td>NaN</td>\n",
       "      <td>0</td>\n",
       "      <td>64dd5cd342e3780c</td>\n",
       "      <td>1265613925</td>\n",
       "    </tr>\n",
       "    <tr>\n",
       "      <th>4</th>\n",
       "      <td>14th_century</td>\n",
       "      <td>John_F._Kennedy</td>\n",
       "      <td>True</td>\n",
       "      <td>7</td>\n",
       "      <td>3</td>\n",
       "      <td>4</td>\n",
       "      <td>175</td>\n",
       "      <td>2.916667</td>\n",
       "      <td>NaN</td>\n",
       "      <td>NaN</td>\n",
       "      <td>3.0</td>\n",
       "      <td>0</td>\n",
       "      <td>015245d773376aab</td>\n",
       "      <td>1366730828</td>\n",
       "    </tr>\n",
       "  </tbody>\n",
       "</table>\n",
       "</div>"
      ],
      "text/plain": [
       "         source               target  finished  human_path_length  \\\n",
       "0  14th_century  African_slave_trade      True                  9   \n",
       "1  14th_century  African_slave_trade      True                  5   \n",
       "2  14th_century  African_slave_trade      True                  8   \n",
       "3  14th_century               Greece      True                  4   \n",
       "4  14th_century      John_F._Kennedy      True                  7   \n",
       "\n",
       "   shortest_path_length  path_deviation  playtime_sec  playtime_min type  \\\n",
       "0                     3               6           166      2.766667  NaN   \n",
       "1                     3               2            88      1.466667  NaN   \n",
       "2                     3               5           138      2.300000  NaN   \n",
       "3                     2               2            37      0.616667  NaN   \n",
       "4                     3               4           175      2.916667  NaN   \n",
       "\n",
       "  failure_article  difficulty_rating  number_backclicks   hashedIpAddress  \\\n",
       "0             NaN                NaN                  0  6a3701d319fc3754   \n",
       "1             NaN                3.0                  0  3824310e536af032   \n",
       "2             NaN                NaN                  0  415612e93584d30e   \n",
       "3             NaN                NaN                  0  64dd5cd342e3780c   \n",
       "4             NaN                3.0                  0  015245d773376aab   \n",
       "\n",
       "    timestamp  \n",
       "0  1297740409  \n",
       "1  1344753412  \n",
       "2  1349298640  \n",
       "3  1265613925  \n",
       "4  1366730828  "
      ]
     },
     "execution_count": 1259,
     "metadata": {},
     "output_type": "execute_result"
    }
   ],
   "source": [
    "# add path_deviation to path_overview\n",
    "path_overview[\"path_deviation\"] = path_overview[\"human_path_length\"] - path_overview[\"shortest_path_length\"]\n",
    "\n",
    "# we remove all rows that have a negative path_dev\n",
    "path_overview = path_overview.drop(path_overview.index[path_overview['path_deviation'] < 0])\n",
    "path_overview.insert(5, 'path_deviation', path_overview.pop('path_deviation'))\n",
    "path_overview.head()"
   ]
  },
  {
   "cell_type": "code",
   "execution_count": 1260,
   "id": "a2f88aab-6229-4832-8b37-00e1a294855c",
   "metadata": {},
   "outputs": [],
   "source": [
    "# save dataframe to file\n",
    "path_overview.to_csv(\"./data/all_paths_overview.csv\")"
   ]
  },
  {
   "cell_type": "markdown",
   "id": "b043af29-c5b6-4e92-a7c0-99e2ab430af0",
   "metadata": {},
   "source": [
    "Let's turn our attention to all people, and identify the paths in `path_overview` that only have people as target article:"
   ]
  },
  {
   "cell_type": "code",
   "execution_count": 1261,
   "id": "83fb52d3-2204-4423-b2a3-5721e384961a",
   "metadata": {},
   "outputs": [],
   "source": [
    "# find only targets that are people\n",
    "people_target_paths = path_overview.merge(people[['name', 'category', 'gender', 'nr_link_in']], \n",
    "                                          how = \"inner\", left_on = \"target\", right_on = \"name\")"
   ]
  },
  {
   "cell_type": "markdown",
   "id": "e591392f-48a9-4f0b-b782-1b865ab94f4f",
   "metadata": {},
   "source": [
    "To prepare for our work with the in-degree, we define a column `in_degree_rep` in `people_target_paths`. Since we have 77 unique in-degree values, we decide to create 10 equally sized groups and map the in-degree values to these 10 groups."
   ]
  },
  {
   "cell_type": "code",
   "execution_count": 1262,
   "id": "ecaf6dff-084e-4bd5-829e-30367ea9275a",
   "metadata": {},
   "outputs": [],
   "source": [
    "people_target_paths[\"in_degree_rep\"] = pd.cut(people_target_paths[\"nr_link_in\"], bins=10, labels=np.arange(1,11,1))"
   ]
  },
  {
   "cell_type": "markdown",
   "id": "c06b5fa1-c544-4e37-9f97-7a4f0f2e17a7",
   "metadata": {},
   "source": [
    "We can now find all paths that have women-targets and all paths that have men-targets:"
   ]
  },
  {
   "cell_type": "code",
   "execution_count": 1263,
   "id": "7cdfa7a6-a80d-462d-aad4-0e50dd2e25a3",
   "metadata": {},
   "outputs": [
    {
     "name": "stdout",
     "output_type": "stream",
     "text": [
      "The number of paths that have women as a target article is 560\n"
     ]
    }
   ],
   "source": [
    "# find only targets that are women\n",
    "women_target_paths = people_target_paths[people_target_paths['gender'] == \"female\"]\n",
    "print(f\"The number of paths that have women as a target article is {len(women_target_paths)}\")"
   ]
  },
  {
   "cell_type": "code",
   "execution_count": 1264,
   "id": "c26a0c63-0eed-43f6-93f1-c0887b1c54c1",
   "metadata": {},
   "outputs": [
    {
     "name": "stdout",
     "output_type": "stream",
     "text": [
      "The number of paths that have men as a target article is 7187\n"
     ]
    }
   ],
   "source": [
    "# find only targets that are men\n",
    "men_target_paths = people_target_paths[people_target_paths['gender'] == \"male\"]\n",
    "print(f\"The number of paths that have men as a target article is {len(men_target_paths)}\")"
   ]
  },
  {
   "cell_type": "markdown",
   "id": "9a9ed473-0da4-4a6e-b4c4-bd806326bcd6",
   "metadata": {},
   "source": [
    "**A closer look of men vs. women articles**"
   ]
  },
  {
   "cell_type": "code",
   "execution_count": 1265,
   "id": "0d698478-263c-46b4-be5e-96fa94109dd1",
   "metadata": {},
   "outputs": [
    {
     "name": "stdout",
     "output_type": "stream",
     "text": [
      "Number of paths with a woman as a target 560 (7.23 % (of paths with a target related to a person))\n",
      "Number of paths with a man as a target 7187 (92.77 %)\n",
      "\n",
      "Number of finished paths with a woman as a target 347 (5.71%)\n",
      "Number of finished paths with a man as a target 5727 (94.29%)\n",
      "\n",
      "Number of unfinished paths with a woman as a target 213 (12.73%)\n",
      "Number of unfinished paths with a man as a target 1460 (87.27%)\n"
     ]
    }
   ],
   "source": [
    "women = len(people_target_paths[people_target_paths['gender'] == \"female\"])\n",
    "men = len(people_target_paths[people_target_paths['gender'] == \"male\"])\n",
    "women_finished = len(people_target_paths[(people_target_paths['gender'] == \"female\") & (people_target_paths['finished'] == True)])\n",
    "men_finished = len(people_target_paths[(people_target_paths['gender'] == \"male\") & (people_target_paths['finished'] == True)])\n",
    "women_unfinished = len(people_target_paths[(people_target_paths['gender'] == \"female\") & (people_target_paths['finished'] == False)])\n",
    "men_unfinished = len(people_target_paths[(people_target_paths['gender'] == \"male\") & (people_target_paths['finished'] == False)])\n",
    "\n",
    "print(f\"Number of paths with a woman as a target {women} ({(women/(women+men))*100:.2f} % (of paths with a target related to a person))\")\n",
    "print(f\"Number of paths with a man as a target {men} ({(men/(women+men))*100:.2f} %)\")\n",
    "print()\n",
    "print(f\"Number of finished paths with a woman as a target {women_finished} ({(women_finished/(women_finished+men_finished))*100:.2f}%)\")\n",
    "print(f\"Number of finished paths with a man as a target {men_finished} ({(men_finished/(women_finished+men_finished))*100:.2f}%)\")\n",
    "print()\n",
    "print(f\"Number of unfinished paths with a woman as a target {women_unfinished} ({(women_unfinished/(women_unfinished+men_unfinished))*100:.2f}%)\")\n",
    "print(f\"Number of unfinished paths with a man as a target {men_unfinished} ({(men_unfinished/(women_unfinished+men_unfinished))*100:.2f}%)\")"
   ]
  },
  {
   "cell_type": "code",
   "execution_count": 1266,
   "id": "a00a77d3-d6f0-430c-9d8a-d1f9dd8af91d",
   "metadata": {},
   "outputs": [
    {
     "data": {
      "image/png": "[encoded data removed]",
      "text/plain": [
       "<Figure size 432x288 with 1 Axes>"
      ]
     },
     "metadata": {
      "needs_background": "light"
     },
     "output_type": "display_data"
    }
   ],
   "source": [
    "ax = sns.countplot( data=people_target_paths, x = \"finished\", hue=\"gender\", \n",
    "                    order = [True,False], hue_order=[\"female\",\"male\"], palette = ['hotpink','deepskyblue'])\n",
    " \n",
    "ax.set_title('Number of paths that contain men vs. women as a target article')\n",
    "ax.set_ylabel(\"Number of paths\")\n",
    "ax.margins(y=0.1) # make room for the labels\n",
    "for bars in ax.containers:\n",
    "    ax.bar_label(bars, padding = 5)\n",
    "plt.tight_layout()\n",
    "plt.show()"
   ]
  },
  {
   "cell_type": "markdown",
   "id": "f7d58aab-f488-475f-9f14-b71649330027",
   "metadata": {},
   "source": [
    "To compute the success rate of finishing a path with a certain target article, we will count how many times a game with a certain target article was finished, and divide it with the total number of paths where it was the target:"
   ]
  },
  {
   "cell_type": "code",
   "execution_count": 1267,
   "id": "edd1e6bc-266c-428e-8d3d-59b7ea7b0cc2",
   "metadata": {},
   "outputs": [],
   "source": [
    "# count total, finished and unfinished number of times a target article was reached\n",
    "tot_target = people_target_paths.target.value_counts().rename(\"tot_target_count\")\n",
    "fin_target = people_target_paths[people_target_paths['finished'] == True].target.value_counts().rename(\"fin_target_count\")\n",
    "unf_target = people_target_paths[people_target_paths['finished'] == False].target.value_counts().rename(\"unf_target_count\")\n",
    "\n",
    "# add this information to the people dataframe\n",
    "people = people.merge(tot_target, how = \"left\",  left_on = \"name\", right_index = True)\n",
    "people = people.merge(unf_target, how = \"left\",  left_on = \"name\", right_index = True)\n",
    "people = people.merge(fin_target, how = \"left\",  left_on = \"name\", right_index = True)"
   ]
  },
  {
   "cell_type": "code",
   "execution_count": 1268,
   "id": "24275366-e697-4e0b-b799-e1557bfe08d9",
   "metadata": {},
   "outputs": [],
   "source": [
    "# compute success rate of finishing a path\n",
    "people['succ_rate'] = people['fin_target_count']/people['tot_target_count']"
   ]
  },
  {
   "cell_type": "code",
   "execution_count": 1269,
   "id": "f059d75c-6500-433f-a3cb-6f1d40840b3e",
   "metadata": {},
   "outputs": [],
   "source": [
    "people.to_csv(\"./data/people_overview.csv\")"
   ]
  },
  {
   "cell_type": "code",
   "execution_count": 1270,
   "id": "dc58e74d-ec34-4b19-88dc-372189006584",
   "metadata": {},
   "outputs": [
    {
     "data": {
      "text/html": [
       "<div>\n",
       "<style scoped>\n",
       "    .dataframe tbody tr th:only-of-type {\n",
       "        vertical-align: middle;\n",
       "    }\n",
       "\n",
       "    .dataframe tbody tr th {\n",
       "        vertical-align: top;\n",
       "    }\n",
       "\n",
       "    .dataframe thead th {\n",
       "        text-align: right;\n",
       "    }\n",
       "</style>\n",
       "<table border=\"1\" class=\"dataframe\">\n",
       "  <thead>\n",
       "    <tr style=\"text-align: right;\">\n",
       "      <th></th>\n",
       "      <th>name</th>\n",
       "      <th>category</th>\n",
       "      <th>gender</th>\n",
       "      <th>nr_link_out</th>\n",
       "      <th>nr_link_in</th>\n",
       "      <th>tot_target_count</th>\n",
       "      <th>unf_target_count</th>\n",
       "      <th>fin_target_count</th>\n",
       "      <th>succ_rate</th>\n",
       "    </tr>\n",
       "  </thead>\n",
       "  <tbody>\n",
       "    <tr>\n",
       "      <th>95</th>\n",
       "      <td>Abel_Tasman</td>\n",
       "      <td>Geographers_and_explorers</td>\n",
       "      <td>male</td>\n",
       "      <td>14</td>\n",
       "      <td>5</td>\n",
       "      <td>8.0</td>\n",
       "      <td>1.0</td>\n",
       "      <td>7.0</td>\n",
       "      <td>0.875000</td>\n",
       "    </tr>\n",
       "    <tr>\n",
       "      <th>105</th>\n",
       "      <td>Abraham_Lincoln</td>\n",
       "      <td>USA_Presidents</td>\n",
       "      <td>male</td>\n",
       "      <td>35</td>\n",
       "      <td>62</td>\n",
       "      <td>36.0</td>\n",
       "      <td>1.0</td>\n",
       "      <td>35.0</td>\n",
       "      <td>0.972222</td>\n",
       "    </tr>\n",
       "    <tr>\n",
       "      <th>129</th>\n",
       "      <td>Adam_Smith</td>\n",
       "      <td>Historical_figures</td>\n",
       "      <td>male</td>\n",
       "      <td>27</td>\n",
       "      <td>38</td>\n",
       "      <td>10.0</td>\n",
       "      <td>1.0</td>\n",
       "      <td>9.0</td>\n",
       "      <td>0.900000</td>\n",
       "    </tr>\n",
       "    <tr>\n",
       "      <th>134</th>\n",
       "      <td>Adolf_Hitler</td>\n",
       "      <td>Political_People</td>\n",
       "      <td>male</td>\n",
       "      <td>78</td>\n",
       "      <td>109</td>\n",
       "      <td>644.0</td>\n",
       "      <td>41.0</td>\n",
       "      <td>603.0</td>\n",
       "      <td>0.936335</td>\n",
       "    </tr>\n",
       "    <tr>\n",
       "      <th>159</th>\n",
       "      <td>Agamemnon</td>\n",
       "      <td>Historical_figures</td>\n",
       "      <td>male</td>\n",
       "      <td>11</td>\n",
       "      <td>9</td>\n",
       "      <td>23.0</td>\n",
       "      <td>4.0</td>\n",
       "      <td>19.0</td>\n",
       "      <td>0.826087</td>\n",
       "    </tr>\n",
       "    <tr>\n",
       "      <th>...</th>\n",
       "      <td>...</td>\n",
       "      <td>...</td>\n",
       "      <td>...</td>\n",
       "      <td>...</td>\n",
       "      <td>...</td>\n",
       "      <td>...</td>\n",
       "      <td>...</td>\n",
       "      <td>...</td>\n",
       "      <td>...</td>\n",
       "    </tr>\n",
       "    <tr>\n",
       "      <th>5188</th>\n",
       "      <td>Zhang_Qian</td>\n",
       "      <td>Historical_figures</td>\n",
       "      <td>male</td>\n",
       "      <td>19</td>\n",
       "      <td>3</td>\n",
       "      <td>1.0</td>\n",
       "      <td>1.0</td>\n",
       "      <td>NaN</td>\n",
       "      <td>NaN</td>\n",
       "    </tr>\n",
       "    <tr>\n",
       "      <th>5190</th>\n",
       "      <td>Zheng_He</td>\n",
       "      <td>Historical_figures</td>\n",
       "      <td>male</td>\n",
       "      <td>39</td>\n",
       "      <td>8</td>\n",
       "      <td>7.0</td>\n",
       "      <td>2.0</td>\n",
       "      <td>5.0</td>\n",
       "      <td>0.714286</td>\n",
       "    </tr>\n",
       "    <tr>\n",
       "      <th>5191</th>\n",
       "      <td>Ziad_Jarrah</td>\n",
       "      <td>Historical_figures</td>\n",
       "      <td>male</td>\n",
       "      <td>25</td>\n",
       "      <td>1</td>\n",
       "      <td>11.0</td>\n",
       "      <td>6.0</td>\n",
       "      <td>5.0</td>\n",
       "      <td>0.454545</td>\n",
       "    </tr>\n",
       "    <tr>\n",
       "      <th>5197</th>\n",
       "      <td>Zionism</td>\n",
       "      <td>Political_People</td>\n",
       "      <td>male</td>\n",
       "      <td>74</td>\n",
       "      <td>25</td>\n",
       "      <td>12.0</td>\n",
       "      <td>2.0</td>\n",
       "      <td>10.0</td>\n",
       "      <td>0.833333</td>\n",
       "    </tr>\n",
       "    <tr>\n",
       "      <th>5200</th>\n",
       "      <td>Zoroaster</td>\n",
       "      <td>Religious_figures_and_leaders</td>\n",
       "      <td>male</td>\n",
       "      <td>28</td>\n",
       "      <td>9</td>\n",
       "      <td>5.0</td>\n",
       "      <td>1.0</td>\n",
       "      <td>4.0</td>\n",
       "      <td>0.800000</td>\n",
       "    </tr>\n",
       "  </tbody>\n",
       "</table>\n",
       "<p>621 rows × 9 columns</p>\n",
       "</div>"
      ],
      "text/plain": [
       "                 name                       category gender  nr_link_out  \\\n",
       "95        Abel_Tasman      Geographers_and_explorers   male           14   \n",
       "105   Abraham_Lincoln                 USA_Presidents   male           35   \n",
       "129        Adam_Smith             Historical_figures   male           27   \n",
       "134      Adolf_Hitler               Political_People   male           78   \n",
       "159         Agamemnon             Historical_figures   male           11   \n",
       "...               ...                            ...    ...          ...   \n",
       "5188       Zhang_Qian             Historical_figures   male           19   \n",
       "5190         Zheng_He             Historical_figures   male           39   \n",
       "5191      Ziad_Jarrah             Historical_figures   male           25   \n",
       "5197          Zionism               Political_People   male           74   \n",
       "5200        Zoroaster  Religious_figures_and_leaders   male           28   \n",
       "\n",
       "      nr_link_in  tot_target_count  unf_target_count  fin_target_count  \\\n",
       "95             5               8.0               1.0               7.0   \n",
       "105           62              36.0               1.0              35.0   \n",
       "129           38              10.0               1.0               9.0   \n",
       "134          109             644.0              41.0             603.0   \n",
       "159            9              23.0               4.0              19.0   \n",
       "...          ...               ...               ...               ...   \n",
       "5188           3               1.0               1.0               NaN   \n",
       "5190           8               7.0               2.0               5.0   \n",
       "5191           1              11.0               6.0               5.0   \n",
       "5197          25              12.0               2.0              10.0   \n",
       "5200           9               5.0               1.0               4.0   \n",
       "\n",
       "      succ_rate  \n",
       "95     0.875000  \n",
       "105    0.972222  \n",
       "129    0.900000  \n",
       "134    0.936335  \n",
       "159    0.826087  \n",
       "...         ...  \n",
       "5188        NaN  \n",
       "5190   0.714286  \n",
       "5191   0.454545  \n",
       "5197   0.833333  \n",
       "5200   0.800000  \n",
       "\n",
       "[621 rows x 9 columns]"
      ]
     },
     "execution_count": 1270,
     "metadata": {},
     "output_type": "execute_result"
    }
   ],
   "source": [
    "people"
   ]
  },
  {
   "cell_type": "markdown",
   "id": "ef8fd856-03e3-4de5-9319-141329c740d2",
   "metadata": {
    "tags": []
   },
   "source": [
    "## **Statistical analysis**"
   ]
  },
  {
   "cell_type": "markdown",
   "id": "f72be223-36bd-4dfc-a109-d47a59133c96",
   "metadata": {
    "jp-MarkdownHeadingCollapsed": true,
    "tags": []
   },
   "source": [
    "### **Naive analysis** "
   ]
  },
  {
   "cell_type": "markdown",
   "id": "dccaeb7b-c311-4a32-9c66-fd38ee689549",
   "metadata": {},
   "source": [
    "The first step of our data analysis will be a naive statistical analysis, where we will check for differences in the following metrics:\n",
    "\n",
    "- **success_rate**\n",
    "- **in_degree**\n",
    "- **playtime**\n",
    "- **path_deviation**\n",
    "- **number_backclicks** \n",
    "- **difficulty_rating**\n",
    "\n",
    "These differences will be checked for significance using bootstrap confidence intervals."
   ]
  },
  {
   "attachments": {},
   "cell_type": "markdown",
   "id": "abceac88-2753-454e-9bf3-d2b0709e75dd",
   "metadata": {},
   "source": [
    "To do so, we define a function `bootstrap_metric` that returns the estimated arithmetic mean, geometric mean of a metric and finds the confidence interval of the estimated value. "
   ]
  },
  {
   "cell_type": "code",
   "execution_count": 1271,
   "id": "67d5e06b-8dab-44e7-a4fc-a1f6b892b2af",
   "metadata": {},
   "outputs": [],
   "source": [
    "def bootstrap_metric(metric, dataframe:pd.DataFrame, gender, summary:pd.DataFrame = pd.DataFrame(), \n",
    "                     estimator = \"Geometric\", remove_zero = True, ci = 0.9):\n",
    "    '''\n",
    "    Find the estimated mean (arithmetic or geometric) or median of a metric and the ci*100% CI.\n",
    "    :param metric: metric to be estimated\n",
    "    :param dataframe: from which dataframe the metric comes from\n",
    "    :param gender: gender of article, \"male\" or \"female\"\n",
    "    :param summary:pd.DataFrame = pd.DataFrame(): a summary dataframe\n",
    "    :param estimator: default value is Geometric, but one can also find the Arithmetic mean or the Median\n",
    "    :param remove_zero: default value is True, so all zero values of the metric are removed from the dataframe\n",
    "    :param ci: default value is 0.90, so the 90% CI of the estimate would be found\n",
    "    :return: the estimated mean and the ci*100% CI\n",
    "    '''\n",
    "    if remove_zero:\n",
    "        # Since the geometric mean is only defined for strictly positive data points we enable the option to remove the zeros. \n",
    "        dataframe = dataframe[dataframe[metric] > 0]\n",
    "        data = dataframe[dataframe[\"gender\"]== gender][metric]\n",
    "    else:\n",
    "        data = dataframe[dataframe[\"gender\"]== gender][metric]\n",
    "    \n",
    "    data_bootstrap = (data.dropna().to_numpy(),)\n",
    "    \n",
    "    if estimator ==\"Geometric\":\n",
    "        geom_mean = stats.gmean(data.dropna().to_numpy(), dtype=None)\n",
    "        print(f\"{gender}: Geometric mean: {geom_mean}\")\n",
    "    \n",
    "        # estimating the ci% CI of the geometric mean of the metric\n",
    "        res_bootstrap_gm = stats.bootstrap(data_bootstrap, stats.gmean, confidence_level=ci)\n",
    "        print(f\"{gender}: {ci*100}% confidence interval of the geometric mean of {metric}: [{res_bootstrap_gm.confidence_interval[0]:.3f}, \"\n",
    "          f\"{res_bootstrap_gm.confidence_interval[1]:.3f}]\")\n",
    "\n",
    "        # add information to summary if dataframe is supplied\n",
    "        if not summary.columns.empty:\n",
    "          new_row = pd.Series({'gender': gender, \"gmean\": geom_mean, \"ci_0\": res_bootstrap_gm.confidence_interval[0],\n",
    "                                    'ci_1': res_bootstrap_gm.confidence_interval[1], \"metric\": metric})\n",
    "          summary = pd.concat([summary, new_row.to_frame().T], ignore_index=True)\n",
    "        \n",
    "        return geom_mean, summary\n",
    "\n",
    "    elif estimator == \"Arithmetic\":\n",
    "        arith_mean = data.mean()\n",
    "        print(f\"{gender}: Arithmetic mean: {arith_mean}\")\n",
    "    \n",
    "        # estimating the ci% CI of the arithmetic mean of the metric\n",
    "        res_bootstrap_am = stats.bootstrap(data_bootstrap, np.mean, confidence_level=ci)\n",
    "        print(f\"{gender}: {ci*100}% confidence interval of the arithmetic mean of {metric}: [{res_bootstrap_am.confidence_interval[0]:.3f}, \"\n",
    "          f\"{res_bootstrap_am.confidence_interval[1]:.3f}]\")\n",
    "        return arith_mean, summary"
   ]
  },
  {
   "attachments": {},
   "cell_type": "markdown",
   "id": "08e84cc4-0b05-4061-8014-6e5c9f0f9729",
   "metadata": {},
   "source": [
    "Next we define a helper function that plots two histograms on the same plot:"
   ]
  },
  {
   "cell_type": "code",
   "execution_count": 1272,
   "id": "473ded11-eca7-40c0-bcbd-c5c45ad8fe1d",
   "metadata": {},
   "outputs": [],
   "source": [
    "def plot_2_dist(column, dataframe, bins = np.array([]), my_title = \"\", my_xlabel = \"\", my_ylabel = \"\", xlog=False, ylog=False):\n",
    "    '''\n",
    "    Plot two histograms with a vertical line that describes the median of the metric.\n",
    "    :param column: metric to be plotted\n",
    "    :param dataframe: from which dataframe the metric comes from\n",
    "    :param bins: number of bins\n",
    "    :param my_title: set the title of the plot\n",
    "    :param my_xlabel: set the x label of the plot\n",
    "    :param my_ylabel: set the y label of the plot\n",
    "    :param xlog: set to True if you wish to plot the histogram with a log-scale on x-axis\n",
    "    :param ylog: set to True if you wish to plot the histogram with a log-scale on y-axis\n",
    "    :return: plot\n",
    "    '''\n",
    "    female = dataframe[dataframe[\"gender\"]== \"female\"][column]\n",
    "    male = dataframe[dataframe[\"gender\"]== \"male\"][column]\n",
    "    \n",
    "    \n",
    "    if bins.size == 0:\n",
    "        bins = np.arange(min(female)-0.5, max(female) + 0.5, 1)\n",
    "    # plot the male distribution of the metric\n",
    "    plt.hist(male, \n",
    "            color = 'tab:blue', edgecolor = 'black', linewidth = 0.5, alpha=0.5,\n",
    "            bins= bins, label =\"male\")\n",
    "    # plot the female distribution of the metric\n",
    "    plt.hist(female, \n",
    "            color = 'tab:red', edgecolor = 'black', linewidth = 0.5, alpha=0.5, \n",
    "            bins= bins, label =\"female\")\n",
    "    plt.xlabel(my_xlabel)\n",
    "    plt.ylabel(my_ylabel)\n",
    "    if ylog:\n",
    "        plt.yscale('log')\n",
    "    if xlog:\n",
    "        plt.xscale('log')\n",
    "    plt.title(my_title)\n",
    "    # add a vertical line that describes the geometric mean of the metric\n",
    "\n",
    "    \n",
    "    plt.axvline(stats.gmean(female),color=\"tab:red\", label= \"gmean female\")\n",
    "    plt.axvline(stats.gmean(male), color=\"tab:blue\", label= \"gmean male\")\n",
    "\n",
    "    plt.legend()\n",
    "    plt.show()"
   ]
  },
  {
   "attachments": {},
   "cell_type": "markdown",
   "id": "682d6a16",
   "metadata": {},
   "source": [
    "Defining a function that can create the summary figure. This figure represents the findings of comparing the geometric means of the different metrics. We use a logaritmic scale in order to represent all the metrics in one plot. Since we are only interested in seeing if the difference is significant and not on the size of the confidence interval, we accept the fact that the sizes are not directly comparable. "
   ]
  },
  {
   "cell_type": "code",
   "execution_count": 1273,
   "id": "0b49e0b7",
   "metadata": {},
   "outputs": [],
   "source": [
    "def summary_figure(summary:pd.DataFrame, nr_datapoints:str, matched_on:str, filename:str, opacity = [1,1,1,1,1]):\n",
    "    '''\n",
    "    Plot the summary figure, depending on the summary dataframe, and filling out the labels accordingly\n",
    "    :params summary:pd.DataFrame: data to be displayed\n",
    "    :params nr_datapoints: how many datapoints were used to compute the metrics\n",
    "    :params matched_on: complete the title\n",
    "    :params filename: set the filename, for the folder datastory_plot\n",
    "    :params: opacity: define which metrics are significant, significant should be one, insignificant 0.4\n",
    "    '''\n",
    "\n",
    "\n",
    "    summary[\"gmean\"]= summary[\"gmean\"].apply(lambda x: np.round(x,3))\n",
    "    summary[\"ci_0\"]= summary[\"ci_0\"].apply(lambda x: np.round(x,3))\n",
    "    summary[\"ci_1\"]= summary[\"ci_1\"].apply(lambda x: np.round(x,3))\n",
    "    summary[\"plus_error\"] = summary[\"ci_1\"] - summary[\"gmean\"]\n",
    "    summary[\"minus_error\"] = summary[\"gmean\"]- summary[\"ci_0\"]\n",
    "    \n",
    "    fig = go.Figure()\n",
    "    fig.add_trace(go.Bar(\n",
    "        name='female',\n",
    "        x=summary[summary[\"gender\"] ==\"female\"][\"metric\"],\n",
    "        y=summary[summary[\"gender\"] ==\"female\"][\"gmean\"],\n",
    "        error_y=dict(type='data', \n",
    "                    array=summary[summary[\"gender\"] ==\"female\"][\"plus_error\"],\n",
    "                    arrayminus=summary[summary[\"gender\"] ==\"female\"][\"minus_error\"]\n",
    "                    ),\n",
    "        marker=dict(color=[\"hotpink\", \"hotpink\", \"hotpink\", \"hotpink\", \"hotpink\", \"hotpink\"],opacity=opacity)  \n",
    "        \n",
    "    ))\n",
    "    fig.add_trace(go.Bar(\n",
    "        name='male',\n",
    "        x=summary[summary[\"gender\"] ==\"male\"][\"metric\"],\n",
    "        y=summary[summary[\"gender\"] ==\"male\"][\"gmean\"],\n",
    "        error_y=dict(type='data',\n",
    "                    array=summary[summary[\"gender\"] ==\"male\"][\"plus_error\"],\n",
    "                    arrayminus=summary[summary[\"gender\"] ==\"male\"][\"minus_error\"]),\n",
    "        marker=dict(color=[\"skyblue\", \"skyblue\", \"skyblue\", \"skyblue\", \"skyblue\", \"skyblue\"],opacity=opacity)  \n",
    "    ))\n",
    "\n",
    "    fig.update_traces(hovertemplate='Geometric mean: %{y}')\n",
    "\n",
    "    \n",
    "    fig.update_layout(title=go.layout.Title(\n",
    "                        text=f\"Comparison of the geometric mean for articles matched on {matched_on}<br><sup>Error bars: CI (90%), number of matched articles: {nr_datapoints}</sup>\",\n",
    "                        xref=\"paper\",\n",
    "                        x=0),\n",
    "                        barmode='group', \n",
    "                        template = \"simple_white\",\n",
    "                        xaxis_title=\"Metrics\",\n",
    "                        yaxis_title=\"Geometric mean (log-scale)\",\n",
    "                        legend_title = \"Gender\",\n",
    "                        font=dict(\n",
    "                            family=\"Times New Roman, serif\",\n",
    "                            color=\"#404040\"\n",
    "                        ))\n",
    "    fig.update_yaxes(type=\"log\")\n",
    "\n",
    "    fig.show()\n",
    "    fig.write_html(f\"datastory_plot/{filename}.html\", full_html=False, include_plotlyjs='cdn')"
   ]
  },
  {
   "cell_type": "markdown",
   "id": "b49319f5-610b-43ac-99c8-fd8bbd1e4ece",
   "metadata": {},
   "source": [
    "#### **Success rate**"
   ]
  },
  {
   "attachments": {},
   "cell_type": "markdown",
   "id": "957fb44a",
   "metadata": {},
   "source": [
    "For each of the following analyses we follow the same procedure, going through all the metrics and comparing the geometric mean and the confidence interval. On the basis of the confidence intervals, we then decide whether the difference in mean between women and men can be considered significant."
   ]
  },
  {
   "cell_type": "code",
   "execution_count": 1274,
   "id": "b60a1df1-f3dd-4232-b441-e863007bd9b8",
   "metadata": {},
   "outputs": [
    {
     "name": "stdout",
     "output_type": "stream",
     "text": [
      "female: Geometric mean: 0.6068480390130131\n",
      "female: 90.0% confidence interval of the geometric mean of succ_rate: [0.505, 0.688]\n",
      "male: Geometric mean: 0.7758441073276038\n",
      "male: 90.0% confidence interval of the geometric mean of succ_rate: [0.747, 0.798]\n"
     ]
    }
   ],
   "source": [
    "naive_summary = pd.DataFrame(data=[], columns=[\"metric\",\"gender\", \"gmean\", \"ci_0\", \"ci_1\"])\n",
    "wsuccessrate_mean, naive_summary = bootstrap_metric(\"succ_rate\", people, \"female\", estimator = 'Geometric', remove_zero=True, ci = 0.9, summary= naive_summary)\n",
    "msuccessrate_mean, naive_summary = bootstrap_metric(\"succ_rate\", people, \"male\", estimator = 'Geometric', remove_zero=True, ci = 0.9, summary= naive_summary)"
   ]
  },
  {
   "attachments": {},
   "cell_type": "markdown",
   "id": "abeb9132-6b90-43c2-aec1-fa7c174b7f76",
   "metadata": {},
   "source": [
    "The fact that the two confidence intervals do not overlap implies that there is a significant difference in the success rate of these two groups."
   ]
  },
  {
   "attachments": {},
   "cell_type": "markdown",
   "id": "f740b093",
   "metadata": {},
   "source": [
    "For a more intuitive feeling we also always take a look at the distribution of the the two groups. "
   ]
  },
  {
   "cell_type": "code",
   "execution_count": 1275,
   "id": "fe300ec2-56e5-4620-96df-465fb9da053e",
   "metadata": {},
   "outputs": [
    {
     "data": {
      "image/png": "[encoded data removed]",
      "text/plain": [
       "<Figure size 432x288 with 1 Axes>"
      ]
     },
     "metadata": {
      "needs_background": "light"
     },
     "output_type": "display_data"
    }
   ],
   "source": [
    "plot_2_dist(\"succ_rate\", people, bins= np.arange(0-0.05,1+0.15,0.1),my_title=\"Distribution of success rate\", my_xlabel=\"Success Rate\", my_ylabel=\"Counts\")"
   ]
  },
  {
   "cell_type": "markdown",
   "id": "986f2990-5ac7-494b-a8b6-070c5da7d9e0",
   "metadata": {
    "jp-MarkdownHeadingCollapsed": true,
    "tags": []
   },
   "source": [
    "#### A few distribution plots for success rate with respect to the categories:"
   ]
  },
  {
   "cell_type": "markdown",
   "id": "d7d2c8d4-1f98-4a2f-b44a-8fe6c8d8888a",
   "metadata": {},
   "source": [
    "For curiosity's sake, we would like to visualize the distribution of success within the male and female groups and for each of the categories:"
   ]
  },
  {
   "cell_type": "code",
   "execution_count": 1276,
   "id": "918ecd80-8456-465d-bbf8-7ea1eeea8bf2",
   "metadata": {},
   "outputs": [
    {
     "data": {
      "image/png": "[encoded data removed]",
      "text/plain": [
       "<Figure size 720x432 with 12 Axes>"
      ]
     },
     "metadata": {
      "needs_background": "light"
     },
     "output_type": "display_data"
    }
   ],
   "source": [
    "import warnings\n",
    "warnings.filterwarnings(\"ignore\")\n",
    "women_by_cat = people[people[\"gender\"]== \"female\"].groupby('category').apply(lambda x: pd.Series({\n",
    "        'succ_rate': x['succ_rate'].values\n",
    "    }))\n",
    "\n",
    "fig, ax = plt.subplots(3,4, figsize= (10,6), sharey = True, sharex = True)\n",
    "\n",
    "for i in range(12):\n",
    "    sbplt = ax[i%3, math.floor(i/3)]\n",
    "    sbplt.hist(women_by_cat.iloc[i].values, bins = np.arange(0-0.05,1+0.15,0.1), color = 'tab:red', edgecolor = 'black', linewidth = 0.5, alpha=0.8)\n",
    "    sbplt.set_title(women_by_cat.index[i])\n",
    "    \n",
    "fig.tight_layout()\n",
    "\n",
    "fig.text(0.3,0, \"Success rate of reaching a women article in a corresponding category\")\n",
    "fig.text(0,0.3, \"Number of women\", rotation = 90)\n",
    "plt.show()"
   ]
  },
  {
   "cell_type": "code",
   "execution_count": 1277,
   "id": "939f7e49-0a9e-481f-9484-4df37b947571",
   "metadata": {},
   "outputs": [
    {
     "data": {
      "image/png": "[encoded data removed]",
      "text/plain": [
       "<Figure size 720x432 with 20 Axes>"
      ]
     },
     "metadata": {
      "needs_background": "light"
     },
     "output_type": "display_data"
    }
   ],
   "source": [
    "warnings.filterwarnings(\"ignore\")\n",
    "men_by_cat = people[people[\"gender\"]== \"male\"].groupby('category').apply(lambda x: pd.Series({\n",
    "        'succ_rate': x['succ_rate'].values\n",
    "    }))\n",
    "\n",
    "fig, ax = plt.subplots(5,4,figsize= (10,6), sharey = True, sharex = True)\n",
    "\n",
    "for i in range(20):\n",
    "    sbplt = ax[i%5, math.floor(i/5)]\n",
    "    sbplt.hist(men_by_cat.iloc[i].values, bins = np.arange(0-0.05,1+0.15,0.1), color = 'tab:blue', edgecolor = 'black', linewidth = 0.5, alpha=0.8)\n",
    "    sbplt.set_title(men_by_cat.index[i])\n",
    "    \n",
    "fig.tight_layout()\n",
    "\n",
    "fig.text(0.3,0, \"Success rate of reaching a men article in a corresponding category\")\n",
    "fig.text(0,0.3, \"Number of men\", rotation = 90)\n",
    "plt.show()"
   ]
  },
  {
   "cell_type": "markdown",
   "id": "5ef99d4e-f2b6-4b28-ad5c-2f06ae714cdf",
   "metadata": {},
   "source": [
    "#### **Playtime**"
   ]
  },
  {
   "attachments": {},
   "cell_type": "markdown",
   "id": "5c137fde",
   "metadata": {},
   "source": [
    "After the success rate, we look at the playtime in minutes. Since a time is only valid as a playtime if the path was finished, we are looking at a a filtered dataset, with only finished paths. "
   ]
  },
  {
   "cell_type": "markdown",
   "id": "74aca711-e3cb-494e-b9e7-a6bc5419c9e2",
   "metadata": {},
   "source": [
    "**Playtime of finished articles**"
   ]
  },
  {
   "cell_type": "code",
   "execution_count": 1278,
   "id": "d1b92f75-c147-482f-8fe0-1ea63efb2138",
   "metadata": {},
   "outputs": [
    {
     "name": "stdout",
     "output_type": "stream",
     "text": [
      "female: Geometric mean: 2.384064549174565\n",
      "female: 90.0% confidence interval of the geometric mean of playtime_min: [2.213, 2.573]\n",
      "male: Geometric mean: 1.686718392076239\n",
      "male: 90.0% confidence interval of the geometric mean of playtime_min: [1.656, 1.718]\n"
     ]
    }
   ],
   "source": [
    "wplaytimemin_mean, naive_summary = bootstrap_metric(\"playtime_min\", people_target_paths[people_target_paths[\"finished\"] == True], \"female\", \n",
    "                                  estimator = 'Geometric', ci = 0.9, summary= naive_summary)\n",
    "mplaytimemin_mean, naive_summary = bootstrap_metric(\"playtime_min\", people_target_paths[people_target_paths[\"finished\"] == True], \"male\", \n",
    "                                  estimator = 'Geometric', ci = 0.9, summary= naive_summary)"
   ]
  },
  {
   "cell_type": "code",
   "execution_count": 1279,
   "id": "a4093f7b-a828-40e0-b5c9-3dcbdbd80de5",
   "metadata": {},
   "outputs": [
    {
     "data": {
      "image/png": "[encoded data removed]",
      "text/plain": [
       "<Figure size 432x288 with 1 Axes>"
      ]
     },
     "metadata": {
      "needs_background": "light"
     },
     "output_type": "display_data"
    }
   ],
   "source": [
    "plot_2_dist(\"playtime_min\", people_target_paths[people_target_paths[\"finished\"] == True], \n",
    "            my_title=\"Distribution of playtime\", my_xlabel=\"Playtime [min]\", my_ylabel=\"Counts\", ylog=True, xlog=False)"
   ]
  },
  {
   "cell_type": "markdown",
   "id": "29597ece-53e1-42fd-9117-38e5769e9689",
   "metadata": {},
   "source": [
    "#### **Path deviation**"
   ]
  },
  {
   "attachments": {},
   "cell_type": "markdown",
   "id": "df641761",
   "metadata": {},
   "source": [
    "The next step concerns the path deviation. As explained earlier it is the difference between the shortest possible path and the human path. We have decided to only use this metric on finished paths. "
   ]
  },
  {
   "cell_type": "markdown",
   "id": "2fc92be7-e3c1-49c6-8df6-a9f17b86fa9f",
   "metadata": {},
   "source": [
    "**Path deviation of finished articles**"
   ]
  },
  {
   "cell_type": "code",
   "execution_count": 1280,
   "id": "4b4529de-1c57-4355-ba0e-3b819d830dea",
   "metadata": {},
   "outputs": [
    {
     "name": "stdout",
     "output_type": "stream",
     "text": [
      "female: Geometric mean: 3.1422912007889443\n",
      "female: 90.0% confidence interval of the geometric mean of path_deviation: [2.924, 3.377]\n",
      "male: Geometric mean: 2.6369112781430974\n",
      "male: 90.0% confidence interval of the geometric mean of path_deviation: [2.596, 2.679]\n"
     ]
    }
   ],
   "source": [
    "wpathdev_mean, naive_summary = bootstrap_metric(\"path_deviation\", people_target_paths[people_target_paths[\"finished\"] == True], \n",
    "                                 \"female\", estimator = 'Geometric', remove_zero = False, ci = 0.9, summary= naive_summary)\n",
    "\n",
    "mpathdev_mean, naive_summary = bootstrap_metric(\"path_deviation\", people_target_paths[people_target_paths[\"finished\"] == True], \n",
    "                                 \"male\", estimator = 'Geometric', remove_zero = False, ci = 0.9, summary= naive_summary)"
   ]
  },
  {
   "cell_type": "code",
   "execution_count": 1281,
   "id": "191e3531-2dc6-4e1f-823d-371954ca8061",
   "metadata": {},
   "outputs": [
    {
     "data": {
      "image/png": "[encoded data removed]",
      "text/plain": [
       "<Figure size 432x288 with 1 Axes>"
      ]
     },
     "metadata": {
      "needs_background": "light"
     },
     "output_type": "display_data"
    }
   ],
   "source": [
    "plot_2_dist(\"path_deviation\", people_target_paths[people_target_paths[\"finished\"] == True], \n",
    "            my_title=\"Distribution of path deviation\", my_xlabel=\"Path deviation\", my_ylabel=\"Counts\", ylog=True)"
   ]
  },
  {
   "cell_type": "markdown",
   "id": "910456fc-1711-4d78-99d9-6805cbe4fa50",
   "metadata": {},
   "source": [
    "#### **In-degree**"
   ]
  },
  {
   "attachments": {},
   "cell_type": "markdown",
   "id": "324058ce",
   "metadata": {},
   "source": [
    "The in-degree shows topology-related bias. If there is a significant difference between the two, it is harder to reach a female target article then a male one. "
   ]
  },
  {
   "cell_type": "code",
   "execution_count": 1282,
   "id": "9c7b90ed",
   "metadata": {},
   "outputs": [
    {
     "name": "stdout",
     "output_type": "stream",
     "text": [
      "female: Geometric mean: 6.23063003703265\n",
      "female: 90.0% confidence interval of the geometric mean of nr_link_in: [4.809, 8.274]\n",
      "male: Geometric mean: 9.601510226110804\n",
      "male: 90.0% confidence interval of the geometric mean of nr_link_in: [8.907, 10.401]\n"
     ]
    }
   ],
   "source": [
    "wlink_in, naive_summary = bootstrap_metric(\"nr_link_in\", people, \"female\", estimator = 'Geometric', ci = 0.9, summary= naive_summary)\n",
    "mlink_in, naive_summary = bootstrap_metric(\"nr_link_in\", people, \"male\", estimator = 'Geometric', ci = 0.9, summary= naive_summary)"
   ]
  },
  {
   "cell_type": "code",
   "execution_count": 1283,
   "id": "5b0b0a9e",
   "metadata": {},
   "outputs": [
    {
     "data": {
      "image/png": "[encoded data removed]",
      "text/plain": [
       "<Figure size 432x288 with 1 Axes>"
      ]
     },
     "metadata": {
      "needs_background": "light"
     },
     "output_type": "display_data"
    }
   ],
   "source": [
    "plot_2_dist(\"nr_link_in\", people_target_paths,\n",
    "            my_title=\"Distribution of the in degree of the article\", my_xlabel=\"In Degree\", my_ylabel=\"Counts\", ylog=True)"
   ]
  },
  {
   "cell_type": "markdown",
   "id": "939bde98-ffcc-43e6-a083-9e7d7f3552be",
   "metadata": {},
   "source": [
    "#### **Number of back clicks**"
   ]
  },
  {
   "attachments": {},
   "cell_type": "markdown",
   "id": "60df833b",
   "metadata": {},
   "source": [
    "By looking at this metric, we want to check whether the players have to go back more often on their way to a female article. The number of back clicks takes a closer look at long paths. "
   ]
  },
  {
   "cell_type": "code",
   "execution_count": 1284,
   "id": "3f80e42c-1e0f-4186-8afd-56e609fb34db",
   "metadata": {},
   "outputs": [
    {
     "name": "stdout",
     "output_type": "stream",
     "text": [
      "female: Geometric mean: 1.7940964206248158\n",
      "female: 90.0% confidence interval of the geometric mean of number_backclicks: [1.646, 1.980]\n",
      "male: Geometric mean: 1.7091503765956244\n",
      "male: 90.0% confidence interval of the geometric mean of number_backclicks: [1.655, 1.768]\n"
     ]
    }
   ],
   "source": [
    "wback_mean, naive_summary = bootstrap_metric(\"number_backclicks\", people_target_paths, \"female\", estimator = 'Geometric', ci = 0.9, summary= naive_summary)\n",
    "mback_mean, naive_summary = bootstrap_metric(\"number_backclicks\", people_target_paths, \"male\", estimator = 'Geometric', ci = 0.9, summary= naive_summary)"
   ]
  },
  {
   "cell_type": "code",
   "execution_count": 1285,
   "id": "b6596a69-ffe3-453e-b28b-8ce4441e4283",
   "metadata": {},
   "outputs": [
    {
     "data": {
      "image/png": "[encoded data removed]",
      "text/plain": [
       "<Figure size 432x288 with 1 Axes>"
      ]
     },
     "metadata": {
      "needs_background": "light"
     },
     "output_type": "display_data"
    }
   ],
   "source": [
    "plot_2_dist(\"number_backclicks\", people_target_paths, \n",
    "            my_title=\"Distribution of the number of back clicks\", my_xlabel=\"Number of back clicks\", my_ylabel=\"Counts\", ylog = True)"
   ]
  },
  {
   "attachments": {},
   "cell_type": "markdown",
   "id": "42d6ee82",
   "metadata": {},
   "source": [
    "The number of backclicks is not significant, even if you look at all the people articles we have. "
   ]
  },
  {
   "cell_type": "markdown",
   "id": "6964565d-cc07-405d-b40a-73b1348059d2",
   "metadata": {
    "tags": []
   },
   "source": [
    "#### **Difficulty rating**"
   ]
  },
  {
   "cell_type": "markdown",
   "id": "e603682b-304a-4d2f-a5ce-1e2ccbc366ab",
   "metadata": {},
   "source": [
    "**Difficulty rating of finished articles**"
   ]
  },
  {
   "cell_type": "code",
   "execution_count": 1286,
   "id": "b03afda6-2e8d-4791-be72-b09d5b6a9235",
   "metadata": {},
   "outputs": [
    {
     "name": "stdout",
     "output_type": "stream",
     "text": [
      "female: Geometric mean: 2.2019182366215433\n",
      "female: 90.0% confidence interval of the geometric mean of difficulty_rating: [2.082, 2.323]\n",
      "male: Geometric mean: 1.9633108018710008\n",
      "male: 90.0% confidence interval of the geometric mean of difficulty_rating: [1.934, 1.992]\n"
     ]
    }
   ],
   "source": [
    "wdiffrating_mean, naive_summary = bootstrap_metric(\"difficulty_rating\", people_target_paths[people_target_paths[\"finished\"] == True], \"female\",\n",
    "                                   estimator = 'Geometric', ci = 0.9, summary= naive_summary)\n",
    "\n",
    "mdiffrating_mean, naive_summary = bootstrap_metric(\"difficulty_rating\", people_target_paths[people_target_paths[\"finished\"] == True], \"male\",\n",
    "                                   estimator = 'Geometric', ci = 0.9, summary= naive_summary)"
   ]
  },
  {
   "cell_type": "code",
   "execution_count": 1287,
   "id": "13758961-f906-4419-b217-476f84c67c2f",
   "metadata": {},
   "outputs": [
    {
     "data": {
      "image/png": "[encoded data removed]",
      "text/plain": [
       "<Figure size 432x288 with 1 Axes>"
      ]
     },
     "metadata": {
      "needs_background": "light"
     },
     "output_type": "display_data"
    }
   ],
   "source": [
    "plot_2_dist(\"difficulty_rating\", people_target_paths[people_target_paths[\"finished\"] == True], bins=np.arange(1-0.25,5+0.25,0.5),\n",
    "            my_title=\"Distribution of the difficulty rating\", my_xlabel=\"Difficulty rating\", my_ylabel=\"Counts\")"
   ]
  },
  {
   "attachments": {},
   "cell_type": "markdown",
   "id": "88f22a1b",
   "metadata": {},
   "source": [
    "#### **Summary**"
   ]
  },
  {
   "attachments": {},
   "cell_type": "markdown",
   "id": "da52e1ac",
   "metadata": {},
   "source": [
    "In summary we see, that at a confidence interval of 90%, we see a significant difference in 4 out of 6 metrics."
   ]
  },
  {
   "cell_type": "code",
   "execution_count": 1288,
   "id": "022cb54d",
   "metadata": {},
   "outputs": [
    {
     "data": {
      "application/vnd.plotly.v1+json": {
       "config": {
        "plotlyServerURL": "https://plot.ly"
       },
       "data": [
        {
         "error_y": {
          "array": [
           0.08099999999999996,
           0.18900000000000006,
           0.23499999999999988,
           2.0429999999999993,
           0.18599999999999994,
           0.121
          ],
          "arrayminus": [
           0.10199999999999998,
           0.17099999999999982,
           0.21799999999999997,
           1.4219999999999997,
           0.14800000000000013,
           0.1200000000000001
          ],
          "type": "data"
         },
         "hovertemplate": "Geometric mean: %{y}",
         "marker": {
          "color": [
           "hotpink",
           "hotpink",
           "hotpink",
           "hotpink",
           "hotpink",
           "hotpink"
          ],
          "opacity": [
           1,
           1,
           1,
           1,
           0.4,
           1
          ]
         },
         "name": "female",
         "type": "bar",
         "x": [
          "succ_rate",
          "playtime_min",
          "path_deviation",
          "nr_link_in",
          "number_backclicks",
          "difficulty_rating"
         ],
         "y": [
          0.607,
          2.384,
          3.142,
          6.231,
          1.794,
          2.202
         ]
        },
        {
         "error_y": {
          "array": [
           0.02200000000000002,
           0.030999999999999917,
           0.041999999999999815,
           0.7989999999999995,
           0.05899999999999994,
           0.028999999999999915
          ],
          "arrayminus": [
           0.029000000000000026,
           0.03100000000000014,
           0.040999999999999925,
           0.6950000000000003,
           0.05400000000000005,
           0.029000000000000137
          ],
          "type": "data"
         },
         "hovertemplate": "Geometric mean: %{y}",
         "marker": {
          "color": [
           "skyblue",
           "skyblue",
           "skyblue",
           "skyblue",
           "skyblue",
           "skyblue"
          ],
          "opacity": [
           1,
           1,
           1,
           1,
           0.4,
           1
          ]
         },
         "name": "male",
         "type": "bar",
         "x": [
          "succ_rate",
          "playtime_min",
          "path_deviation",
          "nr_link_in",
          "number_backclicks",
          "difficulty_rating"
         ],
         "y": [
          0.776,
          1.687,
          2.637,
          9.602,
          1.709,
          1.963
         ]
        }
       ],
       "layout": {
        "barmode": "group",
        "font": {
         "color": "#404040",
         "family": "Times New Roman, serif"
        },
        "legend": {
         "title": {
          "text": "Gender"
         }
        },
        "template": {
         "data": {
          "bar": [
           {
            "error_x": {
             "color": "rgb(36,36,36)"
            },
            "error_y": {
             "color": "rgb(36,36,36)"
            },
            "marker": {
             "line": {
              "color": "white",
              "width": 0.5
             },
             "pattern": {
              "fillmode": "overlay",
              "size": 10,
              "solidity": 0.2
             }
            },
            "type": "bar"
           }
          ],
          "barpolar": [
           {
            "marker": {
             "line": {
              "color": "white",
              "width": 0.5
             },
             "pattern": {
              "fillmode": "overlay",
              "size": 10,
              "solidity": 0.2
             }
            },
            "type": "barpolar"
           }
          ],
          "carpet": [
           {
            "aaxis": {
             "endlinecolor": "rgb(36,36,36)",
             "gridcolor": "white",
             "linecolor": "white",
             "minorgridcolor": "white",
             "startlinecolor": "rgb(36,36,36)"
            },
            "baxis": {
             "endlinecolor": "rgb(36,36,36)",
             "gridcolor": "white",
             "linecolor": "white",
             "minorgridcolor": "white",
             "startlinecolor": "rgb(36,36,36)"
            },
            "type": "carpet"
           }
          ],
          "choropleth": [
           {
            "colorbar": {
             "outlinewidth": 1,
             "tickcolor": "rgb(36,36,36)",
             "ticks": "outside"
            },
            "type": "choropleth"
           }
          ],
          "contour": [
           {
            "colorbar": {
             "outlinewidth": 1,
             "tickcolor": "rgb(36,36,36)",
             "ticks": "outside"
            },
            "colorscale": [
             [
              0,
              "#440154"
             ],
             [
              0.1111111111111111,
              "#482878"
             ],
             [
              0.2222222222222222,
              "#3e4989"
             ],
             [
              0.3333333333333333,
              "#31688e"
             ],
             [
              0.4444444444444444,
              "#26828e"
             ],
             [
              0.5555555555555556,
              "#1f9e89"
             ],
             [
              0.6666666666666666,
              "#35b779"
             ],
             [
              0.7777777777777778,
              "#6ece58"
             ],
             [
              0.8888888888888888,
              "#b5de2b"
             ],
             [
              1,
              "#fde725"
             ]
            ],
            "type": "contour"
           }
          ],
          "contourcarpet": [
           {
            "colorbar": {
             "outlinewidth": 1,
             "tickcolor": "rgb(36,36,36)",
             "ticks": "outside"
            },
            "type": "contourcarpet"
           }
          ],
          "heatmap": [
           {
            "colorbar": {
             "outlinewidth": 1,
             "tickcolor": "rgb(36,36,36)",
             "ticks": "outside"
            },
            "colorscale": [
             [
              0,
              "#440154"
             ],
             [
              0.1111111111111111,
              "#482878"
             ],
             [
              0.2222222222222222,
              "#3e4989"
             ],
             [
              0.3333333333333333,
              "#31688e"
             ],
             [
              0.4444444444444444,
              "#26828e"
             ],
             [
              0.5555555555555556,
              "#1f9e89"
             ],
             [
              0.6666666666666666,
              "#35b779"
             ],
             [
              0.7777777777777778,
              "#6ece58"
             ],
             [
              0.8888888888888888,
              "#b5de2b"
             ],
             [
              1,
              "#fde725"
             ]
            ],
            "type": "heatmap"
           }
          ],
          "heatmapgl": [
           {
            "colorbar": {
             "outlinewidth": 1,
             "tickcolor": "rgb(36,36,36)",
             "ticks": "outside"
            },
            "colorscale": [
             [
              0,
              "#440154"
             ],
             [
              0.1111111111111111,
              "#482878"
             ],
             [
              0.2222222222222222,
              "#3e4989"
             ],
             [
              0.3333333333333333,
              "#31688e"
             ],
             [
              0.4444444444444444,
              "#26828e"
             ],
             [
              0.5555555555555556,
              "#1f9e89"
             ],
             [
              0.6666666666666666,
              "#35b779"
             ],
             [
              0.7777777777777778,
              "#6ece58"
             ],
             [
              0.8888888888888888,
              "#b5de2b"
             ],
             [
              1,
              "#fde725"
             ]
            ],
            "type": "heatmapgl"
           }
          ],
          "histogram": [
           {
            "marker": {
             "line": {
              "color": "white",
              "width": 0.6
             }
            },
            "type": "histogram"
           }
          ],
          "histogram2d": [
           {
            "colorbar": {
             "outlinewidth": 1,
             "tickcolor": "rgb(36,36,36)",
             "ticks": "outside"
            },
            "colorscale": [
             [
              0,
              "#440154"
             ],
             [
              0.1111111111111111,
              "#482878"
             ],
             [
              0.2222222222222222,
              "#3e4989"
             ],
             [
              0.3333333333333333,
              "#31688e"
             ],
             [
              0.4444444444444444,
              "#26828e"
             ],
             [
              0.5555555555555556,
              "#1f9e89"
             ],
             [
              0.6666666666666666,
              "#35b779"
             ],
             [
              0.7777777777777778,
              "#6ece58"
             ],
             [
              0.8888888888888888,
              "#b5de2b"
             ],
             [
              1,
              "#fde725"
             ]
            ],
            "type": "histogram2d"
           }
          ],
          "histogram2dcontour": [
           {
            "colorbar": {
             "outlinewidth": 1,
             "tickcolor": "rgb(36,36,36)",
             "ticks": "outside"
            },
            "colorscale": [
             [
              0,
              "#440154"
             ],
             [
              0.1111111111111111,
              "#482878"
             ],
             [
              0.2222222222222222,
              "#3e4989"
             ],
             [
              0.3333333333333333,
              "#31688e"
             ],
             [
              0.4444444444444444,
              "#26828e"
             ],
             [
              0.5555555555555556,
              "#1f9e89"
             ],
             [
              0.6666666666666666,
              "#35b779"
             ],
             [
              0.7777777777777778,
              "#6ece58"
             ],
             [
              0.8888888888888888,
              "#b5de2b"
             ],
             [
              1,
              "#fde725"
             ]
            ],
            "type": "histogram2dcontour"
           }
          ],
          "mesh3d": [
           {
            "colorbar": {
             "outlinewidth": 1,
             "tickcolor": "rgb(36,36,36)",
             "ticks": "outside"
            },
            "type": "mesh3d"
           }
          ],
          "parcoords": [
           {
            "line": {
             "colorbar": {
              "outlinewidth": 1,
              "tickcolor": "rgb(36,36,36)",
              "ticks": "outside"
             }
            },
            "type": "parcoords"
           }
          ],
          "pie": [
           {
            "automargin": true,
            "type": "pie"
           }
          ],
          "scatter": [
           {
            "marker": {
             "colorbar": {
              "outlinewidth": 1,
              "tickcolor": "rgb(36,36,36)",
              "ticks": "outside"
             }
            },
            "type": "scatter"
           }
          ],
          "scatter3d": [
           {
            "line": {
             "colorbar": {
              "outlinewidth": 1,
              "tickcolor": "rgb(36,36,36)",
              "ticks": "outside"
             }
            },
            "marker": {
             "colorbar": {
              "outlinewidth": 1,
              "tickcolor": "rgb(36,36,36)",
              "ticks": "outside"
             }
            },
            "type": "scatter3d"
           }
          ],
          "scattercarpet": [
           {
            "marker": {
             "colorbar": {
              "outlinewidth": 1,
              "tickcolor": "rgb(36,36,36)",
              "ticks": "outside"
             }
            },
            "type": "scattercarpet"
           }
          ],
          "scattergeo": [
           {
            "marker": {
             "colorbar": {
              "outlinewidth": 1,
              "tickcolor": "rgb(36,36,36)",
              "ticks": "outside"
             }
            },
            "type": "scattergeo"
           }
          ],
          "scattergl": [
           {
            "marker": {
             "colorbar": {
              "outlinewidth": 1,
              "tickcolor": "rgb(36,36,36)",
              "ticks": "outside"
             }
            },
            "type": "scattergl"
           }
          ],
          "scattermapbox": [
           {
            "marker": {
             "colorbar": {
              "outlinewidth": 1,
              "tickcolor": "rgb(36,36,36)",
              "ticks": "outside"
             }
            },
            "type": "scattermapbox"
           }
          ],
          "scatterpolar": [
           {
            "marker": {
             "colorbar": {
              "outlinewidth": 1,
              "tickcolor": "rgb(36,36,36)",
              "ticks": "outside"
             }
            },
            "type": "scatterpolar"
           }
          ],
          "scatterpolargl": [
           {
            "marker": {
             "colorbar": {
              "outlinewidth": 1,
              "tickcolor": "rgb(36,36,36)",
              "ticks": "outside"
             }
            },
            "type": "scatterpolargl"
           }
          ],
          "scatterternary": [
           {
            "marker": {
             "colorbar": {
              "outlinewidth": 1,
              "tickcolor": "rgb(36,36,36)",
              "ticks": "outside"
             }
            },
            "type": "scatterternary"
           }
          ],
          "surface": [
           {
            "colorbar": {
             "outlinewidth": 1,
             "tickcolor": "rgb(36,36,36)",
             "ticks": "outside"
            },
            "colorscale": [
             [
              0,
              "#440154"
             ],
             [
              0.1111111111111111,
              "#482878"
             ],
             [
              0.2222222222222222,
              "#3e4989"
             ],
             [
              0.3333333333333333,
              "#31688e"
             ],
             [
              0.4444444444444444,
              "#26828e"
             ],
             [
              0.5555555555555556,
              "#1f9e89"
             ],
             [
              0.6666666666666666,
              "#35b779"
             ],
             [
              0.7777777777777778,
              "#6ece58"
             ],
             [
              0.8888888888888888,
              "#b5de2b"
             ],
             [
              1,
              "#fde725"
             ]
            ],
            "type": "surface"
           }
          ],
          "table": [
           {
            "cells": {
             "fill": {
              "color": "rgb(237,237,237)"
             },
             "line": {
              "color": "white"
             }
            },
            "header": {
             "fill": {
              "color": "rgb(217,217,217)"
             },
             "line": {
              "color": "white"
             }
            },
            "type": "table"
           }
          ]
         },
         "layout": {
          "annotationdefaults": {
           "arrowhead": 0,
           "arrowwidth": 1
          },
          "autotypenumbers": "strict",
          "coloraxis": {
           "colorbar": {
            "outlinewidth": 1,
            "tickcolor": "rgb(36,36,36)",
            "ticks": "outside"
           }
          },
          "colorscale": {
           "diverging": [
            [
             0,
             "rgb(103,0,31)"
            ],
            [
             0.1,
             "rgb(178,24,43)"
            ],
            [
             0.2,
             "rgb(214,96,77)"
            ],
            [
             0.3,
             "rgb(244,165,130)"
            ],
            [
             0.4,
             "rgb(253,219,199)"
            ],
            [
             0.5,
             "rgb(247,247,247)"
            ],
            [
             0.6,
             "rgb(209,229,240)"
            ],
            [
             0.7,
             "rgb(146,197,222)"
            ],
            [
             0.8,
             "rgb(67,147,195)"
            ],
            [
             0.9,
             "rgb(33,102,172)"
            ],
            [
             1,
             "rgb(5,48,97)"
            ]
           ],
           "sequential": [
            [
             0,
             "#440154"
            ],
            [
             0.1111111111111111,
             "#482878"
            ],
            [
             0.2222222222222222,
             "#3e4989"
            ],
            [
             0.3333333333333333,
             "#31688e"
            ],
            [
             0.4444444444444444,
             "#26828e"
            ],
            [
             0.5555555555555556,
             "#1f9e89"
            ],
            [
             0.6666666666666666,
             "#35b779"
            ],
            [
             0.7777777777777778,
             "#6ece58"
            ],
            [
             0.8888888888888888,
             "#b5de2b"
            ],
            [
             1,
             "#fde725"
            ]
           ],
           "sequentialminus": [
            [
             0,
             "#440154"
            ],
            [
             0.1111111111111111,
             "#482878"
            ],
            [
             0.2222222222222222,
             "#3e4989"
            ],
            [
             0.3333333333333333,
             "#31688e"
            ],
            [
             0.4444444444444444,
             "#26828e"
            ],
            [
             0.5555555555555556,
             "#1f9e89"
            ],
            [
             0.6666666666666666,
             "#35b779"
            ],
            [
             0.7777777777777778,
             "#6ece58"
            ],
            [
             0.8888888888888888,
             "#b5de2b"
            ],
            [
             1,
             "#fde725"
            ]
           ]
          },
          "colorway": [
           "#1F77B4",
           "#FF7F0E",
           "#2CA02C",
           "#D62728",
           "#9467BD",
           "#8C564B",
           "#E377C2",
           "#7F7F7F",
           "#BCBD22",
           "#17BECF"
          ],
          "font": {
           "color": "rgb(36,36,36)"
          },
          "geo": {
           "bgcolor": "white",
           "lakecolor": "white",
           "landcolor": "white",
           "showlakes": true,
           "showland": true,
           "subunitcolor": "white"
          },
          "hoverlabel": {
           "align": "left"
          },
          "hovermode": "closest",
          "mapbox": {
           "style": "light"
          },
          "paper_bgcolor": "white",
          "plot_bgcolor": "white",
          "polar": {
           "angularaxis": {
            "gridcolor": "rgb(232,232,232)",
            "linecolor": "rgb(36,36,36)",
            "showgrid": false,
            "showline": true,
            "ticks": "outside"
           },
           "bgcolor": "white",
           "radialaxis": {
            "gridcolor": "rgb(232,232,232)",
            "linecolor": "rgb(36,36,36)",
            "showgrid": false,
            "showline": true,
            "ticks": "outside"
           }
          },
          "scene": {
           "xaxis": {
            "backgroundcolor": "white",
            "gridcolor": "rgb(232,232,232)",
            "gridwidth": 2,
            "linecolor": "rgb(36,36,36)",
            "showbackground": true,
            "showgrid": false,
            "showline": true,
            "ticks": "outside",
            "zeroline": false,
            "zerolinecolor": "rgb(36,36,36)"
           },
           "yaxis": {
            "backgroundcolor": "white",
            "gridcolor": "rgb(232,232,232)",
            "gridwidth": 2,
            "linecolor": "rgb(36,36,36)",
            "showbackground": true,
            "showgrid": false,
            "showline": true,
            "ticks": "outside",
            "zeroline": false,
            "zerolinecolor": "rgb(36,36,36)"
           },
           "zaxis": {
            "backgroundcolor": "white",
            "gridcolor": "rgb(232,232,232)",
            "gridwidth": 2,
            "linecolor": "rgb(36,36,36)",
            "showbackground": true,
            "showgrid": false,
            "showline": true,
            "ticks": "outside",
            "zeroline": false,
            "zerolinecolor": "rgb(36,36,36)"
           }
          },
          "shapedefaults": {
           "fillcolor": "black",
           "line": {
            "width": 0
           },
           "opacity": 0.3
          },
          "ternary": {
           "aaxis": {
            "gridcolor": "rgb(232,232,232)",
            "linecolor": "rgb(36,36,36)",
            "showgrid": false,
            "showline": true,
            "ticks": "outside"
           },
           "baxis": {
            "gridcolor": "rgb(232,232,232)",
            "linecolor": "rgb(36,36,36)",
            "showgrid": false,
            "showline": true,
            "ticks": "outside"
           },
           "bgcolor": "white",
           "caxis": {
            "gridcolor": "rgb(232,232,232)",
            "linecolor": "rgb(36,36,36)",
            "showgrid": false,
            "showline": true,
            "ticks": "outside"
           }
          },
          "title": {
           "x": 0.05
          },
          "xaxis": {
           "automargin": true,
           "gridcolor": "rgb(232,232,232)",
           "linecolor": "rgb(36,36,36)",
           "showgrid": false,
           "showline": true,
           "ticks": "outside",
           "title": {
            "standoff": 15
           },
           "zeroline": false,
           "zerolinecolor": "rgb(36,36,36)"
          },
          "yaxis": {
           "automargin": true,
           "gridcolor": "rgb(232,232,232)",
           "linecolor": "rgb(36,36,36)",
           "showgrid": false,
           "showline": true,
           "ticks": "outside",
           "title": {
            "standoff": 15
           },
           "zeroline": false,
           "zerolinecolor": "rgb(36,36,36)"
          }
         }
        },
        "title": {
         "text": "Comparison of the geometric mean for articles matched on nothing<br><sup>Error bars: CI (90%), number of matched articles: 7747</sup>",
         "x": 0,
         "xref": "paper"
        },
        "xaxis": {
         "title": {
          "text": "Metrics"
         }
        },
        "yaxis": {
         "title": {
          "text": "Geometric mean (log-scale)"
         },
         "type": "log"
        }
       }
      }
     },
     "metadata": {},
     "output_type": "display_data"
    }
   ],
   "source": [
    "summary_figure(naive_summary, len(people_target_paths), \"nothing\", \"naive_summary\", opacity=[1,1,1,1,0.4,1])"
   ]
  },
  {
   "cell_type": "markdown",
   "id": "5f8a4746-e090-4b93-9726-c8486f24789a",
   "metadata": {
    "jp-MarkdownHeadingCollapsed": true,
    "tags": []
   },
   "source": [
    "### **Controlling for all confounding factors**"
   ]
  },
  {
   "cell_type": "markdown",
   "id": "06bf365b-40a5-4105-a133-e5c7334f3aac",
   "metadata": {},
   "source": [
    "Now, we will create pairs of paths that we will compare. The target articles of the pairs are a women article and a man article. Then, we can check for differences in the same metrics as in the naive analysis. "
   ]
  },
  {
   "cell_type": "markdown",
   "id": "6ff05a94-563d-40ad-90c7-c8fd0994a0c8",
   "metadata": {
    "tags": []
   },
   "source": [
    "#### **Matching**"
   ]
  },
  {
   "cell_type": "markdown",
   "id": "fbfb583c-8bd7-42bc-a2b2-6a461985d555",
   "metadata": {},
   "source": [
    "In order to create the pairs, we need to match two target articles from the two groups of men and women articles. As mentioned in the README, the matching will be constrained by the following parameters:\n",
    "\n",
    "1. starting a path at the same source article (minimum requirement of matching)\n",
    "2. having the same shortest path length between a source article and a target article\n",
    "3. having target articles in the same sub-category (e.g. male scientist vs. female scientist)\n",
    "4. having target articles with a similiar or the same in_degree"
   ]
  },
  {
   "cell_type": "markdown",
   "id": "2b6e759f-f64d-40e3-a881-2b96829e268f",
   "metadata": {},
   "source": [
    "The function `matching` matches two target articles from the control group (men) and from the treatment group (women) from our dataset. The `if`-statements handle each of the pre-defined constraints (from the minimum control to the strongest one). The function then returns three sets of four dataframes where each row corresponds to a path with a target article about a man or a woman with exactly one matched pair of the opposite gender. In the following sections, we will refer to the matching in the following way:\n",
    "- (1): Paths matched only on same source\n",
    "- (2): Paths matched on same source and shortest path link\n",
    "- (3a): Paths matched on same source, shortest path link and category\n",
    "- (3b): Paths matched on same source, shortest path link and similar in-degree"
   ]
  },
  {
   "cell_type": "code",
   "execution_count": 1289,
   "id": "4370a18b-0296-492f-aef8-98a6a3461205",
   "metadata": {},
   "outputs": [],
   "source": [
    "def matching():\n",
    "    # (1) match on source\n",
    "    # (2) match on source and same shortest path link\n",
    "    # (3a) match on source, same shortest path link and same category\n",
    "    # (3b) match on source, same shortest path link and similar in-degree\n",
    "\n",
    "    finished = [nx.Graph(),nx.Graph(),nx.Graph(),nx.Graph()]\n",
    "    unfinished = [nx.Graph(),nx.Graph(),nx.Graph(),nx.Graph()]\n",
    "    all_paths = [nx.Graph(),nx.Graph(),nx.Graph(),nx.Graph()]\n",
    "\n",
    "    for control_id, control_row in men_target_paths.iterrows():\n",
    "        for treatment_id, treatment_row in women_target_paths.iterrows():\n",
    "            # Add an edge only if the paths are both finished\n",
    "            if (control_row['finished'] == True and treatment_row['finished'] == True):\n",
    "                \n",
    "                # Add an edge only if the paths have the same source\n",
    "                if (control_row['source'] == treatment_row['source']):\n",
    "                    finished[0].add_weighted_edges_from([(control_id, treatment_id, 1)])\n",
    "                    \n",
    "                    # Add an edge only if the paths have the same shortest_path_length\n",
    "                    if (control_row['shortest_path_length'] == treatment_row['shortest_path_length']):\n",
    "                        finished[1].add_weighted_edges_from([(control_id, treatment_id, 1)])\n",
    "                        \n",
    "                        # Add an edge only if the paths have a target article within the same category\n",
    "                        if (control_row['category'] == treatment_row['category']):\n",
    "                            finished[2].add_weighted_edges_from([(control_id, treatment_id, 1)])\n",
    "                        \n",
    "                        # Add an edge only if the paths have a target article with the same or similar in-degree \n",
    "                        elif (control_row['in_degree_rep'] == treatment_row['in_degree_rep']):\n",
    "                            finished[3].add_weighted_edges_from([(control_id, treatment_id, 1)])    \n",
    "                            \n",
    "            # Add an edge only if the paths are both unfinished\n",
    "            if (control_row['finished'] == False and treatment_row['finished'] == False):\n",
    "                \n",
    "                # Add an edge only if the paths have the same source\n",
    "                if (control_row['source'] == treatment_row['source']):\n",
    "                    unfinished[0].add_weighted_edges_from([(control_id, treatment_id, 1)])\n",
    "                    \n",
    "                    # Add an edge only if the paths have the same shortest_path_length\n",
    "                    if (control_row['shortest_path_length'] == treatment_row['shortest_path_length']):\n",
    "                        unfinished[1].add_weighted_edges_from([(control_id, treatment_id, 1)])\n",
    "                        \n",
    "                        # Add an edge only if the paths have a target article within the same category\n",
    "                        if (control_row['category'] == treatment_row['category']):\n",
    "                            unfinished[2].add_weighted_edges_from([(control_id, treatment_id, 1)]) \n",
    "                        \n",
    "                        # Add an edge only if the paths have a target article with the same or similar in-degree \n",
    "                        elif (control_row['in_degree_rep'] == treatment_row['in_degree_rep']):\n",
    "                            unfinished[3].add_weighted_edges_from([(control_id, treatment_id, 1)])\n",
    "                            \n",
    "            # Add an edge between all possible paths, unfinished and finished             \n",
    "            else:\n",
    "                \n",
    "                # Add an edge only if the paths have the same source\n",
    "                if (control_row['source'] == treatment_row['source']):\n",
    "                    all_paths[0].add_weighted_edges_from([(control_id, treatment_id, 1)])\n",
    "                    \n",
    "                    # Add an edge only if the paths have the same shortest_path_length\n",
    "                    if (control_row['shortest_path_length'] == treatment_row['shortest_path_length']):\n",
    "                        all_paths[1].add_weighted_edges_from([(control_id, treatment_id, 1)])\n",
    "                        \n",
    "                        # Add an edge only if the paths have a target article within the same category\n",
    "                        if (control_row['category'] == treatment_row['category']):\n",
    "                            all_paths[2].add_weighted_edges_from([(control_id, treatment_id, 1)])\n",
    "                            \n",
    "                        # Add an edge only if the paths have a target article with the same or similar in-degree \n",
    "                        elif (control_row['in_degree_rep'] == treatment_row['in_degree_rep']):\n",
    "                            all_paths[3].add_weighted_edges_from([(control_id, treatment_id, 1)])\n",
    "\n",
    "    finished_dfs = []\n",
    "    for g in finished:\n",
    "        # get the matches and complete the dataframes depending on the matched articles\n",
    "        matching = nx.max_weight_matching(g)\n",
    "        matched = [i[0] for i in list(matching)] + [i[1] for i in list(matching)]\n",
    "        balanced_df_all = people_target_paths.iloc[matched]\n",
    "        finished_dfs.append(balanced_df_all)\n",
    "        \n",
    "    unfinished_dfs = []\n",
    "    for g in unfinished:\n",
    "        matching = nx.max_weight_matching(g)\n",
    "        matched = [i[0] for i in list(matching)] + [i[1] for i in list(matching)]\n",
    "        balanced_df_all = people_target_paths.iloc[matched]\n",
    "        unfinished_dfs.append(balanced_df_all)\n",
    "    \n",
    "    dfs = []\n",
    "    for g in all_paths:\n",
    "        matching = nx.max_weight_matching(g)\n",
    "        matched = [i[0] for i in list(matching)] + [i[1] for i in list(matching)]\n",
    "        balanced_df_all = people_target_paths.iloc[matched]\n",
    "        dfs.append(balanced_df_all)\n",
    "\n",
    "    return finished_dfs, unfinished_dfs, dfs"
   ]
  },
  {
   "cell_type": "markdown",
   "id": "6837e44e-eaaa-4608-a371-121534db1f18",
   "metadata": {},
   "source": [
    "We also define the function `add_success_rate` that computes the success rate of reaching a target article and add its to a dataframe in a column called `success_rate`."
   ]
  },
  {
   "cell_type": "code",
   "execution_count": 1290,
   "id": "3a38f31b-7eab-41f5-bb04-397182587f4d",
   "metadata": {},
   "outputs": [],
   "source": [
    "# calculate success_rate for targets in their matching groups\n",
    "# if target article only appears once, it will receive a NaN.  \n",
    "def add_success_rate(df): \n",
    "    df = df.drop(columns = [\"name\"])\n",
    "    fin = df[df['finished'] == True][\"target\"].value_counts().reindex(df.target.unique(), fill_value=0).rename(\"finished\")\n",
    "    tot = df[\"target\"].value_counts().rename(\"total\")\n",
    "\n",
    "    temp=pd.concat([fin,tot],axis=1)\n",
    "    temp.loc[temp[\"total\"] > 1, 'success_rate'] = fin/tot\n",
    "\n",
    "    success_rate = temp[\"success_rate\"]\n",
    "    df = df.merge(success_rate, how=\"left\", left_on=\"target\", right_index=True)\n",
    "    return df"
   ]
  },
  {
   "cell_type": "markdown",
   "id": "1de86fa8-d7b1-4923-b9a2-aef9bdbcd36d",
   "metadata": {},
   "source": [
    "In the following code cell, we call both of these functions, the `add_success_rate` and `matching`, and save each returned dataframe to a file. We only do this once, since the function has a long run-time (which is the reason for why it is commented)."
   ]
  },
  {
   "cell_type": "code",
   "execution_count": 1291,
   "id": "f7029b23-6df1-4f0f-8f26-aa4aa5fac59b",
   "metadata": {},
   "outputs": [],
   "source": [
    "finished_dfs, unfinished_dfs, dfs = matching()\n",
    "\n",
    "dfs = [add_success_rate(df) for df in dfs]\n",
    "finished_dfs= [add_success_rate(df) for df in finished_dfs]\n",
    "unfinished_dfs = [add_success_rate(df) for df in unfinished_dfs]\n",
    "\n",
    "source_matching = dfs[0]\n",
    "source_matching.to_csv(\"./data/source_matched.csv\")\n",
    "fin_source_matching = finished_dfs[0]\n",
    "fin_source_matching.to_csv(\"./data/fin_source_matched.csv\")\n",
    "unfin_source_matching = unfinished_dfs[0]\n",
    "unfin_source_matching.to_csv(\"./data/unfin_source_matched.csv\")\n",
    "\n",
    "src_shp_match = dfs[1]\n",
    "src_shp_match.to_csv(\"./data/src_and_shp_matched.csv\")\n",
    "fin_src_shp_match = finished_dfs[1]\n",
    "fin_src_shp_match.to_csv(\"./data/fin_src_and_shp_matched.csv\")\n",
    "unfin_src_shp_match = unfinished_dfs[1]\n",
    "unfin_src_shp_match.to_csv(\"./data/unfin_src_and_shp_matched.csv\")\n",
    "\n",
    "cat_and_rest = dfs[2]\n",
    "cat_and_rest.to_csv(\"./data/cat_and_rest_matched.csv\")\n",
    "fin_cat_and_rest = finished_dfs[2]\n",
    "fin_cat_and_rest.to_csv(\"./data/fin_cat_and_rest_matched.csv\")\n",
    "unfin_cat_and_rest = unfinished_dfs[2]\n",
    "unfin_cat_and_rest.to_csv(\"./data/unfin_cat_and_rest_matched.csv\")\n",
    "\n",
    "degree_and_rest = dfs[3]\n",
    "degree_and_rest.to_csv(\"./data/degree_and_rest_matched.csv\")\n",
    "fin_degree_and_rest = finished_dfs[3]\n",
    "fin_degree_and_rest.to_csv(\"./data/fin_degree_and_rest_matched.csv\")\n",
    "unfin_degree_and_rest = unfinished_dfs[3]\n",
    "unfin_degree_and_rest.to_csv(\"./data/unfin_degree_and_rest_matched.csv\")"
   ]
  },
  {
   "attachments": {},
   "cell_type": "markdown",
   "id": "55a9e8fc-9823-4723-abfc-cc8ad066ae07",
   "metadata": {},
   "source": [
    "Here, we import the data, we just saved to a file. The following table gives an overview over the generated files of the matched data. *All paths* signifies that for example a finished path with a man article target can be paired to an unfinished path with woman article target, *Finished paths* signifies that only a finished path can be paired to another finished path of the opposite gender and *Unfinished paths* signifies that only an unfinished path can be paired to another unfinished path of the opposite gender.\n",
    "\n",
    "| **Name of dataframe**      | **Matched paths**                                                     |\n",
    "|----------------------|---------------------------------------------------------------------|\n",
    "| src_match               | (1) All paths                                   |\n",
    "| shpath_match               | (2) All paths                                    |\n",
    "| cat_match             | (3a) All paths                         |\n",
    "| degree_match             | (3b) All paths                          |\n",
    "| fin_src_match    | (1) Finished paths|\n",
    "| fin_shpath_match | (2) Finished paths                   |\n",
    "| fin_cat_match        | (3a) Finished paths                                                   |\n",
    "| fin_degree_match        | (3b) Finished paths                                                  |\n",
    "| unfin_src_match    | (1) Unfinished paths |\n",
    "| unfin_shpath_match | (2) Unfinished paths                    |\n",
    "| unfin_cat_match        | (3a) Unfinished paths                                                   |\n",
    "| unfin_degree_match        | (3b) Unfinished paths                                                   |\n"
   ]
  },
  {
   "cell_type": "code",
   "execution_count": 1292,
   "id": "62edd5cd-7366-4303-9f65-d7d88c6dfce1",
   "metadata": {},
   "outputs": [],
   "source": [
    "src_match = pd.read_csv(DATA_FOLDER+\"source_matched.csv\").drop(columns = ['Unnamed: 0'])\n",
    "shpath_match = pd.read_csv(DATA_FOLDER+\"src_and_shp_matched.csv\").drop(columns = ['Unnamed: 0'])\n",
    "cat_match = pd.read_csv(DATA_FOLDER+\"cat_and_rest_matched.csv\").drop(columns = ['Unnamed: 0'])\n",
    "degree_match = pd.read_csv(DATA_FOLDER+\"degree_and_rest_matched.csv\").drop(columns = ['Unnamed: 0'])\n",
    "\n",
    "fin_src_match = pd.read_csv(DATA_FOLDER+\"fin_source_matched.csv\").drop(columns = ['Unnamed: 0'])\n",
    "fin_shpath_match = pd.read_csv(DATA_FOLDER+\"fin_src_and_shp_matched.csv\").drop(columns = ['Unnamed: 0'])\n",
    "fin_cat_match = pd.read_csv(DATA_FOLDER+\"fin_cat_and_rest_matched.csv\").drop(columns = ['Unnamed: 0'])\n",
    "fin_degree_match = pd.read_csv(DATA_FOLDER+\"fin_degree_and_rest_matched.csv\").drop(columns = ['Unnamed: 0'])\n",
    "\n",
    "unfin_src_match = pd.read_csv(DATA_FOLDER+\"unfin_source_matched.csv\").drop(columns = ['Unnamed: 0'])\n",
    "unfin_shpath_match = pd.read_csv(DATA_FOLDER+\"unfin_src_and_shp_matched.csv\").drop(columns = ['Unnamed: 0'])\n",
    "unfin_cat_match = pd.read_csv(DATA_FOLDER+\"unfin_cat_and_rest_matched.csv\").drop(columns = ['Unnamed: 0'])\n",
    "unfin_degree_match = pd.read_csv(DATA_FOLDER+\"unfin_degree_and_rest_matched.csv\").drop(columns = ['Unnamed: 0'])"
   ]
  },
  {
   "cell_type": "markdown",
   "id": "a98d98c6-0cc1-4e74-9ceb-0d94f3b30fdf",
   "metadata": {},
   "source": [
    "The number of matched paths on each of our constraints can be seen in the following table and plot:"
   ]
  },
  {
   "cell_type": "code",
   "execution_count": 1293,
   "id": "4189cbdc-50a3-4a58-8cd2-71373e209373",
   "metadata": {},
   "outputs": [],
   "source": [
    "comb_source = len(src_match)\n",
    "comb_source_f = len(fin_src_match)\n",
    "comb_source_u = len(unfin_src_match)\n",
    "\n",
    "comb_shpath = len(shpath_match)\n",
    "comb_shpath_f = len(fin_shpath_match)\n",
    "comb_shpath_u = len(unfin_shpath_match)\n",
    "\n",
    "comb_category = len(cat_match)\n",
    "comb_category_f = len(fin_cat_match)\n",
    "comb_category_u = len(unfin_cat_match)\n",
    "\n",
    "comb_degree = len(degree_match)\n",
    "comb_degree_f = len(fin_degree_match)\n",
    "comb_degree_u = len(unfin_degree_match)\n",
    "\n",
    "d = {'combination': ['Control on source','Control on source and shortest path length', \n",
    "                     'Control on source, shortest path length and category', \n",
    "                     'Control on source, shortest path length and in-degree'], \n",
    "    'all paths': [comb_source, comb_shpath, comb_category, comb_degree],\n",
    "     'finished paths': [comb_source_f, comb_shpath_f, comb_category_f, comb_degree_f],\n",
    "    'unfinished paths' : [comb_source_u, comb_shpath_u, comb_category_u, comb_degree_u]}\n",
    "\n",
    "combinations = pd.DataFrame(data=d, index=[ 'source',\n",
    "                                            'source and shortest path length', \n",
    "                                            'source, shortest path length and category', \n",
    "                                            'source, shortest path length and in-degree'])"
   ]
  },
  {
   "cell_type": "code",
   "execution_count": 1294,
   "id": "bd154929-a5a1-4e9a-92cf-479c2413192a",
   "metadata": {},
   "outputs": [
    {
     "data": {
      "text/html": [
       "<div>\n",
       "<style scoped>\n",
       "    .dataframe tbody tr th:only-of-type {\n",
       "        vertical-align: middle;\n",
       "    }\n",
       "\n",
       "    .dataframe tbody tr th {\n",
       "        vertical-align: top;\n",
       "    }\n",
       "\n",
       "    .dataframe thead th {\n",
       "        text-align: right;\n",
       "    }\n",
       "</style>\n",
       "<table border=\"1\" class=\"dataframe\">\n",
       "  <thead>\n",
       "    <tr style=\"text-align: right;\">\n",
       "      <th></th>\n",
       "      <th>all paths</th>\n",
       "      <th>finished paths</th>\n",
       "      <th>unfinished paths</th>\n",
       "    </tr>\n",
       "  </thead>\n",
       "  <tbody>\n",
       "    <tr>\n",
       "      <th>source</th>\n",
       "      <td>572</td>\n",
       "      <td>286</td>\n",
       "      <td>114</td>\n",
       "    </tr>\n",
       "    <tr>\n",
       "      <th>source and shortest path length</th>\n",
       "      <td>306</td>\n",
       "      <td>158</td>\n",
       "      <td>50</td>\n",
       "    </tr>\n",
       "    <tr>\n",
       "      <th>source, shortest path length and category</th>\n",
       "      <td>22</td>\n",
       "      <td>12</td>\n",
       "      <td>6</td>\n",
       "    </tr>\n",
       "    <tr>\n",
       "      <th>source, shortest path length and in-degree</th>\n",
       "      <td>216</td>\n",
       "      <td>98</td>\n",
       "      <td>40</td>\n",
       "    </tr>\n",
       "  </tbody>\n",
       "</table>\n",
       "</div>"
      ],
      "text/plain": [
       "                                            all paths  finished paths  \\\n",
       "source                                            572             286   \n",
       "source and shortest path length                   306             158   \n",
       "source, shortest path length and category          22              12   \n",
       "source, shortest path length and in-degree        216              98   \n",
       "\n",
       "                                            unfinished paths  \n",
       "source                                                   114  \n",
       "source and shortest path length                           50  \n",
       "source, shortest path length and category                  6  \n",
       "source, shortest path length and in-degree                40  "
      ]
     },
     "execution_count": 1294,
     "metadata": {},
     "output_type": "execute_result"
    }
   ],
   "source": [
    "combinations[['all paths','finished paths', 'unfinished paths']]"
   ]
  },
  {
   "cell_type": "code",
   "execution_count": 1295,
   "id": "73475142-e965-4c1f-b18f-da8bee43aa33",
   "metadata": {},
   "outputs": [
    {
     "data": {
      "image/png": "[encoded data removed]",
      "text/plain": [
       "<Figure size 432x288 with 1 Axes>"
      ]
     },
     "metadata": {
      "needs_background": "light"
     },
     "output_type": "display_data"
    }
   ],
   "source": [
    "ax = combinations.plot.bar(rot=10, stacked = False, color = ['tab:green','tab:red', 'tab:blue'], \n",
    "                           title = \"Control on:\",\n",
    "                           ylabel = \"Number of articles\", width = 0.5)\n",
    "plt.show()"
   ]
  },
  {
   "cell_type": "markdown",
   "id": "cfcde2d0-8c59-4f3f-ba94-996ed6e6cc9d",
   "metadata": {},
   "source": [
    "#### **Controlled statistical analysis**"
   ]
  },
  {
   "attachments": {},
   "cell_type": "markdown",
   "id": "05933819",
   "metadata": {},
   "source": [
    "While working on the comparisons, we have tried multiple approaches. One of them was doing a quantile regression on the median. The following function combines all relevant steps to perform a descriptive linear regression. As we have decided on using the bootstrapped confidence intervals of the geometric mean, we used this function to verify and compare our results. The reason for not using the linear regression for all significant checks was the low adjusted-R value, telling us the regression does not fit the data well. "
   ]
  },
  {
   "cell_type": "code",
   "execution_count": 1296,
   "id": "a1b674c5-2fd0-4778-a452-dd1628ae887a",
   "metadata": {},
   "outputs": [],
   "source": [
    "def quantile_regression(column, dataframe, my_title=\"\", my_xlabel = \"\", my_ylabel = \"\"):\n",
    "    mod = smf.quantreg(f'{column} ~ gender', dataframe).fit(q=0.5)\n",
    "    print(mod.summary())\n",
    "    conf = mod.conf_int()\n",
    "    median_female = mod.params[\"Intercept\"]\n",
    "    median_male = median_female + mod.params[\"gender[T.male]\"]\n",
    "    uerr_female = conf.loc[\"Intercept\"][1]-median_female\n",
    "    lerr_female = conf.loc[\"Intercept\"][1]-median_female\n",
    "    uerr_male =  median_male - (median_female + conf.loc[\"gender[T.male]\"][0])\n",
    "    lerr_male =  median_male- (median_female + conf.loc[\"gender[T.male]\"][0])\n",
    "    error = np.array([[lerr_female, lerr_male], [uerr_female, uerr_male]])\n",
    "\n",
    "    # Create lists for the plot\n",
    "    genders = ['female', 'male']\n",
    "    x_pos = np.arange(len(genders))\n",
    "    medians = [median_female, median_male]\n",
    "\n",
    "    fig, ax = plt.subplots()\n",
    "    ax.bar(x_pos, medians, yerr=error, align='center', alpha=0.5, ecolor='black', capsize=10)\n",
    "    ax.set_ylabel(my_ylabel)\n",
    "    ax.set_xticks(x_pos)\n",
    "    ax.set_xticklabels(genders)\n",
    "    ax.set_title(my_title)\n",
    "    ax.yaxis.grid(True)\n",
    "\n",
    "\n",
    "    at = AnchoredText(f\"pairs = {int(dataframe[column].size/2)}\", loc='lower right', prop=dict(size=8), frameon=True,\n",
    "                       bbox_to_anchor=(0., 1.),\n",
    "                       bbox_transform=ax.transAxes)\n",
    "    at.patch.set_boxstyle(\"round,pad=0.,rounding_size=0.2\")\n",
    "    ax.add_artist(at)\n",
    "    \n",
    "    plt.show()"
   ]
  },
  {
   "cell_type": "markdown",
   "id": "72e7ba94-547f-40bf-baec-5214b1f92544",
   "metadata": {
    "jp-MarkdownHeadingCollapsed": true,
    "tags": []
   },
   "source": [
    "### **(1): Match on source**"
   ]
  },
  {
   "attachments": {},
   "cell_type": "markdown",
   "id": "4458252b",
   "metadata": {},
   "source": [
    "The following part, repeats the procedure of the naive statistical analysis but with the dataframe containing the source matched articles. We have the following relevant datasets available:"
   ]
  },
  {
   "cell_type": "markdown",
   "id": "de340f85-2bd3-4af2-83a9-7de89eb1ed2a",
   "metadata": {},
   "source": [
    "| **Name of dataframe**      | **Matched paths**                                                     |\n",
    "|----------------------|---------------------------------------------------------------------|\n",
    "| src_match               | (1) All paths                                   |\n",
    "| fin_src_match    | (1) Finished paths |\n",
    "| unfin_src_match    | (1) Unfinished paths |"
   ]
  },
  {
   "cell_type": "code",
   "execution_count": 1297,
   "id": "40406c4d-0be9-46d0-88d9-69cabf75bcf0",
   "metadata": {},
   "outputs": [],
   "source": [
    "# initialize summary dataframe\n",
    "src_match_summary = pd.DataFrame(data=[], columns=[\"metric\",\"gender\", \"gmean\", \"ci_0\", \"ci_1\"])"
   ]
  },
  {
   "cell_type": "markdown",
   "id": "b88a28f7-b4c3-4449-a395-1529489a633f",
   "metadata": {},
   "source": [
    "#### **Success rate**"
   ]
  },
  {
   "cell_type": "code",
   "execution_count": 1298,
   "id": "1813ec0f-c80f-47cd-b590-964366e3d04d",
   "metadata": {},
   "outputs": [
    {
     "name": "stdout",
     "output_type": "stream",
     "text": [
      "female: Geometric mean: 0.4638913702442112\n",
      "female: 90.0% confidence interval of the geometric mean of success_rate: [0.424, 0.505]\n",
      "male: Geometric mean: 0.8710690904118007\n",
      "male: 90.0% confidence interval of the geometric mean of success_rate: [0.839, 0.899]\n"
     ]
    }
   ],
   "source": [
    "# ALL PATHS matched\n",
    "g_mean, src_match_summary = bootstrap_metric(\"success_rate\", src_match, \"female\", summary=src_match_summary, ci = 0.9)\n",
    "g_mean, src_match_summary = bootstrap_metric(\"success_rate\", src_match, \"male\", summary=src_match_summary, ci = 0.9)"
   ]
  },
  {
   "attachments": {},
   "cell_type": "markdown",
   "id": "bf3b3579",
   "metadata": {},
   "source": [
    "We can see a significant difference of the success rate means on source matched articles. "
   ]
  },
  {
   "cell_type": "code",
   "execution_count": 1299,
   "id": "3defe127",
   "metadata": {},
   "outputs": [
    {
     "data": {
      "image/png": "[encoded data removed]",
      "text/plain": [
       "<Figure size 432x288 with 1 Axes>"
      ]
     },
     "metadata": {
      "needs_background": "light"
     },
     "output_type": "display_data"
    }
   ],
   "source": [
    "plot_2_dist(\"success_rate\", src_match, bins = np.arange(0-0.05, 1+0.15, 0.1),\n",
    "            my_ylabel=\"Number of female articles\", my_xlabel=\"Success Rate\", my_title=\"(1): Distribution of success rate\")"
   ]
  },
  {
   "cell_type": "markdown",
   "id": "f10047ff-9cdf-4849-9c03-c339fa13e064",
   "metadata": {},
   "source": [
    "#### **Playtime**"
   ]
  },
  {
   "cell_type": "code",
   "execution_count": 1300,
   "id": "04ed96f5-30f3-483e-8235-91e6fc9564bd",
   "metadata": {},
   "outputs": [
    {
     "name": "stdout",
     "output_type": "stream",
     "text": [
      "female: Geometric mean: 2.3423288471044947\n",
      "female: 90.0% confidence interval of the geometric mean of playtime_min: [2.083, 2.638]\n",
      "male: Geometric mean: 1.5417810224667179\n",
      "male: 90.0% confidence interval of the geometric mean of playtime_min: [1.359, 1.736]\n"
     ]
    }
   ],
   "source": [
    "# FINISHED PATHS matched\n",
    "g_mean, src_match_summary = bootstrap_metric(\"playtime_min\", fin_src_match, \"female\", summary=src_match_summary)\n",
    "g_mean, src_match_summary = bootstrap_metric(\"playtime_min\", fin_src_match, \"male\", summary=src_match_summary)"
   ]
  },
  {
   "attachments": {},
   "cell_type": "markdown",
   "id": "02a26506",
   "metadata": {},
   "source": [
    "The playtime has a significant difference as well."
   ]
  },
  {
   "cell_type": "markdown",
   "id": "dd8ebbeb-bca1-4057-847a-b7fe8b736311",
   "metadata": {},
   "source": [
    "#### **Path deviation**"
   ]
  },
  {
   "cell_type": "code",
   "execution_count": 1301,
   "id": "f6d9b230-b5cc-463f-81bf-0ff20330e2f3",
   "metadata": {},
   "outputs": [
    {
     "name": "stdout",
     "output_type": "stream",
     "text": [
      "female: Geometric mean: 2.868222434338483\n",
      "female: 90.0% confidence interval of the geometric mean of path_deviation: [2.563, 3.233]\n",
      "male: Geometric mean: 2.28099895895486\n",
      "male: 90.0% confidence interval of the geometric mean of path_deviation: [2.059, 2.536]\n"
     ]
    }
   ],
   "source": [
    "# FINISHED PATHS matched\n",
    "g_mean, src_match_summary= bootstrap_metric(\"path_deviation\", fin_src_match, \"female\", ci=0.9, summary=src_match_summary)\n",
    "g_mean, src_match_summary= bootstrap_metric(\"path_deviation\", fin_src_match, \"male\", ci=0.9, summary= src_match_summary)"
   ]
  },
  {
   "cell_type": "markdown",
   "id": "82c9e85c-8996-4079-8585-2d5823f34ada",
   "metadata": {},
   "source": [
    "#### **In-degree**"
   ]
  },
  {
   "cell_type": "code",
   "execution_count": 1302,
   "id": "e03d9f4a",
   "metadata": {},
   "outputs": [
    {
     "name": "stdout",
     "output_type": "stream",
     "text": [
      "female: Geometric mean: 12.603176593017102\n",
      "female: 90.0% confidence interval of the geometric mean of nr_link_in: [10.712, 14.738]\n",
      "male: Geometric mean: 18.42099759840253\n",
      "male: 90.0% confidence interval of the geometric mean of nr_link_in: [16.009, 21.188]\n"
     ]
    }
   ],
   "source": [
    "# FINISHED PATHS matched\n",
    "g_mean, src_match_summary = bootstrap_metric(\"nr_link_in\", fin_src_match, \"female\", summary=src_match_summary, ci=0.9)\n",
    "g_mean, src_match_summary = bootstrap_metric(\"nr_link_in\", fin_src_match, \"male\", summary=src_match_summary, ci=0.9)"
   ]
  },
  {
   "cell_type": "markdown",
   "id": "197fa478-d764-4769-bfa7-34403ef3c0fb",
   "metadata": {},
   "source": [
    "#### **Number of back clicks**"
   ]
  },
  {
   "cell_type": "code",
   "execution_count": 1303,
   "id": "86756c38-0f3e-45d8-bf13-66bc35b677f7",
   "metadata": {},
   "outputs": [
    {
     "name": "stdout",
     "output_type": "stream",
     "text": [
      "female: Geometric mean: 1.7572296754332428\n",
      "female: 90.0% confidence interval of the geometric mean of number_backclicks: [1.540, 2.079]\n",
      "male: Geometric mean: 1.8083328980338347\n",
      "male: 90.0% confidence interval of the geometric mean of number_backclicks: [1.558, 2.172]\n"
     ]
    }
   ],
   "source": [
    "# ALL PATHS matched\n",
    "g_mean, src_match_summary= bootstrap_metric(\"number_backclicks\", src_match, \"female\", ci=0.9, summary= src_match_summary)\n",
    "g_mean, src_match_summary= bootstrap_metric(\"number_backclicks\", src_match, \"male\", ci=0.9, summary= src_match_summary)"
   ]
  },
  {
   "cell_type": "markdown",
   "id": "83561d4f-e78c-49f0-b3b8-30f17ec62da8",
   "metadata": {},
   "source": [
    "#### **Difficulty rating**"
   ]
  },
  {
   "cell_type": "code",
   "execution_count": 1304,
   "id": "915ef6f1-3c2a-41a5-abe1-d7c4cf3a143b",
   "metadata": {},
   "outputs": [
    {
     "name": "stdout",
     "output_type": "stream",
     "text": [
      "female: Geometric mean: 2.1461710335086894\n",
      "female: 90.0% confidence interval of the geometric mean of difficulty_rating: [1.971, 2.325]\n",
      "male: Geometric mean: 1.916266300686311\n",
      "male: 90.0% confidence interval of the geometric mean of difficulty_rating: [1.744, 2.103]\n"
     ]
    }
   ],
   "source": [
    "# FINISHED PATHS matched\n",
    "g_mean, src_match_summary= bootstrap_metric(\"difficulty_rating\", fin_src_match, \"female\", ci=0.9, summary=src_match_summary)\n",
    "g_mean, src_match_summary = bootstrap_metric(\"difficulty_rating\", fin_src_match, \"male\", ci=0.9, summary = src_match_summary)"
   ]
  },
  {
   "cell_type": "markdown",
   "id": "fd5a0b66-735d-4b6f-b4f6-5692c0e44a99",
   "metadata": {},
   "source": [
    "#### **Summary**"
   ]
  },
  {
   "attachments": {},
   "cell_type": "markdown",
   "id": "97d80dea",
   "metadata": {},
   "source": [
    "In summary we can see that as soon as we control on the source, which was our minimum requirement we do not see a significant difference in number of backclicks and the difficuly rating anymore. The other metrics, while having a decreased distance in mean can still be considered significant at a 90 % Confidence Interval. "
   ]
  },
  {
   "cell_type": "code",
   "execution_count": 1305,
   "id": "2f320336-90e6-4fcc-93e1-c0da3b26873f",
   "metadata": {},
   "outputs": [
    {
     "data": {
      "application/vnd.plotly.v1+json": {
       "config": {
        "plotlyServerURL": "https://plot.ly"
       },
       "data": [
        {
         "error_y": {
          "array": [
           0.04099999999999998,
           0.2959999999999998,
           0.3650000000000002,
           2.135,
           0.3220000000000003,
           0.17900000000000027
          ],
          "arrayminus": [
           0.040000000000000036,
           0.2589999999999999,
           0.3049999999999997,
           1.891,
           0.21699999999999986,
           0.17499999999999982
          ],
          "type": "data"
         },
         "hovertemplate": "Geometric mean: %{y}",
         "marker": {
          "color": [
           "hotpink",
           "hotpink",
           "hotpink",
           "hotpink",
           "hotpink",
           "hotpink"
          ],
          "opacity": [
           1,
           1,
           1,
           1,
           0.4,
           0.4
          ]
         },
         "name": "female",
         "type": "bar",
         "x": [
          "success_rate",
          "playtime_min",
          "path_deviation",
          "nr_link_in",
          "number_backclicks",
          "difficulty_rating"
         ],
         "y": [
          0.464,
          2.342,
          2.868,
          12.603,
          1.757,
          2.146
         ]
        },
        {
         "error_y": {
          "array": [
           0.028000000000000025,
           0.19399999999999995,
           0.2549999999999999,
           2.7669999999999995,
           0.3640000000000001,
           0.18700000000000028
          ],
          "arrayminus": [
           0.03200000000000003,
           0.18300000000000005,
           0.22199999999999998,
           2.411999999999999,
           0.25,
           0.17199999999999993
          ],
          "type": "data"
         },
         "hovertemplate": "Geometric mean: %{y}",
         "marker": {
          "color": [
           "skyblue",
           "skyblue",
           "skyblue",
           "skyblue",
           "skyblue",
           "skyblue"
          ],
          "opacity": [
           1,
           1,
           1,
           1,
           0.4,
           0.4
          ]
         },
         "name": "male",
         "type": "bar",
         "x": [
          "success_rate",
          "playtime_min",
          "path_deviation",
          "nr_link_in",
          "number_backclicks",
          "difficulty_rating"
         ],
         "y": [
          0.871,
          1.542,
          2.281,
          18.421,
          1.808,
          1.916
         ]
        }
       ],
       "layout": {
        "barmode": "group",
        "font": {
         "color": "#404040",
         "family": "Times New Roman, serif"
        },
        "legend": {
         "title": {
          "text": "Gender"
         }
        },
        "template": {
         "data": {
          "bar": [
           {
            "error_x": {
             "color": "rgb(36,36,36)"
            },
            "error_y": {
             "color": "rgb(36,36,36)"
            },
            "marker": {
             "line": {
              "color": "white",
              "width": 0.5
             },
             "pattern": {
              "fillmode": "overlay",
              "size": 10,
              "solidity": 0.2
             }
            },
            "type": "bar"
           }
          ],
          "barpolar": [
           {
            "marker": {
             "line": {
              "color": "white",
              "width": 0.5
             },
             "pattern": {
              "fillmode": "overlay",
              "size": 10,
              "solidity": 0.2
             }
            },
            "type": "barpolar"
           }
          ],
          "carpet": [
           {
            "aaxis": {
             "endlinecolor": "rgb(36,36,36)",
             "gridcolor": "white",
             "linecolor": "white",
             "minorgridcolor": "white",
             "startlinecolor": "rgb(36,36,36)"
            },
            "baxis": {
             "endlinecolor": "rgb(36,36,36)",
             "gridcolor": "white",
             "linecolor": "white",
             "minorgridcolor": "white",
             "startlinecolor": "rgb(36,36,36)"
            },
            "type": "carpet"
           }
          ],
          "choropleth": [
           {
            "colorbar": {
             "outlinewidth": 1,
             "tickcolor": "rgb(36,36,36)",
             "ticks": "outside"
            },
            "type": "choropleth"
           }
          ],
          "contour": [
           {
            "colorbar": {
             "outlinewidth": 1,
             "tickcolor": "rgb(36,36,36)",
             "ticks": "outside"
            },
            "colorscale": [
             [
              0,
              "#440154"
             ],
             [
              0.1111111111111111,
              "#482878"
             ],
             [
              0.2222222222222222,
              "#3e4989"
             ],
             [
              0.3333333333333333,
              "#31688e"
             ],
             [
              0.4444444444444444,
              "#26828e"
             ],
             [
              0.5555555555555556,
              "#1f9e89"
             ],
             [
              0.6666666666666666,
              "#35b779"
             ],
             [
              0.7777777777777778,
              "#6ece58"
             ],
             [
              0.8888888888888888,
              "#b5de2b"
             ],
             [
              1,
              "#fde725"
             ]
            ],
            "type": "contour"
           }
          ],
          "contourcarpet": [
           {
            "colorbar": {
             "outlinewidth": 1,
             "tickcolor": "rgb(36,36,36)",
             "ticks": "outside"
            },
            "type": "contourcarpet"
           }
          ],
          "heatmap": [
           {
            "colorbar": {
             "outlinewidth": 1,
             "tickcolor": "rgb(36,36,36)",
             "ticks": "outside"
            },
            "colorscale": [
             [
              0,
              "#440154"
             ],
             [
              0.1111111111111111,
              "#482878"
             ],
             [
              0.2222222222222222,
              "#3e4989"
             ],
             [
              0.3333333333333333,
              "#31688e"
             ],
             [
              0.4444444444444444,
              "#26828e"
             ],
             [
              0.5555555555555556,
              "#1f9e89"
             ],
             [
              0.6666666666666666,
              "#35b779"
             ],
             [
              0.7777777777777778,
              "#6ece58"
             ],
             [
              0.8888888888888888,
              "#b5de2b"
             ],
             [
              1,
              "#fde725"
             ]
            ],
            "type": "heatmap"
           }
          ],
          "heatmapgl": [
           {
            "colorbar": {
             "outlinewidth": 1,
             "tickcolor": "rgb(36,36,36)",
             "ticks": "outside"
            },
            "colorscale": [
             [
              0,
              "#440154"
             ],
             [
              0.1111111111111111,
              "#482878"
             ],
             [
              0.2222222222222222,
              "#3e4989"
             ],
             [
              0.3333333333333333,
              "#31688e"
             ],
             [
              0.4444444444444444,
              "#26828e"
             ],
             [
              0.5555555555555556,
              "#1f9e89"
             ],
             [
              0.6666666666666666,
              "#35b779"
             ],
             [
              0.7777777777777778,
              "#6ece58"
             ],
             [
              0.8888888888888888,
              "#b5de2b"
             ],
             [
              1,
              "#fde725"
             ]
            ],
            "type": "heatmapgl"
           }
          ],
          "histogram": [
           {
            "marker": {
             "line": {
              "color": "white",
              "width": 0.6
             }
            },
            "type": "histogram"
           }
          ],
          "histogram2d": [
           {
            "colorbar": {
             "outlinewidth": 1,
             "tickcolor": "rgb(36,36,36)",
             "ticks": "outside"
            },
            "colorscale": [
             [
              0,
              "#440154"
             ],
             [
              0.1111111111111111,
              "#482878"
             ],
             [
              0.2222222222222222,
              "#3e4989"
             ],
             [
              0.3333333333333333,
              "#31688e"
             ],
             [
              0.4444444444444444,
              "#26828e"
             ],
             [
              0.5555555555555556,
              "#1f9e89"
             ],
             [
              0.6666666666666666,
              "#35b779"
             ],
             [
              0.7777777777777778,
              "#6ece58"
             ],
             [
              0.8888888888888888,
              "#b5de2b"
             ],
             [
              1,
              "#fde725"
             ]
            ],
            "type": "histogram2d"
           }
          ],
          "histogram2dcontour": [
           {
            "colorbar": {
             "outlinewidth": 1,
             "tickcolor": "rgb(36,36,36)",
             "ticks": "outside"
            },
            "colorscale": [
             [
              0,
              "#440154"
             ],
             [
              0.1111111111111111,
              "#482878"
             ],
             [
              0.2222222222222222,
              "#3e4989"
             ],
             [
              0.3333333333333333,
              "#31688e"
             ],
             [
              0.4444444444444444,
              "#26828e"
             ],
             [
              0.5555555555555556,
              "#1f9e89"
             ],
             [
              0.6666666666666666,
              "#35b779"
             ],
             [
              0.7777777777777778,
              "#6ece58"
             ],
             [
              0.8888888888888888,
              "#b5de2b"
             ],
             [
              1,
              "#fde725"
             ]
            ],
            "type": "histogram2dcontour"
           }
          ],
          "mesh3d": [
           {
            "colorbar": {
             "outlinewidth": 1,
             "tickcolor": "rgb(36,36,36)",
             "ticks": "outside"
            },
            "type": "mesh3d"
           }
          ],
          "parcoords": [
           {
            "line": {
             "colorbar": {
              "outlinewidth": 1,
              "tickcolor": "rgb(36,36,36)",
              "ticks": "outside"
             }
            },
            "type": "parcoords"
           }
          ],
          "pie": [
           {
            "automargin": true,
            "type": "pie"
           }
          ],
          "scatter": [
           {
            "marker": {
             "colorbar": {
              "outlinewidth": 1,
              "tickcolor": "rgb(36,36,36)",
              "ticks": "outside"
             }
            },
            "type": "scatter"
           }
          ],
          "scatter3d": [
           {
            "line": {
             "colorbar": {
              "outlinewidth": 1,
              "tickcolor": "rgb(36,36,36)",
              "ticks": "outside"
             }
            },
            "marker": {
             "colorbar": {
              "outlinewidth": 1,
              "tickcolor": "rgb(36,36,36)",
              "ticks": "outside"
             }
            },
            "type": "scatter3d"
           }
          ],
          "scattercarpet": [
           {
            "marker": {
             "colorbar": {
              "outlinewidth": 1,
              "tickcolor": "rgb(36,36,36)",
              "ticks": "outside"
             }
            },
            "type": "scattercarpet"
           }
          ],
          "scattergeo": [
           {
            "marker": {
             "colorbar": {
              "outlinewidth": 1,
              "tickcolor": "rgb(36,36,36)",
              "ticks": "outside"
             }
            },
            "type": "scattergeo"
           }
          ],
          "scattergl": [
           {
            "marker": {
             "colorbar": {
              "outlinewidth": 1,
              "tickcolor": "rgb(36,36,36)",
              "ticks": "outside"
             }
            },
            "type": "scattergl"
           }
          ],
          "scattermapbox": [
           {
            "marker": {
             "colorbar": {
              "outlinewidth": 1,
              "tickcolor": "rgb(36,36,36)",
              "ticks": "outside"
             }
            },
            "type": "scattermapbox"
           }
          ],
          "scatterpolar": [
           {
            "marker": {
             "colorbar": {
              "outlinewidth": 1,
              "tickcolor": "rgb(36,36,36)",
              "ticks": "outside"
             }
            },
            "type": "scatterpolar"
           }
          ],
          "scatterpolargl": [
           {
            "marker": {
             "colorbar": {
              "outlinewidth": 1,
              "tickcolor": "rgb(36,36,36)",
              "ticks": "outside"
             }
            },
            "type": "scatterpolargl"
           }
          ],
          "scatterternary": [
           {
            "marker": {
             "colorbar": {
              "outlinewidth": 1,
              "tickcolor": "rgb(36,36,36)",
              "ticks": "outside"
             }
            },
            "type": "scatterternary"
           }
          ],
          "surface": [
           {
            "colorbar": {
             "outlinewidth": 1,
             "tickcolor": "rgb(36,36,36)",
             "ticks": "outside"
            },
            "colorscale": [
             [
              0,
              "#440154"
             ],
             [
              0.1111111111111111,
              "#482878"
             ],
             [
              0.2222222222222222,
              "#3e4989"
             ],
             [
              0.3333333333333333,
              "#31688e"
             ],
             [
              0.4444444444444444,
              "#26828e"
             ],
             [
              0.5555555555555556,
              "#1f9e89"
             ],
             [
              0.6666666666666666,
              "#35b779"
             ],
             [
              0.7777777777777778,
              "#6ece58"
             ],
             [
              0.8888888888888888,
              "#b5de2b"
             ],
             [
              1,
              "#fde725"
             ]
            ],
            "type": "surface"
           }
          ],
          "table": [
           {
            "cells": {
             "fill": {
              "color": "rgb(237,237,237)"
             },
             "line": {
              "color": "white"
             }
            },
            "header": {
             "fill": {
              "color": "rgb(217,217,217)"
             },
             "line": {
              "color": "white"
             }
            },
            "type": "table"
           }
          ]
         },
         "layout": {
          "annotationdefaults": {
           "arrowhead": 0,
           "arrowwidth": 1
          },
          "autotypenumbers": "strict",
          "coloraxis": {
           "colorbar": {
            "outlinewidth": 1,
            "tickcolor": "rgb(36,36,36)",
            "ticks": "outside"
           }
          },
          "colorscale": {
           "diverging": [
            [
             0,
             "rgb(103,0,31)"
            ],
            [
             0.1,
             "rgb(178,24,43)"
            ],
            [
             0.2,
             "rgb(214,96,77)"
            ],
            [
             0.3,
             "rgb(244,165,130)"
            ],
            [
             0.4,
             "rgb(253,219,199)"
            ],
            [
             0.5,
             "rgb(247,247,247)"
            ],
            [
             0.6,
             "rgb(209,229,240)"
            ],
            [
             0.7,
             "rgb(146,197,222)"
            ],
            [
             0.8,
             "rgb(67,147,195)"
            ],
            [
             0.9,
             "rgb(33,102,172)"
            ],
            [
             1,
             "rgb(5,48,97)"
            ]
           ],
           "sequential": [
            [
             0,
             "#440154"
            ],
            [
             0.1111111111111111,
             "#482878"
            ],
            [
             0.2222222222222222,
             "#3e4989"
            ],
            [
             0.3333333333333333,
             "#31688e"
            ],
            [
             0.4444444444444444,
             "#26828e"
            ],
            [
             0.5555555555555556,
             "#1f9e89"
            ],
            [
             0.6666666666666666,
             "#35b779"
            ],
            [
             0.7777777777777778,
             "#6ece58"
            ],
            [
             0.8888888888888888,
             "#b5de2b"
            ],
            [
             1,
             "#fde725"
            ]
           ],
           "sequentialminus": [
            [
             0,
             "#440154"
            ],
            [
             0.1111111111111111,
             "#482878"
            ],
            [
             0.2222222222222222,
             "#3e4989"
            ],
            [
             0.3333333333333333,
             "#31688e"
            ],
            [
             0.4444444444444444,
             "#26828e"
            ],
            [
             0.5555555555555556,
             "#1f9e89"
            ],
            [
             0.6666666666666666,
             "#35b779"
            ],
            [
             0.7777777777777778,
             "#6ece58"
            ],
            [
             0.8888888888888888,
             "#b5de2b"
            ],
            [
             1,
             "#fde725"
            ]
           ]
          },
          "colorway": [
           "#1F77B4",
           "#FF7F0E",
           "#2CA02C",
           "#D62728",
           "#9467BD",
           "#8C564B",
           "#E377C2",
           "#7F7F7F",
           "#BCBD22",
           "#17BECF"
          ],
          "font": {
           "color": "rgb(36,36,36)"
          },
          "geo": {
           "bgcolor": "white",
           "lakecolor": "white",
           "landcolor": "white",
           "showlakes": true,
           "showland": true,
           "subunitcolor": "white"
          },
          "hoverlabel": {
           "align": "left"
          },
          "hovermode": "closest",
          "mapbox": {
           "style": "light"
          },
          "paper_bgcolor": "white",
          "plot_bgcolor": "white",
          "polar": {
           "angularaxis": {
            "gridcolor": "rgb(232,232,232)",
            "linecolor": "rgb(36,36,36)",
            "showgrid": false,
            "showline": true,
            "ticks": "outside"
           },
           "bgcolor": "white",
           "radialaxis": {
            "gridcolor": "rgb(232,232,232)",
            "linecolor": "rgb(36,36,36)",
            "showgrid": false,
            "showline": true,
            "ticks": "outside"
           }
          },
          "scene": {
           "xaxis": {
            "backgroundcolor": "white",
            "gridcolor": "rgb(232,232,232)",
            "gridwidth": 2,
            "linecolor": "rgb(36,36,36)",
            "showbackground": true,
            "showgrid": false,
            "showline": true,
            "ticks": "outside",
            "zeroline": false,
            "zerolinecolor": "rgb(36,36,36)"
           },
           "yaxis": {
            "backgroundcolor": "white",
            "gridcolor": "rgb(232,232,232)",
            "gridwidth": 2,
            "linecolor": "rgb(36,36,36)",
            "showbackground": true,
            "showgrid": false,
            "showline": true,
            "ticks": "outside",
            "zeroline": false,
            "zerolinecolor": "rgb(36,36,36)"
           },
           "zaxis": {
            "backgroundcolor": "white",
            "gridcolor": "rgb(232,232,232)",
            "gridwidth": 2,
            "linecolor": "rgb(36,36,36)",
            "showbackground": true,
            "showgrid": false,
            "showline": true,
            "ticks": "outside",
            "zeroline": false,
            "zerolinecolor": "rgb(36,36,36)"
           }
          },
          "shapedefaults": {
           "fillcolor": "black",
           "line": {
            "width": 0
           },
           "opacity": 0.3
          },
          "ternary": {
           "aaxis": {
            "gridcolor": "rgb(232,232,232)",
            "linecolor": "rgb(36,36,36)",
            "showgrid": false,
            "showline": true,
            "ticks": "outside"
           },
           "baxis": {
            "gridcolor": "rgb(232,232,232)",
            "linecolor": "rgb(36,36,36)",
            "showgrid": false,
            "showline": true,
            "ticks": "outside"
           },
           "bgcolor": "white",
           "caxis": {
            "gridcolor": "rgb(232,232,232)",
            "linecolor": "rgb(36,36,36)",
            "showgrid": false,
            "showline": true,
            "ticks": "outside"
           }
          },
          "title": {
           "x": 0.05
          },
          "xaxis": {
           "automargin": true,
           "gridcolor": "rgb(232,232,232)",
           "linecolor": "rgb(36,36,36)",
           "showgrid": false,
           "showline": true,
           "ticks": "outside",
           "title": {
            "standoff": 15
           },
           "zeroline": false,
           "zerolinecolor": "rgb(36,36,36)"
          },
          "yaxis": {
           "automargin": true,
           "gridcolor": "rgb(232,232,232)",
           "linecolor": "rgb(36,36,36)",
           "showgrid": false,
           "showline": true,
           "ticks": "outside",
           "title": {
            "standoff": 15
           },
           "zeroline": false,
           "zerolinecolor": "rgb(36,36,36)"
          }
         }
        },
        "title": {
         "text": "Comparison of the geometric mean for articles matched on source<br><sup>Error bars: CI (90%), number of matched articles: 572 (286 finished)</sup>",
         "x": 0,
         "xref": "paper"
        },
        "xaxis": {
         "title": {
          "text": "Metrics"
         }
        },
        "yaxis": {
         "title": {
          "text": "Geometric mean (log-scale)"
         },
         "type": "log"
        }
       }
      }
     },
     "metadata": {},
     "output_type": "display_data"
    }
   ],
   "source": [
    "summary_figure(src_match_summary, f\"{len(src_match)} ({len(fin_src_match)} finished)\", \"source\", \"src_match\", opacity = [1,1,1,1,0.4, 0.4])"
   ]
  },
  {
   "cell_type": "markdown",
   "id": "f8b1665f-b5e4-4005-8968-fee1b229f5bd",
   "metadata": {
    "jp-MarkdownHeadingCollapsed": true,
    "tags": []
   },
   "source": [
    "### **(2): Match on source and shortest path length**"
   ]
  },
  {
   "cell_type": "markdown",
   "id": "acaaf76d-e34a-4fd6-8689-5c910a16a542",
   "metadata": {},
   "source": [
    "| **Name of dataframe**      | **Matched paths**                                                     |\n",
    "|----------------------|---------------------------------------------------------------------|\n",
    "| shpath_match               | (2) All paths                                   |\n",
    "| fin_shpath_match    | (2) Finished paths |\n",
    "| unfin_shpath_match    | (2) Unfinished paths |"
   ]
  },
  {
   "cell_type": "code",
   "execution_count": 1306,
   "id": "0e66b6f3-b606-4934-95df-04f22df0be0b",
   "metadata": {},
   "outputs": [],
   "source": [
    "shpath_match_summary = pd.DataFrame(data=[], columns=[\"metric\",\"gender\", \"gmean\", \"ci_0\", \"ci_1\"])"
   ]
  },
  {
   "cell_type": "markdown",
   "id": "b7b9ad1a-9d56-4423-a6c2-ea50e7bc71af",
   "metadata": {},
   "source": [
    "#### **Success rate**"
   ]
  },
  {
   "cell_type": "code",
   "execution_count": 1307,
   "id": "3cd557f1-341e-4fd8-acdb-f43705687736",
   "metadata": {},
   "outputs": [
    {
     "name": "stdout",
     "output_type": "stream",
     "text": [
      "female: Geometric mean: 0.5876958125740577\n",
      "female: 90.0% confidence interval of the geometric mean of success_rate: [0.533, 0.638]\n",
      "male: Geometric mean: 0.9248881014491848\n",
      "male: 90.0% confidence interval of the geometric mean of success_rate: [0.879, 0.955]\n"
     ]
    }
   ],
   "source": [
    "# ALL PATHS matched\n",
    "g_mean, shpath_match_summary = bootstrap_metric(\"success_rate\", shpath_match, \"female\", ci=0.9, summary= shpath_match_summary)\n",
    "g_mean, shpath_match_summary = bootstrap_metric(\"success_rate\", shpath_match, \"male\", ci=0.9, summary= shpath_match_summary)"
   ]
  },
  {
   "cell_type": "code",
   "execution_count": 1308,
   "id": "4c7cc126-9402-470b-9b63-9a99cc591f7d",
   "metadata": {},
   "outputs": [
    {
     "name": "stdout",
     "output_type": "stream",
     "text": [
      "                         QuantReg Regression Results                          \n",
      "==============================================================================\n",
      "Dep. Variable:           success_rate   Pseudo R-squared:               0.1549\n",
      "Model:                       QuantReg   Bandwidth:                      0.2844\n",
      "Method:                 Least Squares   Sparsity:                       0.8337\n",
      "Date:                Wed, 21 Dec 2022   No. Observations:                  219\n",
      "Time:                        19:36:20   Df Residuals:                      217\n",
      "                                        Df Model:                            1\n",
      "==================================================================================\n",
      "                     coef    std err          t      P>|t|      [0.025      0.975]\n",
      "----------------------------------------------------------------------------------\n",
      "Intercept          0.6667      0.035     19.192      0.000       0.598       0.735\n",
      "gender[T.male]     0.3333      0.059      5.616      0.000       0.216       0.450\n",
      "==================================================================================\n"
     ]
    },
    {
     "data": {
      "image/png": "[encoded data removed]",
      "text/plain": [
       "<Figure size 432x288 with 1 Axes>"
      ]
     },
     "metadata": {
      "needs_background": "light"
     },
     "output_type": "display_data"
    }
   ],
   "source": [
    "quantile_regression(\"success_rate\", shpath_match, my_title=\"Comparing the Sucess Rate on shortest path matching\", my_xlabel=\"Gender\", my_ylabel=\"Success rate\")"
   ]
  },
  {
   "cell_type": "markdown",
   "id": "6ae587b7-a2e6-4ad2-bab9-617376de4cf0",
   "metadata": {},
   "source": [
    "#### **Playtime**"
   ]
  },
  {
   "cell_type": "code",
   "execution_count": 1309,
   "id": "2e68b3b8-6673-45f7-b6e0-4034e8ff246a",
   "metadata": {},
   "outputs": [
    {
     "name": "stdout",
     "output_type": "stream",
     "text": [
      "female: Geometric mean: 2.2146861069353587\n",
      "female: 90.0% confidence interval of the geometric mean of playtime_min: [1.928, 2.573]\n",
      "male: Geometric mean: 1.7819621794695775\n",
      "male: 90.0% confidence interval of the geometric mean of playtime_min: [1.545, 2.066]\n"
     ]
    }
   ],
   "source": [
    "# FINISHED PATHS matched\n",
    "g_mean, shpath_match_summary = bootstrap_metric(\"playtime_min\", fin_shpath_match, \"female\", ci=0.9, summary= shpath_match_summary)\n",
    "g_mean, shpath_match_summary = bootstrap_metric(\"playtime_min\", fin_shpath_match, \"male\", ci=0.9, summary= shpath_match_summary)"
   ]
  },
  {
   "cell_type": "markdown",
   "id": "d29571e0-c00d-4e80-bda7-9774340f0a1e",
   "metadata": {},
   "source": [
    "#### **Path deviation**"
   ]
  },
  {
   "cell_type": "code",
   "execution_count": 1310,
   "id": "a46e09d6-ccf5-4208-8405-78f75d8fc632",
   "metadata": {},
   "outputs": [
    {
     "name": "stdout",
     "output_type": "stream",
     "text": [
      "female: Geometric mean: 2.664617066028386\n",
      "female: 90.0% confidence interval of the geometric mean of path_deviation: [2.322, 3.058]\n",
      "male: Geometric mean: 2.3869054293062617\n",
      "male: 90.0% confidence interval of the geometric mean of path_deviation: [2.097, 2.769]\n"
     ]
    }
   ],
   "source": [
    "# FINISHED PATHS matched\n",
    "g_mean, shpath_match_summary = bootstrap_metric(\"path_deviation\", fin_shpath_match, \"female\", ci=0.9, summary= shpath_match_summary)\n",
    "g_mean, shpath_match_summary = bootstrap_metric(\"path_deviation\", fin_shpath_match, \"male\", ci=0.9, summary= shpath_match_summary)"
   ]
  },
  {
   "cell_type": "code",
   "execution_count": 1311,
   "id": "fb37be8c-4547-41fe-a395-1d1e2a63670a",
   "metadata": {},
   "outputs": [
    {
     "data": {
      "image/png": "[encoded data removed]",
      "text/plain": [
       "<Figure size 432x288 with 1 Axes>"
      ]
     },
     "metadata": {
      "needs_background": "light"
     },
     "output_type": "display_data"
    }
   ],
   "source": [
    "plot_2_dist(\"path_deviation\", fin_shpath_match, \n",
    "            my_title=\"Path deviation from shortest path\", my_xlabel=\"Path deviation\", my_ylabel=\"Counts\", ylog=True)"
   ]
  },
  {
   "attachments": {},
   "cell_type": "markdown",
   "id": "b10b94a0",
   "metadata": {},
   "source": [
    "#### **In-degree**"
   ]
  },
  {
   "cell_type": "code",
   "execution_count": 1312,
   "id": "06b0ab91",
   "metadata": {},
   "outputs": [
    {
     "name": "stdout",
     "output_type": "stream",
     "text": [
      "female: Geometric mean: 15.781894146699083\n",
      "female: 90.0% confidence interval of the geometric mean of nr_link_in: [12.952, 19.457]\n",
      "male: Geometric mean: 18.942968722518348\n",
      "male: 90.0% confidence interval of the geometric mean of nr_link_in: [15.769, 22.807]\n"
     ]
    }
   ],
   "source": [
    "g_mean, shpath_match_summary = bootstrap_metric(\"nr_link_in\", fin_shpath_match, \"female\", summary=shpath_match_summary, ci=0.9)\n",
    "g_mean, shpath_match_summary = bootstrap_metric(\"nr_link_in\", fin_shpath_match, \"male\", summary=shpath_match_summary, ci=0.9)"
   ]
  },
  {
   "cell_type": "markdown",
   "id": "f737f451-67ff-4136-bd0e-ecbc0d9c7e93",
   "metadata": {},
   "source": [
    "#### **Number of back clicks**"
   ]
  },
  {
   "cell_type": "code",
   "execution_count": 1313,
   "id": "2d333353-dccb-4b34-bc8b-e94bbd878860",
   "metadata": {},
   "outputs": [
    {
     "name": "stdout",
     "output_type": "stream",
     "text": [
      "female: Geometric mean: 1.742575776141812\n",
      "female: 90.0% confidence interval of the geometric mean of number_backclicks: [1.486, 2.168]\n",
      "male: Geometric mean: 1.972526648610801\n",
      "male: 90.0% confidence interval of the geometric mean of number_backclicks: [1.581, 2.597]\n"
     ]
    }
   ],
   "source": [
    "# ALL PATHS matched\n",
    "g_mean, shpath_match_summary = bootstrap_metric(\"number_backclicks\", shpath_match, \"female\", ci=0.9, summary= shpath_match_summary)\n",
    "g_mean, shpath_match_summary = bootstrap_metric(\"number_backclicks\", shpath_match, \"male\", ci=0.9, summary= shpath_match_summary)"
   ]
  },
  {
   "cell_type": "code",
   "execution_count": 1314,
   "id": "abe9b9de-b7ce-47a7-8e10-3a8dc1902940",
   "metadata": {},
   "outputs": [
    {
     "data": {
      "image/png": "[encoded data removed]",
      "text/plain": [
       "<Figure size 432x288 with 1 Axes>"
      ]
     },
     "metadata": {
      "needs_background": "light"
     },
     "output_type": "display_data"
    }
   ],
   "source": [
    "plot_2_dist(\"number_backclicks\", shpath_match, my_title=\"Nr of backclicks\", my_xlabel=\"Backclicks\", my_ylabel=\"Occurance\", ylog=True)"
   ]
  },
  {
   "cell_type": "code",
   "execution_count": 1315,
   "id": "2ef6a3e9-9f3c-4402-bd8d-b367ee2735bc",
   "metadata": {},
   "outputs": [
    {
     "data": {
      "image/png": "[encoded data removed]",
      "text/plain": [
       "<Figure size 432x288 with 1 Axes>"
      ]
     },
     "metadata": {
      "needs_background": "light"
     },
     "output_type": "display_data"
    }
   ],
   "source": [
    "# the backclicks that differ from 0\n",
    "backclicks = src_match[src_match[\"number_backclicks\"]!= 0]\n",
    "plot_2_dist(\"number_backclicks\", backclicks, \n",
    "            my_title=\"Distribution of backclicks\", my_xlabel=\"nr of backclicks\", my_ylabel=\"counts\", ylog=True)"
   ]
  },
  {
   "cell_type": "markdown",
   "id": "8191d0f2-e80d-4e8f-a3a9-b263df1603e3",
   "metadata": {},
   "source": [
    "#### **Difficulty rating**"
   ]
  },
  {
   "cell_type": "code",
   "execution_count": 1316,
   "id": "6e518b9f-2f5b-49ed-bddc-f837e174e0cc",
   "metadata": {},
   "outputs": [
    {
     "name": "stdout",
     "output_type": "stream",
     "text": [
      "female: Geometric mean: 1.9544654848281908\n",
      "female: 90.0% confidence interval of the geometric mean of difficulty_rating: [1.743, 2.164]\n",
      "male: Geometric mean: 2.0654610525799098\n",
      "male: 90.0% confidence interval of the geometric mean of difficulty_rating: [1.807, 2.368]\n"
     ]
    }
   ],
   "source": [
    "# FINISHED PATHS matched\n",
    "g_mean, shpath_match_summary = bootstrap_metric(\"difficulty_rating\", fin_shpath_match, \"female\", ci=0.9, summary= shpath_match_summary)\n",
    "g_mean, shpath_match_summary = bootstrap_metric(\"difficulty_rating\", fin_shpath_match, \"male\", ci=0.9, summary= shpath_match_summary)"
   ]
  },
  {
   "cell_type": "markdown",
   "id": "6bcd546b-ebd5-4671-86b3-957a34373786",
   "metadata": {},
   "source": [
    "#### **Summary**"
   ]
  },
  {
   "attachments": {},
   "cell_type": "markdown",
   "id": "2378dd9d",
   "metadata": {},
   "source": [
    "Matching on source and shortest path length and repeating the analysis, shows that now only the success rate has a significant difference in mean. However the tendencies stay the same, meaning that the playtime and path deviation of women is still higher. Given more data or a more stratified matching might lead to signifant results at this stage of the analysis. "
   ]
  },
  {
   "cell_type": "code",
   "execution_count": 1317,
   "id": "92882307-0138-4ca4-b9ec-3d619e68e534",
   "metadata": {},
   "outputs": [
    {
     "data": {
      "application/vnd.plotly.v1+json": {
       "config": {
        "plotlyServerURL": "https://plot.ly"
       },
       "data": [
        {
         "error_y": {
          "array": [
           0.050000000000000044,
           0.3580000000000001,
           0.3929999999999998,
           3.6750000000000007,
           0.42500000000000004,
           0.2100000000000002
          ],
          "arrayminus": [
           0.05499999999999994,
           0.2869999999999999,
           0.34299999999999997,
           2.83,
           0.2570000000000001,
           0.21099999999999985
          ],
          "type": "data"
         },
         "hovertemplate": "Geometric mean: %{y}",
         "marker": {
          "color": [
           "hotpink",
           "hotpink",
           "hotpink",
           "hotpink",
           "hotpink",
           "hotpink"
          ],
          "opacity": [
           1,
           0.4,
           0.4,
           0.4,
           0.4,
           0.4
          ]
         },
         "name": "female",
         "type": "bar",
         "x": [
          "success_rate",
          "playtime_min",
          "path_deviation",
          "nr_link_in",
          "number_backclicks",
          "difficulty_rating"
         ],
         "y": [
          0.588,
          2.215,
          2.665,
          15.782,
          1.743,
          1.954
         ]
        },
        {
         "error_y": {
          "array": [
           0.029999999999999916,
           0.2839999999999998,
           0.3820000000000001,
           3.863999999999997,
           0.6239999999999999,
           0.30299999999999994
          ],
          "arrayminus": [
           0.04600000000000004,
           0.2370000000000001,
           0.29000000000000004,
           3.1740000000000013,
           0.3920000000000001,
           0.258
          ],
          "type": "data"
         },
         "hovertemplate": "Geometric mean: %{y}",
         "marker": {
          "color": [
           "skyblue",
           "skyblue",
           "skyblue",
           "skyblue",
           "skyblue",
           "skyblue"
          ],
          "opacity": [
           1,
           0.4,
           0.4,
           0.4,
           0.4,
           0.4
          ]
         },
         "name": "male",
         "type": "bar",
         "x": [
          "success_rate",
          "playtime_min",
          "path_deviation",
          "nr_link_in",
          "number_backclicks",
          "difficulty_rating"
         ],
         "y": [
          0.925,
          1.782,
          2.387,
          18.943,
          1.973,
          2.065
         ]
        }
       ],
       "layout": {
        "barmode": "group",
        "font": {
         "color": "#404040",
         "family": "Times New Roman, serif"
        },
        "legend": {
         "title": {
          "text": "Gender"
         }
        },
        "template": {
         "data": {
          "bar": [
           {
            "error_x": {
             "color": "rgb(36,36,36)"
            },
            "error_y": {
             "color": "rgb(36,36,36)"
            },
            "marker": {
             "line": {
              "color": "white",
              "width": 0.5
             },
             "pattern": {
              "fillmode": "overlay",
              "size": 10,
              "solidity": 0.2
             }
            },
            "type": "bar"
           }
          ],
          "barpolar": [
           {
            "marker": {
             "line": {
              "color": "white",
              "width": 0.5
             },
             "pattern": {
              "fillmode": "overlay",
              "size": 10,
              "solidity": 0.2
             }
            },
            "type": "barpolar"
           }
          ],
          "carpet": [
           {
            "aaxis": {
             "endlinecolor": "rgb(36,36,36)",
             "gridcolor": "white",
             "linecolor": "white",
             "minorgridcolor": "white",
             "startlinecolor": "rgb(36,36,36)"
            },
            "baxis": {
             "endlinecolor": "rgb(36,36,36)",
             "gridcolor": "white",
             "linecolor": "white",
             "minorgridcolor": "white",
             "startlinecolor": "rgb(36,36,36)"
            },
            "type": "carpet"
           }
          ],
          "choropleth": [
           {
            "colorbar": {
             "outlinewidth": 1,
             "tickcolor": "rgb(36,36,36)",
             "ticks": "outside"
            },
            "type": "choropleth"
           }
          ],
          "contour": [
           {
            "colorbar": {
             "outlinewidth": 1,
             "tickcolor": "rgb(36,36,36)",
             "ticks": "outside"
            },
            "colorscale": [
             [
              0,
              "#440154"
             ],
             [
              0.1111111111111111,
              "#482878"
             ],
             [
              0.2222222222222222,
              "#3e4989"
             ],
             [
              0.3333333333333333,
              "#31688e"
             ],
             [
              0.4444444444444444,
              "#26828e"
             ],
             [
              0.5555555555555556,
              "#1f9e89"
             ],
             [
              0.6666666666666666,
              "#35b779"
             ],
             [
              0.7777777777777778,
              "#6ece58"
             ],
             [
              0.8888888888888888,
              "#b5de2b"
             ],
             [
              1,
              "#fde725"
             ]
            ],
            "type": "contour"
           }
          ],
          "contourcarpet": [
           {
            "colorbar": {
             "outlinewidth": 1,
             "tickcolor": "rgb(36,36,36)",
             "ticks": "outside"
            },
            "type": "contourcarpet"
           }
          ],
          "heatmap": [
           {
            "colorbar": {
             "outlinewidth": 1,
             "tickcolor": "rgb(36,36,36)",
             "ticks": "outside"
            },
            "colorscale": [
             [
              0,
              "#440154"
             ],
             [
              0.1111111111111111,
              "#482878"
             ],
             [
              0.2222222222222222,
              "#3e4989"
             ],
             [
              0.3333333333333333,
              "#31688e"
             ],
             [
              0.4444444444444444,
              "#26828e"
             ],
             [
              0.5555555555555556,
              "#1f9e89"
             ],
             [
              0.6666666666666666,
              "#35b779"
             ],
             [
              0.7777777777777778,
              "#6ece58"
             ],
             [
              0.8888888888888888,
              "#b5de2b"
             ],
             [
              1,
              "#fde725"
             ]
            ],
            "type": "heatmap"
           }
          ],
          "heatmapgl": [
           {
            "colorbar": {
             "outlinewidth": 1,
             "tickcolor": "rgb(36,36,36)",
             "ticks": "outside"
            },
            "colorscale": [
             [
              0,
              "#440154"
             ],
             [
              0.1111111111111111,
              "#482878"
             ],
             [
              0.2222222222222222,
              "#3e4989"
             ],
             [
              0.3333333333333333,
              "#31688e"
             ],
             [
              0.4444444444444444,
              "#26828e"
             ],
             [
              0.5555555555555556,
              "#1f9e89"
             ],
             [
              0.6666666666666666,
              "#35b779"
             ],
             [
              0.7777777777777778,
              "#6ece58"
             ],
             [
              0.8888888888888888,
              "#b5de2b"
             ],
             [
              1,
              "#fde725"
             ]
            ],
            "type": "heatmapgl"
           }
          ],
          "histogram": [
           {
            "marker": {
             "line": {
              "color": "white",
              "width": 0.6
             }
            },
            "type": "histogram"
           }
          ],
          "histogram2d": [
           {
            "colorbar": {
             "outlinewidth": 1,
             "tickcolor": "rgb(36,36,36)",
             "ticks": "outside"
            },
            "colorscale": [
             [
              0,
              "#440154"
             ],
             [
              0.1111111111111111,
              "#482878"
             ],
             [
              0.2222222222222222,
              "#3e4989"
             ],
             [
              0.3333333333333333,
              "#31688e"
             ],
             [
              0.4444444444444444,
              "#26828e"
             ],
             [
              0.5555555555555556,
              "#1f9e89"
             ],
             [
              0.6666666666666666,
              "#35b779"
             ],
             [
              0.7777777777777778,
              "#6ece58"
             ],
             [
              0.8888888888888888,
              "#b5de2b"
             ],
             [
              1,
              "#fde725"
             ]
            ],
            "type": "histogram2d"
           }
          ],
          "histogram2dcontour": [
           {
            "colorbar": {
             "outlinewidth": 1,
             "tickcolor": "rgb(36,36,36)",
             "ticks": "outside"
            },
            "colorscale": [
             [
              0,
              "#440154"
             ],
             [
              0.1111111111111111,
              "#482878"
             ],
             [
              0.2222222222222222,
              "#3e4989"
             ],
             [
              0.3333333333333333,
              "#31688e"
             ],
             [
              0.4444444444444444,
              "#26828e"
             ],
             [
              0.5555555555555556,
              "#1f9e89"
             ],
             [
              0.6666666666666666,
              "#35b779"
             ],
             [
              0.7777777777777778,
              "#6ece58"
             ],
             [
              0.8888888888888888,
              "#b5de2b"
             ],
             [
              1,
              "#fde725"
             ]
            ],
            "type": "histogram2dcontour"
           }
          ],
          "mesh3d": [
           {
            "colorbar": {
             "outlinewidth": 1,
             "tickcolor": "rgb(36,36,36)",
             "ticks": "outside"
            },
            "type": "mesh3d"
           }
          ],
          "parcoords": [
           {
            "line": {
             "colorbar": {
              "outlinewidth": 1,
              "tickcolor": "rgb(36,36,36)",
              "ticks": "outside"
             }
            },
            "type": "parcoords"
           }
          ],
          "pie": [
           {
            "automargin": true,
            "type": "pie"
           }
          ],
          "scatter": [
           {
            "marker": {
             "colorbar": {
              "outlinewidth": 1,
              "tickcolor": "rgb(36,36,36)",
              "ticks": "outside"
             }
            },
            "type": "scatter"
           }
          ],
          "scatter3d": [
           {
            "line": {
             "colorbar": {
              "outlinewidth": 1,
              "tickcolor": "rgb(36,36,36)",
              "ticks": "outside"
             }
            },
            "marker": {
             "colorbar": {
              "outlinewidth": 1,
              "tickcolor": "rgb(36,36,36)",
              "ticks": "outside"
             }
            },
            "type": "scatter3d"
           }
          ],
          "scattercarpet": [
           {
            "marker": {
             "colorbar": {
              "outlinewidth": 1,
              "tickcolor": "rgb(36,36,36)",
              "ticks": "outside"
             }
            },
            "type": "scattercarpet"
           }
          ],
          "scattergeo": [
           {
            "marker": {
             "colorbar": {
              "outlinewidth": 1,
              "tickcolor": "rgb(36,36,36)",
              "ticks": "outside"
             }
            },
            "type": "scattergeo"
           }
          ],
          "scattergl": [
           {
            "marker": {
             "colorbar": {
              "outlinewidth": 1,
              "tickcolor": "rgb(36,36,36)",
              "ticks": "outside"
             }
            },
            "type": "scattergl"
           }
          ],
          "scattermapbox": [
           {
            "marker": {
             "colorbar": {
              "outlinewidth": 1,
              "tickcolor": "rgb(36,36,36)",
              "ticks": "outside"
             }
            },
            "type": "scattermapbox"
           }
          ],
          "scatterpolar": [
           {
            "marker": {
             "colorbar": {
              "outlinewidth": 1,
              "tickcolor": "rgb(36,36,36)",
              "ticks": "outside"
             }
            },
            "type": "scatterpolar"
           }
          ],
          "scatterpolargl": [
           {
            "marker": {
             "colorbar": {
              "outlinewidth": 1,
              "tickcolor": "rgb(36,36,36)",
              "ticks": "outside"
             }
            },
            "type": "scatterpolargl"
           }
          ],
          "scatterternary": [
           {
            "marker": {
             "colorbar": {
              "outlinewidth": 1,
              "tickcolor": "rgb(36,36,36)",
              "ticks": "outside"
             }
            },
            "type": "scatterternary"
           }
          ],
          "surface": [
           {
            "colorbar": {
             "outlinewidth": 1,
             "tickcolor": "rgb(36,36,36)",
             "ticks": "outside"
            },
            "colorscale": [
             [
              0,
              "#440154"
             ],
             [
              0.1111111111111111,
              "#482878"
             ],
             [
              0.2222222222222222,
              "#3e4989"
             ],
             [
              0.3333333333333333,
              "#31688e"
             ],
             [
              0.4444444444444444,
              "#26828e"
             ],
             [
              0.5555555555555556,
              "#1f9e89"
             ],
             [
              0.6666666666666666,
              "#35b779"
             ],
             [
              0.7777777777777778,
              "#6ece58"
             ],
             [
              0.8888888888888888,
              "#b5de2b"
             ],
             [
              1,
              "#fde725"
             ]
            ],
            "type": "surface"
           }
          ],
          "table": [
           {
            "cells": {
             "fill": {
              "color": "rgb(237,237,237)"
             },
             "line": {
              "color": "white"
             }
            },
            "header": {
             "fill": {
              "color": "rgb(217,217,217)"
             },
             "line": {
              "color": "white"
             }
            },
            "type": "table"
           }
          ]
         },
         "layout": {
          "annotationdefaults": {
           "arrowhead": 0,
           "arrowwidth": 1
          },
          "autotypenumbers": "strict",
          "coloraxis": {
           "colorbar": {
            "outlinewidth": 1,
            "tickcolor": "rgb(36,36,36)",
            "ticks": "outside"
           }
          },
          "colorscale": {
           "diverging": [
            [
             0,
             "rgb(103,0,31)"
            ],
            [
             0.1,
             "rgb(178,24,43)"
            ],
            [
             0.2,
             "rgb(214,96,77)"
            ],
            [
             0.3,
             "rgb(244,165,130)"
            ],
            [
             0.4,
             "rgb(253,219,199)"
            ],
            [
             0.5,
             "rgb(247,247,247)"
            ],
            [
             0.6,
             "rgb(209,229,240)"
            ],
            [
             0.7,
             "rgb(146,197,222)"
            ],
            [
             0.8,
             "rgb(67,147,195)"
            ],
            [
             0.9,
             "rgb(33,102,172)"
            ],
            [
             1,
             "rgb(5,48,97)"
            ]
           ],
           "sequential": [
            [
             0,
             "#440154"
            ],
            [
             0.1111111111111111,
             "#482878"
            ],
            [
             0.2222222222222222,
             "#3e4989"
            ],
            [
             0.3333333333333333,
             "#31688e"
            ],
            [
             0.4444444444444444,
             "#26828e"
            ],
            [
             0.5555555555555556,
             "#1f9e89"
            ],
            [
             0.6666666666666666,
             "#35b779"
            ],
            [
             0.7777777777777778,
             "#6ece58"
            ],
            [
             0.8888888888888888,
             "#b5de2b"
            ],
            [
             1,
             "#fde725"
            ]
           ],
           "sequentialminus": [
            [
             0,
             "#440154"
            ],
            [
             0.1111111111111111,
             "#482878"
            ],
            [
             0.2222222222222222,
             "#3e4989"
            ],
            [
             0.3333333333333333,
             "#31688e"
            ],
            [
             0.4444444444444444,
             "#26828e"
            ],
            [
             0.5555555555555556,
             "#1f9e89"
            ],
            [
             0.6666666666666666,
             "#35b779"
            ],
            [
             0.7777777777777778,
             "#6ece58"
            ],
            [
             0.8888888888888888,
             "#b5de2b"
            ],
            [
             1,
             "#fde725"
            ]
           ]
          },
          "colorway": [
           "#1F77B4",
           "#FF7F0E",
           "#2CA02C",
           "#D62728",
           "#9467BD",
           "#8C564B",
           "#E377C2",
           "#7F7F7F",
           "#BCBD22",
           "#17BECF"
          ],
          "font": {
           "color": "rgb(36,36,36)"
          },
          "geo": {
           "bgcolor": "white",
           "lakecolor": "white",
           "landcolor": "white",
           "showlakes": true,
           "showland": true,
           "subunitcolor": "white"
          },
          "hoverlabel": {
           "align": "left"
          },
          "hovermode": "closest",
          "mapbox": {
           "style": "light"
          },
          "paper_bgcolor": "white",
          "plot_bgcolor": "white",
          "polar": {
           "angularaxis": {
            "gridcolor": "rgb(232,232,232)",
            "linecolor": "rgb(36,36,36)",
            "showgrid": false,
            "showline": true,
            "ticks": "outside"
           },
           "bgcolor": "white",
           "radialaxis": {
            "gridcolor": "rgb(232,232,232)",
            "linecolor": "rgb(36,36,36)",
            "showgrid": false,
            "showline": true,
            "ticks": "outside"
           }
          },
          "scene": {
           "xaxis": {
            "backgroundcolor": "white",
            "gridcolor": "rgb(232,232,232)",
            "gridwidth": 2,
            "linecolor": "rgb(36,36,36)",
            "showbackground": true,
            "showgrid": false,
            "showline": true,
            "ticks": "outside",
            "zeroline": false,
            "zerolinecolor": "rgb(36,36,36)"
           },
           "yaxis": {
            "backgroundcolor": "white",
            "gridcolor": "rgb(232,232,232)",
            "gridwidth": 2,
            "linecolor": "rgb(36,36,36)",
            "showbackground": true,
            "showgrid": false,
            "showline": true,
            "ticks": "outside",
            "zeroline": false,
            "zerolinecolor": "rgb(36,36,36)"
           },
           "zaxis": {
            "backgroundcolor": "white",
            "gridcolor": "rgb(232,232,232)",
            "gridwidth": 2,
            "linecolor": "rgb(36,36,36)",
            "showbackground": true,
            "showgrid": false,
            "showline": true,
            "ticks": "outside",
            "zeroline": false,
            "zerolinecolor": "rgb(36,36,36)"
           }
          },
          "shapedefaults": {
           "fillcolor": "black",
           "line": {
            "width": 0
           },
           "opacity": 0.3
          },
          "ternary": {
           "aaxis": {
            "gridcolor": "rgb(232,232,232)",
            "linecolor": "rgb(36,36,36)",
            "showgrid": false,
            "showline": true,
            "ticks": "outside"
           },
           "baxis": {
            "gridcolor": "rgb(232,232,232)",
            "linecolor": "rgb(36,36,36)",
            "showgrid": false,
            "showline": true,
            "ticks": "outside"
           },
           "bgcolor": "white",
           "caxis": {
            "gridcolor": "rgb(232,232,232)",
            "linecolor": "rgb(36,36,36)",
            "showgrid": false,
            "showline": true,
            "ticks": "outside"
           }
          },
          "title": {
           "x": 0.05
          },
          "xaxis": {
           "automargin": true,
           "gridcolor": "rgb(232,232,232)",
           "linecolor": "rgb(36,36,36)",
           "showgrid": false,
           "showline": true,
           "ticks": "outside",
           "title": {
            "standoff": 15
           },
           "zeroline": false,
           "zerolinecolor": "rgb(36,36,36)"
          },
          "yaxis": {
           "automargin": true,
           "gridcolor": "rgb(232,232,232)",
           "linecolor": "rgb(36,36,36)",
           "showgrid": false,
           "showline": true,
           "ticks": "outside",
           "title": {
            "standoff": 15
           },
           "zeroline": false,
           "zerolinecolor": "rgb(36,36,36)"
          }
         }
        },
        "title": {
         "text": "Comparison of the geometric mean for articles matched on source and shortest path length<br><sup>Error bars: CI (90%), number of matched articles: 306 (158 finished)</sup>",
         "x": 0,
         "xref": "paper"
        },
        "xaxis": {
         "title": {
          "text": "Metrics"
         }
        },
        "yaxis": {
         "title": {
          "text": "Geometric mean (log-scale)"
         },
         "type": "log"
        }
       }
      }
     },
     "metadata": {},
     "output_type": "display_data"
    }
   ],
   "source": [
    "summary_figure(shpath_match_summary,f\"{len(shpath_match)} ({len(fin_shpath_match)} finished)\", \n",
    "            \"source and shortest path length\", \"shpath_match\", opacity = [1,0.4,0.4,0.4,0.4, 0.4])"
   ]
  },
  {
   "cell_type": "markdown",
   "id": "b336856d-ad35-4ff9-9b51-f1caccfbcb7d",
   "metadata": {
    "jp-MarkdownHeadingCollapsed": true,
    "tags": []
   },
   "source": [
    "### **(3a): Match on source, shortest path length and categories**"
   ]
  },
  {
   "attachments": {},
   "cell_type": "markdown",
   "id": "5d2398a6",
   "metadata": {},
   "source": [
    "In the next step we have matched on source, shortest path length and categories. After repeating the analysis we have decided not to continue with it as we did not have enough datapoints left after the matching. This is mainly due to the many categories where women are not present at all."
   ]
  },
  {
   "cell_type": "markdown",
   "id": "60a1184f-c1d2-4d20-a5a4-a7ac2bedf406",
   "metadata": {},
   "source": [
    "| **Name of dataframe**      | **Matched paths**                                                     |\n",
    "|----------------------|---------------------------------------------------------------------|\n",
    "| cat_match               | (3a) All paths                                   |\n",
    "| fin_cat_match    | (3a) Finished paths |\n",
    "| unfin_cat_match    | (3a) Unfinished paths |\n"
   ]
  },
  {
   "cell_type": "code",
   "execution_count": 1318,
   "id": "e8203e19-b447-4248-93ed-17a913c5a5ee",
   "metadata": {},
   "outputs": [],
   "source": [
    "cat_match_summary = pd.DataFrame(data=[], columns=[\"metric\",\"gender\", \"gmean\", \"ci_0\", \"ci_1\"])"
   ]
  },
  {
   "cell_type": "markdown",
   "id": "3586bdca-b925-4e46-b512-0b240ebd6540",
   "metadata": {},
   "source": [
    "#### **Success rate**"
   ]
  },
  {
   "cell_type": "code",
   "execution_count": 1319,
   "id": "dfc1494e-d033-47a3-82ff-ec70c38ef642",
   "metadata": {},
   "outputs": [],
   "source": [
    "# ALL PATHS matched\n",
    "#g_mean, cat_match_summary = bootstrap_metric(\"success_rate\", cat_match, \"female\", ci=0.9, summary = cat_match_summary)\n",
    "#g_mean, cat_match_summary = bootstrap_metric(\"success_rate\", cat_match, \"male\", ci=0.9, summary = cat_match_summary)"
   ]
  },
  {
   "cell_type": "markdown",
   "id": "3fe03709-8ff9-4b62-9866-8a431c021f0b",
   "metadata": {},
   "source": [
    "#### **Playtime**"
   ]
  },
  {
   "cell_type": "code",
   "execution_count": 1320,
   "id": "87b495f0-43f0-4372-9af8-8d0b924fcdc2",
   "metadata": {},
   "outputs": [
    {
     "name": "stdout",
     "output_type": "stream",
     "text": [
      "female: Geometric mean: 3.9567849447628056\n",
      "female: 90.0% confidence interval of the geometric mean of playtime_min: [1.675, 11.626]\n",
      "male: Geometric mean: 1.9771218887790076\n",
      "male: 90.0% confidence interval of the geometric mean of playtime_min: [1.359, 3.107]\n"
     ]
    }
   ],
   "source": [
    "# FINISHED PATHS matched\n",
    "g_mean, cat_match_summary = bootstrap_metric(\"playtime_min\", fin_cat_match, \"female\", ci=0.9, summary = cat_match_summary)\n",
    "g_mean, cat_match_summary = bootstrap_metric(\"playtime_min\", fin_cat_match, \"male\", ci=0.9, summary = cat_match_summary)"
   ]
  },
  {
   "cell_type": "markdown",
   "id": "17b9201c-2929-4f49-a1e3-f7ca8aacc150",
   "metadata": {},
   "source": [
    "#### **Path deviation**"
   ]
  },
  {
   "cell_type": "code",
   "execution_count": 1321,
   "id": "60ead353-ac28-452a-beff-3bfb9194ff0d",
   "metadata": {},
   "outputs": [
    {
     "name": "stdout",
     "output_type": "stream",
     "text": [
      "female: Geometric mean: 2.6960123091945554\n",
      "female: 90.0% confidence interval of the geometric mean of path_deviation: [1.348, 3.634]\n",
      "male: Geometric mean: 1.8171205928321397\n",
      "male: 90.0% confidence interval of the geometric mean of path_deviation: [1.122, 2.749]\n"
     ]
    }
   ],
   "source": [
    "# FINISHED PATHS matched\n",
    "g_mean, cat_match_summary = bootstrap_metric(\"path_deviation\", fin_cat_match, \"female\", ci=0.9, summary = cat_match_summary)\n",
    "g_mean, cat_match_summary = bootstrap_metric(\"path_deviation\", fin_cat_match, \"male\", ci=0.9, summary = cat_match_summary)"
   ]
  },
  {
   "attachments": {},
   "cell_type": "markdown",
   "id": "1f699c29",
   "metadata": {},
   "source": [
    "#### **In-degree**"
   ]
  },
  {
   "cell_type": "code",
   "execution_count": 1322,
   "id": "bd46f1f1",
   "metadata": {},
   "outputs": [
    {
     "name": "stdout",
     "output_type": "stream",
     "text": [
      "female: Geometric mean: 25.318955645390872\n",
      "female: 90.0% confidence interval of the geometric mean of nr_link_in: [12.509, 52.402]\n",
      "male: Geometric mean: 21.74911744844637\n",
      "male: 90.0% confidence interval of the geometric mean of nr_link_in: [16.510, 30.059]\n"
     ]
    }
   ],
   "source": [
    "g_mean, cat_match_summary = bootstrap_metric(\"nr_link_in\", fin_cat_match, \"female\", ci=0.9, summary = cat_match_summary)\n",
    "g_mean, cat_match_summary = bootstrap_metric(\"nr_link_in\", fin_cat_match, \"male\", ci=0.9, summary = cat_match_summary)"
   ]
  },
  {
   "cell_type": "markdown",
   "id": "e3c69c7d-ce9d-4777-a231-770d64f080a1",
   "metadata": {},
   "source": [
    "#### **Number of back clicks**"
   ]
  },
  {
   "cell_type": "code",
   "execution_count": 1323,
   "id": "dda7c1ea-0573-4752-9e0b-59a4bf607f4b",
   "metadata": {},
   "outputs": [],
   "source": [
    "# ALL PATHS matched\n",
    "#g_mean, cat_match_summary = bootstrap_metric(\"number_backclicks\", cat_match, \"female\", ci=0.9, summary = cat_match_summary)\n",
    "#g_mean, cat_match_summary = bootstrap_metric(\"number_backclicks\", cat_match, \"male\", ci=0.9, summary = cat_match_summary)"
   ]
  },
  {
   "cell_type": "markdown",
   "id": "b8ac7ee0-1e58-4270-abea-65eb036a6f16",
   "metadata": {},
   "source": [
    "#### **Difficulty rating**"
   ]
  },
  {
   "cell_type": "code",
   "execution_count": 1324,
   "id": "546631d8-fdba-44c8-960a-da40ba24e6fb",
   "metadata": {},
   "outputs": [
    {
     "name": "stdout",
     "output_type": "stream",
     "text": [
      "female: Geometric mean: 2.550849001251582\n",
      "female: 90.0% confidence interval of the geometric mean of difficulty_rating: [2.000, 2.766]\n",
      "male: Geometric mean: 2.352158045049347\n",
      "male: 90.0% confidence interval of the geometric mean of difficulty_rating: [1.431, 3.031]\n"
     ]
    }
   ],
   "source": [
    "# FINISHED PATHS matched\n",
    "g_mean, cat_match_summary = bootstrap_metric(\"difficulty_rating\", cat_match, \"female\", ci=0.9, summary = cat_match_summary)\n",
    "g_mean, cat_match_summary = bootstrap_metric(\"difficulty_rating\", cat_match, \"male\", ci=0.9, summary = cat_match_summary)"
   ]
  },
  {
   "cell_type": "markdown",
   "id": "525eedff-030c-4000-99a2-86ff8e0b5623",
   "metadata": {},
   "source": [
    "#### **Summary**"
   ]
  },
  {
   "cell_type": "code",
   "execution_count": 1325,
   "id": "e0ca358f-4e41-4d99-8e3c-9ea5cf6db74f",
   "metadata": {},
   "outputs": [
    {
     "data": {
      "text/html": [
       "<div>\n",
       "<style scoped>\n",
       "    .dataframe tbody tr th:only-of-type {\n",
       "        vertical-align: middle;\n",
       "    }\n",
       "\n",
       "    .dataframe tbody tr th {\n",
       "        vertical-align: top;\n",
       "    }\n",
       "\n",
       "    .dataframe thead th {\n",
       "        text-align: right;\n",
       "    }\n",
       "</style>\n",
       "<table border=\"1\" class=\"dataframe\">\n",
       "  <thead>\n",
       "    <tr style=\"text-align: right;\">\n",
       "      <th></th>\n",
       "      <th>metric</th>\n",
       "      <th>gender</th>\n",
       "      <th>gmean</th>\n",
       "      <th>ci_0</th>\n",
       "      <th>ci_1</th>\n",
       "    </tr>\n",
       "  </thead>\n",
       "  <tbody>\n",
       "    <tr>\n",
       "      <th>0</th>\n",
       "      <td>playtime_min</td>\n",
       "      <td>female</td>\n",
       "      <td>3.956785</td>\n",
       "      <td>1.674719</td>\n",
       "      <td>11.626328</td>\n",
       "    </tr>\n",
       "    <tr>\n",
       "      <th>1</th>\n",
       "      <td>playtime_min</td>\n",
       "      <td>male</td>\n",
       "      <td>1.977122</td>\n",
       "      <td>1.359199</td>\n",
       "      <td>3.106559</td>\n",
       "    </tr>\n",
       "    <tr>\n",
       "      <th>2</th>\n",
       "      <td>path_deviation</td>\n",
       "      <td>female</td>\n",
       "      <td>2.696012</td>\n",
       "      <td>1.348006</td>\n",
       "      <td>3.634241</td>\n",
       "    </tr>\n",
       "    <tr>\n",
       "      <th>3</th>\n",
       "      <td>path_deviation</td>\n",
       "      <td>male</td>\n",
       "      <td>1.817121</td>\n",
       "      <td>1.122462</td>\n",
       "      <td>2.749459</td>\n",
       "    </tr>\n",
       "    <tr>\n",
       "      <th>4</th>\n",
       "      <td>nr_link_in</td>\n",
       "      <td>female</td>\n",
       "      <td>25.318956</td>\n",
       "      <td>12.508561</td>\n",
       "      <td>52.402203</td>\n",
       "    </tr>\n",
       "    <tr>\n",
       "      <th>5</th>\n",
       "      <td>nr_link_in</td>\n",
       "      <td>male</td>\n",
       "      <td>21.749117</td>\n",
       "      <td>16.509636</td>\n",
       "      <td>30.05861</td>\n",
       "    </tr>\n",
       "    <tr>\n",
       "      <th>6</th>\n",
       "      <td>difficulty_rating</td>\n",
       "      <td>female</td>\n",
       "      <td>2.550849</td>\n",
       "      <td>2.0</td>\n",
       "      <td>2.766324</td>\n",
       "    </tr>\n",
       "    <tr>\n",
       "      <th>7</th>\n",
       "      <td>difficulty_rating</td>\n",
       "      <td>male</td>\n",
       "      <td>2.352158</td>\n",
       "      <td>1.430969</td>\n",
       "      <td>3.031433</td>\n",
       "    </tr>\n",
       "  </tbody>\n",
       "</table>\n",
       "</div>"
      ],
      "text/plain": [
       "              metric  gender      gmean       ci_0       ci_1\n",
       "0       playtime_min  female   3.956785   1.674719  11.626328\n",
       "1       playtime_min    male   1.977122   1.359199   3.106559\n",
       "2     path_deviation  female   2.696012   1.348006   3.634241\n",
       "3     path_deviation    male   1.817121   1.122462   2.749459\n",
       "4         nr_link_in  female  25.318956  12.508561  52.402203\n",
       "5         nr_link_in    male  21.749117  16.509636   30.05861\n",
       "6  difficulty_rating  female   2.550849        2.0   2.766324\n",
       "7  difficulty_rating    male   2.352158   1.430969   3.031433"
      ]
     },
     "execution_count": 1325,
     "metadata": {},
     "output_type": "execute_result"
    }
   ],
   "source": [
    "cat_match_summary"
   ]
  },
  {
   "cell_type": "code",
   "execution_count": 1326,
   "id": "f8686e84-ab96-44b6-ad7f-3ffad120d6f7",
   "metadata": {},
   "outputs": [
    {
     "data": {
      "application/vnd.plotly.v1+json": {
       "config": {
        "plotlyServerURL": "https://plot.ly"
       },
       "data": [
        {
         "error_y": {
          "array": [
           7.669,
           0.9379999999999997,
           27.083000000000002,
           0.21499999999999986
          ],
          "arrayminus": [
           2.282,
           1.348,
           12.809999999999999,
           0.5510000000000002
          ],
          "type": "data"
         },
         "hovertemplate": "Geometric mean: %{y}",
         "marker": {
          "color": [
           "hotpink",
           "hotpink",
           "hotpink",
           "hotpink",
           "hotpink",
           "hotpink"
          ],
          "opacity": [
           0.4,
           0.4,
           0.4,
           0.4,
           0.4
          ]
         },
         "name": "female",
         "type": "bar",
         "x": [
          "playtime_min",
          "path_deviation",
          "nr_link_in",
          "difficulty_rating"
         ],
         "y": [
          3.957,
          2.696,
          25.319,
          2.551
         ]
        },
        {
         "error_y": {
          "array": [
           1.1300000000000001,
           0.9320000000000002,
           8.310000000000002,
           0.6790000000000003
          ],
          "arrayminus": [
           0.6180000000000001,
           0.6949999999999998,
           5.238999999999997,
           0.9209999999999998
          ],
          "type": "data"
         },
         "hovertemplate": "Geometric mean: %{y}",
         "marker": {
          "color": [
           "skyblue",
           "skyblue",
           "skyblue",
           "skyblue",
           "skyblue",
           "skyblue"
          ],
          "opacity": [
           0.4,
           0.4,
           0.4,
           0.4,
           0.4
          ]
         },
         "name": "male",
         "type": "bar",
         "x": [
          "playtime_min",
          "path_deviation",
          "nr_link_in",
          "difficulty_rating"
         ],
         "y": [
          1.977,
          1.817,
          21.749,
          2.352
         ]
        }
       ],
       "layout": {
        "barmode": "group",
        "font": {
         "color": "#404040",
         "family": "Times New Roman, serif"
        },
        "legend": {
         "title": {
          "text": "Gender"
         }
        },
        "template": {
         "data": {
          "bar": [
           {
            "error_x": {
             "color": "rgb(36,36,36)"
            },
            "error_y": {
             "color": "rgb(36,36,36)"
            },
            "marker": {
             "line": {
              "color": "white",
              "width": 0.5
             },
             "pattern": {
              "fillmode": "overlay",
              "size": 10,
              "solidity": 0.2
             }
            },
            "type": "bar"
           }
          ],
          "barpolar": [
           {
            "marker": {
             "line": {
              "color": "white",
              "width": 0.5
             },
             "pattern": {
              "fillmode": "overlay",
              "size": 10,
              "solidity": 0.2
             }
            },
            "type": "barpolar"
           }
          ],
          "carpet": [
           {
            "aaxis": {
             "endlinecolor": "rgb(36,36,36)",
             "gridcolor": "white",
             "linecolor": "white",
             "minorgridcolor": "white",
             "startlinecolor": "rgb(36,36,36)"
            },
            "baxis": {
             "endlinecolor": "rgb(36,36,36)",
             "gridcolor": "white",
             "linecolor": "white",
             "minorgridcolor": "white",
             "startlinecolor": "rgb(36,36,36)"
            },
            "type": "carpet"
           }
          ],
          "choropleth": [
           {
            "colorbar": {
             "outlinewidth": 1,
             "tickcolor": "rgb(36,36,36)",
             "ticks": "outside"
            },
            "type": "choropleth"
           }
          ],
          "contour": [
           {
            "colorbar": {
             "outlinewidth": 1,
             "tickcolor": "rgb(36,36,36)",
             "ticks": "outside"
            },
            "colorscale": [
             [
              0,
              "#440154"
             ],
             [
              0.1111111111111111,
              "#482878"
             ],
             [
              0.2222222222222222,
              "#3e4989"
             ],
             [
              0.3333333333333333,
              "#31688e"
             ],
             [
              0.4444444444444444,
              "#26828e"
             ],
             [
              0.5555555555555556,
              "#1f9e89"
             ],
             [
              0.6666666666666666,
              "#35b779"
             ],
             [
              0.7777777777777778,
              "#6ece58"
             ],
             [
              0.8888888888888888,
              "#b5de2b"
             ],
             [
              1,
              "#fde725"
             ]
            ],
            "type": "contour"
           }
          ],
          "contourcarpet": [
           {
            "colorbar": {
             "outlinewidth": 1,
             "tickcolor": "rgb(36,36,36)",
             "ticks": "outside"
            },
            "type": "contourcarpet"
           }
          ],
          "heatmap": [
           {
            "colorbar": {
             "outlinewidth": 1,
             "tickcolor": "rgb(36,36,36)",
             "ticks": "outside"
            },
            "colorscale": [
             [
              0,
              "#440154"
             ],
             [
              0.1111111111111111,
              "#482878"
             ],
             [
              0.2222222222222222,
              "#3e4989"
             ],
             [
              0.3333333333333333,
              "#31688e"
             ],
             [
              0.4444444444444444,
              "#26828e"
             ],
             [
              0.5555555555555556,
              "#1f9e89"
             ],
             [
              0.6666666666666666,
              "#35b779"
             ],
             [
              0.7777777777777778,
              "#6ece58"
             ],
             [
              0.8888888888888888,
              "#b5de2b"
             ],
             [
              1,
              "#fde725"
             ]
            ],
            "type": "heatmap"
           }
          ],
          "heatmapgl": [
           {
            "colorbar": {
             "outlinewidth": 1,
             "tickcolor": "rgb(36,36,36)",
             "ticks": "outside"
            },
            "colorscale": [
             [
              0,
              "#440154"
             ],
             [
              0.1111111111111111,
              "#482878"
             ],
             [
              0.2222222222222222,
              "#3e4989"
             ],
             [
              0.3333333333333333,
              "#31688e"
             ],
             [
              0.4444444444444444,
              "#26828e"
             ],
             [
              0.5555555555555556,
              "#1f9e89"
             ],
             [
              0.6666666666666666,
              "#35b779"
             ],
             [
              0.7777777777777778,
              "#6ece58"
             ],
             [
              0.8888888888888888,
              "#b5de2b"
             ],
             [
              1,
              "#fde725"
             ]
            ],
            "type": "heatmapgl"
           }
          ],
          "histogram": [
           {
            "marker": {
             "line": {
              "color": "white",
              "width": 0.6
             }
            },
            "type": "histogram"
           }
          ],
          "histogram2d": [
           {
            "colorbar": {
             "outlinewidth": 1,
             "tickcolor": "rgb(36,36,36)",
             "ticks": "outside"
            },
            "colorscale": [
             [
              0,
              "#440154"
             ],
             [
              0.1111111111111111,
              "#482878"
             ],
             [
              0.2222222222222222,
              "#3e4989"
             ],
             [
              0.3333333333333333,
              "#31688e"
             ],
             [
              0.4444444444444444,
              "#26828e"
             ],
             [
              0.5555555555555556,
              "#1f9e89"
             ],
             [
              0.6666666666666666,
              "#35b779"
             ],
             [
              0.7777777777777778,
              "#6ece58"
             ],
             [
              0.8888888888888888,
              "#b5de2b"
             ],
             [
              1,
              "#fde725"
             ]
            ],
            "type": "histogram2d"
           }
          ],
          "histogram2dcontour": [
           {
            "colorbar": {
             "outlinewidth": 1,
             "tickcolor": "rgb(36,36,36)",
             "ticks": "outside"
            },
            "colorscale": [
             [
              0,
              "#440154"
             ],
             [
              0.1111111111111111,
              "#482878"
             ],
             [
              0.2222222222222222,
              "#3e4989"
             ],
             [
              0.3333333333333333,
              "#31688e"
             ],
             [
              0.4444444444444444,
              "#26828e"
             ],
             [
              0.5555555555555556,
              "#1f9e89"
             ],
             [
              0.6666666666666666,
              "#35b779"
             ],
             [
              0.7777777777777778,
              "#6ece58"
             ],
             [
              0.8888888888888888,
              "#b5de2b"
             ],
             [
              1,
              "#fde725"
             ]
            ],
            "type": "histogram2dcontour"
           }
          ],
          "mesh3d": [
           {
            "colorbar": {
             "outlinewidth": 1,
             "tickcolor": "rgb(36,36,36)",
             "ticks": "outside"
            },
            "type": "mesh3d"
           }
          ],
          "parcoords": [
           {
            "line": {
             "colorbar": {
              "outlinewidth": 1,
              "tickcolor": "rgb(36,36,36)",
              "ticks": "outside"
             }
            },
            "type": "parcoords"
           }
          ],
          "pie": [
           {
            "automargin": true,
            "type": "pie"
           }
          ],
          "scatter": [
           {
            "marker": {
             "colorbar": {
              "outlinewidth": 1,
              "tickcolor": "rgb(36,36,36)",
              "ticks": "outside"
             }
            },
            "type": "scatter"
           }
          ],
          "scatter3d": [
           {
            "line": {
             "colorbar": {
              "outlinewidth": 1,
              "tickcolor": "rgb(36,36,36)",
              "ticks": "outside"
             }
            },
            "marker": {
             "colorbar": {
              "outlinewidth": 1,
              "tickcolor": "rgb(36,36,36)",
              "ticks": "outside"
             }
            },
            "type": "scatter3d"
           }
          ],
          "scattercarpet": [
           {
            "marker": {
             "colorbar": {
              "outlinewidth": 1,
              "tickcolor": "rgb(36,36,36)",
              "ticks": "outside"
             }
            },
            "type": "scattercarpet"
           }
          ],
          "scattergeo": [
           {
            "marker": {
             "colorbar": {
              "outlinewidth": 1,
              "tickcolor": "rgb(36,36,36)",
              "ticks": "outside"
             }
            },
            "type": "scattergeo"
           }
          ],
          "scattergl": [
           {
            "marker": {
             "colorbar": {
              "outlinewidth": 1,
              "tickcolor": "rgb(36,36,36)",
              "ticks": "outside"
             }
            },
            "type": "scattergl"
           }
          ],
          "scattermapbox": [
           {
            "marker": {
             "colorbar": {
              "outlinewidth": 1,
              "tickcolor": "rgb(36,36,36)",
              "ticks": "outside"
             }
            },
            "type": "scattermapbox"
           }
          ],
          "scatterpolar": [
           {
            "marker": {
             "colorbar": {
              "outlinewidth": 1,
              "tickcolor": "rgb(36,36,36)",
              "ticks": "outside"
             }
            },
            "type": "scatterpolar"
           }
          ],
          "scatterpolargl": [
           {
            "marker": {
             "colorbar": {
              "outlinewidth": 1,
              "tickcolor": "rgb(36,36,36)",
              "ticks": "outside"
             }
            },
            "type": "scatterpolargl"
           }
          ],
          "scatterternary": [
           {
            "marker": {
             "colorbar": {
              "outlinewidth": 1,
              "tickcolor": "rgb(36,36,36)",
              "ticks": "outside"
             }
            },
            "type": "scatterternary"
           }
          ],
          "surface": [
           {
            "colorbar": {
             "outlinewidth": 1,
             "tickcolor": "rgb(36,36,36)",
             "ticks": "outside"
            },
            "colorscale": [
             [
              0,
              "#440154"
             ],
             [
              0.1111111111111111,
              "#482878"
             ],
             [
              0.2222222222222222,
              "#3e4989"
             ],
             [
              0.3333333333333333,
              "#31688e"
             ],
             [
              0.4444444444444444,
              "#26828e"
             ],
             [
              0.5555555555555556,
              "#1f9e89"
             ],
             [
              0.6666666666666666,
              "#35b779"
             ],
             [
              0.7777777777777778,
              "#6ece58"
             ],
             [
              0.8888888888888888,
              "#b5de2b"
             ],
             [
              1,
              "#fde725"
             ]
            ],
            "type": "surface"
           }
          ],
          "table": [
           {
            "cells": {
             "fill": {
              "color": "rgb(237,237,237)"
             },
             "line": {
              "color": "white"
             }
            },
            "header": {
             "fill": {
              "color": "rgb(217,217,217)"
             },
             "line": {
              "color": "white"
             }
            },
            "type": "table"
           }
          ]
         },
         "layout": {
          "annotationdefaults": {
           "arrowhead": 0,
           "arrowwidth": 1
          },
          "autotypenumbers": "strict",
          "coloraxis": {
           "colorbar": {
            "outlinewidth": 1,
            "tickcolor": "rgb(36,36,36)",
            "ticks": "outside"
           }
          },
          "colorscale": {
           "diverging": [
            [
             0,
             "rgb(103,0,31)"
            ],
            [
             0.1,
             "rgb(178,24,43)"
            ],
            [
             0.2,
             "rgb(214,96,77)"
            ],
            [
             0.3,
             "rgb(244,165,130)"
            ],
            [
             0.4,
             "rgb(253,219,199)"
            ],
            [
             0.5,
             "rgb(247,247,247)"
            ],
            [
             0.6,
             "rgb(209,229,240)"
            ],
            [
             0.7,
             "rgb(146,197,222)"
            ],
            [
             0.8,
             "rgb(67,147,195)"
            ],
            [
             0.9,
             "rgb(33,102,172)"
            ],
            [
             1,
             "rgb(5,48,97)"
            ]
           ],
           "sequential": [
            [
             0,
             "#440154"
            ],
            [
             0.1111111111111111,
             "#482878"
            ],
            [
             0.2222222222222222,
             "#3e4989"
            ],
            [
             0.3333333333333333,
             "#31688e"
            ],
            [
             0.4444444444444444,
             "#26828e"
            ],
            [
             0.5555555555555556,
             "#1f9e89"
            ],
            [
             0.6666666666666666,
             "#35b779"
            ],
            [
             0.7777777777777778,
             "#6ece58"
            ],
            [
             0.8888888888888888,
             "#b5de2b"
            ],
            [
             1,
             "#fde725"
            ]
           ],
           "sequentialminus": [
            [
             0,
             "#440154"
            ],
            [
             0.1111111111111111,
             "#482878"
            ],
            [
             0.2222222222222222,
             "#3e4989"
            ],
            [
             0.3333333333333333,
             "#31688e"
            ],
            [
             0.4444444444444444,
             "#26828e"
            ],
            [
             0.5555555555555556,
             "#1f9e89"
            ],
            [
             0.6666666666666666,
             "#35b779"
            ],
            [
             0.7777777777777778,
             "#6ece58"
            ],
            [
             0.8888888888888888,
             "#b5de2b"
            ],
            [
             1,
             "#fde725"
            ]
           ]
          },
          "colorway": [
           "#1F77B4",
           "#FF7F0E",
           "#2CA02C",
           "#D62728",
           "#9467BD",
           "#8C564B",
           "#E377C2",
           "#7F7F7F",
           "#BCBD22",
           "#17BECF"
          ],
          "font": {
           "color": "rgb(36,36,36)"
          },
          "geo": {
           "bgcolor": "white",
           "lakecolor": "white",
           "landcolor": "white",
           "showlakes": true,
           "showland": true,
           "subunitcolor": "white"
          },
          "hoverlabel": {
           "align": "left"
          },
          "hovermode": "closest",
          "mapbox": {
           "style": "light"
          },
          "paper_bgcolor": "white",
          "plot_bgcolor": "white",
          "polar": {
           "angularaxis": {
            "gridcolor": "rgb(232,232,232)",
            "linecolor": "rgb(36,36,36)",
            "showgrid": false,
            "showline": true,
            "ticks": "outside"
           },
           "bgcolor": "white",
           "radialaxis": {
            "gridcolor": "rgb(232,232,232)",
            "linecolor": "rgb(36,36,36)",
            "showgrid": false,
            "showline": true,
            "ticks": "outside"
           }
          },
          "scene": {
           "xaxis": {
            "backgroundcolor": "white",
            "gridcolor": "rgb(232,232,232)",
            "gridwidth": 2,
            "linecolor": "rgb(36,36,36)",
            "showbackground": true,
            "showgrid": false,
            "showline": true,
            "ticks": "outside",
            "zeroline": false,
            "zerolinecolor": "rgb(36,36,36)"
           },
           "yaxis": {
            "backgroundcolor": "white",
            "gridcolor": "rgb(232,232,232)",
            "gridwidth": 2,
            "linecolor": "rgb(36,36,36)",
            "showbackground": true,
            "showgrid": false,
            "showline": true,
            "ticks": "outside",
            "zeroline": false,
            "zerolinecolor": "rgb(36,36,36)"
           },
           "zaxis": {
            "backgroundcolor": "white",
            "gridcolor": "rgb(232,232,232)",
            "gridwidth": 2,
            "linecolor": "rgb(36,36,36)",
            "showbackground": true,
            "showgrid": false,
            "showline": true,
            "ticks": "outside",
            "zeroline": false,
            "zerolinecolor": "rgb(36,36,36)"
           }
          },
          "shapedefaults": {
           "fillcolor": "black",
           "line": {
            "width": 0
           },
           "opacity": 0.3
          },
          "ternary": {
           "aaxis": {
            "gridcolor": "rgb(232,232,232)",
            "linecolor": "rgb(36,36,36)",
            "showgrid": false,
            "showline": true,
            "ticks": "outside"
           },
           "baxis": {
            "gridcolor": "rgb(232,232,232)",
            "linecolor": "rgb(36,36,36)",
            "showgrid": false,
            "showline": true,
            "ticks": "outside"
           },
           "bgcolor": "white",
           "caxis": {
            "gridcolor": "rgb(232,232,232)",
            "linecolor": "rgb(36,36,36)",
            "showgrid": false,
            "showline": true,
            "ticks": "outside"
           }
          },
          "title": {
           "x": 0.05
          },
          "xaxis": {
           "automargin": true,
           "gridcolor": "rgb(232,232,232)",
           "linecolor": "rgb(36,36,36)",
           "showgrid": false,
           "showline": true,
           "ticks": "outside",
           "title": {
            "standoff": 15
           },
           "zeroline": false,
           "zerolinecolor": "rgb(36,36,36)"
          },
          "yaxis": {
           "automargin": true,
           "gridcolor": "rgb(232,232,232)",
           "linecolor": "rgb(36,36,36)",
           "showgrid": false,
           "showline": true,
           "ticks": "outside",
           "title": {
            "standoff": 15
           },
           "zeroline": false,
           "zerolinecolor": "rgb(36,36,36)"
          }
         }
        },
        "title": {
         "text": "Comparison of the geometric mean for articles matched on source, shortest path length and category<br><sup>Error bars: CI (90%), number of matched articles: 22 (12 finished)</sup>",
         "x": 0,
         "xref": "paper"
        },
        "xaxis": {
         "title": {
          "text": "Metrics"
         }
        },
        "yaxis": {
         "title": {
          "text": "Geometric mean (log-scale)"
         },
         "type": "log"
        }
       }
      }
     },
     "metadata": {},
     "output_type": "display_data"
    }
   ],
   "source": [
    "summary_figure(cat_match_summary,f\"{len(cat_match)} ({len(fin_cat_match)} finished)\", \"source, shortest path length and category\", \"cat_match\", opacity = [0.4,0.4,0.4,0.4,0.4])"
   ]
  },
  {
   "cell_type": "markdown",
   "id": "965f84a7-7a02-46a4-b5e1-98304b45af41",
   "metadata": {
    "jp-MarkdownHeadingCollapsed": true,
    "tags": []
   },
   "source": [
    "### **(3b): Match on source, shortest path length and in-degree**"
   ]
  },
  {
   "attachments": {},
   "cell_type": "markdown",
   "id": "fe14852b",
   "metadata": {},
   "source": [
    "As a variation of the previous step, we have matched on source, shortest path length and the in-degree. To prevent, having the same problem as above we have grouped the 77 unique in-degree values to 10 evenly sized groups (see in data preprocessing). Now, target articles that have the same representative group out of the 10, can be compared."
   ]
  },
  {
   "cell_type": "markdown",
   "id": "d19a0fc1-2358-4b4e-a206-31f72b960804",
   "metadata": {},
   "source": [
    "| **Name of dataframe**      | **Matched paths**                                                     |\n",
    "|----------------------|---------------------------------------------------------------------|\n",
    "| degree_match               | (3b) All paths                                   |\n",
    "| fin_degree_match    | (3b) Finished paths |\n",
    "| unfin_degree_match    | (3b) Unfinished paths |"
   ]
  },
  {
   "cell_type": "code",
   "execution_count": 1327,
   "id": "c1b5b044-e59e-41ab-857c-bcd5da06a30d",
   "metadata": {},
   "outputs": [],
   "source": [
    "degree_match_summary = pd.DataFrame(data=[], columns=[\"metric\",\"gender\", \"gmean\", \"ci_0\", \"ci_1\"])"
   ]
  },
  {
   "cell_type": "markdown",
   "id": "f2a7bf37-f596-4646-b40f-1f516d6f1a5a",
   "metadata": {},
   "source": [
    "#### **Success rate**"
   ]
  },
  {
   "cell_type": "code",
   "execution_count": 1328,
   "id": "3b4e5c08-bd9d-420b-8ebd-f644197bc5f7",
   "metadata": {},
   "outputs": [
    {
     "name": "stdout",
     "output_type": "stream",
     "text": [
      "female: Geometric mean: 0.5695552949267243\n",
      "female: 90.0% confidence interval of the geometric mean of success_rate: [0.514, 0.623]\n",
      "male: Geometric mean: 0.9186269540704759\n",
      "male: 90.0% confidence interval of the geometric mean of success_rate: [0.844, 0.945]\n"
     ]
    }
   ],
   "source": [
    "# ALL PATHS matched\n",
    "g_mean, degree_match_summary = bootstrap_metric(\"success_rate\", degree_match, \"female\", ci=0.9, summary = degree_match_summary)\n",
    "g_mean, degree_match_summary = bootstrap_metric(\"success_rate\", degree_match, \"male\", ci=0.9, summary = degree_match_summary)"
   ]
  },
  {
   "cell_type": "markdown",
   "id": "bc2ecc90-922c-4d87-8c75-587d09528629",
   "metadata": {},
   "source": [
    "#### **Playtime**"
   ]
  },
  {
   "cell_type": "code",
   "execution_count": 1329,
   "id": "653daf2c-4309-4b18-b7eb-6a48c89ff1e8",
   "metadata": {},
   "outputs": [
    {
     "name": "stdout",
     "output_type": "stream",
     "text": [
      "female: Geometric mean: 2.4966532110486086\n",
      "female: 90.0% confidence interval of the geometric mean of playtime_min: [2.083, 2.996]\n",
      "male: Geometric mean: 2.2401291478161554\n",
      "male: 90.0% confidence interval of the geometric mean of playtime_min: [1.853, 2.682]\n"
     ]
    }
   ],
   "source": [
    "# FINISHED PATHS matched\n",
    "g_mean, degree_match_summary = bootstrap_metric(\"playtime_min\", fin_degree_match, \"female\", ci=0.9, summary = degree_match_summary)\n",
    "g_mean, degree_match_summary = bootstrap_metric(\"playtime_min\", fin_degree_match, \"male\", ci=0.9, summary = degree_match_summary)"
   ]
  },
  {
   "cell_type": "markdown",
   "id": "ae68b49b-ba11-47d3-aebe-bef7f7f258ae",
   "metadata": {},
   "source": [
    "#### **Path deviation**"
   ]
  },
  {
   "cell_type": "code",
   "execution_count": 1330,
   "id": "f1fa6ff3-f81c-4591-881c-c66790cd8634",
   "metadata": {},
   "outputs": [
    {
     "name": "stdout",
     "output_type": "stream",
     "text": [
      "female: Geometric mean: 2.7815231004758134\n",
      "female: 90.0% confidence interval of the geometric mean of path_deviation: [2.329, 3.348]\n",
      "male: Geometric mean: 3.0894217828337016\n",
      "male: 90.0% confidence interval of the geometric mean of path_deviation: [2.618, 3.710]\n"
     ]
    }
   ],
   "source": [
    "# FINISHED PATHS matched\n",
    "g_mean, degree_match_summary = bootstrap_metric(\"path_deviation\", fin_degree_match, \"female\", ci=0.9, summary = degree_match_summary)\n",
    "g_mean, degree_match_summary = bootstrap_metric(\"path_deviation\", fin_degree_match, \"male\", ci=0.9, summary = degree_match_summary)"
   ]
  },
  {
   "cell_type": "markdown",
   "id": "d4feaddd-bf1e-4e08-9b19-3cda2a63f910",
   "metadata": {},
   "source": [
    "#### **Number of backclicks**"
   ]
  },
  {
   "cell_type": "code",
   "execution_count": 1331,
   "id": "82f9b9fc-5277-4b8f-a89c-4eb5abca5f1f",
   "metadata": {},
   "outputs": [
    {
     "name": "stdout",
     "output_type": "stream",
     "text": [
      "female: Geometric mean: 1.6940612677841544\n",
      "female: 90.0% confidence interval of the geometric mean of number_backclicks: [1.400, 2.194]\n",
      "male: Geometric mean: 2.2106664570866146\n",
      "male: 90.0% confidence interval of the geometric mean of number_backclicks: [1.678, 3.039]\n"
     ]
    }
   ],
   "source": [
    "# ALL PATHS matched\n",
    "g_mean, degree_match_summary = bootstrap_metric(\"number_backclicks\", degree_match, \"female\", ci=0.9, summary = degree_match_summary)\n",
    "g_mean, degree_match_summary = bootstrap_metric(\"number_backclicks\", degree_match, \"male\", ci=0.9, summary = degree_match_summary)"
   ]
  },
  {
   "cell_type": "markdown",
   "id": "b7cecc5e-77ce-4e13-8325-528d81479418",
   "metadata": {},
   "source": [
    "#### **Difficulty rating**"
   ]
  },
  {
   "cell_type": "code",
   "execution_count": 1332,
   "id": "aaaa708d-9c9b-493a-9f2f-7a4fd61f3d39",
   "metadata": {},
   "outputs": [
    {
     "name": "stdout",
     "output_type": "stream",
     "text": [
      "female: Geometric mean: 2.0801128417156494\n",
      "female: 90.0% confidence interval of the geometric mean of difficulty_rating: [1.799, 2.358]\n",
      "male: Geometric mean: 2.315523756903526\n",
      "male: 90.0% confidence interval of the geometric mean of difficulty_rating: [2.055, 2.581]\n"
     ]
    }
   ],
   "source": [
    "# FINISHED PATHS matched\n",
    "g_mean, degree_match_summary = bootstrap_metric(\"difficulty_rating\", degree_match, \"female\", ci=0.9, summary = degree_match_summary)\n",
    "g_mean, degree_match_summary = bootstrap_metric(\"difficulty_rating\", degree_match, \"male\", ci=0.9, summary = degree_match_summary)"
   ]
  },
  {
   "cell_type": "markdown",
   "id": "1d8dbb4c-6ab0-46dd-9749-480148cfaa36",
   "metadata": {},
   "source": [
    "#### **Summary**"
   ]
  },
  {
   "cell_type": "code",
   "execution_count": 1333,
   "id": "22227fad-53cc-4b8e-b3f2-4e7fb45b55e8",
   "metadata": {},
   "outputs": [
    {
     "data": {
      "text/html": [
       "<div>\n",
       "<style scoped>\n",
       "    .dataframe tbody tr th:only-of-type {\n",
       "        vertical-align: middle;\n",
       "    }\n",
       "\n",
       "    .dataframe tbody tr th {\n",
       "        vertical-align: top;\n",
       "    }\n",
       "\n",
       "    .dataframe thead th {\n",
       "        text-align: right;\n",
       "    }\n",
       "</style>\n",
       "<table border=\"1\" class=\"dataframe\">\n",
       "  <thead>\n",
       "    <tr style=\"text-align: right;\">\n",
       "      <th></th>\n",
       "      <th>metric</th>\n",
       "      <th>gender</th>\n",
       "      <th>gmean</th>\n",
       "      <th>ci_0</th>\n",
       "      <th>ci_1</th>\n",
       "    </tr>\n",
       "  </thead>\n",
       "  <tbody>\n",
       "    <tr>\n",
       "      <th>0</th>\n",
       "      <td>success_rate</td>\n",
       "      <td>female</td>\n",
       "      <td>0.569555</td>\n",
       "      <td>0.514281</td>\n",
       "      <td>0.623138</td>\n",
       "    </tr>\n",
       "    <tr>\n",
       "      <th>1</th>\n",
       "      <td>success_rate</td>\n",
       "      <td>male</td>\n",
       "      <td>0.918627</td>\n",
       "      <td>0.843875</td>\n",
       "      <td>0.944988</td>\n",
       "    </tr>\n",
       "    <tr>\n",
       "      <th>2</th>\n",
       "      <td>playtime_min</td>\n",
       "      <td>female</td>\n",
       "      <td>2.496653</td>\n",
       "      <td>2.083147</td>\n",
       "      <td>2.995924</td>\n",
       "    </tr>\n",
       "    <tr>\n",
       "      <th>3</th>\n",
       "      <td>playtime_min</td>\n",
       "      <td>male</td>\n",
       "      <td>2.240129</td>\n",
       "      <td>1.852944</td>\n",
       "      <td>2.682472</td>\n",
       "    </tr>\n",
       "    <tr>\n",
       "      <th>4</th>\n",
       "      <td>path_deviation</td>\n",
       "      <td>female</td>\n",
       "      <td>2.781523</td>\n",
       "      <td>2.329364</td>\n",
       "      <td>3.348389</td>\n",
       "    </tr>\n",
       "    <tr>\n",
       "      <th>5</th>\n",
       "      <td>path_deviation</td>\n",
       "      <td>male</td>\n",
       "      <td>3.089422</td>\n",
       "      <td>2.617798</td>\n",
       "      <td>3.709927</td>\n",
       "    </tr>\n",
       "    <tr>\n",
       "      <th>6</th>\n",
       "      <td>number_backclicks</td>\n",
       "      <td>female</td>\n",
       "      <td>1.694061</td>\n",
       "      <td>1.399981</td>\n",
       "      <td>2.194316</td>\n",
       "    </tr>\n",
       "    <tr>\n",
       "      <th>7</th>\n",
       "      <td>number_backclicks</td>\n",
       "      <td>male</td>\n",
       "      <td>2.210666</td>\n",
       "      <td>1.678061</td>\n",
       "      <td>3.039088</td>\n",
       "    </tr>\n",
       "    <tr>\n",
       "      <th>8</th>\n",
       "      <td>difficulty_rating</td>\n",
       "      <td>female</td>\n",
       "      <td>2.080113</td>\n",
       "      <td>1.799065</td>\n",
       "      <td>2.357732</td>\n",
       "    </tr>\n",
       "    <tr>\n",
       "      <th>9</th>\n",
       "      <td>difficulty_rating</td>\n",
       "      <td>male</td>\n",
       "      <td>2.315524</td>\n",
       "      <td>2.054528</td>\n",
       "      <td>2.580545</td>\n",
       "    </tr>\n",
       "  </tbody>\n",
       "</table>\n",
       "</div>"
      ],
      "text/plain": [
       "              metric  gender     gmean      ci_0      ci_1\n",
       "0       success_rate  female  0.569555  0.514281  0.623138\n",
       "1       success_rate    male  0.918627  0.843875  0.944988\n",
       "2       playtime_min  female  2.496653  2.083147  2.995924\n",
       "3       playtime_min    male  2.240129  1.852944  2.682472\n",
       "4     path_deviation  female  2.781523  2.329364  3.348389\n",
       "5     path_deviation    male  3.089422  2.617798  3.709927\n",
       "6  number_backclicks  female  1.694061  1.399981  2.194316\n",
       "7  number_backclicks    male  2.210666  1.678061  3.039088\n",
       "8  difficulty_rating  female  2.080113  1.799065  2.357732\n",
       "9  difficulty_rating    male  2.315524  2.054528  2.580545"
      ]
     },
     "execution_count": 1333,
     "metadata": {},
     "output_type": "execute_result"
    }
   ],
   "source": [
    "degree_match_summary"
   ]
  },
  {
   "cell_type": "code",
   "execution_count": 1334,
   "id": "ca9a84a7-732c-4573-8dda-74b7918f35ac",
   "metadata": {},
   "outputs": [
    {
     "data": {
      "application/vnd.plotly.v1+json": {
       "config": {
        "plotlyServerURL": "https://plot.ly"
       },
       "data": [
        {
         "error_y": {
          "array": [
           0.05300000000000005,
           0.4990000000000001,
           0.5659999999999998,
           0.5,
           0.278
          ],
          "arrayminus": [
           0.05599999999999994,
           0.4139999999999997,
           0.45299999999999985,
           0.29400000000000004,
           0.28100000000000014
          ],
          "type": "data"
         },
         "hovertemplate": "Geometric mean: %{y}",
         "marker": {
          "color": [
           "hotpink",
           "hotpink",
           "hotpink",
           "hotpink",
           "hotpink",
           "hotpink"
          ],
          "opacity": [
           1,
           0.4,
           0.4,
           0.4,
           0.4
          ]
         },
         "name": "female",
         "type": "bar",
         "x": [
          "success_rate",
          "playtime_min",
          "path_deviation",
          "number_backclicks",
          "difficulty_rating"
         ],
         "y": [
          0.57,
          2.497,
          2.782,
          1.694,
          2.08
         ]
        },
        {
         "error_y": {
          "array": [
           0.025999999999999912,
           0.4419999999999997,
           0.621,
           0.8280000000000003,
           0.2650000000000001
          ],
          "arrayminus": [
           0.07500000000000007,
           0.38700000000000023,
           0.4710000000000001,
           0.5329999999999999,
           0.2609999999999997
          ],
          "type": "data"
         },
         "hovertemplate": "Geometric mean: %{y}",
         "marker": {
          "color": [
           "skyblue",
           "skyblue",
           "skyblue",
           "skyblue",
           "skyblue",
           "skyblue"
          ],
          "opacity": [
           1,
           0.4,
           0.4,
           0.4,
           0.4
          ]
         },
         "name": "male",
         "type": "bar",
         "x": [
          "success_rate",
          "playtime_min",
          "path_deviation",
          "number_backclicks",
          "difficulty_rating"
         ],
         "y": [
          0.919,
          2.24,
          3.089,
          2.211,
          2.316
         ]
        }
       ],
       "layout": {
        "barmode": "group",
        "font": {
         "color": "#404040",
         "family": "Times New Roman, serif"
        },
        "legend": {
         "title": {
          "text": "Gender"
         }
        },
        "template": {
         "data": {
          "bar": [
           {
            "error_x": {
             "color": "rgb(36,36,36)"
            },
            "error_y": {
             "color": "rgb(36,36,36)"
            },
            "marker": {
             "line": {
              "color": "white",
              "width": 0.5
             },
             "pattern": {
              "fillmode": "overlay",
              "size": 10,
              "solidity": 0.2
             }
            },
            "type": "bar"
           }
          ],
          "barpolar": [
           {
            "marker": {
             "line": {
              "color": "white",
              "width": 0.5
             },
             "pattern": {
              "fillmode": "overlay",
              "size": 10,
              "solidity": 0.2
             }
            },
            "type": "barpolar"
           }
          ],
          "carpet": [
           {
            "aaxis": {
             "endlinecolor": "rgb(36,36,36)",
             "gridcolor": "white",
             "linecolor": "white",
             "minorgridcolor": "white",
             "startlinecolor": "rgb(36,36,36)"
            },
            "baxis": {
             "endlinecolor": "rgb(36,36,36)",
             "gridcolor": "white",
             "linecolor": "white",
             "minorgridcolor": "white",
             "startlinecolor": "rgb(36,36,36)"
            },
            "type": "carpet"
           }
          ],
          "choropleth": [
           {
            "colorbar": {
             "outlinewidth": 1,
             "tickcolor": "rgb(36,36,36)",
             "ticks": "outside"
            },
            "type": "choropleth"
           }
          ],
          "contour": [
           {
            "colorbar": {
             "outlinewidth": 1,
             "tickcolor": "rgb(36,36,36)",
             "ticks": "outside"
            },
            "colorscale": [
             [
              0,
              "#440154"
             ],
             [
              0.1111111111111111,
              "#482878"
             ],
             [
              0.2222222222222222,
              "#3e4989"
             ],
             [
              0.3333333333333333,
              "#31688e"
             ],
             [
              0.4444444444444444,
              "#26828e"
             ],
             [
              0.5555555555555556,
              "#1f9e89"
             ],
             [
              0.6666666666666666,
              "#35b779"
             ],
             [
              0.7777777777777778,
              "#6ece58"
             ],
             [
              0.8888888888888888,
              "#b5de2b"
             ],
             [
              1,
              "#fde725"
             ]
            ],
            "type": "contour"
           }
          ],
          "contourcarpet": [
           {
            "colorbar": {
             "outlinewidth": 1,
             "tickcolor": "rgb(36,36,36)",
             "ticks": "outside"
            },
            "type": "contourcarpet"
           }
          ],
          "heatmap": [
           {
            "colorbar": {
             "outlinewidth": 1,
             "tickcolor": "rgb(36,36,36)",
             "ticks": "outside"
            },
            "colorscale": [
             [
              0,
              "#440154"
             ],
             [
              0.1111111111111111,
              "#482878"
             ],
             [
              0.2222222222222222,
              "#3e4989"
             ],
             [
              0.3333333333333333,
              "#31688e"
             ],
             [
              0.4444444444444444,
              "#26828e"
             ],
             [
              0.5555555555555556,
              "#1f9e89"
             ],
             [
              0.6666666666666666,
              "#35b779"
             ],
             [
              0.7777777777777778,
              "#6ece58"
             ],
             [
              0.8888888888888888,
              "#b5de2b"
             ],
             [
              1,
              "#fde725"
             ]
            ],
            "type": "heatmap"
           }
          ],
          "heatmapgl": [
           {
            "colorbar": {
             "outlinewidth": 1,
             "tickcolor": "rgb(36,36,36)",
             "ticks": "outside"
            },
            "colorscale": [
             [
              0,
              "#440154"
             ],
             [
              0.1111111111111111,
              "#482878"
             ],
             [
              0.2222222222222222,
              "#3e4989"
             ],
             [
              0.3333333333333333,
              "#31688e"
             ],
             [
              0.4444444444444444,
              "#26828e"
             ],
             [
              0.5555555555555556,
              "#1f9e89"
             ],
             [
              0.6666666666666666,
              "#35b779"
             ],
             [
              0.7777777777777778,
              "#6ece58"
             ],
             [
              0.8888888888888888,
              "#b5de2b"
             ],
             [
              1,
              "#fde725"
             ]
            ],
            "type": "heatmapgl"
           }
          ],
          "histogram": [
           {
            "marker": {
             "line": {
              "color": "white",
              "width": 0.6
             }
            },
            "type": "histogram"
           }
          ],
          "histogram2d": [
           {
            "colorbar": {
             "outlinewidth": 1,
             "tickcolor": "rgb(36,36,36)",
             "ticks": "outside"
            },
            "colorscale": [
             [
              0,
              "#440154"
             ],
             [
              0.1111111111111111,
              "#482878"
             ],
             [
              0.2222222222222222,
              "#3e4989"
             ],
             [
              0.3333333333333333,
              "#31688e"
             ],
             [
              0.4444444444444444,
              "#26828e"
             ],
             [
              0.5555555555555556,
              "#1f9e89"
             ],
             [
              0.6666666666666666,
              "#35b779"
             ],
             [
              0.7777777777777778,
              "#6ece58"
             ],
             [
              0.8888888888888888,
              "#b5de2b"
             ],
             [
              1,
              "#fde725"
             ]
            ],
            "type": "histogram2d"
           }
          ],
          "histogram2dcontour": [
           {
            "colorbar": {
             "outlinewidth": 1,
             "tickcolor": "rgb(36,36,36)",
             "ticks": "outside"
            },
            "colorscale": [
             [
              0,
              "#440154"
             ],
             [
              0.1111111111111111,
              "#482878"
             ],
             [
              0.2222222222222222,
              "#3e4989"
             ],
             [
              0.3333333333333333,
              "#31688e"
             ],
             [
              0.4444444444444444,
              "#26828e"
             ],
             [
              0.5555555555555556,
              "#1f9e89"
             ],
             [
              0.6666666666666666,
              "#35b779"
             ],
             [
              0.7777777777777778,
              "#6ece58"
             ],
             [
              0.8888888888888888,
              "#b5de2b"
             ],
             [
              1,
              "#fde725"
             ]
            ],
            "type": "histogram2dcontour"
           }
          ],
          "mesh3d": [
           {
            "colorbar": {
             "outlinewidth": 1,
             "tickcolor": "rgb(36,36,36)",
             "ticks": "outside"
            },
            "type": "mesh3d"
           }
          ],
          "parcoords": [
           {
            "line": {
             "colorbar": {
              "outlinewidth": 1,
              "tickcolor": "rgb(36,36,36)",
              "ticks": "outside"
             }
            },
            "type": "parcoords"
           }
          ],
          "pie": [
           {
            "automargin": true,
            "type": "pie"
           }
          ],
          "scatter": [
           {
            "marker": {
             "colorbar": {
              "outlinewidth": 1,
              "tickcolor": "rgb(36,36,36)",
              "ticks": "outside"
             }
            },
            "type": "scatter"
           }
          ],
          "scatter3d": [
           {
            "line": {
             "colorbar": {
              "outlinewidth": 1,
              "tickcolor": "rgb(36,36,36)",
              "ticks": "outside"
             }
            },
            "marker": {
             "colorbar": {
              "outlinewidth": 1,
              "tickcolor": "rgb(36,36,36)",
              "ticks": "outside"
             }
            },
            "type": "scatter3d"
           }
          ],
          "scattercarpet": [
           {
            "marker": {
             "colorbar": {
              "outlinewidth": 1,
              "tickcolor": "rgb(36,36,36)",
              "ticks": "outside"
             }
            },
            "type": "scattercarpet"
           }
          ],
          "scattergeo": [
           {
            "marker": {
             "colorbar": {
              "outlinewidth": 1,
              "tickcolor": "rgb(36,36,36)",
              "ticks": "outside"
             }
            },
            "type": "scattergeo"
           }
          ],
          "scattergl": [
           {
            "marker": {
             "colorbar": {
              "outlinewidth": 1,
              "tickcolor": "rgb(36,36,36)",
              "ticks": "outside"
             }
            },
            "type": "scattergl"
           }
          ],
          "scattermapbox": [
           {
            "marker": {
             "colorbar": {
              "outlinewidth": 1,
              "tickcolor": "rgb(36,36,36)",
              "ticks": "outside"
             }
            },
            "type": "scattermapbox"
           }
          ],
          "scatterpolar": [
           {
            "marker": {
             "colorbar": {
              "outlinewidth": 1,
              "tickcolor": "rgb(36,36,36)",
              "ticks": "outside"
             }
            },
            "type": "scatterpolar"
           }
          ],
          "scatterpolargl": [
           {
            "marker": {
             "colorbar": {
              "outlinewidth": 1,
              "tickcolor": "rgb(36,36,36)",
              "ticks": "outside"
             }
            },
            "type": "scatterpolargl"
           }
          ],
          "scatterternary": [
           {
            "marker": {
             "colorbar": {
              "outlinewidth": 1,
              "tickcolor": "rgb(36,36,36)",
              "ticks": "outside"
             }
            },
            "type": "scatterternary"
           }
          ],
          "surface": [
           {
            "colorbar": {
             "outlinewidth": 1,
             "tickcolor": "rgb(36,36,36)",
             "ticks": "outside"
            },
            "colorscale": [
             [
              0,
              "#440154"
             ],
             [
              0.1111111111111111,
              "#482878"
             ],
             [
              0.2222222222222222,
              "#3e4989"
             ],
             [
              0.3333333333333333,
              "#31688e"
             ],
             [
              0.4444444444444444,
              "#26828e"
             ],
             [
              0.5555555555555556,
              "#1f9e89"
             ],
             [
              0.6666666666666666,
              "#35b779"
             ],
             [
              0.7777777777777778,
              "#6ece58"
             ],
             [
              0.8888888888888888,
              "#b5de2b"
             ],
             [
              1,
              "#fde725"
             ]
            ],
            "type": "surface"
           }
          ],
          "table": [
           {
            "cells": {
             "fill": {
              "color": "rgb(237,237,237)"
             },
             "line": {
              "color": "white"
             }
            },
            "header": {
             "fill": {
              "color": "rgb(217,217,217)"
             },
             "line": {
              "color": "white"
             }
            },
            "type": "table"
           }
          ]
         },
         "layout": {
          "annotationdefaults": {
           "arrowhead": 0,
           "arrowwidth": 1
          },
          "autotypenumbers": "strict",
          "coloraxis": {
           "colorbar": {
            "outlinewidth": 1,
            "tickcolor": "rgb(36,36,36)",
            "ticks": "outside"
           }
          },
          "colorscale": {
           "diverging": [
            [
             0,
             "rgb(103,0,31)"
            ],
            [
             0.1,
             "rgb(178,24,43)"
            ],
            [
             0.2,
             "rgb(214,96,77)"
            ],
            [
             0.3,
             "rgb(244,165,130)"
            ],
            [
             0.4,
             "rgb(253,219,199)"
            ],
            [
             0.5,
             "rgb(247,247,247)"
            ],
            [
             0.6,
             "rgb(209,229,240)"
            ],
            [
             0.7,
             "rgb(146,197,222)"
            ],
            [
             0.8,
             "rgb(67,147,195)"
            ],
            [
             0.9,
             "rgb(33,102,172)"
            ],
            [
             1,
             "rgb(5,48,97)"
            ]
           ],
           "sequential": [
            [
             0,
             "#440154"
            ],
            [
             0.1111111111111111,
             "#482878"
            ],
            [
             0.2222222222222222,
             "#3e4989"
            ],
            [
             0.3333333333333333,
             "#31688e"
            ],
            [
             0.4444444444444444,
             "#26828e"
            ],
            [
             0.5555555555555556,
             "#1f9e89"
            ],
            [
             0.6666666666666666,
             "#35b779"
            ],
            [
             0.7777777777777778,
             "#6ece58"
            ],
            [
             0.8888888888888888,
             "#b5de2b"
            ],
            [
             1,
             "#fde725"
            ]
           ],
           "sequentialminus": [
            [
             0,
             "#440154"
            ],
            [
             0.1111111111111111,
             "#482878"
            ],
            [
             0.2222222222222222,
             "#3e4989"
            ],
            [
             0.3333333333333333,
             "#31688e"
            ],
            [
             0.4444444444444444,
             "#26828e"
            ],
            [
             0.5555555555555556,
             "#1f9e89"
            ],
            [
             0.6666666666666666,
             "#35b779"
            ],
            [
             0.7777777777777778,
             "#6ece58"
            ],
            [
             0.8888888888888888,
             "#b5de2b"
            ],
            [
             1,
             "#fde725"
            ]
           ]
          },
          "colorway": [
           "#1F77B4",
           "#FF7F0E",
           "#2CA02C",
           "#D62728",
           "#9467BD",
           "#8C564B",
           "#E377C2",
           "#7F7F7F",
           "#BCBD22",
           "#17BECF"
          ],
          "font": {
           "color": "rgb(36,36,36)"
          },
          "geo": {
           "bgcolor": "white",
           "lakecolor": "white",
           "landcolor": "white",
           "showlakes": true,
           "showland": true,
           "subunitcolor": "white"
          },
          "hoverlabel": {
           "align": "left"
          },
          "hovermode": "closest",
          "mapbox": {
           "style": "light"
          },
          "paper_bgcolor": "white",
          "plot_bgcolor": "white",
          "polar": {
           "angularaxis": {
            "gridcolor": "rgb(232,232,232)",
            "linecolor": "rgb(36,36,36)",
            "showgrid": false,
            "showline": true,
            "ticks": "outside"
           },
           "bgcolor": "white",
           "radialaxis": {
            "gridcolor": "rgb(232,232,232)",
            "linecolor": "rgb(36,36,36)",
            "showgrid": false,
            "showline": true,
            "ticks": "outside"
           }
          },
          "scene": {
           "xaxis": {
            "backgroundcolor": "white",
            "gridcolor": "rgb(232,232,232)",
            "gridwidth": 2,
            "linecolor": "rgb(36,36,36)",
            "showbackground": true,
            "showgrid": false,
            "showline": true,
            "ticks": "outside",
            "zeroline": false,
            "zerolinecolor": "rgb(36,36,36)"
           },
           "yaxis": {
            "backgroundcolor": "white",
            "gridcolor": "rgb(232,232,232)",
            "gridwidth": 2,
            "linecolor": "rgb(36,36,36)",
            "showbackground": true,
            "showgrid": false,
            "showline": true,
            "ticks": "outside",
            "zeroline": false,
            "zerolinecolor": "rgb(36,36,36)"
           },
           "zaxis": {
            "backgroundcolor": "white",
            "gridcolor": "rgb(232,232,232)",
            "gridwidth": 2,
            "linecolor": "rgb(36,36,36)",
            "showbackground": true,
            "showgrid": false,
            "showline": true,
            "ticks": "outside",
            "zeroline": false,
            "zerolinecolor": "rgb(36,36,36)"
           }
          },
          "shapedefaults": {
           "fillcolor": "black",
           "line": {
            "width": 0
           },
           "opacity": 0.3
          },
          "ternary": {
           "aaxis": {
            "gridcolor": "rgb(232,232,232)",
            "linecolor": "rgb(36,36,36)",
            "showgrid": false,
            "showline": true,
            "ticks": "outside"
           },
           "baxis": {
            "gridcolor": "rgb(232,232,232)",
            "linecolor": "rgb(36,36,36)",
            "showgrid": false,
            "showline": true,
            "ticks": "outside"
           },
           "bgcolor": "white",
           "caxis": {
            "gridcolor": "rgb(232,232,232)",
            "linecolor": "rgb(36,36,36)",
            "showgrid": false,
            "showline": true,
            "ticks": "outside"
           }
          },
          "title": {
           "x": 0.05
          },
          "xaxis": {
           "automargin": true,
           "gridcolor": "rgb(232,232,232)",
           "linecolor": "rgb(36,36,36)",
           "showgrid": false,
           "showline": true,
           "ticks": "outside",
           "title": {
            "standoff": 15
           },
           "zeroline": false,
           "zerolinecolor": "rgb(36,36,36)"
          },
          "yaxis": {
           "automargin": true,
           "gridcolor": "rgb(232,232,232)",
           "linecolor": "rgb(36,36,36)",
           "showgrid": false,
           "showline": true,
           "ticks": "outside",
           "title": {
            "standoff": 15
           },
           "zeroline": false,
           "zerolinecolor": "rgb(36,36,36)"
          }
         }
        },
        "title": {
         "text": "Comparison of the geometric mean for articles matched on source, shortest path length and in-degree<br><sup>Error bars: CI (90%), number of matched articles: 216 (98 finished)</sup>",
         "x": 0,
         "xref": "paper"
        },
        "xaxis": {
         "title": {
          "text": "Metrics"
         }
        },
        "yaxis": {
         "title": {
          "text": "Geometric mean (log-scale)"
         },
         "type": "log"
        }
       }
      }
     },
     "metadata": {},
     "output_type": "display_data"
    }
   ],
   "source": [
    "summary_figure(degree_match_summary, f\"{len(degree_match)} ({len(fin_degree_match)} finished)\", \"source, shortest path length and in-degree\", \"degree_match\", opacity = [1,0.4,0.4,0.4,0.4])"
   ]
  },
  {
   "attachments": {},
   "cell_type": "markdown",
   "id": "af0d0706",
   "metadata": {},
   "source": [
    "The initial assumption of a difference in success between a male and a female target article has been proven significant through all the steps. The two metrices *playtime* and *path_deviation*, which are both based on the additional constraint of finished paths have not been significant, as the number of datapoints has always been smaller."
   ]
  },
  {
   "cell_type": "markdown",
   "id": "019ab97a-9b32-46a7-bfc2-dc1805a24380",
   "metadata": {
    "jp-MarkdownHeadingCollapsed": true,
    "tags": []
   },
   "source": [
    "## **Visualizations for the datastory**"
   ]
  },
  {
   "cell_type": "markdown",
   "id": "1075ce19-2f37-491d-989f-bea2f47ee6c5",
   "metadata": {
    "jp-MarkdownHeadingCollapsed": true,
    "tags": []
   },
   "source": [
    "#### **Plot 1**"
   ]
  },
  {
   "cell_type": "code",
   "execution_count": 1335,
   "id": "2a15764a-526c-4624-9d32-b3e002e1aa1d",
   "metadata": {},
   "outputs": [
    {
     "data": {
      "application/vnd.plotly.v1+json": {
       "config": {
        "plotlyServerURL": "https://plot.ly"
       },
       "data": [
        {
         "hovertemplate": [
          "7.73% of all articles about People are about women",
          "92.27% of all articles about People are about men"
         ],
         "marker": {
          "color": [
           "hotpink",
           "skyblue"
          ],
          "opacity": [
           1,
           1
          ],
          "size": [
           48,
           191
          ]
         },
         "mode": "markers+text",
         "text": [
          48,
          573
         ],
         "type": "scatter",
         "x": [
          0,
          1
         ],
         "y": [
          1,
          1
         ]
        }
       ],
       "layout": {
        "font": {
         "color": "white",
         "family": "Helvetica",
         "size": 20
        },
        "height": 400,
        "template": {
         "data": {
          "bar": [
           {
            "error_x": {
             "color": "rgb(36,36,36)"
            },
            "error_y": {
             "color": "rgb(36,36,36)"
            },
            "marker": {
             "line": {
              "color": "white",
              "width": 0.5
             },
             "pattern": {
              "fillmode": "overlay",
              "size": 10,
              "solidity": 0.2
             }
            },
            "type": "bar"
           }
          ],
          "barpolar": [
           {
            "marker": {
             "line": {
              "color": "white",
              "width": 0.5
             },
             "pattern": {
              "fillmode": "overlay",
              "size": 10,
              "solidity": 0.2
             }
            },
            "type": "barpolar"
           }
          ],
          "carpet": [
           {
            "aaxis": {
             "endlinecolor": "rgb(36,36,36)",
             "gridcolor": "white",
             "linecolor": "white",
             "minorgridcolor": "white",
             "startlinecolor": "rgb(36,36,36)"
            },
            "baxis": {
             "endlinecolor": "rgb(36,36,36)",
             "gridcolor": "white",
             "linecolor": "white",
             "minorgridcolor": "white",
             "startlinecolor": "rgb(36,36,36)"
            },
            "type": "carpet"
           }
          ],
          "choropleth": [
           {
            "colorbar": {
             "outlinewidth": 1,
             "tickcolor": "rgb(36,36,36)",
             "ticks": "outside"
            },
            "type": "choropleth"
           }
          ],
          "contour": [
           {
            "colorbar": {
             "outlinewidth": 1,
             "tickcolor": "rgb(36,36,36)",
             "ticks": "outside"
            },
            "colorscale": [
             [
              0,
              "#440154"
             ],
             [
              0.1111111111111111,
              "#482878"
             ],
             [
              0.2222222222222222,
              "#3e4989"
             ],
             [
              0.3333333333333333,
              "#31688e"
             ],
             [
              0.4444444444444444,
              "#26828e"
             ],
             [
              0.5555555555555556,
              "#1f9e89"
             ],
             [
              0.6666666666666666,
              "#35b779"
             ],
             [
              0.7777777777777778,
              "#6ece58"
             ],
             [
              0.8888888888888888,
              "#b5de2b"
             ],
             [
              1,
              "#fde725"
             ]
            ],
            "type": "contour"
           }
          ],
          "contourcarpet": [
           {
            "colorbar": {
             "outlinewidth": 1,
             "tickcolor": "rgb(36,36,36)",
             "ticks": "outside"
            },
            "type": "contourcarpet"
           }
          ],
          "heatmap": [
           {
            "colorbar": {
             "outlinewidth": 1,
             "tickcolor": "rgb(36,36,36)",
             "ticks": "outside"
            },
            "colorscale": [
             [
              0,
              "#440154"
             ],
             [
              0.1111111111111111,
              "#482878"
             ],
             [
              0.2222222222222222,
              "#3e4989"
             ],
             [
              0.3333333333333333,
              "#31688e"
             ],
             [
              0.4444444444444444,
              "#26828e"
             ],
             [
              0.5555555555555556,
              "#1f9e89"
             ],
             [
              0.6666666666666666,
              "#35b779"
             ],
             [
              0.7777777777777778,
              "#6ece58"
             ],
             [
              0.8888888888888888,
              "#b5de2b"
             ],
             [
              1,
              "#fde725"
             ]
            ],
            "type": "heatmap"
           }
          ],
          "heatmapgl": [
           {
            "colorbar": {
             "outlinewidth": 1,
             "tickcolor": "rgb(36,36,36)",
             "ticks": "outside"
            },
            "colorscale": [
             [
              0,
              "#440154"
             ],
             [
              0.1111111111111111,
              "#482878"
             ],
             [
              0.2222222222222222,
              "#3e4989"
             ],
             [
              0.3333333333333333,
              "#31688e"
             ],
             [
              0.4444444444444444,
              "#26828e"
             ],
             [
              0.5555555555555556,
              "#1f9e89"
             ],
             [
              0.6666666666666666,
              "#35b779"
             ],
             [
              0.7777777777777778,
              "#6ece58"
             ],
             [
              0.8888888888888888,
              "#b5de2b"
             ],
             [
              1,
              "#fde725"
             ]
            ],
            "type": "heatmapgl"
           }
          ],
          "histogram": [
           {
            "marker": {
             "line": {
              "color": "white",
              "width": 0.6
             }
            },
            "type": "histogram"
           }
          ],
          "histogram2d": [
           {
            "colorbar": {
             "outlinewidth": 1,
             "tickcolor": "rgb(36,36,36)",
             "ticks": "outside"
            },
            "colorscale": [
             [
              0,
              "#440154"
             ],
             [
              0.1111111111111111,
              "#482878"
             ],
             [
              0.2222222222222222,
              "#3e4989"
             ],
             [
              0.3333333333333333,
              "#31688e"
             ],
             [
              0.4444444444444444,
              "#26828e"
             ],
             [
              0.5555555555555556,
              "#1f9e89"
             ],
             [
              0.6666666666666666,
              "#35b779"
             ],
             [
              0.7777777777777778,
              "#6ece58"
             ],
             [
              0.8888888888888888,
              "#b5de2b"
             ],
             [
              1,
              "#fde725"
             ]
            ],
            "type": "histogram2d"
           }
          ],
          "histogram2dcontour": [
           {
            "colorbar": {
             "outlinewidth": 1,
             "tickcolor": "rgb(36,36,36)",
             "ticks": "outside"
            },
            "colorscale": [
             [
              0,
              "#440154"
             ],
             [
              0.1111111111111111,
              "#482878"
             ],
             [
              0.2222222222222222,
              "#3e4989"
             ],
             [
              0.3333333333333333,
              "#31688e"
             ],
             [
              0.4444444444444444,
              "#26828e"
             ],
             [
              0.5555555555555556,
              "#1f9e89"
             ],
             [
              0.6666666666666666,
              "#35b779"
             ],
             [
              0.7777777777777778,
              "#6ece58"
             ],
             [
              0.8888888888888888,
              "#b5de2b"
             ],
             [
              1,
              "#fde725"
             ]
            ],
            "type": "histogram2dcontour"
           }
          ],
          "mesh3d": [
           {
            "colorbar": {
             "outlinewidth": 1,
             "tickcolor": "rgb(36,36,36)",
             "ticks": "outside"
            },
            "type": "mesh3d"
           }
          ],
          "parcoords": [
           {
            "line": {
             "colorbar": {
              "outlinewidth": 1,
              "tickcolor": "rgb(36,36,36)",
              "ticks": "outside"
             }
            },
            "type": "parcoords"
           }
          ],
          "pie": [
           {
            "automargin": true,
            "type": "pie"
           }
          ],
          "scatter": [
           {
            "marker": {
             "colorbar": {
              "outlinewidth": 1,
              "tickcolor": "rgb(36,36,36)",
              "ticks": "outside"
             }
            },
            "type": "scatter"
           }
          ],
          "scatter3d": [
           {
            "line": {
             "colorbar": {
              "outlinewidth": 1,
              "tickcolor": "rgb(36,36,36)",
              "ticks": "outside"
             }
            },
            "marker": {
             "colorbar": {
              "outlinewidth": 1,
              "tickcolor": "rgb(36,36,36)",
              "ticks": "outside"
             }
            },
            "type": "scatter3d"
           }
          ],
          "scattercarpet": [
           {
            "marker": {
             "colorbar": {
              "outlinewidth": 1,
              "tickcolor": "rgb(36,36,36)",
              "ticks": "outside"
             }
            },
            "type": "scattercarpet"
           }
          ],
          "scattergeo": [
           {
            "marker": {
             "colorbar": {
              "outlinewidth": 1,
              "tickcolor": "rgb(36,36,36)",
              "ticks": "outside"
             }
            },
            "type": "scattergeo"
           }
          ],
          "scattergl": [
           {
            "marker": {
             "colorbar": {
              "outlinewidth": 1,
              "tickcolor": "rgb(36,36,36)",
              "ticks": "outside"
             }
            },
            "type": "scattergl"
           }
          ],
          "scattermapbox": [
           {
            "marker": {
             "colorbar": {
              "outlinewidth": 1,
              "tickcolor": "rgb(36,36,36)",
              "ticks": "outside"
             }
            },
            "type": "scattermapbox"
           }
          ],
          "scatterpolar": [
           {
            "marker": {
             "colorbar": {
              "outlinewidth": 1,
              "tickcolor": "rgb(36,36,36)",
              "ticks": "outside"
             }
            },
            "type": "scatterpolar"
           }
          ],
          "scatterpolargl": [
           {
            "marker": {
             "colorbar": {
              "outlinewidth": 1,
              "tickcolor": "rgb(36,36,36)",
              "ticks": "outside"
             }
            },
            "type": "scatterpolargl"
           }
          ],
          "scatterternary": [
           {
            "marker": {
             "colorbar": {
              "outlinewidth": 1,
              "tickcolor": "rgb(36,36,36)",
              "ticks": "outside"
             }
            },
            "type": "scatterternary"
           }
          ],
          "surface": [
           {
            "colorbar": {
             "outlinewidth": 1,
             "tickcolor": "rgb(36,36,36)",
             "ticks": "outside"
            },
            "colorscale": [
             [
              0,
              "#440154"
             ],
             [
              0.1111111111111111,
              "#482878"
             ],
             [
              0.2222222222222222,
              "#3e4989"
             ],
             [
              0.3333333333333333,
              "#31688e"
             ],
             [
              0.4444444444444444,
              "#26828e"
             ],
             [
              0.5555555555555556,
              "#1f9e89"
             ],
             [
              0.6666666666666666,
              "#35b779"
             ],
             [
              0.7777777777777778,
              "#6ece58"
             ],
             [
              0.8888888888888888,
              "#b5de2b"
             ],
             [
              1,
              "#fde725"
             ]
            ],
            "type": "surface"
           }
          ],
          "table": [
           {
            "cells": {
             "fill": {
              "color": "rgb(237,237,237)"
             },
             "line": {
              "color": "white"
             }
            },
            "header": {
             "fill": {
              "color": "rgb(217,217,217)"
             },
             "line": {
              "color": "white"
             }
            },
            "type": "table"
           }
          ]
         },
         "layout": {
          "annotationdefaults": {
           "arrowhead": 0,
           "arrowwidth": 1
          },
          "autotypenumbers": "strict",
          "coloraxis": {
           "colorbar": {
            "outlinewidth": 1,
            "tickcolor": "rgb(36,36,36)",
            "ticks": "outside"
           }
          },
          "colorscale": {
           "diverging": [
            [
             0,
             "rgb(103,0,31)"
            ],
            [
             0.1,
             "rgb(178,24,43)"
            ],
            [
             0.2,
             "rgb(214,96,77)"
            ],
            [
             0.3,
             "rgb(244,165,130)"
            ],
            [
             0.4,
             "rgb(253,219,199)"
            ],
            [
             0.5,
             "rgb(247,247,247)"
            ],
            [
             0.6,
             "rgb(209,229,240)"
            ],
            [
             0.7,
             "rgb(146,197,222)"
            ],
            [
             0.8,
             "rgb(67,147,195)"
            ],
            [
             0.9,
             "rgb(33,102,172)"
            ],
            [
             1,
             "rgb(5,48,97)"
            ]
           ],
           "sequential": [
            [
             0,
             "#440154"
            ],
            [
             0.1111111111111111,
             "#482878"
            ],
            [
             0.2222222222222222,
             "#3e4989"
            ],
            [
             0.3333333333333333,
             "#31688e"
            ],
            [
             0.4444444444444444,
             "#26828e"
            ],
            [
             0.5555555555555556,
             "#1f9e89"
            ],
            [
             0.6666666666666666,
             "#35b779"
            ],
            [
             0.7777777777777778,
             "#6ece58"
            ],
            [
             0.8888888888888888,
             "#b5de2b"
            ],
            [
             1,
             "#fde725"
            ]
           ],
           "sequentialminus": [
            [
             0,
             "#440154"
            ],
            [
             0.1111111111111111,
             "#482878"
            ],
            [
             0.2222222222222222,
             "#3e4989"
            ],
            [
             0.3333333333333333,
             "#31688e"
            ],
            [
             0.4444444444444444,
             "#26828e"
            ],
            [
             0.5555555555555556,
             "#1f9e89"
            ],
            [
             0.6666666666666666,
             "#35b779"
            ],
            [
             0.7777777777777778,
             "#6ece58"
            ],
            [
             0.8888888888888888,
             "#b5de2b"
            ],
            [
             1,
             "#fde725"
            ]
           ]
          },
          "colorway": [
           "#1F77B4",
           "#FF7F0E",
           "#2CA02C",
           "#D62728",
           "#9467BD",
           "#8C564B",
           "#E377C2",
           "#7F7F7F",
           "#BCBD22",
           "#17BECF"
          ],
          "font": {
           "color": "rgb(36,36,36)"
          },
          "geo": {
           "bgcolor": "white",
           "lakecolor": "white",
           "landcolor": "white",
           "showlakes": true,
           "showland": true,
           "subunitcolor": "white"
          },
          "hoverlabel": {
           "align": "left"
          },
          "hovermode": "closest",
          "mapbox": {
           "style": "light"
          },
          "paper_bgcolor": "white",
          "plot_bgcolor": "white",
          "polar": {
           "angularaxis": {
            "gridcolor": "rgb(232,232,232)",
            "linecolor": "rgb(36,36,36)",
            "showgrid": false,
            "showline": true,
            "ticks": "outside"
           },
           "bgcolor": "white",
           "radialaxis": {
            "gridcolor": "rgb(232,232,232)",
            "linecolor": "rgb(36,36,36)",
            "showgrid": false,
            "showline": true,
            "ticks": "outside"
           }
          },
          "scene": {
           "xaxis": {
            "backgroundcolor": "white",
            "gridcolor": "rgb(232,232,232)",
            "gridwidth": 2,
            "linecolor": "rgb(36,36,36)",
            "showbackground": true,
            "showgrid": false,
            "showline": true,
            "ticks": "outside",
            "zeroline": false,
            "zerolinecolor": "rgb(36,36,36)"
           },
           "yaxis": {
            "backgroundcolor": "white",
            "gridcolor": "rgb(232,232,232)",
            "gridwidth": 2,
            "linecolor": "rgb(36,36,36)",
            "showbackground": true,
            "showgrid": false,
            "showline": true,
            "ticks": "outside",
            "zeroline": false,
            "zerolinecolor": "rgb(36,36,36)"
           },
           "zaxis": {
            "backgroundcolor": "white",
            "gridcolor": "rgb(232,232,232)",
            "gridwidth": 2,
            "linecolor": "rgb(36,36,36)",
            "showbackground": true,
            "showgrid": false,
            "showline": true,
            "ticks": "outside",
            "zeroline": false,
            "zerolinecolor": "rgb(36,36,36)"
           }
          },
          "shapedefaults": {
           "fillcolor": "black",
           "line": {
            "width": 0
           },
           "opacity": 0.3
          },
          "ternary": {
           "aaxis": {
            "gridcolor": "rgb(232,232,232)",
            "linecolor": "rgb(36,36,36)",
            "showgrid": false,
            "showline": true,
            "ticks": "outside"
           },
           "baxis": {
            "gridcolor": "rgb(232,232,232)",
            "linecolor": "rgb(36,36,36)",
            "showgrid": false,
            "showline": true,
            "ticks": "outside"
           },
           "bgcolor": "white",
           "caxis": {
            "gridcolor": "rgb(232,232,232)",
            "linecolor": "rgb(36,36,36)",
            "showgrid": false,
            "showline": true,
            "ticks": "outside"
           }
          },
          "title": {
           "x": 0.05
          },
          "xaxis": {
           "automargin": true,
           "gridcolor": "rgb(232,232,232)",
           "linecolor": "rgb(36,36,36)",
           "showgrid": false,
           "showline": true,
           "ticks": "outside",
           "title": {
            "standoff": 15
           },
           "zeroline": false,
           "zerolinecolor": "rgb(36,36,36)"
          },
          "yaxis": {
           "automargin": true,
           "gridcolor": "rgb(232,232,232)",
           "linecolor": "rgb(36,36,36)",
           "showgrid": false,
           "showline": true,
           "ticks": "outside",
           "title": {
            "standoff": 15
           },
           "zeroline": false,
           "zerolinecolor": "rgb(36,36,36)"
          }
         }
        },
        "title": {
         "font": {
          "color": "#404040",
          "family": "Times New Roman, serif",
          "size": 20
         },
         "text": "Number of articles about men and women"
        },
        "width": 500,
        "xaxis": {
         "visible": false
        },
        "yaxis": {
         "visible": false
        }
       }
      }
     },
     "metadata": {},
     "output_type": "display_data"
    }
   ],
   "source": [
    "nr_of_men = sum(men_people)\n",
    "nr_of_women = sum(women_people)\n",
    "\n",
    "nr_men_women = pd.DataFrame({'gender': ['women', 'men'],'number_of': [nr_of_women, nr_of_men], \n",
    "                             'y_value_to_align': [1,1], 'x_value_to_align': [0,1]})\n",
    "\n",
    "total_people = nr_men_women['number_of'].sum()\n",
    "nr_men_women['percentage'] = nr_men_women['number_of']/total_people*100\n",
    "nr_men_women['percentage'] = nr_men_women['percentage'].round(2)\n",
    "fig = go.Figure(data=[go.Scatter(\n",
    "    x=nr_men_women['x_value_to_align'], y=nr_men_women['y_value_to_align'],\n",
    "    text=nr_men_women['number_of'],\n",
    "    mode='markers+text',\n",
    "    marker=dict(\n",
    "        color=['hotpink', 'skyblue'],\n",
    "        opacity=[1, 1],\n",
    "        size=[nr_of_women, nr_of_men/3]),\n",
    "    hovertemplate=\n",
    "        nr_men_women['percentage'].astype(str)+\"%\" +\" of all articles about People are about \"+nr_men_women['gender']+\"\")])\n",
    "\n",
    "fig.update_layout(\n",
    "    font_family=\"Helvetica\",\n",
    "    font_color=\"white\",\n",
    "    font_size=20,\n",
    "    template = 'simple_white',\n",
    "    width=500, height=400\n",
    ")\n",
    "\n",
    "fig.update_layout(title='Number of articles about men and women', title_font = dict(family='Times New Roman, serif', color = '#404040', size = 20))\n",
    "\n",
    "fig.update_xaxes(visible=False)   \n",
    "fig.update_yaxes(visible=False)\n",
    "fig.show()\n",
    "\n",
    "fig.to_html(full_html = False, include_plotlyjs='cdn')\n",
    "fig.write_html(\"datastory_plot/plot1.html\", full_html=False, include_plotlyjs='cdn')\n"
   ]
  },
  {
   "cell_type": "markdown",
   "id": "ea7ba966-6243-462b-8563-845d234a2025",
   "metadata": {
    "tags": []
   },
   "source": [
    "#### **Plot 2**"
   ]
  },
  {
   "cell_type": "code",
   "execution_count": 1336,
   "id": "11d2371f-a5d2-4d3f-816f-e9861257ba7a",
   "metadata": {},
   "outputs": [
    {
     "data": {
      "application/vnd.plotly.v1+json": {
       "config": {
        "plotlyServerURL": "https://plot.ly"
       },
       "data": [
        {
         "alignmentgroup": "True",
         "hovertemplate": "Gender=women<br>Fraction of articles=%{x}<br>Categories=%{y}<extra></extra>",
         "legendgroup": "women",
         "marker": {
          "color": "hotpink",
          "pattern": {
           "shape": ""
          }
         },
         "name": "women",
         "offsetgroup": "women",
         "orientation": "h",
         "showlegend": true,
         "textposition": "auto",
         "type": "bar",
         "x": [
          0.38095238095238093,
          0.03125,
          0,
          0.125,
          0,
          0,
          0,
          0.08602150537634409,
          0.1111111111111111,
          0,
          0.05555555555555555,
          0.13953488372093023,
          0.12195121951219512,
          0,
          0.11864406779661017,
          0,
          0.05714285714285714,
          0.05555555555555555,
          0,
          0.07936507936507936
         ],
         "xaxis": "x",
         "y": [
          "Actors models and celebrities",
          "Artists",
          "Astronomers and physicists",
          "Chemists",
          "Computing People",
          "Engineers and inventors",
          "Geographers and explorers",
          "Historical figures",
          "Human Scientists",
          "Mathematicians",
          "Military People",
          "Monarchs of Great Britain",
          "Performers and composers",
          "Philosophers",
          "Political People",
          "Producers directors and media figures",
          "Religious figures and leaders",
          "Sports and games people",
          "USA Presidents",
          "Writers and critics"
         ],
         "yaxis": "y"
        },
        {
         "alignmentgroup": "True",
         "hovertemplate": "Gender=men<br>Fraction of articles=%{x}<br>Categories=%{y}<extra></extra>",
         "legendgroup": "men",
         "marker": {
          "color": "skyblue",
          "pattern": {
           "shape": ""
          }
         },
         "name": "men",
         "offsetgroup": "men",
         "orientation": "h",
         "showlegend": true,
         "textposition": "auto",
         "type": "bar",
         "x": [
          0.6190476190476191,
          0.96875,
          1,
          0.875,
          1,
          1,
          1,
          0.9139784946236559,
          0.8888888888888888,
          1,
          0.9444444444444444,
          0.8604651162790697,
          0.8780487804878049,
          1,
          0.8813559322033898,
          1,
          0.9428571428571428,
          0.9444444444444444,
          1,
          0.9206349206349206
         ],
         "xaxis": "x",
         "y": [
          "Actors models and celebrities",
          "Artists",
          "Astronomers and physicists",
          "Chemists",
          "Computing People",
          "Engineers and inventors",
          "Geographers and explorers",
          "Historical figures",
          "Human Scientists",
          "Mathematicians",
          "Military People",
          "Monarchs of Great Britain",
          "Performers and composers",
          "Philosophers",
          "Political People",
          "Producers directors and media figures",
          "Religious figures and leaders",
          "Sports and games people",
          "USA Presidents",
          "Writers and critics"
         ],
         "yaxis": "y"
        }
       ],
       "layout": {
        "barmode": "relative",
        "font": {
         "color": "#404040",
         "family": "Times New Roman, serif",
         "size": 14
        },
        "height": 600,
        "legend": {
         "title": {
          "text": "Gender"
         },
         "tracegroupgap": 0
        },
        "template": {
         "data": {
          "bar": [
           {
            "error_x": {
             "color": "rgb(36,36,36)"
            },
            "error_y": {
             "color": "rgb(36,36,36)"
            },
            "marker": {
             "line": {
              "color": "white",
              "width": 0.5
             },
             "pattern": {
              "fillmode": "overlay",
              "size": 10,
              "solidity": 0.2
             }
            },
            "type": "bar"
           }
          ],
          "barpolar": [
           {
            "marker": {
             "line": {
              "color": "white",
              "width": 0.5
             },
             "pattern": {
              "fillmode": "overlay",
              "size": 10,
              "solidity": 0.2
             }
            },
            "type": "barpolar"
           }
          ],
          "carpet": [
           {
            "aaxis": {
             "endlinecolor": "rgb(36,36,36)",
             "gridcolor": "white",
             "linecolor": "white",
             "minorgridcolor": "white",
             "startlinecolor": "rgb(36,36,36)"
            },
            "baxis": {
             "endlinecolor": "rgb(36,36,36)",
             "gridcolor": "white",
             "linecolor": "white",
             "minorgridcolor": "white",
             "startlinecolor": "rgb(36,36,36)"
            },
            "type": "carpet"
           }
          ],
          "choropleth": [
           {
            "colorbar": {
             "outlinewidth": 1,
             "tickcolor": "rgb(36,36,36)",
             "ticks": "outside"
            },
            "type": "choropleth"
           }
          ],
          "contour": [
           {
            "colorbar": {
             "outlinewidth": 1,
             "tickcolor": "rgb(36,36,36)",
             "ticks": "outside"
            },
            "colorscale": [
             [
              0,
              "#440154"
             ],
             [
              0.1111111111111111,
              "#482878"
             ],
             [
              0.2222222222222222,
              "#3e4989"
             ],
             [
              0.3333333333333333,
              "#31688e"
             ],
             [
              0.4444444444444444,
              "#26828e"
             ],
             [
              0.5555555555555556,
              "#1f9e89"
             ],
             [
              0.6666666666666666,
              "#35b779"
             ],
             [
              0.7777777777777778,
              "#6ece58"
             ],
             [
              0.8888888888888888,
              "#b5de2b"
             ],
             [
              1,
              "#fde725"
             ]
            ],
            "type": "contour"
           }
          ],
          "contourcarpet": [
           {
            "colorbar": {
             "outlinewidth": 1,
             "tickcolor": "rgb(36,36,36)",
             "ticks": "outside"
            },
            "type": "contourcarpet"
           }
          ],
          "heatmap": [
           {
            "colorbar": {
             "outlinewidth": 1,
             "tickcolor": "rgb(36,36,36)",
             "ticks": "outside"
            },
            "colorscale": [
             [
              0,
              "#440154"
             ],
             [
              0.1111111111111111,
              "#482878"
             ],
             [
              0.2222222222222222,
              "#3e4989"
             ],
             [
              0.3333333333333333,
              "#31688e"
             ],
             [
              0.4444444444444444,
              "#26828e"
             ],
             [
              0.5555555555555556,
              "#1f9e89"
             ],
             [
              0.6666666666666666,
              "#35b779"
             ],
             [
              0.7777777777777778,
              "#6ece58"
             ],
             [
              0.8888888888888888,
              "#b5de2b"
             ],
             [
              1,
              "#fde725"
             ]
            ],
            "type": "heatmap"
           }
          ],
          "heatmapgl": [
           {
            "colorbar": {
             "outlinewidth": 1,
             "tickcolor": "rgb(36,36,36)",
             "ticks": "outside"
            },
            "colorscale": [
             [
              0,
              "#440154"
             ],
             [
              0.1111111111111111,
              "#482878"
             ],
             [
              0.2222222222222222,
              "#3e4989"
             ],
             [
              0.3333333333333333,
              "#31688e"
             ],
             [
              0.4444444444444444,
              "#26828e"
             ],
             [
              0.5555555555555556,
              "#1f9e89"
             ],
             [
              0.6666666666666666,
              "#35b779"
             ],
             [
              0.7777777777777778,
              "#6ece58"
             ],
             [
              0.8888888888888888,
              "#b5de2b"
             ],
             [
              1,
              "#fde725"
             ]
            ],
            "type": "heatmapgl"
           }
          ],
          "histogram": [
           {
            "marker": {
             "line": {
              "color": "white",
              "width": 0.6
             }
            },
            "type": "histogram"
           }
          ],
          "histogram2d": [
           {
            "colorbar": {
             "outlinewidth": 1,
             "tickcolor": "rgb(36,36,36)",
             "ticks": "outside"
            },
            "colorscale": [
             [
              0,
              "#440154"
             ],
             [
              0.1111111111111111,
              "#482878"
             ],
             [
              0.2222222222222222,
              "#3e4989"
             ],
             [
              0.3333333333333333,
              "#31688e"
             ],
             [
              0.4444444444444444,
              "#26828e"
             ],
             [
              0.5555555555555556,
              "#1f9e89"
             ],
             [
              0.6666666666666666,
              "#35b779"
             ],
             [
              0.7777777777777778,
              "#6ece58"
             ],
             [
              0.8888888888888888,
              "#b5de2b"
             ],
             [
              1,
              "#fde725"
             ]
            ],
            "type": "histogram2d"
           }
          ],
          "histogram2dcontour": [
           {
            "colorbar": {
             "outlinewidth": 1,
             "tickcolor": "rgb(36,36,36)",
             "ticks": "outside"
            },
            "colorscale": [
             [
              0,
              "#440154"
             ],
             [
              0.1111111111111111,
              "#482878"
             ],
             [
              0.2222222222222222,
              "#3e4989"
             ],
             [
              0.3333333333333333,
              "#31688e"
             ],
             [
              0.4444444444444444,
              "#26828e"
             ],
             [
              0.5555555555555556,
              "#1f9e89"
             ],
             [
              0.6666666666666666,
              "#35b779"
             ],
             [
              0.7777777777777778,
              "#6ece58"
             ],
             [
              0.8888888888888888,
              "#b5de2b"
             ],
             [
              1,
              "#fde725"
             ]
            ],
            "type": "histogram2dcontour"
           }
          ],
          "mesh3d": [
           {
            "colorbar": {
             "outlinewidth": 1,
             "tickcolor": "rgb(36,36,36)",
             "ticks": "outside"
            },
            "type": "mesh3d"
           }
          ],
          "parcoords": [
           {
            "line": {
             "colorbar": {
              "outlinewidth": 1,
              "tickcolor": "rgb(36,36,36)",
              "ticks": "outside"
             }
            },
            "type": "parcoords"
           }
          ],
          "pie": [
           {
            "automargin": true,
            "type": "pie"
           }
          ],
          "scatter": [
           {
            "marker": {
             "colorbar": {
              "outlinewidth": 1,
              "tickcolor": "rgb(36,36,36)",
              "ticks": "outside"
             }
            },
            "type": "scatter"
           }
          ],
          "scatter3d": [
           {
            "line": {
             "colorbar": {
              "outlinewidth": 1,
              "tickcolor": "rgb(36,36,36)",
              "ticks": "outside"
             }
            },
            "marker": {
             "colorbar": {
              "outlinewidth": 1,
              "tickcolor": "rgb(36,36,36)",
              "ticks": "outside"
             }
            },
            "type": "scatter3d"
           }
          ],
          "scattercarpet": [
           {
            "marker": {
             "colorbar": {
              "outlinewidth": 1,
              "tickcolor": "rgb(36,36,36)",
              "ticks": "outside"
             }
            },
            "type": "scattercarpet"
           }
          ],
          "scattergeo": [
           {
            "marker": {
             "colorbar": {
              "outlinewidth": 1,
              "tickcolor": "rgb(36,36,36)",
              "ticks": "outside"
             }
            },
            "type": "scattergeo"
           }
          ],
          "scattergl": [
           {
            "marker": {
             "colorbar": {
              "outlinewidth": 1,
              "tickcolor": "rgb(36,36,36)",
              "ticks": "outside"
             }
            },
            "type": "scattergl"
           }
          ],
          "scattermapbox": [
           {
            "marker": {
             "colorbar": {
              "outlinewidth": 1,
              "tickcolor": "rgb(36,36,36)",
              "ticks": "outside"
             }
            },
            "type": "scattermapbox"
           }
          ],
          "scatterpolar": [
           {
            "marker": {
             "colorbar": {
              "outlinewidth": 1,
              "tickcolor": "rgb(36,36,36)",
              "ticks": "outside"
             }
            },
            "type": "scatterpolar"
           }
          ],
          "scatterpolargl": [
           {
            "marker": {
             "colorbar": {
              "outlinewidth": 1,
              "tickcolor": "rgb(36,36,36)",
              "ticks": "outside"
             }
            },
            "type": "scatterpolargl"
           }
          ],
          "scatterternary": [
           {
            "marker": {
             "colorbar": {
              "outlinewidth": 1,
              "tickcolor": "rgb(36,36,36)",
              "ticks": "outside"
             }
            },
            "type": "scatterternary"
           }
          ],
          "surface": [
           {
            "colorbar": {
             "outlinewidth": 1,
             "tickcolor": "rgb(36,36,36)",
             "ticks": "outside"
            },
            "colorscale": [
             [
              0,
              "#440154"
             ],
             [
              0.1111111111111111,
              "#482878"
             ],
             [
              0.2222222222222222,
              "#3e4989"
             ],
             [
              0.3333333333333333,
              "#31688e"
             ],
             [
              0.4444444444444444,
              "#26828e"
             ],
             [
              0.5555555555555556,
              "#1f9e89"
             ],
             [
              0.6666666666666666,
              "#35b779"
             ],
             [
              0.7777777777777778,
              "#6ece58"
             ],
             [
              0.8888888888888888,
              "#b5de2b"
             ],
             [
              1,
              "#fde725"
             ]
            ],
            "type": "surface"
           }
          ],
          "table": [
           {
            "cells": {
             "fill": {
              "color": "rgb(237,237,237)"
             },
             "line": {
              "color": "white"
             }
            },
            "header": {
             "fill": {
              "color": "rgb(217,217,217)"
             },
             "line": {
              "color": "white"
             }
            },
            "type": "table"
           }
          ]
         },
         "layout": {
          "annotationdefaults": {
           "arrowhead": 0,
           "arrowwidth": 1
          },
          "autotypenumbers": "strict",
          "coloraxis": {
           "colorbar": {
            "outlinewidth": 1,
            "tickcolor": "rgb(36,36,36)",
            "ticks": "outside"
           }
          },
          "colorscale": {
           "diverging": [
            [
             0,
             "rgb(103,0,31)"
            ],
            [
             0.1,
             "rgb(178,24,43)"
            ],
            [
             0.2,
             "rgb(214,96,77)"
            ],
            [
             0.3,
             "rgb(244,165,130)"
            ],
            [
             0.4,
             "rgb(253,219,199)"
            ],
            [
             0.5,
             "rgb(247,247,247)"
            ],
            [
             0.6,
             "rgb(209,229,240)"
            ],
            [
             0.7,
             "rgb(146,197,222)"
            ],
            [
             0.8,
             "rgb(67,147,195)"
            ],
            [
             0.9,
             "rgb(33,102,172)"
            ],
            [
             1,
             "rgb(5,48,97)"
            ]
           ],
           "sequential": [
            [
             0,
             "#440154"
            ],
            [
             0.1111111111111111,
             "#482878"
            ],
            [
             0.2222222222222222,
             "#3e4989"
            ],
            [
             0.3333333333333333,
             "#31688e"
            ],
            [
             0.4444444444444444,
             "#26828e"
            ],
            [
             0.5555555555555556,
             "#1f9e89"
            ],
            [
             0.6666666666666666,
             "#35b779"
            ],
            [
             0.7777777777777778,
             "#6ece58"
            ],
            [
             0.8888888888888888,
             "#b5de2b"
            ],
            [
             1,
             "#fde725"
            ]
           ],
           "sequentialminus": [
            [
             0,
             "#440154"
            ],
            [
             0.1111111111111111,
             "#482878"
            ],
            [
             0.2222222222222222,
             "#3e4989"
            ],
            [
             0.3333333333333333,
             "#31688e"
            ],
            [
             0.4444444444444444,
             "#26828e"
            ],
            [
             0.5555555555555556,
             "#1f9e89"
            ],
            [
             0.6666666666666666,
             "#35b779"
            ],
            [
             0.7777777777777778,
             "#6ece58"
            ],
            [
             0.8888888888888888,
             "#b5de2b"
            ],
            [
             1,
             "#fde725"
            ]
           ]
          },
          "colorway": [
           "#1F77B4",
           "#FF7F0E",
           "#2CA02C",
           "#D62728",
           "#9467BD",
           "#8C564B",
           "#E377C2",
           "#7F7F7F",
           "#BCBD22",
           "#17BECF"
          ],
          "font": {
           "color": "rgb(36,36,36)"
          },
          "geo": {
           "bgcolor": "white",
           "lakecolor": "white",
           "landcolor": "white",
           "showlakes": true,
           "showland": true,
           "subunitcolor": "white"
          },
          "hoverlabel": {
           "align": "left"
          },
          "hovermode": "closest",
          "mapbox": {
           "style": "light"
          },
          "paper_bgcolor": "white",
          "plot_bgcolor": "white",
          "polar": {
           "angularaxis": {
            "gridcolor": "rgb(232,232,232)",
            "linecolor": "rgb(36,36,36)",
            "showgrid": false,
            "showline": true,
            "ticks": "outside"
           },
           "bgcolor": "white",
           "radialaxis": {
            "gridcolor": "rgb(232,232,232)",
            "linecolor": "rgb(36,36,36)",
            "showgrid": false,
            "showline": true,
            "ticks": "outside"
           }
          },
          "scene": {
           "xaxis": {
            "backgroundcolor": "white",
            "gridcolor": "rgb(232,232,232)",
            "gridwidth": 2,
            "linecolor": "rgb(36,36,36)",
            "showbackground": true,
            "showgrid": false,
            "showline": true,
            "ticks": "outside",
            "zeroline": false,
            "zerolinecolor": "rgb(36,36,36)"
           },
           "yaxis": {
            "backgroundcolor": "white",
            "gridcolor": "rgb(232,232,232)",
            "gridwidth": 2,
            "linecolor": "rgb(36,36,36)",
            "showbackground": true,
            "showgrid": false,
            "showline": true,
            "ticks": "outside",
            "zeroline": false,
            "zerolinecolor": "rgb(36,36,36)"
           },
           "zaxis": {
            "backgroundcolor": "white",
            "gridcolor": "rgb(232,232,232)",
            "gridwidth": 2,
            "linecolor": "rgb(36,36,36)",
            "showbackground": true,
            "showgrid": false,
            "showline": true,
            "ticks": "outside",
            "zeroline": false,
            "zerolinecolor": "rgb(36,36,36)"
           }
          },
          "shapedefaults": {
           "fillcolor": "black",
           "line": {
            "width": 0
           },
           "opacity": 0.3
          },
          "ternary": {
           "aaxis": {
            "gridcolor": "rgb(232,232,232)",
            "linecolor": "rgb(36,36,36)",
            "showgrid": false,
            "showline": true,
            "ticks": "outside"
           },
           "baxis": {
            "gridcolor": "rgb(232,232,232)",
            "linecolor": "rgb(36,36,36)",
            "showgrid": false,
            "showline": true,
            "ticks": "outside"
           },
           "bgcolor": "white",
           "caxis": {
            "gridcolor": "rgb(232,232,232)",
            "linecolor": "rgb(36,36,36)",
            "showgrid": false,
            "showline": true,
            "ticks": "outside"
           }
          },
          "title": {
           "x": 0.05
          },
          "xaxis": {
           "automargin": true,
           "gridcolor": "rgb(232,232,232)",
           "linecolor": "rgb(36,36,36)",
           "showgrid": false,
           "showline": true,
           "ticks": "outside",
           "title": {
            "standoff": 15
           },
           "zeroline": false,
           "zerolinecolor": "rgb(36,36,36)"
          },
          "yaxis": {
           "automargin": true,
           "gridcolor": "rgb(232,232,232)",
           "linecolor": "rgb(36,36,36)",
           "showgrid": false,
           "showline": true,
           "ticks": "outside",
           "title": {
            "standoff": 15
           },
           "zeroline": false,
           "zerolinecolor": "rgb(36,36,36)"
          }
         }
        },
        "title": {
         "text": "Fraction of women and men articles within each category"
        },
        "width": 1000,
        "xaxis": {
         "anchor": "y",
         "domain": [
          0,
          1
         ],
         "title": {
          "text": "Fraction of articles"
         }
        },
        "yaxis": {
         "anchor": "x",
         "autorange": "reversed",
         "domain": [
          0,
          1
         ],
         "title": {}
        }
       }
      }
     },
     "metadata": {},
     "output_type": "display_data"
    }
   ],
   "source": [
    "women_count = people[people['gender'] == \"female\"][\"category\"].count()\n",
    "men_count = people[people['gender'] == \"male\"][\"category\"].count()\n",
    "number_of_people_per_cat = people.groupby(\"category\")[\"gender\"].count()\n",
    "men_women_proportion = pd.DataFrame({'women': women_people/number_of_people_per_cat,'men': men_people/number_of_people_per_cat}, \n",
    "                                    index=index).sort_index()\n",
    "men_women_proportion.fillna(0,inplace=True)\n",
    "\n",
    "fig = px.bar(men_women_proportion, x='women')\n",
    "\n",
    "fig = px.bar(men_women_proportion, \n",
    "             x = [category for category in men_women_proportion.columns],\n",
    "             y = men_women_proportion.transpose().columns.str.replace('_', ' '),\n",
    "             color_discrete_sequence = ['hotpink','skyblue'],\n",
    "             title = 'Fraction of women and men articles within each category',\n",
    "             labels={\"y\": \"Categories\",\n",
    "                     \"value\": \"Fraction of articles\",\n",
    "                     \"variable\": \"Gender\"},\n",
    "             orientation='h',\n",
    "             width=1000, height=600,\n",
    "            template = 'simple_white')\n",
    "\n",
    "fig.update_layout(font_color = '#404040', font_family='Times New Roman, serif', font_size = 14, yaxis=dict(title = None, autorange=\"reversed\"))\n",
    "fig.show()\n",
    "\n",
    "fig.to_html(full_html = False, include_plotlyjs='cdn')\n",
    "fig.write_html(\"datastory_plot/plot2.html\", full_html=False, include_plotlyjs='cdn')"
   ]
  },
  {
   "cell_type": "markdown",
   "id": "a75f4f41-9c8f-4f9e-9699-5dc1bd21a18a",
   "metadata": {
    "tags": []
   },
   "source": [
    "#### **Plot 3**"
   ]
  },
  {
   "cell_type": "code",
   "execution_count": 1337,
   "id": "ae6c0dc3-75f3-40cf-8567-79db92359af8",
   "metadata": {},
   "outputs": [
    {
     "data": {
      "application/vnd.plotly.v1+json": {
       "config": {
        "plotlyServerURL": "https://plot.ly"
       },
       "data": [
        {
         "alignmentgroup": "True",
         "hovertemplate": "Gender=men<br>Number of articles=%{x}<br>category=%{y}<extra></extra>",
         "legendgroup": "men",
         "marker": {
          "color": "skyblue",
          "pattern": {
           "shape": ""
          }
         },
         "name": "men",
         "offsetgroup": "men",
         "orientation": "h",
         "showlegend": true,
         "textposition": "auto",
         "type": "bar",
         "x": [
          13,
          31,
          20,
          7,
          9,
          25,
          19,
          85,
          16,
          15,
          17,
          37,
          36,
          23,
          52,
          6,
          33,
          34,
          37,
          58
         ],
         "xaxis": "x",
         "y": [
          "Actors models and celebrities",
          "Artists",
          "Astronomers and physicists",
          "Chemists",
          "Computing People",
          "Engineers and inventors",
          "Geographers and explorers",
          "Historical figures",
          "Human Scientists",
          "Mathematicians",
          "Military People",
          "Monarchs of Great Britain",
          "Performers and composers",
          "Philosophers",
          "Political People",
          "Producers directors and media figures",
          "Religious figures and leaders",
          "Sports and games people",
          "USA Presidents",
          "Writers and critics"
         ],
         "yaxis": "y"
        },
        {
         "alignmentgroup": "True",
         "hovertemplate": "Gender=women<br>Number of articles=%{x}<br>category=%{y}<extra></extra>",
         "legendgroup": "women",
         "marker": {
          "color": "hotpink",
          "pattern": {
           "shape": ""
          }
         },
         "name": "women",
         "offsetgroup": "women",
         "orientation": "h",
         "showlegend": true,
         "textposition": "auto",
         "type": "bar",
         "x": [
          8,
          1,
          0,
          1,
          0,
          0,
          0,
          8,
          2,
          0,
          1,
          6,
          5,
          0,
          7,
          0,
          2,
          2,
          0,
          5
         ],
         "xaxis": "x",
         "y": [
          "Actors models and celebrities",
          "Artists",
          "Astronomers and physicists",
          "Chemists",
          "Computing People",
          "Engineers and inventors",
          "Geographers and explorers",
          "Historical figures",
          "Human Scientists",
          "Mathematicians",
          "Military People",
          "Monarchs of Great Britain",
          "Performers and composers",
          "Philosophers",
          "Political People",
          "Producers directors and media figures",
          "Religious figures and leaders",
          "Sports and games people",
          "USA Presidents",
          "Writers and critics"
         ],
         "yaxis": "y"
        }
       ],
       "layout": {
        "barmode": "group",
        "font": {
         "color": "#404040",
         "family": "Times New Roman, serif",
         "size": 14
        },
        "height": 600,
        "legend": {
         "title": {
          "text": "Gender"
         },
         "tracegroupgap": 0
        },
        "template": {
         "data": {
          "bar": [
           {
            "error_x": {
             "color": "rgb(36,36,36)"
            },
            "error_y": {
             "color": "rgb(36,36,36)"
            },
            "marker": {
             "line": {
              "color": "white",
              "width": 0.5
             },
             "pattern": {
              "fillmode": "overlay",
              "size": 10,
              "solidity": 0.2
             }
            },
            "type": "bar"
           }
          ],
          "barpolar": [
           {
            "marker": {
             "line": {
              "color": "white",
              "width": 0.5
             },
             "pattern": {
              "fillmode": "overlay",
              "size": 10,
              "solidity": 0.2
             }
            },
            "type": "barpolar"
           }
          ],
          "carpet": [
           {
            "aaxis": {
             "endlinecolor": "rgb(36,36,36)",
             "gridcolor": "white",
             "linecolor": "white",
             "minorgridcolor": "white",
             "startlinecolor": "rgb(36,36,36)"
            },
            "baxis": {
             "endlinecolor": "rgb(36,36,36)",
             "gridcolor": "white",
             "linecolor": "white",
             "minorgridcolor": "white",
             "startlinecolor": "rgb(36,36,36)"
            },
            "type": "carpet"
           }
          ],
          "choropleth": [
           {
            "colorbar": {
             "outlinewidth": 1,
             "tickcolor": "rgb(36,36,36)",
             "ticks": "outside"
            },
            "type": "choropleth"
           }
          ],
          "contour": [
           {
            "colorbar": {
             "outlinewidth": 1,
             "tickcolor": "rgb(36,36,36)",
             "ticks": "outside"
            },
            "colorscale": [
             [
              0,
              "#440154"
             ],
             [
              0.1111111111111111,
              "#482878"
             ],
             [
              0.2222222222222222,
              "#3e4989"
             ],
             [
              0.3333333333333333,
              "#31688e"
             ],
             [
              0.4444444444444444,
              "#26828e"
             ],
             [
              0.5555555555555556,
              "#1f9e89"
             ],
             [
              0.6666666666666666,
              "#35b779"
             ],
             [
              0.7777777777777778,
              "#6ece58"
             ],
             [
              0.8888888888888888,
              "#b5de2b"
             ],
             [
              1,
              "#fde725"
             ]
            ],
            "type": "contour"
           }
          ],
          "contourcarpet": [
           {
            "colorbar": {
             "outlinewidth": 1,
             "tickcolor": "rgb(36,36,36)",
             "ticks": "outside"
            },
            "type": "contourcarpet"
           }
          ],
          "heatmap": [
           {
            "colorbar": {
             "outlinewidth": 1,
             "tickcolor": "rgb(36,36,36)",
             "ticks": "outside"
            },
            "colorscale": [
             [
              0,
              "#440154"
             ],
             [
              0.1111111111111111,
              "#482878"
             ],
             [
              0.2222222222222222,
              "#3e4989"
             ],
             [
              0.3333333333333333,
              "#31688e"
             ],
             [
              0.4444444444444444,
              "#26828e"
             ],
             [
              0.5555555555555556,
              "#1f9e89"
             ],
             [
              0.6666666666666666,
              "#35b779"
             ],
             [
              0.7777777777777778,
              "#6ece58"
             ],
             [
              0.8888888888888888,
              "#b5de2b"
             ],
             [
              1,
              "#fde725"
             ]
            ],
            "type": "heatmap"
           }
          ],
          "heatmapgl": [
           {
            "colorbar": {
             "outlinewidth": 1,
             "tickcolor": "rgb(36,36,36)",
             "ticks": "outside"
            },
            "colorscale": [
             [
              0,
              "#440154"
             ],
             [
              0.1111111111111111,
              "#482878"
             ],
             [
              0.2222222222222222,
              "#3e4989"
             ],
             [
              0.3333333333333333,
              "#31688e"
             ],
             [
              0.4444444444444444,
              "#26828e"
             ],
             [
              0.5555555555555556,
              "#1f9e89"
             ],
             [
              0.6666666666666666,
              "#35b779"
             ],
             [
              0.7777777777777778,
              "#6ece58"
             ],
             [
              0.8888888888888888,
              "#b5de2b"
             ],
             [
              1,
              "#fde725"
             ]
            ],
            "type": "heatmapgl"
           }
          ],
          "histogram": [
           {
            "marker": {
             "line": {
              "color": "white",
              "width": 0.6
             }
            },
            "type": "histogram"
           }
          ],
          "histogram2d": [
           {
            "colorbar": {
             "outlinewidth": 1,
             "tickcolor": "rgb(36,36,36)",
             "ticks": "outside"
            },
            "colorscale": [
             [
              0,
              "#440154"
             ],
             [
              0.1111111111111111,
              "#482878"
             ],
             [
              0.2222222222222222,
              "#3e4989"
             ],
             [
              0.3333333333333333,
              "#31688e"
             ],
             [
              0.4444444444444444,
              "#26828e"
             ],
             [
              0.5555555555555556,
              "#1f9e89"
             ],
             [
              0.6666666666666666,
              "#35b779"
             ],
             [
              0.7777777777777778,
              "#6ece58"
             ],
             [
              0.8888888888888888,
              "#b5de2b"
             ],
             [
              1,
              "#fde725"
             ]
            ],
            "type": "histogram2d"
           }
          ],
          "histogram2dcontour": [
           {
            "colorbar": {
             "outlinewidth": 1,
             "tickcolor": "rgb(36,36,36)",
             "ticks": "outside"
            },
            "colorscale": [
             [
              0,
              "#440154"
             ],
             [
              0.1111111111111111,
              "#482878"
             ],
             [
              0.2222222222222222,
              "#3e4989"
             ],
             [
              0.3333333333333333,
              "#31688e"
             ],
             [
              0.4444444444444444,
              "#26828e"
             ],
             [
              0.5555555555555556,
              "#1f9e89"
             ],
             [
              0.6666666666666666,
              "#35b779"
             ],
             [
              0.7777777777777778,
              "#6ece58"
             ],
             [
              0.8888888888888888,
              "#b5de2b"
             ],
             [
              1,
              "#fde725"
             ]
            ],
            "type": "histogram2dcontour"
           }
          ],
          "mesh3d": [
           {
            "colorbar": {
             "outlinewidth": 1,
             "tickcolor": "rgb(36,36,36)",
             "ticks": "outside"
            },
            "type": "mesh3d"
           }
          ],
          "parcoords": [
           {
            "line": {
             "colorbar": {
              "outlinewidth": 1,
              "tickcolor": "rgb(36,36,36)",
              "ticks": "outside"
             }
            },
            "type": "parcoords"
           }
          ],
          "pie": [
           {
            "automargin": true,
            "type": "pie"
           }
          ],
          "scatter": [
           {
            "marker": {
             "colorbar": {
              "outlinewidth": 1,
              "tickcolor": "rgb(36,36,36)",
              "ticks": "outside"
             }
            },
            "type": "scatter"
           }
          ],
          "scatter3d": [
           {
            "line": {
             "colorbar": {
              "outlinewidth": 1,
              "tickcolor": "rgb(36,36,36)",
              "ticks": "outside"
             }
            },
            "marker": {
             "colorbar": {
              "outlinewidth": 1,
              "tickcolor": "rgb(36,36,36)",
              "ticks": "outside"
             }
            },
            "type": "scatter3d"
           }
          ],
          "scattercarpet": [
           {
            "marker": {
             "colorbar": {
              "outlinewidth": 1,
              "tickcolor": "rgb(36,36,36)",
              "ticks": "outside"
             }
            },
            "type": "scattercarpet"
           }
          ],
          "scattergeo": [
           {
            "marker": {
             "colorbar": {
              "outlinewidth": 1,
              "tickcolor": "rgb(36,36,36)",
              "ticks": "outside"
             }
            },
            "type": "scattergeo"
           }
          ],
          "scattergl": [
           {
            "marker": {
             "colorbar": {
              "outlinewidth": 1,
              "tickcolor": "rgb(36,36,36)",
              "ticks": "outside"
             }
            },
            "type": "scattergl"
           }
          ],
          "scattermapbox": [
           {
            "marker": {
             "colorbar": {
              "outlinewidth": 1,
              "tickcolor": "rgb(36,36,36)",
              "ticks": "outside"
             }
            },
            "type": "scattermapbox"
           }
          ],
          "scatterpolar": [
           {
            "marker": {
             "colorbar": {
              "outlinewidth": 1,
              "tickcolor": "rgb(36,36,36)",
              "ticks": "outside"
             }
            },
            "type": "scatterpolar"
           }
          ],
          "scatterpolargl": [
           {
            "marker": {
             "colorbar": {
              "outlinewidth": 1,
              "tickcolor": "rgb(36,36,36)",
              "ticks": "outside"
             }
            },
            "type": "scatterpolargl"
           }
          ],
          "scatterternary": [
           {
            "marker": {
             "colorbar": {
              "outlinewidth": 1,
              "tickcolor": "rgb(36,36,36)",
              "ticks": "outside"
             }
            },
            "type": "scatterternary"
           }
          ],
          "surface": [
           {
            "colorbar": {
             "outlinewidth": 1,
             "tickcolor": "rgb(36,36,36)",
             "ticks": "outside"
            },
            "colorscale": [
             [
              0,
              "#440154"
             ],
             [
              0.1111111111111111,
              "#482878"
             ],
             [
              0.2222222222222222,
              "#3e4989"
             ],
             [
              0.3333333333333333,
              "#31688e"
             ],
             [
              0.4444444444444444,
              "#26828e"
             ],
             [
              0.5555555555555556,
              "#1f9e89"
             ],
             [
              0.6666666666666666,
              "#35b779"
             ],
             [
              0.7777777777777778,
              "#6ece58"
             ],
             [
              0.8888888888888888,
              "#b5de2b"
             ],
             [
              1,
              "#fde725"
             ]
            ],
            "type": "surface"
           }
          ],
          "table": [
           {
            "cells": {
             "fill": {
              "color": "rgb(237,237,237)"
             },
             "line": {
              "color": "white"
             }
            },
            "header": {
             "fill": {
              "color": "rgb(217,217,217)"
             },
             "line": {
              "color": "white"
             }
            },
            "type": "table"
           }
          ]
         },
         "layout": {
          "annotationdefaults": {
           "arrowhead": 0,
           "arrowwidth": 1
          },
          "autotypenumbers": "strict",
          "coloraxis": {
           "colorbar": {
            "outlinewidth": 1,
            "tickcolor": "rgb(36,36,36)",
            "ticks": "outside"
           }
          },
          "colorscale": {
           "diverging": [
            [
             0,
             "rgb(103,0,31)"
            ],
            [
             0.1,
             "rgb(178,24,43)"
            ],
            [
             0.2,
             "rgb(214,96,77)"
            ],
            [
             0.3,
             "rgb(244,165,130)"
            ],
            [
             0.4,
             "rgb(253,219,199)"
            ],
            [
             0.5,
             "rgb(247,247,247)"
            ],
            [
             0.6,
             "rgb(209,229,240)"
            ],
            [
             0.7,
             "rgb(146,197,222)"
            ],
            [
             0.8,
             "rgb(67,147,195)"
            ],
            [
             0.9,
             "rgb(33,102,172)"
            ],
            [
             1,
             "rgb(5,48,97)"
            ]
           ],
           "sequential": [
            [
             0,
             "#440154"
            ],
            [
             0.1111111111111111,
             "#482878"
            ],
            [
             0.2222222222222222,
             "#3e4989"
            ],
            [
             0.3333333333333333,
             "#31688e"
            ],
            [
             0.4444444444444444,
             "#26828e"
            ],
            [
             0.5555555555555556,
             "#1f9e89"
            ],
            [
             0.6666666666666666,
             "#35b779"
            ],
            [
             0.7777777777777778,
             "#6ece58"
            ],
            [
             0.8888888888888888,
             "#b5de2b"
            ],
            [
             1,
             "#fde725"
            ]
           ],
           "sequentialminus": [
            [
             0,
             "#440154"
            ],
            [
             0.1111111111111111,
             "#482878"
            ],
            [
             0.2222222222222222,
             "#3e4989"
            ],
            [
             0.3333333333333333,
             "#31688e"
            ],
            [
             0.4444444444444444,
             "#26828e"
            ],
            [
             0.5555555555555556,
             "#1f9e89"
            ],
            [
             0.6666666666666666,
             "#35b779"
            ],
            [
             0.7777777777777778,
             "#6ece58"
            ],
            [
             0.8888888888888888,
             "#b5de2b"
            ],
            [
             1,
             "#fde725"
            ]
           ]
          },
          "colorway": [
           "#1F77B4",
           "#FF7F0E",
           "#2CA02C",
           "#D62728",
           "#9467BD",
           "#8C564B",
           "#E377C2",
           "#7F7F7F",
           "#BCBD22",
           "#17BECF"
          ],
          "font": {
           "color": "rgb(36,36,36)"
          },
          "geo": {
           "bgcolor": "white",
           "lakecolor": "white",
           "landcolor": "white",
           "showlakes": true,
           "showland": true,
           "subunitcolor": "white"
          },
          "hoverlabel": {
           "align": "left"
          },
          "hovermode": "closest",
          "mapbox": {
           "style": "light"
          },
          "paper_bgcolor": "white",
          "plot_bgcolor": "white",
          "polar": {
           "angularaxis": {
            "gridcolor": "rgb(232,232,232)",
            "linecolor": "rgb(36,36,36)",
            "showgrid": false,
            "showline": true,
            "ticks": "outside"
           },
           "bgcolor": "white",
           "radialaxis": {
            "gridcolor": "rgb(232,232,232)",
            "linecolor": "rgb(36,36,36)",
            "showgrid": false,
            "showline": true,
            "ticks": "outside"
           }
          },
          "scene": {
           "xaxis": {
            "backgroundcolor": "white",
            "gridcolor": "rgb(232,232,232)",
            "gridwidth": 2,
            "linecolor": "rgb(36,36,36)",
            "showbackground": true,
            "showgrid": false,
            "showline": true,
            "ticks": "outside",
            "zeroline": false,
            "zerolinecolor": "rgb(36,36,36)"
           },
           "yaxis": {
            "backgroundcolor": "white",
            "gridcolor": "rgb(232,232,232)",
            "gridwidth": 2,
            "linecolor": "rgb(36,36,36)",
            "showbackground": true,
            "showgrid": false,
            "showline": true,
            "ticks": "outside",
            "zeroline": false,
            "zerolinecolor": "rgb(36,36,36)"
           },
           "zaxis": {
            "backgroundcolor": "white",
            "gridcolor": "rgb(232,232,232)",
            "gridwidth": 2,
            "linecolor": "rgb(36,36,36)",
            "showbackground": true,
            "showgrid": false,
            "showline": true,
            "ticks": "outside",
            "zeroline": false,
            "zerolinecolor": "rgb(36,36,36)"
           }
          },
          "shapedefaults": {
           "fillcolor": "black",
           "line": {
            "width": 0
           },
           "opacity": 0.3
          },
          "ternary": {
           "aaxis": {
            "gridcolor": "rgb(232,232,232)",
            "linecolor": "rgb(36,36,36)",
            "showgrid": false,
            "showline": true,
            "ticks": "outside"
           },
           "baxis": {
            "gridcolor": "rgb(232,232,232)",
            "linecolor": "rgb(36,36,36)",
            "showgrid": false,
            "showline": true,
            "ticks": "outside"
           },
           "bgcolor": "white",
           "caxis": {
            "gridcolor": "rgb(232,232,232)",
            "linecolor": "rgb(36,36,36)",
            "showgrid": false,
            "showline": true,
            "ticks": "outside"
           }
          },
          "title": {
           "x": 0.05
          },
          "xaxis": {
           "automargin": true,
           "gridcolor": "rgb(232,232,232)",
           "linecolor": "rgb(36,36,36)",
           "showgrid": false,
           "showline": true,
           "ticks": "outside",
           "title": {
            "standoff": 15
           },
           "zeroline": false,
           "zerolinecolor": "rgb(36,36,36)"
          },
          "yaxis": {
           "automargin": true,
           "gridcolor": "rgb(232,232,232)",
           "linecolor": "rgb(36,36,36)",
           "showgrid": false,
           "showline": true,
           "ticks": "outside",
           "title": {
            "standoff": 15
           },
           "zeroline": false,
           "zerolinecolor": "rgb(36,36,36)"
          }
         }
        },
        "title": {
         "text": "Number of women and men articles within each category"
        },
        "width": 1000,
        "xaxis": {
         "anchor": "y",
         "domain": [
          0,
          1
         ],
         "title": {
          "text": "Number of articles"
         }
        },
        "yaxis": {
         "anchor": "x",
         "autorange": "reversed",
         "domain": [
          0,
          1
         ],
         "title": {}
        }
       }
      }
     },
     "metadata": {},
     "output_type": "display_data"
    }
   ],
   "source": [
    "categories = men_women_cat.index.str.replace('_', ' ')\n",
    "men = men_women_cat['men'].values\n",
    "women = men_women_cat['women'].values\n",
    "women[np.isnan(women)] = 0\n",
    "total = men + women\n",
    "\n",
    "m = pd.DataFrame({'category': categories, 'amount': men,'gender': 'men'}).sort_values(by = ['category'])\n",
    "w = pd.DataFrame({'category': categories, 'amount':women, 'gender':'women'}).sort_values(by = ['category'])\n",
    "t = pd.concat([m, w])\n",
    "\n",
    "fig = px.bar(t, y='category', x='amount', color='gender', barmode='group', \n",
    "             color_discrete_sequence = ['skyblue', 'hotpink'], \n",
    "             title = 'Number of women and men articles within each category',\n",
    "             labels={\"y\": \"Categories\",\n",
    "                    \"amount\": \"Number of articles\",\n",
    "                    \"gender\": \"Gender\"},\n",
    "             orientation='h',\n",
    "             width=1000, height=600,\n",
    "             template = 'simple_white')\n",
    "\n",
    "fig.update_layout(yaxis=dict(title = None, autorange=\"reversed\"), \n",
    "                  font_color = '#404040', font_family='Times New Roman, serif', font_size = 14)\n",
    "fig.show()\n",
    "\n",
    "fig.to_html(full_html = False, include_plotlyjs='cdn')\n",
    "fig.write_html(\"datastory_plot/plot3.html\", full_html=False, include_plotlyjs='cdn')"
   ]
  },
  {
   "cell_type": "markdown",
   "id": "464f8b03-0422-46a8-bc62-9e114ecef9b0",
   "metadata": {},
   "source": [
    "#### **Plot 4**"
   ]
  },
  {
   "cell_type": "code",
   "execution_count": 1338,
   "id": "d5893a0e-8398-4b2d-b076-5e201e491905",
   "metadata": {},
   "outputs": [
    {
     "data": {
      "application/vnd.plotly.v1+json": {
       "config": {
        "plotlyServerURL": "https://plot.ly"
       },
       "data": [
        {
         "domain": {
          "x": [
           0,
           0.45
          ],
          "y": [
           0,
           1
          ]
         },
         "labels": [
          "Unfinished paths",
          "Finished paths"
         ],
         "legendgroup": "1",
         "marker": {
          "colors": [
           "#f7cac9",
           "#f7786b"
          ]
         },
         "name": "Woman as target",
         "scalegroup": "one",
         "textfont": {
          "color": "black"
         },
         "type": "pie",
         "values": [
          213,
          347
         ]
        },
        {
         "domain": {
          "x": [
           0.55,
           1
          ],
          "y": [
           0,
           1
          ]
         },
         "labels": [
          "Unfinished paths",
          "Finished paths"
         ],
         "legendgroup": "2",
         "marker": {
          "colors": [
           "#92a8d1",
           "#034f84"
          ]
         },
         "name": "Man as target",
         "scalegroup": "one",
         "textfont": {
          "color": "white"
         },
         "type": "pie",
         "values": [
          1460,
          5727
         ]
        }
       ],
       "layout": {
        "annotations": [
         {
          "font": {
           "size": 16
          },
          "showarrow": false,
          "text": "Women",
          "x": 0.225,
          "xanchor": "center",
          "xref": "paper",
          "y": 1,
          "yanchor": "bottom",
          "yref": "paper"
         },
         {
          "font": {
           "size": 16
          },
          "showarrow": false,
          "text": "Men",
          "x": 0.775,
          "xanchor": "center",
          "xref": "paper",
          "y": 1,
          "yanchor": "bottom",
          "yref": "paper"
         }
        ],
        "font": {
         "color": "#404040",
         "family": "Times New Roman, serif",
         "size": 14
        },
        "showlegend": true,
        "template": {
         "data": {
          "bar": [
           {
            "error_x": {
             "color": "#2a3f5f"
            },
            "error_y": {
             "color": "#2a3f5f"
            },
            "marker": {
             "line": {
              "color": "#E5ECF6",
              "width": 0.5
             },
             "pattern": {
              "fillmode": "overlay",
              "size": 10,
              "solidity": 0.2
             }
            },
            "type": "bar"
           }
          ],
          "barpolar": [
           {
            "marker": {
             "line": {
              "color": "#E5ECF6",
              "width": 0.5
             },
             "pattern": {
              "fillmode": "overlay",
              "size": 10,
              "solidity": 0.2
             }
            },
            "type": "barpolar"
           }
          ],
          "carpet": [
           {
            "aaxis": {
             "endlinecolor": "#2a3f5f",
             "gridcolor": "white",
             "linecolor": "white",
             "minorgridcolor": "white",
             "startlinecolor": "#2a3f5f"
            },
            "baxis": {
             "endlinecolor": "#2a3f5f",
             "gridcolor": "white",
             "linecolor": "white",
             "minorgridcolor": "white",
             "startlinecolor": "#2a3f5f"
            },
            "type": "carpet"
           }
          ],
          "choropleth": [
           {
            "colorbar": {
             "outlinewidth": 0,
             "ticks": ""
            },
            "type": "choropleth"
           }
          ],
          "contour": [
           {
            "colorbar": {
             "outlinewidth": 0,
             "ticks": ""
            },
            "colorscale": [
             [
              0,
              "#0d0887"
             ],
             [
              0.1111111111111111,
              "#46039f"
             ],
             [
              0.2222222222222222,
              "#7201a8"
             ],
             [
              0.3333333333333333,
              "#9c179e"
             ],
             [
              0.4444444444444444,
              "#bd3786"
             ],
             [
              0.5555555555555556,
              "#d8576b"
             ],
             [
              0.6666666666666666,
              "#ed7953"
             ],
             [
              0.7777777777777778,
              "#fb9f3a"
             ],
             [
              0.8888888888888888,
              "#fdca26"
             ],
             [
              1,
              "#f0f921"
             ]
            ],
            "type": "contour"
           }
          ],
          "contourcarpet": [
           {
            "colorbar": {
             "outlinewidth": 0,
             "ticks": ""
            },
            "type": "contourcarpet"
           }
          ],
          "heatmap": [
           {
            "colorbar": {
             "outlinewidth": 0,
             "ticks": ""
            },
            "colorscale": [
             [
              0,
              "#0d0887"
             ],
             [
              0.1111111111111111,
              "#46039f"
             ],
             [
              0.2222222222222222,
              "#7201a8"
             ],
             [
              0.3333333333333333,
              "#9c179e"
             ],
             [
              0.4444444444444444,
              "#bd3786"
             ],
             [
              0.5555555555555556,
              "#d8576b"
             ],
             [
              0.6666666666666666,
              "#ed7953"
             ],
             [
              0.7777777777777778,
              "#fb9f3a"
             ],
             [
              0.8888888888888888,
              "#fdca26"
             ],
             [
              1,
              "#f0f921"
             ]
            ],
            "type": "heatmap"
           }
          ],
          "heatmapgl": [
           {
            "colorbar": {
             "outlinewidth": 0,
             "ticks": ""
            },
            "colorscale": [
             [
              0,
              "#0d0887"
             ],
             [
              0.1111111111111111,
              "#46039f"
             ],
             [
              0.2222222222222222,
              "#7201a8"
             ],
             [
              0.3333333333333333,
              "#9c179e"
             ],
             [
              0.4444444444444444,
              "#bd3786"
             ],
             [
              0.5555555555555556,
              "#d8576b"
             ],
             [
              0.6666666666666666,
              "#ed7953"
             ],
             [
              0.7777777777777778,
              "#fb9f3a"
             ],
             [
              0.8888888888888888,
              "#fdca26"
             ],
             [
              1,
              "#f0f921"
             ]
            ],
            "type": "heatmapgl"
           }
          ],
          "histogram": [
           {
            "marker": {
             "pattern": {
              "fillmode": "overlay",
              "size": 10,
              "solidity": 0.2
             }
            },
            "type": "histogram"
           }
          ],
          "histogram2d": [
           {
            "colorbar": {
             "outlinewidth": 0,
             "ticks": ""
            },
            "colorscale": [
             [
              0,
              "#0d0887"
             ],
             [
              0.1111111111111111,
              "#46039f"
             ],
             [
              0.2222222222222222,
              "#7201a8"
             ],
             [
              0.3333333333333333,
              "#9c179e"
             ],
             [
              0.4444444444444444,
              "#bd3786"
             ],
             [
              0.5555555555555556,
              "#d8576b"
             ],
             [
              0.6666666666666666,
              "#ed7953"
             ],
             [
              0.7777777777777778,
              "#fb9f3a"
             ],
             [
              0.8888888888888888,
              "#fdca26"
             ],
             [
              1,
              "#f0f921"
             ]
            ],
            "type": "histogram2d"
           }
          ],
          "histogram2dcontour": [
           {
            "colorbar": {
             "outlinewidth": 0,
             "ticks": ""
            },
            "colorscale": [
             [
              0,
              "#0d0887"
             ],
             [
              0.1111111111111111,
              "#46039f"
             ],
             [
              0.2222222222222222,
              "#7201a8"
             ],
             [
              0.3333333333333333,
              "#9c179e"
             ],
             [
              0.4444444444444444,
              "#bd3786"
             ],
             [
              0.5555555555555556,
              "#d8576b"
             ],
             [
              0.6666666666666666,
              "#ed7953"
             ],
             [
              0.7777777777777778,
              "#fb9f3a"
             ],
             [
              0.8888888888888888,
              "#fdca26"
             ],
             [
              1,
              "#f0f921"
             ]
            ],
            "type": "histogram2dcontour"
           }
          ],
          "mesh3d": [
           {
            "colorbar": {
             "outlinewidth": 0,
             "ticks": ""
            },
            "type": "mesh3d"
           }
          ],
          "parcoords": [
           {
            "line": {
             "colorbar": {
              "outlinewidth": 0,
              "ticks": ""
             }
            },
            "type": "parcoords"
           }
          ],
          "pie": [
           {
            "automargin": true,
            "type": "pie"
           }
          ],
          "scatter": [
           {
            "marker": {
             "colorbar": {
              "outlinewidth": 0,
              "ticks": ""
             }
            },
            "type": "scatter"
           }
          ],
          "scatter3d": [
           {
            "line": {
             "colorbar": {
              "outlinewidth": 0,
              "ticks": ""
             }
            },
            "marker": {
             "colorbar": {
              "outlinewidth": 0,
              "ticks": ""
             }
            },
            "type": "scatter3d"
           }
          ],
          "scattercarpet": [
           {
            "marker": {
             "colorbar": {
              "outlinewidth": 0,
              "ticks": ""
             }
            },
            "type": "scattercarpet"
           }
          ],
          "scattergeo": [
           {
            "marker": {
             "colorbar": {
              "outlinewidth": 0,
              "ticks": ""
             }
            },
            "type": "scattergeo"
           }
          ],
          "scattergl": [
           {
            "marker": {
             "colorbar": {
              "outlinewidth": 0,
              "ticks": ""
             }
            },
            "type": "scattergl"
           }
          ],
          "scattermapbox": [
           {
            "marker": {
             "colorbar": {
              "outlinewidth": 0,
              "ticks": ""
             }
            },
            "type": "scattermapbox"
           }
          ],
          "scatterpolar": [
           {
            "marker": {
             "colorbar": {
              "outlinewidth": 0,
              "ticks": ""
             }
            },
            "type": "scatterpolar"
           }
          ],
          "scatterpolargl": [
           {
            "marker": {
             "colorbar": {
              "outlinewidth": 0,
              "ticks": ""
             }
            },
            "type": "scatterpolargl"
           }
          ],
          "scatterternary": [
           {
            "marker": {
             "colorbar": {
              "outlinewidth": 0,
              "ticks": ""
             }
            },
            "type": "scatterternary"
           }
          ],
          "surface": [
           {
            "colorbar": {
             "outlinewidth": 0,
             "ticks": ""
            },
            "colorscale": [
             [
              0,
              "#0d0887"
             ],
             [
              0.1111111111111111,
              "#46039f"
             ],
             [
              0.2222222222222222,
              "#7201a8"
             ],
             [
              0.3333333333333333,
              "#9c179e"
             ],
             [
              0.4444444444444444,
              "#bd3786"
             ],
             [
              0.5555555555555556,
              "#d8576b"
             ],
             [
              0.6666666666666666,
              "#ed7953"
             ],
             [
              0.7777777777777778,
              "#fb9f3a"
             ],
             [
              0.8888888888888888,
              "#fdca26"
             ],
             [
              1,
              "#f0f921"
             ]
            ],
            "type": "surface"
           }
          ],
          "table": [
           {
            "cells": {
             "fill": {
              "color": "#EBF0F8"
             },
             "line": {
              "color": "white"
             }
            },
            "header": {
             "fill": {
              "color": "#C8D4E3"
             },
             "line": {
              "color": "white"
             }
            },
            "type": "table"
           }
          ]
         },
         "layout": {
          "annotationdefaults": {
           "arrowcolor": "#2a3f5f",
           "arrowhead": 0,
           "arrowwidth": 1
          },
          "autotypenumbers": "strict",
          "coloraxis": {
           "colorbar": {
            "outlinewidth": 0,
            "ticks": ""
           }
          },
          "colorscale": {
           "diverging": [
            [
             0,
             "#8e0152"
            ],
            [
             0.1,
             "#c51b7d"
            ],
            [
             0.2,
             "#de77ae"
            ],
            [
             0.3,
             "#f1b6da"
            ],
            [
             0.4,
             "#fde0ef"
            ],
            [
             0.5,
             "#f7f7f7"
            ],
            [
             0.6,
             "#e6f5d0"
            ],
            [
             0.7,
             "#b8e186"
            ],
            [
             0.8,
             "#7fbc41"
            ],
            [
             0.9,
             "#4d9221"
            ],
            [
             1,
             "#276419"
            ]
           ],
           "sequential": [
            [
             0,
             "#0d0887"
            ],
            [
             0.1111111111111111,
             "#46039f"
            ],
            [
             0.2222222222222222,
             "#7201a8"
            ],
            [
             0.3333333333333333,
             "#9c179e"
            ],
            [
             0.4444444444444444,
             "#bd3786"
            ],
            [
             0.5555555555555556,
             "#d8576b"
            ],
            [
             0.6666666666666666,
             "#ed7953"
            ],
            [
             0.7777777777777778,
             "#fb9f3a"
            ],
            [
             0.8888888888888888,
             "#fdca26"
            ],
            [
             1,
             "#f0f921"
            ]
           ],
           "sequentialminus": [
            [
             0,
             "#0d0887"
            ],
            [
             0.1111111111111111,
             "#46039f"
            ],
            [
             0.2222222222222222,
             "#7201a8"
            ],
            [
             0.3333333333333333,
             "#9c179e"
            ],
            [
             0.4444444444444444,
             "#bd3786"
            ],
            [
             0.5555555555555556,
             "#d8576b"
            ],
            [
             0.6666666666666666,
             "#ed7953"
            ],
            [
             0.7777777777777778,
             "#fb9f3a"
            ],
            [
             0.8888888888888888,
             "#fdca26"
            ],
            [
             1,
             "#f0f921"
            ]
           ]
          },
          "colorway": [
           "#636efa",
           "#EF553B",
           "#00cc96",
           "#ab63fa",
           "#FFA15A",
           "#19d3f3",
           "#FF6692",
           "#B6E880",
           "#FF97FF",
           "#FECB52"
          ],
          "font": {
           "color": "#2a3f5f"
          },
          "geo": {
           "bgcolor": "white",
           "lakecolor": "white",
           "landcolor": "#E5ECF6",
           "showlakes": true,
           "showland": true,
           "subunitcolor": "white"
          },
          "hoverlabel": {
           "align": "left"
          },
          "hovermode": "closest",
          "mapbox": {
           "style": "light"
          },
          "paper_bgcolor": "white",
          "plot_bgcolor": "#E5ECF6",
          "polar": {
           "angularaxis": {
            "gridcolor": "white",
            "linecolor": "white",
            "ticks": ""
           },
           "bgcolor": "#E5ECF6",
           "radialaxis": {
            "gridcolor": "white",
            "linecolor": "white",
            "ticks": ""
           }
          },
          "scene": {
           "xaxis": {
            "backgroundcolor": "#E5ECF6",
            "gridcolor": "white",
            "gridwidth": 2,
            "linecolor": "white",
            "showbackground": true,
            "ticks": "",
            "zerolinecolor": "white"
           },
           "yaxis": {
            "backgroundcolor": "#E5ECF6",
            "gridcolor": "white",
            "gridwidth": 2,
            "linecolor": "white",
            "showbackground": true,
            "ticks": "",
            "zerolinecolor": "white"
           },
           "zaxis": {
            "backgroundcolor": "#E5ECF6",
            "gridcolor": "white",
            "gridwidth": 2,
            "linecolor": "white",
            "showbackground": true,
            "ticks": "",
            "zerolinecolor": "white"
           }
          },
          "shapedefaults": {
           "line": {
            "color": "#2a3f5f"
           }
          },
          "ternary": {
           "aaxis": {
            "gridcolor": "white",
            "linecolor": "white",
            "ticks": ""
           },
           "baxis": {
            "gridcolor": "white",
            "linecolor": "white",
            "ticks": ""
           },
           "bgcolor": "#E5ECF6",
           "caxis": {
            "gridcolor": "white",
            "linecolor": "white",
            "ticks": ""
           }
          },
          "title": {
           "x": 0.05
          },
          "xaxis": {
           "automargin": true,
           "gridcolor": "white",
           "linecolor": "white",
           "ticks": "",
           "title": {
            "standoff": 15
           },
           "zerolinecolor": "white",
           "zerolinewidth": 2
          },
          "yaxis": {
           "automargin": true,
           "gridcolor": "white",
           "linecolor": "white",
           "ticks": "",
           "title": {
            "standoff": 15
           },
           "zerolinecolor": "white",
           "zerolinewidth": 2
          }
         }
        },
        "title": {
         "text": "Paths depending on gender of the target article"
        }
       }
      }
     },
     "metadata": {},
     "output_type": "display_data"
    }
   ],
   "source": [
    "men_target_paths = people_target_paths[people_target_paths['gender'] == 'male'].groupby('finished').count()\n",
    "women_target_paths = people_target_paths[people_target_paths['gender'] == 'female'].groupby('finished').count()\n",
    "\n",
    "labels = [\"Unfinished paths\", \"Finished paths\"]\n",
    "\n",
    "fig = make_subplots(1, 2, specs=[[{'type':'domain'}, {'type':'domain'}]],\n",
    "                    subplot_titles=['Women', 'Men'])\n",
    "\n",
    "fig.add_trace(go.Pie(labels=labels, values=women_target_paths['source'], scalegroup='one',\n",
    "                     name=\"Woman as target\", marker=dict(colors=['#f7cac9', '#f7786b']), legendgroup = '1',\n",
    "                    textfont_color='black'), 1, 1)\n",
    "\n",
    "fig.add_trace(go.Pie(labels=labels, values=men_target_paths['source'], scalegroup='one',\n",
    "                     name=\"Man as target\", marker=dict(colors=['#92a8d1', '#034f84']), legendgroup = '2',\n",
    "                    textfont_color='white'), 1, 2)\n",
    "\n",
    "fig.update_layout(title_text='Paths depending on gender of the target article',\n",
    "                  font_color = '#404040', font_family='Times New Roman, serif', font_size = 14,\n",
    "                  showlegend=True)\n",
    "fig.show()\n",
    "\n",
    "fig.to_html(full_html = False, include_plotlyjs='cdn')\n",
    "fig.write_html(\"datastory_plot/piechart.html\", full_html=False, include_plotlyjs='cdn')"
   ]
  },
  {
   "attachments": {},
   "cell_type": "markdown",
   "id": "464f8b03-0422-46a8-bc62-9e114ecef9b0",
   "metadata": {},
   "source": [
    "#### **Plot 5**"
   ]
  },
  {
   "cell_type": "code",
   "execution_count": 1339,
   "id": "f3926399",
   "metadata": {},
   "outputs": [
    {
     "data": {
      "application/vnd.plotly.v1+json": {
       "config": {
        "plotlyServerURL": "https://plot.ly"
       },
       "data": [
        {
         "fill": "toself",
         "line": {
          "color": "hotpink"
         },
         "name": "Women",
         "r": [
          0.6068480390130131,
          6.23063003703265,
          2.384064549174565,
          3.1422912007889443,
          2.2019182366215433
         ],
         "theta": [
          "Success rate",
          "In-degree",
          "Playtime [min]",
          "Path deviation",
          "Difficulty rating"
         ],
         "type": "scatterpolar"
        },
        {
         "fill": "toself",
         "line": {
          "color": "skyblue"
         },
         "name": "Men",
         "r": [
          0.7758441073276038,
          9.601510226110804,
          1.686718392076239,
          2.6369112781430974,
          1.9633108018710008
         ],
         "theta": [
          "Success rate",
          "In-degree",
          "Playtime [min]",
          "Path deviation",
          "Difficulty rating"
         ],
         "type": "scatterpolar"
        }
       ],
       "layout": {
        "font": {
         "color": "#404040",
         "family": "Times New Roman, serif",
         "size": 14
        },
        "polar": {
         "radialaxis": {
          "range": [
           0,
           10
          ],
          "visible": true
         }
        },
        "showlegend": true,
        "template": {
         "data": {
          "bar": [
           {
            "error_x": {
             "color": "#2a3f5f"
            },
            "error_y": {
             "color": "#2a3f5f"
            },
            "marker": {
             "line": {
              "color": "#E5ECF6",
              "width": 0.5
             },
             "pattern": {
              "fillmode": "overlay",
              "size": 10,
              "solidity": 0.2
             }
            },
            "type": "bar"
           }
          ],
          "barpolar": [
           {
            "marker": {
             "line": {
              "color": "#E5ECF6",
              "width": 0.5
             },
             "pattern": {
              "fillmode": "overlay",
              "size": 10,
              "solidity": 0.2
             }
            },
            "type": "barpolar"
           }
          ],
          "carpet": [
           {
            "aaxis": {
             "endlinecolor": "#2a3f5f",
             "gridcolor": "white",
             "linecolor": "white",
             "minorgridcolor": "white",
             "startlinecolor": "#2a3f5f"
            },
            "baxis": {
             "endlinecolor": "#2a3f5f",
             "gridcolor": "white",
             "linecolor": "white",
             "minorgridcolor": "white",
             "startlinecolor": "#2a3f5f"
            },
            "type": "carpet"
           }
          ],
          "choropleth": [
           {
            "colorbar": {
             "outlinewidth": 0,
             "ticks": ""
            },
            "type": "choropleth"
           }
          ],
          "contour": [
           {
            "colorbar": {
             "outlinewidth": 0,
             "ticks": ""
            },
            "colorscale": [
             [
              0,
              "#0d0887"
             ],
             [
              0.1111111111111111,
              "#46039f"
             ],
             [
              0.2222222222222222,
              "#7201a8"
             ],
             [
              0.3333333333333333,
              "#9c179e"
             ],
             [
              0.4444444444444444,
              "#bd3786"
             ],
             [
              0.5555555555555556,
              "#d8576b"
             ],
             [
              0.6666666666666666,
              "#ed7953"
             ],
             [
              0.7777777777777778,
              "#fb9f3a"
             ],
             [
              0.8888888888888888,
              "#fdca26"
             ],
             [
              1,
              "#f0f921"
             ]
            ],
            "type": "contour"
           }
          ],
          "contourcarpet": [
           {
            "colorbar": {
             "outlinewidth": 0,
             "ticks": ""
            },
            "type": "contourcarpet"
           }
          ],
          "heatmap": [
           {
            "colorbar": {
             "outlinewidth": 0,
             "ticks": ""
            },
            "colorscale": [
             [
              0,
              "#0d0887"
             ],
             [
              0.1111111111111111,
              "#46039f"
             ],
             [
              0.2222222222222222,
              "#7201a8"
             ],
             [
              0.3333333333333333,
              "#9c179e"
             ],
             [
              0.4444444444444444,
              "#bd3786"
             ],
             [
              0.5555555555555556,
              "#d8576b"
             ],
             [
              0.6666666666666666,
              "#ed7953"
             ],
             [
              0.7777777777777778,
              "#fb9f3a"
             ],
             [
              0.8888888888888888,
              "#fdca26"
             ],
             [
              1,
              "#f0f921"
             ]
            ],
            "type": "heatmap"
           }
          ],
          "heatmapgl": [
           {
            "colorbar": {
             "outlinewidth": 0,
             "ticks": ""
            },
            "colorscale": [
             [
              0,
              "#0d0887"
             ],
             [
              0.1111111111111111,
              "#46039f"
             ],
             [
              0.2222222222222222,
              "#7201a8"
             ],
             [
              0.3333333333333333,
              "#9c179e"
             ],
             [
              0.4444444444444444,
              "#bd3786"
             ],
             [
              0.5555555555555556,
              "#d8576b"
             ],
             [
              0.6666666666666666,
              "#ed7953"
             ],
             [
              0.7777777777777778,
              "#fb9f3a"
             ],
             [
              0.8888888888888888,
              "#fdca26"
             ],
             [
              1,
              "#f0f921"
             ]
            ],
            "type": "heatmapgl"
           }
          ],
          "histogram": [
           {
            "marker": {
             "pattern": {
              "fillmode": "overlay",
              "size": 10,
              "solidity": 0.2
             }
            },
            "type": "histogram"
           }
          ],
          "histogram2d": [
           {
            "colorbar": {
             "outlinewidth": 0,
             "ticks": ""
            },
            "colorscale": [
             [
              0,
              "#0d0887"
             ],
             [
              0.1111111111111111,
              "#46039f"
             ],
             [
              0.2222222222222222,
              "#7201a8"
             ],
             [
              0.3333333333333333,
              "#9c179e"
             ],
             [
              0.4444444444444444,
              "#bd3786"
             ],
             [
              0.5555555555555556,
              "#d8576b"
             ],
             [
              0.6666666666666666,
              "#ed7953"
             ],
             [
              0.7777777777777778,
              "#fb9f3a"
             ],
             [
              0.8888888888888888,
              "#fdca26"
             ],
             [
              1,
              "#f0f921"
             ]
            ],
            "type": "histogram2d"
           }
          ],
          "histogram2dcontour": [
           {
            "colorbar": {
             "outlinewidth": 0,
             "ticks": ""
            },
            "colorscale": [
             [
              0,
              "#0d0887"
             ],
             [
              0.1111111111111111,
              "#46039f"
             ],
             [
              0.2222222222222222,
              "#7201a8"
             ],
             [
              0.3333333333333333,
              "#9c179e"
             ],
             [
              0.4444444444444444,
              "#bd3786"
             ],
             [
              0.5555555555555556,
              "#d8576b"
             ],
             [
              0.6666666666666666,
              "#ed7953"
             ],
             [
              0.7777777777777778,
              "#fb9f3a"
             ],
             [
              0.8888888888888888,
              "#fdca26"
             ],
             [
              1,
              "#f0f921"
             ]
            ],
            "type": "histogram2dcontour"
           }
          ],
          "mesh3d": [
           {
            "colorbar": {
             "outlinewidth": 0,
             "ticks": ""
            },
            "type": "mesh3d"
           }
          ],
          "parcoords": [
           {
            "line": {
             "colorbar": {
              "outlinewidth": 0,
              "ticks": ""
             }
            },
            "type": "parcoords"
           }
          ],
          "pie": [
           {
            "automargin": true,
            "type": "pie"
           }
          ],
          "scatter": [
           {
            "marker": {
             "colorbar": {
              "outlinewidth": 0,
              "ticks": ""
             }
            },
            "type": "scatter"
           }
          ],
          "scatter3d": [
           {
            "line": {
             "colorbar": {
              "outlinewidth": 0,
              "ticks": ""
             }
            },
            "marker": {
             "colorbar": {
              "outlinewidth": 0,
              "ticks": ""
             }
            },
            "type": "scatter3d"
           }
          ],
          "scattercarpet": [
           {
            "marker": {
             "colorbar": {
              "outlinewidth": 0,
              "ticks": ""
             }
            },
            "type": "scattercarpet"
           }
          ],
          "scattergeo": [
           {
            "marker": {
             "colorbar": {
              "outlinewidth": 0,
              "ticks": ""
             }
            },
            "type": "scattergeo"
           }
          ],
          "scattergl": [
           {
            "marker": {
             "colorbar": {
              "outlinewidth": 0,
              "ticks": ""
             }
            },
            "type": "scattergl"
           }
          ],
          "scattermapbox": [
           {
            "marker": {
             "colorbar": {
              "outlinewidth": 0,
              "ticks": ""
             }
            },
            "type": "scattermapbox"
           }
          ],
          "scatterpolar": [
           {
            "marker": {
             "colorbar": {
              "outlinewidth": 0,
              "ticks": ""
             }
            },
            "type": "scatterpolar"
           }
          ],
          "scatterpolargl": [
           {
            "marker": {
             "colorbar": {
              "outlinewidth": 0,
              "ticks": ""
             }
            },
            "type": "scatterpolargl"
           }
          ],
          "scatterternary": [
           {
            "marker": {
             "colorbar": {
              "outlinewidth": 0,
              "ticks": ""
             }
            },
            "type": "scatterternary"
           }
          ],
          "surface": [
           {
            "colorbar": {
             "outlinewidth": 0,
             "ticks": ""
            },
            "colorscale": [
             [
              0,
              "#0d0887"
             ],
             [
              0.1111111111111111,
              "#46039f"
             ],
             [
              0.2222222222222222,
              "#7201a8"
             ],
             [
              0.3333333333333333,
              "#9c179e"
             ],
             [
              0.4444444444444444,
              "#bd3786"
             ],
             [
              0.5555555555555556,
              "#d8576b"
             ],
             [
              0.6666666666666666,
              "#ed7953"
             ],
             [
              0.7777777777777778,
              "#fb9f3a"
             ],
             [
              0.8888888888888888,
              "#fdca26"
             ],
             [
              1,
              "#f0f921"
             ]
            ],
            "type": "surface"
           }
          ],
          "table": [
           {
            "cells": {
             "fill": {
              "color": "#EBF0F8"
             },
             "line": {
              "color": "white"
             }
            },
            "header": {
             "fill": {
              "color": "#C8D4E3"
             },
             "line": {
              "color": "white"
             }
            },
            "type": "table"
           }
          ]
         },
         "layout": {
          "annotationdefaults": {
           "arrowcolor": "#2a3f5f",
           "arrowhead": 0,
           "arrowwidth": 1
          },
          "autotypenumbers": "strict",
          "coloraxis": {
           "colorbar": {
            "outlinewidth": 0,
            "ticks": ""
           }
          },
          "colorscale": {
           "diverging": [
            [
             0,
             "#8e0152"
            ],
            [
             0.1,
             "#c51b7d"
            ],
            [
             0.2,
             "#de77ae"
            ],
            [
             0.3,
             "#f1b6da"
            ],
            [
             0.4,
             "#fde0ef"
            ],
            [
             0.5,
             "#f7f7f7"
            ],
            [
             0.6,
             "#e6f5d0"
            ],
            [
             0.7,
             "#b8e186"
            ],
            [
             0.8,
             "#7fbc41"
            ],
            [
             0.9,
             "#4d9221"
            ],
            [
             1,
             "#276419"
            ]
           ],
           "sequential": [
            [
             0,
             "#0d0887"
            ],
            [
             0.1111111111111111,
             "#46039f"
            ],
            [
             0.2222222222222222,
             "#7201a8"
            ],
            [
             0.3333333333333333,
             "#9c179e"
            ],
            [
             0.4444444444444444,
             "#bd3786"
            ],
            [
             0.5555555555555556,
             "#d8576b"
            ],
            [
             0.6666666666666666,
             "#ed7953"
            ],
            [
             0.7777777777777778,
             "#fb9f3a"
            ],
            [
             0.8888888888888888,
             "#fdca26"
            ],
            [
             1,
             "#f0f921"
            ]
           ],
           "sequentialminus": [
            [
             0,
             "#0d0887"
            ],
            [
             0.1111111111111111,
             "#46039f"
            ],
            [
             0.2222222222222222,
             "#7201a8"
            ],
            [
             0.3333333333333333,
             "#9c179e"
            ],
            [
             0.4444444444444444,
             "#bd3786"
            ],
            [
             0.5555555555555556,
             "#d8576b"
            ],
            [
             0.6666666666666666,
             "#ed7953"
            ],
            [
             0.7777777777777778,
             "#fb9f3a"
            ],
            [
             0.8888888888888888,
             "#fdca26"
            ],
            [
             1,
             "#f0f921"
            ]
           ]
          },
          "colorway": [
           "#636efa",
           "#EF553B",
           "#00cc96",
           "#ab63fa",
           "#FFA15A",
           "#19d3f3",
           "#FF6692",
           "#B6E880",
           "#FF97FF",
           "#FECB52"
          ],
          "font": {
           "color": "#2a3f5f"
          },
          "geo": {
           "bgcolor": "white",
           "lakecolor": "white",
           "landcolor": "#E5ECF6",
           "showlakes": true,
           "showland": true,
           "subunitcolor": "white"
          },
          "hoverlabel": {
           "align": "left"
          },
          "hovermode": "closest",
          "mapbox": {
           "style": "light"
          },
          "paper_bgcolor": "white",
          "plot_bgcolor": "#E5ECF6",
          "polar": {
           "angularaxis": {
            "gridcolor": "white",
            "linecolor": "white",
            "ticks": ""
           },
           "bgcolor": "#E5ECF6",
           "radialaxis": {
            "gridcolor": "white",
            "linecolor": "white",
            "ticks": ""
           }
          },
          "scene": {
           "xaxis": {
            "backgroundcolor": "#E5ECF6",
            "gridcolor": "white",
            "gridwidth": 2,
            "linecolor": "white",
            "showbackground": true,
            "ticks": "",
            "zerolinecolor": "white"
           },
           "yaxis": {
            "backgroundcolor": "#E5ECF6",
            "gridcolor": "white",
            "gridwidth": 2,
            "linecolor": "white",
            "showbackground": true,
            "ticks": "",
            "zerolinecolor": "white"
           },
           "zaxis": {
            "backgroundcolor": "#E5ECF6",
            "gridcolor": "white",
            "gridwidth": 2,
            "linecolor": "white",
            "showbackground": true,
            "ticks": "",
            "zerolinecolor": "white"
           }
          },
          "shapedefaults": {
           "line": {
            "color": "#2a3f5f"
           }
          },
          "ternary": {
           "aaxis": {
            "gridcolor": "white",
            "linecolor": "white",
            "ticks": ""
           },
           "baxis": {
            "gridcolor": "white",
            "linecolor": "white",
            "ticks": ""
           },
           "bgcolor": "#E5ECF6",
           "caxis": {
            "gridcolor": "white",
            "linecolor": "white",
            "ticks": ""
           }
          },
          "title": {
           "x": 0.05
          },
          "xaxis": {
           "automargin": true,
           "gridcolor": "white",
           "linecolor": "white",
           "ticks": "",
           "title": {
            "standoff": 15
           },
           "zerolinecolor": "white",
           "zerolinewidth": 2
          },
          "yaxis": {
           "automargin": true,
           "gridcolor": "white",
           "linecolor": "white",
           "ticks": "",
           "title": {
            "standoff": 15
           },
           "zerolinecolor": "white",
           "zerolinewidth": 2
          }
         }
        }
       }
      }
     },
     "metadata": {},
     "output_type": "display_data"
    }
   ],
   "source": [
    "categories = ['Success rate','In-degree','Playtime [min]','Path deviation','Difficulty rating']\n",
    "\n",
    "fig = go.Figure()\n",
    "\n",
    "fig.add_trace(go.Scatterpolar(\n",
    "      r=[wsuccessrate_mean, wlink_in, wplaytimemin_mean, wpathdev_mean, wdiffrating_mean],\n",
    "      theta=categories,\n",
    "      fill='toself',\n",
    "      line_color='hotpink',\n",
    "      name='Women'\n",
    "))\n",
    "fig.add_trace(go.Scatterpolar(\n",
    "      r=[msuccessrate_mean, mlink_in, mplaytimemin_mean, mpathdev_mean, mdiffrating_mean],\n",
    "      theta=categories,\n",
    "      fill='toself',\n",
    "      line_color='skyblue',\n",
    "      name='Men'\n",
    "))\n",
    "\n",
    "fig.update_layout(\n",
    "  polar=dict(radialaxis=dict(visible=True, range=[0, 10])), showlegend=True, \n",
    "    font_color = '#404040', font_family='Times New Roman, serif', font_size = 14)\n",
    "\n",
    "fig.show()\n",
    "\n",
    "fig.to_html(full_html = False, include_plotlyjs='cdn')\n",
    "fig.write_html(\"datastory_plot/radarplot_naive.html\", full_html=False, include_plotlyjs='cdn')"
   ]
  }
 ],
 "metadata": {
  "kernelspec": {
   "display_name": "Python 3 (ipykernel)",
   "language": "python",
   "name": "python3"
  },
  "language_info": {
   "codemirror_mode": {
    "name": "ipython",
    "version": 3
   },
   "file_extension": ".py",
   "mimetype": "text/x-python",
   "name": "python",
   "nbconvert_exporter": "python",
   "pygments_lexer": "ipython3",
   "version": "3.9.13"
  },
  "vscode": {
   "interpreter": {
    "hash": "60762f2c9dc1d733e9baa8b0211c4ce87ae4eb5a78219e2c34414973c6c0791c"
   }
  }
 },
 "nbformat": 4,
 "nbformat_minor": 5
}
