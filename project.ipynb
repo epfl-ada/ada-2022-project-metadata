{
 "cells": [
  {
   "cell_type": "markdown",
   "id": "01031411",
   "metadata": {},
   "source": [
    "# **Wikiwomen: An analysis on gender bias**\n",
    "*metADAta*"
   ]
  },
  {
   "cell_type": "markdown",
   "id": "3db8b982-f712-4f2a-9a04-f0486d667e7c",
   "metadata": {},
   "source": [
    "We begin with taking a look at the Wikispeedia dataset and importing the files from it. The dataframe `female` is an additional dataset that we constructed ourselves."
   ]
  },
  {
   "cell_type": "markdown",
   "id": "df0a8500-5bb9-4700-a910-b84d4e53af6c",
   "metadata": {
    "tags": []
   },
   "source": [
    "### **Dataframes: Columns and descriptions**"
   ]
  },
  {
   "cell_type": "markdown",
   "id": "39b87131-460b-4592-b915-89e362596e7e",
   "metadata": {},
   "source": [
    "| Name of dataframe | Columns                                                         | Description                                                                   |   |   |\n",
    "|-------------------|-----------------------------------------------------------------|-------------------------------------------------------------------------------|---|---|\n",
    "| articles          | [article]                                                       | Contains the name of a wikispeedia article                                    |   |   |\n",
    "| categories        | [article, category]                                             | Contains the name of a wikispeedia article and its corresponding category     |   |   |\n",
    "| links             | [link_source, link_target]                                      | Contains the source and target article between links         |   |   |\n",
    "| paths_finished    | [hashedIpAddress, timestamp, durationInSec, path, rating]       | Contains all finished paths                                                   |   |   |\n",
    "| paths_unfinished  | [hashedIpAddress, timestamp, durationInSec, path, target, type] | Contains all unfinished paths. Type refers to the reason they were unfinished |   |   |\n",
    "| shortest_distance_text  | array | Every row corresponds to a source article, in the same order as they appear in *articles*, and its value contains the shortest distance from that source article to every other article.  |   |   |\n",
    "| female  | [name, womenLabel] | Contains a list of articles about females and their corresponding subcategory |   |   |"
   ]
  },
  {
   "cell_type": "markdown",
   "id": "b9b449b4-a3d4-48fc-afe8-3c6ac1e22130",
   "metadata": {
    "tags": []
   },
   "source": [
    "## **Importing the data**"
   ]
  },
  {
   "cell_type": "code",
   "execution_count": 224,
   "id": "77350193-de98-4362-a62c-594bf1ba319f",
   "metadata": {},
   "outputs": [],
   "source": [
    "# Loading all the necessary packages\n",
    "import numpy as np\n",
    "import pandas as pd\n",
    "import matplotlib.pyplot as plt\n",
    "%matplotlib inline\n",
    "from matplotlib.offsetbox import AnchoredText\n",
    "from urllib.parse import unquote\n",
    "import seaborn as sns\n",
    "import networkx as nx\n",
    "import plotly.express as px\n",
    "import plotly.graph_objects as go\n",
    "import statsmodels.formula.api as smf\n",
    "import scipy.stats as stats"
   ]
  },
  {
   "cell_type": "code",
   "execution_count": 225,
   "id": "fa4e0832",
   "metadata": {},
   "outputs": [],
   "source": [
    "DATA_FOLDER = 'data/'\n",
    "WIKISPEEDIA_PATHS = DATA_FOLDER + \"wikispeedia_paths-and-graph/\"\n",
    "\n",
    "ARTICLES = WIKISPEEDIA_PATHS + \"articles.tsv\"\n",
    "CATEGORIES = WIKISPEEDIA_PATHS + \"categories.tsv\"\n",
    "LINKS = WIKISPEEDIA_PATHS + \"links.tsv\"\n",
    "PATHS_FINISHED = WIKISPEEDIA_PATHS + \"paths_finished.tsv\"\n",
    "PATHS_UNFINISHED = WIKISPEEDIA_PATHS + \"paths_unfinished.tsv\"\n",
    "SHORTEST_PATHS = WIKISPEEDIA_PATHS + \"shortest-path-distance-matrix.txt\"\n",
    "FEMALES = DATA_FOLDER + \"listwomen.txt\""
   ]
  },
  {
   "cell_type": "code",
   "execution_count": 226,
   "id": "1168595d",
   "metadata": {},
   "outputs": [],
   "source": [
    "articles = pd.read_csv(ARTICLES, sep='\\t', names=[\"article\"], skiprows = 12)\n",
    "categories = pd.read_csv(CATEGORIES, sep='\\t', names=[\"article\", \"category\"], skiprows = 13)\n",
    "links = pd.read_csv(LINKS, sep='\\t', names=[\"link_source\", \"link_target\"], skiprows = 12)\n",
    "paths_finished = pd.read_csv(PATHS_FINISHED, sep='\\t', names=[\"hashedIpAddress\", \"timestamp\", \n",
    "                                                              \"durationInSec\", \"path\", \"rating\"], skiprows = 15)\n",
    "paths_unfinished = pd.read_csv(PATHS_UNFINISHED, sep='\\t', names=[\"hashedIpAddress\", \"timestamp\", \n",
    "                                                                  \"durationInSec\", \"path\", \"target\", \"type\"], skiprows = 17)\n",
    "shortest_distance_text = np.loadtxt(SHORTEST_PATHS, dtype=str, comments=\"#\", unpack=False)\n",
    "female = pd.read_csv(FEMALES, sep=',', names=[\"name\", \"women_label\"], skiprows = 1)"
   ]
  },
  {
   "cell_type": "markdown",
   "id": "35e037f6-1258-4dfd-a894-fa90aa37f040",
   "metadata": {
    "tags": []
   },
   "source": [
    "## **Pre-processing and dataset construction**"
   ]
  },
  {
   "cell_type": "markdown",
   "id": "8f4e4b86-72c6-474d-ae22-8f8e1f6b2240",
   "metadata": {},
   "source": [
    "For our project, we are mainly interested in one category within the Wikispeedia dataset, namely the category of People, the one colored red in the following bar plot. "
   ]
  },
  {
   "cell_type": "code",
   "execution_count": 227,
   "id": "ff04d846-096e-434c-9b23-f620a3d3beb5",
   "metadata": {},
   "outputs": [],
   "source": [
    "main_categories = pd.concat([categories, categories['category'].str.split(\".\", expand=True)], axis=1)\n",
    "main_categories = main_categories.drop(columns = [\"category\", 0, 2, 3])\n",
    "main_categories = main_categories.rename(columns = {\"article\": \"name\", 1: \"main_category\"})"
   ]
  },
  {
   "cell_type": "code",
   "execution_count": 228,
   "id": "129baaa1-c1f5-4cc3-becf-2ab527225fca",
   "metadata": {},
   "outputs": [
    {
     "data": {
      "image/png": "[encoded data removed]",
      "text/plain": [
       "<Figure size 432x288 with 1 Axes>"
      ]
     },
     "metadata": {
      "needs_background": "light"
     },
     "output_type": "display_data"
    }
   ],
   "source": [
    "# plotting the distribution of main_categories\n",
    "maincategories_dist = main_categories[\"main_category\"].value_counts()\n",
    "colors = ['tab:red' if (x == \"People\") else 'tab:blue' for x in maincategories_dist.keys()]\n",
    "maincategories_dist.plot.bar(title = \"Distribution of main categories\",\n",
    "                             ylabel = 'Number of articles', \n",
    "                             color = colors,\n",
    "                             width = 0.7)\n",
    "plt.show()"
   ]
  },
  {
   "cell_type": "markdown",
   "id": "84083773-951c-4c34-ba52-024594884e64",
   "metadata": {},
   "source": [
    "We will now take a closer look of the articles and their subcategories within the People category."
   ]
  },
  {
   "cell_type": "code",
   "execution_count": 229,
   "id": "ba83e10c-012d-43b3-b7ef-bffc72a3638b",
   "metadata": {},
   "outputs": [],
   "source": [
    "# finding the articles that are in the People category\n",
    "categories[\"category_people\"] = categories[\"category\"].apply(lambda x: x.startswith('subject.People.'))\n",
    "\n",
    "# constructing a new dataframe called people, only with articles from the people category\n",
    "people = categories[categories[\"category_people\"] == True]\n",
    "\n",
    "# splitting the categories into main- and subcategories\n",
    "people = pd.concat([people, people['category'].str.split(\".\", expand=True)], axis=1)\n",
    "people = people.drop(columns = [\"category_people\", \"category\", 0, 1])\n",
    "people = people.rename(columns = {\"article\":\"name\", 2:\"category\"})"
   ]
  },
  {
   "cell_type": "code",
   "execution_count": 230,
   "id": "6493b2fb-445b-4ed1-b9a2-c42c8d3a97d7",
   "metadata": {},
   "outputs": [
    {
     "name": "stdout",
     "output_type": "stream",
     "text": [
      "The number of articles about people are 689\n"
     ]
    },
    {
     "data": {
      "image/png": "[encoded data removed]",
      "text/plain": [
       "<Figure size 432x288 with 1 Axes>"
      ]
     },
     "metadata": {
      "needs_background": "light"
     },
     "output_type": "display_data"
    }
   ],
   "source": [
    "print(f\"The number of articles about people are {len(people)}\")\n",
    "\n",
    "# plotting the distribution of subcategories within the People category\n",
    "subcategories_dist = people[\"category\"].value_counts()\n",
    "subcategories_dist.plot.bar(title = \"Distribution of subcategories for the People category\",\n",
    "                            ylabel = 'Number of articles about people', \n",
    "                            color = \"tab:red\", width = 0.7)\n",
    "plt.show()"
   ]
  },
  {
   "cell_type": "markdown",
   "id": "e93a0120-061e-4f93-8f66-2ed58e746a0d",
   "metadata": {},
   "source": [
    "For our project goals, we need to be able to identify between women and men articles. In the following cells, we will do so by using the `female` dataframe, as well as finding every node degree, i.e., every number of incoming and outcoming links from every article."
   ]
  },
  {
   "cell_type": "code",
   "execution_count": 231,
   "id": "f15e1441-4555-4abd-94ca-4eded1eb3e85",
   "metadata": {},
   "outputs": [
    {
     "data": {
      "text/html": [
       "<div>\n",
       "<style scoped>\n",
       "    .dataframe tbody tr th:only-of-type {\n",
       "        vertical-align: middle;\n",
       "    }\n",
       "\n",
       "    .dataframe tbody tr th {\n",
       "        vertical-align: top;\n",
       "    }\n",
       "\n",
       "    .dataframe thead th {\n",
       "        text-align: right;\n",
       "    }\n",
       "</style>\n",
       "<table border=\"1\" class=\"dataframe\">\n",
       "  <thead>\n",
       "    <tr style=\"text-align: right;\">\n",
       "      <th></th>\n",
       "      <th>name</th>\n",
       "      <th>category</th>\n",
       "      <th>gender</th>\n",
       "      <th>nr_link_out</th>\n",
       "      <th>nr_link_in</th>\n",
       "    </tr>\n",
       "  </thead>\n",
       "  <tbody>\n",
       "    <tr>\n",
       "      <th>95</th>\n",
       "      <td>Abel_Tasman</td>\n",
       "      <td>Geographers_and_explorers</td>\n",
       "      <td>male</td>\n",
       "      <td>14</td>\n",
       "      <td>5</td>\n",
       "    </tr>\n",
       "    <tr>\n",
       "      <th>105</th>\n",
       "      <td>Abraham_Lincoln</td>\n",
       "      <td>USA_Presidents</td>\n",
       "      <td>male</td>\n",
       "      <td>35</td>\n",
       "      <td>62</td>\n",
       "    </tr>\n",
       "    <tr>\n",
       "      <th>129</th>\n",
       "      <td>Adam_Smith</td>\n",
       "      <td>Historical_figures</td>\n",
       "      <td>male</td>\n",
       "      <td>27</td>\n",
       "      <td>38</td>\n",
       "    </tr>\n",
       "    <tr>\n",
       "      <th>134</th>\n",
       "      <td>Adolf_Hitler</td>\n",
       "      <td>Political_People</td>\n",
       "      <td>male</td>\n",
       "      <td>78</td>\n",
       "      <td>109</td>\n",
       "    </tr>\n",
       "    <tr>\n",
       "      <th>159</th>\n",
       "      <td>Agamemnon</td>\n",
       "      <td>Historical_figures</td>\n",
       "      <td>male</td>\n",
       "      <td>11</td>\n",
       "      <td>9</td>\n",
       "    </tr>\n",
       "  </tbody>\n",
       "</table>\n",
       "</div>"
      ],
      "text/plain": [
       "                name                   category gender  nr_link_out  \\\n",
       "95       Abel_Tasman  Geographers_and_explorers   male           14   \n",
       "105  Abraham_Lincoln             USA_Presidents   male           35   \n",
       "129       Adam_Smith         Historical_figures   male           27   \n",
       "134     Adolf_Hitler           Political_People   male           78   \n",
       "159        Agamemnon         Historical_figures   male           11   \n",
       "\n",
       "     nr_link_in  \n",
       "95            5  \n",
       "105          62  \n",
       "129          38  \n",
       "134         109  \n",
       "159           9  "
      ]
     },
     "execution_count": 231,
     "metadata": {},
     "output_type": "execute_result"
    }
   ],
   "source": [
    "# identify women and men in people\n",
    "people[\"gender\"] =  people['name'].isin(female[\"name\"])\n",
    "people[\"gender\"] = people[\"gender\"].apply(lambda x: \"female\" if x else \"male\")\n",
    "\n",
    "# counting in- and out-links for every article\n",
    "count_links_src = links.link_source.value_counts()\n",
    "count_links_target = links.link_target.value_counts()\n",
    "\n",
    "# drop all people that have no in_link -> impossible to reach the article\n",
    "people = people.merge(count_links_src, how = \"left\", left_on = \"name\", right_index = True)\n",
    "people = people.merge(count_links_target, how = \"inner\", left_on = \"name\", right_index = True)\n",
    "people = people.rename(columns = {\"link_source\": \"nr_link_out\", \"link_target\": \"nr_link_in\"})\n",
    "people.head()"
   ]
  },
  {
   "cell_type": "code",
   "execution_count": 232,
   "id": "420631c0-4f37-4189-844f-872b65602421",
   "metadata": {},
   "outputs": [
    {
     "data": {
      "image/png": "[encoded data removed]",
      "text/plain": [
       "<Figure size 432x288 with 1 Axes>"
      ]
     },
     "metadata": {
      "needs_background": "light"
     },
     "output_type": "display_data"
    }
   ],
   "source": [
    "women_people = people[people['gender'] == \"female\"][\"category\"].value_counts()\n",
    "men_people = people[people['gender'] == \"male\"][\"category\"].value_counts()\n",
    "index = men_people.keys()\n",
    "men_women_cat = pd.DataFrame({'women': women_people,'men': men_people}, index=index).sort_values(by = [\"women\"], ascending = False)\n",
    "ax = men_women_cat.plot.bar(stacked = True, color = ['hotpink', 'deepskyblue'], \n",
    "                            title = \"Distribution of subcategories for women and men\",\n",
    "                            ylabel = 'Number of articles', width = 0.7)\n",
    "plt.show()"
   ]
  },
  {
   "cell_type": "markdown",
   "id": "f2a2a1cb-46fa-4fd9-8dfb-92a271ed34b4",
   "metadata": {},
   "source": [
    "Now, we will construct a new dataframe called `path_overview` that contains the following columns:\n",
    "\n",
    "| **Column_name**      | **Description**                                                     |\n",
    "|----------------------|---------------------------------------------------------------------|\n",
    "| source               | Source article of navigated path                                    |\n",
    "| target               | Target article of navigated path                                    |\n",
    "| finished             | True if path was finished, false otherwise                          |\n",
    "| human_path_length    | The length of the path it took the user to go from source to target |\n",
    "| shortest_path_length | Shortest possible path from a source to a target                    |\n",
    "| path_deviation       | The difference between human_path_length and shortest_path_lenght   |\n",
    "| playtime             | Duration of game                                                    |\n",
    "| type                 | Reason for unfinished game                                          |\n",
    "| failure_article      | Title of article where game was failed (unfinished)                 |\n",
    "| difficulty_rating    | Difficulty rating done by players                                   |\n",
    "| number_backclicks    | Number of backclicks in a path                                      |"
   ]
  },
  {
   "cell_type": "code",
   "execution_count": 233,
   "id": "1dc67897-8135-4673-bd58-ce9520c062c2",
   "metadata": {},
   "outputs": [],
   "source": [
    "def process_path(path):\n",
    "    '''\n",
    "    Decompose a path and find its length. \n",
    "    Assumption: When back-clicks are encountered, we increase the path length by 1.\n",
    "    :param path: a full-length path\n",
    "    :return: source, target, length\n",
    "    '''\n",
    "    p = path.split(\";\")\n",
    "    number_backclicks = p.count('<')\n",
    "    source = p[0]\n",
    "    target = p[-1]\n",
    "    length = len(p)\n",
    "    return source, target, length, number_backclicks"
   ]
  },
  {
   "cell_type": "code",
   "execution_count": 234,
   "id": "f725f5b3-75f8-4eaa-87c3-1f2a1103c4b8",
   "metadata": {},
   "outputs": [],
   "source": [
    "# expand the finished paths \n",
    "path_fin = paths_finished.copy()\n",
    "path_fin[\"source\"], path_fin[\"target\"],path_fin[\"human_path_length\"], path_fin[\"number_backclicks\"] = zip(*paths_finished['path'].apply(lambda x: process_path(x)))\n",
    "path_fin[\"finished\"] = True\n",
    "\n",
    "# expand the unfinished paths\n",
    "path_ufin = paths_unfinished.copy()\n",
    "path_ufin[\"source\"], path_ufin[\"failure_article\"], path_ufin[\"human_path_length\"], path_ufin[\"number_backclicks\"]= zip(*paths_unfinished['path'].apply(lambda x: process_path(x)))\n",
    "path_ufin[\"finished\"] = False\n",
    "path_ufin['target'] = paths_unfinished[\"target\"]\n",
    "\n",
    "# construct a new dataframe: path_overview\n",
    "path_overview = pd.concat([path_fin, path_ufin], ignore_index=True)  \n",
    "path_overview = path_overview.rename(columns={\"durationInSec\": \"playtime\", \"rating\": \"difficulty_rating\"})\n",
    "path_overview = path_overview[[\"source\", \"target\", \"finished\", \"human_path_length\", \n",
    "                               \"playtime\", \"type\", \"failure_article\", \"difficulty_rating\",\"number_backclicks\",\n",
    "                              \"hashedIpAddress\", \"timestamp\"]]"
   ]
  },
  {
   "cell_type": "markdown",
   "id": "01ebaaf3-8134-4fb8-96e0-1aa21421e2e8",
   "metadata": {},
   "source": [
    "**Finding the shortest path length and adding it to `path_overview`:**"
   ]
  },
  {
   "cell_type": "markdown",
   "id": "719aa8a0-92a0-4c02-9c11-31b014969691",
   "metadata": {},
   "source": [
    "We begin with creating a matrix with the shortest path length information from the imported file *shortest-path-distance-matrix.txt*:"
   ]
  },
  {
   "cell_type": "code",
   "execution_count": 235,
   "id": "5caab9c0-7283-43e5-b088-bcce1c207f8d",
   "metadata": {},
   "outputs": [],
   "source": [
    "# The Shortest Distance Matrix is created from the imported data\n",
    "shortest_distance_matrix = [] \n",
    "for row in shortest_distance_text:\n",
    "    row_formated = [] \n",
    "    for c in row:\n",
    "        if c.isdigit(): \n",
    "            row_formated.append(int(c))\n",
    "        else:\n",
    "            row_formated.append(-1) ## If there is no path between two articles it's represented with -1\n",
    "        \n",
    "    shortest_distance_matrix.append(np.array(row_formated))\n",
    "\n",
    "shortest_distance_matrix = np.array(shortest_distance_matrix)"
   ]
  },
  {
   "cell_type": "markdown",
   "id": "f980eb46-acfa-4586-9052-dac47acc0225",
   "metadata": {},
   "source": [
    "We make sure that paths with target articles that don't exist are deleted:"
   ]
  },
  {
   "cell_type": "code",
   "execution_count": 236,
   "id": "605b9604-26da-45b1-8008-0836df0604ba",
   "metadata": {},
   "outputs": [],
   "source": [
    "condition = ~(path_overview['target'].isin(articles['article'].array))\n",
    "path_overview = path_overview.drop(path_overview[condition].index)"
   ]
  },
  {
   "cell_type": "markdown",
   "id": "17b00318-8e42-4ea3-a9f6-562965c8774f",
   "metadata": {},
   "source": [
    "Now we define a function that accesses the corresponding short distance value of a source and target pair in the matrix `shortest_distance_matrix`:"
   ]
  },
  {
   "cell_type": "code",
   "execution_count": 237,
   "id": "68363565-bb26-4bc3-9fe3-8e8d30bbc67f",
   "metadata": {},
   "outputs": [],
   "source": [
    "def get_shortest_distance(source, target, help_articles):\n",
    "    '''\n",
    "    Finding the shortest path length between a source and a target\n",
    "    :param source: source article \n",
    "    :param target: target article\n",
    "    :param help_articles: a helper dataframe where article and index are changed\n",
    "    :return: shortest_distance_matrix value for source and target article\n",
    "    '''\n",
    "    source_idx = help_articles.loc[source]\n",
    "    target_idx = help_articles.loc[target]\n",
    "    return shortest_distance_matrix[source_idx,target_idx][0]"
   ]
  },
  {
   "cell_type": "markdown",
   "id": "a9175f53-2060-4126-b854-1ebd1eb408b2",
   "metadata": {},
   "source": [
    "Calling the function, we can add the shortest path length to `path_overview`:"
   ]
  },
  {
   "cell_type": "code",
   "execution_count": 238,
   "id": "0d042f79-0a1b-498f-8aea-e143aff37dff",
   "metadata": {},
   "outputs": [],
   "source": [
    "articles[\"index\"] = articles.index\n",
    "help_articles = articles.set_index(\"article\")\n",
    "\n",
    "# shortest path length is added to the path_overview\n",
    "path_overview[\"shortest_path_length\"] = path_overview.apply(lambda x: get_shortest_distance(x[\"source\"], x[\"target\"], \n",
    "                                                                                            help_articles), axis = 1)"
   ]
  },
  {
   "cell_type": "markdown",
   "id": "89550225-fcf0-4a2f-a898-96d74b4e729e",
   "metadata": {},
   "source": [
    "Below, we remove all infeasible paths, i.e., all source and target pairs that have a shortest path length value of -1:"
   ]
  },
  {
   "cell_type": "code",
   "execution_count": 239,
   "id": "ba0664a5-0561-4588-8928-d9c3d3c5555d",
   "metadata": {},
   "outputs": [
    {
     "data": {
      "text/html": [
       "<div>\n",
       "<style scoped>\n",
       "    .dataframe tbody tr th:only-of-type {\n",
       "        vertical-align: middle;\n",
       "    }\n",
       "\n",
       "    .dataframe tbody tr th {\n",
       "        vertical-align: top;\n",
       "    }\n",
       "\n",
       "    .dataframe thead th {\n",
       "        text-align: right;\n",
       "    }\n",
       "</style>\n",
       "<table border=\"1\" class=\"dataframe\">\n",
       "  <thead>\n",
       "    <tr style=\"text-align: right;\">\n",
       "      <th></th>\n",
       "      <th>source</th>\n",
       "      <th>target</th>\n",
       "      <th>finished</th>\n",
       "      <th>human_path_length</th>\n",
       "      <th>shortest_path_length</th>\n",
       "      <th>playtime</th>\n",
       "      <th>type</th>\n",
       "      <th>failure_article</th>\n",
       "      <th>difficulty_rating</th>\n",
       "      <th>number_backclicks</th>\n",
       "      <th>hashedIpAddress</th>\n",
       "      <th>timestamp</th>\n",
       "    </tr>\n",
       "  </thead>\n",
       "  <tbody>\n",
       "    <tr>\n",
       "      <th>0</th>\n",
       "      <td>14th_century</td>\n",
       "      <td>African_slave_trade</td>\n",
       "      <td>True</td>\n",
       "      <td>9</td>\n",
       "      <td>3</td>\n",
       "      <td>166</td>\n",
       "      <td>NaN</td>\n",
       "      <td>NaN</td>\n",
       "      <td>NaN</td>\n",
       "      <td>0</td>\n",
       "      <td>6a3701d319fc3754</td>\n",
       "      <td>1297740409</td>\n",
       "    </tr>\n",
       "    <tr>\n",
       "      <th>1</th>\n",
       "      <td>14th_century</td>\n",
       "      <td>African_slave_trade</td>\n",
       "      <td>True</td>\n",
       "      <td>5</td>\n",
       "      <td>3</td>\n",
       "      <td>88</td>\n",
       "      <td>NaN</td>\n",
       "      <td>NaN</td>\n",
       "      <td>3.0</td>\n",
       "      <td>0</td>\n",
       "      <td>3824310e536af032</td>\n",
       "      <td>1344753412</td>\n",
       "    </tr>\n",
       "    <tr>\n",
       "      <th>2</th>\n",
       "      <td>14th_century</td>\n",
       "      <td>African_slave_trade</td>\n",
       "      <td>True</td>\n",
       "      <td>8</td>\n",
       "      <td>3</td>\n",
       "      <td>138</td>\n",
       "      <td>NaN</td>\n",
       "      <td>NaN</td>\n",
       "      <td>NaN</td>\n",
       "      <td>0</td>\n",
       "      <td>415612e93584d30e</td>\n",
       "      <td>1349298640</td>\n",
       "    </tr>\n",
       "    <tr>\n",
       "      <th>3</th>\n",
       "      <td>14th_century</td>\n",
       "      <td>Greece</td>\n",
       "      <td>True</td>\n",
       "      <td>4</td>\n",
       "      <td>2</td>\n",
       "      <td>37</td>\n",
       "      <td>NaN</td>\n",
       "      <td>NaN</td>\n",
       "      <td>NaN</td>\n",
       "      <td>0</td>\n",
       "      <td>64dd5cd342e3780c</td>\n",
       "      <td>1265613925</td>\n",
       "    </tr>\n",
       "    <tr>\n",
       "      <th>4</th>\n",
       "      <td>14th_century</td>\n",
       "      <td>John_F._Kennedy</td>\n",
       "      <td>True</td>\n",
       "      <td>7</td>\n",
       "      <td>3</td>\n",
       "      <td>175</td>\n",
       "      <td>NaN</td>\n",
       "      <td>NaN</td>\n",
       "      <td>3.0</td>\n",
       "      <td>0</td>\n",
       "      <td>015245d773376aab</td>\n",
       "      <td>1366730828</td>\n",
       "    </tr>\n",
       "    <tr>\n",
       "      <th>...</th>\n",
       "      <td>...</td>\n",
       "      <td>...</td>\n",
       "      <td>...</td>\n",
       "      <td>...</td>\n",
       "      <td>...</td>\n",
       "      <td>...</td>\n",
       "      <td>...</td>\n",
       "      <td>...</td>\n",
       "      <td>...</td>\n",
       "      <td>...</td>\n",
       "      <td>...</td>\n",
       "      <td>...</td>\n",
       "    </tr>\n",
       "    <tr>\n",
       "      <th>76188</th>\n",
       "      <td>Franz_Kafka</td>\n",
       "      <td>Cholera</td>\n",
       "      <td>False</td>\n",
       "      <td>8</td>\n",
       "      <td>3</td>\n",
       "      <td>180</td>\n",
       "      <td>restart</td>\n",
       "      <td>Ghana</td>\n",
       "      <td>NaN</td>\n",
       "      <td>1</td>\n",
       "      <td>109ed71f571d86e9</td>\n",
       "      <td>1389787605</td>\n",
       "    </tr>\n",
       "    <tr>\n",
       "      <th>76189</th>\n",
       "      <td>Modern_history</td>\n",
       "      <td>Hollandic</td>\n",
       "      <td>False</td>\n",
       "      <td>1</td>\n",
       "      <td>3</td>\n",
       "      <td>6</td>\n",
       "      <td>restart</td>\n",
       "      <td>Modern_history</td>\n",
       "      <td>NaN</td>\n",
       "      <td>0</td>\n",
       "      <td>232f992e57d43e8d</td>\n",
       "      <td>1389787697</td>\n",
       "    </tr>\n",
       "    <tr>\n",
       "      <th>76190</th>\n",
       "      <td>Computer_programming</td>\n",
       "      <td>The_Beatles</td>\n",
       "      <td>False</td>\n",
       "      <td>5</td>\n",
       "      <td>3</td>\n",
       "      <td>1900</td>\n",
       "      <td>timeout</td>\n",
       "      <td>&lt;</td>\n",
       "      <td>NaN</td>\n",
       "      <td>1</td>\n",
       "      <td>2e09a7224600a7cd</td>\n",
       "      <td>1389798400</td>\n",
       "    </tr>\n",
       "    <tr>\n",
       "      <th>76191</th>\n",
       "      <td>Jamaica</td>\n",
       "      <td>Alan_Turing</td>\n",
       "      <td>False</td>\n",
       "      <td>4</td>\n",
       "      <td>3</td>\n",
       "      <td>1903</td>\n",
       "      <td>timeout</td>\n",
       "      <td>Battle_of_Midway</td>\n",
       "      <td>NaN</td>\n",
       "      <td>0</td>\n",
       "      <td>60af9e2138051b96</td>\n",
       "      <td>1389799481</td>\n",
       "    </tr>\n",
       "    <tr>\n",
       "      <th>76192</th>\n",
       "      <td>Mark_Antony</td>\n",
       "      <td>Feather</td>\n",
       "      <td>False</td>\n",
       "      <td>5</td>\n",
       "      <td>3</td>\n",
       "      <td>352</td>\n",
       "      <td>restart</td>\n",
       "      <td>Computer</td>\n",
       "      <td>NaN</td>\n",
       "      <td>0</td>\n",
       "      <td>1cf0cbb3281049ab</td>\n",
       "      <td>1389822841</td>\n",
       "    </tr>\n",
       "  </tbody>\n",
       "</table>\n",
       "<p>76155 rows × 12 columns</p>\n",
       "</div>"
      ],
      "text/plain": [
       "                     source               target  finished  human_path_length  \\\n",
       "0              14th_century  African_slave_trade      True                  9   \n",
       "1              14th_century  African_slave_trade      True                  5   \n",
       "2              14th_century  African_slave_trade      True                  8   \n",
       "3              14th_century               Greece      True                  4   \n",
       "4              14th_century      John_F._Kennedy      True                  7   \n",
       "...                     ...                  ...       ...                ...   \n",
       "76188           Franz_Kafka              Cholera     False                  8   \n",
       "76189        Modern_history            Hollandic     False                  1   \n",
       "76190  Computer_programming          The_Beatles     False                  5   \n",
       "76191               Jamaica          Alan_Turing     False                  4   \n",
       "76192           Mark_Antony              Feather     False                  5   \n",
       "\n",
       "       shortest_path_length  playtime     type   failure_article  \\\n",
       "0                         3       166      NaN               NaN   \n",
       "1                         3        88      NaN               NaN   \n",
       "2                         3       138      NaN               NaN   \n",
       "3                         2        37      NaN               NaN   \n",
       "4                         3       175      NaN               NaN   \n",
       "...                     ...       ...      ...               ...   \n",
       "76188                     3       180  restart             Ghana   \n",
       "76189                     3         6  restart    Modern_history   \n",
       "76190                     3      1900  timeout                 <   \n",
       "76191                     3      1903  timeout  Battle_of_Midway   \n",
       "76192                     3       352  restart          Computer   \n",
       "\n",
       "       difficulty_rating  number_backclicks   hashedIpAddress   timestamp  \n",
       "0                    NaN                  0  6a3701d319fc3754  1297740409  \n",
       "1                    3.0                  0  3824310e536af032  1344753412  \n",
       "2                    NaN                  0  415612e93584d30e  1349298640  \n",
       "3                    NaN                  0  64dd5cd342e3780c  1265613925  \n",
       "4                    3.0                  0  015245d773376aab  1366730828  \n",
       "...                  ...                ...               ...         ...  \n",
       "76188                NaN                  1  109ed71f571d86e9  1389787605  \n",
       "76189                NaN                  0  232f992e57d43e8d  1389787697  \n",
       "76190                NaN                  1  2e09a7224600a7cd  1389798400  \n",
       "76191                NaN                  0  60af9e2138051b96  1389799481  \n",
       "76192                NaN                  0  1cf0cbb3281049ab  1389822841  \n",
       "\n",
       "[76155 rows x 12 columns]"
      ]
     },
     "execution_count": 239,
     "metadata": {},
     "output_type": "execute_result"
    }
   ],
   "source": [
    "path_overview = path_overview.drop(path_overview[path_overview['shortest_path_length'] < 0].index) \n",
    "path_overview.insert(4, 'shortest_path_length', path_overview.pop('shortest_path_length'))\n",
    "path_overview"
   ]
  },
  {
   "cell_type": "markdown",
   "id": "c390f55f-92a5-4ff2-aaa6-e0c05f029acd",
   "metadata": {},
   "source": [
    "Now, we can add the column `path_deviation` to our dataframe, which is the difference between the `human_path_length` and the `shortest_path_length`. We also remove all rows that have a negative value of path deviation, since a human path length can not be smaller than the shortest path length."
   ]
  },
  {
   "cell_type": "code",
   "execution_count": 240,
   "id": "120e06e2-bdb9-41e1-813d-11923ec9e8e3",
   "metadata": {},
   "outputs": [
    {
     "data": {
      "text/html": [
       "<div>\n",
       "<style scoped>\n",
       "    .dataframe tbody tr th:only-of-type {\n",
       "        vertical-align: middle;\n",
       "    }\n",
       "\n",
       "    .dataframe tbody tr th {\n",
       "        vertical-align: top;\n",
       "    }\n",
       "\n",
       "    .dataframe thead th {\n",
       "        text-align: right;\n",
       "    }\n",
       "</style>\n",
       "<table border=\"1\" class=\"dataframe\">\n",
       "  <thead>\n",
       "    <tr style=\"text-align: right;\">\n",
       "      <th></th>\n",
       "      <th>source</th>\n",
       "      <th>target</th>\n",
       "      <th>finished</th>\n",
       "      <th>human_path_length</th>\n",
       "      <th>shortest_path_length</th>\n",
       "      <th>path_deviation</th>\n",
       "      <th>playtime</th>\n",
       "      <th>type</th>\n",
       "      <th>failure_article</th>\n",
       "      <th>difficulty_rating</th>\n",
       "      <th>number_backclicks</th>\n",
       "      <th>hashedIpAddress</th>\n",
       "      <th>timestamp</th>\n",
       "    </tr>\n",
       "  </thead>\n",
       "  <tbody>\n",
       "    <tr>\n",
       "      <th>0</th>\n",
       "      <td>14th_century</td>\n",
       "      <td>African_slave_trade</td>\n",
       "      <td>True</td>\n",
       "      <td>9</td>\n",
       "      <td>3</td>\n",
       "      <td>6</td>\n",
       "      <td>166</td>\n",
       "      <td>NaN</td>\n",
       "      <td>NaN</td>\n",
       "      <td>NaN</td>\n",
       "      <td>0</td>\n",
       "      <td>6a3701d319fc3754</td>\n",
       "      <td>1297740409</td>\n",
       "    </tr>\n",
       "    <tr>\n",
       "      <th>1</th>\n",
       "      <td>14th_century</td>\n",
       "      <td>African_slave_trade</td>\n",
       "      <td>True</td>\n",
       "      <td>5</td>\n",
       "      <td>3</td>\n",
       "      <td>2</td>\n",
       "      <td>88</td>\n",
       "      <td>NaN</td>\n",
       "      <td>NaN</td>\n",
       "      <td>3.0</td>\n",
       "      <td>0</td>\n",
       "      <td>3824310e536af032</td>\n",
       "      <td>1344753412</td>\n",
       "    </tr>\n",
       "    <tr>\n",
       "      <th>2</th>\n",
       "      <td>14th_century</td>\n",
       "      <td>African_slave_trade</td>\n",
       "      <td>True</td>\n",
       "      <td>8</td>\n",
       "      <td>3</td>\n",
       "      <td>5</td>\n",
       "      <td>138</td>\n",
       "      <td>NaN</td>\n",
       "      <td>NaN</td>\n",
       "      <td>NaN</td>\n",
       "      <td>0</td>\n",
       "      <td>415612e93584d30e</td>\n",
       "      <td>1349298640</td>\n",
       "    </tr>\n",
       "    <tr>\n",
       "      <th>3</th>\n",
       "      <td>14th_century</td>\n",
       "      <td>Greece</td>\n",
       "      <td>True</td>\n",
       "      <td>4</td>\n",
       "      <td>2</td>\n",
       "      <td>2</td>\n",
       "      <td>37</td>\n",
       "      <td>NaN</td>\n",
       "      <td>NaN</td>\n",
       "      <td>NaN</td>\n",
       "      <td>0</td>\n",
       "      <td>64dd5cd342e3780c</td>\n",
       "      <td>1265613925</td>\n",
       "    </tr>\n",
       "    <tr>\n",
       "      <th>4</th>\n",
       "      <td>14th_century</td>\n",
       "      <td>John_F._Kennedy</td>\n",
       "      <td>True</td>\n",
       "      <td>7</td>\n",
       "      <td>3</td>\n",
       "      <td>4</td>\n",
       "      <td>175</td>\n",
       "      <td>NaN</td>\n",
       "      <td>NaN</td>\n",
       "      <td>3.0</td>\n",
       "      <td>0</td>\n",
       "      <td>015245d773376aab</td>\n",
       "      <td>1366730828</td>\n",
       "    </tr>\n",
       "    <tr>\n",
       "      <th>...</th>\n",
       "      <td>...</td>\n",
       "      <td>...</td>\n",
       "      <td>...</td>\n",
       "      <td>...</td>\n",
       "      <td>...</td>\n",
       "      <td>...</td>\n",
       "      <td>...</td>\n",
       "      <td>...</td>\n",
       "      <td>...</td>\n",
       "      <td>...</td>\n",
       "      <td>...</td>\n",
       "      <td>...</td>\n",
       "      <td>...</td>\n",
       "    </tr>\n",
       "    <tr>\n",
       "      <th>76187</th>\n",
       "      <td>Turks_and_Caicos_Islands</td>\n",
       "      <td>Iraq_War</td>\n",
       "      <td>False</td>\n",
       "      <td>6</td>\n",
       "      <td>3</td>\n",
       "      <td>3</td>\n",
       "      <td>182</td>\n",
       "      <td>restart</td>\n",
       "      <td>War</td>\n",
       "      <td>NaN</td>\n",
       "      <td>0</td>\n",
       "      <td>109ed71f571d86e9</td>\n",
       "      <td>1389787212</td>\n",
       "    </tr>\n",
       "    <tr>\n",
       "      <th>76188</th>\n",
       "      <td>Franz_Kafka</td>\n",
       "      <td>Cholera</td>\n",
       "      <td>False</td>\n",
       "      <td>8</td>\n",
       "      <td>3</td>\n",
       "      <td>5</td>\n",
       "      <td>180</td>\n",
       "      <td>restart</td>\n",
       "      <td>Ghana</td>\n",
       "      <td>NaN</td>\n",
       "      <td>1</td>\n",
       "      <td>109ed71f571d86e9</td>\n",
       "      <td>1389787605</td>\n",
       "    </tr>\n",
       "    <tr>\n",
       "      <th>76190</th>\n",
       "      <td>Computer_programming</td>\n",
       "      <td>The_Beatles</td>\n",
       "      <td>False</td>\n",
       "      <td>5</td>\n",
       "      <td>3</td>\n",
       "      <td>2</td>\n",
       "      <td>1900</td>\n",
       "      <td>timeout</td>\n",
       "      <td>&lt;</td>\n",
       "      <td>NaN</td>\n",
       "      <td>1</td>\n",
       "      <td>2e09a7224600a7cd</td>\n",
       "      <td>1389798400</td>\n",
       "    </tr>\n",
       "    <tr>\n",
       "      <th>76191</th>\n",
       "      <td>Jamaica</td>\n",
       "      <td>Alan_Turing</td>\n",
       "      <td>False</td>\n",
       "      <td>4</td>\n",
       "      <td>3</td>\n",
       "      <td>1</td>\n",
       "      <td>1903</td>\n",
       "      <td>timeout</td>\n",
       "      <td>Battle_of_Midway</td>\n",
       "      <td>NaN</td>\n",
       "      <td>0</td>\n",
       "      <td>60af9e2138051b96</td>\n",
       "      <td>1389799481</td>\n",
       "    </tr>\n",
       "    <tr>\n",
       "      <th>76192</th>\n",
       "      <td>Mark_Antony</td>\n",
       "      <td>Feather</td>\n",
       "      <td>False</td>\n",
       "      <td>5</td>\n",
       "      <td>3</td>\n",
       "      <td>2</td>\n",
       "      <td>352</td>\n",
       "      <td>restart</td>\n",
       "      <td>Computer</td>\n",
       "      <td>NaN</td>\n",
       "      <td>0</td>\n",
       "      <td>1cf0cbb3281049ab</td>\n",
       "      <td>1389822841</td>\n",
       "    </tr>\n",
       "  </tbody>\n",
       "</table>\n",
       "<p>67471 rows × 13 columns</p>\n",
       "</div>"
      ],
      "text/plain": [
       "                         source               target  finished  \\\n",
       "0                  14th_century  African_slave_trade      True   \n",
       "1                  14th_century  African_slave_trade      True   \n",
       "2                  14th_century  African_slave_trade      True   \n",
       "3                  14th_century               Greece      True   \n",
       "4                  14th_century      John_F._Kennedy      True   \n",
       "...                         ...                  ...       ...   \n",
       "76187  Turks_and_Caicos_Islands             Iraq_War     False   \n",
       "76188               Franz_Kafka              Cholera     False   \n",
       "76190      Computer_programming          The_Beatles     False   \n",
       "76191                   Jamaica          Alan_Turing     False   \n",
       "76192               Mark_Antony              Feather     False   \n",
       "\n",
       "       human_path_length  shortest_path_length  path_deviation  playtime  \\\n",
       "0                      9                     3               6       166   \n",
       "1                      5                     3               2        88   \n",
       "2                      8                     3               5       138   \n",
       "3                      4                     2               2        37   \n",
       "4                      7                     3               4       175   \n",
       "...                  ...                   ...             ...       ...   \n",
       "76187                  6                     3               3       182   \n",
       "76188                  8                     3               5       180   \n",
       "76190                  5                     3               2      1900   \n",
       "76191                  4                     3               1      1903   \n",
       "76192                  5                     3               2       352   \n",
       "\n",
       "          type   failure_article  difficulty_rating  number_backclicks  \\\n",
       "0          NaN               NaN                NaN                  0   \n",
       "1          NaN               NaN                3.0                  0   \n",
       "2          NaN               NaN                NaN                  0   \n",
       "3          NaN               NaN                NaN                  0   \n",
       "4          NaN               NaN                3.0                  0   \n",
       "...        ...               ...                ...                ...   \n",
       "76187  restart               War                NaN                  0   \n",
       "76188  restart             Ghana                NaN                  1   \n",
       "76190  timeout                 <                NaN                  1   \n",
       "76191  timeout  Battle_of_Midway                NaN                  0   \n",
       "76192  restart          Computer                NaN                  0   \n",
       "\n",
       "        hashedIpAddress   timestamp  \n",
       "0      6a3701d319fc3754  1297740409  \n",
       "1      3824310e536af032  1344753412  \n",
       "2      415612e93584d30e  1349298640  \n",
       "3      64dd5cd342e3780c  1265613925  \n",
       "4      015245d773376aab  1366730828  \n",
       "...                 ...         ...  \n",
       "76187  109ed71f571d86e9  1389787212  \n",
       "76188  109ed71f571d86e9  1389787605  \n",
       "76190  2e09a7224600a7cd  1389798400  \n",
       "76191  60af9e2138051b96  1389799481  \n",
       "76192  1cf0cbb3281049ab  1389822841  \n",
       "\n",
       "[67471 rows x 13 columns]"
      ]
     },
     "execution_count": 240,
     "metadata": {},
     "output_type": "execute_result"
    }
   ],
   "source": [
    "# add path_deviation to path_overview\n",
    "path_overview[\"path_deviation\"] = path_overview[\"human_path_length\"] - path_overview[\"shortest_path_length\"]\n",
    "\n",
    "# we remove all rows that have a negative path_dev\n",
    "path_overview = path_overview.drop(path_overview.index[path_overview['path_deviation'] < 0])\n",
    "path_overview.insert(5, 'path_deviation', path_overview.pop('path_deviation'))\n",
    "path_overview"
   ]
  },
  {
   "cell_type": "code",
   "execution_count": 241,
   "id": "a2f88aab-6229-4832-8b37-00e1a294855c",
   "metadata": {},
   "outputs": [],
   "source": [
    "# save dataframe to file\n",
    "path_overview.to_csv(\"./data/all_paths_overview.csv\")"
   ]
  },
  {
   "cell_type": "markdown",
   "id": "b043af29-c5b6-4e92-a7c0-99e2ab430af0",
   "metadata": {},
   "source": [
    "Let's turn our attention to all people, and identify the paths in `path_overview` that only have people as target article:"
   ]
  },
  {
   "cell_type": "code",
   "execution_count": 242,
   "id": "83fb52d3-2204-4423-b2a3-5721e384961a",
   "metadata": {},
   "outputs": [],
   "source": [
    "# find only targets that are people\n",
    "people_target_paths = path_overview.merge(people[['name', 'category', 'gender']], \n",
    "                                          how = \"inner\", left_on = \"target\", right_on = \"name\")"
   ]
  },
  {
   "cell_type": "markdown",
   "id": "c06b5fa1-c544-4e37-9f97-7a4f0f2e17a7",
   "metadata": {},
   "source": [
    "We can then find all paths that have women-targets and all paths that have men-targets:"
   ]
  },
  {
   "cell_type": "code",
   "execution_count": 243,
   "id": "7cdfa7a6-a80d-462d-aad4-0e50dd2e25a3",
   "metadata": {},
   "outputs": [
    {
     "name": "stdout",
     "output_type": "stream",
     "text": [
      "The number of paths that have women as a target article is 560\n"
     ]
    }
   ],
   "source": [
    "# find only targets that are women\n",
    "women_target_paths = people_target_paths[people_target_paths['gender'] == \"female\"]\n",
    "print(f\"The number of paths that have women as a target article is {len(women_target_paths)}\")"
   ]
  },
  {
   "cell_type": "code",
   "execution_count": 244,
   "id": "c26a0c63-0eed-43f6-93f1-c0887b1c54c1",
   "metadata": {},
   "outputs": [
    {
     "name": "stdout",
     "output_type": "stream",
     "text": [
      "The number of paths that have men as a target article is 7187\n"
     ]
    }
   ],
   "source": [
    "# find only targets that are men\n",
    "men_target_paths = people_target_paths[people_target_paths['gender'] == \"male\"]\n",
    "print(f\"The number of paths that have men as a target article is {len(men_target_paths)}\")"
   ]
  },
  {
   "cell_type": "markdown",
   "id": "9a9ed473-0da4-4a6e-b4c4-bd806326bcd6",
   "metadata": {},
   "source": [
    "**A closer look of men vs. women articles**"
   ]
  },
  {
   "cell_type": "code",
   "execution_count": 245,
   "id": "0d698478-263c-46b4-be5e-96fa94109dd1",
   "metadata": {},
   "outputs": [
    {
     "name": "stdout",
     "output_type": "stream",
     "text": [
      "Number of paths with a woman as a target 560 (7.23 % (of paths with a target related to a person))\n",
      "Number of paths with a man as a target 7187 (92.77 %)\n",
      "\n",
      "Number of finished paths with a woman as a target 347 (5.71%)\n",
      "Number of finished paths with a man as a target 5727 (94.29%)\n",
      "\n",
      "Number of unfinished paths with a woman as a target 213 (12.73%)\n",
      "Number of unfinished paths with a man as a target 1460 (87.27%)\n"
     ]
    }
   ],
   "source": [
    "women = len(people_target_paths[people_target_paths['gender'] == \"female\"])\n",
    "men = len(people_target_paths[people_target_paths['gender'] == \"male\"])\n",
    "women_finished = len(people_target_paths[(people_target_paths['gender'] == \"female\") & (people_target_paths['finished'] == True)])\n",
    "men_finished = len(people_target_paths[(people_target_paths['gender'] == \"male\") & (people_target_paths['finished'] == True)])\n",
    "women_unfinished = len(people_target_paths[(people_target_paths['gender'] == \"female\") & (people_target_paths['finished'] == False)])\n",
    "men_unfinished = len(people_target_paths[(people_target_paths['gender'] == \"male\") & (people_target_paths['finished'] == False)])\n",
    "\n",
    "print(f\"Number of paths with a woman as a target {women} ({(women/(women+men))*100:.2f} % (of paths with a target related to a person))\")\n",
    "print(f\"Number of paths with a man as a target {men} ({(men/(women+men))*100:.2f} %)\")\n",
    "print()\n",
    "print(f\"Number of finished paths with a woman as a target {women_finished} ({(women_finished/(women_finished+men_finished))*100:.2f}%)\")\n",
    "print(f\"Number of finished paths with a man as a target {men_finished} ({(men_finished/(women_finished+men_finished))*100:.2f}%)\")\n",
    "print()\n",
    "print(f\"Number of unfinished paths with a woman as a target {women_unfinished} ({(women_unfinished/(women_unfinished+men_unfinished))*100:.2f}%)\")\n",
    "print(f\"Number of unfinished paths with a man as a target {men_unfinished} ({(men_unfinished/(women_unfinished+men_unfinished))*100:.2f}%)\")"
   ]
  },
  {
   "cell_type": "code",
   "execution_count": 246,
   "id": "a00a77d3-d6f0-430c-9d8a-d1f9dd8af91d",
   "metadata": {},
   "outputs": [
    {
     "data": {
      "image/png": "[encoded data removed]",
      "text/plain": [
       "<Figure size 432x288 with 1 Axes>"
      ]
     },
     "metadata": {
      "needs_background": "light"
     },
     "output_type": "display_data"
    }
   ],
   "source": [
    "ax = sns.countplot( data=people_target_paths, x = \"finished\", hue=\"gender\", \n",
    "                    order = [True,False], hue_order=[\"female\",\"male\"], palette = ['hotpink','deepskyblue'])\n",
    " \n",
    "ax.set_title('Number of paths that contain men vs. women as a target article')\n",
    "ax.set_ylabel(\"Number of paths\")\n",
    "ax.margins(y=0.1) # make room for the labels\n",
    "for bars in ax.containers:\n",
    "    ax.bar_label(bars, padding = 5)\n",
    "plt.tight_layout()\n",
    "plt.show()"
   ]
  },
  {
   "cell_type": "markdown",
   "id": "f7d58aab-f488-475f-9f14-b71649330027",
   "metadata": {},
   "source": [
    "To compute the success rate of finishing a path with a certain target article, we will count how many times a game with a certain target article was finished, and divide it with the total number of paths where it was the target:"
   ]
  },
  {
   "cell_type": "code",
   "execution_count": 247,
   "id": "edd1e6bc-266c-428e-8d3d-59b7ea7b0cc2",
   "metadata": {},
   "outputs": [],
   "source": [
    "# count total, finished and unfinished number of times a target article was reached\n",
    "tot_target = people_target_paths.target.value_counts().rename(\"tot_target_count\")\n",
    "fin_target = people_target_paths[people_target_paths['finished'] == True].target.value_counts().rename(\"fin_target_count\")\n",
    "unf_target = people_target_paths[people_target_paths['finished'] == False].target.value_counts().rename(\"unf_target_count\")\n",
    "\n",
    "# add this information to the people dataframe\n",
    "people = people.merge(tot_target, how = \"left\",  left_on = \"name\", right_index = True)\n",
    "people = people.merge(unf_target, how = \"left\",  left_on = \"name\", right_index = True)\n",
    "people = people.merge(fin_target, how = \"left\",  left_on = \"name\", right_index = True)"
   ]
  },
  {
   "cell_type": "code",
   "execution_count": 248,
   "id": "24275366-e697-4e0b-b799-e1557bfe08d9",
   "metadata": {},
   "outputs": [],
   "source": [
    "# compute success rate of finishing a path\n",
    "people['tot_target_count'] = people['tot_target_count'].fillna(0)\n",
    "people['fin_target_count'] = people['fin_target_count'].fillna(0)\n",
    "people['unf_target_count'] = people['unf_target_count'].fillna(0)\n",
    "people['succ_rate'] = people['fin_target_count']/people['tot_target_count']\n",
    "people['succ_rate'] = people['succ_rate'].fillna(0)"
   ]
  },
  {
   "cell_type": "code",
   "execution_count": 249,
   "id": "f059d75c-6500-433f-a3cb-6f1d40840b3e",
   "metadata": {},
   "outputs": [],
   "source": [
    "people.to_csv(\"./data/people_overview.csv\")"
   ]
  },
  {
   "cell_type": "code",
   "execution_count": 250,
   "id": "dc58e74d-ec34-4b19-88dc-372189006584",
   "metadata": {},
   "outputs": [
    {
     "data": {
      "text/html": [
       "<div>\n",
       "<style scoped>\n",
       "    .dataframe tbody tr th:only-of-type {\n",
       "        vertical-align: middle;\n",
       "    }\n",
       "\n",
       "    .dataframe tbody tr th {\n",
       "        vertical-align: top;\n",
       "    }\n",
       "\n",
       "    .dataframe thead th {\n",
       "        text-align: right;\n",
       "    }\n",
       "</style>\n",
       "<table border=\"1\" class=\"dataframe\">\n",
       "  <thead>\n",
       "    <tr style=\"text-align: right;\">\n",
       "      <th></th>\n",
       "      <th>name</th>\n",
       "      <th>category</th>\n",
       "      <th>gender</th>\n",
       "      <th>nr_link_out</th>\n",
       "      <th>nr_link_in</th>\n",
       "      <th>tot_target_count</th>\n",
       "      <th>unf_target_count</th>\n",
       "      <th>fin_target_count</th>\n",
       "      <th>succ_rate</th>\n",
       "    </tr>\n",
       "  </thead>\n",
       "  <tbody>\n",
       "    <tr>\n",
       "      <th>95</th>\n",
       "      <td>Abel_Tasman</td>\n",
       "      <td>Geographers_and_explorers</td>\n",
       "      <td>male</td>\n",
       "      <td>14</td>\n",
       "      <td>5</td>\n",
       "      <td>8.0</td>\n",
       "      <td>1.0</td>\n",
       "      <td>7.0</td>\n",
       "      <td>0.875000</td>\n",
       "    </tr>\n",
       "    <tr>\n",
       "      <th>105</th>\n",
       "      <td>Abraham_Lincoln</td>\n",
       "      <td>USA_Presidents</td>\n",
       "      <td>male</td>\n",
       "      <td>35</td>\n",
       "      <td>62</td>\n",
       "      <td>36.0</td>\n",
       "      <td>1.0</td>\n",
       "      <td>35.0</td>\n",
       "      <td>0.972222</td>\n",
       "    </tr>\n",
       "    <tr>\n",
       "      <th>129</th>\n",
       "      <td>Adam_Smith</td>\n",
       "      <td>Historical_figures</td>\n",
       "      <td>male</td>\n",
       "      <td>27</td>\n",
       "      <td>38</td>\n",
       "      <td>10.0</td>\n",
       "      <td>1.0</td>\n",
       "      <td>9.0</td>\n",
       "      <td>0.900000</td>\n",
       "    </tr>\n",
       "    <tr>\n",
       "      <th>134</th>\n",
       "      <td>Adolf_Hitler</td>\n",
       "      <td>Political_People</td>\n",
       "      <td>male</td>\n",
       "      <td>78</td>\n",
       "      <td>109</td>\n",
       "      <td>644.0</td>\n",
       "      <td>41.0</td>\n",
       "      <td>603.0</td>\n",
       "      <td>0.936335</td>\n",
       "    </tr>\n",
       "    <tr>\n",
       "      <th>159</th>\n",
       "      <td>Agamemnon</td>\n",
       "      <td>Historical_figures</td>\n",
       "      <td>male</td>\n",
       "      <td>11</td>\n",
       "      <td>9</td>\n",
       "      <td>23.0</td>\n",
       "      <td>4.0</td>\n",
       "      <td>19.0</td>\n",
       "      <td>0.826087</td>\n",
       "    </tr>\n",
       "    <tr>\n",
       "      <th>...</th>\n",
       "      <td>...</td>\n",
       "      <td>...</td>\n",
       "      <td>...</td>\n",
       "      <td>...</td>\n",
       "      <td>...</td>\n",
       "      <td>...</td>\n",
       "      <td>...</td>\n",
       "      <td>...</td>\n",
       "      <td>...</td>\n",
       "    </tr>\n",
       "    <tr>\n",
       "      <th>5188</th>\n",
       "      <td>Zhang_Qian</td>\n",
       "      <td>Historical_figures</td>\n",
       "      <td>male</td>\n",
       "      <td>19</td>\n",
       "      <td>3</td>\n",
       "      <td>1.0</td>\n",
       "      <td>1.0</td>\n",
       "      <td>0.0</td>\n",
       "      <td>0.000000</td>\n",
       "    </tr>\n",
       "    <tr>\n",
       "      <th>5190</th>\n",
       "      <td>Zheng_He</td>\n",
       "      <td>Historical_figures</td>\n",
       "      <td>male</td>\n",
       "      <td>39</td>\n",
       "      <td>8</td>\n",
       "      <td>7.0</td>\n",
       "      <td>2.0</td>\n",
       "      <td>5.0</td>\n",
       "      <td>0.714286</td>\n",
       "    </tr>\n",
       "    <tr>\n",
       "      <th>5191</th>\n",
       "      <td>Ziad_Jarrah</td>\n",
       "      <td>Historical_figures</td>\n",
       "      <td>male</td>\n",
       "      <td>25</td>\n",
       "      <td>1</td>\n",
       "      <td>11.0</td>\n",
       "      <td>6.0</td>\n",
       "      <td>5.0</td>\n",
       "      <td>0.454545</td>\n",
       "    </tr>\n",
       "    <tr>\n",
       "      <th>5197</th>\n",
       "      <td>Zionism</td>\n",
       "      <td>Political_People</td>\n",
       "      <td>male</td>\n",
       "      <td>74</td>\n",
       "      <td>25</td>\n",
       "      <td>12.0</td>\n",
       "      <td>2.0</td>\n",
       "      <td>10.0</td>\n",
       "      <td>0.833333</td>\n",
       "    </tr>\n",
       "    <tr>\n",
       "      <th>5200</th>\n",
       "      <td>Zoroaster</td>\n",
       "      <td>Religious_figures_and_leaders</td>\n",
       "      <td>male</td>\n",
       "      <td>28</td>\n",
       "      <td>9</td>\n",
       "      <td>5.0</td>\n",
       "      <td>1.0</td>\n",
       "      <td>4.0</td>\n",
       "      <td>0.800000</td>\n",
       "    </tr>\n",
       "  </tbody>\n",
       "</table>\n",
       "<p>621 rows × 9 columns</p>\n",
       "</div>"
      ],
      "text/plain": [
       "                 name                       category gender  nr_link_out  \\\n",
       "95        Abel_Tasman      Geographers_and_explorers   male           14   \n",
       "105   Abraham_Lincoln                 USA_Presidents   male           35   \n",
       "129        Adam_Smith             Historical_figures   male           27   \n",
       "134      Adolf_Hitler               Political_People   male           78   \n",
       "159         Agamemnon             Historical_figures   male           11   \n",
       "...               ...                            ...    ...          ...   \n",
       "5188       Zhang_Qian             Historical_figures   male           19   \n",
       "5190         Zheng_He             Historical_figures   male           39   \n",
       "5191      Ziad_Jarrah             Historical_figures   male           25   \n",
       "5197          Zionism               Political_People   male           74   \n",
       "5200        Zoroaster  Religious_figures_and_leaders   male           28   \n",
       "\n",
       "      nr_link_in  tot_target_count  unf_target_count  fin_target_count  \\\n",
       "95             5               8.0               1.0               7.0   \n",
       "105           62              36.0               1.0              35.0   \n",
       "129           38              10.0               1.0               9.0   \n",
       "134          109             644.0              41.0             603.0   \n",
       "159            9              23.0               4.0              19.0   \n",
       "...          ...               ...               ...               ...   \n",
       "5188           3               1.0               1.0               0.0   \n",
       "5190           8               7.0               2.0               5.0   \n",
       "5191           1              11.0               6.0               5.0   \n",
       "5197          25              12.0               2.0              10.0   \n",
       "5200           9               5.0               1.0               4.0   \n",
       "\n",
       "      succ_rate  \n",
       "95     0.875000  \n",
       "105    0.972222  \n",
       "129    0.900000  \n",
       "134    0.936335  \n",
       "159    0.826087  \n",
       "...         ...  \n",
       "5188   0.000000  \n",
       "5190   0.714286  \n",
       "5191   0.454545  \n",
       "5197   0.833333  \n",
       "5200   0.800000  \n",
       "\n",
       "[621 rows x 9 columns]"
      ]
     },
     "execution_count": 250,
     "metadata": {},
     "output_type": "execute_result"
    }
   ],
   "source": [
    "people"
   ]
  },
  {
   "cell_type": "markdown",
   "id": "ef8fd856-03e3-4de5-9319-141329c740d2",
   "metadata": {},
   "source": [
    "## **Statistical analysis**"
   ]
  },
  {
   "cell_type": "markdown",
   "id": "f72be223-36bd-4dfc-a109-d47a59133c96",
   "metadata": {},
   "source": [
    "### **Naive analysis** "
   ]
  },
  {
   "cell_type": "markdown",
   "id": "dccaeb7b-c311-4a32-9c66-fd38ee689549",
   "metadata": {},
   "source": [
    "The first step of our data analysis will be a naive statistical analysis, where we will check for differences in the following metrics:\n",
    "\n",
    "- **success_rate**\n",
    "- **in_degree**\n",
    "- **playtime**\n",
    "- **path_deviation**\n",
    "- **number_backclicks** \n",
    "- **difficulty_rating**\n",
    "\n",
    "These differences will be checked for significance using bootstrap confidence intervals."
   ]
  },
  {
   "cell_type": "markdown",
   "id": "08e84cc4-0b05-4061-8014-6e5c9f0f9729",
   "metadata": {},
   "source": [
    "A helpful function to plot two histograms on the same plot:"
   ]
  },
  {
   "cell_type": "code",
   "execution_count": 251,
   "id": "473ded11-eca7-40c0-bcbd-c5c45ad8fe1d",
   "metadata": {},
   "outputs": [],
   "source": [
    "def plot_2_dist(column, dataframe, bins = np.array([]), my_title = \"\", my_xlabel = \"\", my_ylabel = \"\", ylog=False):\n",
    "    '''\n",
    "    Plot two histograms with a vertical line that describes the median of the metric.\n",
    "    :param column: metric to be plotted\n",
    "    :param dataframe: from which dataframe the metric comes from\n",
    "    :param bins: number of bins\n",
    "    :param my_title: set the title of the plot\n",
    "    :param my_xlabel: set the x label of the plot\n",
    "    :param my_ylabel: set the y label of the plot\n",
    "    :param ylog: set to True if you wish to plot the histogram with a log-scale\n",
    "    :return: plot\n",
    "    '''\n",
    "    female = dataframe[dataframe[\"gender\"]== \"female\"][column]\n",
    "    male = dataframe[dataframe[\"gender\"]== \"male\"][column]\n",
    "    \n",
    "    # let's first check the distribution of both the male and the female data available\n",
    "    if bins.size == 0:\n",
    "        bins = np.arange(min(female)-0.5, max(female) + 0.5, 1)\n",
    "    # plot the female distribution of the metric\n",
    "    plt.hist(female, \n",
    "            color = 'tab:red', edgecolor = 'black', linewidth = 0.5, alpha=0.5, \n",
    "            bins= bins, label =\"female\")\n",
    "    # plot the male distribution of the metric\n",
    "    plt.hist(male, \n",
    "            color = 'tab:blue', edgecolor = 'black', linewidth = 0.5, alpha=0.5,\n",
    "            bins= bins, label =\"male\")\n",
    "    plt.xlabel(my_xlabel)\n",
    "    plt.ylabel(my_ylabel)\n",
    "    if ylog:\n",
    "        plt.yscale('log')\n",
    "    plt.title(my_title)\n",
    "    # add a vertical line that describes the median of the metric\n",
    "    plt.axvline(np.median(female), color=\"tab:red\")\n",
    "    plt.axvline(np.median(male),color=\"tab:blue\")\n",
    "    plt.legend()\n",
    "    plt.show()"
   ]
  },
  {
   "cell_type": "markdown",
   "id": "b49319f5-610b-43ac-99c8-fd8bbd1e4ece",
   "metadata": {},
   "source": [
    "#### **Success rate**"
   ]
  },
  {
   "cell_type": "markdown",
   "id": "c8455954-6d4d-4c27-946b-62291d5d929d",
   "metadata": {},
   "source": [
    "Success rate bootstrapping with all success rate values (including zeros) which skewes our results:"
   ]
  },
  {
   "cell_type": "code",
   "execution_count": 252,
   "id": "67d5e06b-8dab-44e7-a4fc-a1f6b892b2af",
   "metadata": {},
   "outputs": [],
   "source": [
    "def bootstrap_metric(metric, dataframe, gender, geom = True, remove_zero = True):\n",
    "    if remove_zero:\n",
    "        ### For simplicities sakes, we remove the zero values of the metric\n",
    "        dataframe = dataframe[dataframe[metric] > 0]\n",
    "        data = dataframe[dataframe[\"gender\"]== gender][metric]\n",
    "    else:\n",
    "        data = dataframe[dataframe[\"gender\"]== gender][metric]\n",
    "    \n",
    "    data_bootstrap = (data.to_numpy(),)\n",
    "    \n",
    "    if geom:\n",
    "        geom_mean = stats.gmean(data.to_numpy(), dtype=None)\n",
    "        print(f\"{gender}: Geometric mean: {geom_mean}\")\n",
    "    \n",
    "        # estimating the 95% CI of the geometric mean of the metric\n",
    "        res_bootstrap_gm = stats.bootstrap(data_bootstrap, stats.gmean, confidence_level=0.95)\n",
    "        print(f\"{gender}: 95% confidence interval of the geometric mean of {metric}: [{res_bootstrap_gm.confidence_interval[0]:.3f}, \"\n",
    "          f\"{res_bootstrap_gm.confidence_interval[1]:.3f}]\")\n",
    "        return geom_mean\n",
    "    else:\n",
    "        arith_mean = data.mean()\n",
    "        print(f\"{gender}: Arithmetic mean: {arith_mean}\")\n",
    "    \n",
    "        # estimating the 95% CI of the arithmetic mean of the metric\n",
    "        res_bootstrap_am = stats.bootstrap(data_bootstrap, np.mean, confidence_level=0.95)\n",
    "        print(f\"{gender}: 95% confidence interval of the arithmetic mean of {metric}: [{res_bootstrap_am.confidence_interval[0]:.3f}, \"\n",
    "          f\"{res_bootstrap_am.confidence_interval[1]:.3f}]\")\n",
    "        return arith_mean"
   ]
  },
  {
   "cell_type": "markdown",
   "id": "a1de2310-ba33-4eb7-8209-8c4b96a24f6e",
   "metadata": {},
   "source": [
    "Female articles: Success rate bootstrapping for all paths that are finished (no zeros)"
   ]
  },
  {
   "cell_type": "code",
   "execution_count": 253,
   "id": "b60a1df1-f3dd-4232-b441-e863007bd9b8",
   "metadata": {},
   "outputs": [
    {
     "name": "stdout",
     "output_type": "stream",
     "text": [
      "female: Geometric mean: 0.6068480390130131\n",
      "female: 95% confidence interval of the geometric mean of succ_rate: [0.485, 0.703]\n",
      "male: Geometric mean: 0.7758441073276038\n",
      "male: 95% confidence interval of the geometric mean of succ_rate: [0.742, 0.801]\n"
     ]
    }
   ],
   "source": [
    "wsuccessrate_mean = bootstrap_metric(\"succ_rate\", people, \"female\")\n",
    "msuccessrate_mean = bootstrap_metric(\"succ_rate\", people, \"male\")"
   ]
  },
  {
   "cell_type": "markdown",
   "id": "abeb9132-6b90-43c2-aec1-fa7c174b7f76",
   "metadata": {},
   "source": [
    "This implies that there is a significant difference in the success rate of these two groups."
   ]
  },
  {
   "cell_type": "markdown",
   "id": "986f2990-5ac7-494b-a8b6-070c5da7d9e0",
   "metadata": {},
   "source": [
    "#### A few distribution plots for success rate:"
   ]
  },
  {
   "cell_type": "code",
   "execution_count": 254,
   "id": "43556d6d-6371-44da-8652-868e230d33ee",
   "metadata": {},
   "outputs": [
    {
     "data": {
      "image/png": "[encoded data removed]",
      "text/plain": [
       "<Figure size 432x288 with 1 Axes>"
      ]
     },
     "metadata": {
      "needs_background": "light"
     },
     "output_type": "display_data"
    }
   ],
   "source": [
    "female = people[\"succ_rate\"]\n",
    "# plot the histogram\n",
    "plt.hist(female, color = 'tab:blue', edgecolor = 'black', linewidth = 0.5, alpha=0.8)\n",
    "plt.xlabel(\"Count\")\n",
    "plt.ylabel(\"Success rate\")\n",
    "plt.title(\"Distribution of success_rate\")\n",
    "plt.show()"
   ]
  },
  {
   "cell_type": "code",
   "execution_count": 255,
   "id": "8ea379bc-cedd-4f20-a639-7268b5bb1a6f",
   "metadata": {},
   "outputs": [
    {
     "data": {
      "image/png": "[encoded data removed]",
      "text/plain": [
       "<Figure size 432x288 with 1 Axes>"
      ]
     },
     "metadata": {
      "needs_background": "light"
     },
     "output_type": "display_data"
    }
   ],
   "source": [
    "female = people[people[\"gender\"]== \"female\"][\"succ_rate\"]\n",
    "# plot the histogram\n",
    "plt.hist(female, color = 'hotpink', edgecolor = 'black', linewidth = 0.5, alpha=0.8)\n",
    "plt.xlabel(\"Count\")\n",
    "plt.ylabel(\"Success rate\")\n",
    "plt.title(\"Distribution of success_rate for female articles\")\n",
    "plt.show()"
   ]
  },
  {
   "cell_type": "code",
   "execution_count": 256,
   "id": "21c1a43c-4d4b-4b3d-8ca0-111153f87976",
   "metadata": {},
   "outputs": [
    {
     "data": {
      "image/png": "[encoded data removed]",
      "text/plain": [
       "<Figure size 432x288 with 1 Axes>"
      ]
     },
     "metadata": {
      "needs_background": "light"
     },
     "output_type": "display_data"
    }
   ],
   "source": [
    "male = people[people[\"gender\"]== \"male\"][\"succ_rate\"]\n",
    "# plot the histogram\n",
    "plt.hist(male, color = 'deepskyblue', edgecolor = 'black', linewidth = 0.5, alpha=0.8)\n",
    "plt.xlabel(\"Count\")\n",
    "plt.ylabel(\"Success rate\")\n",
    "plt.title(\"Distribution of success_rate for male articles\")\n",
    "plt.show()"
   ]
  },
  {
   "cell_type": "code",
   "execution_count": 257,
   "id": "2a4ed549-9660-4580-aee1-d24b99ce6189",
   "metadata": {},
   "outputs": [
    {
     "data": {
      "text/plain": [
       "428      Augusta%2C_Lady_Gregory\n",
       "929       Catherine_II_of_Russia\n",
       "939                  Celine_Dion\n",
       "1538               Elizabeth_Fry\n",
       "1627              Eva_Per%C3%B3n\n",
       "2131                 Helen_Gandy\n",
       "2192             Hilda_of_Whitby\n",
       "2519                  Jane_Fonda\n",
       "2897    Lucy%2C_Lady_Duff-Gordon\n",
       "2997             Margaret_Sanger\n",
       "3281         Nadia_Com%C4%83neci\n",
       "4146                      Selena\n",
       "Name: name, dtype: object"
      ]
     },
     "execution_count": 257,
     "metadata": {},
     "output_type": "execute_result"
    }
   ],
   "source": [
    "female_never_reached = people[people[\"gender\"]== \"female\"]\n",
    "female_never_reached = female_never_reached[female_never_reached[\"succ_rate\"] == 0]\n",
    "#female_never_reached.sort_values(\"succ_rate\", ascending=True).head(50)\n",
    "#unquote(female_never_reached['name'][929])\n",
    "female_never_reached['name']"
   ]
  },
  {
   "cell_type": "markdown",
   "id": "d7d2c8d4-1f98-4a2f-b44a-8fe6c8d8888a",
   "metadata": {},
   "source": [
    "We would like to visualize the distribution of success within the male and female groups and for each of the categories. "
   ]
  },
  {
   "cell_type": "code",
   "execution_count": 258,
   "id": "918ecd80-8456-465d-bbf8-7ea1eeea8bf2",
   "metadata": {},
   "outputs": [
    {
     "data": {
      "image/png": "[encoded data removed]",
      "text/plain": [
       "<Figure size 720x432 with 12 Axes>"
      ]
     },
     "metadata": {
      "needs_background": "light"
     },
     "output_type": "display_data"
    }
   ],
   "source": [
    "# Write your code to make 3x4 panel here\n",
    "import math\n",
    "\n",
    "women_by_cat = people[people[\"gender\"]== \"female\"].groupby('category').apply(lambda x: pd.Series({\n",
    "        'succ_rate': x['succ_rate'].values\n",
    "    }))\n",
    "\n",
    "fig, ax = plt.subplots(3,4,figsize= (10,6), sharey = True, sharex = True)\n",
    "\n",
    "for i in range(12):\n",
    "    sbplt = ax[i%3, math.floor(i/3)]\n",
    "    sbplt.hist(women_by_cat.iloc[i].values, range = [0,1], bins = 4)\n",
    "    sbplt.set_title(women_by_cat.index[i])\n",
    "    \n",
    "fig.tight_layout()\n",
    "\n",
    "fig.text(0.3,0, \"Success rate of reaching a women article in a corresponding category\")\n",
    "fig.text(0,0.3, \"Number of women\", rotation = 90)\n",
    "plt.show()"
   ]
  },
  {
   "cell_type": "code",
   "execution_count": 259,
   "id": "939f7e49-0a9e-481f-9484-4df37b947571",
   "metadata": {},
   "outputs": [
    {
     "data": {
      "image/png": "[encoded data removed]",
      "text/plain": [
       "<Figure size 720x432 with 20 Axes>"
      ]
     },
     "metadata": {
      "needs_background": "light"
     },
     "output_type": "display_data"
    }
   ],
   "source": [
    "men_by_cat = people[people[\"gender\"]== \"male\"].groupby('category').apply(lambda x: pd.Series({\n",
    "        'succ_rate': x['succ_rate'].values\n",
    "    }))\n",
    "\n",
    "fig, ax = plt.subplots(5,4,figsize= (10,6), sharey = True, sharex = True)\n",
    "\n",
    "for i in range(20):\n",
    "    sbplt = ax[i%5, math.floor(i/5)]\n",
    "    sbplt.hist(men_by_cat.iloc[i].values, range = [0,1], bins = 4)\n",
    "    sbplt.set_title(men_by_cat.index[i])\n",
    "    \n",
    "fig.tight_layout()\n",
    "\n",
    "fig.text(0.3,0, \"Success rate of reaching a men article in a corresponding category\")\n",
    "fig.text(0,0.3, \"Number of men\", rotation = 90)\n",
    "plt.show()"
   ]
  },
  {
   "cell_type": "markdown",
   "id": "5ef99d4e-f2b6-4b28-ad5c-2f06ae714cdf",
   "metadata": {},
   "source": [
    "#### **Playtime**"
   ]
  },
  {
   "cell_type": "markdown",
   "id": "74aca711-e3cb-494e-b9e7-a6bc5419c9e2",
   "metadata": {},
   "source": [
    "**Playtime of only Finished articles**"
   ]
  },
  {
   "cell_type": "code",
   "execution_count": 260,
   "id": "d1b92f75-c147-482f-8fe0-1ea63efb2138",
   "metadata": {},
   "outputs": [
    {
     "name": "stdout",
     "output_type": "stream",
     "text": [
      "female: Geometric mean: 143.0438729504739\n",
      "female: 95% confidence interval of the geometric mean of playtime: [130.856, 156.535]\n",
      "male: Geometric mean: 101.20310352457439\n",
      "male: 95% confidence interval of the geometric mean of playtime: [98.997, 103.461]\n"
     ]
    }
   ],
   "source": [
    "wplaytime_mean = bootstrap_metric(\"playtime\", people_target_paths[people_target_paths[\"finished\"] == True], \"female\", remove_zero = True)\n",
    "mplaytime_mean = bootstrap_metric(\"playtime\", people_target_paths[people_target_paths[\"finished\"] == True], \"male\", remove_zero = True)"
   ]
  },
  {
   "cell_type": "markdown",
   "id": "85f81d8b-0278-4d50-9ea0-4c1a848a3d3c",
   "metadata": {},
   "source": [
    "There is a significant difference in the playtime of finished articles between the two groups."
   ]
  },
  {
   "cell_type": "code",
   "execution_count": 261,
   "id": "3b204c19-bda4-4ebd-8e63-56f202066c33",
   "metadata": {},
   "outputs": [
    {
     "data": {
      "text/html": [
       "<div>\n",
       "<style scoped>\n",
       "    .dataframe tbody tr th:only-of-type {\n",
       "        vertical-align: middle;\n",
       "    }\n",
       "\n",
       "    .dataframe tbody tr th {\n",
       "        vertical-align: top;\n",
       "    }\n",
       "\n",
       "    .dataframe thead th {\n",
       "        text-align: right;\n",
       "    }\n",
       "</style>\n",
       "<table border=\"1\" class=\"dataframe\">\n",
       "  <thead>\n",
       "    <tr style=\"text-align: right;\">\n",
       "      <th></th>\n",
       "      <th>source</th>\n",
       "      <th>target</th>\n",
       "      <th>finished</th>\n",
       "      <th>human_path_length</th>\n",
       "      <th>shortest_path_length</th>\n",
       "      <th>path_deviation</th>\n",
       "      <th>playtime</th>\n",
       "      <th>type</th>\n",
       "      <th>failure_article</th>\n",
       "      <th>difficulty_rating</th>\n",
       "      <th>number_backclicks</th>\n",
       "      <th>hashedIpAddress</th>\n",
       "      <th>timestamp</th>\n",
       "      <th>name</th>\n",
       "      <th>category</th>\n",
       "      <th>gender</th>\n",
       "    </tr>\n",
       "  </thead>\n",
       "  <tbody>\n",
       "    <tr>\n",
       "      <th>3184</th>\n",
       "      <td>Florence_Nightingale</td>\n",
       "      <td>Florence_Nightingale</td>\n",
       "      <td>True</td>\n",
       "      <td>1</td>\n",
       "      <td>0</td>\n",
       "      <td>1</td>\n",
       "      <td>0</td>\n",
       "      <td>NaN</td>\n",
       "      <td>NaN</td>\n",
       "      <td>NaN</td>\n",
       "      <td>0</td>\n",
       "      <td>43f864c75b2571b5</td>\n",
       "      <td>1350587383</td>\n",
       "      <td>Florence_Nightingale</td>\n",
       "      <td>Human_Scientists</td>\n",
       "      <td>female</td>\n",
       "    </tr>\n",
       "    <tr>\n",
       "      <th>6095</th>\n",
       "      <td>William_and_Mary</td>\n",
       "      <td>William_and_Mary</td>\n",
       "      <td>True</td>\n",
       "      <td>1</td>\n",
       "      <td>0</td>\n",
       "      <td>1</td>\n",
       "      <td>0</td>\n",
       "      <td>NaN</td>\n",
       "      <td>NaN</td>\n",
       "      <td>NaN</td>\n",
       "      <td>0</td>\n",
       "      <td>43f864c75b2571b5</td>\n",
       "      <td>1350587414</td>\n",
       "      <td>William_and_Mary</td>\n",
       "      <td>Monarchs_of_Great_Britain</td>\n",
       "      <td>female</td>\n",
       "    </tr>\n",
       "    <tr>\n",
       "      <th>7272</th>\n",
       "      <td>Abel_Tasman</td>\n",
       "      <td>Abel_Tasman</td>\n",
       "      <td>True</td>\n",
       "      <td>1</td>\n",
       "      <td>0</td>\n",
       "      <td>1</td>\n",
       "      <td>0</td>\n",
       "      <td>NaN</td>\n",
       "      <td>NaN</td>\n",
       "      <td>NaN</td>\n",
       "      <td>0</td>\n",
       "      <td>43f864c75b2571b5</td>\n",
       "      <td>1350587367</td>\n",
       "      <td>Abel_Tasman</td>\n",
       "      <td>Geographers_and_explorers</td>\n",
       "      <td>male</td>\n",
       "    </tr>\n",
       "  </tbody>\n",
       "</table>\n",
       "</div>"
      ],
      "text/plain": [
       "                    source                target  finished  human_path_length  \\\n",
       "3184  Florence_Nightingale  Florence_Nightingale      True                  1   \n",
       "6095      William_and_Mary      William_and_Mary      True                  1   \n",
       "7272           Abel_Tasman           Abel_Tasman      True                  1   \n",
       "\n",
       "      shortest_path_length  path_deviation  playtime type failure_article  \\\n",
       "3184                     0               1         0  NaN             NaN   \n",
       "6095                     0               1         0  NaN             NaN   \n",
       "7272                     0               1         0  NaN             NaN   \n",
       "\n",
       "      difficulty_rating  number_backclicks   hashedIpAddress   timestamp  \\\n",
       "3184                NaN                  0  43f864c75b2571b5  1350587383   \n",
       "6095                NaN                  0  43f864c75b2571b5  1350587414   \n",
       "7272                NaN                  0  43f864c75b2571b5  1350587367   \n",
       "\n",
       "                      name                   category  gender  \n",
       "3184  Florence_Nightingale           Human_Scientists  female  \n",
       "6095      William_and_Mary  Monarchs_of_Great_Britain  female  \n",
       "7272           Abel_Tasman  Geographers_and_explorers    male  "
      ]
     },
     "execution_count": 261,
     "metadata": {},
     "output_type": "execute_result"
    }
   ],
   "source": [
    "people_target_paths[people_target_paths[\"playtime\"] == 0]"
   ]
  },
  {
   "cell_type": "markdown",
   "id": "cdd9bff5-0951-4407-a4d6-112643c27c0b",
   "metadata": {},
   "source": [
    "Again, there is a significant difference of playtime between the two groups."
   ]
  },
  {
   "cell_type": "code",
   "execution_count": 262,
   "id": "a4093f7b-a828-40e0-b5c9-3dcbdbd80de5",
   "metadata": {},
   "outputs": [
    {
     "data": {
      "image/png": "[encoded data removed]",
      "text/plain": [
       "<Figure size 432x288 with 1 Axes>"
      ]
     },
     "metadata": {
      "needs_background": "light"
     },
     "output_type": "display_data"
    }
   ],
   "source": [
    "plot_2_dist(\"playtime\", people_target_paths[people_target_paths[\"finished\"] == True], \n",
    "            my_title=\"Distribution of playtime\", my_xlabel=\"Playtime\", my_ylabel=\"Counts\", ylog=False)"
   ]
  },
  {
   "cell_type": "markdown",
   "id": "29597ece-53e1-42fd-9117-38e5769e9689",
   "metadata": {},
   "source": [
    "#### **Path deviation**"
   ]
  },
  {
   "cell_type": "markdown",
   "id": "2fc92be7-e3c1-49c6-8df6-a9f17b86fa9f",
   "metadata": {},
   "source": [
    "**Path deviation of finished articles**"
   ]
  },
  {
   "cell_type": "code",
   "execution_count": 263,
   "id": "4b4529de-1c57-4355-ba0e-3b819d830dea",
   "metadata": {},
   "outputs": [
    {
     "name": "stdout",
     "output_type": "stream",
     "text": [
      "female: Geometric mean: 3.1422912007889443\n",
      "female: 95% confidence interval of the geometric mean of path_deviation: [2.887, 3.425]\n",
      "male: Geometric mean: 2.6369112781430974\n",
      "male: 95% confidence interval of the geometric mean of path_deviation: [2.588, 2.686]\n"
     ]
    }
   ],
   "source": [
    "wpathdev_mean = bootstrap_metric(\"path_deviation\", people_target_paths[people_target_paths[\"finished\"] == True], \"female\", remove_zero = False)\n",
    "\n",
    "mpathdev_mean = bootstrap_metric(\"path_deviation\", people_target_paths[people_target_paths[\"finished\"] == True], \"male\", remove_zero = False)"
   ]
  },
  {
   "cell_type": "code",
   "execution_count": 264,
   "id": "191e3531-2dc6-4e1f-823d-371954ca8061",
   "metadata": {},
   "outputs": [
    {
     "data": {
      "image/png": "[encoded data removed]",
      "text/plain": [
       "<Figure size 432x288 with 1 Axes>"
      ]
     },
     "metadata": {
      "needs_background": "light"
     },
     "output_type": "display_data"
    }
   ],
   "source": [
    "plot_2_dist(\"path_deviation\", people_target_paths[people_target_paths[\"finished\"] == True], \n",
    "            my_title=\"Distribution of path deviation\", my_xlabel=\"Path deviation\", my_ylabel=\"Counts\")"
   ]
  },
  {
   "cell_type": "markdown",
   "id": "4db5efe2-5b88-4482-9daa-1c44323958c4",
   "metadata": {},
   "source": [
    "There is a significant difference."
   ]
  },
  {
   "cell_type": "markdown",
   "id": "939bde98-ffcc-43e6-a083-9e7d7f3552be",
   "metadata": {},
   "source": [
    "#### **Number of back clicks**"
   ]
  },
  {
   "cell_type": "code",
   "execution_count": 265,
   "id": "3f80e42c-1e0f-4186-8afd-56e609fb34db",
   "metadata": {},
   "outputs": [
    {
     "name": "stdout",
     "output_type": "stream",
     "text": [
      "female: Geometric mean: 1.7940964206248158\n",
      "female: 95% confidence interval of the geometric mean of number_backclicks: [1.624, 2.014]\n",
      "male: Geometric mean: 1.7091503765956244\n",
      "male: 95% confidence interval of the geometric mean of number_backclicks: [1.647, 1.778]\n"
     ]
    }
   ],
   "source": [
    "wbackclicks_mean = bootstrap_metric(\"number_backclicks\", people_target_paths, \"female\")\n",
    "\n",
    "mbackclicks_mean = bootstrap_metric(\"number_backclicks\", people_target_paths, \"male\")"
   ]
  },
  {
   "cell_type": "code",
   "execution_count": 266,
   "id": "b6596a69-ffe3-453e-b28b-8ce4441e4283",
   "metadata": {},
   "outputs": [
    {
     "data": {
      "image/png": "[encoded data removed]",
      "text/plain": [
       "<Figure size 432x288 with 1 Axes>"
      ]
     },
     "metadata": {
      "needs_background": "light"
     },
     "output_type": "display_data"
    }
   ],
   "source": [
    "plot_2_dist(\"number_backclicks\", people_target_paths, \n",
    "            my_title=\"Distribution of the number of back clicks\", my_xlabel=\"Number of back clicks\", my_ylabel=\"Counts\")"
   ]
  },
  {
   "cell_type": "markdown",
   "id": "6964565d-cc07-405d-b40a-73b1348059d2",
   "metadata": {},
   "source": [
    "#### **Difficulty rating**"
   ]
  },
  {
   "cell_type": "code",
   "execution_count": 267,
   "id": "b03afda6-2e8d-4791-be72-b09d5b6a9235",
   "metadata": {},
   "outputs": [
    {
     "name": "stdout",
     "output_type": "stream",
     "text": [
      "female: Geometric mean: 2.2019182366215433\n",
      "female: 95% confidence interval of the geometric mean of difficulty_rating: [2.061, 2.349]\n",
      "male: Geometric mean: 1.9633108018710008\n",
      "male: 95% confidence interval of the geometric mean of difficulty_rating: [1.930, 1.998]\n"
     ]
    }
   ],
   "source": [
    "wdiffrating_mean = bootstrap_metric(\"difficulty_rating\", people_target_paths[people_target_paths[\"finished\"] == True], \"female\")\n",
    "\n",
    "mdiffrating_mean = bootstrap_metric(\"difficulty_rating\", people_target_paths[people_target_paths[\"finished\"] == True], \"male\")"
   ]
  },
  {
   "cell_type": "code",
   "execution_count": 268,
   "id": "13758961-f906-4419-b217-476f84c67c2f",
   "metadata": {},
   "outputs": [
    {
     "data": {
      "image/png": "[encoded data removed]",
      "text/plain": [
       "<Figure size 432x288 with 1 Axes>"
      ]
     },
     "metadata": {
      "needs_background": "light"
     },
     "output_type": "display_data"
    }
   ],
   "source": [
    "plot_2_dist(\"difficulty_rating\", people_target_paths[people_target_paths[\"finished\"] == True], \n",
    "            my_title=\"Distribution of the difficulty rating\", my_xlabel=\"Difficulty rating\", my_ylabel=\"Counts\")"
   ]
  },
  {
   "cell_type": "code",
   "execution_count": null,
   "id": "17544d0a",
   "metadata": {},
   "outputs": [],
   "source": []
  },
  {
   "cell_type": "code",
   "execution_count": 283,
   "id": "d470c217",
   "metadata": {},
   "outputs": [
    {
     "data": {
      "application/vnd.plotly.v1+json": {
       "config": {
        "plotlyServerURL": "https://plot.ly"
       },
       "data": [
        {
         "fill": "toself",
         "line": {
          "color": "hotpink"
         },
         "name": "Women",
         "r": [
          0.6068480390130131,
          1.4304387295047392,
          3.1422912007889443,
          2.2019182366215433
         ],
         "theta": [
          "Success Rate",
          "Playtime",
          "Path Deviation",
          "Difficulty Rating"
         ],
         "type": "scatterpolar"
        },
        {
         "fill": "toself",
         "line": {
          "color": "skyblue"
         },
         "name": "Men",
         "r": [
          0.7758441073276038,
          1.0120310352457438,
          2.6369112781430974,
          1.9633108018710008
         ],
         "theta": [
          "Success Rate",
          "Playtime",
          "Path Deviation",
          "Difficulty Rating"
         ],
         "type": "scatterpolar"
        }
       ],
       "layout": {
        "polar": {
         "radialaxis": {
          "range": [
           0,
           4
          ],
          "visible": true
         }
        },
        "showlegend": false,
        "template": {
         "data": {
          "bar": [
           {
            "error_x": {
             "color": "#2a3f5f"
            },
            "error_y": {
             "color": "#2a3f5f"
            },
            "marker": {
             "line": {
              "color": "#E5ECF6",
              "width": 0.5
             },
             "pattern": {
              "fillmode": "overlay",
              "size": 10,
              "solidity": 0.2
             }
            },
            "type": "bar"
           }
          ],
          "barpolar": [
           {
            "marker": {
             "line": {
              "color": "#E5ECF6",
              "width": 0.5
             },
             "pattern": {
              "fillmode": "overlay",
              "size": 10,
              "solidity": 0.2
             }
            },
            "type": "barpolar"
           }
          ],
          "carpet": [
           {
            "aaxis": {
             "endlinecolor": "#2a3f5f",
             "gridcolor": "white",
             "linecolor": "white",
             "minorgridcolor": "white",
             "startlinecolor": "#2a3f5f"
            },
            "baxis": {
             "endlinecolor": "#2a3f5f",
             "gridcolor": "white",
             "linecolor": "white",
             "minorgridcolor": "white",
             "startlinecolor": "#2a3f5f"
            },
            "type": "carpet"
           }
          ],
          "choropleth": [
           {
            "colorbar": {
             "outlinewidth": 0,
             "ticks": ""
            },
            "type": "choropleth"
           }
          ],
          "contour": [
           {
            "colorbar": {
             "outlinewidth": 0,
             "ticks": ""
            },
            "colorscale": [
             [
              0,
              "#0d0887"
             ],
             [
              0.1111111111111111,
              "#46039f"
             ],
             [
              0.2222222222222222,
              "#7201a8"
             ],
             [
              0.3333333333333333,
              "#9c179e"
             ],
             [
              0.4444444444444444,
              "#bd3786"
             ],
             [
              0.5555555555555556,
              "#d8576b"
             ],
             [
              0.6666666666666666,
              "#ed7953"
             ],
             [
              0.7777777777777778,
              "#fb9f3a"
             ],
             [
              0.8888888888888888,
              "#fdca26"
             ],
             [
              1,
              "#f0f921"
             ]
            ],
            "type": "contour"
           }
          ],
          "contourcarpet": [
           {
            "colorbar": {
             "outlinewidth": 0,
             "ticks": ""
            },
            "type": "contourcarpet"
           }
          ],
          "heatmap": [
           {
            "colorbar": {
             "outlinewidth": 0,
             "ticks": ""
            },
            "colorscale": [
             [
              0,
              "#0d0887"
             ],
             [
              0.1111111111111111,
              "#46039f"
             ],
             [
              0.2222222222222222,
              "#7201a8"
             ],
             [
              0.3333333333333333,
              "#9c179e"
             ],
             [
              0.4444444444444444,
              "#bd3786"
             ],
             [
              0.5555555555555556,
              "#d8576b"
             ],
             [
              0.6666666666666666,
              "#ed7953"
             ],
             [
              0.7777777777777778,
              "#fb9f3a"
             ],
             [
              0.8888888888888888,
              "#fdca26"
             ],
             [
              1,
              "#f0f921"
             ]
            ],
            "type": "heatmap"
           }
          ],
          "heatmapgl": [
           {
            "colorbar": {
             "outlinewidth": 0,
             "ticks": ""
            },
            "colorscale": [
             [
              0,
              "#0d0887"
             ],
             [
              0.1111111111111111,
              "#46039f"
             ],
             [
              0.2222222222222222,
              "#7201a8"
             ],
             [
              0.3333333333333333,
              "#9c179e"
             ],
             [
              0.4444444444444444,
              "#bd3786"
             ],
             [
              0.5555555555555556,
              "#d8576b"
             ],
             [
              0.6666666666666666,
              "#ed7953"
             ],
             [
              0.7777777777777778,
              "#fb9f3a"
             ],
             [
              0.8888888888888888,
              "#fdca26"
             ],
             [
              1,
              "#f0f921"
             ]
            ],
            "type": "heatmapgl"
           }
          ],
          "histogram": [
           {
            "marker": {
             "pattern": {
              "fillmode": "overlay",
              "size": 10,
              "solidity": 0.2
             }
            },
            "type": "histogram"
           }
          ],
          "histogram2d": [
           {
            "colorbar": {
             "outlinewidth": 0,
             "ticks": ""
            },
            "colorscale": [
             [
              0,
              "#0d0887"
             ],
             [
              0.1111111111111111,
              "#46039f"
             ],
             [
              0.2222222222222222,
              "#7201a8"
             ],
             [
              0.3333333333333333,
              "#9c179e"
             ],
             [
              0.4444444444444444,
              "#bd3786"
             ],
             [
              0.5555555555555556,
              "#d8576b"
             ],
             [
              0.6666666666666666,
              "#ed7953"
             ],
             [
              0.7777777777777778,
              "#fb9f3a"
             ],
             [
              0.8888888888888888,
              "#fdca26"
             ],
             [
              1,
              "#f0f921"
             ]
            ],
            "type": "histogram2d"
           }
          ],
          "histogram2dcontour": [
           {
            "colorbar": {
             "outlinewidth": 0,
             "ticks": ""
            },
            "colorscale": [
             [
              0,
              "#0d0887"
             ],
             [
              0.1111111111111111,
              "#46039f"
             ],
             [
              0.2222222222222222,
              "#7201a8"
             ],
             [
              0.3333333333333333,
              "#9c179e"
             ],
             [
              0.4444444444444444,
              "#bd3786"
             ],
             [
              0.5555555555555556,
              "#d8576b"
             ],
             [
              0.6666666666666666,
              "#ed7953"
             ],
             [
              0.7777777777777778,
              "#fb9f3a"
             ],
             [
              0.8888888888888888,
              "#fdca26"
             ],
             [
              1,
              "#f0f921"
             ]
            ],
            "type": "histogram2dcontour"
           }
          ],
          "mesh3d": [
           {
            "colorbar": {
             "outlinewidth": 0,
             "ticks": ""
            },
            "type": "mesh3d"
           }
          ],
          "parcoords": [
           {
            "line": {
             "colorbar": {
              "outlinewidth": 0,
              "ticks": ""
             }
            },
            "type": "parcoords"
           }
          ],
          "pie": [
           {
            "automargin": true,
            "type": "pie"
           }
          ],
          "scatter": [
           {
            "marker": {
             "colorbar": {
              "outlinewidth": 0,
              "ticks": ""
             }
            },
            "type": "scatter"
           }
          ],
          "scatter3d": [
           {
            "line": {
             "colorbar": {
              "outlinewidth": 0,
              "ticks": ""
             }
            },
            "marker": {
             "colorbar": {
              "outlinewidth": 0,
              "ticks": ""
             }
            },
            "type": "scatter3d"
           }
          ],
          "scattercarpet": [
           {
            "marker": {
             "colorbar": {
              "outlinewidth": 0,
              "ticks": ""
             }
            },
            "type": "scattercarpet"
           }
          ],
          "scattergeo": [
           {
            "marker": {
             "colorbar": {
              "outlinewidth": 0,
              "ticks": ""
             }
            },
            "type": "scattergeo"
           }
          ],
          "scattergl": [
           {
            "marker": {
             "colorbar": {
              "outlinewidth": 0,
              "ticks": ""
             }
            },
            "type": "scattergl"
           }
          ],
          "scattermapbox": [
           {
            "marker": {
             "colorbar": {
              "outlinewidth": 0,
              "ticks": ""
             }
            },
            "type": "scattermapbox"
           }
          ],
          "scatterpolar": [
           {
            "marker": {
             "colorbar": {
              "outlinewidth": 0,
              "ticks": ""
             }
            },
            "type": "scatterpolar"
           }
          ],
          "scatterpolargl": [
           {
            "marker": {
             "colorbar": {
              "outlinewidth": 0,
              "ticks": ""
             }
            },
            "type": "scatterpolargl"
           }
          ],
          "scatterternary": [
           {
            "marker": {
             "colorbar": {
              "outlinewidth": 0,
              "ticks": ""
             }
            },
            "type": "scatterternary"
           }
          ],
          "surface": [
           {
            "colorbar": {
             "outlinewidth": 0,
             "ticks": ""
            },
            "colorscale": [
             [
              0,
              "#0d0887"
             ],
             [
              0.1111111111111111,
              "#46039f"
             ],
             [
              0.2222222222222222,
              "#7201a8"
             ],
             [
              0.3333333333333333,
              "#9c179e"
             ],
             [
              0.4444444444444444,
              "#bd3786"
             ],
             [
              0.5555555555555556,
              "#d8576b"
             ],
             [
              0.6666666666666666,
              "#ed7953"
             ],
             [
              0.7777777777777778,
              "#fb9f3a"
             ],
             [
              0.8888888888888888,
              "#fdca26"
             ],
             [
              1,
              "#f0f921"
             ]
            ],
            "type": "surface"
           }
          ],
          "table": [
           {
            "cells": {
             "fill": {
              "color": "#EBF0F8"
             },
             "line": {
              "color": "white"
             }
            },
            "header": {
             "fill": {
              "color": "#C8D4E3"
             },
             "line": {
              "color": "white"
             }
            },
            "type": "table"
           }
          ]
         },
         "layout": {
          "annotationdefaults": {
           "arrowcolor": "#2a3f5f",
           "arrowhead": 0,
           "arrowwidth": 1
          },
          "autotypenumbers": "strict",
          "coloraxis": {
           "colorbar": {
            "outlinewidth": 0,
            "ticks": ""
           }
          },
          "colorscale": {
           "diverging": [
            [
             0,
             "#8e0152"
            ],
            [
             0.1,
             "#c51b7d"
            ],
            [
             0.2,
             "#de77ae"
            ],
            [
             0.3,
             "#f1b6da"
            ],
            [
             0.4,
             "#fde0ef"
            ],
            [
             0.5,
             "#f7f7f7"
            ],
            [
             0.6,
             "#e6f5d0"
            ],
            [
             0.7,
             "#b8e186"
            ],
            [
             0.8,
             "#7fbc41"
            ],
            [
             0.9,
             "#4d9221"
            ],
            [
             1,
             "#276419"
            ]
           ],
           "sequential": [
            [
             0,
             "#0d0887"
            ],
            [
             0.1111111111111111,
             "#46039f"
            ],
            [
             0.2222222222222222,
             "#7201a8"
            ],
            [
             0.3333333333333333,
             "#9c179e"
            ],
            [
             0.4444444444444444,
             "#bd3786"
            ],
            [
             0.5555555555555556,
             "#d8576b"
            ],
            [
             0.6666666666666666,
             "#ed7953"
            ],
            [
             0.7777777777777778,
             "#fb9f3a"
            ],
            [
             0.8888888888888888,
             "#fdca26"
            ],
            [
             1,
             "#f0f921"
            ]
           ],
           "sequentialminus": [
            [
             0,
             "#0d0887"
            ],
            [
             0.1111111111111111,
             "#46039f"
            ],
            [
             0.2222222222222222,
             "#7201a8"
            ],
            [
             0.3333333333333333,
             "#9c179e"
            ],
            [
             0.4444444444444444,
             "#bd3786"
            ],
            [
             0.5555555555555556,
             "#d8576b"
            ],
            [
             0.6666666666666666,
             "#ed7953"
            ],
            [
             0.7777777777777778,
             "#fb9f3a"
            ],
            [
             0.8888888888888888,
             "#fdca26"
            ],
            [
             1,
             "#f0f921"
            ]
           ]
          },
          "colorway": [
           "#636efa",
           "#EF553B",
           "#00cc96",
           "#ab63fa",
           "#FFA15A",
           "#19d3f3",
           "#FF6692",
           "#B6E880",
           "#FF97FF",
           "#FECB52"
          ],
          "font": {
           "color": "#2a3f5f"
          },
          "geo": {
           "bgcolor": "white",
           "lakecolor": "white",
           "landcolor": "#E5ECF6",
           "showlakes": true,
           "showland": true,
           "subunitcolor": "white"
          },
          "hoverlabel": {
           "align": "left"
          },
          "hovermode": "closest",
          "mapbox": {
           "style": "light"
          },
          "paper_bgcolor": "white",
          "plot_bgcolor": "#E5ECF6",
          "polar": {
           "angularaxis": {
            "gridcolor": "white",
            "linecolor": "white",
            "ticks": ""
           },
           "bgcolor": "#E5ECF6",
           "radialaxis": {
            "gridcolor": "white",
            "linecolor": "white",
            "ticks": ""
           }
          },
          "scene": {
           "xaxis": {
            "backgroundcolor": "#E5ECF6",
            "gridcolor": "white",
            "gridwidth": 2,
            "linecolor": "white",
            "showbackground": true,
            "ticks": "",
            "zerolinecolor": "white"
           },
           "yaxis": {
            "backgroundcolor": "#E5ECF6",
            "gridcolor": "white",
            "gridwidth": 2,
            "linecolor": "white",
            "showbackground": true,
            "ticks": "",
            "zerolinecolor": "white"
           },
           "zaxis": {
            "backgroundcolor": "#E5ECF6",
            "gridcolor": "white",
            "gridwidth": 2,
            "linecolor": "white",
            "showbackground": true,
            "ticks": "",
            "zerolinecolor": "white"
           }
          },
          "shapedefaults": {
           "line": {
            "color": "#2a3f5f"
           }
          },
          "ternary": {
           "aaxis": {
            "gridcolor": "white",
            "linecolor": "white",
            "ticks": ""
           },
           "baxis": {
            "gridcolor": "white",
            "linecolor": "white",
            "ticks": ""
           },
           "bgcolor": "#E5ECF6",
           "caxis": {
            "gridcolor": "white",
            "linecolor": "white",
            "ticks": ""
           }
          },
          "title": {
           "x": 0.05
          },
          "xaxis": {
           "automargin": true,
           "gridcolor": "white",
           "linecolor": "white",
           "ticks": "",
           "title": {
            "standoff": 15
           },
           "zerolinecolor": "white",
           "zerolinewidth": 2
          },
          "yaxis": {
           "automargin": true,
           "gridcolor": "white",
           "linecolor": "white",
           "ticks": "",
           "title": {
            "standoff": 15
           },
           "zerolinecolor": "white",
           "zerolinewidth": 2
          }
         }
        }
       }
      },
      "text/html": [
       "<div>                            <div id=\"986861e2-8ff1-4034-a146-dcc6f5c04bcb\" class=\"plotly-graph-div\" style=\"height:525px; width:100%;\"></div>            <script type=\"text/javascript\">                require([\"plotly\"], function(Plotly) {                    window.PLOTLYENV=window.PLOTLYENV || {};                                    if (document.getElementById(\"986861e2-8ff1-4034-a146-dcc6f5c04bcb\")) {                    Plotly.newPlot(                        \"986861e2-8ff1-4034-a146-dcc6f5c04bcb\",                        [{\"fill\":\"toself\",\"line\":{\"color\":\"hotpink\"},\"name\":\"Women\",\"r\":[0.6068480390130131,1.4304387295047392,3.1422912007889443,2.2019182366215433],\"theta\":[\"Success Rate\",\"Playtime\",\"Path Deviation\",\"Difficulty Rating\"],\"type\":\"scatterpolar\"},{\"fill\":\"toself\",\"line\":{\"color\":\"skyblue\"},\"name\":\"Men\",\"r\":[0.7758441073276038,1.0120310352457438,2.6369112781430974,1.9633108018710008],\"theta\":[\"Success Rate\",\"Playtime\",\"Path Deviation\",\"Difficulty Rating\"],\"type\":\"scatterpolar\"}],                        {\"template\":{\"data\":{\"bar\":[{\"error_x\":{\"color\":\"#2a3f5f\"},\"error_y\":{\"color\":\"#2a3f5f\"},\"marker\":{\"line\":{\"color\":\"#E5ECF6\",\"width\":0.5},\"pattern\":{\"fillmode\":\"overlay\",\"size\":10,\"solidity\":0.2}},\"type\":\"bar\"}],\"barpolar\":[{\"marker\":{\"line\":{\"color\":\"#E5ECF6\",\"width\":0.5},\"pattern\":{\"fillmode\":\"overlay\",\"size\":10,\"solidity\":0.2}},\"type\":\"barpolar\"}],\"carpet\":[{\"aaxis\":{\"endlinecolor\":\"#2a3f5f\",\"gridcolor\":\"white\",\"linecolor\":\"white\",\"minorgridcolor\":\"white\",\"startlinecolor\":\"#2a3f5f\"},\"baxis\":{\"endlinecolor\":\"#2a3f5f\",\"gridcolor\":\"white\",\"linecolor\":\"white\",\"minorgridcolor\":\"white\",\"startlinecolor\":\"#2a3f5f\"},\"type\":\"carpet\"}],\"choropleth\":[{\"colorbar\":{\"outlinewidth\":0,\"ticks\":\"\"},\"type\":\"choropleth\"}],\"contour\":[{\"colorbar\":{\"outlinewidth\":0,\"ticks\":\"\"},\"colorscale\":[[0.0,\"#0d0887\"],[0.1111111111111111,\"#46039f\"],[0.2222222222222222,\"#7201a8\"],[0.3333333333333333,\"#9c179e\"],[0.4444444444444444,\"#bd3786\"],[0.5555555555555556,\"#d8576b\"],[0.6666666666666666,\"#ed7953\"],[0.7777777777777778,\"#fb9f3a\"],[0.8888888888888888,\"#fdca26\"],[1.0,\"#f0f921\"]],\"type\":\"contour\"}],\"contourcarpet\":[{\"colorbar\":{\"outlinewidth\":0,\"ticks\":\"\"},\"type\":\"contourcarpet\"}],\"heatmap\":[{\"colorbar\":{\"outlinewidth\":0,\"ticks\":\"\"},\"colorscale\":[[0.0,\"#0d0887\"],[0.1111111111111111,\"#46039f\"],[0.2222222222222222,\"#7201a8\"],[0.3333333333333333,\"#9c179e\"],[0.4444444444444444,\"#bd3786\"],[0.5555555555555556,\"#d8576b\"],[0.6666666666666666,\"#ed7953\"],[0.7777777777777778,\"#fb9f3a\"],[0.8888888888888888,\"#fdca26\"],[1.0,\"#f0f921\"]],\"type\":\"heatmap\"}],\"heatmapgl\":[{\"colorbar\":{\"outlinewidth\":0,\"ticks\":\"\"},\"colorscale\":[[0.0,\"#0d0887\"],[0.1111111111111111,\"#46039f\"],[0.2222222222222222,\"#7201a8\"],[0.3333333333333333,\"#9c179e\"],[0.4444444444444444,\"#bd3786\"],[0.5555555555555556,\"#d8576b\"],[0.6666666666666666,\"#ed7953\"],[0.7777777777777778,\"#fb9f3a\"],[0.8888888888888888,\"#fdca26\"],[1.0,\"#f0f921\"]],\"type\":\"heatmapgl\"}],\"histogram\":[{\"marker\":{\"pattern\":{\"fillmode\":\"overlay\",\"size\":10,\"solidity\":0.2}},\"type\":\"histogram\"}],\"histogram2d\":[{\"colorbar\":{\"outlinewidth\":0,\"ticks\":\"\"},\"colorscale\":[[0.0,\"#0d0887\"],[0.1111111111111111,\"#46039f\"],[0.2222222222222222,\"#7201a8\"],[0.3333333333333333,\"#9c179e\"],[0.4444444444444444,\"#bd3786\"],[0.5555555555555556,\"#d8576b\"],[0.6666666666666666,\"#ed7953\"],[0.7777777777777778,\"#fb9f3a\"],[0.8888888888888888,\"#fdca26\"],[1.0,\"#f0f921\"]],\"type\":\"histogram2d\"}],\"histogram2dcontour\":[{\"colorbar\":{\"outlinewidth\":0,\"ticks\":\"\"},\"colorscale\":[[0.0,\"#0d0887\"],[0.1111111111111111,\"#46039f\"],[0.2222222222222222,\"#7201a8\"],[0.3333333333333333,\"#9c179e\"],[0.4444444444444444,\"#bd3786\"],[0.5555555555555556,\"#d8576b\"],[0.6666666666666666,\"#ed7953\"],[0.7777777777777778,\"#fb9f3a\"],[0.8888888888888888,\"#fdca26\"],[1.0,\"#f0f921\"]],\"type\":\"histogram2dcontour\"}],\"mesh3d\":[{\"colorbar\":{\"outlinewidth\":0,\"ticks\":\"\"},\"type\":\"mesh3d\"}],\"parcoords\":[{\"line\":{\"colorbar\":{\"outlinewidth\":0,\"ticks\":\"\"}},\"type\":\"parcoords\"}],\"pie\":[{\"automargin\":true,\"type\":\"pie\"}],\"scatter\":[{\"marker\":{\"colorbar\":{\"outlinewidth\":0,\"ticks\":\"\"}},\"type\":\"scatter\"}],\"scatter3d\":[{\"line\":{\"colorbar\":{\"outlinewidth\":0,\"ticks\":\"\"}},\"marker\":{\"colorbar\":{\"outlinewidth\":0,\"ticks\":\"\"}},\"type\":\"scatter3d\"}],\"scattercarpet\":[{\"marker\":{\"colorbar\":{\"outlinewidth\":0,\"ticks\":\"\"}},\"type\":\"scattercarpet\"}],\"scattergeo\":[{\"marker\":{\"colorbar\":{\"outlinewidth\":0,\"ticks\":\"\"}},\"type\":\"scattergeo\"}],\"scattergl\":[{\"marker\":{\"colorbar\":{\"outlinewidth\":0,\"ticks\":\"\"}},\"type\":\"scattergl\"}],\"scattermapbox\":[{\"marker\":{\"colorbar\":{\"outlinewidth\":0,\"ticks\":\"\"}},\"type\":\"scattermapbox\"}],\"scatterpolar\":[{\"marker\":{\"colorbar\":{\"outlinewidth\":0,\"ticks\":\"\"}},\"type\":\"scatterpolar\"}],\"scatterpolargl\":[{\"marker\":{\"colorbar\":{\"outlinewidth\":0,\"ticks\":\"\"}},\"type\":\"scatterpolargl\"}],\"scatterternary\":[{\"marker\":{\"colorbar\":{\"outlinewidth\":0,\"ticks\":\"\"}},\"type\":\"scatterternary\"}],\"surface\":[{\"colorbar\":{\"outlinewidth\":0,\"ticks\":\"\"},\"colorscale\":[[0.0,\"#0d0887\"],[0.1111111111111111,\"#46039f\"],[0.2222222222222222,\"#7201a8\"],[0.3333333333333333,\"#9c179e\"],[0.4444444444444444,\"#bd3786\"],[0.5555555555555556,\"#d8576b\"],[0.6666666666666666,\"#ed7953\"],[0.7777777777777778,\"#fb9f3a\"],[0.8888888888888888,\"#fdca26\"],[1.0,\"#f0f921\"]],\"type\":\"surface\"}],\"table\":[{\"cells\":{\"fill\":{\"color\":\"#EBF0F8\"},\"line\":{\"color\":\"white\"}},\"header\":{\"fill\":{\"color\":\"#C8D4E3\"},\"line\":{\"color\":\"white\"}},\"type\":\"table\"}]},\"layout\":{\"annotationdefaults\":{\"arrowcolor\":\"#2a3f5f\",\"arrowhead\":0,\"arrowwidth\":1},\"autotypenumbers\":\"strict\",\"coloraxis\":{\"colorbar\":{\"outlinewidth\":0,\"ticks\":\"\"}},\"colorscale\":{\"diverging\":[[0,\"#8e0152\"],[0.1,\"#c51b7d\"],[0.2,\"#de77ae\"],[0.3,\"#f1b6da\"],[0.4,\"#fde0ef\"],[0.5,\"#f7f7f7\"],[0.6,\"#e6f5d0\"],[0.7,\"#b8e186\"],[0.8,\"#7fbc41\"],[0.9,\"#4d9221\"],[1,\"#276419\"]],\"sequential\":[[0.0,\"#0d0887\"],[0.1111111111111111,\"#46039f\"],[0.2222222222222222,\"#7201a8\"],[0.3333333333333333,\"#9c179e\"],[0.4444444444444444,\"#bd3786\"],[0.5555555555555556,\"#d8576b\"],[0.6666666666666666,\"#ed7953\"],[0.7777777777777778,\"#fb9f3a\"],[0.8888888888888888,\"#fdca26\"],[1.0,\"#f0f921\"]],\"sequentialminus\":[[0.0,\"#0d0887\"],[0.1111111111111111,\"#46039f\"],[0.2222222222222222,\"#7201a8\"],[0.3333333333333333,\"#9c179e\"],[0.4444444444444444,\"#bd3786\"],[0.5555555555555556,\"#d8576b\"],[0.6666666666666666,\"#ed7953\"],[0.7777777777777778,\"#fb9f3a\"],[0.8888888888888888,\"#fdca26\"],[1.0,\"#f0f921\"]]},\"colorway\":[\"#636efa\",\"#EF553B\",\"#00cc96\",\"#ab63fa\",\"#FFA15A\",\"#19d3f3\",\"#FF6692\",\"#B6E880\",\"#FF97FF\",\"#FECB52\"],\"font\":{\"color\":\"#2a3f5f\"},\"geo\":{\"bgcolor\":\"white\",\"lakecolor\":\"white\",\"landcolor\":\"#E5ECF6\",\"showlakes\":true,\"showland\":true,\"subunitcolor\":\"white\"},\"hoverlabel\":{\"align\":\"left\"},\"hovermode\":\"closest\",\"mapbox\":{\"style\":\"light\"},\"paper_bgcolor\":\"white\",\"plot_bgcolor\":\"#E5ECF6\",\"polar\":{\"angularaxis\":{\"gridcolor\":\"white\",\"linecolor\":\"white\",\"ticks\":\"\"},\"bgcolor\":\"#E5ECF6\",\"radialaxis\":{\"gridcolor\":\"white\",\"linecolor\":\"white\",\"ticks\":\"\"}},\"scene\":{\"xaxis\":{\"backgroundcolor\":\"#E5ECF6\",\"gridcolor\":\"white\",\"gridwidth\":2,\"linecolor\":\"white\",\"showbackground\":true,\"ticks\":\"\",\"zerolinecolor\":\"white\"},\"yaxis\":{\"backgroundcolor\":\"#E5ECF6\",\"gridcolor\":\"white\",\"gridwidth\":2,\"linecolor\":\"white\",\"showbackground\":true,\"ticks\":\"\",\"zerolinecolor\":\"white\"},\"zaxis\":{\"backgroundcolor\":\"#E5ECF6\",\"gridcolor\":\"white\",\"gridwidth\":2,\"linecolor\":\"white\",\"showbackground\":true,\"ticks\":\"\",\"zerolinecolor\":\"white\"}},\"shapedefaults\":{\"line\":{\"color\":\"#2a3f5f\"}},\"ternary\":{\"aaxis\":{\"gridcolor\":\"white\",\"linecolor\":\"white\",\"ticks\":\"\"},\"baxis\":{\"gridcolor\":\"white\",\"linecolor\":\"white\",\"ticks\":\"\"},\"bgcolor\":\"#E5ECF6\",\"caxis\":{\"gridcolor\":\"white\",\"linecolor\":\"white\",\"ticks\":\"\"}},\"title\":{\"x\":0.05},\"xaxis\":{\"automargin\":true,\"gridcolor\":\"white\",\"linecolor\":\"white\",\"ticks\":\"\",\"title\":{\"standoff\":15},\"zerolinecolor\":\"white\",\"zerolinewidth\":2},\"yaxis\":{\"automargin\":true,\"gridcolor\":\"white\",\"linecolor\":\"white\",\"ticks\":\"\",\"title\":{\"standoff\":15},\"zerolinecolor\":\"white\",\"zerolinewidth\":2}}},\"polar\":{\"radialaxis\":{\"visible\":true,\"range\":[0,4]}},\"showlegend\":false},                        {\"responsive\": true}                    ).then(function(){\n",
       "                            \n",
       "var gd = document.getElementById('986861e2-8ff1-4034-a146-dcc6f5c04bcb');\n",
       "var x = new MutationObserver(function (mutations, observer) {{\n",
       "        var display = window.getComputedStyle(gd).display;\n",
       "        if (!display || display === 'none') {{\n",
       "            console.log([gd, 'removed!']);\n",
       "            Plotly.purge(gd);\n",
       "            observer.disconnect();\n",
       "        }}\n",
       "}});\n",
       "\n",
       "// Listen for the removal of the full notebook cells\n",
       "var notebookContainer = gd.closest('#notebook-container');\n",
       "if (notebookContainer) {{\n",
       "    x.observe(notebookContainer, {childList: true});\n",
       "}}\n",
       "\n",
       "// Listen for the clearing of the current output cell\n",
       "var outputEl = gd.closest('.output');\n",
       "if (outputEl) {{\n",
       "    x.observe(outputEl, {childList: true});\n",
       "}}\n",
       "\n",
       "                        })                };                });            </script>        </div>"
      ]
     },
     "metadata": {},
     "output_type": "display_data"
    }
   ],
   "source": [
    "# Radar chart for naive analysis - Can't show in jupyter notebook but on the webpage\n",
    "# TODO decide how to do with playtime since that value scews the entire plot now.\n",
    "# color code: https://stackoverflow.com/questions/22408237/named-colors-in-matplotlib\n",
    "\n",
    "categories = ['Success Rate','Playtime','Path Deviation',\n",
    "              'Difficulty Rating']\n",
    "\n",
    "fig = go.Figure()\n",
    "\n",
    "fig.add_trace(go.Scatterpolar(\n",
    "      r=[wsuccessrate_mean, wplaytime_mean/100, wpathdev_mean, wdiffrating_mean],\n",
    "      theta=categories,\n",
    "      fill='toself',\n",
    "      line_color='hotpink',\n",
    "      name='Women'\n",
    "))\n",
    "fig.add_trace(go.Scatterpolar(\n",
    "      r=[msuccessrate_mean, mplaytime_mean/100, mpathdev_mean, mdiffrating_mean],\n",
    "      theta=categories,\n",
    "      fill='toself',\n",
    "      line_color='skyblue',\n",
    "      name='Men'\n",
    "))\n",
    "\n",
    "fig.update_layout(\n",
    "  polar=dict(\n",
    "    radialaxis=dict(\n",
    "      visible=True,\n",
    "      range=[0, 4]\n",
    "    )),\n",
    "  showlegend=False\n",
    ")\n",
    "\n",
    "fig.show()\n",
    "#fig.to_html(full_html = False, include_plotlyjs='cdn')\n",
    "#fig.write_html(\"datastory_plot/radarplot_test.html\", full_html=False, include_plotlyjs='cdn')"
   ]
  },
  {
   "cell_type": "markdown",
   "id": "5f8a4746-e090-4b93-9726-c8486f24789a",
   "metadata": {},
   "source": [
    "### **Controlling for all confounding factors**"
   ]
  },
  {
   "cell_type": "markdown",
   "id": "06bf365b-40a5-4105-a133-e5c7334f3aac",
   "metadata": {},
   "source": [
    "Now, we will create pairs of paths that we will compare. The target articles of the pairs are a women article and a man article. Both paths in every pair are either finished or unfinished, in other words, we do not pair a finished path with an unfinished one. (ATHATH)"
   ]
  },
  {
   "cell_type": "markdown",
   "id": "6ff05a94-563d-40ad-90c7-c8fd0994a0c8",
   "metadata": {
    "tags": []
   },
   "source": [
    "#### **Matching**"
   ]
  },
  {
   "cell_type": "markdown",
   "id": "fbfb583c-8bd7-42bc-a2b2-6a461985d555",
   "metadata": {},
   "source": [
    "In order to create the pairs, we need to match two target articles from the two groups of men and women articles. As mentioned in the README, the matching will be constrained by the following parameters:\n",
    "\n",
    "1. starting a path at the same source article (minimum requirement of matching)\n",
    "2. having the same shortest path length between a source article and a target article\n",
    "3. having target articles in the same sub-category (e.g. male scientist vs. female scientist)\n",
    "4. having target articles with a similiar or the same in_degree"
   ]
  },
  {
   "cell_type": "markdown",
   "id": "2b6e759f-f64d-40e3-a881-2b96829e268f",
   "metadata": {},
   "source": [
    "The function `matching` matches two target articles from the control group (men) and from the treatment group (women) from our dataset. The `if`-statements handle each of the pre-defined constraints (from the minimum control to the strongest one). The function then returns three sets of four dataframes where each row corresponds to a path with a target article about a man or a woman with exactly one matched pair of the opposite gender. "
   ]
  },
  {
   "cell_type": "code",
   "execution_count": 284,
   "id": "4370a18b-0296-492f-aef8-98a6a3461205",
   "metadata": {},
   "outputs": [],
   "source": [
    "def matching():\n",
    "    # 1) match on source\n",
    "    # 2) match on source and same shortest path link\n",
    "    # 3) match on category and above\n",
    "    # 4) match on nr_link_in  --------------------------- NOTE DONE \n",
    "\n",
    "    finished = [nx.Graph(),nx.Graph(),nx.Graph(),nx.Graph()]\n",
    "    unfinished = [nx.Graph(),nx.Graph(),nx.Graph(),nx.Graph()]\n",
    "    all_paths = [nx.Graph(),nx.Graph(),nx.Graph(),nx.Graph()]\n",
    "\n",
    "    for control_id, control_row in men_target_paths.iterrows():\n",
    "        for treatment_id, treatment_row in women_target_paths.iterrows():\n",
    "            # Add an edge only if the paths are both finished\n",
    "            if (control_row['finished'] == True and treatment_row['finished'] == True):\n",
    "                \n",
    "                # Add an edge only if the paths have the same source\n",
    "                if (control_row['source'] == treatment_row['source']):\n",
    "                    finished[0].add_weighted_edges_from([(control_id, treatment_id, 1)])\n",
    "                    \n",
    "                    # Add an edge only if the paths have the same shortest_path_length\n",
    "                    if (control_row['shortest_path_length'] == treatment_row['shortest_path_length']):\n",
    "                        finished[1].add_weighted_edges_from([(control_id, treatment_id, 1)])\n",
    "                        \n",
    "                        # Add an edge only if the paths have a target article within the same category\n",
    "                        if (control_row['category'] == treatment_row['category']):\n",
    "                            finished[2].add_weighted_edges_from([(control_id, treatment_id, 1)])\n",
    "                            \n",
    "            # Add an edge only if the paths are both unfinished\n",
    "            if (control_row['finished'] == False and treatment_row['finished'] == False):\n",
    "                \n",
    "                # Add an edge only if the paths have the same source\n",
    "                if (control_row['source'] == treatment_row['source']):\n",
    "                    unfinished[0].add_weighted_edges_from([(control_id, treatment_id, 1)])\n",
    "                    \n",
    "                    # Add an edge only if the paths have the same shortest_path_length\n",
    "                    if (control_row['shortest_path_length'] == treatment_row['shortest_path_length']):\n",
    "                        unfinished[1].add_weighted_edges_from([(control_id, treatment_id, 1)])\n",
    "                        \n",
    "                        # Add an edge only if the paths have a target article within the same category\n",
    "                        if (control_row['category'] == treatment_row['category']):\n",
    "                            unfinished[2].add_weighted_edges_from([(control_id, treatment_id, 1)]) \n",
    "                            \n",
    "            # Add an edge between all possible paths, unfinished and finished (??????????????'???????)               \n",
    "            else:\n",
    "                \n",
    "                # Add an edge only if the paths have the same source\n",
    "                if (control_row['source'] == treatment_row['source']):\n",
    "                    all_paths[0].add_weighted_edges_from([(control_id, treatment_id, 1)])\n",
    "                    \n",
    "                    # Add an edge only if the paths have the same shortest_path_length\n",
    "                    if (control_row['shortest_path_length'] == treatment_row['shortest_path_length']):\n",
    "                        all_paths[1].add_weighted_edges_from([(control_id, treatment_id, 1)])\n",
    "                        \n",
    "                        # Add an edge only if the paths have a target article within the same category\n",
    "                        if (control_row['category'] == treatment_row['category']):\n",
    "                            all_paths[2].add_weighted_edges_from([(control_id, treatment_id, 1)])\n",
    "\n",
    "    finished_dfs = []\n",
    "    for g in finished:\n",
    "        matching = nx.max_weight_matching(g)\n",
    "        matched = [i[0] for i in list(matching)] + [i[1] for i in list(matching)]\n",
    "        balanced_df_all = people_target_paths.iloc[matched]\n",
    "        finished_dfs.append(balanced_df_all)\n",
    "        \n",
    "    unfinished_dfs = []\n",
    "    for g in unfinished:\n",
    "        matching = nx.max_weight_matching(g)\n",
    "        matched = [i[0] for i in list(matching)] + [i[1] for i in list(matching)]\n",
    "        balanced_df_all = people_target_paths.iloc[matched]\n",
    "        unfinished_dfs.append(balanced_df_all)\n",
    "    \n",
    "    dfs = []\n",
    "    for g in all_paths:\n",
    "        matching = nx.max_weight_matching(g)\n",
    "        matched = [i[0] for i in list(matching)] + [i[1] for i in list(matching)]\n",
    "        balanced_df_all = people_target_paths.iloc[matched]\n",
    "        dfs.append(balanced_df_all)\n",
    "\n",
    "    return finished_dfs, unfinished_dfs, dfs"
   ]
  },
  {
   "cell_type": "markdown",
   "id": "1de86fa8-d7b1-4923-b9a2-aef9bdbcd36d",
   "metadata": {},
   "source": [
    "In the following code cell, we call the function `matching` and save each returned dataframe to a file. We only do this once, since the function has a long run-time (which is the reason for why it is commented)."
   ]
  },
  {
   "cell_type": "code",
   "execution_count": 285,
   "id": "f7029b23-6df1-4f0f-8f26-aa4aa5fac59b",
   "metadata": {},
   "outputs": [],
   "source": [
    "#finished_dfs, unfinished_dfs, dfs = matching()\n",
    "\n",
    "#source_matching = dfs[0]\n",
    "#source_matching.to_csv(\"./data/source_matched.csv\")\n",
    "#fin_source_matching = finished_dfs[0]\n",
    "#fin_source_matching.to_csv(\"./data/fin_source_matched.csv\")\n",
    "#unfin_source_matching = unfinished_dfs[0]\n",
    "#unfin_source_matching.to_csv(\"./data/unfin_source_matched.csv\")\n",
    "\n",
    "#src_shp_match = dfs[1]\n",
    "#src_shp_match.to_csv(\"./data/src_and_shp_matched.csv\")\n",
    "#fin_src_shp_match = finished_dfs[1]\n",
    "#fin_src_shp_match.to_csv(\"./data/fin_src_and_shp_matched.csv\")\n",
    "#unfin_src_shp_match = unfinished_dfs[1]\n",
    "#unfin_src_shp_match.to_csv(\"./data/unfin_src_and_shp_matched.csv\")\n",
    "\n",
    "#cat_and_rest = dfs[2]\n",
    "#cat_and_rest.to_csv(\"./data/cat_and_rest_matched.csv\")\n",
    "#fin_cat_and_rest = finished_dfs[2]\n",
    "#fin_cat_and_rest.to_csv(\"./data/fin_cat_and_rest_matched.csv\")\n",
    "#unfin_cat_and_rest = unfinished_dfs[2]\n",
    "#unfin_cat_and_rest.to_csv(\"./data/unfin_cat_and_rest_matched.csv\")"
   ]
  },
  {
   "cell_type": "markdown",
   "id": "55a9e8fc-9823-4723-abfc-cc8ad066ae07",
   "metadata": {},
   "source": [
    "Here, we import the data we just saved to a file. The following table gives an overview over the generated files of the matched data\n",
    "\n",
    "| **Name of dataframe**      | **Matched paths and constraint parameters**                                                     |\n",
    "|----------------------|---------------------------------------------------------------------|\n",
    "| src_match               | All paths: (1)                                   |\n",
    "| shpath_match               | All paths: (1), (2)                                    |\n",
    "| cat_match             | All paths: (1), (2), (3)                          |\n",
    "| fin_src_match    | Finished paths: (1) |\n",
    "| fin_shpath_match | Finished paths: (1), (2)                    |\n",
    "| fin_cat_match        | Finished paths: (1), (2), (3)                                                   |\n",
    "| unfin_src_match    | Unfinished paths: (1) |\n",
    "| unfin_shpath_match | Unfinished paths: (1), (2)                    |\n",
    "| unfin_cat_match        | Unfinished paths: (1), (2), (3)                                                   |\n"
   ]
  },
  {
   "cell_type": "code",
   "execution_count": 286,
   "id": "62edd5cd-7366-4303-9f65-d7d88c6dfce1",
   "metadata": {},
   "outputs": [
    {
     "ename": "FileNotFoundError",
     "evalue": "[Errno 2] No such file or directory: 'data/source_matched.csv'",
     "output_type": "error",
     "traceback": [
      "\u001b[0;31m---------------------------------------------------------------------------\u001b[0m",
      "\u001b[0;31mFileNotFoundError\u001b[0m                         Traceback (most recent call last)",
      "Input \u001b[0;32mIn [286]\u001b[0m, in \u001b[0;36m<cell line: 1>\u001b[0;34m()\u001b[0m\n\u001b[0;32m----> 1\u001b[0m src_match \u001b[38;5;241m=\u001b[39m \u001b[43mpd\u001b[49m\u001b[38;5;241;43m.\u001b[39;49m\u001b[43mread_csv\u001b[49m\u001b[43m(\u001b[49m\u001b[43mDATA_FOLDER\u001b[49m\u001b[38;5;241;43m+\u001b[39;49m\u001b[38;5;124;43m\"\u001b[39;49m\u001b[38;5;124;43msource_matched.csv\u001b[39;49m\u001b[38;5;124;43m\"\u001b[39;49m\u001b[43m)\u001b[49m\u001b[38;5;241m.\u001b[39mdrop(columns \u001b[38;5;241m=\u001b[39m [\u001b[38;5;124m'\u001b[39m\u001b[38;5;124mUnnamed: 0\u001b[39m\u001b[38;5;124m'\u001b[39m])\n\u001b[1;32m      2\u001b[0m shpath_match \u001b[38;5;241m=\u001b[39m pd\u001b[38;5;241m.\u001b[39mread_csv(DATA_FOLDER\u001b[38;5;241m+\u001b[39m\u001b[38;5;124m\"\u001b[39m\u001b[38;5;124msrc_and_shp_matched.csv\u001b[39m\u001b[38;5;124m\"\u001b[39m)\u001b[38;5;241m.\u001b[39mdrop(columns \u001b[38;5;241m=\u001b[39m [\u001b[38;5;124m'\u001b[39m\u001b[38;5;124mUnnamed: 0\u001b[39m\u001b[38;5;124m'\u001b[39m])\n\u001b[1;32m      3\u001b[0m cat_match \u001b[38;5;241m=\u001b[39m pd\u001b[38;5;241m.\u001b[39mread_csv(DATA_FOLDER\u001b[38;5;241m+\u001b[39m\u001b[38;5;124m\"\u001b[39m\u001b[38;5;124mcat_and_rest_matched.csv\u001b[39m\u001b[38;5;124m\"\u001b[39m)\u001b[38;5;241m.\u001b[39mdrop(columns \u001b[38;5;241m=\u001b[39m [\u001b[38;5;124m'\u001b[39m\u001b[38;5;124mUnnamed: 0\u001b[39m\u001b[38;5;124m'\u001b[39m])\n",
      "File \u001b[0;32m~/opt/anaconda3/lib/python3.9/site-packages/pandas/util/_decorators.py:311\u001b[0m, in \u001b[0;36mdeprecate_nonkeyword_arguments.<locals>.decorate.<locals>.wrapper\u001b[0;34m(*args, **kwargs)\u001b[0m\n\u001b[1;32m    305\u001b[0m \u001b[38;5;28;01mif\u001b[39;00m \u001b[38;5;28mlen\u001b[39m(args) \u001b[38;5;241m>\u001b[39m num_allow_args:\n\u001b[1;32m    306\u001b[0m     warnings\u001b[38;5;241m.\u001b[39mwarn(\n\u001b[1;32m    307\u001b[0m         msg\u001b[38;5;241m.\u001b[39mformat(arguments\u001b[38;5;241m=\u001b[39marguments),\n\u001b[1;32m    308\u001b[0m         \u001b[38;5;167;01mFutureWarning\u001b[39;00m,\n\u001b[1;32m    309\u001b[0m         stacklevel\u001b[38;5;241m=\u001b[39mstacklevel,\n\u001b[1;32m    310\u001b[0m     )\n\u001b[0;32m--> 311\u001b[0m \u001b[38;5;28;01mreturn\u001b[39;00m \u001b[43mfunc\u001b[49m\u001b[43m(\u001b[49m\u001b[38;5;241;43m*\u001b[39;49m\u001b[43margs\u001b[49m\u001b[43m,\u001b[49m\u001b[43m \u001b[49m\u001b[38;5;241;43m*\u001b[39;49m\u001b[38;5;241;43m*\u001b[39;49m\u001b[43mkwargs\u001b[49m\u001b[43m)\u001b[49m\n",
      "File \u001b[0;32m~/opt/anaconda3/lib/python3.9/site-packages/pandas/io/parsers/readers.py:680\u001b[0m, in \u001b[0;36mread_csv\u001b[0;34m(filepath_or_buffer, sep, delimiter, header, names, index_col, usecols, squeeze, prefix, mangle_dupe_cols, dtype, engine, converters, true_values, false_values, skipinitialspace, skiprows, skipfooter, nrows, na_values, keep_default_na, na_filter, verbose, skip_blank_lines, parse_dates, infer_datetime_format, keep_date_col, date_parser, dayfirst, cache_dates, iterator, chunksize, compression, thousands, decimal, lineterminator, quotechar, quoting, doublequote, escapechar, comment, encoding, encoding_errors, dialect, error_bad_lines, warn_bad_lines, on_bad_lines, delim_whitespace, low_memory, memory_map, float_precision, storage_options)\u001b[0m\n\u001b[1;32m    665\u001b[0m kwds_defaults \u001b[38;5;241m=\u001b[39m _refine_defaults_read(\n\u001b[1;32m    666\u001b[0m     dialect,\n\u001b[1;32m    667\u001b[0m     delimiter,\n\u001b[0;32m   (...)\u001b[0m\n\u001b[1;32m    676\u001b[0m     defaults\u001b[38;5;241m=\u001b[39m{\u001b[38;5;124m\"\u001b[39m\u001b[38;5;124mdelimiter\u001b[39m\u001b[38;5;124m\"\u001b[39m: \u001b[38;5;124m\"\u001b[39m\u001b[38;5;124m,\u001b[39m\u001b[38;5;124m\"\u001b[39m},\n\u001b[1;32m    677\u001b[0m )\n\u001b[1;32m    678\u001b[0m kwds\u001b[38;5;241m.\u001b[39mupdate(kwds_defaults)\n\u001b[0;32m--> 680\u001b[0m \u001b[38;5;28;01mreturn\u001b[39;00m \u001b[43m_read\u001b[49m\u001b[43m(\u001b[49m\u001b[43mfilepath_or_buffer\u001b[49m\u001b[43m,\u001b[49m\u001b[43m \u001b[49m\u001b[43mkwds\u001b[49m\u001b[43m)\u001b[49m\n",
      "File \u001b[0;32m~/opt/anaconda3/lib/python3.9/site-packages/pandas/io/parsers/readers.py:575\u001b[0m, in \u001b[0;36m_read\u001b[0;34m(filepath_or_buffer, kwds)\u001b[0m\n\u001b[1;32m    572\u001b[0m _validate_names(kwds\u001b[38;5;241m.\u001b[39mget(\u001b[38;5;124m\"\u001b[39m\u001b[38;5;124mnames\u001b[39m\u001b[38;5;124m\"\u001b[39m, \u001b[38;5;28;01mNone\u001b[39;00m))\n\u001b[1;32m    574\u001b[0m \u001b[38;5;66;03m# Create the parser.\u001b[39;00m\n\u001b[0;32m--> 575\u001b[0m parser \u001b[38;5;241m=\u001b[39m \u001b[43mTextFileReader\u001b[49m\u001b[43m(\u001b[49m\u001b[43mfilepath_or_buffer\u001b[49m\u001b[43m,\u001b[49m\u001b[43m \u001b[49m\u001b[38;5;241;43m*\u001b[39;49m\u001b[38;5;241;43m*\u001b[39;49m\u001b[43mkwds\u001b[49m\u001b[43m)\u001b[49m\n\u001b[1;32m    577\u001b[0m \u001b[38;5;28;01mif\u001b[39;00m chunksize \u001b[38;5;129;01mor\u001b[39;00m iterator:\n\u001b[1;32m    578\u001b[0m     \u001b[38;5;28;01mreturn\u001b[39;00m parser\n",
      "File \u001b[0;32m~/opt/anaconda3/lib/python3.9/site-packages/pandas/io/parsers/readers.py:933\u001b[0m, in \u001b[0;36mTextFileReader.__init__\u001b[0;34m(self, f, engine, **kwds)\u001b[0m\n\u001b[1;32m    930\u001b[0m     \u001b[38;5;28mself\u001b[39m\u001b[38;5;241m.\u001b[39moptions[\u001b[38;5;124m\"\u001b[39m\u001b[38;5;124mhas_index_names\u001b[39m\u001b[38;5;124m\"\u001b[39m] \u001b[38;5;241m=\u001b[39m kwds[\u001b[38;5;124m\"\u001b[39m\u001b[38;5;124mhas_index_names\u001b[39m\u001b[38;5;124m\"\u001b[39m]\n\u001b[1;32m    932\u001b[0m \u001b[38;5;28mself\u001b[39m\u001b[38;5;241m.\u001b[39mhandles: IOHandles \u001b[38;5;241m|\u001b[39m \u001b[38;5;28;01mNone\u001b[39;00m \u001b[38;5;241m=\u001b[39m \u001b[38;5;28;01mNone\u001b[39;00m\n\u001b[0;32m--> 933\u001b[0m \u001b[38;5;28mself\u001b[39m\u001b[38;5;241m.\u001b[39m_engine \u001b[38;5;241m=\u001b[39m \u001b[38;5;28;43mself\u001b[39;49m\u001b[38;5;241;43m.\u001b[39;49m\u001b[43m_make_engine\u001b[49m\u001b[43m(\u001b[49m\u001b[43mf\u001b[49m\u001b[43m,\u001b[49m\u001b[43m \u001b[49m\u001b[38;5;28;43mself\u001b[39;49m\u001b[38;5;241;43m.\u001b[39;49m\u001b[43mengine\u001b[49m\u001b[43m)\u001b[49m\n",
      "File \u001b[0;32m~/opt/anaconda3/lib/python3.9/site-packages/pandas/io/parsers/readers.py:1217\u001b[0m, in \u001b[0;36mTextFileReader._make_engine\u001b[0;34m(self, f, engine)\u001b[0m\n\u001b[1;32m   1213\u001b[0m     mode \u001b[38;5;241m=\u001b[39m \u001b[38;5;124m\"\u001b[39m\u001b[38;5;124mrb\u001b[39m\u001b[38;5;124m\"\u001b[39m\n\u001b[1;32m   1214\u001b[0m \u001b[38;5;66;03m# error: No overload variant of \"get_handle\" matches argument types\u001b[39;00m\n\u001b[1;32m   1215\u001b[0m \u001b[38;5;66;03m# \"Union[str, PathLike[str], ReadCsvBuffer[bytes], ReadCsvBuffer[str]]\"\u001b[39;00m\n\u001b[1;32m   1216\u001b[0m \u001b[38;5;66;03m# , \"str\", \"bool\", \"Any\", \"Any\", \"Any\", \"Any\", \"Any\"\u001b[39;00m\n\u001b[0;32m-> 1217\u001b[0m \u001b[38;5;28mself\u001b[39m\u001b[38;5;241m.\u001b[39mhandles \u001b[38;5;241m=\u001b[39m \u001b[43mget_handle\u001b[49m\u001b[43m(\u001b[49m\u001b[43m  \u001b[49m\u001b[38;5;66;43;03m# type: ignore[call-overload]\u001b[39;49;00m\n\u001b[1;32m   1218\u001b[0m \u001b[43m    \u001b[49m\u001b[43mf\u001b[49m\u001b[43m,\u001b[49m\n\u001b[1;32m   1219\u001b[0m \u001b[43m    \u001b[49m\u001b[43mmode\u001b[49m\u001b[43m,\u001b[49m\n\u001b[1;32m   1220\u001b[0m \u001b[43m    \u001b[49m\u001b[43mencoding\u001b[49m\u001b[38;5;241;43m=\u001b[39;49m\u001b[38;5;28;43mself\u001b[39;49m\u001b[38;5;241;43m.\u001b[39;49m\u001b[43moptions\u001b[49m\u001b[38;5;241;43m.\u001b[39;49m\u001b[43mget\u001b[49m\u001b[43m(\u001b[49m\u001b[38;5;124;43m\"\u001b[39;49m\u001b[38;5;124;43mencoding\u001b[39;49m\u001b[38;5;124;43m\"\u001b[39;49m\u001b[43m,\u001b[49m\u001b[43m \u001b[49m\u001b[38;5;28;43;01mNone\u001b[39;49;00m\u001b[43m)\u001b[49m\u001b[43m,\u001b[49m\n\u001b[1;32m   1221\u001b[0m \u001b[43m    \u001b[49m\u001b[43mcompression\u001b[49m\u001b[38;5;241;43m=\u001b[39;49m\u001b[38;5;28;43mself\u001b[39;49m\u001b[38;5;241;43m.\u001b[39;49m\u001b[43moptions\u001b[49m\u001b[38;5;241;43m.\u001b[39;49m\u001b[43mget\u001b[49m\u001b[43m(\u001b[49m\u001b[38;5;124;43m\"\u001b[39;49m\u001b[38;5;124;43mcompression\u001b[39;49m\u001b[38;5;124;43m\"\u001b[39;49m\u001b[43m,\u001b[49m\u001b[43m \u001b[49m\u001b[38;5;28;43;01mNone\u001b[39;49;00m\u001b[43m)\u001b[49m\u001b[43m,\u001b[49m\n\u001b[1;32m   1222\u001b[0m \u001b[43m    \u001b[49m\u001b[43mmemory_map\u001b[49m\u001b[38;5;241;43m=\u001b[39;49m\u001b[38;5;28;43mself\u001b[39;49m\u001b[38;5;241;43m.\u001b[39;49m\u001b[43moptions\u001b[49m\u001b[38;5;241;43m.\u001b[39;49m\u001b[43mget\u001b[49m\u001b[43m(\u001b[49m\u001b[38;5;124;43m\"\u001b[39;49m\u001b[38;5;124;43mmemory_map\u001b[39;49m\u001b[38;5;124;43m\"\u001b[39;49m\u001b[43m,\u001b[49m\u001b[43m \u001b[49m\u001b[38;5;28;43;01mFalse\u001b[39;49;00m\u001b[43m)\u001b[49m\u001b[43m,\u001b[49m\n\u001b[1;32m   1223\u001b[0m \u001b[43m    \u001b[49m\u001b[43mis_text\u001b[49m\u001b[38;5;241;43m=\u001b[39;49m\u001b[43mis_text\u001b[49m\u001b[43m,\u001b[49m\n\u001b[1;32m   1224\u001b[0m \u001b[43m    \u001b[49m\u001b[43merrors\u001b[49m\u001b[38;5;241;43m=\u001b[39;49m\u001b[38;5;28;43mself\u001b[39;49m\u001b[38;5;241;43m.\u001b[39;49m\u001b[43moptions\u001b[49m\u001b[38;5;241;43m.\u001b[39;49m\u001b[43mget\u001b[49m\u001b[43m(\u001b[49m\u001b[38;5;124;43m\"\u001b[39;49m\u001b[38;5;124;43mencoding_errors\u001b[39;49m\u001b[38;5;124;43m\"\u001b[39;49m\u001b[43m,\u001b[49m\u001b[43m \u001b[49m\u001b[38;5;124;43m\"\u001b[39;49m\u001b[38;5;124;43mstrict\u001b[39;49m\u001b[38;5;124;43m\"\u001b[39;49m\u001b[43m)\u001b[49m\u001b[43m,\u001b[49m\n\u001b[1;32m   1225\u001b[0m \u001b[43m    \u001b[49m\u001b[43mstorage_options\u001b[49m\u001b[38;5;241;43m=\u001b[39;49m\u001b[38;5;28;43mself\u001b[39;49m\u001b[38;5;241;43m.\u001b[39;49m\u001b[43moptions\u001b[49m\u001b[38;5;241;43m.\u001b[39;49m\u001b[43mget\u001b[49m\u001b[43m(\u001b[49m\u001b[38;5;124;43m\"\u001b[39;49m\u001b[38;5;124;43mstorage_options\u001b[39;49m\u001b[38;5;124;43m\"\u001b[39;49m\u001b[43m,\u001b[49m\u001b[43m \u001b[49m\u001b[38;5;28;43;01mNone\u001b[39;49;00m\u001b[43m)\u001b[49m\u001b[43m,\u001b[49m\n\u001b[1;32m   1226\u001b[0m \u001b[43m\u001b[49m\u001b[43m)\u001b[49m\n\u001b[1;32m   1227\u001b[0m \u001b[38;5;28;01massert\u001b[39;00m \u001b[38;5;28mself\u001b[39m\u001b[38;5;241m.\u001b[39mhandles \u001b[38;5;129;01mis\u001b[39;00m \u001b[38;5;129;01mnot\u001b[39;00m \u001b[38;5;28;01mNone\u001b[39;00m\n\u001b[1;32m   1228\u001b[0m f \u001b[38;5;241m=\u001b[39m \u001b[38;5;28mself\u001b[39m\u001b[38;5;241m.\u001b[39mhandles\u001b[38;5;241m.\u001b[39mhandle\n",
      "File \u001b[0;32m~/opt/anaconda3/lib/python3.9/site-packages/pandas/io/common.py:789\u001b[0m, in \u001b[0;36mget_handle\u001b[0;34m(path_or_buf, mode, encoding, compression, memory_map, is_text, errors, storage_options)\u001b[0m\n\u001b[1;32m    784\u001b[0m \u001b[38;5;28;01melif\u001b[39;00m \u001b[38;5;28misinstance\u001b[39m(handle, \u001b[38;5;28mstr\u001b[39m):\n\u001b[1;32m    785\u001b[0m     \u001b[38;5;66;03m# Check whether the filename is to be opened in binary mode.\u001b[39;00m\n\u001b[1;32m    786\u001b[0m     \u001b[38;5;66;03m# Binary mode does not support 'encoding' and 'newline'.\u001b[39;00m\n\u001b[1;32m    787\u001b[0m     \u001b[38;5;28;01mif\u001b[39;00m ioargs\u001b[38;5;241m.\u001b[39mencoding \u001b[38;5;129;01mand\u001b[39;00m \u001b[38;5;124m\"\u001b[39m\u001b[38;5;124mb\u001b[39m\u001b[38;5;124m\"\u001b[39m \u001b[38;5;129;01mnot\u001b[39;00m \u001b[38;5;129;01min\u001b[39;00m ioargs\u001b[38;5;241m.\u001b[39mmode:\n\u001b[1;32m    788\u001b[0m         \u001b[38;5;66;03m# Encoding\u001b[39;00m\n\u001b[0;32m--> 789\u001b[0m         handle \u001b[38;5;241m=\u001b[39m \u001b[38;5;28;43mopen\u001b[39;49m\u001b[43m(\u001b[49m\n\u001b[1;32m    790\u001b[0m \u001b[43m            \u001b[49m\u001b[43mhandle\u001b[49m\u001b[43m,\u001b[49m\n\u001b[1;32m    791\u001b[0m \u001b[43m            \u001b[49m\u001b[43mioargs\u001b[49m\u001b[38;5;241;43m.\u001b[39;49m\u001b[43mmode\u001b[49m\u001b[43m,\u001b[49m\n\u001b[1;32m    792\u001b[0m \u001b[43m            \u001b[49m\u001b[43mencoding\u001b[49m\u001b[38;5;241;43m=\u001b[39;49m\u001b[43mioargs\u001b[49m\u001b[38;5;241;43m.\u001b[39;49m\u001b[43mencoding\u001b[49m\u001b[43m,\u001b[49m\n\u001b[1;32m    793\u001b[0m \u001b[43m            \u001b[49m\u001b[43merrors\u001b[49m\u001b[38;5;241;43m=\u001b[39;49m\u001b[43merrors\u001b[49m\u001b[43m,\u001b[49m\n\u001b[1;32m    794\u001b[0m \u001b[43m            \u001b[49m\u001b[43mnewline\u001b[49m\u001b[38;5;241;43m=\u001b[39;49m\u001b[38;5;124;43m\"\u001b[39;49m\u001b[38;5;124;43m\"\u001b[39;49m\u001b[43m,\u001b[49m\n\u001b[1;32m    795\u001b[0m \u001b[43m        \u001b[49m\u001b[43m)\u001b[49m\n\u001b[1;32m    796\u001b[0m     \u001b[38;5;28;01melse\u001b[39;00m:\n\u001b[1;32m    797\u001b[0m         \u001b[38;5;66;03m# Binary mode\u001b[39;00m\n\u001b[1;32m    798\u001b[0m         handle \u001b[38;5;241m=\u001b[39m \u001b[38;5;28mopen\u001b[39m(handle, ioargs\u001b[38;5;241m.\u001b[39mmode)\n",
      "\u001b[0;31mFileNotFoundError\u001b[0m: [Errno 2] No such file or directory: 'data/source_matched.csv'"
     ]
    }
   ],
   "source": [
    "src_match = pd.read_csv(DATA_FOLDER+\"source_matched.csv\").drop(columns = ['Unnamed: 0'])\n",
    "shpath_match = pd.read_csv(DATA_FOLDER+\"src_and_shp_matched.csv\").drop(columns = ['Unnamed: 0'])\n",
    "cat_match = pd.read_csv(DATA_FOLDER+\"cat_and_rest_matched.csv\").drop(columns = ['Unnamed: 0'])\n",
    "\n",
    "fin_src_match = pd.read_csv(DATA_FOLDER+\"fin_source_matched.csv\").drop(columns = ['Unnamed: 0'])\n",
    "fin_shpath_match = pd.read_csv(DATA_FOLDER+\"fin_src_and_shp_matched.csv\").drop(columns = ['Unnamed: 0'])\n",
    "fin_cat_match = pd.read_csv(DATA_FOLDER+\"fin_cat_and_rest_matched.csv\").drop(columns = ['Unnamed: 0'])\n",
    "\n",
    "unfin_src_match = pd.read_csv(DATA_FOLDER+\"unfin_source_matched.csv\").drop(columns = ['Unnamed: 0'])\n",
    "unfin_shpath_match = pd.read_csv(DATA_FOLDER+\"unfin_src_and_shp_matched.csv\").drop(columns = ['Unnamed: 0'])\n",
    "unfin_cat_match = pd.read_csv(DATA_FOLDER+\"unfin_cat_and_rest_matched.csv\").drop(columns = ['Unnamed: 0'])"
   ]
  },
  {
   "cell_type": "markdown",
   "id": "a98d98c6-0cc1-4e74-9ceb-0d94f3b30fdf",
   "metadata": {},
   "source": [
    "The number of matched paths on each of our constraints can be seen in the following table and plot:"
   ]
  },
  {
   "cell_type": "code",
   "execution_count": 287,
   "id": "4189cbdc-50a3-4a58-8cd2-71373e209373",
   "metadata": {},
   "outputs": [
    {
     "ename": "NameError",
     "evalue": "name 'src_match' is not defined",
     "output_type": "error",
     "traceback": [
      "\u001b[0;31m---------------------------------------------------------------------------\u001b[0m",
      "\u001b[0;31mNameError\u001b[0m                                 Traceback (most recent call last)",
      "Input \u001b[0;32mIn [287]\u001b[0m, in \u001b[0;36m<cell line: 1>\u001b[0;34m()\u001b[0m\n\u001b[0;32m----> 1\u001b[0m comb_source \u001b[38;5;241m=\u001b[39m \u001b[38;5;28mlen\u001b[39m(\u001b[43msrc_match\u001b[49m)\n\u001b[1;32m      2\u001b[0m comb_source_f \u001b[38;5;241m=\u001b[39m \u001b[38;5;28mlen\u001b[39m(fin_src_match)\n\u001b[1;32m      3\u001b[0m comb_source_u \u001b[38;5;241m=\u001b[39m \u001b[38;5;28mlen\u001b[39m(unfin_src_match)\n",
      "\u001b[0;31mNameError\u001b[0m: name 'src_match' is not defined"
     ]
    }
   ],
   "source": [
    "comb_source = len(src_match)\n",
    "comb_source_f = len(fin_src_match)\n",
    "comb_source_u = len(unfin_src_match)\n",
    "\n",
    "comb_shpath = len(shpath_match)\n",
    "comb_shpath_f = len(fin_shpath_match)\n",
    "comb_shpath_u = len(unfin_shpath_match)\n",
    "\n",
    "comb_category = len(cat_match)\n",
    "comb_category_f = len(fin_cat_match)\n",
    "comb_category_u = len(unfin_cat_match)\n",
    "\n",
    "d = {'combination': ['Control on source','Control on source and shortest path length', 'Control on source, shortest path length and category'], \n",
    "    'all paths': [comb_source, comb_shpath, comb_category],\n",
    "     'finished paths': [comb_source_f, comb_shpath_f, comb_category_f],\n",
    "    'unfinished paths' : [comb_source_u, comb_shpath_u, comb_category_u]}\n",
    "\n",
    "combinations = pd.DataFrame(data=d, index=['source','source and shortest path length', 'source, shortest path length and category'])"
   ]
  },
  {
   "cell_type": "code",
   "execution_count": 288,
   "id": "bd154929-a5a1-4e9a-92cf-479c2413192a",
   "metadata": {},
   "outputs": [
    {
     "ename": "NameError",
     "evalue": "name 'combinations' is not defined",
     "output_type": "error",
     "traceback": [
      "\u001b[0;31m---------------------------------------------------------------------------\u001b[0m",
      "\u001b[0;31mNameError\u001b[0m                                 Traceback (most recent call last)",
      "Input \u001b[0;32mIn [288]\u001b[0m, in \u001b[0;36m<cell line: 1>\u001b[0;34m()\u001b[0m\n\u001b[0;32m----> 1\u001b[0m \u001b[43mcombinations\u001b[49m[[\u001b[38;5;124m'\u001b[39m\u001b[38;5;124mall paths\u001b[39m\u001b[38;5;124m'\u001b[39m,\u001b[38;5;124m'\u001b[39m\u001b[38;5;124mfinished paths\u001b[39m\u001b[38;5;124m'\u001b[39m, \u001b[38;5;124m'\u001b[39m\u001b[38;5;124munfinished paths\u001b[39m\u001b[38;5;124m'\u001b[39m]]\n",
      "\u001b[0;31mNameError\u001b[0m: name 'combinations' is not defined"
     ]
    }
   ],
   "source": [
    "combinations[['all paths','finished paths', 'unfinished paths']]"
   ]
  },
  {
   "cell_type": "code",
   "execution_count": 289,
   "id": "73475142-e965-4c1f-b18f-da8bee43aa33",
   "metadata": {},
   "outputs": [
    {
     "ename": "NameError",
     "evalue": "name 'combinations' is not defined",
     "output_type": "error",
     "traceback": [
      "\u001b[0;31m---------------------------------------------------------------------------\u001b[0m",
      "\u001b[0;31mNameError\u001b[0m                                 Traceback (most recent call last)",
      "Input \u001b[0;32mIn [289]\u001b[0m, in \u001b[0;36m<cell line: 1>\u001b[0;34m()\u001b[0m\n\u001b[0;32m----> 1\u001b[0m ax \u001b[38;5;241m=\u001b[39m \u001b[43mcombinations\u001b[49m\u001b[38;5;241m.\u001b[39mplot\u001b[38;5;241m.\u001b[39mbar(rot\u001b[38;5;241m=\u001b[39m\u001b[38;5;241m10\u001b[39m, stacked \u001b[38;5;241m=\u001b[39m \u001b[38;5;28;01mFalse\u001b[39;00m, color \u001b[38;5;241m=\u001b[39m [\u001b[38;5;124m'\u001b[39m\u001b[38;5;124mtab:green\u001b[39m\u001b[38;5;124m'\u001b[39m,\u001b[38;5;124m'\u001b[39m\u001b[38;5;124mtab:red\u001b[39m\u001b[38;5;124m'\u001b[39m, \u001b[38;5;124m'\u001b[39m\u001b[38;5;124mtab:blue\u001b[39m\u001b[38;5;124m'\u001b[39m], \n\u001b[1;32m      2\u001b[0m                            title \u001b[38;5;241m=\u001b[39m \u001b[38;5;124m\"\u001b[39m\u001b[38;5;124mControl on:\u001b[39m\u001b[38;5;124m\"\u001b[39m,\n\u001b[1;32m      3\u001b[0m                            ylabel \u001b[38;5;241m=\u001b[39m \u001b[38;5;124m\"\u001b[39m\u001b[38;5;124mNumber of pairs\u001b[39m\u001b[38;5;124m\"\u001b[39m, width \u001b[38;5;241m=\u001b[39m \u001b[38;5;241m0.5\u001b[39m)\n\u001b[1;32m      4\u001b[0m plt\u001b[38;5;241m.\u001b[39mshow()\n",
      "\u001b[0;31mNameError\u001b[0m: name 'combinations' is not defined"
     ]
    }
   ],
   "source": [
    "ax = combinations.plot.bar(rot=10, stacked = False, color = ['tab:green','tab:red', 'tab:blue'], \n",
    "                           title = \"Control on:\",\n",
    "                           ylabel = \"Number of pairs\", width = 0.5)\n",
    "plt.show()"
   ]
  },
  {
   "cell_type": "markdown",
   "id": "cfcde2d0-8c59-4f3f-ba94-996ed6e6cc9d",
   "metadata": {},
   "source": [
    "#### **Controlled statistical analysis**"
   ]
  },
  {
   "cell_type": "code",
   "execution_count": 82,
   "id": "f28d4996-a921-42e2-aba7-b5004d54e440",
   "metadata": {},
   "outputs": [],
   "source": [
    "def linear_regression(column, dataframe, my_title=\"\", my_xlabel = \"\", my_ylabel = \"\"):\n",
    "    mod = smf.ols(f'{column} ~ gender', dataframe).fit()\n",
    "    print(mod.summary())\n",
    "    conf = mod.conf_int()\n",
    "    mean_female = mod.params[\"Intercept\"]\n",
    "    mean_male = mean_female + mod.params[\"gender[T.male]\"]\n",
    "    uerr_female = conf.loc[\"Intercept\"][1]-mean_female\n",
    "    lerr_female = conf.loc[\"Intercept\"][1]-mean_female\n",
    "    uerr_male =  mean_male - (mean_female + conf.loc[\"gender[T.male]\"][0])\n",
    "    lerr_male =  mean_male- (mean_female + conf.loc[\"gender[T.male]\"][0])\n",
    "    error = np.array([[lerr_female, lerr_male], [uerr_female, uerr_male]])\n",
    "\n",
    "    # Create lists for the plot\n",
    "    genders = ['female', 'male']\n",
    "    x_pos = np.arange(len(genders))\n",
    "    medians = [mean_female, mean_male]\n",
    "\n",
    "    fig, ax = plt.subplots()\n",
    "    ax.bar(x_pos, medians, yerr=error, align='center', alpha=0.5, ecolor='black', capsize=10)\n",
    "    ax.set_ylabel(my_ylabel)\n",
    "    ax.set_xticks(x_pos)\n",
    "    ax.set_xticklabels(genders)\n",
    "    ax.set_title(my_title)\n",
    "    ax.yaxis.grid(True)\n",
    "\n",
    "\n",
    "    at = AnchoredText(f\"pairs = {int(dataframe[column].size/2)}\", loc='lower right', prop=dict(size=8), frameon=True,\n",
    "                       bbox_to_anchor=(0., 1.),\n",
    "                       bbox_transform=ax.transAxes)\n",
    "    at.patch.set_boxstyle(\"round,pad=0.,rounding_size=0.2\")\n",
    "    ax.add_artist(at)\n",
    "\n",
    "    # Save the figure and show\n",
    "    # plt.tight_layout()\n",
    "    plt.show()"
   ]
  },
  {
   "cell_type": "code",
   "execution_count": 83,
   "id": "a1b674c5-2fd0-4778-a452-dd1628ae887a",
   "metadata": {},
   "outputs": [],
   "source": [
    "def quantile_regression(column, dataframe, my_title=\"\", my_xlabel = \"\", my_ylabel = \"\"):\n",
    "    mod = smf.quantreg(f'{column} ~ gender', dataframe).fit(q=0.5)\n",
    "    print(mod.summary())\n",
    "    conf = mod.conf_int()\n",
    "    median_female = mod.params[\"Intercept\"]\n",
    "    median_male = median_female + mod.params[\"gender[T.male]\"]\n",
    "    uerr_female = conf.loc[\"Intercept\"][1]-median_female\n",
    "    lerr_female = conf.loc[\"Intercept\"][1]-median_female\n",
    "    uerr_male =  median_male - (median_female + conf.loc[\"gender[T.male]\"][0])\n",
    "    lerr_male =  median_male- (median_female + conf.loc[\"gender[T.male]\"][0])\n",
    "    error = np.array([[lerr_female, lerr_male], [uerr_female, uerr_male]])\n",
    "\n",
    "    # Create lists for the plot\n",
    "    genders = ['female', 'male']\n",
    "    x_pos = np.arange(len(genders))\n",
    "    medians = [median_female, median_male]\n",
    "\n",
    "    fig, ax = plt.subplots()\n",
    "    ax.bar(x_pos, medians, yerr=error, align='center', alpha=0.5, ecolor='black', capsize=10)\n",
    "    ax.set_ylabel(my_ylabel)\n",
    "    ax.set_xticks(x_pos)\n",
    "    ax.set_xticklabels(genders)\n",
    "    ax.set_title(my_title)\n",
    "    ax.yaxis.grid(True)\n",
    "\n",
    "\n",
    "    at = AnchoredText(f\"pairs = {int(dataframe[column].size/2)}\", loc='lower right', prop=dict(size=8), frameon=True,\n",
    "                       bbox_to_anchor=(0., 1.),\n",
    "                       bbox_transform=ax.transAxes)\n",
    "    at.patch.set_boxstyle(\"round,pad=0.,rounding_size=0.2\")\n",
    "    ax.add_artist(at)\n",
    "\n",
    "    # Save the figure and show\n",
    "    # plt.tight_layout()\n",
    "    plt.show()"
   ]
  },
  {
   "cell_type": "code",
   "execution_count": 84,
   "id": "551ae7b2-a3fc-4838-949f-240cbbc999e4",
   "metadata": {},
   "outputs": [],
   "source": [
    "# calculate success_rate for targets in their matching groups\n",
    "\n",
    "def add_success_rate(df): \n",
    "    df = df.drop(columns = [\"name\"])\n",
    "    fin = df[df['finished'] == True][\"target\"].value_counts().reindex(df.target.unique(), fill_value=0)\n",
    "    tot = df[\"target\"].value_counts()\n",
    "    success_rate = fin/tot\n",
    "    success_rate = success_rate.rename(\"success_rate\")\n",
    "    df = df.merge(success_rate, how=\"left\", left_on=\"target\", right_index=True)\n",
    "    # df[\"log_succ_rate\"] = np.log(df[\"success_rate\"])\n",
    "    df[\"log_playtime\"] = np.log(df[\"playtime\"])\n",
    "    return df"
   ]
  },
  {
   "cell_type": "code",
   "execution_count": 85,
   "id": "887b0880-6a96-4e3a-a8d7-f2a339f3fb62",
   "metadata": {},
   "outputs": [],
   "source": [
    "#src_match = add_success_rate(src_match)\n",
    "#shpath_match = add_success_rate(shpath_match)\n",
    "#cat_match = add_success_rate(cat_match)\n",
    "\n",
    "#fin_src_match = add_success_rate(fin_src_match)\n",
    "#fin_shpath_match = add_success_rate(fin_shpath_match)\n",
    "#fin_cat_match = add_success_rate(fin_cat_match)\n",
    "\n",
    "#unfin_src_match = add_success_rate(unfin_src_match)\n",
    "#unfin_shpath_match = add_success_rate(unfin_shpath_match)\n",
    "#unfin_cat_match = add_success_rate(unfin_cat_match)"
   ]
  },
  {
   "cell_type": "markdown",
   "id": "72e7ba94-547f-40bf-baec-5214b1f92544",
   "metadata": {},
   "source": [
    "### **(1): Match on source**"
   ]
  },
  {
   "cell_type": "markdown",
   "id": "de340f85-2bd3-4af2-83a9-7de89eb1ed2a",
   "metadata": {},
   "source": [
    "| **Name of dataframe**      | **Matched paths and constraint parameters**                                                     |\n",
    "|----------------------|---------------------------------------------------------------------|\n",
    "| src_match               | All paths: (1)                                   |\n",
    "| fin_src_match    | Finished paths: (1) |\n",
    "| unfin_src_match    | Unfinished paths: (1) |"
   ]
  },
  {
   "cell_type": "code",
   "execution_count": 86,
   "id": "f8965300-2aaa-40f3-9803-d6fd8092f7be",
   "metadata": {},
   "outputs": [
    {
     "data": {
      "text/html": [
       "<style type=\"text/css\">\n",
       "#T_b3a9a_row0_col0, #T_b3a9a_row1_col1, #T_b3a9a_row2_col2, #T_b3a9a_row3_col3, #T_b3a9a_row4_col4, #T_b3a9a_row5_col5, #T_b3a9a_row6_col6, #T_b3a9a_row7_col7, #T_b3a9a_row8_col8, #T_b3a9a_row9_col9 {\n",
       "  background-color: #b40426;\n",
       "  color: #f1f1f1;\n",
       "}\n",
       "#T_b3a9a_row0_col1, #T_b3a9a_row0_col3 {\n",
       "  background-color: #4f69d9;\n",
       "  color: #f1f1f1;\n",
       "}\n",
       "#T_b3a9a_row0_col2, #T_b3a9a_row8_col4 {\n",
       "  background-color: #445acc;\n",
       "  color: #f1f1f1;\n",
       "}\n",
       "#T_b3a9a_row0_col4, #T_b3a9a_row0_col7, #T_b3a9a_row0_col9, #T_b3a9a_row4_col0, #T_b3a9a_row4_col8, #T_b3a9a_row8_col1, #T_b3a9a_row8_col2, #T_b3a9a_row8_col3, #T_b3a9a_row8_col5, #T_b3a9a_row8_col6, #T_b3a9a_row9_col8 {\n",
       "  background-color: #3b4cc0;\n",
       "  color: #f1f1f1;\n",
       "}\n",
       "#T_b3a9a_row0_col5, #T_b3a9a_row5_col0 {\n",
       "  background-color: #000000;\n",
       "  color: #f1f1f1;\n",
       "}\n",
       "#T_b3a9a_row0_col6 {\n",
       "  background-color: #4961d2;\n",
       "  color: #f1f1f1;\n",
       "}\n",
       "#T_b3a9a_row0_col8 {\n",
       "  background-color: #e16751;\n",
       "  color: #f1f1f1;\n",
       "}\n",
       "#T_b3a9a_row1_col0 {\n",
       "  background-color: #93b5fe;\n",
       "  color: #000000;\n",
       "}\n",
       "#T_b3a9a_row1_col2 {\n",
       "  background-color: #c7d7f0;\n",
       "  color: #000000;\n",
       "}\n",
       "#T_b3a9a_row1_col3 {\n",
       "  background-color: #b70d28;\n",
       "  color: #f1f1f1;\n",
       "}\n",
       "#T_b3a9a_row1_col4 {\n",
       "  background-color: #e9d5cb;\n",
       "  color: #000000;\n",
       "}\n",
       "#T_b3a9a_row1_col5 {\n",
       "  background-color: #edd1c2;\n",
       "  color: #000000;\n",
       "}\n",
       "#T_b3a9a_row1_col6 {\n",
       "  background-color: #e46e56;\n",
       "  color: #f1f1f1;\n",
       "}\n",
       "#T_b3a9a_row1_col7, #T_b3a9a_row3_col2 {\n",
       "  background-color: #a7c5fe;\n",
       "  color: #000000;\n",
       "}\n",
       "#T_b3a9a_row1_col8 {\n",
       "  background-color: #779af7;\n",
       "  color: #f1f1f1;\n",
       "}\n",
       "#T_b3a9a_row1_col9 {\n",
       "  background-color: #f4c6af;\n",
       "  color: #000000;\n",
       "}\n",
       "#T_b3a9a_row2_col0 {\n",
       "  background-color: #5e7de7;\n",
       "  color: #f1f1f1;\n",
       "}\n",
       "#T_b3a9a_row2_col1 {\n",
       "  background-color: #a9c6fd;\n",
       "  color: #000000;\n",
       "}\n",
       "#T_b3a9a_row2_col3 {\n",
       "  background-color: #7699f6;\n",
       "  color: #f1f1f1;\n",
       "}\n",
       "#T_b3a9a_row2_col4 {\n",
       "  background-color: #d9dce1;\n",
       "  color: #000000;\n",
       "}\n",
       "#T_b3a9a_row2_col5 {\n",
       "  background-color: #bbd1f8;\n",
       "  color: #000000;\n",
       "}\n",
       "#T_b3a9a_row2_col6 {\n",
       "  background-color: #688aef;\n",
       "  color: #f1f1f1;\n",
       "}\n",
       "#T_b3a9a_row2_col7 {\n",
       "  background-color: #b5cdfa;\n",
       "  color: #000000;\n",
       "}\n",
       "#T_b3a9a_row2_col8 {\n",
       "  background-color: #4b64d5;\n",
       "  color: #f1f1f1;\n",
       "}\n",
       "#T_b3a9a_row2_col9 {\n",
       "  background-color: #f2c9b4;\n",
       "  color: #000000;\n",
       "}\n",
       "#T_b3a9a_row3_col0 {\n",
       "  background-color: #9dbdff;\n",
       "  color: #000000;\n",
       "}\n",
       "#T_b3a9a_row3_col1 {\n",
       "  background-color: #b50927;\n",
       "  color: #f1f1f1;\n",
       "}\n",
       "#T_b3a9a_row3_col4 {\n",
       "  background-color: #e5d8d1;\n",
       "  color: #000000;\n",
       "}\n",
       "#T_b3a9a_row3_col5 {\n",
       "  background-color: #ead4c8;\n",
       "  color: #000000;\n",
       "}\n",
       "#T_b3a9a_row3_col6, #T_b3a9a_row6_col1 {\n",
       "  background-color: #e36b54;\n",
       "  color: #f1f1f1;\n",
       "}\n",
       "#T_b3a9a_row3_col7 {\n",
       "  background-color: #a3c2fe;\n",
       "  color: #000000;\n",
       "}\n",
       "#T_b3a9a_row3_col8 {\n",
       "  background-color: #82a6fb;\n",
       "  color: #f1f1f1;\n",
       "}\n",
       "#T_b3a9a_row3_col9 {\n",
       "  background-color: #efcebd;\n",
       "  color: #000000;\n",
       "}\n",
       "#T_b3a9a_row4_col1 {\n",
       "  background-color: #c9d7f0;\n",
       "  color: #000000;\n",
       "}\n",
       "#T_b3a9a_row4_col2 {\n",
       "  background-color: #cbd8ee;\n",
       "  color: #000000;\n",
       "}\n",
       "#T_b3a9a_row4_col3 {\n",
       "  background-color: #bad0f8;\n",
       "  color: #000000;\n",
       "}\n",
       "#T_b3a9a_row4_col5, #T_b3a9a_row5_col3, #T_b3a9a_row6_col9 {\n",
       "  background-color: #e4d9d2;\n",
       "  color: #000000;\n",
       "}\n",
       "#T_b3a9a_row4_col6 {\n",
       "  background-color: #bcd2f7;\n",
       "  color: #000000;\n",
       "}\n",
       "#T_b3a9a_row4_col7, #T_b3a9a_row9_col7 {\n",
       "  background-color: #cdd9ec;\n",
       "  color: #000000;\n",
       "}\n",
       "#T_b3a9a_row4_col9, #T_b3a9a_row9_col4 {\n",
       "  background-color: #dc5d4a;\n",
       "  color: #f1f1f1;\n",
       "}\n",
       "#T_b3a9a_row5_col1 {\n",
       "  background-color: #ecd3c5;\n",
       "  color: #000000;\n",
       "}\n",
       "#T_b3a9a_row5_col2 {\n",
       "  background-color: #d2dbe8;\n",
       "  color: #000000;\n",
       "}\n",
       "#T_b3a9a_row5_col4 {\n",
       "  background-color: #f4c5ad;\n",
       "  color: #000000;\n",
       "}\n",
       "#T_b3a9a_row5_col6, #T_b3a9a_row9_col3 {\n",
       "  background-color: #d1dae9;\n",
       "  color: #000000;\n",
       "}\n",
       "#T_b3a9a_row5_col7 {\n",
       "  background-color: #8caffe;\n",
       "  color: #000000;\n",
       "}\n",
       "#T_b3a9a_row5_col8 {\n",
       "  background-color: #7093f3;\n",
       "  color: #f1f1f1;\n",
       "}\n",
       "#T_b3a9a_row5_col9 {\n",
       "  background-color: #f7a688;\n",
       "  color: #000000;\n",
       "}\n",
       "#T_b3a9a_row6_col0 {\n",
       "  background-color: #9abbff;\n",
       "  color: #000000;\n",
       "}\n",
       "#T_b3a9a_row6_col2, #T_b3a9a_row6_col7 {\n",
       "  background-color: #9fbfff;\n",
       "  color: #000000;\n",
       "}\n",
       "#T_b3a9a_row6_col3 {\n",
       "  background-color: #e26952;\n",
       "  color: #f1f1f1;\n",
       "}\n",
       "#T_b3a9a_row6_col4 {\n",
       "  background-color: #e7d7ce;\n",
       "  color: #000000;\n",
       "}\n",
       "#T_b3a9a_row6_col5 {\n",
       "  background-color: #dbdcde;\n",
       "  color: #000000;\n",
       "}\n",
       "#T_b3a9a_row6_col8 {\n",
       "  background-color: #85a8fc;\n",
       "  color: #f1f1f1;\n",
       "}\n",
       "#T_b3a9a_row7_col0 {\n",
       "  background-color: #516ddb;\n",
       "  color: #f1f1f1;\n",
       "}\n",
       "#T_b3a9a_row7_col1 {\n",
       "  background-color: #7ea1fa;\n",
       "  color: #f1f1f1;\n",
       "}\n",
       "#T_b3a9a_row7_col2 {\n",
       "  background-color: #b3cdfb;\n",
       "  color: #000000;\n",
       "}\n",
       "#T_b3a9a_row7_col3 {\n",
       "  background-color: #6e90f2;\n",
       "  color: #f1f1f1;\n",
       "}\n",
       "#T_b3a9a_row7_col4, #T_b3a9a_row7_col9 {\n",
       "  background-color: #d8dce2;\n",
       "  color: #000000;\n",
       "}\n",
       "#T_b3a9a_row7_col5 {\n",
       "  background-color: #6485ec;\n",
       "  color: #f1f1f1;\n",
       "}\n",
       "#T_b3a9a_row7_col6 {\n",
       "  background-color: #6687ed;\n",
       "  color: #f1f1f1;\n",
       "}\n",
       "#T_b3a9a_row7_col8 {\n",
       "  background-color: #4c66d6;\n",
       "  color: #f1f1f1;\n",
       "}\n",
       "#T_b3a9a_row8_col0 {\n",
       "  background-color: #e0654f;\n",
       "  color: #f1f1f1;\n",
       "}\n",
       "#T_b3a9a_row8_col7 {\n",
       "  background-color: #3e51c5;\n",
       "  color: #f1f1f1;\n",
       "}\n",
       "#T_b3a9a_row8_col9 {\n",
       "  background-color: #3f53c6;\n",
       "  color: #f1f1f1;\n",
       "}\n",
       "#T_b3a9a_row9_col0 {\n",
       "  background-color: #3d50c3;\n",
       "  color: #f1f1f1;\n",
       "}\n",
       "#T_b3a9a_row9_col1 {\n",
       "  background-color: #e1dad6;\n",
       "  color: #000000;\n",
       "}\n",
       "#T_b3a9a_row9_col2 {\n",
       "  background-color: #eed0c0;\n",
       "  color: #000000;\n",
       "}\n",
       "#T_b3a9a_row9_col5 {\n",
       "  background-color: #f6bda2;\n",
       "  color: #000000;\n",
       "}\n",
       "#T_b3a9a_row9_col6 {\n",
       "  background-color: #b9d0f9;\n",
       "  color: #000000;\n",
       "}\n",
       "</style>\n",
       "<table id=\"T_b3a9a\">\n",
       "  <thead>\n",
       "    <tr>\n",
       "      <th class=\"blank level0\" >&nbsp;</th>\n",
       "      <th id=\"T_b3a9a_level0_col0\" class=\"col_heading level0 col0\" >finished</th>\n",
       "      <th id=\"T_b3a9a_level0_col1\" class=\"col_heading level0 col1\" >human_path_length</th>\n",
       "      <th id=\"T_b3a9a_level0_col2\" class=\"col_heading level0 col2\" >shortest_path_length</th>\n",
       "      <th id=\"T_b3a9a_level0_col3\" class=\"col_heading level0 col3\" >path_deviation</th>\n",
       "      <th id=\"T_b3a9a_level0_col4\" class=\"col_heading level0 col4\" >playtime</th>\n",
       "      <th id=\"T_b3a9a_level0_col5\" class=\"col_heading level0 col5\" >difficulty_rating</th>\n",
       "      <th id=\"T_b3a9a_level0_col6\" class=\"col_heading level0 col6\" >number_backclicks</th>\n",
       "      <th id=\"T_b3a9a_level0_col7\" class=\"col_heading level0 col7\" >timestamp</th>\n",
       "      <th id=\"T_b3a9a_level0_col8\" class=\"col_heading level0 col8\" >success_rate</th>\n",
       "      <th id=\"T_b3a9a_level0_col9\" class=\"col_heading level0 col9\" >log_playtime</th>\n",
       "    </tr>\n",
       "  </thead>\n",
       "  <tbody>\n",
       "    <tr>\n",
       "      <th id=\"T_b3a9a_level0_row0\" class=\"row_heading level0 row0\" >finished</th>\n",
       "      <td id=\"T_b3a9a_row0_col0\" class=\"data row0 col0\" >1.000000</td>\n",
       "      <td id=\"T_b3a9a_row0_col1\" class=\"data row0 col1\" >-0.085436</td>\n",
       "      <td id=\"T_b3a9a_row0_col2\" class=\"data row0 col2\" >-0.311620</td>\n",
       "      <td id=\"T_b3a9a_row0_col3\" class=\"data row0 col3\" >-0.044565</td>\n",
       "      <td id=\"T_b3a9a_row0_col4\" class=\"data row0 col4\" >-0.480346</td>\n",
       "      <td id=\"T_b3a9a_row0_col5\" class=\"data row0 col5\" >nan</td>\n",
       "      <td id=\"T_b3a9a_row0_col6\" class=\"data row0 col6\" >-0.053893</td>\n",
       "      <td id=\"T_b3a9a_row0_col7\" class=\"data row0 col7\" >-0.369186</td>\n",
       "      <td id=\"T_b3a9a_row0_col8\" class=\"data row0 col8\" >0.802535</td>\n",
       "      <td id=\"T_b3a9a_row0_col9\" class=\"data row0 col9\" >-0.463732</td>\n",
       "    </tr>\n",
       "    <tr>\n",
       "      <th id=\"T_b3a9a_level0_row1\" class=\"row_heading level0 row1\" >human_path_length</th>\n",
       "      <td id=\"T_b3a9a_row1_col0\" class=\"data row1 col0\" >-0.085436</td>\n",
       "      <td id=\"T_b3a9a_row1_col1\" class=\"data row1 col1\" >1.000000</td>\n",
       "      <td id=\"T_b3a9a_row1_col2\" class=\"data row1 col2\" >0.220604</td>\n",
       "      <td id=\"T_b3a9a_row1_col3\" class=\"data row1 col3\" >0.991034</td>\n",
       "      <td id=\"T_b3a9a_row1_col4\" class=\"data row1 col4\" >0.333947</td>\n",
       "      <td id=\"T_b3a9a_row1_col5\" class=\"data row1 col5\" >0.493157</td>\n",
       "      <td id=\"T_b3a9a_row1_col6\" class=\"data row1 col6\" >0.828877</td>\n",
       "      <td id=\"T_b3a9a_row1_col7\" class=\"data row1 col7\" >0.079253</td>\n",
       "      <td id=\"T_b3a9a_row1_col8\" class=\"data row1 col8\" >-0.164619</td>\n",
       "      <td id=\"T_b3a9a_row1_col9\" class=\"data row1 col9\" >0.440335</td>\n",
       "    </tr>\n",
       "    <tr>\n",
       "      <th id=\"T_b3a9a_level0_row2\" class=\"row_heading level0 row2\" >shortest_path_length</th>\n",
       "      <td id=\"T_b3a9a_row2_col0\" class=\"data row2 col0\" >-0.311620</td>\n",
       "      <td id=\"T_b3a9a_row2_col1\" class=\"data row2 col1\" >0.220604</td>\n",
       "      <td id=\"T_b3a9a_row2_col2\" class=\"data row2 col2\" >1.000000</td>\n",
       "      <td id=\"T_b3a9a_row2_col3\" class=\"data row2 col3\" >0.088308</td>\n",
       "      <td id=\"T_b3a9a_row2_col4\" class=\"data row2 col4\" >0.237789</td>\n",
       "      <td id=\"T_b3a9a_row2_col5\" class=\"data row2 col5\" >0.267289</td>\n",
       "      <td id=\"T_b3a9a_row2_col6\" class=\"data row2 col6\" >0.053281</td>\n",
       "      <td id=\"T_b3a9a_row2_col7\" class=\"data row2 col7\" >0.133095</td>\n",
       "      <td id=\"T_b3a9a_row2_col8\" class=\"data row2 col8\" >-0.354758</td>\n",
       "      <td id=\"T_b3a9a_row2_col9\" class=\"data row2 col9\" >0.426330</td>\n",
       "    </tr>\n",
       "    <tr>\n",
       "      <th id=\"T_b3a9a_level0_row3\" class=\"row_heading level0 row3\" >path_deviation</th>\n",
       "      <td id=\"T_b3a9a_row3_col0\" class=\"data row3 col0\" >-0.044565</td>\n",
       "      <td id=\"T_b3a9a_row3_col1\" class=\"data row3 col1\" >0.991034</td>\n",
       "      <td id=\"T_b3a9a_row3_col2\" class=\"data row3 col2\" >0.088308</td>\n",
       "      <td id=\"T_b3a9a_row3_col3\" class=\"data row3 col3\" >1.000000</td>\n",
       "      <td id=\"T_b3a9a_row3_col4\" class=\"data row3 col4\" >0.308471</td>\n",
       "      <td id=\"T_b3a9a_row3_col5\" class=\"data row3 col5\" >0.471322</td>\n",
       "      <td id=\"T_b3a9a_row3_col6\" class=\"data row3 col6\" >0.839194</td>\n",
       "      <td id=\"T_b3a9a_row3_col7\" class=\"data row3 col7\" >0.062705</td>\n",
       "      <td id=\"T_b3a9a_row3_col8\" class=\"data row3 col8\" >-0.119522</td>\n",
       "      <td id=\"T_b3a9a_row3_col9\" class=\"data row3 col9\" >0.391293</td>\n",
       "    </tr>\n",
       "    <tr>\n",
       "      <th id=\"T_b3a9a_level0_row4\" class=\"row_heading level0 row4\" >playtime</th>\n",
       "      <td id=\"T_b3a9a_row4_col0\" class=\"data row4 col0\" >-0.480346</td>\n",
       "      <td id=\"T_b3a9a_row4_col1\" class=\"data row4 col1\" >0.333947</td>\n",
       "      <td id=\"T_b3a9a_row4_col2\" class=\"data row4 col2\" >0.237789</td>\n",
       "      <td id=\"T_b3a9a_row4_col3\" class=\"data row4 col3\" >0.308471</td>\n",
       "      <td id=\"T_b3a9a_row4_col4\" class=\"data row4 col4\" >1.000000</td>\n",
       "      <td id=\"T_b3a9a_row4_col5\" class=\"data row4 col5\" >0.441637</td>\n",
       "      <td id=\"T_b3a9a_row4_col6\" class=\"data row4 col6\" >0.321197</td>\n",
       "      <td id=\"T_b3a9a_row4_col7\" class=\"data row4 col7\" >0.236073</td>\n",
       "      <td id=\"T_b3a9a_row4_col8\" class=\"data row4 col8\" >-0.430526</td>\n",
       "      <td id=\"T_b3a9a_row4_col9\" class=\"data row4 col9\" >0.823413</td>\n",
       "    </tr>\n",
       "    <tr>\n",
       "      <th id=\"T_b3a9a_level0_row5\" class=\"row_heading level0 row5\" >difficulty_rating</th>\n",
       "      <td id=\"T_b3a9a_row5_col0\" class=\"data row5 col0\" >nan</td>\n",
       "      <td id=\"T_b3a9a_row5_col1\" class=\"data row5 col1\" >0.493157</td>\n",
       "      <td id=\"T_b3a9a_row5_col2\" class=\"data row5 col2\" >0.267289</td>\n",
       "      <td id=\"T_b3a9a_row5_col3\" class=\"data row5 col3\" >0.471322</td>\n",
       "      <td id=\"T_b3a9a_row5_col4\" class=\"data row5 col4\" >0.441637</td>\n",
       "      <td id=\"T_b3a9a_row5_col5\" class=\"data row5 col5\" >1.000000</td>\n",
       "      <td id=\"T_b3a9a_row5_col6\" class=\"data row5 col6\" >0.396423</td>\n",
       "      <td id=\"T_b3a9a_row5_col7\" class=\"data row5 col7\" >-0.028897</td>\n",
       "      <td id=\"T_b3a9a_row5_col8\" class=\"data row5 col8\" >-0.189026</td>\n",
       "      <td id=\"T_b3a9a_row5_col9\" class=\"data row5 col9\" >0.584274</td>\n",
       "    </tr>\n",
       "    <tr>\n",
       "      <th id=\"T_b3a9a_level0_row6\" class=\"row_heading level0 row6\" >number_backclicks</th>\n",
       "      <td id=\"T_b3a9a_row6_col0\" class=\"data row6 col0\" >-0.053893</td>\n",
       "      <td id=\"T_b3a9a_row6_col1\" class=\"data row6 col1\" >0.828877</td>\n",
       "      <td id=\"T_b3a9a_row6_col2\" class=\"data row6 col2\" >0.053281</td>\n",
       "      <td id=\"T_b3a9a_row6_col3\" class=\"data row6 col3\" >0.839194</td>\n",
       "      <td id=\"T_b3a9a_row6_col4\" class=\"data row6 col4\" >0.321197</td>\n",
       "      <td id=\"T_b3a9a_row6_col5\" class=\"data row6 col5\" >0.396423</td>\n",
       "      <td id=\"T_b3a9a_row6_col6\" class=\"data row6 col6\" >1.000000</td>\n",
       "      <td id=\"T_b3a9a_row6_col7\" class=\"data row6 col7\" >0.046308</td>\n",
       "      <td id=\"T_b3a9a_row6_col8\" class=\"data row6 col8\" >-0.107335</td>\n",
       "      <td id=\"T_b3a9a_row6_col9\" class=\"data row6 col9\" >0.309592</td>\n",
       "    </tr>\n",
       "    <tr>\n",
       "      <th id=\"T_b3a9a_level0_row7\" class=\"row_heading level0 row7\" >timestamp</th>\n",
       "      <td id=\"T_b3a9a_row7_col0\" class=\"data row7 col0\" >-0.369186</td>\n",
       "      <td id=\"T_b3a9a_row7_col1\" class=\"data row7 col1\" >0.079253</td>\n",
       "      <td id=\"T_b3a9a_row7_col2\" class=\"data row7 col2\" >0.133095</td>\n",
       "      <td id=\"T_b3a9a_row7_col3\" class=\"data row7 col3\" >0.062705</td>\n",
       "      <td id=\"T_b3a9a_row7_col4\" class=\"data row7 col4\" >0.236073</td>\n",
       "      <td id=\"T_b3a9a_row7_col5\" class=\"data row7 col5\" >-0.028897</td>\n",
       "      <td id=\"T_b3a9a_row7_col6\" class=\"data row7 col6\" >0.046308</td>\n",
       "      <td id=\"T_b3a9a_row7_col7\" class=\"data row7 col7\" >1.000000</td>\n",
       "      <td id=\"T_b3a9a_row7_col8\" class=\"data row7 col8\" >-0.349463</td>\n",
       "      <td id=\"T_b3a9a_row7_col9\" class=\"data row7 col9\" >0.240513</td>\n",
       "    </tr>\n",
       "    <tr>\n",
       "      <th id=\"T_b3a9a_level0_row8\" class=\"row_heading level0 row8\" >success_rate</th>\n",
       "      <td id=\"T_b3a9a_row8_col0\" class=\"data row8 col0\" >0.802535</td>\n",
       "      <td id=\"T_b3a9a_row8_col1\" class=\"data row8 col1\" >-0.164619</td>\n",
       "      <td id=\"T_b3a9a_row8_col2\" class=\"data row8 col2\" >-0.354758</td>\n",
       "      <td id=\"T_b3a9a_row8_col3\" class=\"data row8 col3\" >-0.119522</td>\n",
       "      <td id=\"T_b3a9a_row8_col4\" class=\"data row8 col4\" >-0.430526</td>\n",
       "      <td id=\"T_b3a9a_row8_col5\" class=\"data row8 col5\" >-0.189026</td>\n",
       "      <td id=\"T_b3a9a_row8_col6\" class=\"data row8 col6\" >-0.107335</td>\n",
       "      <td id=\"T_b3a9a_row8_col7\" class=\"data row8 col7\" >-0.349463</td>\n",
       "      <td id=\"T_b3a9a_row8_col8\" class=\"data row8 col8\" >1.000000</td>\n",
       "      <td id=\"T_b3a9a_row8_col9\" class=\"data row8 col9\" >-0.435218</td>\n",
       "    </tr>\n",
       "    <tr>\n",
       "      <th id=\"T_b3a9a_level0_row9\" class=\"row_heading level0 row9\" >log_playtime</th>\n",
       "      <td id=\"T_b3a9a_row9_col0\" class=\"data row9 col0\" >-0.463732</td>\n",
       "      <td id=\"T_b3a9a_row9_col1\" class=\"data row9 col1\" >0.440335</td>\n",
       "      <td id=\"T_b3a9a_row9_col2\" class=\"data row9 col2\" >0.426330</td>\n",
       "      <td id=\"T_b3a9a_row9_col3\" class=\"data row9 col3\" >0.391293</td>\n",
       "      <td id=\"T_b3a9a_row9_col4\" class=\"data row9 col4\" >0.823413</td>\n",
       "      <td id=\"T_b3a9a_row9_col5\" class=\"data row9 col5\" >0.584274</td>\n",
       "      <td id=\"T_b3a9a_row9_col6\" class=\"data row9 col6\" >0.309592</td>\n",
       "      <td id=\"T_b3a9a_row9_col7\" class=\"data row9 col7\" >0.240513</td>\n",
       "      <td id=\"T_b3a9a_row9_col8\" class=\"data row9 col8\" >-0.435218</td>\n",
       "      <td id=\"T_b3a9a_row9_col9\" class=\"data row9 col9\" >1.000000</td>\n",
       "    </tr>\n",
       "  </tbody>\n",
       "</table>\n"
      ],
      "text/plain": [
       "<pandas.io.formats.style.Styler at 0x7fa805f3d130>"
      ]
     },
     "execution_count": 86,
     "metadata": {},
     "output_type": "execute_result"
    }
   ],
   "source": [
    "corr = src_match.corr()\n",
    "corr.style.background_gradient(cmap='coolwarm')"
   ]
  },
  {
   "cell_type": "markdown",
   "id": "6f7128f3-536a-4cf0-b9bb-6234ff33875f",
   "metadata": {},
   "source": [
    "Noticed correlations on `src_match`\n",
    "- success_rate ~ finished: 0.8\n",
    "- number_backclicks ~ path_deviation & human_path_length: 0.8\n",
    "- human_path_length ~ path_deviation: 0.99\n",
    "- playtime ~ difficulty_rating: 0.45"
   ]
  },
  {
   "cell_type": "markdown",
   "id": "b88a28f7-b4c3-4449-a395-1529489a633f",
   "metadata": {},
   "source": [
    "#### **Success rate**"
   ]
  },
  {
   "cell_type": "code",
   "execution_count": 88,
   "id": "a58668c0-c7dd-4062-a070-570ab3598b05",
   "metadata": {},
   "outputs": [
    {
     "name": "stdout",
     "output_type": "stream",
     "text": [
      "female: Geometric mean: 0.46389137024421123\n",
      "female: 95% confidence interval of the geometric mean of success_rate: [0.416, 0.512]\n",
      "male: Geometric mean: 0.921146744896489\n",
      "male: 95% confidence interval of the geometric mean of success_rate: [0.894, 0.943]\n"
     ]
    }
   ],
   "source": [
    "# ALL PATHS matched\n",
    "bootstrap_metric(\"success_rate\", src_match, \"female\")\n",
    "\n",
    "bootstrap_metric(\"success_rate\", src_match, \"male\")"
   ]
  },
  {
   "cell_type": "code",
   "execution_count": 89,
   "id": "98c33a08-a2ea-4fb1-9a6f-a22cf284946f",
   "metadata": {},
   "outputs": [
    {
     "data": {
      "image/png": "[encoded data removed]",
      "text/plain": [
       "<Figure size 640x480 with 1 Axes>"
      ]
     },
     "metadata": {},
     "output_type": "display_data"
    }
   ],
   "source": [
    "male = src_match[src_match[\"gender\"]== \"male\"][\"success_rate\"]\n",
    "# plot the histogram\n",
    "plt.hist(male, color = 'skyblue', edgecolor = 'black', linewidth = 0.5, alpha=0.8)\n",
    "plt.xlabel(\"Success rate for male articles\")\n",
    "plt.ylabel(\"Number of male articles\")\n",
    "plt.title(\"(1): distribution of success_rate\")\n",
    "plt.show()"
   ]
  },
  {
   "cell_type": "code",
   "execution_count": 90,
   "id": "a77f0396-eba9-44ab-90f2-068615fd910e",
   "metadata": {},
   "outputs": [
    {
     "data": {
      "image/png": "[encoded data removed]",
      "text/plain": [
       "<Figure size 640x480 with 1 Axes>"
      ]
     },
     "metadata": {},
     "output_type": "display_data"
    }
   ],
   "source": [
    "female = src_match[src_match[\"gender\"]== \"female\"][\"success_rate\"]\n",
    "# plot the histogram\n",
    "plt.hist(female, color = 'hotpink', edgecolor = 'black', linewidth = 0.5, alpha=0.8)\n",
    "plt.xlabel(\"Success rate for female articles\")\n",
    "plt.ylabel(\"Number of female articles\")\n",
    "plt.title(\"(1): Distribution of success_rate\")\n",
    "plt.show()"
   ]
  },
  {
   "cell_type": "code",
   "execution_count": 91,
   "id": "d6fd026c-b2c5-4b77-a334-dfe62cfebffe",
   "metadata": {},
   "outputs": [
    {
     "data": {
      "image/png": "[encoded data removed]",
      "text/plain": [
       "<Figure size 640x480 with 1 Axes>"
      ]
     },
     "metadata": {},
     "output_type": "display_data"
    }
   ],
   "source": [
    "# plot the histogram\n",
    "plt.hist(src_match[\"success_rate\"], color = 'tab:blue', edgecolor = 'black', linewidth = 0.5, alpha=0.8)\n",
    "plt.xlabel(\"Success rate for all articles\")\n",
    "plt.ylabel(\"Number of articles\")\n",
    "plt.title(\"(1): Distribution of success_rate\")\n",
    "plt.show()"
   ]
  },
  {
   "cell_type": "markdown",
   "id": "f10047ff-9cdf-4849-9c03-c339fa13e064",
   "metadata": {},
   "source": [
    "#### **Playtime**"
   ]
  },
  {
   "cell_type": "code",
   "execution_count": 92,
   "id": "04ed96f5-30f3-483e-8235-91e6fc9564bd",
   "metadata": {},
   "outputs": [
    {
     "name": "stdout",
     "output_type": "stream",
     "text": [
      "female: Geometric mean: 140.53973082626973\n",
      "female: 95% confidence interval of the geometric mean of playtime: [121.652, 162.003]\n",
      "male: Geometric mean: 92.50686134800306\n",
      "male: 95% confidence interval of the geometric mean of playtime: [80.055, 106.485]\n"
     ]
    }
   ],
   "source": [
    "# FINISHED PATHS matched\n",
    "bootstrap_metric(\"playtime\", fin_src_match, \"female\")\n",
    "\n",
    "bootstrap_metric(\"playtime\", fin_src_match, \"male\")"
   ]
  },
  {
   "cell_type": "markdown",
   "id": "dd8ebbeb-bca1-4057-847a-b7fe8b736311",
   "metadata": {},
   "source": [
    "#### **Path deviation**"
   ]
  },
  {
   "cell_type": "code",
   "execution_count": 94,
   "id": "80053877-0989-4837-acad-64fc43ed5db5",
   "metadata": {},
   "outputs": [
    {
     "name": "stdout",
     "output_type": "stream",
     "text": [
      "female: Geometric mean: 2.868222434338483\n",
      "female: 95% confidence interval of the geometric mean of path_deviation: [2.511, 3.306]\n",
      "male: Geometric mean: 2.28099895895486\n",
      "male: 95% confidence interval of the geometric mean of path_deviation: [2.026, 2.602]\n"
     ]
    }
   ],
   "source": [
    "# FINISHED PATHS matched\n",
    "bootstrap_metric(\"path_deviation\", fin_src_match, \"female\")\n",
    "\n",
    "bootstrap_metric(\"path_deviation\", fin_src_match, \"male\")"
   ]
  },
  {
   "cell_type": "code",
   "execution_count": 97,
   "id": "a0328dad-ff7c-482c-9d7e-3ffdb47e0e4d",
   "metadata": {},
   "outputs": [
    {
     "data": {
      "image/png": "[encoded data removed]",
      "text/plain": [
       "<Figure size 640x480 with 1 Axes>"
      ]
     },
     "metadata": {},
     "output_type": "display_data"
    }
   ],
   "source": [
    "plot_2_dist(\"path_deviation\", fin_src_match, \n",
    "            my_title=\"(1): Distribution of path deviation\", my_xlabel=\"Path deviation\", my_ylabel=\"Counts\")"
   ]
  },
  {
   "cell_type": "markdown",
   "id": "197fa478-d764-4769-bfa7-34403ef3c0fb",
   "metadata": {},
   "source": [
    "#### **Number of back clicks**"
   ]
  },
  {
   "cell_type": "code",
   "execution_count": 100,
   "id": "86756c38-0f3e-45d8-bf13-66bc35b677f7",
   "metadata": {},
   "outputs": [
    {
     "name": "stdout",
     "output_type": "stream",
     "text": [
      "female: Geometric mean: 1.7572296754332428\n",
      "female: 95% confidence interval of the geometric mean of number_backclicks: [1.496, 2.145]\n",
      "male: Geometric mean: 1.8083328980338347\n",
      "male: 95% confidence interval of the geometric mean of number_backclicks: [1.523, 2.253]\n"
     ]
    }
   ],
   "source": [
    "# FINISHED PATHS matched\n",
    "bootstrap_metric(\"number_backclicks\", src_match, \"female\")\n",
    "\n",
    "bootstrap_metric(\"number_backclicks\", src_match, \"male\")"
   ]
  },
  {
   "cell_type": "markdown",
   "id": "83561d4f-e78c-49f0-b3b8-30f17ec62da8",
   "metadata": {},
   "source": [
    "#### **Difficulty rating**"
   ]
  },
  {
   "cell_type": "code",
   "execution_count": 102,
   "id": "915ef6f1-3c2a-41a5-abe1-d7c4cf3a143b",
   "metadata": {},
   "outputs": [
    {
     "name": "stdout",
     "output_type": "stream",
     "text": [
      "female: Geometric mean: 2.1461710335086894\n",
      "female: 95% confidence interval of the geometric mean of difficulty_rating: [1.931, 2.360]\n",
      "male: Geometric mean: 1.916266300686311\n",
      "male: 95% confidence interval of the geometric mean of difficulty_rating: [1.712, 2.144]\n"
     ]
    }
   ],
   "source": [
    "# FINISHED PATHS matched\n",
    "bootstrap_metric(\"difficulty_rating\", fin_src_match, \"female\")\n",
    "\n",
    "bootstrap_metric(\"difficulty_rating\", fin_src_match, \"male\")"
   ]
  },
  {
   "cell_type": "code",
   "execution_count": 101,
   "id": "f77b2586-0b84-45dd-b8f8-2579cf999d9e",
   "metadata": {},
   "outputs": [
    {
     "name": "stderr",
     "output_type": "stream",
     "text": [
      "/opt/anaconda3/envs/ada/lib/python3.9/site-packages/seaborn/categorical.py:1296: UserWarning: 12.9% of the points cannot be placed; you may want to decrease the size of the markers or use stripplot.\n",
      "  warnings.warn(msg, UserWarning)\n"
     ]
    },
    {
     "data": {
      "image/png": "[encoded data removed]",
      "text/plain": [
       "<Figure size 640x480 with 1 Axes>"
      ]
     },
     "metadata": {},
     "output_type": "display_data"
    }
   ],
   "source": [
    "sns.swarmplot(data = src_match, x=\"gender\", y=\"difficulty_rating\")\n",
    "plt.show()"
   ]
  },
  {
   "cell_type": "markdown",
   "id": "f8b1665f-b5e4-4005-8968-fee1b229f5bd",
   "metadata": {},
   "source": [
    "### **(1)+(2): Match on source and shortest path length**"
   ]
  },
  {
   "cell_type": "markdown",
   "id": "acaaf76d-e34a-4fd6-8689-5c910a16a542",
   "metadata": {},
   "source": [
    "| **Name of dataframe**      | **Matched paths and constraint parameters**                                                     |\n",
    "|----------------------|---------------------------------------------------------------------|\n",
    "| shpath_match               | All paths: (1)                                   |\n",
    "| fin_shpath_match    | Finished paths: (1) |\n",
    "| unfin_shpath_match    | Unfinished paths: (1) |"
   ]
  },
  {
   "cell_type": "markdown",
   "id": "b7b9ad1a-9d56-4423-a6c2-ea50e7bc71af",
   "metadata": {},
   "source": [
    "#### **Success rate**"
   ]
  },
  {
   "cell_type": "code",
   "execution_count": 103,
   "id": "3cd557f1-341e-4fd8-acdb-f43705687736",
   "metadata": {},
   "outputs": [
    {
     "name": "stdout",
     "output_type": "stream",
     "text": [
      "female: Geometric mean: 0.5946789125797488\n",
      "female: 95% confidence interval of the geometric mean of success_rate: [0.532, 0.655]\n",
      "male: Geometric mean: 0.9596757825370913\n",
      "male: 95% confidence interval of the geometric mean of success_rate: [0.926, 0.979]\n"
     ]
    }
   ],
   "source": [
    "# ALL PATHS matched\n",
    "bootstrap_metric(\"success_rate\", shpath_match, \"female\")\n",
    "\n",
    "bootstrap_metric(\"success_rate\", shpath_match, \"male\")"
   ]
  },
  {
   "cell_type": "markdown",
   "id": "6ae587b7-a2e6-4ad2-bab9-617376de4cf0",
   "metadata": {},
   "source": [
    "#### **Playtime**"
   ]
  },
  {
   "cell_type": "code",
   "execution_count": 105,
   "id": "3aaa38aa-9be8-45eb-a9a7-f64bd5842b5c",
   "metadata": {},
   "outputs": [
    {
     "name": "stdout",
     "output_type": "stream",
     "text": [
      "female: Geometric mean: 132.88116641612135\n",
      "female: 95% confidence interval of the geometric mean of playtime: [112.081, 158.953]\n",
      "male: Geometric mean: 106.91773076817464\n",
      "male: 95% confidence interval of the geometric mean of playtime: [89.648, 127.549]\n"
     ]
    }
   ],
   "source": [
    "# FINISHED PATHS matched\n",
    "bootstrap_metric(\"playtime\", fin_shpath_match, \"female\")\n",
    "\n",
    "bootstrap_metric(\"playtime\", fin_shpath_match, \"male\")"
   ]
  },
  {
   "cell_type": "markdown",
   "id": "d29571e0-c00d-4e80-bda7-9774340f0a1e",
   "metadata": {},
   "source": [
    "#### **Path deviation**"
   ]
  },
  {
   "cell_type": "code",
   "execution_count": 106,
   "id": "a46e09d6-ccf5-4208-8405-78f75d8fc632",
   "metadata": {},
   "outputs": [
    {
     "name": "stdout",
     "output_type": "stream",
     "text": [
      "female: Geometric mean: 2.664617066028386\n",
      "female: 95% confidence interval of the geometric mean of path_deviation: [2.286, 3.140]\n",
      "male: Geometric mean: 2.3869054293062617\n",
      "male: 95% confidence interval of the geometric mean of path_deviation: [2.038, 2.840]\n"
     ]
    }
   ],
   "source": [
    "# FINISHED PATHS matched\n",
    "bootstrap_metric(\"path_deviation\", fin_shpath_match, \"female\")\n",
    "\n",
    "bootstrap_metric(\"path_deviation\", fin_shpath_match, \"male\")"
   ]
  },
  {
   "cell_type": "code",
   "execution_count": 107,
   "id": "fb37be8c-4547-41fe-a395-1d1e2a63670a",
   "metadata": {},
   "outputs": [
    {
     "data": {
      "image/png": "[encoded data removed]",
      "text/plain": [
       "<Figure size 640x480 with 1 Axes>"
      ]
     },
     "metadata": {},
     "output_type": "display_data"
    }
   ],
   "source": [
    "plot_2_dist(\"path_deviation\", fin_shpath_match, \n",
    "            my_title=\"Path deviation from shortest path\", my_xlabel=\"Path deviation\", my_ylabel=\"Counts\")"
   ]
  },
  {
   "cell_type": "code",
   "execution_count": 108,
   "id": "f3d5bcf9-afe2-4209-8cfc-62308b176ff8",
   "metadata": {},
   "outputs": [
    {
     "name": "stdout",
     "output_type": "stream",
     "text": [
      "                            OLS Regression Results                            \n",
      "==============================================================================\n",
      "Dep. Variable:         path_deviation   R-squared:                       0.002\n",
      "Model:                            OLS   Adj. R-squared:                 -0.005\n",
      "Method:                 Least Squares   F-statistic:                    0.2722\n",
      "Date:                Sat, 17 Dec 2022   Prob (F-statistic):              0.603\n",
      "Time:                        17:05:14   Log-Likelihood:                -414.43\n",
      "No. Observations:                 158   AIC:                             832.9\n",
      "Df Residuals:                     156   BIC:                             839.0\n",
      "Df Model:                           1                                         \n",
      "Covariance Type:            nonrobust                                         \n",
      "==================================================================================\n",
      "                     coef    std err          t      P>|t|      [0.025      0.975]\n",
      "----------------------------------------------------------------------------------\n",
      "Intercept          3.5696      0.377      9.457      0.000       2.824       4.315\n",
      "gender[T.male]    -0.2785      0.534     -0.522      0.603      -1.333       0.776\n",
      "==============================================================================\n",
      "Omnibus:                      129.045   Durbin-Watson:                   2.184\n",
      "Prob(Omnibus):                  0.000   Jarque-Bera (JB):             1211.400\n",
      "Skew:                           3.057   Prob(JB):                    8.87e-264\n",
      "Kurtosis:                      15.109   Cond. No.                         2.62\n",
      "==============================================================================\n",
      "\n",
      "Notes:\n",
      "[1] Standard Errors assume that the covariance matrix of the errors is correctly specified.\n"
     ]
    },
    {
     "data": {
      "image/png": "[encoded data removed]",
      "text/plain": [
       "<Figure size 640x480 with 1 Axes>"
      ]
     },
     "metadata": {},
     "output_type": "display_data"
    }
   ],
   "source": [
    "linear_regression(\"path_deviation\", fin_shpath_match, \"Path deviation from shortest path\")"
   ]
  },
  {
   "cell_type": "markdown",
   "id": "26a4222a-474f-4669-b26c-68662a4f04c1",
   "metadata": {},
   "source": [
    "This data shows that out of finished paths that have the same source article and the same shortest path length, the ones going to the male target article have a median of 2 path_dev while the female target articles have a median of 3. However the confidence intervals overlap, so we cannot say for sure that the difference is significant."
   ]
  },
  {
   "cell_type": "markdown",
   "id": "f737f451-67ff-4136-bd0e-ecbc0d9c7e93",
   "metadata": {},
   "source": [
    "#### **Number of back clicks**"
   ]
  },
  {
   "cell_type": "code",
   "execution_count": 110,
   "id": "2d333353-dccb-4b34-bc8b-e94bbd878860",
   "metadata": {},
   "outputs": [
    {
     "name": "stdout",
     "output_type": "stream",
     "text": [
      "female: Geometric mean: 1.742575776141812\n",
      "female: 95% confidence interval of the geometric mean of number_backclicks: [1.430, 2.253]\n",
      "male: Geometric mean: 1.972526648610801\n",
      "male: 95% confidence interval of the geometric mean of number_backclicks: [1.524, 2.766]\n"
     ]
    }
   ],
   "source": [
    "# ALL PATHS matched\n",
    "bootstrap_metric(\"number_backclicks\", shpath_match, \"female\")\n",
    "\n",
    "bootstrap_metric(\"number_backclicks\", shpath_match, \"male\")"
   ]
  },
  {
   "cell_type": "code",
   "execution_count": 111,
   "id": "abe9b9de-b7ce-47a7-8e10-3a8dc1902940",
   "metadata": {},
   "outputs": [
    {
     "data": {
      "image/png": "[encoded data removed]",
      "text/plain": [
       "<Figure size 640x480 with 1 Axes>"
      ]
     },
     "metadata": {},
     "output_type": "display_data"
    }
   ],
   "source": [
    "plot_2_dist(\"number_backclicks\", shpath_match, my_title=\"Nr of backclicks\", my_xlabel=\"Backclicks\", my_ylabel=\"Occurance\")"
   ]
  },
  {
   "cell_type": "code",
   "execution_count": 112,
   "id": "6cc09a07-4ade-4e2f-bf00-ba587deb3c93",
   "metadata": {},
   "outputs": [
    {
     "name": "stdout",
     "output_type": "stream",
     "text": [
      "                         QuantReg Regression Results                          \n",
      "==============================================================================\n",
      "Dep. Variable:      number_backclicks   Pseudo R-squared:           -1.539e-07\n",
      "Model:                       QuantReg   Bandwidth:                       1.512\n",
      "Method:                 Least Squares   Sparsity:                        3.183\n",
      "Date:                Sat, 17 Dec 2022   No. Observations:                  126\n",
      "Time:                        17:06:17   Df Residuals:                      124\n",
      "                                        Df Model:                            1\n",
      "==================================================================================\n",
      "                     coef    std err          t      P>|t|      [0.025      0.975]\n",
      "----------------------------------------------------------------------------------\n",
      "Intercept          1.0000      0.193      5.181      0.000       0.618       1.382\n",
      "gender[T.male]  5.522e-06      0.284   1.94e-05      1.000      -0.563       0.563\n",
      "==================================================================================\n"
     ]
    },
    {
     "data": {
      "image/png": "[encoded data removed]",
      "text/plain": [
       "<Figure size 640x480 with 1 Axes>"
      ]
     },
     "metadata": {},
     "output_type": "display_data"
    },
    {
     "data": {
      "image/png": "[encoded data removed]",
      "text/plain": [
       "<Figure size 640x480 with 1 Axes>"
      ]
     },
     "metadata": {},
     "output_type": "display_data"
    }
   ],
   "source": [
    "# the backclicks that differ from 0\n",
    "backclicks = src_match[src_match[\"number_backclicks\"]!= 0]\n",
    "quantile_regression(\"number_backclicks\", backclicks, \"Backclicks\")\n",
    "plot_2_dist(\"number_backclicks\", backclicks, \n",
    "            my_title=\"Distribution of backclicks\", my_xlabel=\"nr of backclicks\", my_ylabel=\"counts\")"
   ]
  },
  {
   "cell_type": "markdown",
   "id": "8191d0f2-e80d-4e8f-a3a9-b263df1603e3",
   "metadata": {},
   "source": [
    "#### **Difficulty rating**"
   ]
  },
  {
   "cell_type": "code",
   "execution_count": 113,
   "id": "6e518b9f-2f5b-49ed-bddc-f837e174e0cc",
   "metadata": {},
   "outputs": [
    {
     "name": "stdout",
     "output_type": "stream",
     "text": [
      "female: Geometric mean: 1.9544654848281908\n",
      "female: 95% confidence interval of the geometric mean of difficulty_rating: [1.698, 2.194]\n",
      "male: Geometric mean: 2.0654610525799098\n",
      "male: 95% confidence interval of the geometric mean of difficulty_rating: [1.757, 2.410]\n"
     ]
    }
   ],
   "source": [
    "# FINISHED PATHS matched\n",
    "bootstrap_metric(\"difficulty_rating\", fin_shpath_match, \"female\")\n",
    "\n",
    "bootstrap_metric(\"difficulty_rating\", fin_shpath_match, \"male\")"
   ]
  },
  {
   "cell_type": "markdown",
   "id": "b336856d-ad35-4ff9-9b51-f1caccfbcb7d",
   "metadata": {},
   "source": [
    "### **(1)+(2)+(3): Match on source, shortest path length and categories**"
   ]
  },
  {
   "cell_type": "markdown",
   "id": "60a1184f-c1d2-4d20-a5a4-a7ac2bedf406",
   "metadata": {},
   "source": [
    "| **Name of dataframe**      | **Matched paths and constraint parameters**                                                     |\n",
    "|----------------------|---------------------------------------------------------------------|\n",
    "| cat_match               | All paths: (1)                                   |\n",
    "| fin_cat_match    | Finished paths: (1) |\n",
    "| unfin_cat_match    | Unfinished paths: (1) |\n"
   ]
  },
  {
   "cell_type": "markdown",
   "id": "3586bdca-b925-4e46-b512-0b240ebd6540",
   "metadata": {},
   "source": [
    "#### **Success rate**"
   ]
  },
  {
   "cell_type": "code",
   "execution_count": 117,
   "id": "dfc1494e-d033-47a3-82ff-ec70c38ef642",
   "metadata": {},
   "outputs": [
    {
     "name": "stdout",
     "output_type": "stream",
     "text": [
      "female: Geometric mean: 1.0\n",
      "female: 95% confidence interval of the geometric mean of success_rate: [nan, nan]\n",
      "male: Geometric mean: 0.820335356007638\n",
      "male: 95% confidence interval of the geometric mean of success_rate: [0.552, 0.906]\n"
     ]
    },
    {
     "name": "stderr",
     "output_type": "stream",
     "text": [
      "/opt/anaconda3/envs/ada/lib/python3.9/site-packages/scipy/stats/_resampling.py:118: RuntimeWarning: invalid value encountered in double_scalars\n",
      "  a_hat = num / den\n"
     ]
    }
   ],
   "source": [
    "# ALL PATHS matched\n",
    "bootstrap_metric(\"success_rate\", cat_match, \"female\")\n",
    "\n",
    "bootstrap_metric(\"success_rate\", cat_match, \"male\")"
   ]
  },
  {
   "cell_type": "markdown",
   "id": "3fe03709-8ff9-4b62-9866-8a431c021f0b",
   "metadata": {},
   "source": [
    "#### **Playtime**"
   ]
  },
  {
   "cell_type": "code",
   "execution_count": 118,
   "id": "87b495f0-43f0-4372-9af8-8d0b924fcdc2",
   "metadata": {},
   "outputs": [
    {
     "name": "stdout",
     "output_type": "stream",
     "text": [
      "female: Geometric mean: 237.4070966857684\n",
      "female: 95% confidence interval of the geometric mean of playtime: [83.481, 924.259]\n",
      "male: Geometric mean: 118.62731332674055\n",
      "male: 95% confidence interval of the geometric mean of playtime: [79.174, 218.158]\n"
     ]
    }
   ],
   "source": [
    "# FINISHED PATHS matched\n",
    "bootstrap_metric(\"playtime\", fin_cat_match, \"female\")\n",
    "\n",
    "bootstrap_metric(\"playtime\", fin_cat_match, \"male\")"
   ]
  },
  {
   "cell_type": "markdown",
   "id": "17b9201c-2929-4f49-a1e3-f7ca8aacc150",
   "metadata": {},
   "source": [
    "#### **Path deviation**"
   ]
  },
  {
   "cell_type": "code",
   "execution_count": 121,
   "id": "60ead353-ac28-452a-beff-3bfb9194ff0d",
   "metadata": {},
   "outputs": [
    {
     "name": "stdout",
     "output_type": "stream",
     "text": [
      "female: Geometric mean: 2.6960123091945554\n",
      "female: 95% confidence interval of the geometric mean of path_deviation: [1.260, 4.160]\n",
      "male: Geometric mean: 1.8171205928321397\n",
      "male: 95% confidence interval of the geometric mean of path_deviation: [1.122, 3.086]\n"
     ]
    }
   ],
   "source": [
    "# FINISHED PATHS matched\n",
    "bootstrap_metric(\"path_deviation\", fin_cat_match, \"female\")\n",
    "\n",
    "bootstrap_metric(\"path_deviation\", fin_cat_match, \"male\")"
   ]
  },
  {
   "cell_type": "markdown",
   "id": "e3c69c7d-ce9d-4777-a231-770d64f080a1",
   "metadata": {},
   "source": [
    "#### **Number of back clicks**"
   ]
  },
  {
   "cell_type": "code",
   "execution_count": 123,
   "id": "dda7c1ea-0573-4752-9e0b-59a4bf607f4b",
   "metadata": {},
   "outputs": [
    {
     "name": "stdout",
     "output_type": "stream",
     "text": [
      "female: Geometric mean: 1.8171205928321397\n",
      "female: 95% confidence interval of the geometric mean of number_backclicks: [1.000, 2.621]\n",
      "male: Geometric mean: 0.0\n",
      "male: 95% confidence interval of the geometric mean of number_backclicks: [nan, nan]\n"
     ]
    }
   ],
   "source": [
    "# ALL PATHS matched\n",
    "bootstrap_metric(\"number_backclicks\", cat_match, \"female\")\n",
    "\n",
    "bootstrap_metric(\"number_backclicks\", cat_match, \"male\", remove_zero = False)"
   ]
  },
  {
   "cell_type": "markdown",
   "id": "b8ac7ee0-1e58-4270-abea-65eb036a6f16",
   "metadata": {},
   "source": [
    "#### **Difficulty rating**"
   ]
  },
  {
   "cell_type": "code",
   "execution_count": 124,
   "id": "546631d8-fdba-44c8-960a-da40ba24e6fb",
   "metadata": {},
   "outputs": [
    {
     "name": "stdout",
     "output_type": "stream",
     "text": [
      "female: Geometric mean: 1.8171205928321397\n",
      "female: 95% confidence interval of the geometric mean of difficulty_rating: [1.000, 2.621]\n",
      "male: Geometric mean: 2.352158045049347\n",
      "male: 95% confidence interval of the geometric mean of difficulty_rating: [1.246, 3.104]\n"
     ]
    }
   ],
   "source": [
    "# FINISHED PATHS matched\n",
    "bootstrap_metric(\"difficulty_rating\", fin_cat_match, \"female\")\n",
    "\n",
    "bootstrap_metric(\"difficulty_rating\", fin_cat_match, \"male\")"
   ]
  },
  {
   "cell_type": "markdown",
   "id": "019ab97a-9b32-46a7-bfc2-dc1805a24380",
   "metadata": {
    "tags": []
   },
   "source": [
    "### **Visualizations for the datastory**"
   ]
  },
  {
   "cell_type": "code",
   "execution_count": 290,
   "id": "11d2371f-a5d2-4d3f-816f-e9861257ba7a",
   "metadata": {},
   "outputs": [
    {
     "data": {
      "application/vnd.plotly.v1+json": {
       "config": {
        "plotlyServerURL": "https://plot.ly"
       },
       "data": [
        {
         "alignmentgroup": "True",
         "hovertemplate": "Gender=women<br>Proportion of articles=%{x}<br>Categories=%{y}<extra></extra>",
         "legendgroup": "women",
         "marker": {
          "color": "hotpink",
          "pattern": {
           "shape": ""
          }
         },
         "name": "women",
         "offsetgroup": "women",
         "orientation": "h",
         "showlegend": true,
         "textposition": "auto",
         "type": "bar",
         "x": [
          0.38095238095238093,
          0.13953488372093023,
          0.125,
          0.12195121951219512,
          0.11864406779661017,
          0.1111111111111111,
          0.08602150537634409,
          0.07936507936507936,
          0.05714285714285714,
          0.05555555555555555,
          0.05555555555555555,
          0.03125,
          0,
          0,
          0,
          0,
          0,
          0,
          0,
          0
         ],
         "xaxis": "x",
         "y": [
          "Actors models and celebrities",
          "Monarchs of Great Britain",
          "Chemists",
          "Performers and composers",
          "Political People",
          "Human Scientists",
          "Historical figures",
          "Writers and critics",
          "Religious figures and leaders",
          "Sports and games people",
          "Military People",
          "Artists",
          "USA Presidents",
          "Engineers and inventors",
          "Philosophers",
          "Astronomers and physicists",
          "Geographers and explorers",
          "Mathematicians",
          "Computing People",
          "Producers directors and media figures"
         ],
         "yaxis": "y"
        },
        {
         "alignmentgroup": "True",
         "hovertemplate": "Gender=men<br>Proportion of articles=%{x}<br>Categories=%{y}<extra></extra>",
         "legendgroup": "men",
         "marker": {
          "color": "skyblue",
          "pattern": {
           "shape": ""
          }
         },
         "name": "men",
         "offsetgroup": "men",
         "orientation": "h",
         "showlegend": true,
         "textposition": "auto",
         "type": "bar",
         "x": [
          0.6190476190476191,
          0.8604651162790697,
          0.875,
          0.8780487804878049,
          0.8813559322033898,
          0.8888888888888888,
          0.9139784946236559,
          0.9206349206349206,
          0.9428571428571428,
          0.9444444444444444,
          0.9444444444444444,
          0.96875,
          1,
          1,
          1,
          1,
          1,
          1,
          1,
          1
         ],
         "xaxis": "x",
         "y": [
          "Actors models and celebrities",
          "Monarchs of Great Britain",
          "Chemists",
          "Performers and composers",
          "Political People",
          "Human Scientists",
          "Historical figures",
          "Writers and critics",
          "Religious figures and leaders",
          "Sports and games people",
          "Military People",
          "Artists",
          "USA Presidents",
          "Engineers and inventors",
          "Philosophers",
          "Astronomers and physicists",
          "Geographers and explorers",
          "Mathematicians",
          "Computing People",
          "Producers directors and media figures"
         ],
         "yaxis": "y"
        }
       ],
       "layout": {
        "barmode": "relative",
        "height": 600,
        "legend": {
         "title": {
          "text": "Gender"
         },
         "tracegroupgap": 0
        },
        "template": {
         "data": {
          "bar": [
           {
            "error_x": {
             "color": "rgb(36,36,36)"
            },
            "error_y": {
             "color": "rgb(36,36,36)"
            },
            "marker": {
             "line": {
              "color": "white",
              "width": 0.5
             },
             "pattern": {
              "fillmode": "overlay",
              "size": 10,
              "solidity": 0.2
             }
            },
            "type": "bar"
           }
          ],
          "barpolar": [
           {
            "marker": {
             "line": {
              "color": "white",
              "width": 0.5
             },
             "pattern": {
              "fillmode": "overlay",
              "size": 10,
              "solidity": 0.2
             }
            },
            "type": "barpolar"
           }
          ],
          "carpet": [
           {
            "aaxis": {
             "endlinecolor": "rgb(36,36,36)",
             "gridcolor": "white",
             "linecolor": "white",
             "minorgridcolor": "white",
             "startlinecolor": "rgb(36,36,36)"
            },
            "baxis": {
             "endlinecolor": "rgb(36,36,36)",
             "gridcolor": "white",
             "linecolor": "white",
             "minorgridcolor": "white",
             "startlinecolor": "rgb(36,36,36)"
            },
            "type": "carpet"
           }
          ],
          "choropleth": [
           {
            "colorbar": {
             "outlinewidth": 1,
             "tickcolor": "rgb(36,36,36)",
             "ticks": "outside"
            },
            "type": "choropleth"
           }
          ],
          "contour": [
           {
            "colorbar": {
             "outlinewidth": 1,
             "tickcolor": "rgb(36,36,36)",
             "ticks": "outside"
            },
            "colorscale": [
             [
              0,
              "#440154"
             ],
             [
              0.1111111111111111,
              "#482878"
             ],
             [
              0.2222222222222222,
              "#3e4989"
             ],
             [
              0.3333333333333333,
              "#31688e"
             ],
             [
              0.4444444444444444,
              "#26828e"
             ],
             [
              0.5555555555555556,
              "#1f9e89"
             ],
             [
              0.6666666666666666,
              "#35b779"
             ],
             [
              0.7777777777777778,
              "#6ece58"
             ],
             [
              0.8888888888888888,
              "#b5de2b"
             ],
             [
              1,
              "#fde725"
             ]
            ],
            "type": "contour"
           }
          ],
          "contourcarpet": [
           {
            "colorbar": {
             "outlinewidth": 1,
             "tickcolor": "rgb(36,36,36)",
             "ticks": "outside"
            },
            "type": "contourcarpet"
           }
          ],
          "heatmap": [
           {
            "colorbar": {
             "outlinewidth": 1,
             "tickcolor": "rgb(36,36,36)",
             "ticks": "outside"
            },
            "colorscale": [
             [
              0,
              "#440154"
             ],
             [
              0.1111111111111111,
              "#482878"
             ],
             [
              0.2222222222222222,
              "#3e4989"
             ],
             [
              0.3333333333333333,
              "#31688e"
             ],
             [
              0.4444444444444444,
              "#26828e"
             ],
             [
              0.5555555555555556,
              "#1f9e89"
             ],
             [
              0.6666666666666666,
              "#35b779"
             ],
             [
              0.7777777777777778,
              "#6ece58"
             ],
             [
              0.8888888888888888,
              "#b5de2b"
             ],
             [
              1,
              "#fde725"
             ]
            ],
            "type": "heatmap"
           }
          ],
          "heatmapgl": [
           {
            "colorbar": {
             "outlinewidth": 1,
             "tickcolor": "rgb(36,36,36)",
             "ticks": "outside"
            },
            "colorscale": [
             [
              0,
              "#440154"
             ],
             [
              0.1111111111111111,
              "#482878"
             ],
             [
              0.2222222222222222,
              "#3e4989"
             ],
             [
              0.3333333333333333,
              "#31688e"
             ],
             [
              0.4444444444444444,
              "#26828e"
             ],
             [
              0.5555555555555556,
              "#1f9e89"
             ],
             [
              0.6666666666666666,
              "#35b779"
             ],
             [
              0.7777777777777778,
              "#6ece58"
             ],
             [
              0.8888888888888888,
              "#b5de2b"
             ],
             [
              1,
              "#fde725"
             ]
            ],
            "type": "heatmapgl"
           }
          ],
          "histogram": [
           {
            "marker": {
             "line": {
              "color": "white",
              "width": 0.6
             }
            },
            "type": "histogram"
           }
          ],
          "histogram2d": [
           {
            "colorbar": {
             "outlinewidth": 1,
             "tickcolor": "rgb(36,36,36)",
             "ticks": "outside"
            },
            "colorscale": [
             [
              0,
              "#440154"
             ],
             [
              0.1111111111111111,
              "#482878"
             ],
             [
              0.2222222222222222,
              "#3e4989"
             ],
             [
              0.3333333333333333,
              "#31688e"
             ],
             [
              0.4444444444444444,
              "#26828e"
             ],
             [
              0.5555555555555556,
              "#1f9e89"
             ],
             [
              0.6666666666666666,
              "#35b779"
             ],
             [
              0.7777777777777778,
              "#6ece58"
             ],
             [
              0.8888888888888888,
              "#b5de2b"
             ],
             [
              1,
              "#fde725"
             ]
            ],
            "type": "histogram2d"
           }
          ],
          "histogram2dcontour": [
           {
            "colorbar": {
             "outlinewidth": 1,
             "tickcolor": "rgb(36,36,36)",
             "ticks": "outside"
            },
            "colorscale": [
             [
              0,
              "#440154"
             ],
             [
              0.1111111111111111,
              "#482878"
             ],
             [
              0.2222222222222222,
              "#3e4989"
             ],
             [
              0.3333333333333333,
              "#31688e"
             ],
             [
              0.4444444444444444,
              "#26828e"
             ],
             [
              0.5555555555555556,
              "#1f9e89"
             ],
             [
              0.6666666666666666,
              "#35b779"
             ],
             [
              0.7777777777777778,
              "#6ece58"
             ],
             [
              0.8888888888888888,
              "#b5de2b"
             ],
             [
              1,
              "#fde725"
             ]
            ],
            "type": "histogram2dcontour"
           }
          ],
          "mesh3d": [
           {
            "colorbar": {
             "outlinewidth": 1,
             "tickcolor": "rgb(36,36,36)",
             "ticks": "outside"
            },
            "type": "mesh3d"
           }
          ],
          "parcoords": [
           {
            "line": {
             "colorbar": {
              "outlinewidth": 1,
              "tickcolor": "rgb(36,36,36)",
              "ticks": "outside"
             }
            },
            "type": "parcoords"
           }
          ],
          "pie": [
           {
            "automargin": true,
            "type": "pie"
           }
          ],
          "scatter": [
           {
            "marker": {
             "colorbar": {
              "outlinewidth": 1,
              "tickcolor": "rgb(36,36,36)",
              "ticks": "outside"
             }
            },
            "type": "scatter"
           }
          ],
          "scatter3d": [
           {
            "line": {
             "colorbar": {
              "outlinewidth": 1,
              "tickcolor": "rgb(36,36,36)",
              "ticks": "outside"
             }
            },
            "marker": {
             "colorbar": {
              "outlinewidth": 1,
              "tickcolor": "rgb(36,36,36)",
              "ticks": "outside"
             }
            },
            "type": "scatter3d"
           }
          ],
          "scattercarpet": [
           {
            "marker": {
             "colorbar": {
              "outlinewidth": 1,
              "tickcolor": "rgb(36,36,36)",
              "ticks": "outside"
             }
            },
            "type": "scattercarpet"
           }
          ],
          "scattergeo": [
           {
            "marker": {
             "colorbar": {
              "outlinewidth": 1,
              "tickcolor": "rgb(36,36,36)",
              "ticks": "outside"
             }
            },
            "type": "scattergeo"
           }
          ],
          "scattergl": [
           {
            "marker": {
             "colorbar": {
              "outlinewidth": 1,
              "tickcolor": "rgb(36,36,36)",
              "ticks": "outside"
             }
            },
            "type": "scattergl"
           }
          ],
          "scattermapbox": [
           {
            "marker": {
             "colorbar": {
              "outlinewidth": 1,
              "tickcolor": "rgb(36,36,36)",
              "ticks": "outside"
             }
            },
            "type": "scattermapbox"
           }
          ],
          "scatterpolar": [
           {
            "marker": {
             "colorbar": {
              "outlinewidth": 1,
              "tickcolor": "rgb(36,36,36)",
              "ticks": "outside"
             }
            },
            "type": "scatterpolar"
           }
          ],
          "scatterpolargl": [
           {
            "marker": {
             "colorbar": {
              "outlinewidth": 1,
              "tickcolor": "rgb(36,36,36)",
              "ticks": "outside"
             }
            },
            "type": "scatterpolargl"
           }
          ],
          "scatterternary": [
           {
            "marker": {
             "colorbar": {
              "outlinewidth": 1,
              "tickcolor": "rgb(36,36,36)",
              "ticks": "outside"
             }
            },
            "type": "scatterternary"
           }
          ],
          "surface": [
           {
            "colorbar": {
             "outlinewidth": 1,
             "tickcolor": "rgb(36,36,36)",
             "ticks": "outside"
            },
            "colorscale": [
             [
              0,
              "#440154"
             ],
             [
              0.1111111111111111,
              "#482878"
             ],
             [
              0.2222222222222222,
              "#3e4989"
             ],
             [
              0.3333333333333333,
              "#31688e"
             ],
             [
              0.4444444444444444,
              "#26828e"
             ],
             [
              0.5555555555555556,
              "#1f9e89"
             ],
             [
              0.6666666666666666,
              "#35b779"
             ],
             [
              0.7777777777777778,
              "#6ece58"
             ],
             [
              0.8888888888888888,
              "#b5de2b"
             ],
             [
              1,
              "#fde725"
             ]
            ],
            "type": "surface"
           }
          ],
          "table": [
           {
            "cells": {
             "fill": {
              "color": "rgb(237,237,237)"
             },
             "line": {
              "color": "white"
             }
            },
            "header": {
             "fill": {
              "color": "rgb(217,217,217)"
             },
             "line": {
              "color": "white"
             }
            },
            "type": "table"
           }
          ]
         },
         "layout": {
          "annotationdefaults": {
           "arrowhead": 0,
           "arrowwidth": 1
          },
          "autotypenumbers": "strict",
          "coloraxis": {
           "colorbar": {
            "outlinewidth": 1,
            "tickcolor": "rgb(36,36,36)",
            "ticks": "outside"
           }
          },
          "colorscale": {
           "diverging": [
            [
             0,
             "rgb(103,0,31)"
            ],
            [
             0.1,
             "rgb(178,24,43)"
            ],
            [
             0.2,
             "rgb(214,96,77)"
            ],
            [
             0.3,
             "rgb(244,165,130)"
            ],
            [
             0.4,
             "rgb(253,219,199)"
            ],
            [
             0.5,
             "rgb(247,247,247)"
            ],
            [
             0.6,
             "rgb(209,229,240)"
            ],
            [
             0.7,
             "rgb(146,197,222)"
            ],
            [
             0.8,
             "rgb(67,147,195)"
            ],
            [
             0.9,
             "rgb(33,102,172)"
            ],
            [
             1,
             "rgb(5,48,97)"
            ]
           ],
           "sequential": [
            [
             0,
             "#440154"
            ],
            [
             0.1111111111111111,
             "#482878"
            ],
            [
             0.2222222222222222,
             "#3e4989"
            ],
            [
             0.3333333333333333,
             "#31688e"
            ],
            [
             0.4444444444444444,
             "#26828e"
            ],
            [
             0.5555555555555556,
             "#1f9e89"
            ],
            [
             0.6666666666666666,
             "#35b779"
            ],
            [
             0.7777777777777778,
             "#6ece58"
            ],
            [
             0.8888888888888888,
             "#b5de2b"
            ],
            [
             1,
             "#fde725"
            ]
           ],
           "sequentialminus": [
            [
             0,
             "#440154"
            ],
            [
             0.1111111111111111,
             "#482878"
            ],
            [
             0.2222222222222222,
             "#3e4989"
            ],
            [
             0.3333333333333333,
             "#31688e"
            ],
            [
             0.4444444444444444,
             "#26828e"
            ],
            [
             0.5555555555555556,
             "#1f9e89"
            ],
            [
             0.6666666666666666,
             "#35b779"
            ],
            [
             0.7777777777777778,
             "#6ece58"
            ],
            [
             0.8888888888888888,
             "#b5de2b"
            ],
            [
             1,
             "#fde725"
            ]
           ]
          },
          "colorway": [
           "#1F77B4",
           "#FF7F0E",
           "#2CA02C",
           "#D62728",
           "#9467BD",
           "#8C564B",
           "#E377C2",
           "#7F7F7F",
           "#BCBD22",
           "#17BECF"
          ],
          "font": {
           "color": "rgb(36,36,36)"
          },
          "geo": {
           "bgcolor": "white",
           "lakecolor": "white",
           "landcolor": "white",
           "showlakes": true,
           "showland": true,
           "subunitcolor": "white"
          },
          "hoverlabel": {
           "align": "left"
          },
          "hovermode": "closest",
          "mapbox": {
           "style": "light"
          },
          "paper_bgcolor": "white",
          "plot_bgcolor": "white",
          "polar": {
           "angularaxis": {
            "gridcolor": "rgb(232,232,232)",
            "linecolor": "rgb(36,36,36)",
            "showgrid": false,
            "showline": true,
            "ticks": "outside"
           },
           "bgcolor": "white",
           "radialaxis": {
            "gridcolor": "rgb(232,232,232)",
            "linecolor": "rgb(36,36,36)",
            "showgrid": false,
            "showline": true,
            "ticks": "outside"
           }
          },
          "scene": {
           "xaxis": {
            "backgroundcolor": "white",
            "gridcolor": "rgb(232,232,232)",
            "gridwidth": 2,
            "linecolor": "rgb(36,36,36)",
            "showbackground": true,
            "showgrid": false,
            "showline": true,
            "ticks": "outside",
            "zeroline": false,
            "zerolinecolor": "rgb(36,36,36)"
           },
           "yaxis": {
            "backgroundcolor": "white",
            "gridcolor": "rgb(232,232,232)",
            "gridwidth": 2,
            "linecolor": "rgb(36,36,36)",
            "showbackground": true,
            "showgrid": false,
            "showline": true,
            "ticks": "outside",
            "zeroline": false,
            "zerolinecolor": "rgb(36,36,36)"
           },
           "zaxis": {
            "backgroundcolor": "white",
            "gridcolor": "rgb(232,232,232)",
            "gridwidth": 2,
            "linecolor": "rgb(36,36,36)",
            "showbackground": true,
            "showgrid": false,
            "showline": true,
            "ticks": "outside",
            "zeroline": false,
            "zerolinecolor": "rgb(36,36,36)"
           }
          },
          "shapedefaults": {
           "fillcolor": "black",
           "line": {
            "width": 0
           },
           "opacity": 0.3
          },
          "ternary": {
           "aaxis": {
            "gridcolor": "rgb(232,232,232)",
            "linecolor": "rgb(36,36,36)",
            "showgrid": false,
            "showline": true,
            "ticks": "outside"
           },
           "baxis": {
            "gridcolor": "rgb(232,232,232)",
            "linecolor": "rgb(36,36,36)",
            "showgrid": false,
            "showline": true,
            "ticks": "outside"
           },
           "bgcolor": "white",
           "caxis": {
            "gridcolor": "rgb(232,232,232)",
            "linecolor": "rgb(36,36,36)",
            "showgrid": false,
            "showline": true,
            "ticks": "outside"
           }
          },
          "title": {
           "x": 0.05
          },
          "xaxis": {
           "automargin": true,
           "gridcolor": "rgb(232,232,232)",
           "linecolor": "rgb(36,36,36)",
           "showgrid": false,
           "showline": true,
           "ticks": "outside",
           "title": {
            "standoff": 15
           },
           "zeroline": false,
           "zerolinecolor": "rgb(36,36,36)"
          },
          "yaxis": {
           "automargin": true,
           "gridcolor": "rgb(232,232,232)",
           "linecolor": "rgb(36,36,36)",
           "showgrid": false,
           "showline": true,
           "ticks": "outside",
           "title": {
            "standoff": 15
           },
           "zeroline": false,
           "zerolinecolor": "rgb(36,36,36)"
          }
         }
        },
        "title": {
         "text": "Fraction of women and men within each category"
        },
        "width": 1000,
        "xaxis": {
         "anchor": "y",
         "domain": [
          0,
          1
         ],
         "title": {
          "text": "Proportion of articles"
         }
        },
        "yaxis": {
         "anchor": "x",
         "autorange": "reversed",
         "domain": [
          0,
          1
         ],
         "title": {
          "text": "Categories"
         }
        }
       }
      },
      "text/html": [
       "<div>                            <div id=\"e139bd59-efa6-4343-8707-30d81ed6618a\" class=\"plotly-graph-div\" style=\"height:600px; width:1000px;\"></div>            <script type=\"text/javascript\">                require([\"plotly\"], function(Plotly) {                    window.PLOTLYENV=window.PLOTLYENV || {};                                    if (document.getElementById(\"e139bd59-efa6-4343-8707-30d81ed6618a\")) {                    Plotly.newPlot(                        \"e139bd59-efa6-4343-8707-30d81ed6618a\",                        [{\"alignmentgroup\":\"True\",\"hovertemplate\":\"Gender=women<br>Proportion of articles=%{x}<br>Categories=%{y}<extra></extra>\",\"legendgroup\":\"women\",\"marker\":{\"color\":\"hotpink\",\"pattern\":{\"shape\":\"\"}},\"name\":\"women\",\"offsetgroup\":\"women\",\"orientation\":\"h\",\"showlegend\":true,\"textposition\":\"auto\",\"x\":[0.38095238095238093,0.13953488372093023,0.125,0.12195121951219512,0.11864406779661017,0.1111111111111111,0.08602150537634409,0.07936507936507936,0.05714285714285714,0.05555555555555555,0.05555555555555555,0.03125,0.0,0.0,0.0,0.0,0.0,0.0,0.0,0.0],\"xaxis\":\"x\",\"y\":[\"Actors models and celebrities\",\"Monarchs of Great Britain\",\"Chemists\",\"Performers and composers\",\"Political People\",\"Human Scientists\",\"Historical figures\",\"Writers and critics\",\"Religious figures and leaders\",\"Sports and games people\",\"Military People\",\"Artists\",\"USA Presidents\",\"Engineers and inventors\",\"Philosophers\",\"Astronomers and physicists\",\"Geographers and explorers\",\"Mathematicians\",\"Computing People\",\"Producers directors and media figures\"],\"yaxis\":\"y\",\"type\":\"bar\"},{\"alignmentgroup\":\"True\",\"hovertemplate\":\"Gender=men<br>Proportion of articles=%{x}<br>Categories=%{y}<extra></extra>\",\"legendgroup\":\"men\",\"marker\":{\"color\":\"skyblue\",\"pattern\":{\"shape\":\"\"}},\"name\":\"men\",\"offsetgroup\":\"men\",\"orientation\":\"h\",\"showlegend\":true,\"textposition\":\"auto\",\"x\":[0.6190476190476191,0.8604651162790697,0.875,0.8780487804878049,0.8813559322033898,0.8888888888888888,0.9139784946236559,0.9206349206349206,0.9428571428571428,0.9444444444444444,0.9444444444444444,0.96875,1.0,1.0,1.0,1.0,1.0,1.0,1.0,1.0],\"xaxis\":\"x\",\"y\":[\"Actors models and celebrities\",\"Monarchs of Great Britain\",\"Chemists\",\"Performers and composers\",\"Political People\",\"Human Scientists\",\"Historical figures\",\"Writers and critics\",\"Religious figures and leaders\",\"Sports and games people\",\"Military People\",\"Artists\",\"USA Presidents\",\"Engineers and inventors\",\"Philosophers\",\"Astronomers and physicists\",\"Geographers and explorers\",\"Mathematicians\",\"Computing People\",\"Producers directors and media figures\"],\"yaxis\":\"y\",\"type\":\"bar\"}],                        {\"template\":{\"data\":{\"barpolar\":[{\"marker\":{\"line\":{\"color\":\"white\",\"width\":0.5},\"pattern\":{\"fillmode\":\"overlay\",\"size\":10,\"solidity\":0.2}},\"type\":\"barpolar\"}],\"bar\":[{\"error_x\":{\"color\":\"rgb(36,36,36)\"},\"error_y\":{\"color\":\"rgb(36,36,36)\"},\"marker\":{\"line\":{\"color\":\"white\",\"width\":0.5},\"pattern\":{\"fillmode\":\"overlay\",\"size\":10,\"solidity\":0.2}},\"type\":\"bar\"}],\"carpet\":[{\"aaxis\":{\"endlinecolor\":\"rgb(36,36,36)\",\"gridcolor\":\"white\",\"linecolor\":\"white\",\"minorgridcolor\":\"white\",\"startlinecolor\":\"rgb(36,36,36)\"},\"baxis\":{\"endlinecolor\":\"rgb(36,36,36)\",\"gridcolor\":\"white\",\"linecolor\":\"white\",\"minorgridcolor\":\"white\",\"startlinecolor\":\"rgb(36,36,36)\"},\"type\":\"carpet\"}],\"choropleth\":[{\"colorbar\":{\"outlinewidth\":1,\"tickcolor\":\"rgb(36,36,36)\",\"ticks\":\"outside\"},\"type\":\"choropleth\"}],\"contourcarpet\":[{\"colorbar\":{\"outlinewidth\":1,\"tickcolor\":\"rgb(36,36,36)\",\"ticks\":\"outside\"},\"type\":\"contourcarpet\"}],\"contour\":[{\"colorbar\":{\"outlinewidth\":1,\"tickcolor\":\"rgb(36,36,36)\",\"ticks\":\"outside\"},\"colorscale\":[[0.0,\"#440154\"],[0.1111111111111111,\"#482878\"],[0.2222222222222222,\"#3e4989\"],[0.3333333333333333,\"#31688e\"],[0.4444444444444444,\"#26828e\"],[0.5555555555555556,\"#1f9e89\"],[0.6666666666666666,\"#35b779\"],[0.7777777777777778,\"#6ece58\"],[0.8888888888888888,\"#b5de2b\"],[1.0,\"#fde725\"]],\"type\":\"contour\"}],\"heatmapgl\":[{\"colorbar\":{\"outlinewidth\":1,\"tickcolor\":\"rgb(36,36,36)\",\"ticks\":\"outside\"},\"colorscale\":[[0.0,\"#440154\"],[0.1111111111111111,\"#482878\"],[0.2222222222222222,\"#3e4989\"],[0.3333333333333333,\"#31688e\"],[0.4444444444444444,\"#26828e\"],[0.5555555555555556,\"#1f9e89\"],[0.6666666666666666,\"#35b779\"],[0.7777777777777778,\"#6ece58\"],[0.8888888888888888,\"#b5de2b\"],[1.0,\"#fde725\"]],\"type\":\"heatmapgl\"}],\"heatmap\":[{\"colorbar\":{\"outlinewidth\":1,\"tickcolor\":\"rgb(36,36,36)\",\"ticks\":\"outside\"},\"colorscale\":[[0.0,\"#440154\"],[0.1111111111111111,\"#482878\"],[0.2222222222222222,\"#3e4989\"],[0.3333333333333333,\"#31688e\"],[0.4444444444444444,\"#26828e\"],[0.5555555555555556,\"#1f9e89\"],[0.6666666666666666,\"#35b779\"],[0.7777777777777778,\"#6ece58\"],[0.8888888888888888,\"#b5de2b\"],[1.0,\"#fde725\"]],\"type\":\"heatmap\"}],\"histogram2dcontour\":[{\"colorbar\":{\"outlinewidth\":1,\"tickcolor\":\"rgb(36,36,36)\",\"ticks\":\"outside\"},\"colorscale\":[[0.0,\"#440154\"],[0.1111111111111111,\"#482878\"],[0.2222222222222222,\"#3e4989\"],[0.3333333333333333,\"#31688e\"],[0.4444444444444444,\"#26828e\"],[0.5555555555555556,\"#1f9e89\"],[0.6666666666666666,\"#35b779\"],[0.7777777777777778,\"#6ece58\"],[0.8888888888888888,\"#b5de2b\"],[1.0,\"#fde725\"]],\"type\":\"histogram2dcontour\"}],\"histogram2d\":[{\"colorbar\":{\"outlinewidth\":1,\"tickcolor\":\"rgb(36,36,36)\",\"ticks\":\"outside\"},\"colorscale\":[[0.0,\"#440154\"],[0.1111111111111111,\"#482878\"],[0.2222222222222222,\"#3e4989\"],[0.3333333333333333,\"#31688e\"],[0.4444444444444444,\"#26828e\"],[0.5555555555555556,\"#1f9e89\"],[0.6666666666666666,\"#35b779\"],[0.7777777777777778,\"#6ece58\"],[0.8888888888888888,\"#b5de2b\"],[1.0,\"#fde725\"]],\"type\":\"histogram2d\"}],\"histogram\":[{\"marker\":{\"line\":{\"color\":\"white\",\"width\":0.6}},\"type\":\"histogram\"}],\"mesh3d\":[{\"colorbar\":{\"outlinewidth\":1,\"tickcolor\":\"rgb(36,36,36)\",\"ticks\":\"outside\"},\"type\":\"mesh3d\"}],\"parcoords\":[{\"line\":{\"colorbar\":{\"outlinewidth\":1,\"tickcolor\":\"rgb(36,36,36)\",\"ticks\":\"outside\"}},\"type\":\"parcoords\"}],\"pie\":[{\"automargin\":true,\"type\":\"pie\"}],\"scatter3d\":[{\"line\":{\"colorbar\":{\"outlinewidth\":1,\"tickcolor\":\"rgb(36,36,36)\",\"ticks\":\"outside\"}},\"marker\":{\"colorbar\":{\"outlinewidth\":1,\"tickcolor\":\"rgb(36,36,36)\",\"ticks\":\"outside\"}},\"type\":\"scatter3d\"}],\"scattercarpet\":[{\"marker\":{\"colorbar\":{\"outlinewidth\":1,\"tickcolor\":\"rgb(36,36,36)\",\"ticks\":\"outside\"}},\"type\":\"scattercarpet\"}],\"scattergeo\":[{\"marker\":{\"colorbar\":{\"outlinewidth\":1,\"tickcolor\":\"rgb(36,36,36)\",\"ticks\":\"outside\"}},\"type\":\"scattergeo\"}],\"scattergl\":[{\"marker\":{\"colorbar\":{\"outlinewidth\":1,\"tickcolor\":\"rgb(36,36,36)\",\"ticks\":\"outside\"}},\"type\":\"scattergl\"}],\"scattermapbox\":[{\"marker\":{\"colorbar\":{\"outlinewidth\":1,\"tickcolor\":\"rgb(36,36,36)\",\"ticks\":\"outside\"}},\"type\":\"scattermapbox\"}],\"scatterpolargl\":[{\"marker\":{\"colorbar\":{\"outlinewidth\":1,\"tickcolor\":\"rgb(36,36,36)\",\"ticks\":\"outside\"}},\"type\":\"scatterpolargl\"}],\"scatterpolar\":[{\"marker\":{\"colorbar\":{\"outlinewidth\":1,\"tickcolor\":\"rgb(36,36,36)\",\"ticks\":\"outside\"}},\"type\":\"scatterpolar\"}],\"scatter\":[{\"marker\":{\"colorbar\":{\"outlinewidth\":1,\"tickcolor\":\"rgb(36,36,36)\",\"ticks\":\"outside\"}},\"type\":\"scatter\"}],\"scatterternary\":[{\"marker\":{\"colorbar\":{\"outlinewidth\":1,\"tickcolor\":\"rgb(36,36,36)\",\"ticks\":\"outside\"}},\"type\":\"scatterternary\"}],\"surface\":[{\"colorbar\":{\"outlinewidth\":1,\"tickcolor\":\"rgb(36,36,36)\",\"ticks\":\"outside\"},\"colorscale\":[[0.0,\"#440154\"],[0.1111111111111111,\"#482878\"],[0.2222222222222222,\"#3e4989\"],[0.3333333333333333,\"#31688e\"],[0.4444444444444444,\"#26828e\"],[0.5555555555555556,\"#1f9e89\"],[0.6666666666666666,\"#35b779\"],[0.7777777777777778,\"#6ece58\"],[0.8888888888888888,\"#b5de2b\"],[1.0,\"#fde725\"]],\"type\":\"surface\"}],\"table\":[{\"cells\":{\"fill\":{\"color\":\"rgb(237,237,237)\"},\"line\":{\"color\":\"white\"}},\"header\":{\"fill\":{\"color\":\"rgb(217,217,217)\"},\"line\":{\"color\":\"white\"}},\"type\":\"table\"}]},\"layout\":{\"annotationdefaults\":{\"arrowhead\":0,\"arrowwidth\":1},\"autotypenumbers\":\"strict\",\"coloraxis\":{\"colorbar\":{\"outlinewidth\":1,\"tickcolor\":\"rgb(36,36,36)\",\"ticks\":\"outside\"}},\"colorscale\":{\"diverging\":[[0.0,\"rgb(103,0,31)\"],[0.1,\"rgb(178,24,43)\"],[0.2,\"rgb(214,96,77)\"],[0.3,\"rgb(244,165,130)\"],[0.4,\"rgb(253,219,199)\"],[0.5,\"rgb(247,247,247)\"],[0.6,\"rgb(209,229,240)\"],[0.7,\"rgb(146,197,222)\"],[0.8,\"rgb(67,147,195)\"],[0.9,\"rgb(33,102,172)\"],[1.0,\"rgb(5,48,97)\"]],\"sequential\":[[0.0,\"#440154\"],[0.1111111111111111,\"#482878\"],[0.2222222222222222,\"#3e4989\"],[0.3333333333333333,\"#31688e\"],[0.4444444444444444,\"#26828e\"],[0.5555555555555556,\"#1f9e89\"],[0.6666666666666666,\"#35b779\"],[0.7777777777777778,\"#6ece58\"],[0.8888888888888888,\"#b5de2b\"],[1.0,\"#fde725\"]],\"sequentialminus\":[[0.0,\"#440154\"],[0.1111111111111111,\"#482878\"],[0.2222222222222222,\"#3e4989\"],[0.3333333333333333,\"#31688e\"],[0.4444444444444444,\"#26828e\"],[0.5555555555555556,\"#1f9e89\"],[0.6666666666666666,\"#35b779\"],[0.7777777777777778,\"#6ece58\"],[0.8888888888888888,\"#b5de2b\"],[1.0,\"#fde725\"]]},\"colorway\":[\"#1F77B4\",\"#FF7F0E\",\"#2CA02C\",\"#D62728\",\"#9467BD\",\"#8C564B\",\"#E377C2\",\"#7F7F7F\",\"#BCBD22\",\"#17BECF\"],\"font\":{\"color\":\"rgb(36,36,36)\"},\"geo\":{\"bgcolor\":\"white\",\"lakecolor\":\"white\",\"landcolor\":\"white\",\"showlakes\":true,\"showland\":true,\"subunitcolor\":\"white\"},\"hoverlabel\":{\"align\":\"left\"},\"hovermode\":\"closest\",\"mapbox\":{\"style\":\"light\"},\"paper_bgcolor\":\"white\",\"plot_bgcolor\":\"white\",\"polar\":{\"angularaxis\":{\"gridcolor\":\"rgb(232,232,232)\",\"linecolor\":\"rgb(36,36,36)\",\"showgrid\":false,\"showline\":true,\"ticks\":\"outside\"},\"bgcolor\":\"white\",\"radialaxis\":{\"gridcolor\":\"rgb(232,232,232)\",\"linecolor\":\"rgb(36,36,36)\",\"showgrid\":false,\"showline\":true,\"ticks\":\"outside\"}},\"scene\":{\"xaxis\":{\"backgroundcolor\":\"white\",\"gridcolor\":\"rgb(232,232,232)\",\"gridwidth\":2,\"linecolor\":\"rgb(36,36,36)\",\"showbackground\":true,\"showgrid\":false,\"showline\":true,\"ticks\":\"outside\",\"zeroline\":false,\"zerolinecolor\":\"rgb(36,36,36)\"},\"yaxis\":{\"backgroundcolor\":\"white\",\"gridcolor\":\"rgb(232,232,232)\",\"gridwidth\":2,\"linecolor\":\"rgb(36,36,36)\",\"showbackground\":true,\"showgrid\":false,\"showline\":true,\"ticks\":\"outside\",\"zeroline\":false,\"zerolinecolor\":\"rgb(36,36,36)\"},\"zaxis\":{\"backgroundcolor\":\"white\",\"gridcolor\":\"rgb(232,232,232)\",\"gridwidth\":2,\"linecolor\":\"rgb(36,36,36)\",\"showbackground\":true,\"showgrid\":false,\"showline\":true,\"ticks\":\"outside\",\"zeroline\":false,\"zerolinecolor\":\"rgb(36,36,36)\"}},\"shapedefaults\":{\"fillcolor\":\"black\",\"line\":{\"width\":0},\"opacity\":0.3},\"ternary\":{\"aaxis\":{\"gridcolor\":\"rgb(232,232,232)\",\"linecolor\":\"rgb(36,36,36)\",\"showgrid\":false,\"showline\":true,\"ticks\":\"outside\"},\"baxis\":{\"gridcolor\":\"rgb(232,232,232)\",\"linecolor\":\"rgb(36,36,36)\",\"showgrid\":false,\"showline\":true,\"ticks\":\"outside\"},\"bgcolor\":\"white\",\"caxis\":{\"gridcolor\":\"rgb(232,232,232)\",\"linecolor\":\"rgb(36,36,36)\",\"showgrid\":false,\"showline\":true,\"ticks\":\"outside\"}},\"title\":{\"x\":0.05},\"xaxis\":{\"automargin\":true,\"gridcolor\":\"rgb(232,232,232)\",\"linecolor\":\"rgb(36,36,36)\",\"showgrid\":false,\"showline\":true,\"ticks\":\"outside\",\"title\":{\"standoff\":15},\"zeroline\":false,\"zerolinecolor\":\"rgb(36,36,36)\"},\"yaxis\":{\"automargin\":true,\"gridcolor\":\"rgb(232,232,232)\",\"linecolor\":\"rgb(36,36,36)\",\"showgrid\":false,\"showline\":true,\"ticks\":\"outside\",\"title\":{\"standoff\":15},\"zeroline\":false,\"zerolinecolor\":\"rgb(36,36,36)\"}}},\"xaxis\":{\"anchor\":\"y\",\"domain\":[0.0,1.0],\"title\":{\"text\":\"Proportion of articles\"}},\"yaxis\":{\"anchor\":\"x\",\"domain\":[0.0,1.0],\"title\":{\"text\":\"Categories\"},\"autorange\":\"reversed\"},\"legend\":{\"title\":{\"text\":\"Gender\"},\"tracegroupgap\":0},\"title\":{\"text\":\"Fraction of women and men within each category\"},\"barmode\":\"relative\",\"height\":600,\"width\":1000},                        {\"responsive\": true}                    ).then(function(){\n",
       "                            \n",
       "var gd = document.getElementById('e139bd59-efa6-4343-8707-30d81ed6618a');\n",
       "var x = new MutationObserver(function (mutations, observer) {{\n",
       "        var display = window.getComputedStyle(gd).display;\n",
       "        if (!display || display === 'none') {{\n",
       "            console.log([gd, 'removed!']);\n",
       "            Plotly.purge(gd);\n",
       "            observer.disconnect();\n",
       "        }}\n",
       "}});\n",
       "\n",
       "// Listen for the removal of the full notebook cells\n",
       "var notebookContainer = gd.closest('#notebook-container');\n",
       "if (notebookContainer) {{\n",
       "    x.observe(notebookContainer, {childList: true});\n",
       "}}\n",
       "\n",
       "// Listen for the clearing of the current output cell\n",
       "var outputEl = gd.closest('.output');\n",
       "if (outputEl) {{\n",
       "    x.observe(outputEl, {childList: true});\n",
       "}}\n",
       "\n",
       "                        })                };                });            </script>        </div>"
      ]
     },
     "metadata": {},
     "output_type": "display_data"
    }
   ],
   "source": [
    "women_count = people[people['gender'] == \"female\"][\"category\"].count()\n",
    "men_count = people[people['gender'] == \"male\"][\"category\"].count()\n",
    "number_of_people_per_cat = people.groupby(\"category\")[\"gender\"].count()\n",
    "men_women_proportion = pd.DataFrame({'women': women_people/number_of_people_per_cat,'men': men_people/number_of_people_per_cat}, index=index).sort_values(by = [\"women\"], ascending = False)\n",
    "men_women_proportion.fillna(0,inplace=True)\n",
    "\n",
    "fig = px.bar(men_women_proportion, x='women')\n",
    "\n",
    "# plotly\n",
    "fig = px.bar(men_women_proportion, \n",
    "             x = [category for category in men_women_proportion.columns],\n",
    "             y = men_women_proportion.transpose().columns.str.replace('_', ' '),\n",
    "             color_discrete_sequence = ['hotpink','skyblue'],\n",
    "             title = 'Fraction of women and men within each category',\n",
    "             labels={\"y\": \"Categories\",\n",
    "                     \"value\": \"Proportion of articles\",\n",
    "                     \"variable\": \"Gender\"},\n",
    "             orientation='h',\n",
    "             width=1000, height=600,\n",
    "            template = 'simple_white')\n",
    "fig.update_layout(yaxis=dict(autorange=\"reversed\"))\n",
    "fig.show()\n",
    "\n",
    "#fig.to_html(full_html = False, include_plotlyjs='cdn')\n",
    "#fig.write_html(\"datastory_plot/plot2.html\", full_html=False, include_plotlyjs='cdn')"
   ]
  },
  {
   "cell_type": "code",
   "execution_count": 291,
   "id": "6adebb00-647c-42cc-af0b-546f4ffab08a",
   "metadata": {},
   "outputs": [],
   "source": [
    "df = pd.DataFrame([[women/(women+men),women_finished/(women_finished+men_finished),women_unfinished/(women_unfinished+men_unfinished)],\n",
    "                   [men/(women+men),men_finished/(women_finished+men_finished),men_unfinished/(women_unfinished+men_unfinished)]], \n",
    "                  columns=[\"All paths\", \"Finished paths\", \"Unfinished paths\"], index=[\"women\", \"men\"])"
   ]
  },
  {
   "cell_type": "code",
   "execution_count": 292,
   "id": "c9605ace-8cd7-4328-a8aa-6fdd5f0a3107",
   "metadata": {},
   "outputs": [],
   "source": [
    "df = pd.DataFrame([[women,women_finished,women_unfinished],\n",
    "                   [men,men_finished,men_unfinished]], \n",
    "                  columns=[\"All paths\", \"Finished paths\", \"Unfinished paths\"], index=[\"women\", \"men\"])"
   ]
  },
  {
   "cell_type": "code",
   "execution_count": 293,
   "id": "7b789c98-093f-4381-9172-76a65130ed2f",
   "metadata": {},
   "outputs": [
    {
     "data": {
      "image/png": "[encoded data removed]",
      "text/plain": [
       "<Figure size 432x288 with 1 Axes>"
      ]
     },
     "metadata": {
      "needs_background": "light"
     },
     "output_type": "display_data"
    }
   ],
   "source": [
    "import numpy as np\n",
    "import matplotlib.pyplot as plt\n",
    "\n",
    "x,y = np.meshgrid(df.columns, df.index)\n",
    "\n",
    "#df *= 0.3\n",
    "plt.scatter(x=x.flatten(), y=y.flatten(), s=df.values.flatten())\n",
    "plt.margins(.4)\n",
    "plt.show()"
   ]
  },
  {
   "cell_type": "code",
   "execution_count": null,
   "id": "31d2c353-0653-472e-b4ec-a6d6f5b54cde",
   "metadata": {},
   "outputs": [],
   "source": [
    "df"
   ]
  }
 ],
 "metadata": {
  "kernelspec": {
   "display_name": "Python 3 (ipykernel)",
   "language": "python",
   "name": "python3"
  },
  "language_info": {
   "codemirror_mode": {
    "name": "ipython",
    "version": 3
   },
   "file_extension": ".py",
   "mimetype": "text/x-python",
   "name": "python",
   "nbconvert_exporter": "python",
   "pygments_lexer": "ipython3",
   "version": "3.9.12"
  },
  "vscode": {
   "interpreter": {
    "hash": "60762f2c9dc1d733e9baa8b0211c4ce87ae4eb5a78219e2c34414973c6c0791c"
   }
  }
 },
 "nbformat": 4,
 "nbformat_minor": 5
}
