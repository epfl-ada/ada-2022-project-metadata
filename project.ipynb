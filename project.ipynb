{
 "cells": [
  {
   "cell_type": "markdown",
   "id": "01031411",
   "metadata": {},
   "source": [
    "# **Wikiwomen: An analysis on gender bias**\n",
    "*metADAta*"
   ]
  },
  {
   "cell_type": "markdown",
   "id": "3db8b982-f712-4f2a-9a04-f0486d667e7c",
   "metadata": {},
   "source": [
    "We begin with taking a look at the Wikispeedia dataset and importing the files from it. The dataframe `female` is an additional dataset that we constructed ourselves."
   ]
  },
  {
   "cell_type": "markdown",
   "id": "df0a8500-5bb9-4700-a910-b84d4e53af6c",
   "metadata": {
    "tags": []
   },
   "source": [
    "### **Dataframes: Columns and descriptions**"
   ]
  },
  {
   "cell_type": "markdown",
   "id": "39b87131-460b-4592-b915-89e362596e7e",
   "metadata": {},
   "source": [
    "| Name of dataframe | Columns                                                         | Description                                                                   |   |   |\n",
    "|-------------------|-----------------------------------------------------------------|-------------------------------------------------------------------------------|---|---|\n",
    "| articles          | [article]                                                       | Contains the name of a wikispeedia article                                    |   |   |\n",
    "| categories        | [article, category]                                             | Contains the name of a wikispeedia article and its corresponding category     |   |   |\n",
    "| links             | [link_source, link_target]                                      | Contains the source and target article between links         |   |   |\n",
    "| paths_finished    | [hashedIpAddress, timestamp, durationInSec, path, rating]       | Contains all finished paths                                                   |   |   |\n",
    "| paths_unfinished  | [hashedIpAddress, timestamp, durationInSec, path, target, type] | Contains all unfinished paths. Type refers to the reason they were unfinished |   |   |\n",
    "| shortest_distance_text  | array | Every row corresponds to a source article, in the same order as they appear in *articles*, and its value contains the shortest distance from that source article to every other article.  |   |   |\n",
    "| female  | [name, womenLabel] | Contains a list of articles about females and their corresponding subcategory |   |   |"
   ]
  },
  {
   "cell_type": "markdown",
   "id": "b9b449b4-a3d4-48fc-afe8-3c6ac1e22130",
   "metadata": {
    "tags": []
   },
   "source": [
    "### **Importing the data**"
   ]
  },
  {
   "cell_type": "code",
   "execution_count": 56,
   "id": "fa4e0832",
   "metadata": {
    "vscode": {
     "languageId": "plaintext"
    }
   },
   "outputs": [],
   "source": [
    "import numpy as np\n",
    "import pandas as pd\n",
    "import matplotlib.pyplot as plt\n",
    "%matplotlib inline\n",
    "\n",
    "DATA_FOLDER = 'data/'\n",
    "WIKISPEEDIA_PATHS = DATA_FOLDER + \"wikispeedia_paths-and-graph/\"\n",
    "\n",
    "ARTICLES = WIKISPEEDIA_PATHS + \"articles.tsv\"\n",
    "CATEGORIES = WIKISPEEDIA_PATHS + \"categories.tsv\"\n",
    "LINKS = WIKISPEEDIA_PATHS + \"links.tsv\"\n",
    "PATHS_FINISHED = WIKISPEEDIA_PATHS + \"paths_finished.tsv\"\n",
    "PATHS_UNFINISHED = WIKISPEEDIA_PATHS + \"paths_unfinished.tsv\"\n",
    "SHORTEST_PATHS = WIKISPEEDIA_PATHS + \"shortest-path-distance-matrix.txt\"\n",
    "FEMALES = DATA_FOLDER + \"listwomen.txt\""
   ]
  },
  {
   "cell_type": "code",
   "execution_count": 57,
   "id": "1168595d",
   "metadata": {
    "vscode": {
     "languageId": "plaintext"
    }
   },
   "outputs": [],
   "source": [
    "articles = pd.read_csv(ARTICLES, sep='\\t', names=[\"article\"], skiprows = 12)\n",
    "categories = pd.read_csv(CATEGORIES, sep='\\t', names=[\"article\", \"category\"], skiprows = 13)\n",
    "links = pd.read_csv(LINKS, sep='\\t', names=[\"link_source\", \"link_target\"], skiprows = 12)\n",
    "paths_finished = pd.read_csv(PATHS_FINISHED, sep='\\t', names=[\"hashedIpAddress\", \"timestamp\", \n",
    "                                                              \"durationInSec\", \"path\", \"rating\"], skiprows = 15)\n",
    "paths_unfinished = pd.read_csv(PATHS_UNFINISHED, sep='\\t', names=[\"hashedIpAddress\", \"timestamp\", \n",
    "                                                                  \"durationInSec\", \"path\", \"target\", \"type\"], skiprows = 17)\n",
    "shortest_distance_text = np.loadtxt(SHORTEST_PATHS, dtype=str, comments=\"#\", unpack=False)\n",
    "female = pd.read_csv(FEMALES, sep=',', names=[\"name\", \"women_label\"], skiprows = 1)"
   ]
  },
  {
   "cell_type": "markdown",
   "id": "c1500b4a-4015-433c-99ce-7c8d1920f471",
   "metadata": {
    "tags": []
   },
   "source": [
    "##### **Articles**"
   ]
  },
  {
   "cell_type": "code",
   "execution_count": 4,
   "id": "511c4279-a524-4ee9-a353-6bb563d98cba",
   "metadata": {},
   "outputs": [
    {
     "name": "stdout",
     "output_type": "stream",
     "text": [
      "Number of articles in the dataset: 4604\n"
     ]
    }
   ],
   "source": [
    "print(f\"Number of articles in the dataset: {len(articles)}\")"
   ]
  },
  {
   "cell_type": "markdown",
   "id": "fc0b1539-f03a-4bf8-91fc-2d3413cf004a",
   "metadata": {
    "tags": []
   },
   "source": [
    "##### **Categories**"
   ]
  },
  {
   "cell_type": "code",
   "execution_count": 5,
   "id": "37f99595-aa28-4ffa-97f9-0f78d4d1a1a4",
   "metadata": {},
   "outputs": [
    {
     "name": "stdout",
     "output_type": "stream",
     "text": [
      "Number of rows in the dataset: 5204\n"
     ]
    }
   ],
   "source": [
    "print(f\"Number of rows in the dataset: {len(categories)}\")"
   ]
  },
  {
   "cell_type": "code",
   "execution_count": 11,
   "id": "f819eded-973a-474f-b201-8d84af29e853",
   "metadata": {},
   "outputs": [
    {
     "name": "stdout",
     "output_type": "stream",
     "text": [
      "The number of categories are 129\n"
     ]
    }
   ],
   "source": [
    "# Number of articles in each category\n",
    "n_artcat = categories.groupby(categories[\"category\"]).nunique()\n",
    "\n",
    "print(f\"The number of categories are {len(n_artcat)}\")"
   ]
  },
  {
   "cell_type": "markdown",
   "id": "272492b5-864c-4fae-9c03-25a44e03e620",
   "metadata": {
    "tags": []
   },
   "source": [
    "##### **Links**"
   ]
  },
  {
   "cell_type": "code",
   "execution_count": 7,
   "id": "e118346a-74b4-4d9c-8d8b-d3560dab5e9c",
   "metadata": {},
   "outputs": [
    {
     "name": "stdout",
     "output_type": "stream",
     "text": [
      "Number of combinations of source and target articles in the dataset: 119882\n"
     ]
    }
   ],
   "source": [
    "print(f\"Number of combinations of source and target articles in the dataset: {len(links)}\")"
   ]
  },
  {
   "cell_type": "markdown",
   "id": "fc18aa3b-638f-48e7-a5d0-74cbbb984b61",
   "metadata": {
    "tags": []
   },
   "source": [
    "##### **Finished paths**"
   ]
  },
  {
   "cell_type": "code",
   "execution_count": 8,
   "id": "8a8880d3-425f-4c85-93cc-dbf9666b62ba",
   "metadata": {},
   "outputs": [
    {
     "name": "stdout",
     "output_type": "stream",
     "text": [
      "Number of finished paths: 51318\n"
     ]
    }
   ],
   "source": [
    "print(f\"Number of finished paths: {len(paths_finished)}\")"
   ]
  },
  {
   "cell_type": "markdown",
   "id": "33a12745-f6f3-47d6-a76f-9e889411a5f1",
   "metadata": {
    "tags": []
   },
   "source": [
    "##### **Unfinished paths**"
   ]
  },
  {
   "cell_type": "code",
   "execution_count": 9,
   "id": "f75146f9-3079-4ed8-8f1f-026505829f41",
   "metadata": {},
   "outputs": [
    {
     "name": "stdout",
     "output_type": "stream",
     "text": [
      "Number of unfinished paths: 24875\n"
     ]
    }
   ],
   "source": [
    "print(f\"Number of unfinished paths: {len(paths_unfinished)}\")"
   ]
  },
  {
   "cell_type": "markdown",
   "id": "938dc3d4-47fb-49a6-87fa-f294f47be5be",
   "metadata": {
    "tags": []
   },
   "source": [
    "##### **Females**"
   ]
  },
  {
   "cell_type": "code",
   "execution_count": 10,
   "id": "25cdfc1f-9033-4487-ac2a-70f949072f8f",
   "metadata": {},
   "outputs": [
    {
     "name": "stdout",
     "output_type": "stream",
     "text": [
      "Number of articles about women: 58\n"
     ]
    }
   ],
   "source": [
    "print(f\"Number of articles about women: {len(female)}\")"
   ]
  },
  {
   "cell_type": "markdown",
   "id": "35e037f6-1258-4dfd-a894-fa90aa37f040",
   "metadata": {},
   "source": [
    "### **Data preproccessing and visualizations**"
   ]
  },
  {
   "cell_type": "markdown",
   "id": "8f4e4b86-72c6-474d-ae22-8f8e1f6b2240",
   "metadata": {},
   "source": [
    "For our project, we are mainly interested in one category within the Wikispeedia dataset, namely the category of People, the one colored red in the following bar plot. "
   ]
  },
  {
   "cell_type": "code",
   "execution_count": 58,
   "id": "ff04d846-096e-434c-9b23-f620a3d3beb5",
   "metadata": {},
   "outputs": [],
   "source": [
    "main_categories = pd.concat([categories, categories['category'].str.split(\".\", expand=True)], axis=1)\n",
    "main_categories = main_categories.drop(columns = [\"category\", 0, 2, 3])\n",
    "main_categories = main_categories.rename(columns = {\"article\": \"name\", 1: \"main_category\"})"
   ]
  },
  {
   "cell_type": "code",
   "execution_count": 59,
   "id": "129baaa1-c1f5-4cc3-becf-2ab527225fca",
   "metadata": {},
   "outputs": [
    {
     "data": {
      "image/png": "[encoded data removed]",
      "text/plain": [
       "<Figure size 640x480 with 1 Axes>"
      ]
     },
     "metadata": {},
     "output_type": "display_data"
    }
   ],
   "source": [
    "# plotting the distribution of main_categories\n",
    "maincategories_dist = main_categories[\"main_category\"].value_counts()\n",
    "colors = ['tab:red' if (x == \"People\") else 'tab:blue' for x in maincategories_dist.keys()]\n",
    "maincategories_dist.plot.bar(title = \"Distribution of main categories\",\n",
    "                             ylabel = 'Number of articles', \n",
    "                             color = colors,\n",
    "                             width = 0.7)\n",
    "plt.show()"
   ]
  },
  {
   "cell_type": "markdown",
   "id": "84083773-951c-4c34-ba52-024594884e64",
   "metadata": {},
   "source": [
    "We will now take a closer look of the articles and their subcategories within the People category."
   ]
  },
  {
   "cell_type": "code",
   "execution_count": 60,
   "id": "ba83e10c-012d-43b3-b7ef-bffc72a3638b",
   "metadata": {},
   "outputs": [],
   "source": [
    "# finding the articles that are in the People category\n",
    "categories[\"category_people\"] = categories[\"category\"].apply(lambda x: x.startswith('subject.People.'))\n",
    "\n",
    "# constructing a new dataframe called people, only with articles from the people category\n",
    "people = categories[categories[\"category_people\"] == True]\n",
    "\n",
    "# splitting the categories into main- and subcategories\n",
    "people = pd.concat([people, people['category'].str.split(\".\", expand=True)], axis=1)\n",
    "people = people.drop(columns = [\"category_people\", \"category\", 0, 1])\n",
    "people = people.rename(columns = {\"article\":\"name\", 2:\"category\"})"
   ]
  },
  {
   "cell_type": "code",
   "execution_count": 61,
   "id": "6493b2fb-445b-4ed1-b9a2-c42c8d3a97d7",
   "metadata": {},
   "outputs": [
    {
     "name": "stdout",
     "output_type": "stream",
     "text": [
      "The number of articles about people are 689\n"
     ]
    },
    {
     "data": {
      "image/png": "[encoded data removed]",
      "text/plain": [
       "<Figure size 640x480 with 1 Axes>"
      ]
     },
     "metadata": {},
     "output_type": "display_data"
    }
   ],
   "source": [
    "print(f\"The number of articles about people are {len(people)}\")\n",
    "\n",
    "# plotting the distribution of subcategories within the People category\n",
    "subcategories_dist = people[\"category\"].value_counts()\n",
    "subcategories_dist.plot.bar(title = \"Distribution of subcategories for the People category\",\n",
    "                            ylabel = 'Number of articles about people', \n",
    "                            color = \"tab:red\", width = 0.7)\n",
    "plt.show()"
   ]
  },
  {
   "cell_type": "markdown",
   "id": "e93a0120-061e-4f93-8f66-2ed58e746a0d",
   "metadata": {},
   "source": [
    "For our project goals, we need to be able to identify between women and men articles. In the following cells, we will do so by using the `female` dataframe, as well as finding every node degree, i.e., every number of incoming and outcoming links from every article."
   ]
  },
  {
   "cell_type": "code",
   "execution_count": 62,
   "id": "f15e1441-4555-4abd-94ca-4eded1eb3e85",
   "metadata": {},
   "outputs": [
    {
     "data": {
      "text/html": [
       "<div>\n",
       "<style scoped>\n",
       "    .dataframe tbody tr th:only-of-type {\n",
       "        vertical-align: middle;\n",
       "    }\n",
       "\n",
       "    .dataframe tbody tr th {\n",
       "        vertical-align: top;\n",
       "    }\n",
       "\n",
       "    .dataframe thead th {\n",
       "        text-align: right;\n",
       "    }\n",
       "</style>\n",
       "<table border=\"1\" class=\"dataframe\">\n",
       "  <thead>\n",
       "    <tr style=\"text-align: right;\">\n",
       "      <th></th>\n",
       "      <th>name</th>\n",
       "      <th>category</th>\n",
       "      <th>gender</th>\n",
       "      <th>nr_link_in</th>\n",
       "      <th>nr_link_out</th>\n",
       "    </tr>\n",
       "  </thead>\n",
       "  <tbody>\n",
       "    <tr>\n",
       "      <th>1</th>\n",
       "      <td>%C3%81ed%C3%A1n_mac_Gabr%C3%A1in</td>\n",
       "      <td>Historical_figures</td>\n",
       "      <td>male</td>\n",
       "      <td>NaN</td>\n",
       "      <td>11</td>\n",
       "    </tr>\n",
       "    <tr>\n",
       "      <th>4</th>\n",
       "      <td>%C3%89douard_Manet</td>\n",
       "      <td>Artists</td>\n",
       "      <td>male</td>\n",
       "      <td>NaN</td>\n",
       "      <td>20</td>\n",
       "    </tr>\n",
       "    <tr>\n",
       "      <th>8</th>\n",
       "      <td>%C3%93engus_I_of_the_Picts</td>\n",
       "      <td>Historical_figures</td>\n",
       "      <td>male</td>\n",
       "      <td>NaN</td>\n",
       "      <td>10</td>\n",
       "    </tr>\n",
       "    <tr>\n",
       "      <th>67</th>\n",
       "      <td>A._E._J._Collins</td>\n",
       "      <td>Sports_and_games_people</td>\n",
       "      <td>male</td>\n",
       "      <td>NaN</td>\n",
       "      <td>9</td>\n",
       "    </tr>\n",
       "    <tr>\n",
       "      <th>88</th>\n",
       "      <td>Abbas_I_of_Persia</td>\n",
       "      <td>Historical_figures</td>\n",
       "      <td>male</td>\n",
       "      <td>NaN</td>\n",
       "      <td>14</td>\n",
       "    </tr>\n",
       "  </tbody>\n",
       "</table>\n",
       "</div>"
      ],
      "text/plain": [
       "                                name                 category gender  \\\n",
       "1   %C3%81ed%C3%A1n_mac_Gabr%C3%A1in       Historical_figures   male   \n",
       "4                 %C3%89douard_Manet                  Artists   male   \n",
       "8         %C3%93engus_I_of_the_Picts       Historical_figures   male   \n",
       "67                  A._E._J._Collins  Sports_and_games_people   male   \n",
       "88                 Abbas_I_of_Persia       Historical_figures   male   \n",
       "\n",
       "    nr_link_in  nr_link_out  \n",
       "1          NaN           11  \n",
       "4          NaN           20  \n",
       "8          NaN           10  \n",
       "67         NaN            9  \n",
       "88         NaN           14  "
      ]
     },
     "execution_count": 62,
     "metadata": {},
     "output_type": "execute_result"
    }
   ],
   "source": [
    "# identify women and men in people\n",
    "people[\"gender\"] =  people['name'].isin(female[\"name\"])\n",
    "people[\"gender\"] = people[\"gender\"].apply(lambda x: \"female\" if x else \"male\")\n",
    "\n",
    "# counting in- and out-links for every article\n",
    "count_links_src = links.link_source.value_counts()\n",
    "count_links_target = links.link_target.value_counts()\n",
    "\n",
    "# drop all people that have no in_link -> impossible to reach the article\n",
    "people = people.merge(count_links_src, how = \"left\", left_on = \"name\", right_index = True)\n",
    "people = people.merge(count_links_target, how = \"inner\", left_on = \"name\", right_index = True)\n",
    "people = people.rename(columns = {\"link_source\": \"nr_link_out\", \"link_target\": \"nr_link_in\"})\n",
    "people.head()"
   ]
  },
  {
   "cell_type": "code",
   "execution_count": 65,
   "id": "420631c0-4f37-4189-844f-872b65602421",
   "metadata": {},
   "outputs": [
    {
     "data": {
      "image/png": "[encoded data removed]",
      "text/plain": [
       "<Figure size 640x480 with 1 Axes>"
      ]
     },
     "metadata": {},
     "output_type": "display_data"
    }
   ],
   "source": [
    "women_people = people[people['gender'] == \"female\"][\"category\"].value_counts()\n",
    "men_people = people[people['gender'] == \"male\"][\"category\"].value_counts()\n",
    "index = men_people.keys()\n",
    "men_women_cat = pd.DataFrame({'women': women_people,'men': men_people}, index=index).sort_values(by = [\"women\"], ascending = False)\n",
    "ax = men_women_cat.plot.bar(stacked = True, color = ['hotpink', 'deepskyblue'], \n",
    "                            title = \"Distribution of subcategories for women and men\",\n",
    "                            ylabel = 'Number of articles', width = 0.7)\n",
    "\n",
    "plt.show()"
   ]
  },
  {
   "cell_type": "markdown",
   "id": "f2a2a1cb-46fa-4fd9-8dfb-92a271ed34b4",
   "metadata": {},
   "source": [
    "Now, we will construct a new dataframe called `path_overview` that contains the following columns:\n",
    "\n",
    "| **Column_name**      | **Description**                                                     |\n",
    "|----------------------|---------------------------------------------------------------------|\n",
    "| source               | Source article of navigated path                                    |\n",
    "| target               | Target article of navigated path                                    |\n",
    "| finished             | True if path was finished, false otherwise                          |\n",
    "| human_path_length    | The length of the path it took the user to go from source to target |\n",
    "| shortest_path_length | Shortest possible path from a source to a target                    |\n",
    "| durationInSec        | Duration of game                                                    |\n",
    "| type                 | Reason for unfinished game                                          |\n",
    "| failure_article      | Title of article where game was failed (unfinished)                 |"
   ]
  },
  {
   "cell_type": "code",
   "execution_count": 10,
   "id": "1dc67897-8135-4673-bd58-ce9520c062c2",
   "metadata": {},
   "outputs": [],
   "source": [
    "def process_path(path):\n",
    "    '''\n",
    "    Decompose a path and find its length. \n",
    "    Assumption: When back-clicks are encountered, we increase the path length by 1.\n",
    "    :param path: a full-length path\n",
    "    :return: source, target, length\n",
    "    '''\n",
    "    p = path.split(\";\")\n",
    "    source = p[0]\n",
    "    target = p[-1]\n",
    "    length = len(p)\n",
    "    return source, target, length"
   ]
  },
  {
   "cell_type": "code",
   "execution_count": 11,
   "id": "f725f5b3-75f8-4eaa-87c3-1f2a1103c4b8",
   "metadata": {},
   "outputs": [],
   "source": [
    "# expand the finished paths \n",
    "path_fin = paths_finished.copy()\n",
    "path_fin[\"source\"], path_fin[\"target\"], path_fin[\"human_path_length\"] =  zip(*paths_finished['path'].apply(lambda x: process_path(x)))\n",
    "path_fin[\"finished\"] = True\n",
    "\n",
    "# expand the unfinished paths\n",
    "path_ufin = paths_unfinished.copy()\n",
    "path_ufin[\"source\"], path_ufin[\"failure_article\"], path_ufin[\"human_path_length\"] = zip(*paths_unfinished['path'].apply(lambda x: process_path(x)))\n",
    "path_ufin[\"finished\"] = False\n",
    "path_ufin['target'] = paths_unfinished[\"target\"]\n",
    "\n",
    "# construct a new dataframe: path_overview\n",
    "path_overview = pd.concat([path_fin, path_ufin])\n",
    "path_overview = path_overview[[\"source\", \"target\", \"finished\", \"human_path_length\", \n",
    "                               \"durationInSec\", \"type\", \"failure_article\"]]"
   ]
  },
  {
   "cell_type": "markdown",
   "id": "01ebaaf3-8134-4fb8-96e0-1aa21421e2e8",
   "metadata": {},
   "source": [
    "**Finding the shortest path length and adding it to `path_overview`:**"
   ]
  },
  {
   "cell_type": "code",
   "execution_count": 12,
   "id": "5caab9c0-7283-43e5-b088-bcce1c207f8d",
   "metadata": {},
   "outputs": [],
   "source": [
    "# The Shortest Distance Matrix is created from the imported data\n",
    "shortest_distance_matrix = [] # TODO: Might want to have them as numpy arrays from the beginning\n",
    "for row in shortest_distance_text:\n",
    "    row_formated = [] \n",
    "    for c in row:\n",
    "        if c.isdigit(): #TODO: Might want to do with safe casting instead\n",
    "            row_formated.append(int(c))\n",
    "        else:\n",
    "            row_formated.append(-1) ## If there is no path between two articles it's represented with -1\n",
    "        \n",
    "    shortest_distance_matrix.append(np.array(row_formated))\n",
    "\n",
    "shortest_distance_matrix = np.array(shortest_distance_matrix)\n",
    "\n",
    "#How to access multiple values in the matrix at once shortest_distance_matrix[(row1,row2,row3),(col1,col2,col3)]"
   ]
  },
  {
   "cell_type": "code",
   "execution_count": 13,
   "id": "605b9604-26da-45b1-8008-0836df0604ba",
   "metadata": {},
   "outputs": [],
   "source": [
    "# Paths with target articles that don't exist are deleted\n",
    "condition = ~(path_overview['target'].isin(articles['article'].array))\n",
    "path_overview = path_overview.drop(path_overview[condition].index)"
   ]
  },
  {
   "cell_type": "code",
   "execution_count": 14,
   "id": "aa6c171e-42b0-485f-85ec-39d4f69cbeb2",
   "metadata": {},
   "outputs": [],
   "source": [
    "# shortest path length is added to the path_overview\n",
    "\n",
    "def get_articles_indexes(article_names):\n",
    "    indexes = []\n",
    "    for article in article_names.array:\n",
    "        indexes.append(articles.index[articles['article'] == article].tolist()[0])\n",
    "    return tuple(indexes)\n",
    "\n",
    "path_overview['shortest_path_length'] = shortest_distance_matrix[get_articles_indexes(path_overview['source']), \n",
    "                                                                 get_articles_indexes(path_overview['target'])]"
   ]
  },
  {
   "cell_type": "code",
   "execution_count": 15,
   "id": "ba0664a5-0561-4588-8928-d9c3d3c5555d",
   "metadata": {},
   "outputs": [
    {
     "data": {
      "text/html": [
       "<div>\n",
       "<style scoped>\n",
       "    .dataframe tbody tr th:only-of-type {\n",
       "        vertical-align: middle;\n",
       "    }\n",
       "\n",
       "    .dataframe tbody tr th {\n",
       "        vertical-align: top;\n",
       "    }\n",
       "\n",
       "    .dataframe thead th {\n",
       "        text-align: right;\n",
       "    }\n",
       "</style>\n",
       "<table border=\"1\" class=\"dataframe\">\n",
       "  <thead>\n",
       "    <tr style=\"text-align: right;\">\n",
       "      <th></th>\n",
       "      <th>source</th>\n",
       "      <th>target</th>\n",
       "      <th>finished</th>\n",
       "      <th>human_path_length</th>\n",
       "      <th>shortest_path_length</th>\n",
       "      <th>durationInSec</th>\n",
       "      <th>type</th>\n",
       "      <th>failure_article</th>\n",
       "    </tr>\n",
       "  </thead>\n",
       "  <tbody>\n",
       "    <tr>\n",
       "      <th>0</th>\n",
       "      <td>14th_century</td>\n",
       "      <td>African_slave_trade</td>\n",
       "      <td>True</td>\n",
       "      <td>9</td>\n",
       "      <td>3</td>\n",
       "      <td>166</td>\n",
       "      <td>NaN</td>\n",
       "      <td>NaN</td>\n",
       "    </tr>\n",
       "    <tr>\n",
       "      <th>1</th>\n",
       "      <td>14th_century</td>\n",
       "      <td>African_slave_trade</td>\n",
       "      <td>True</td>\n",
       "      <td>5</td>\n",
       "      <td>3</td>\n",
       "      <td>88</td>\n",
       "      <td>NaN</td>\n",
       "      <td>NaN</td>\n",
       "    </tr>\n",
       "    <tr>\n",
       "      <th>2</th>\n",
       "      <td>14th_century</td>\n",
       "      <td>African_slave_trade</td>\n",
       "      <td>True</td>\n",
       "      <td>8</td>\n",
       "      <td>3</td>\n",
       "      <td>138</td>\n",
       "      <td>NaN</td>\n",
       "      <td>NaN</td>\n",
       "    </tr>\n",
       "    <tr>\n",
       "      <th>3</th>\n",
       "      <td>14th_century</td>\n",
       "      <td>Greece</td>\n",
       "      <td>True</td>\n",
       "      <td>4</td>\n",
       "      <td>2</td>\n",
       "      <td>37</td>\n",
       "      <td>NaN</td>\n",
       "      <td>NaN</td>\n",
       "    </tr>\n",
       "    <tr>\n",
       "      <th>4</th>\n",
       "      <td>14th_century</td>\n",
       "      <td>John_F._Kennedy</td>\n",
       "      <td>True</td>\n",
       "      <td>7</td>\n",
       "      <td>3</td>\n",
       "      <td>175</td>\n",
       "      <td>NaN</td>\n",
       "      <td>NaN</td>\n",
       "    </tr>\n",
       "    <tr>\n",
       "      <th>...</th>\n",
       "      <td>...</td>\n",
       "      <td>...</td>\n",
       "      <td>...</td>\n",
       "      <td>...</td>\n",
       "      <td>...</td>\n",
       "      <td>...</td>\n",
       "      <td>...</td>\n",
       "      <td>...</td>\n",
       "    </tr>\n",
       "    <tr>\n",
       "      <th>24870</th>\n",
       "      <td>Franz_Kafka</td>\n",
       "      <td>Cholera</td>\n",
       "      <td>False</td>\n",
       "      <td>8</td>\n",
       "      <td>3</td>\n",
       "      <td>180</td>\n",
       "      <td>restart</td>\n",
       "      <td>Ghana</td>\n",
       "    </tr>\n",
       "    <tr>\n",
       "      <th>24871</th>\n",
       "      <td>Modern_history</td>\n",
       "      <td>Hollandic</td>\n",
       "      <td>False</td>\n",
       "      <td>1</td>\n",
       "      <td>3</td>\n",
       "      <td>6</td>\n",
       "      <td>restart</td>\n",
       "      <td>Modern_history</td>\n",
       "    </tr>\n",
       "    <tr>\n",
       "      <th>24872</th>\n",
       "      <td>Computer_programming</td>\n",
       "      <td>The_Beatles</td>\n",
       "      <td>False</td>\n",
       "      <td>5</td>\n",
       "      <td>3</td>\n",
       "      <td>1900</td>\n",
       "      <td>timeout</td>\n",
       "      <td>&lt;</td>\n",
       "    </tr>\n",
       "    <tr>\n",
       "      <th>24873</th>\n",
       "      <td>Jamaica</td>\n",
       "      <td>Alan_Turing</td>\n",
       "      <td>False</td>\n",
       "      <td>4</td>\n",
       "      <td>3</td>\n",
       "      <td>1903</td>\n",
       "      <td>timeout</td>\n",
       "      <td>Battle_of_Midway</td>\n",
       "    </tr>\n",
       "    <tr>\n",
       "      <th>24874</th>\n",
       "      <td>Mark_Antony</td>\n",
       "      <td>Feather</td>\n",
       "      <td>False</td>\n",
       "      <td>5</td>\n",
       "      <td>3</td>\n",
       "      <td>352</td>\n",
       "      <td>restart</td>\n",
       "      <td>Computer</td>\n",
       "    </tr>\n",
       "  </tbody>\n",
       "</table>\n",
       "<p>76117 rows × 8 columns</p>\n",
       "</div>"
      ],
      "text/plain": [
       "                     source               target  finished  human_path_length  \\\n",
       "0              14th_century  African_slave_trade      True                  9   \n",
       "1              14th_century  African_slave_trade      True                  5   \n",
       "2              14th_century  African_slave_trade      True                  8   \n",
       "3              14th_century               Greece      True                  4   \n",
       "4              14th_century      John_F._Kennedy      True                  7   \n",
       "...                     ...                  ...       ...                ...   \n",
       "24870           Franz_Kafka              Cholera     False                  8   \n",
       "24871        Modern_history            Hollandic     False                  1   \n",
       "24872  Computer_programming          The_Beatles     False                  5   \n",
       "24873               Jamaica          Alan_Turing     False                  4   \n",
       "24874           Mark_Antony              Feather     False                  5   \n",
       "\n",
       "       shortest_path_length  durationInSec     type   failure_article  \n",
       "0                         3            166      NaN               NaN  \n",
       "1                         3             88      NaN               NaN  \n",
       "2                         3            138      NaN               NaN  \n",
       "3                         2             37      NaN               NaN  \n",
       "4                         3            175      NaN               NaN  \n",
       "...                     ...            ...      ...               ...  \n",
       "24870                     3            180  restart             Ghana  \n",
       "24871                     3              6  restart    Modern_history  \n",
       "24872                     3           1900  timeout                 <  \n",
       "24873                     3           1903  timeout  Battle_of_Midway  \n",
       "24874                     3            352  restart          Computer  \n",
       "\n",
       "[76117 rows x 8 columns]"
      ]
     },
     "execution_count": 15,
     "metadata": {},
     "output_type": "execute_result"
    }
   ],
   "source": [
    "# Infeasible source -> target paths are removed, where the shortest path is -1\n",
    "path_overview = path_overview.drop(path_overview[path_overview['shortest_path_length'] < 0].index) \n",
    "path_overview.insert(4, 'shortest_path_length', path_overview.pop('shortest_path_length'))\n",
    "path_overview"
   ]
  },
  {
   "cell_type": "code",
   "execution_count": 16,
   "id": "a2f88aab-6229-4832-8b37-00e1a294855c",
   "metadata": {},
   "outputs": [],
   "source": [
    "# save dataframe to file\n",
    "path_overview.to_csv(\"./data/all_paths_overview.csv\")"
   ]
  },
  {
   "cell_type": "markdown",
   "id": "b043af29-c5b6-4e92-a7c0-99e2ab430af0",
   "metadata": {},
   "source": [
    "Let's turn our attention to all people, and identify the paths in `path_overview` that only have people as target article:"
   ]
  },
  {
   "cell_type": "code",
   "execution_count": 17,
   "id": "83fb52d3-2204-4423-b2a3-5721e384961a",
   "metadata": {},
   "outputs": [],
   "source": [
    "# find only targets that are people\n",
    "people_target_paths = path_overview.merge(people[['name', 'category', 'gender']], \n",
    "                                          how = \"inner\", left_on = \"target\", right_on = \"name\")"
   ]
  },
  {
   "cell_type": "markdown",
   "id": "c06b5fa1-c544-4e37-9f97-7a4f0f2e17a7",
   "metadata": {},
   "source": [
    "We can then find all paths that have targets that are women:"
   ]
  },
  {
   "cell_type": "code",
   "execution_count": 18,
   "id": "7cdfa7a6-a80d-462d-aad4-0e50dd2e25a3",
   "metadata": {},
   "outputs": [
    {
     "name": "stdout",
     "output_type": "stream",
     "text": [
      "The number of paths that have women as a target article is 689\n"
     ]
    }
   ],
   "source": [
    "# find only targets that are women\n",
    "women_target_paths = people_target_paths[people_target_paths['gender'] == \"female\"]\n",
    "print(f\"The number of paths that have women as a target article is {len(women_target_paths)}\")"
   ]
  },
  {
   "cell_type": "markdown",
   "id": "9a9ed473-0da4-4a6e-b4c4-bd806326bcd6",
   "metadata": {},
   "source": [
    "**A closer look of men vs. women articles**"
   ]
  },
  {
   "cell_type": "code",
   "execution_count": 26,
   "id": "0d698478-263c-46b4-be5e-96fa94109dd1",
   "metadata": {},
   "outputs": [
    {
     "name": "stdout",
     "output_type": "stream",
     "text": [
      "Number of paths with a woman as a target 689\n",
      "Number of paths with a man as a target 8133\n",
      "\n",
      "Number of finished paths with a woman as a target 347\n",
      "Number of finished paths with a man as a target 5721\n",
      "\n",
      "Number of unfinished paths with a woman as a target 342\n",
      "Number of unfinished paths with a man as a target 2412\n"
     ]
    }
   ],
   "source": [
    "women = len(people_target_paths[people_target_paths['gender'] == \"female\"])\n",
    "men = len(people_target_paths[people_target_paths['gender'] == \"male\"])\n",
    "women_finished = len(people_target_paths[(people_target_paths['gender'] == \"female\") & (people_target_paths['finished'] == True)])\n",
    "men_finished = len(people_target_paths[(people_target_paths['gender'] == \"male\") & (people_target_paths['finished'] == True)])\n",
    "women_unfinished = len(people_target_paths[(people_target_paths['gender'] == \"female\") & (people_target_paths['finished'] == False)])\n",
    "men_unfinished = len(people_target_paths[(people_target_paths['gender'] == \"male\") & (people_target_paths['finished'] == False)])\n",
    "\n",
    "print(\"Number of paths with a woman as a target\", women)\n",
    "print(\"Number of paths with a man as a target\", men)\n",
    "print()\n",
    "print(\"Number of finished paths with a woman as a target\", women_finished)\n",
    "print(\"Number of finished paths with a man as a target\", men_finished)\n",
    "print()\n",
    "print(\"Number of unfinished paths with a woman as a target\", women_unfinished)\n",
    "print(\"Number of unfinished paths with a man as a target\", men_unfinished)"
   ]
  },
  {
   "cell_type": "code",
   "execution_count": 27,
   "id": "a00a77d3-d6f0-430c-9d8a-d1f9dd8af91d",
   "metadata": {},
   "outputs": [
    {
     "data": {
      "image/png": "[encoded data removed]",
      "text/plain": [
       "<Figure size 640x480 with 1 Axes>"
      ]
     },
     "metadata": {},
     "output_type": "display_data"
    }
   ],
   "source": [
    "women = [women_finished, women_unfinished]\n",
    "men = [men_finished, men_unfinished]\n",
    "index = ['Finished paths', 'Unfinished paths']\n",
    "compare_mv = pd.DataFrame({'women': women,'men': men}, index=index)\n",
    "ax = compare_mv.plot.bar(rot=0, color = ['hotpink','deepskyblue'], \n",
    "                         title = \"Number of paths that contain men vs. women as a target article\",\n",
    "                         ylabel = 'Number of paths', width = 0.8)"
   ]
  },
  {
   "cell_type": "markdown",
   "id": "f7d58aab-f488-475f-9f14-b71649330027",
   "metadata": {},
   "source": [
    "To compute the success rate of finishing a path with a certain target article, we will count how many times a game with a certain target article was finished, and divide it with the total number of paths where it was the target:"
   ]
  },
  {
   "cell_type": "code",
   "execution_count": 19,
   "id": "edd1e6bc-266c-428e-8d3d-59b7ea7b0cc2",
   "metadata": {},
   "outputs": [],
   "source": [
    "# count total, finished and unfinished number of times a target article was reached\n",
    "tot_target = people_target_paths.target.value_counts().rename(\"tot_target_count\")\n",
    "fin_target = people_target_paths[people_target_paths['finished'] == True].target.value_counts().rename(\"fin_target_count\")\n",
    "unf_target = people_target_paths[people_target_paths['finished'] == False].target.value_counts().rename(\"unf_target_count\")\n",
    "\n",
    "# add this information to the people dataframe\n",
    "people = people.merge(tot_target, how = \"left\",  left_on = \"name\", right_index = True)\n",
    "people = people.merge(unf_target, how = \"left\",  left_on = \"name\", right_index = True)\n",
    "people = people.merge(fin_target, how = \"left\",  left_on = \"name\", right_index = True)"
   ]
  },
  {
   "cell_type": "code",
   "execution_count": 20,
   "id": "24275366-e697-4e0b-b799-e1557bfe08d9",
   "metadata": {},
   "outputs": [],
   "source": [
    "# compute success rate of finishing a path\n",
    "people['succ_rate'] = people['fin_target_count']/people['tot_target_count']"
   ]
  },
  {
   "cell_type": "code",
   "execution_count": 21,
   "id": "f059d75c-6500-433f-a3cb-6f1d40840b3e",
   "metadata": {},
   "outputs": [],
   "source": [
    "people.to_csv(\"./data/people_overview.csv\")"
   ]
  },
  {
   "cell_type": "markdown",
   "id": "5f8a4746-e090-4b93-9726-c8486f24789a",
   "metadata": {},
   "source": [
    "### **Controlling for all confounding factors** - NOT FINISHED"
   ]
  },
  {
   "cell_type": "markdown",
   "id": "24d0ed8b-8bba-4575-82ef-226da7984825",
   "metadata": {},
   "source": [
    "Example: If five different paths exist from the source article *14th_century* towards the target article *Elizabeth_I_of_England*, and two different paths exist from the same source article towards the target article *John_F._Kennedy*, we would get $5 \\times 2 = 10$ number of pairs to compare."
   ]
  },
  {
   "cell_type": "code",
   "execution_count": 89,
   "id": "3f1d6378-0a87-4a4b-82b8-a93573610fb4",
   "metadata": {},
   "outputs": [
    {
     "data": {
      "text/html": [
       "<div>\n",
       "<style scoped>\n",
       "    .dataframe tbody tr th:only-of-type {\n",
       "        vertical-align: middle;\n",
       "    }\n",
       "\n",
       "    .dataframe tbody tr th {\n",
       "        vertical-align: top;\n",
       "    }\n",
       "\n",
       "    .dataframe thead th {\n",
       "        text-align: right;\n",
       "    }\n",
       "</style>\n",
       "<table border=\"1\" class=\"dataframe\">\n",
       "  <thead>\n",
       "    <tr style=\"text-align: right;\">\n",
       "      <th></th>\n",
       "      <th>source</th>\n",
       "      <th>target</th>\n",
       "      <th>finished</th>\n",
       "      <th>human_path_length</th>\n",
       "      <th>shortest_path_length</th>\n",
       "      <th>durationInSec</th>\n",
       "      <th>type</th>\n",
       "      <th>failure_article</th>\n",
       "      <th>category</th>\n",
       "      <th>gender</th>\n",
       "      <th>nr_link_in</th>\n",
       "      <th>nr_link_out</th>\n",
       "    </tr>\n",
       "  </thead>\n",
       "  <tbody>\n",
       "    <tr>\n",
       "      <th>0</th>\n",
       "      <td>14th_century</td>\n",
       "      <td>John_F._Kennedy</td>\n",
       "      <td>True</td>\n",
       "      <td>7</td>\n",
       "      <td>3</td>\n",
       "      <td>175</td>\n",
       "      <td>NaN</td>\n",
       "      <td>NaN</td>\n",
       "      <td>USA_Presidents</td>\n",
       "      <td>male</td>\n",
       "      <td>60.0</td>\n",
       "      <td>68</td>\n",
       "    </tr>\n",
       "    <tr>\n",
       "      <th>1</th>\n",
       "      <td>14th_century</td>\n",
       "      <td>John_F._Kennedy</td>\n",
       "      <td>True</td>\n",
       "      <td>6</td>\n",
       "      <td>3</td>\n",
       "      <td>110</td>\n",
       "      <td>NaN</td>\n",
       "      <td>NaN</td>\n",
       "      <td>USA_Presidents</td>\n",
       "      <td>male</td>\n",
       "      <td>60.0</td>\n",
       "      <td>68</td>\n",
       "    </tr>\n",
       "    <tr>\n",
       "      <th>2</th>\n",
       "      <td>Diamond</td>\n",
       "      <td>John_F._Kennedy</td>\n",
       "      <td>True</td>\n",
       "      <td>5</td>\n",
       "      <td>2</td>\n",
       "      <td>160</td>\n",
       "      <td>NaN</td>\n",
       "      <td>NaN</td>\n",
       "      <td>USA_Presidents</td>\n",
       "      <td>male</td>\n",
       "      <td>60.0</td>\n",
       "      <td>68</td>\n",
       "    </tr>\n",
       "    <tr>\n",
       "      <th>3</th>\n",
       "      <td>Genetics</td>\n",
       "      <td>John_F._Kennedy</td>\n",
       "      <td>True</td>\n",
       "      <td>5</td>\n",
       "      <td>3</td>\n",
       "      <td>74</td>\n",
       "      <td>NaN</td>\n",
       "      <td>NaN</td>\n",
       "      <td>USA_Presidents</td>\n",
       "      <td>male</td>\n",
       "      <td>60.0</td>\n",
       "      <td>68</td>\n",
       "    </tr>\n",
       "    <tr>\n",
       "      <th>4</th>\n",
       "      <td>Genetics</td>\n",
       "      <td>John_F._Kennedy</td>\n",
       "      <td>True</td>\n",
       "      <td>5</td>\n",
       "      <td>3</td>\n",
       "      <td>125</td>\n",
       "      <td>NaN</td>\n",
       "      <td>NaN</td>\n",
       "      <td>USA_Presidents</td>\n",
       "      <td>male</td>\n",
       "      <td>60.0</td>\n",
       "      <td>68</td>\n",
       "    </tr>\n",
       "    <tr>\n",
       "      <th>...</th>\n",
       "      <td>...</td>\n",
       "      <td>...</td>\n",
       "      <td>...</td>\n",
       "      <td>...</td>\n",
       "      <td>...</td>\n",
       "      <td>...</td>\n",
       "      <td>...</td>\n",
       "      <td>...</td>\n",
       "      <td>...</td>\n",
       "      <td>...</td>\n",
       "      <td>...</td>\n",
       "      <td>...</td>\n",
       "    </tr>\n",
       "    <tr>\n",
       "      <th>8817</th>\n",
       "      <td>Alternating_current</td>\n",
       "      <td>Anton%C3%ADn_Dvo%C5%99%C3%A1k</td>\n",
       "      <td>False</td>\n",
       "      <td>12</td>\n",
       "      <td>3</td>\n",
       "      <td>154</td>\n",
       "      <td>restart</td>\n",
       "      <td>Musical_instrument</td>\n",
       "      <td>Performers_and_composers</td>\n",
       "      <td>male</td>\n",
       "      <td>7.0</td>\n",
       "      <td>21</td>\n",
       "    </tr>\n",
       "    <tr>\n",
       "      <th>8818</th>\n",
       "      <td>Aardvark</td>\n",
       "      <td>Henry_Moore</td>\n",
       "      <td>False</td>\n",
       "      <td>5</td>\n",
       "      <td>3</td>\n",
       "      <td>127</td>\n",
       "      <td>restart</td>\n",
       "      <td>University_of_Cambridge</td>\n",
       "      <td>Artists</td>\n",
       "      <td>male</td>\n",
       "      <td>5.0</td>\n",
       "      <td>21</td>\n",
       "    </tr>\n",
       "    <tr>\n",
       "      <th>8819</th>\n",
       "      <td>Sundew</td>\n",
       "      <td>Colley_Cibber</td>\n",
       "      <td>False</td>\n",
       "      <td>1</td>\n",
       "      <td>4</td>\n",
       "      <td>1825</td>\n",
       "      <td>timeout</td>\n",
       "      <td>Sundew</td>\n",
       "      <td>Writers_and_critics</td>\n",
       "      <td>male</td>\n",
       "      <td>7.0</td>\n",
       "      <td>14</td>\n",
       "    </tr>\n",
       "    <tr>\n",
       "      <th>8820</th>\n",
       "      <td>Soddo_language</td>\n",
       "      <td>Georg_Cantor</td>\n",
       "      <td>False</td>\n",
       "      <td>3</td>\n",
       "      <td>3</td>\n",
       "      <td>319</td>\n",
       "      <td>restart</td>\n",
       "      <td>Charles_Dickens</td>\n",
       "      <td>Mathematicians</td>\n",
       "      <td>male</td>\n",
       "      <td>12.0</td>\n",
       "      <td>22</td>\n",
       "    </tr>\n",
       "    <tr>\n",
       "      <th>8821</th>\n",
       "      <td>War_in_Somalia_%282006%E2%80%93present%29</td>\n",
       "      <td>Francisco_Goya</td>\n",
       "      <td>False</td>\n",
       "      <td>4</td>\n",
       "      <td>4</td>\n",
       "      <td>2547</td>\n",
       "      <td>timeout</td>\n",
       "      <td>Pablo_Picasso</td>\n",
       "      <td>Artists</td>\n",
       "      <td>male</td>\n",
       "      <td>7.0</td>\n",
       "      <td>12</td>\n",
       "    </tr>\n",
       "  </tbody>\n",
       "</table>\n",
       "<p>8822 rows × 12 columns</p>\n",
       "</div>"
      ],
      "text/plain": [
       "                                         source  \\\n",
       "0                                  14th_century   \n",
       "1                                  14th_century   \n",
       "2                                       Diamond   \n",
       "3                                      Genetics   \n",
       "4                                      Genetics   \n",
       "...                                         ...   \n",
       "8817                        Alternating_current   \n",
       "8818                                   Aardvark   \n",
       "8819                                     Sundew   \n",
       "8820                             Soddo_language   \n",
       "8821  War_in_Somalia_%282006%E2%80%93present%29   \n",
       "\n",
       "                             target  finished  human_path_length  \\\n",
       "0                   John_F._Kennedy      True                  7   \n",
       "1                   John_F._Kennedy      True                  6   \n",
       "2                   John_F._Kennedy      True                  5   \n",
       "3                   John_F._Kennedy      True                  5   \n",
       "4                   John_F._Kennedy      True                  5   \n",
       "...                             ...       ...                ...   \n",
       "8817  Anton%C3%ADn_Dvo%C5%99%C3%A1k     False                 12   \n",
       "8818                    Henry_Moore     False                  5   \n",
       "8819                  Colley_Cibber     False                  1   \n",
       "8820                   Georg_Cantor     False                  3   \n",
       "8821                 Francisco_Goya     False                  4   \n",
       "\n",
       "      shortest_path_length  durationInSec     type          failure_article  \\\n",
       "0                        3            175      NaN                      NaN   \n",
       "1                        3            110      NaN                      NaN   \n",
       "2                        2            160      NaN                      NaN   \n",
       "3                        3             74      NaN                      NaN   \n",
       "4                        3            125      NaN                      NaN   \n",
       "...                    ...            ...      ...                      ...   \n",
       "8817                     3            154  restart       Musical_instrument   \n",
       "8818                     3            127  restart  University_of_Cambridge   \n",
       "8819                     4           1825  timeout                   Sundew   \n",
       "8820                     3            319  restart          Charles_Dickens   \n",
       "8821                     4           2547  timeout            Pablo_Picasso   \n",
       "\n",
       "                      category gender  nr_link_in  nr_link_out  \n",
       "0               USA_Presidents   male        60.0           68  \n",
       "1               USA_Presidents   male        60.0           68  \n",
       "2               USA_Presidents   male        60.0           68  \n",
       "3               USA_Presidents   male        60.0           68  \n",
       "4               USA_Presidents   male        60.0           68  \n",
       "...                        ...    ...         ...          ...  \n",
       "8817  Performers_and_composers   male         7.0           21  \n",
       "8818                   Artists   male         5.0           21  \n",
       "8819       Writers_and_critics   male         7.0           14  \n",
       "8820            Mathematicians   male        12.0           22  \n",
       "8821                   Artists   male         7.0           12  \n",
       "\n",
       "[8822 rows x 12 columns]"
      ]
     },
     "execution_count": 89,
     "metadata": {},
     "output_type": "execute_result"
    }
   ],
   "source": [
    "df = path_overview.merge(people, how = \"inner\", left_on = 'target', right_on = 'name')\n",
    "df.drop(['name'], axis=1)"
   ]
  },
  {
   "cell_type": "code",
   "execution_count": 90,
   "id": "be0b7650-8a93-4be4-b462-8e48d61c67c5",
   "metadata": {},
   "outputs": [],
   "source": [
    "prufa = df.merge(df, on = [\"source\", \"shortest_path_length\"], how = \"inner\")"
   ]
  },
  {
   "cell_type": "code",
   "execution_count": 91,
   "id": "a306f293-ca89-445b-8243-910730c0788c",
   "metadata": {},
   "outputs": [
    {
     "data": {
      "text/html": [
       "<div>\n",
       "<style scoped>\n",
       "    .dataframe tbody tr th:only-of-type {\n",
       "        vertical-align: middle;\n",
       "    }\n",
       "\n",
       "    .dataframe tbody tr th {\n",
       "        vertical-align: top;\n",
       "    }\n",
       "\n",
       "    .dataframe thead th {\n",
       "        text-align: right;\n",
       "    }\n",
       "</style>\n",
       "<table border=\"1\" class=\"dataframe\">\n",
       "  <thead>\n",
       "    <tr style=\"text-align: right;\">\n",
       "      <th></th>\n",
       "      <th>source</th>\n",
       "      <th>target_x</th>\n",
       "      <th>finished_x</th>\n",
       "      <th>human_path_length_x</th>\n",
       "      <th>shortest_path_length</th>\n",
       "      <th>durationInSec_x</th>\n",
       "      <th>type_x</th>\n",
       "      <th>failure_article_x</th>\n",
       "      <th>name_x</th>\n",
       "      <th>category_x</th>\n",
       "      <th>...</th>\n",
       "      <th>finished_y</th>\n",
       "      <th>human_path_length_y</th>\n",
       "      <th>durationInSec_y</th>\n",
       "      <th>type_y</th>\n",
       "      <th>failure_article_y</th>\n",
       "      <th>name_y</th>\n",
       "      <th>category_y</th>\n",
       "      <th>gender_y</th>\n",
       "      <th>nr_link_in_y</th>\n",
       "      <th>nr_link_out_y</th>\n",
       "    </tr>\n",
       "  </thead>\n",
       "  <tbody>\n",
       "    <tr>\n",
       "      <th>0</th>\n",
       "      <td>14th_century</td>\n",
       "      <td>John_F._Kennedy</td>\n",
       "      <td>True</td>\n",
       "      <td>7</td>\n",
       "      <td>3</td>\n",
       "      <td>175</td>\n",
       "      <td>NaN</td>\n",
       "      <td>NaN</td>\n",
       "      <td>John_F._Kennedy</td>\n",
       "      <td>USA_Presidents</td>\n",
       "      <td>...</td>\n",
       "      <td>True</td>\n",
       "      <td>7</td>\n",
       "      <td>175</td>\n",
       "      <td>NaN</td>\n",
       "      <td>NaN</td>\n",
       "      <td>John_F._Kennedy</td>\n",
       "      <td>USA_Presidents</td>\n",
       "      <td>male</td>\n",
       "      <td>60.0</td>\n",
       "      <td>68</td>\n",
       "    </tr>\n",
       "    <tr>\n",
       "      <th>1</th>\n",
       "      <td>14th_century</td>\n",
       "      <td>John_F._Kennedy</td>\n",
       "      <td>True</td>\n",
       "      <td>7</td>\n",
       "      <td>3</td>\n",
       "      <td>175</td>\n",
       "      <td>NaN</td>\n",
       "      <td>NaN</td>\n",
       "      <td>John_F._Kennedy</td>\n",
       "      <td>USA_Presidents</td>\n",
       "      <td>...</td>\n",
       "      <td>True</td>\n",
       "      <td>6</td>\n",
       "      <td>110</td>\n",
       "      <td>NaN</td>\n",
       "      <td>NaN</td>\n",
       "      <td>John_F._Kennedy</td>\n",
       "      <td>USA_Presidents</td>\n",
       "      <td>male</td>\n",
       "      <td>60.0</td>\n",
       "      <td>68</td>\n",
       "    </tr>\n",
       "    <tr>\n",
       "      <th>2</th>\n",
       "      <td>14th_century</td>\n",
       "      <td>John_F._Kennedy</td>\n",
       "      <td>True</td>\n",
       "      <td>7</td>\n",
       "      <td>3</td>\n",
       "      <td>175</td>\n",
       "      <td>NaN</td>\n",
       "      <td>NaN</td>\n",
       "      <td>John_F._Kennedy</td>\n",
       "      <td>USA_Presidents</td>\n",
       "      <td>...</td>\n",
       "      <td>True</td>\n",
       "      <td>27</td>\n",
       "      <td>507</td>\n",
       "      <td>NaN</td>\n",
       "      <td>NaN</td>\n",
       "      <td>Henry_David_Thoreau</td>\n",
       "      <td>Philosophers</td>\n",
       "      <td>male</td>\n",
       "      <td>10.0</td>\n",
       "      <td>22</td>\n",
       "    </tr>\n",
       "    <tr>\n",
       "      <th>3</th>\n",
       "      <td>14th_century</td>\n",
       "      <td>John_F._Kennedy</td>\n",
       "      <td>True</td>\n",
       "      <td>7</td>\n",
       "      <td>3</td>\n",
       "      <td>175</td>\n",
       "      <td>NaN</td>\n",
       "      <td>NaN</td>\n",
       "      <td>John_F._Kennedy</td>\n",
       "      <td>USA_Presidents</td>\n",
       "      <td>...</td>\n",
       "      <td>False</td>\n",
       "      <td>4</td>\n",
       "      <td>1902</td>\n",
       "      <td>timeout</td>\n",
       "      <td>United_States</td>\n",
       "      <td>Henry_David_Thoreau</td>\n",
       "      <td>Philosophers</td>\n",
       "      <td>male</td>\n",
       "      <td>10.0</td>\n",
       "      <td>22</td>\n",
       "    </tr>\n",
       "    <tr>\n",
       "      <th>4</th>\n",
       "      <td>14th_century</td>\n",
       "      <td>John_F._Kennedy</td>\n",
       "      <td>True</td>\n",
       "      <td>7</td>\n",
       "      <td>3</td>\n",
       "      <td>175</td>\n",
       "      <td>NaN</td>\n",
       "      <td>NaN</td>\n",
       "      <td>John_F._Kennedy</td>\n",
       "      <td>USA_Presidents</td>\n",
       "      <td>...</td>\n",
       "      <td>False</td>\n",
       "      <td>2</td>\n",
       "      <td>44</td>\n",
       "      <td>restart</td>\n",
       "      <td>Europe</td>\n",
       "      <td>Hannibal_Barca</td>\n",
       "      <td>Historical_figures</td>\n",
       "      <td>male</td>\n",
       "      <td>4.0</td>\n",
       "      <td>21</td>\n",
       "    </tr>\n",
       "    <tr>\n",
       "      <th>...</th>\n",
       "      <td>...</td>\n",
       "      <td>...</td>\n",
       "      <td>...</td>\n",
       "      <td>...</td>\n",
       "      <td>...</td>\n",
       "      <td>...</td>\n",
       "      <td>...</td>\n",
       "      <td>...</td>\n",
       "      <td>...</td>\n",
       "      <td>...</td>\n",
       "      <td>...</td>\n",
       "      <td>...</td>\n",
       "      <td>...</td>\n",
       "      <td>...</td>\n",
       "      <td>...</td>\n",
       "      <td>...</td>\n",
       "      <td>...</td>\n",
       "      <td>...</td>\n",
       "      <td>...</td>\n",
       "      <td>...</td>\n",
       "      <td>...</td>\n",
       "    </tr>\n",
       "    <tr>\n",
       "      <th>73099</th>\n",
       "      <td>Flag_of_the_Republic_of_China</td>\n",
       "      <td>Henry_James</td>\n",
       "      <td>False</td>\n",
       "      <td>10</td>\n",
       "      <td>3</td>\n",
       "      <td>163</td>\n",
       "      <td>restart</td>\n",
       "      <td>&lt;</td>\n",
       "      <td>Henry_James</td>\n",
       "      <td>Writers_and_critics</td>\n",
       "      <td>...</td>\n",
       "      <td>False</td>\n",
       "      <td>10</td>\n",
       "      <td>163</td>\n",
       "      <td>restart</td>\n",
       "      <td>&lt;</td>\n",
       "      <td>Henry_James</td>\n",
       "      <td>Writers_and_critics</td>\n",
       "      <td>male</td>\n",
       "      <td>14.0</td>\n",
       "      <td>41</td>\n",
       "    </tr>\n",
       "    <tr>\n",
       "      <th>73100</th>\n",
       "      <td>Amtrak</td>\n",
       "      <td>Anton%C3%ADn_Dvo%C5%99%C3%A1k</td>\n",
       "      <td>False</td>\n",
       "      <td>1</td>\n",
       "      <td>3</td>\n",
       "      <td>1805</td>\n",
       "      <td>timeout</td>\n",
       "      <td>Amtrak</td>\n",
       "      <td>Anton%C3%ADn_Dvo%C5%99%C3%A1k</td>\n",
       "      <td>Performers_and_composers</td>\n",
       "      <td>...</td>\n",
       "      <td>False</td>\n",
       "      <td>1</td>\n",
       "      <td>1805</td>\n",
       "      <td>timeout</td>\n",
       "      <td>Amtrak</td>\n",
       "      <td>Anton%C3%ADn_Dvo%C5%99%C3%A1k</td>\n",
       "      <td>Performers_and_composers</td>\n",
       "      <td>male</td>\n",
       "      <td>7.0</td>\n",
       "      <td>21</td>\n",
       "    </tr>\n",
       "    <tr>\n",
       "      <th>73101</th>\n",
       "      <td>Alternating_current</td>\n",
       "      <td>Anton%C3%ADn_Dvo%C5%99%C3%A1k</td>\n",
       "      <td>False</td>\n",
       "      <td>12</td>\n",
       "      <td>3</td>\n",
       "      <td>154</td>\n",
       "      <td>restart</td>\n",
       "      <td>Musical_instrument</td>\n",
       "      <td>Anton%C3%ADn_Dvo%C5%99%C3%A1k</td>\n",
       "      <td>Performers_and_composers</td>\n",
       "      <td>...</td>\n",
       "      <td>False</td>\n",
       "      <td>12</td>\n",
       "      <td>154</td>\n",
       "      <td>restart</td>\n",
       "      <td>Musical_instrument</td>\n",
       "      <td>Anton%C3%ADn_Dvo%C5%99%C3%A1k</td>\n",
       "      <td>Performers_and_composers</td>\n",
       "      <td>male</td>\n",
       "      <td>7.0</td>\n",
       "      <td>21</td>\n",
       "    </tr>\n",
       "    <tr>\n",
       "      <th>73102</th>\n",
       "      <td>Sundew</td>\n",
       "      <td>Colley_Cibber</td>\n",
       "      <td>False</td>\n",
       "      <td>1</td>\n",
       "      <td>4</td>\n",
       "      <td>1825</td>\n",
       "      <td>timeout</td>\n",
       "      <td>Sundew</td>\n",
       "      <td>Colley_Cibber</td>\n",
       "      <td>Writers_and_critics</td>\n",
       "      <td>...</td>\n",
       "      <td>False</td>\n",
       "      <td>1</td>\n",
       "      <td>1825</td>\n",
       "      <td>timeout</td>\n",
       "      <td>Sundew</td>\n",
       "      <td>Colley_Cibber</td>\n",
       "      <td>Writers_and_critics</td>\n",
       "      <td>male</td>\n",
       "      <td>7.0</td>\n",
       "      <td>14</td>\n",
       "    </tr>\n",
       "    <tr>\n",
       "      <th>73103</th>\n",
       "      <td>War_in_Somalia_%282006%E2%80%93present%29</td>\n",
       "      <td>Francisco_Goya</td>\n",
       "      <td>False</td>\n",
       "      <td>4</td>\n",
       "      <td>4</td>\n",
       "      <td>2547</td>\n",
       "      <td>timeout</td>\n",
       "      <td>Pablo_Picasso</td>\n",
       "      <td>Francisco_Goya</td>\n",
       "      <td>Artists</td>\n",
       "      <td>...</td>\n",
       "      <td>False</td>\n",
       "      <td>4</td>\n",
       "      <td>2547</td>\n",
       "      <td>timeout</td>\n",
       "      <td>Pablo_Picasso</td>\n",
       "      <td>Francisco_Goya</td>\n",
       "      <td>Artists</td>\n",
       "      <td>male</td>\n",
       "      <td>7.0</td>\n",
       "      <td>12</td>\n",
       "    </tr>\n",
       "  </tbody>\n",
       "</table>\n",
       "<p>73104 rows × 24 columns</p>\n",
       "</div>"
      ],
      "text/plain": [
       "                                          source  \\\n",
       "0                                   14th_century   \n",
       "1                                   14th_century   \n",
       "2                                   14th_century   \n",
       "3                                   14th_century   \n",
       "4                                   14th_century   \n",
       "...                                          ...   \n",
       "73099              Flag_of_the_Republic_of_China   \n",
       "73100                                     Amtrak   \n",
       "73101                        Alternating_current   \n",
       "73102                                     Sundew   \n",
       "73103  War_in_Somalia_%282006%E2%80%93present%29   \n",
       "\n",
       "                            target_x  finished_x  human_path_length_x  \\\n",
       "0                    John_F._Kennedy        True                    7   \n",
       "1                    John_F._Kennedy        True                    7   \n",
       "2                    John_F._Kennedy        True                    7   \n",
       "3                    John_F._Kennedy        True                    7   \n",
       "4                    John_F._Kennedy        True                    7   \n",
       "...                              ...         ...                  ...   \n",
       "73099                    Henry_James       False                   10   \n",
       "73100  Anton%C3%ADn_Dvo%C5%99%C3%A1k       False                    1   \n",
       "73101  Anton%C3%ADn_Dvo%C5%99%C3%A1k       False                   12   \n",
       "73102                  Colley_Cibber       False                    1   \n",
       "73103                 Francisco_Goya       False                    4   \n",
       "\n",
       "       shortest_path_length  durationInSec_x   type_x   failure_article_x  \\\n",
       "0                         3              175      NaN                 NaN   \n",
       "1                         3              175      NaN                 NaN   \n",
       "2                         3              175      NaN                 NaN   \n",
       "3                         3              175      NaN                 NaN   \n",
       "4                         3              175      NaN                 NaN   \n",
       "...                     ...              ...      ...                 ...   \n",
       "73099                     3              163  restart                   <   \n",
       "73100                     3             1805  timeout              Amtrak   \n",
       "73101                     3              154  restart  Musical_instrument   \n",
       "73102                     4             1825  timeout              Sundew   \n",
       "73103                     4             2547  timeout       Pablo_Picasso   \n",
       "\n",
       "                              name_x                category_x  ...  \\\n",
       "0                    John_F._Kennedy            USA_Presidents  ...   \n",
       "1                    John_F._Kennedy            USA_Presidents  ...   \n",
       "2                    John_F._Kennedy            USA_Presidents  ...   \n",
       "3                    John_F._Kennedy            USA_Presidents  ...   \n",
       "4                    John_F._Kennedy            USA_Presidents  ...   \n",
       "...                              ...                       ...  ...   \n",
       "73099                    Henry_James       Writers_and_critics  ...   \n",
       "73100  Anton%C3%ADn_Dvo%C5%99%C3%A1k  Performers_and_composers  ...   \n",
       "73101  Anton%C3%ADn_Dvo%C5%99%C3%A1k  Performers_and_composers  ...   \n",
       "73102                  Colley_Cibber       Writers_and_critics  ...   \n",
       "73103                 Francisco_Goya                   Artists  ...   \n",
       "\n",
       "      finished_y  human_path_length_y  durationInSec_y   type_y  \\\n",
       "0           True                    7              175      NaN   \n",
       "1           True                    6              110      NaN   \n",
       "2           True                   27              507      NaN   \n",
       "3          False                    4             1902  timeout   \n",
       "4          False                    2               44  restart   \n",
       "...          ...                  ...              ...      ...   \n",
       "73099      False                   10              163  restart   \n",
       "73100      False                    1             1805  timeout   \n",
       "73101      False                   12              154  restart   \n",
       "73102      False                    1             1825  timeout   \n",
       "73103      False                    4             2547  timeout   \n",
       "\n",
       "        failure_article_y                         name_y  \\\n",
       "0                     NaN                John_F._Kennedy   \n",
       "1                     NaN                John_F._Kennedy   \n",
       "2                     NaN            Henry_David_Thoreau   \n",
       "3           United_States            Henry_David_Thoreau   \n",
       "4                  Europe                 Hannibal_Barca   \n",
       "...                   ...                            ...   \n",
       "73099                   <                    Henry_James   \n",
       "73100              Amtrak  Anton%C3%ADn_Dvo%C5%99%C3%A1k   \n",
       "73101  Musical_instrument  Anton%C3%ADn_Dvo%C5%99%C3%A1k   \n",
       "73102              Sundew                  Colley_Cibber   \n",
       "73103       Pablo_Picasso                 Francisco_Goya   \n",
       "\n",
       "                     category_y gender_y nr_link_in_y nr_link_out_y  \n",
       "0                USA_Presidents     male         60.0            68  \n",
       "1                USA_Presidents     male         60.0            68  \n",
       "2                  Philosophers     male         10.0            22  \n",
       "3                  Philosophers     male         10.0            22  \n",
       "4            Historical_figures     male          4.0            21  \n",
       "...                         ...      ...          ...           ...  \n",
       "73099       Writers_and_critics     male         14.0            41  \n",
       "73100  Performers_and_composers     male          7.0            21  \n",
       "73101  Performers_and_composers     male          7.0            21  \n",
       "73102       Writers_and_critics     male          7.0            14  \n",
       "73103                   Artists     male          7.0            12  \n",
       "\n",
       "[73104 rows x 24 columns]"
      ]
     },
     "execution_count": 91,
     "metadata": {},
     "output_type": "execute_result"
    }
   ],
   "source": [
    "prufa"
   ]
  },
  {
   "cell_type": "code",
   "execution_count": 154,
   "id": "3908dc53-3972-42b2-971c-5a5769d3dd88",
   "metadata": {},
   "outputs": [],
   "source": [
    "comb_finpaths = finpaths_women_target[[\"source\", \"path\", \"target\"]].merge(finpaths_men_target[[\"source\", \"path\", \"target\"]], \n",
    "                                                        on=['source'], how = \"inner\",\n",
    "                                                        suffixes=('_women', '_men'))"
   ]
  },
  {
   "cell_type": "code",
   "execution_count": 155,
   "id": "54cb08ee-0bb6-404b-b194-60f927f0cfbf",
   "metadata": {},
   "outputs": [
    {
     "data": {
      "text/html": [
       "<div>\n",
       "<style scoped>\n",
       "    .dataframe tbody tr th:only-of-type {\n",
       "        vertical-align: middle;\n",
       "    }\n",
       "\n",
       "    .dataframe tbody tr th {\n",
       "        vertical-align: top;\n",
       "    }\n",
       "\n",
       "    .dataframe thead th {\n",
       "        text-align: right;\n",
       "    }\n",
       "</style>\n",
       "<table border=\"1\" class=\"dataframe\">\n",
       "  <thead>\n",
       "    <tr style=\"text-align: right;\">\n",
       "      <th></th>\n",
       "      <th>source</th>\n",
       "      <th>path_women</th>\n",
       "      <th>target_women</th>\n",
       "      <th>path_men</th>\n",
       "      <th>target_men</th>\n",
       "    </tr>\n",
       "  </thead>\n",
       "  <tbody>\n",
       "    <tr>\n",
       "      <th>0</th>\n",
       "      <td>14th_century</td>\n",
       "      <td>14th_century;England;London;Spanish_Armada;Eng...</td>\n",
       "      <td>Elizabeth_I_of_England</td>\n",
       "      <td>14th_century;Italy;Roman_Catholic_Church;HIV;R...</td>\n",
       "      <td>John_F._Kennedy</td>\n",
       "    </tr>\n",
       "    <tr>\n",
       "      <th>1</th>\n",
       "      <td>14th_century</td>\n",
       "      <td>14th_century;England;London;Spanish_Armada;Eng...</td>\n",
       "      <td>Elizabeth_I_of_England</td>\n",
       "      <td>14th_century;Europe;North_America;United_State...</td>\n",
       "      <td>John_F._Kennedy</td>\n",
       "    </tr>\n",
       "    <tr>\n",
       "      <th>2</th>\n",
       "      <td>14th_century</td>\n",
       "      <td>14th_century;England;London;Spanish_Armada;Eng...</td>\n",
       "      <td>Elizabeth_I_of_England</td>\n",
       "      <td>14th_century;Europe;&lt;;England;&lt;;Christianity;A...</td>\n",
       "      <td>Henry_David_Thoreau</td>\n",
       "    </tr>\n",
       "    <tr>\n",
       "      <th>3</th>\n",
       "      <td>14th_century</td>\n",
       "      <td>14th_century;England;James_I_of_England;Elizab...</td>\n",
       "      <td>Elizabeth_I_of_England</td>\n",
       "      <td>14th_century;Italy;Roman_Catholic_Church;HIV;R...</td>\n",
       "      <td>John_F._Kennedy</td>\n",
       "    </tr>\n",
       "    <tr>\n",
       "      <th>4</th>\n",
       "      <td>14th_century</td>\n",
       "      <td>14th_century;England;James_I_of_England;Elizab...</td>\n",
       "      <td>Elizabeth_I_of_England</td>\n",
       "      <td>14th_century;Europe;North_America;United_State...</td>\n",
       "      <td>John_F._Kennedy</td>\n",
       "    </tr>\n",
       "    <tr>\n",
       "      <th>...</th>\n",
       "      <td>...</td>\n",
       "      <td>...</td>\n",
       "      <td>...</td>\n",
       "      <td>...</td>\n",
       "      <td>...</td>\n",
       "    </tr>\n",
       "    <tr>\n",
       "      <th>469</th>\n",
       "      <td>Ununoctium</td>\n",
       "      <td>Ununoctium;Uranium;World_War_II;The_Holocaust;...</td>\n",
       "      <td>Anne_Frank</td>\n",
       "      <td>Ununoctium;Russia;United_Kingdom;British_monar...</td>\n",
       "      <td>Henry_IV_of_England</td>\n",
       "    </tr>\n",
       "    <tr>\n",
       "      <th>470</th>\n",
       "      <td>William_Pitt_the_Younger</td>\n",
       "      <td>William_Pitt_the_Younger;Prime_Minister_of_the...</td>\n",
       "      <td>Miranda_Otto</td>\n",
       "      <td>William_Pitt_the_Younger;British_Empire;Ottoma...</td>\n",
       "      <td>Socrates</td>\n",
       "    </tr>\n",
       "    <tr>\n",
       "      <th>471</th>\n",
       "      <td>Windows_2000</td>\n",
       "      <td>Windows_2000;North_America;California;Arnold_S...</td>\n",
       "      <td>Bette_Davis</td>\n",
       "      <td>Windows_2000;Microsoft;United_States;George_Wa...</td>\n",
       "      <td>Ronald_Reagan</td>\n",
       "    </tr>\n",
       "    <tr>\n",
       "      <th>472</th>\n",
       "      <td>Windows_2000</td>\n",
       "      <td>Windows_2000;North_America;United_States;Cinem...</td>\n",
       "      <td>Bette_Davis</td>\n",
       "      <td>Windows_2000;Microsoft;United_States;George_Wa...</td>\n",
       "      <td>Ronald_Reagan</td>\n",
       "    </tr>\n",
       "    <tr>\n",
       "      <th>473</th>\n",
       "      <td>J%C3%B3zef_Pi%C5%82sudski</td>\n",
       "      <td>J%C3%B3zef_Pi%C5%82sudski;Russia;United_Kingdo...</td>\n",
       "      <td>Mary_II_of_England</td>\n",
       "      <td>J%C3%B3zef_Pi%C5%82sudski;World_War_I;World_Wa...</td>\n",
       "      <td>Vincent_van_Gogh</td>\n",
       "    </tr>\n",
       "  </tbody>\n",
       "</table>\n",
       "<p>474 rows × 5 columns</p>\n",
       "</div>"
      ],
      "text/plain": [
       "                        source  \\\n",
       "0                 14th_century   \n",
       "1                 14th_century   \n",
       "2                 14th_century   \n",
       "3                 14th_century   \n",
       "4                 14th_century   \n",
       "..                         ...   \n",
       "469                 Ununoctium   \n",
       "470   William_Pitt_the_Younger   \n",
       "471               Windows_2000   \n",
       "472               Windows_2000   \n",
       "473  J%C3%B3zef_Pi%C5%82sudski   \n",
       "\n",
       "                                            path_women  \\\n",
       "0    14th_century;England;London;Spanish_Armada;Eng...   \n",
       "1    14th_century;England;London;Spanish_Armada;Eng...   \n",
       "2    14th_century;England;London;Spanish_Armada;Eng...   \n",
       "3    14th_century;England;James_I_of_England;Elizab...   \n",
       "4    14th_century;England;James_I_of_England;Elizab...   \n",
       "..                                                 ...   \n",
       "469  Ununoctium;Uranium;World_War_II;The_Holocaust;...   \n",
       "470  William_Pitt_the_Younger;Prime_Minister_of_the...   \n",
       "471  Windows_2000;North_America;California;Arnold_S...   \n",
       "472  Windows_2000;North_America;United_States;Cinem...   \n",
       "473  J%C3%B3zef_Pi%C5%82sudski;Russia;United_Kingdo...   \n",
       "\n",
       "               target_women  \\\n",
       "0    Elizabeth_I_of_England   \n",
       "1    Elizabeth_I_of_England   \n",
       "2    Elizabeth_I_of_England   \n",
       "3    Elizabeth_I_of_England   \n",
       "4    Elizabeth_I_of_England   \n",
       "..                      ...   \n",
       "469              Anne_Frank   \n",
       "470            Miranda_Otto   \n",
       "471             Bette_Davis   \n",
       "472             Bette_Davis   \n",
       "473      Mary_II_of_England   \n",
       "\n",
       "                                              path_men           target_men  \n",
       "0    14th_century;Italy;Roman_Catholic_Church;HIV;R...      John_F._Kennedy  \n",
       "1    14th_century;Europe;North_America;United_State...      John_F._Kennedy  \n",
       "2    14th_century;Europe;<;England;<;Christianity;A...  Henry_David_Thoreau  \n",
       "3    14th_century;Italy;Roman_Catholic_Church;HIV;R...      John_F._Kennedy  \n",
       "4    14th_century;Europe;North_America;United_State...      John_F._Kennedy  \n",
       "..                                                 ...                  ...  \n",
       "469  Ununoctium;Russia;United_Kingdom;British_monar...  Henry_IV_of_England  \n",
       "470  William_Pitt_the_Younger;British_Empire;Ottoma...             Socrates  \n",
       "471  Windows_2000;Microsoft;United_States;George_Wa...        Ronald_Reagan  \n",
       "472  Windows_2000;Microsoft;United_States;George_Wa...        Ronald_Reagan  \n",
       "473  J%C3%B3zef_Pi%C5%82sudski;World_War_I;World_Wa...     Vincent_van_Gogh  \n",
       "\n",
       "[474 rows x 5 columns]"
      ]
     },
     "execution_count": 155,
     "metadata": {},
     "output_type": "execute_result"
    }
   ],
   "source": [
    "comb_finpaths"
   ]
  }
 ],
 "metadata": {
  "kernelspec": {
   "display_name": "Python [conda env:ada]",
   "language": "python",
   "name": "conda-env-ada-py"
  },
  "language_info": {
   "codemirror_mode": {
    "name": "ipython",
    "version": 3
   },
   "file_extension": ".py",
   "mimetype": "text/x-python",
   "name": "python",
   "nbconvert_exporter": "python",
   "pygments_lexer": "ipython3",
   "version": "3.9.13"
  },
  "vscode": {
   "interpreter": {
    "hash": "60762f2c9dc1d733e9baa8b0211c4ce87ae4eb5a78219e2c34414973c6c0791c"
   }
  }
 },
 "nbformat": 4,
 "nbformat_minor": 5
}
