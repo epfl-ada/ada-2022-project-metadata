{
 "cells": [
  {
   "cell_type": "code",
   "execution_count": 3,
   "id": "c50436f7-fcc6-4e15-8880-7d88fd6e12b5",
   "metadata": {},
   "outputs": [],
   "source": [
    "import pandas as pd\n",
    "import numpy as np\n",
    "import matplotlib.pyplot as plt"
   ]
  },
  {
   "cell_type": "markdown",
   "id": "edb6a3d7-bcbe-4f2a-8180-220c917943e1",
   "metadata": {},
   "source": [
    "Load Datasets"
   ]
  },
  {
   "cell_type": "code",
   "execution_count": 4,
   "id": "68d315bd-67d1-4678-a030-63a9c138dcf4",
   "metadata": {},
   "outputs": [],
   "source": [
    "DATA_FOLDER = 'data/wikispeedia_paths-and-graph/'\n",
    "\n",
    "ARTICLES_DATASET = DATA_FOLDER+\"articles.tsv\"\n",
    "LINKS_DATASET = DATA_FOLDER+\"links.tsv\"\n",
    "CATEGORIES_DATASET = DATA_FOLDER+\"categories.tsv\"\n",
    "PATHS_FINISHED_DATASET = DATA_FOLDER+\"paths_finished.tsv\"\n",
    "PATHS_UNFINISHED_DATASET = DATA_FOLDER+\"paths_unfinished.tsv\""
   ]
  },
  {
   "cell_type": "code",
   "execution_count": 5,
   "id": "a5c79266-1d39-4b9a-9fe8-a95a0d73625d",
   "metadata": {},
   "outputs": [],
   "source": [
    "categories = pd.read_csv(CATEGORIES_DATASET, sep='\\t', header=11, names = [\"Name\", \"Category\"])\n",
    "articles = pd.read_csv(ARTICLES_DATASET, sep='\\t', header=10, names = [\"Name\"])\n",
    "links = pd.read_csv(LINKS_DATASET, header=10,sep='\\t', names=[\"Outgoing\", \"Incoming\"])\n",
    "paths = pd.read_csv(PATHS_FINISHED_DATASET, header=15,sep='\\t', names=[\"ip\", \"timestampe\", \"duration\", \"path\", \"rating\"])"
   ]
  },
  {
   "cell_type": "markdown",
   "id": "7298ee09-ffcf-4d15-aac4-94cc7287be21",
   "metadata": {},
   "source": [
    "Start with Categories Dataset, as it needs some postprocessing for the hierarchical category"
   ]
  },
  {
   "cell_type": "code",
   "execution_count": 6,
   "id": "726f8876-93a0-484b-a598-fe648c36aae2",
   "metadata": {},
   "outputs": [
    {
     "data": {
      "text/html": [
       "<div>\n",
       "<style scoped>\n",
       "    .dataframe tbody tr th:only-of-type {\n",
       "        vertical-align: middle;\n",
       "    }\n",
       "\n",
       "    .dataframe tbody tr th {\n",
       "        vertical-align: top;\n",
       "    }\n",
       "\n",
       "    .dataframe thead th {\n",
       "        text-align: right;\n",
       "    }\n",
       "</style>\n",
       "<table border=\"1\" class=\"dataframe\">\n",
       "  <thead>\n",
       "    <tr style=\"text-align: right;\">\n",
       "      <th></th>\n",
       "      <th>Name</th>\n",
       "      <th>Subject</th>\n",
       "      <th>SubCat1</th>\n",
       "      <th>SubCat2</th>\n",
       "    </tr>\n",
       "  </thead>\n",
       "  <tbody>\n",
       "    <tr>\n",
       "      <th>0</th>\n",
       "      <td>%C3%81ed%C3%A1n_mac_Gabr%C3%A1in</td>\n",
       "      <td>History</td>\n",
       "      <td>British_History</td>\n",
       "      <td>British_History_1500_and_before_including_Roma...</td>\n",
       "    </tr>\n",
       "    <tr>\n",
       "      <th>1</th>\n",
       "      <td>%C3%81ed%C3%A1n_mac_Gabr%C3%A1in</td>\n",
       "      <td>People</td>\n",
       "      <td>Historical_figures</td>\n",
       "      <td>None</td>\n",
       "    </tr>\n",
       "    <tr>\n",
       "      <th>2</th>\n",
       "      <td>%C3%85land</td>\n",
       "      <td>Countries</td>\n",
       "      <td>None</td>\n",
       "      <td>None</td>\n",
       "    </tr>\n",
       "    <tr>\n",
       "      <th>3</th>\n",
       "      <td>%C3%85land</td>\n",
       "      <td>Geography</td>\n",
       "      <td>European_Geography</td>\n",
       "      <td>European_Countries</td>\n",
       "    </tr>\n",
       "    <tr>\n",
       "      <th>4</th>\n",
       "      <td>%C3%89douard_Manet</td>\n",
       "      <td>People</td>\n",
       "      <td>Artists</td>\n",
       "      <td>None</td>\n",
       "    </tr>\n",
       "  </tbody>\n",
       "</table>\n",
       "</div>"
      ],
      "text/plain": [
       "                               Name    Subject             SubCat1  \\\n",
       "0  %C3%81ed%C3%A1n_mac_Gabr%C3%A1in    History     British_History   \n",
       "1  %C3%81ed%C3%A1n_mac_Gabr%C3%A1in     People  Historical_figures   \n",
       "2                        %C3%85land  Countries                None   \n",
       "3                        %C3%85land  Geography  European_Geography   \n",
       "4                %C3%89douard_Manet     People             Artists   \n",
       "\n",
       "                                             SubCat2  \n",
       "0  British_History_1500_and_before_including_Roma...  \n",
       "1                                               None  \n",
       "2                                               None  \n",
       "3                                 European_Countries  \n",
       "4                                               None  "
      ]
     },
     "execution_count": 6,
     "metadata": {},
     "output_type": "execute_result"
    }
   ],
   "source": [
    "\n",
    "\n",
    "split= categories['Category'].str.split(\".\", expand=True)\n",
    "categories = pd.concat([categories[\"Name\"], split], axis=1)\n",
    "\n",
    "# Check if all values in 0 are subject, then discard column \n",
    "if (categories[0] == categories[0][0]).all():\n",
    "    categories = categories.drop(columns=0)\n",
    "\n",
    "categories.columns = [\"Name\", \"Subject\", \"SubCat1\", \"SubCat2\"]\n",
    "categories.head(5)"
   ]
  },
  {
   "cell_type": "code",
   "execution_count": 7,
   "id": "723cc6d9-e2ac-4f90-b89d-57f8b11f48ac",
   "metadata": {},
   "outputs": [],
   "source": [
    "# test= categories.groupby([\"Subject\", \"SubCat1\"]).count()\n",
    "# test.head(100)\n",
    "\n",
    "multi_cat = categories.set_index(['Subject', 'SubCat1', 'SubCat2']).sort_index()\n"
   ]
  },
  {
   "cell_type": "code",
   "execution_count": 8,
   "id": "bc6ef18c-8680-42ea-ad2c-0b892838065e",
   "metadata": {},
   "outputs": [
    {
     "data": {
      "text/html": [
       "<div>\n",
       "<style scoped>\n",
       "    .dataframe tbody tr th:only-of-type {\n",
       "        vertical-align: middle;\n",
       "    }\n",
       "\n",
       "    .dataframe tbody tr th {\n",
       "        vertical-align: top;\n",
       "    }\n",
       "\n",
       "    .dataframe thead th {\n",
       "        text-align: right;\n",
       "    }\n",
       "</style>\n",
       "<table border=\"1\" class=\"dataframe\">\n",
       "  <thead>\n",
       "    <tr style=\"text-align: right;\">\n",
       "      <th></th>\n",
       "      <th>Name</th>\n",
       "      <th>SubCat1</th>\n",
       "      <th>SubCat2</th>\n",
       "    </tr>\n",
       "    <tr>\n",
       "      <th>Subject</th>\n",
       "      <th></th>\n",
       "      <th></th>\n",
       "      <th></th>\n",
       "    </tr>\n",
       "  </thead>\n",
       "  <tbody>\n",
       "    <tr>\n",
       "      <th>Science</th>\n",
       "      <td>1122</td>\n",
       "      <td>1122</td>\n",
       "      <td>1122</td>\n",
       "    </tr>\n",
       "    <tr>\n",
       "      <th>Geography</th>\n",
       "      <td>1084</td>\n",
       "      <td>1084</td>\n",
       "      <td>216</td>\n",
       "    </tr>\n",
       "    <tr>\n",
       "      <th>People</th>\n",
       "      <td>689</td>\n",
       "      <td>689</td>\n",
       "      <td>0</td>\n",
       "    </tr>\n",
       "    <tr>\n",
       "      <th>History</th>\n",
       "      <td>545</td>\n",
       "      <td>545</td>\n",
       "      <td>144</td>\n",
       "    </tr>\n",
       "    <tr>\n",
       "      <th>Everyday_life</th>\n",
       "      <td>374</td>\n",
       "      <td>374</td>\n",
       "      <td>0</td>\n",
       "    </tr>\n",
       "    <tr>\n",
       "      <th>Design_and_Technology</th>\n",
       "      <td>254</td>\n",
       "      <td>254</td>\n",
       "      <td>0</td>\n",
       "    </tr>\n",
       "    <tr>\n",
       "      <th>Countries</th>\n",
       "      <td>229</td>\n",
       "      <td>0</td>\n",
       "      <td>0</td>\n",
       "    </tr>\n",
       "    <tr>\n",
       "      <th>Citizenship</th>\n",
       "      <td>224</td>\n",
       "      <td>224</td>\n",
       "      <td>0</td>\n",
       "    </tr>\n",
       "    <tr>\n",
       "      <th>Language_and_literature</th>\n",
       "      <td>196</td>\n",
       "      <td>196</td>\n",
       "      <td>0</td>\n",
       "    </tr>\n",
       "    <tr>\n",
       "      <th>Religion</th>\n",
       "      <td>134</td>\n",
       "      <td>134</td>\n",
       "      <td>0</td>\n",
       "    </tr>\n",
       "    <tr>\n",
       "      <th>Music</th>\n",
       "      <td>97</td>\n",
       "      <td>97</td>\n",
       "      <td>0</td>\n",
       "    </tr>\n",
       "    <tr>\n",
       "      <th>Business_Studies</th>\n",
       "      <td>88</td>\n",
       "      <td>88</td>\n",
       "      <td>0</td>\n",
       "    </tr>\n",
       "    <tr>\n",
       "      <th>IT</th>\n",
       "      <td>85</td>\n",
       "      <td>85</td>\n",
       "      <td>0</td>\n",
       "    </tr>\n",
       "    <tr>\n",
       "      <th>Mathematics</th>\n",
       "      <td>45</td>\n",
       "      <td>0</td>\n",
       "      <td>0</td>\n",
       "    </tr>\n",
       "    <tr>\n",
       "      <th>Art</th>\n",
       "      <td>38</td>\n",
       "      <td>38</td>\n",
       "      <td>0</td>\n",
       "    </tr>\n",
       "  </tbody>\n",
       "</table>\n",
       "</div>"
      ],
      "text/plain": [
       "                         Name  SubCat1  SubCat2\n",
       "Subject                                        \n",
       "Science                  1122     1122     1122\n",
       "Geography                1084     1084      216\n",
       "People                    689      689        0\n",
       "History                   545      545      144\n",
       "Everyday_life             374      374        0\n",
       "Design_and_Technology     254      254        0\n",
       "Countries                 229        0        0\n",
       "Citizenship               224      224        0\n",
       "Language_and_literature   196      196        0\n",
       "Religion                  134      134        0\n",
       "Music                      97       97        0\n",
       "Business_Studies           88       88        0\n",
       "IT                         85       85        0\n",
       "Mathematics                45        0        0\n",
       "Art                        38       38        0"
      ]
     },
     "execution_count": 8,
     "metadata": {},
     "output_type": "execute_result"
    }
   ],
   "source": [
    "categories.groupby(\"Subject\").count().sort_values(by = \"Name\", ascending=False)"
   ]
  },
  {
   "cell_type": "markdown",
   "id": "d7d5018e-6dd7-45ed-b3ba-45aa9863c5c8",
   "metadata": {},
   "source": [
    "Load articles dataset as well\n"
   ]
  },
  {
   "cell_type": "code",
   "execution_count": 9,
   "id": "51c5844e-4859-490a-8769-eb8dfd3bffee",
   "metadata": {},
   "outputs": [
    {
     "name": "stdout",
     "output_type": "stream",
     "text": [
      "Nr of available articles: 4604\n"
     ]
    }
   ],
   "source": [
    "\n",
    "nr_articles = len(articles)\n",
    "print(\"Nr of available articles:\", nr_articles)"
   ]
  },
  {
   "cell_type": "markdown",
   "id": "ebefa1fc-5382-41c2-9862-b28faaebfabf",
   "metadata": {},
   "source": [
    "Some articles have multiple categories"
   ]
  },
  {
   "cell_type": "code",
   "execution_count": 10,
   "id": "1e1e2383-2e05-4972-8c8a-ec64667af8f9",
   "metadata": {},
   "outputs": [
    {
     "name": "stdout",
     "output_type": "stream",
     "text": [
      "Number of articles: 4604, vs Number of names in categories: 5204\n"
     ]
    }
   ],
   "source": [
    "print(f\"Number of articles: {nr_articles}, vs Number of names in categories: {len(categories)}\")"
   ]
  },
  {
   "cell_type": "markdown",
   "id": "755829d5-60b1-4643-a745-4ec03ca8a9af",
   "metadata": {},
   "source": [
    "Articles that do not have an outgoing or incoming link"
   ]
  },
  {
   "cell_type": "code",
   "execution_count": 11,
   "id": "ddb9da4d-5bbe-477e-bc5d-60c574a221e4",
   "metadata": {},
   "outputs": [
    {
     "name": "stdout",
     "output_type": "stream",
     "text": [
      "There are 17 articles that have no link outgoing, and 469 articles that have no link pointing towards them\n"
     ]
    }
   ],
   "source": [
    "no_outgoing= list(set(articles.Name.tolist())-set(links.Outgoing.tolist()))\n",
    "nr_no_out = len(no_outgoing)\n",
    "no_incoming= list(set(articles.Name.tolist())-set(links.Incoming.tolist()))\n",
    "nr_no_in = len(no_incoming)\n",
    "print(f\"There are {nr_no_out} articles that have no link outgoing, and {nr_no_in} articles that have no link pointing towards them\")"
   ]
  },
  {
   "cell_type": "code",
   "execution_count": 12,
   "id": "fa2fb972-020f-44fc-b7ba-debad02ad5d8",
   "metadata": {},
   "outputs": [
    {
     "name": "stdout",
     "output_type": "stream",
     "text": [
      "The following articles are completly isolated with no hyperlinks connecting them:  ['Donation', 'Wowpurchase', 'Wikipedia_Text_of_the_GNU_Free_Documentation_License', 'Private_Peaceful', 'Vacutainer', 'Underground_%28stories%29', 'Lone_Wolf_%28gamebooks%29', 'Schatzki_ring', 'Badugi', 'Color_Graphics_Adapter', 'Suikinkutsu', 'Douglas_DC-4']\n"
     ]
    }
   ],
   "source": [
    "isolated_articles = list(set(no_outgoing) & set(no_incoming))\n",
    "print(\"The following articles are completly isolated with no hyperlinks connecting them: \", isolated_articles)"
   ]
  },
  {
   "cell_type": "code",
   "execution_count": 13,
   "id": "9dbd4d66-7c24-42f9-83f5-a870b7ef0a85",
   "metadata": {},
   "outputs": [],
   "source": [
    "summary = pd.DataFrame(index = articles.Name.tolist())\n",
    "summary = pd.concat([summary, links.Incoming.value_counts(), links.Outgoing.value_counts()], axis=1)\n",
    "summary = summary.reset_index().rename(columns={\"index\":\"Name\"})"
   ]
  },
  {
   "cell_type": "code",
   "execution_count": 14,
   "id": "a5382b0b-3fff-42a9-a84e-e1826420cdc7",
   "metadata": {},
   "outputs": [
    {
     "data": {
      "image/png": "[encoded data removed]",
      "text/plain": [
       "<Figure size 432x288 with 1 Axes>"
      ]
     },
     "metadata": {
      "needs_background": "light"
     },
     "output_type": "display_data"
    }
   ],
   "source": [
    "# Scatter plot\n",
    "ax = summary.plot.scatter(x='Incoming', y='Outgoing', alpha=0.5)"
   ]
  },
  {
   "cell_type": "code",
   "execution_count": 15,
   "id": "ca29bd8f-e031-4f3e-a60b-9a9c1a99b830",
   "metadata": {},
   "outputs": [
    {
     "data": {
      "text/plain": [
       "14245"
      ]
     },
     "execution_count": 15,
     "metadata": {},
     "output_type": "execute_result"
    }
   ],
   "source": [
    "len(paths.ip.unique())\n"
   ]
  },
  {
   "cell_type": "markdown",
   "id": "5aa4daf1-4d43-4c5d-80e7-7d0c7994ce7e",
   "metadata": {},
   "source": []
  },
  {
   "cell_type": "code",
   "execution_count": 16,
   "id": "e1de7d00-0e24-4fbf-925c-bbfe728e8abe",
   "metadata": {},
   "outputs": [
    {
     "data": {
      "text/plain": [
       "0.2775883235574956"
      ]
     },
     "execution_count": 16,
     "metadata": {},
     "output_type": "execute_result"
    }
   ],
   "source": [
    "len(paths.ip.unique())/len(paths)"
   ]
  },
  {
   "cell_type": "code",
   "execution_count": null,
   "id": "50372488-e8ad-4c75-9b43-ef8af3af781a",
   "metadata": {},
   "outputs": [],
   "source": []
  }
 ],
 "metadata": {
  "kernelspec": {
   "display_name": "Python 3.9.12 ('base')",
   "language": "python",
   "name": "python3"
  },
  "language_info": {
   "codemirror_mode": {
    "name": "ipython",
    "version": 3
   },
   "file_extension": ".py",
   "mimetype": "text/x-python",
   "name": "python",
   "nbconvert_exporter": "python",
   "pygments_lexer": "ipython3",
   "version": "3.9.12"
  },
  "vscode": {
   "interpreter": {
    "hash": "b9307fb2cefd6326959c09d339345e55d5d9c0811814ae72a34b56c197afb6f0"
   }
  }
 },
 "nbformat": 4,
 "nbformat_minor": 5
}
